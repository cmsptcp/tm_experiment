{
 "cells": [
  {
   "cell_type": "markdown",
   "metadata": {
    "collapsed": true,
    "pycharm": {
     "name": "#%% md\n"
    }
   },
   "source": [
    "## Eksperymenty z NLP i językiem polskim - NER & Klasyfikacja\n",
    "\n",
    "W NER wykorzystano model pl_core_news_lg i spacy (https://spacy.io/models/pl#pl_core_news_lg)\n",
    "Inne źródła: materiały z zajęć (Text Mining @ PW, 2021)"
   ]
  },
  {
   "cell_type": "code",
   "execution_count": 1,
   "metadata": {
    "pycharm": {
     "name": "#%%\n"
    }
   },
   "outputs": [],
   "source": [
    "# ! pip install spacy\n",
    "# ! python -m spacy download pl_core_news_lg"
   ]
  },
  {
   "cell_type": "code",
   "execution_count": 3,
   "metadata": {
    "pycharm": {
     "name": "#%%\n"
    }
   },
   "outputs": [],
   "source": [
    "import pandas as pd\n",
    "import spacy\n",
    "from spacy import displacy\n",
    "from spacy.lang.pl.examples import sentences\n",
    "from tqdm import tqdm\n",
    "import numpy as np\n",
    "import shutil\n",
    "import requests\n",
    "from pathlib import Path\n",
    "import collections\n",
    "from pprint import pprint"
   ]
  },
  {
   "cell_type": "markdown",
   "metadata": {
    "pycharm": {
     "name": "#%% md\n"
    }
   },
   "source": [
    "Ustawienia"
   ]
  },
  {
   "cell_type": "code",
   "execution_count": 4,
   "metadata": {
    "pycharm": {
     "name": "#%%\n"
    }
   },
   "outputs": [
    {
     "data": {
      "text/plain": "                                                  title  \\\n0     Spadki na Wall Street koniec sesji. Nasdaq znó...   \n1     Specjaliści od cyberbezpieczeństwa w administr...   \n2     Mark Brzezinski oficjalnie zaprzysiężony na am...   \n3     Portugalia wszczyna śledztwo w sprawie przyzna...   \n4          Szef MSZ Zbigniew Rau zakażony koronawirusem   \n...                                                 ...   \n2395  Możliwe osiągnięcie stanów ostrzegawczych. Ost...   \n2396  NFZ obcina stawki za testy na koronawirusa. Cz...   \n2397  Pogoda na dziś. Termometry pokażą od 2 do 5 st...   \n2398  \"Polskie prawo w sprawie inwigilacji nie odpow...   \n2399  Samochód zjechał do Narwi z mola w Serocku. \"W...   \n\n                                              title_int  \\\n0     Spadki na Wall Street koniec sesji. Nasdaq znó...   \n1     Specjaliści od cyberbezpieczeństwa w administr...   \n2     Mark Brzezinski oficjalnie zaprzysiężony na am...   \n3     Portugalia wszczyna śledztwo w sprawie przyzna...   \n4          Szef MSZ Zbigniew Rau zakażony koronawirusem   \n...                                                 ...   \n2395  Możliwe osiągnięcie stanów ostrzegawczych. Ost...   \n2396  NFZ obcina stawki za testy na obecność koronaw...   \n2397  Pogoda na dziś - sobota 15.01. Zachmurzenie bę...   \n2398  Rzecznik Praw Obywatelskich interweniuje u pre...   \n2399  Samochód zjechał do Narwi z mola w Serocku. \"W...   \n\n                                              lead_text  \\\n0     Środowa sesja na Wall Street zakończyła się sp...   \n1     Rada Ministrów przyjęła w środę rozporządzenie...   \n2     Wiceprezydent USA Kamala Harris oficjalnie zap...   \n3     Prokuratura generalna Portugalii wszczęła w śr...   \n4     Minister spraw zagranicznych Zbigniew Rau uzys...   \n...                                                 ...   \n2395  Instytut Meteorologii i Gospodarki Wodnej wyda...   \n2396                Materiał magazynu \"Polska i Świat\".   \n2397            W sobotę w całym kraju odczujemy chłód.   \n2398                       RPO interweniuje u premiera.   \n2399  Po około dwóch godzinach wyciągnęli auto na br...   \n\n                                          lead_text_int  \\\n0     Środowa sesja na Wall Street zakończyła się sp...   \n1     Rada Ministrów przyjęła w środę rozporządzenie...   \n2     Wiceprezydent USA Kamala Harris oficjalnie zap...   \n3     Prokuratura generalna Portugalii wszczęła w śr...   \n4     Minister spraw zagranicznych Zbigniew Rau uzys...   \n...                                                 ...   \n2395  Poziom wód w rejonie Żuław i Zalewu Wiślanego ...   \n2396  Narodowy Fundusz Zdrowia obciął stawki na poje...   \n2397  Pogoda na dziś. Sobota (15.01) upłynie pod zna...   \n2398  Rzecznik Praw Obywatelskich Marcin Wiącek wyst...   \n2399  W piątek wieczorem samochód zjechał z mola w S...   \n\n                                                   link  \\\n0     https://www.bankier.pl/wiadomosc/Wall-Street-w...   \n1     https://www.bankier.pl/wiadomosc/Specjalisci-o...   \n2     https://www.bankier.pl/wiadomosc/Mark-Brzezins...   \n3     https://www.bankier.pl/wiadomosc/Portugalia-ws...   \n4     https://www.bankier.pl/wiadomosc/Szef-MSZ-Zbig...   \n...                                                 ...   \n2395  https://tvn24.pl/tvnmeteo/prognoza/imgw-alerty...   \n2396  https://tvn24.pl/polska/koronawirus-w-polsce-n...   \n2397  https://tvn24.pl/tvnmeteo/prognoza/pogoda-na-d...   \n2398  https://tvn24.pl/polska/pegasus-rzecznik-praw-...   \n2399  https://tvn24.pl/tvnwarszawa/najnowsze/serock-...   \n\n                                                   text      when_published  \\\n0     Dow Jones Industrial na zamknięciu spadł o 339... 2022-01-19 22:12:00   \n1     Jak wyjaśniono, rozporządzenie określa zasady ... 2022-01-19 20:18:00   \n2     Podczas ceremonii w budynku Eisenhowera mieszc... 2022-01-19 20:17:00   \n3     Prokuratura generalna wyjaśniła, że przedmiote... 2022-01-19 20:11:00   \n4     \"Z uwagi na pozytywny wynik testu na SARS-CoV-... 2022-01-19 20:05:00   \n...                                                 ...                 ...   \n2395  \"W związku z prognozowanym silnym, sztormowym ... 2022-01-15 06:55:00   \n2396  Najpierw wymaz, a później badanie w budynku tu... 2022-01-15 06:32:00   \n2397  Na sobotę prognozowane jest zmienne zachmurzen... 2022-01-15 02:00:00   \n2398  OGLĄDAJ TVN24 W INTERNECIE W TVN24 GO Marcin W... 2022-01-14 22:49:00   \n2399  Do zdarzenia doszło w Serocku, w okolicach mol... 2022-01-14 20:04:00   \n\n               author          source   portal  \n0            kkr/ pr/      PAP Biznes  bankier  \n1            pif/ mk/             PAP  bankier  \n2          osk/ tebe/             PAP  bankier  \n3           zat/ mal/             PAP  bankier  \n4           wni/ mok/             PAP  bankier  \n...               ...             ...      ...  \n2395               ps       PAP, IMGW    tvn24  \n2396  AleksandraKąkol           TVN24    tvn24  \n2397              anw     tvnmeteo.pl    tvn24  \n2398         mjz//rzw             PAP    tvn24  \n2399             mp/r  tvnwarszawa.pl    tvn24  \n\n[2400 rows x 10 columns]",
      "text/html": "<div>\n<style scoped>\n    .dataframe tbody tr th:only-of-type {\n        vertical-align: middle;\n    }\n\n    .dataframe tbody tr th {\n        vertical-align: top;\n    }\n\n    .dataframe thead th {\n        text-align: right;\n    }\n</style>\n<table border=\"1\" class=\"dataframe\">\n  <thead>\n    <tr style=\"text-align: right;\">\n      <th></th>\n      <th>title</th>\n      <th>title_int</th>\n      <th>lead_text</th>\n      <th>lead_text_int</th>\n      <th>link</th>\n      <th>text</th>\n      <th>when_published</th>\n      <th>author</th>\n      <th>source</th>\n      <th>portal</th>\n    </tr>\n  </thead>\n  <tbody>\n    <tr>\n      <th>0</th>\n      <td>Spadki na Wall Street koniec sesji. Nasdaq znó...</td>\n      <td>Spadki na Wall Street koniec sesji. Nasdaq znó...</td>\n      <td>Środowa sesja na Wall Street zakończyła się sp...</td>\n      <td>Środowa sesja na Wall Street zakończyła się sp...</td>\n      <td>https://www.bankier.pl/wiadomosc/Wall-Street-w...</td>\n      <td>Dow Jones Industrial na zamknięciu spadł o 339...</td>\n      <td>2022-01-19 22:12:00</td>\n      <td>kkr/ pr/</td>\n      <td>PAP Biznes</td>\n      <td>bankier</td>\n    </tr>\n    <tr>\n      <th>1</th>\n      <td>Specjaliści od cyberbezpieczeństwa w administr...</td>\n      <td>Specjaliści od cyberbezpieczeństwa w administr...</td>\n      <td>Rada Ministrów przyjęła w środę rozporządzenie...</td>\n      <td>Rada Ministrów przyjęła w środę rozporządzenie...</td>\n      <td>https://www.bankier.pl/wiadomosc/Specjalisci-o...</td>\n      <td>Jak wyjaśniono, rozporządzenie określa zasady ...</td>\n      <td>2022-01-19 20:18:00</td>\n      <td>pif/ mk/</td>\n      <td>PAP</td>\n      <td>bankier</td>\n    </tr>\n    <tr>\n      <th>2</th>\n      <td>Mark Brzezinski oficjalnie zaprzysiężony na am...</td>\n      <td>Mark Brzezinski oficjalnie zaprzysiężony na am...</td>\n      <td>Wiceprezydent USA Kamala Harris oficjalnie zap...</td>\n      <td>Wiceprezydent USA Kamala Harris oficjalnie zap...</td>\n      <td>https://www.bankier.pl/wiadomosc/Mark-Brzezins...</td>\n      <td>Podczas ceremonii w budynku Eisenhowera mieszc...</td>\n      <td>2022-01-19 20:17:00</td>\n      <td>osk/ tebe/</td>\n      <td>PAP</td>\n      <td>bankier</td>\n    </tr>\n    <tr>\n      <th>3</th>\n      <td>Portugalia wszczyna śledztwo w sprawie przyzna...</td>\n      <td>Portugalia wszczyna śledztwo w sprawie przyzna...</td>\n      <td>Prokuratura generalna Portugalii wszczęła w śr...</td>\n      <td>Prokuratura generalna Portugalii wszczęła w śr...</td>\n      <td>https://www.bankier.pl/wiadomosc/Portugalia-ws...</td>\n      <td>Prokuratura generalna wyjaśniła, że przedmiote...</td>\n      <td>2022-01-19 20:11:00</td>\n      <td>zat/ mal/</td>\n      <td>PAP</td>\n      <td>bankier</td>\n    </tr>\n    <tr>\n      <th>4</th>\n      <td>Szef MSZ Zbigniew Rau zakażony koronawirusem</td>\n      <td>Szef MSZ Zbigniew Rau zakażony koronawirusem</td>\n      <td>Minister spraw zagranicznych Zbigniew Rau uzys...</td>\n      <td>Minister spraw zagranicznych Zbigniew Rau uzys...</td>\n      <td>https://www.bankier.pl/wiadomosc/Szef-MSZ-Zbig...</td>\n      <td>\"Z uwagi na pozytywny wynik testu na SARS-CoV-...</td>\n      <td>2022-01-19 20:05:00</td>\n      <td>wni/ mok/</td>\n      <td>PAP</td>\n      <td>bankier</td>\n    </tr>\n    <tr>\n      <th>...</th>\n      <td>...</td>\n      <td>...</td>\n      <td>...</td>\n      <td>...</td>\n      <td>...</td>\n      <td>...</td>\n      <td>...</td>\n      <td>...</td>\n      <td>...</td>\n      <td>...</td>\n    </tr>\n    <tr>\n      <th>2395</th>\n      <td>Możliwe osiągnięcie stanów ostrzegawczych. Ost...</td>\n      <td>Możliwe osiągnięcie stanów ostrzegawczych. Ost...</td>\n      <td>Instytut Meteorologii i Gospodarki Wodnej wyda...</td>\n      <td>Poziom wód w rejonie Żuław i Zalewu Wiślanego ...</td>\n      <td>https://tvn24.pl/tvnmeteo/prognoza/imgw-alerty...</td>\n      <td>\"W związku z prognozowanym silnym, sztormowym ...</td>\n      <td>2022-01-15 06:55:00</td>\n      <td>ps</td>\n      <td>PAP, IMGW</td>\n      <td>tvn24</td>\n    </tr>\n    <tr>\n      <th>2396</th>\n      <td>NFZ obcina stawki za testy na koronawirusa. Cz...</td>\n      <td>NFZ obcina stawki za testy na obecność koronaw...</td>\n      <td>Materiał magazynu \"Polska i Świat\".</td>\n      <td>Narodowy Fundusz Zdrowia obciął stawki na poje...</td>\n      <td>https://tvn24.pl/polska/koronawirus-w-polsce-n...</td>\n      <td>Najpierw wymaz, a później badanie w budynku tu...</td>\n      <td>2022-01-15 06:32:00</td>\n      <td>AleksandraKąkol</td>\n      <td>TVN24</td>\n      <td>tvn24</td>\n    </tr>\n    <tr>\n      <th>2397</th>\n      <td>Pogoda na dziś. Termometry pokażą od 2 do 5 st...</td>\n      <td>Pogoda na dziś - sobota 15.01. Zachmurzenie bę...</td>\n      <td>W sobotę w całym kraju odczujemy chłód.</td>\n      <td>Pogoda na dziś. Sobota (15.01) upłynie pod zna...</td>\n      <td>https://tvn24.pl/tvnmeteo/prognoza/pogoda-na-d...</td>\n      <td>Na sobotę prognozowane jest zmienne zachmurzen...</td>\n      <td>2022-01-15 02:00:00</td>\n      <td>anw</td>\n      <td>tvnmeteo.pl</td>\n      <td>tvn24</td>\n    </tr>\n    <tr>\n      <th>2398</th>\n      <td>\"Polskie prawo w sprawie inwigilacji nie odpow...</td>\n      <td>Rzecznik Praw Obywatelskich interweniuje u pre...</td>\n      <td>RPO interweniuje u premiera.</td>\n      <td>Rzecznik Praw Obywatelskich Marcin Wiącek wyst...</td>\n      <td>https://tvn24.pl/polska/pegasus-rzecznik-praw-...</td>\n      <td>OGLĄDAJ TVN24 W INTERNECIE W TVN24 GO Marcin W...</td>\n      <td>2022-01-14 22:49:00</td>\n      <td>mjz//rzw</td>\n      <td>PAP</td>\n      <td>tvn24</td>\n    </tr>\n    <tr>\n      <th>2399</th>\n      <td>Samochód zjechał do Narwi z mola w Serocku. \"W...</td>\n      <td>Samochód zjechał do Narwi z mola w Serocku. \"W...</td>\n      <td>Po około dwóch godzinach wyciągnęli auto na br...</td>\n      <td>W piątek wieczorem samochód zjechał z mola w S...</td>\n      <td>https://tvn24.pl/tvnwarszawa/najnowsze/serock-...</td>\n      <td>Do zdarzenia doszło w Serocku, w okolicach mol...</td>\n      <td>2022-01-14 20:04:00</td>\n      <td>mp/r</td>\n      <td>tvnwarszawa.pl</td>\n      <td>tvn24</td>\n    </tr>\n  </tbody>\n</table>\n<p>2400 rows × 10 columns</p>\n</div>"
     },
     "execution_count": 4,
     "metadata": {},
     "output_type": "execute_result"
    }
   ],
   "source": [
    "dataframe_file_path = './data/big/dfnlp2400_1642721436.parquet'\n",
    "df = pd.read_parquet(dataframe_file_path)\n",
    "portals = ['bankier', 'naszdziennik', 'niebezpiecznik', 'onet', 'pcworld', 'plotek', 'pr24', 'tvn24']\n",
    "df"
   ]
  },
  {
   "cell_type": "markdown",
   "metadata": {
    "pycharm": {
     "name": "#%% md\n"
    }
   },
   "source": [
    "Kilka dodatkowych zmian:"
   ]
  },
  {
   "cell_type": "code",
   "execution_count": 5,
   "metadata": {
    "pycharm": {
     "name": "#%%\n"
    }
   },
   "outputs": [],
   "source": [
    "# opcja: dodanie kolumny lead_and_text zawierającej połaczenie kolumn lead_text oraz text\n",
    "df['lead_and_text'] = df.apply(lambda x: x.lead_text if len(x.lead_text) >= len(x.lead_text_int) else x.lead_text_int, axis=1) + ' ' + df.text"
   ]
  },
  {
   "cell_type": "markdown",
   "metadata": {},
   "source": [
    "Konfiguracja NLP i spacy"
   ]
  },
  {
   "cell_type": "code",
   "execution_count": 6,
   "metadata": {
    "pycharm": {
     "name": "#%%\n"
    }
   },
   "outputs": [],
   "source": [
    "nlp = spacy.load(\"pl_core_news_lg\")"
   ]
  },
  {
   "cell_type": "code",
   "execution_count": 6,
   "metadata": {
    "pycharm": {
     "name": "#%%\n"
    }
   },
   "outputs": [
    {
     "name": "stdout",
     "output_type": "stream",
     "text": [
      "['tok2vec', 'morphologizer', 'parser', 'tagger', 'attribute_ruler', 'lemmatizer', 'ner']\n"
     ]
    }
   ],
   "source": [
    "print(nlp.pipe_names)"
   ]
  },
  {
   "cell_type": "markdown",
   "metadata": {
    "pycharm": {
     "name": "#%% md\n"
    }
   },
   "source": [
    "### Czyszczenie korpusu - lematyzacja"
   ]
  },
  {
   "cell_type": "code",
   "execution_count": 7,
   "metadata": {
    "pycharm": {
     "name": "#%%\n"
    }
   },
   "outputs": [],
   "source": [
    "def clean_with_spacy(spacy_doc):\n",
    "    tokens_cl = [(str(token.lemma_.lower())) for token in spacy_doc\n",
    "                 if not any([token.is_punct, token.is_stop, token.like_num, token.is_currency, token.like_email, not(token.is_alpha)])]\n",
    "    return \" \".join(tokens_cl).strip()"
   ]
  },
  {
   "cell_type": "code",
   "execution_count": 8,
   "metadata": {
    "pycharm": {
     "name": "#%%\n"
    }
   },
   "outputs": [],
   "source": [
    "def spacy_pipeline(dataframe, text_col):\n",
    "    text_cleaned = []\n",
    "    for doc in tqdm(nlp.pipe(dataframe[text_col])):\n",
    "        text_cleaned.append(clean_with_spacy(doc))\n",
    "    return text_cleaned"
   ]
  },
  {
   "cell_type": "code",
   "execution_count": 98,
   "metadata": {
    "pycharm": {
     "name": "#%%\n"
    }
   },
   "outputs": [
    {
     "name": "stderr",
     "output_type": "stream",
     "text": [
      "2400it [00:05, 476.83it/s]"
     ]
    },
    {
     "name": "stdout",
     "output_type": "stream",
     "text": [
      "Wall time: 5.04 s\n"
     ]
    },
    {
     "name": "stderr",
     "output_type": "stream",
     "text": [
      "\n"
     ]
    }
   ],
   "source": [
    "%%time\n",
    "df[\"clean_title\"] = spacy_pipeline(df, \"title\")"
   ]
  },
  {
   "cell_type": "code",
   "execution_count": 99,
   "metadata": {
    "pycharm": {
     "name": "#%%\n"
    }
   },
   "outputs": [
    {
     "name": "stderr",
     "output_type": "stream",
     "text": [
      "2400it [00:10, 221.45it/s]"
     ]
    },
    {
     "name": "stdout",
     "output_type": "stream",
     "text": [
      "Wall time: 10.8 s\n"
     ]
    },
    {
     "name": "stderr",
     "output_type": "stream",
     "text": [
      "\n"
     ]
    }
   ],
   "source": [
    "%%time\n",
    "df[\"clean_lead_text\"] = spacy_pipeline(df, \"lead_text\")"
   ]
  },
  {
   "cell_type": "code",
   "execution_count": 100,
   "metadata": {
    "pycharm": {
     "name": "#%%\n"
    }
   },
   "outputs": [
    {
     "name": "stderr",
     "output_type": "stream",
     "text": [
      "2400it [04:13,  9.48it/s]"
     ]
    },
    {
     "name": "stdout",
     "output_type": "stream",
     "text": [
      "Wall time: 4min 13s\n"
     ]
    },
    {
     "name": "stderr",
     "output_type": "stream",
     "text": [
      "\n"
     ]
    }
   ],
   "source": [
    "%%time\n",
    "df[\"clean_lead_and_text\"] = spacy_pipeline(df, \"lead_and_text\")"
   ]
  },
  {
   "cell_type": "code",
   "execution_count": 11,
   "metadata": {
    "pycharm": {
     "name": "#%%\n"
    }
   },
   "outputs": [
    {
     "name": "stdout",
     "output_type": "stream",
     "text": [
      "lead_text[1027]:\n",
      "  Wiceminister edukacji wyraził obawy, że mogą pojawić się zajęcia w szkołach, które \"wychowują bandytów\". W reakcji na to Joanna Scheuring-Wielgus pokazała na tablecie zdjęcie dzieci Tomasza Rzymkowskiego, które swego czasu polityk udostępnił na Twitterze. Na fotografii widać, jak małe dzieci \"celują\" palcami do manekina ubranego w strój bolszewika. — Czy pan uważa, że dzieci powinny celować w manekina. To jest wspaniałe? — pytała posłanka Lewicy w programie \"7. Dzień Tygodnia\".\n",
      "clean_lead_text[1027]:\n",
      "  wiceminister edukacja wyrazić obawa pojawić zajęcie szkoła wychowywać bandyta reakcja joanna scheuring wielgus pokazać tablet zdjęcie dziecko tomasz rzymkowski swego czas polityka udostępnić twitterze fotografia widać mały dziecko celować palec manekin ubrany strój bolszewik uważać dziecko powinny celować manekin wspaniały pytać posłanek lewicy program dzienie tydzień\n"
     ]
    }
   ],
   "source": [
    "i = np.random.randint(low=0, high=len(df.index))\n",
    "print(f'lead_text[{i}]:\\n  {df.iloc[i][\"lead_text\"]}')\n",
    "print(f'clean_lead_text[{i}]:\\n  {df.iloc[i][\"clean_lead_text\"]}')\n",
    "# print(f'text[{i}]:\\n  {df.iloc[i][\"text\"]}')\n",
    "# print(f'clean_text[{i}]:\\n  {df.iloc[i][\"clean_text\"]}')"
   ]
  },
  {
   "cell_type": "markdown",
   "metadata": {},
   "source": [
    "### Named Entity Recognition"
   ]
  },
  {
   "cell_type": "markdown",
   "metadata": {},
   "source": [
    "#### NER - eksperyment 1\n",
    "Rozpoznawanie Bytów Nazwanych dla losowego tekstu artykułu"
   ]
  },
  {
   "cell_type": "code",
   "execution_count": 28,
   "metadata": {
    "pycharm": {
     "name": "#%%\n"
    }
   },
   "outputs": [
    {
     "name": "stdout",
     "output_type": "stream",
     "text": [
      "index: 373\n",
      "title: Murem za kurator Nowak\n"
     ]
    },
    {
     "data": {
      "text/html": [
       "<span class=\"tex2jax_ignore\"><div class=\"entities\" style=\"line-height: 2.5; direction: ltr\">Akcja \n",
       "<mark class=\"entity\" style=\"background: #ddd; padding: 0.45em 0.6em; margin: 0 0.25em; line-height: 1; border-radius: 0.35em;\">\n",
       "    Katolicka Archidiecezji Częstochowskiej\n",
       "    <span style=\"font-size: 0.8em; font-weight: bold; line-height: 1; border-radius: 0.35em; vertical-align: middle; margin-left: 0.5rem\">orgName</span>\n",
       "</mark>\n",
       " staje w obronie \n",
       "<mark class=\"entity\" style=\"background: #ddd; padding: 0.45em 0.6em; margin: 0 0.25em; line-height: 1; border-radius: 0.35em;\">\n",
       "    małopolskiej\n",
       "    <span style=\"font-size: 0.8em; font-weight: bold; line-height: 1; border-radius: 0.35em; vertical-align: middle; margin-left: 0.5rem\">placeName</span>\n",
       "</mark>\n",
       " kurator oświaty. Przystąpili Państwo do akcji „Murem za kurator \n",
       "<mark class=\"entity\" style=\"background: #ddd; padding: 0.45em 0.6em; margin: 0 0.25em; line-height: 1; border-radius: 0.35em;\">\n",
       "    Nowak”.\n",
       "    <span style=\"font-size: 0.8em; font-weight: bold; line-height: 1; border-radius: 0.35em; vertical-align: middle; margin-left: 0.5rem\">persName</span>\n",
       "</mark>\n",
       "– Nie ma zgody środowisk katolickich na odwołanie pani</div></span>"
      ],
      "text/plain": [
       "<IPython.core.display.HTML object>"
      ]
     },
     "metadata": {},
     "output_type": "display_data"
    }
   ],
   "source": [
    "# Named Entity Recognition for random article lead_text\n",
    "i = np.random.randint(low=0, high=len(df.index))\n",
    "doc = nlp(df.iloc[i]['text'])\n",
    "print(f'index: {i}\\ntitle: {df.iloc[i].title}')\n",
    "rows = []\n",
    "for ent in doc.ents:\n",
    "    rows.append ([ent.text, ent.start_char, ent.end_char, ent.label_])\n",
    "\n",
    "example_result = pd.DataFrame(rows, columns = [\"TEXT\", \"START\", \"END\", \"LABEL\"])\n",
    "displacy.render(doc, style=\"ent\")"
   ]
  },
  {
   "cell_type": "code",
   "execution_count": 30,
   "metadata": {
    "pycharm": {
     "name": "#%%\n"
    }
   },
   "outputs": [
    {
     "data": {
      "text/html": [
       "<div>\n",
       "<style scoped>\n",
       "    .dataframe tbody tr th:only-of-type {\n",
       "        vertical-align: middle;\n",
       "    }\n",
       "\n",
       "    .dataframe tbody tr th {\n",
       "        vertical-align: top;\n",
       "    }\n",
       "\n",
       "    .dataframe thead th {\n",
       "        text-align: right;\n",
       "    }\n",
       "</style>\n",
       "<table border=\"1\" class=\"dataframe\">\n",
       "  <thead>\n",
       "    <tr style=\"text-align: right;\">\n",
       "      <th></th>\n",
       "      <th>TEXT</th>\n",
       "      <th>START</th>\n",
       "      <th>END</th>\n",
       "      <th>LABEL</th>\n",
       "    </tr>\n",
       "  </thead>\n",
       "  <tbody>\n",
       "    <tr>\n",
       "      <th>0</th>\n",
       "      <td>Katolicka Archidiecezji Częstochowskiej</td>\n",
       "      <td>6</td>\n",
       "      <td>45</td>\n",
       "      <td>orgName</td>\n",
       "    </tr>\n",
       "    <tr>\n",
       "      <th>1</th>\n",
       "      <td>małopolskiej</td>\n",
       "      <td>62</td>\n",
       "      <td>74</td>\n",
       "      <td>placeName</td>\n",
       "    </tr>\n",
       "    <tr>\n",
       "      <th>2</th>\n",
       "      <td>Nowak”.</td>\n",
       "      <td>139</td>\n",
       "      <td>146</td>\n",
       "      <td>persName</td>\n",
       "    </tr>\n",
       "  </tbody>\n",
       "</table>\n",
       "</div>"
      ],
      "text/plain": [
       "                                      TEXT  START  END      LABEL\n",
       "0  Katolicka Archidiecezji Częstochowskiej      6   45    orgName\n",
       "1                             małopolskiej     62   74  placeName\n",
       "2                                  Nowak”.    139  146   persName"
      ]
     },
     "execution_count": 30,
     "metadata": {},
     "output_type": "execute_result"
    }
   ],
   "source": [
    "example_result\n"
   ]
  },
  {
   "cell_type": "code",
   "execution_count": 24,
   "metadata": {
    "pycharm": {
     "name": "#%%\n"
    }
   },
   "outputs": [],
   "source": [
    "# dobre tylko, gdy chcemy pokazać kilka krótkich zdań, w przeciwnym wypadku chaos i zjedzenie pamięci komputera\n",
    "# sentence_spans = list(doc.sents)\n",
    "# displacy.render(sentence_spans, style=\"dep\")"
   ]
  },
  {
   "cell_type": "code",
   "execution_count": 29,
   "metadata": {
    "pycharm": {
     "name": "#%%\n"
    }
   },
   "outputs": [
    {
     "name": "stdout",
     "output_type": "stream",
     "text": [
      "index: 373\n",
      "title: Murem za kurator Nowak\n"
     ]
    },
    {
     "data": {
      "text/html": [
       "<span class=\"tex2jax_ignore\"><svg xmlns=\"http://www.w3.org/2000/svg\" xmlns:xlink=\"http://www.w3.org/1999/xlink\" xml:lang=\"pl\" id=\"e405ae5f00684b3fa09953766cc167af-0\" class=\"displacy\" width=\"750\" height=\"312.0\" direction=\"ltr\" style=\"max-width: none; height: 312.0px; color: #000000; background: #ffffff; font-family: Arial; direction: ltr\">\n",
       "<text class=\"displacy-token\" fill=\"currentColor\" text-anchor=\"middle\" y=\"222.0\">\n",
       "    <tspan class=\"displacy-word\" fill=\"currentColor\" x=\"50\">Murem</tspan>\n",
       "    <tspan class=\"displacy-tag\" dy=\"2em\" fill=\"currentColor\" x=\"50\">NOUN</tspan>\n",
       "</text>\n",
       "\n",
       "<text class=\"displacy-token\" fill=\"currentColor\" text-anchor=\"middle\" y=\"222.0\">\n",
       "    <tspan class=\"displacy-word\" fill=\"currentColor\" x=\"225\">za</tspan>\n",
       "    <tspan class=\"displacy-tag\" dy=\"2em\" fill=\"currentColor\" x=\"225\">ADP</tspan>\n",
       "</text>\n",
       "\n",
       "<text class=\"displacy-token\" fill=\"currentColor\" text-anchor=\"middle\" y=\"222.0\">\n",
       "    <tspan class=\"displacy-word\" fill=\"currentColor\" x=\"400\">kurator</tspan>\n",
       "    <tspan class=\"displacy-tag\" dy=\"2em\" fill=\"currentColor\" x=\"400\">NOUN</tspan>\n",
       "</text>\n",
       "\n",
       "<text class=\"displacy-token\" fill=\"currentColor\" text-anchor=\"middle\" y=\"222.0\">\n",
       "    <tspan class=\"displacy-word\" fill=\"currentColor\" x=\"575\">Nowak</tspan>\n",
       "    <tspan class=\"displacy-tag\" dy=\"2em\" fill=\"currentColor\" x=\"575\">PROPN</tspan>\n",
       "</text>\n",
       "\n",
       "<g class=\"displacy-arrow\">\n",
       "    <path class=\"displacy-arc\" id=\"arrow-e405ae5f00684b3fa09953766cc167af-0-0\" stroke-width=\"2px\" d=\"M245,177.0 C245,89.5 395.0,89.5 395.0,177.0\" fill=\"none\" stroke=\"currentColor\"/>\n",
       "    <text dy=\"1.25em\" style=\"font-size: 0.8em; letter-spacing: 1px\">\n",
       "        <textPath xlink:href=\"#arrow-e405ae5f00684b3fa09953766cc167af-0-0\" class=\"displacy-label\" startOffset=\"50%\" side=\"left\" fill=\"currentColor\" text-anchor=\"middle\">case</textPath>\n",
       "    </text>\n",
       "    <path class=\"displacy-arrowhead\" d=\"M245,179.0 L237,167.0 253,167.0\" fill=\"currentColor\"/>\n",
       "</g>\n",
       "\n",
       "<g class=\"displacy-arrow\">\n",
       "    <path class=\"displacy-arc\" id=\"arrow-e405ae5f00684b3fa09953766cc167af-0-1\" stroke-width=\"2px\" d=\"M70,177.0 C70,2.0 400.0,2.0 400.0,177.0\" fill=\"none\" stroke=\"currentColor\"/>\n",
       "    <text dy=\"1.25em\" style=\"font-size: 0.8em; letter-spacing: 1px\">\n",
       "        <textPath xlink:href=\"#arrow-e405ae5f00684b3fa09953766cc167af-0-1\" class=\"displacy-label\" startOffset=\"50%\" side=\"left\" fill=\"currentColor\" text-anchor=\"middle\">nmod</textPath>\n",
       "    </text>\n",
       "    <path class=\"displacy-arrowhead\" d=\"M400.0,179.0 L408.0,167.0 392.0,167.0\" fill=\"currentColor\"/>\n",
       "</g>\n",
       "\n",
       "<g class=\"displacy-arrow\">\n",
       "    <path class=\"displacy-arc\" id=\"arrow-e405ae5f00684b3fa09953766cc167af-0-2\" stroke-width=\"2px\" d=\"M420,177.0 C420,89.5 570.0,89.5 570.0,177.0\" fill=\"none\" stroke=\"currentColor\"/>\n",
       "    <text dy=\"1.25em\" style=\"font-size: 0.8em; letter-spacing: 1px\">\n",
       "        <textPath xlink:href=\"#arrow-e405ae5f00684b3fa09953766cc167af-0-2\" class=\"displacy-label\" startOffset=\"50%\" side=\"left\" fill=\"currentColor\" text-anchor=\"middle\">appos</textPath>\n",
       "    </text>\n",
       "    <path class=\"displacy-arrowhead\" d=\"M570.0,179.0 L578.0,167.0 562.0,167.0\" fill=\"currentColor\"/>\n",
       "</g>\n",
       "</svg></span>"
      ],
      "text/plain": [
       "<IPython.core.display.HTML object>"
      ]
     },
     "metadata": {},
     "output_type": "display_data"
    }
   ],
   "source": [
    "# NLP for random article title - dependencies for title\n",
    "doc2 = nlp(df.iloc[i]['title'])\n",
    "print(f'index: {i}\\ntitle: {df.iloc[i].title}')\n",
    "\n",
    "displacy.render(doc2, style='dep')"
   ]
  },
  {
   "cell_type": "markdown",
   "metadata": {
    "pycharm": {
     "name": "#%% md\n"
    }
   },
   "source": [
    "Wnioski:\n",
    "1. Bardzo wiele bytów nazwanych zostało prawidłowo rozpoznane\n",
    "2. Część bytów nie została oznaczona (co ciekawe - niektóre nazwy występują w tekście o wiele więcej razy niż oznaczone rozpoznania)\n",
    "3. Czasami nieprawidłowo został rozpoznany typ bytu (np. aplikacja Pegasus jest rozpoznawana jako organizacja)"
   ]
  },
  {
   "cell_type": "markdown",
   "metadata": {
    "pycharm": {
     "name": "#%% md\n"
    }
   },
   "source": [
    "#### NER - eksperyment 2\n",
    "Statystyki dla poszczególnych portali i dla wszystkich razem dla kolumn title oraz lead_and_text"
   ]
  },
  {
   "cell_type": "code",
   "execution_count": 16,
   "metadata": {
    "pycharm": {
     "name": "#%%\n"
    }
   },
   "outputs": [],
   "source": [
    "# create dataframes to store data about Named Entities in titles\n",
    "titles_ner_freq_dfs = dict()\n",
    "lead_and_text_ner_freq_dfs = dict()\n",
    "dtypes = {'text': pd.Series(dtype='str'),\n",
    "          'label': pd.Series(dtype='str'),\n",
    "          'frequency': pd.Series(dtype='int')}\n",
    "\n",
    "# pd.DataFrame(dtypes)\n",
    "titles_ner_freq_dfs['full'] = None\n",
    "lead_and_text_ner_freq_dfs['full'] = None\n",
    "for portal in portals:\n",
    "    titles_ner_freq_dfs[portal] = None\n",
    "    lead_and_text_ner_freq_dfs[portal] = None"
   ]
  },
  {
   "cell_type": "markdown",
   "metadata": {
    "pycharm": {
     "name": "#%% md\n"
    }
   },
   "source": [
    "Statystyki NER dla wszystkich tytułów z bankiera"
   ]
  },
  {
   "cell_type": "code",
   "execution_count": 17,
   "metadata": {
    "pycharm": {
     "name": "#%%\n"
    }
   },
   "outputs": [
    {
     "data": {
      "text/plain": [
       "[(('Polsce', 'placeName'), 10),\n",
       " (('Polski', 'placeName'), 9),\n",
       " (('PGNiG', 'orgName'), 7),\n",
       " (('Polskiego', 'placeName'), 6),\n",
       " (('NIK', 'orgName'), 6),\n",
       " (('PGE', 'orgName'), 5),\n",
       " (('Ukrainy', 'placeName'), 5),\n",
       " (('Tusk', 'persName'), 5),\n",
       " (('Chin', 'placeName'), 4),\n",
       " (('Polskim', 'placeName'), 4),\n",
       " (('ZUS', 'orgName'), 4),\n",
       " (('NBP', 'orgName'), 4),\n",
       " (('Polska', 'placeName'), 4),\n",
       " (('KE', 'orgName'), 4),\n",
       " (('UE', 'orgName'), 4),\n",
       " (('Polacy', 'placeName'), 4),\n",
       " (('Polaków', 'placeName'), 4),\n",
       " (('USA', 'placeName'), 3),\n",
       " (('PiS', 'orgName'), 3),\n",
       " (('Kukiz', 'persName'), 3),\n",
       " (('Kruk', 'persName'), 3),\n",
       " (('RPP', 'orgName'), 3),\n",
       " (('Wielkiej Brytanii', 'placeName'), 3),\n",
       " (('UOKiK', 'orgName'), 3),\n",
       " (('polskich', 'placeName'), 3),\n",
       " (('Müller', 'persName'), 2),\n",
       " (('PO', 'orgName'), 2),\n",
       " (('Tonga', 'placeName'), 2),\n",
       " (('Czechach', 'placeName'), 2),\n",
       " (('BM mBanku', 'orgName'), 2),\n",
       " (('KAS', 'orgName'), 2),\n",
       " (('Moskwie', 'placeName'), 2),\n",
       " (('Norwegii', 'placeName'), 2),\n",
       " (('Pekinie', 'placeName'), 2),\n",
       " (('Chinach', 'placeName'), 2),\n",
       " (('Ukrainie', 'placeName'), 2),\n",
       " (('Wielka Brytania', 'placeName'), 2),\n",
       " (('2022 r.', 'date'), 2),\n",
       " (('Niemcy', 'placeName'), 2),\n",
       " (('Ukrainę', 'placeName'), 2),\n",
       " (('Fed', 'orgName'), 2),\n",
       " (('Witek', 'persName'), 2),\n",
       " (('Sejmu', 'orgName'), 2),\n",
       " (('Niedzielski', 'persName'), 2),\n",
       " (('Brejza', 'persName'), 2),\n",
       " (('Andrusiewicz', 'persName'), 2),\n",
       " (('TK', 'orgName'), 2),\n",
       " (('Pandemia', 'orgName'), 2),\n",
       " (('JSW', 'orgName'), 2),\n",
       " (('ONZ', 'orgName'), 2),\n",
       " (('PKN Orlen', 'orgName'), 2),\n",
       " (('Rosja', 'placeName'), 2),\n",
       " (('Ziobro', 'persName'), 2),\n",
       " (('Polskie', 'placeName'), 2),\n",
       " (('2021 r.', 'date'), 2),\n",
       " (('Rady Medycznej', 'orgName'), 2),\n",
       " (('Activision Blizzard', 'orgName'), 2),\n",
       " (('Johnson', 'persName'), 2),\n",
       " (('MF', 'orgName'), 2),\n",
       " (('MZ', 'orgName'), 2),\n",
       " (('Obajtek', 'persName'), 2),\n",
       " (('GPW', 'orgName'), 2),\n",
       " (('Holandii', 'placeName'), 2),\n",
       " (('Wall Street', 'geogName'), 1),\n",
       " (('Mark Brzezinski', 'persName'), 1),\n",
       " (('Portugalia', 'placeName'), 1),\n",
       " (('Rosji', 'placeName'), 1),\n",
       " (('Romanowi Abramowiczowi', 'persName'), 1),\n",
       " (('MSZ', 'orgName'), 1),\n",
       " (('Zbigniew Rau', 'persName'), 1),\n",
       " (('Novak Djokovic', 'persName'), 1),\n",
       " (('Pawłem Kukizem', 'persName'), 1),\n",
       " (('komisji śledczej', 'orgName'), 1),\n",
       " (('Lentex', 'orgName'), 1),\n",
       " (('One Solution', 'orgName'), 1),\n",
       " (('24 stycznia', 'date'), 1),\n",
       " (('Żywiec', 'placeName'), 1),\n",
       " (('ŚUCS', 'persName'), 1),\n",
       " (('Czech', 'placeName'), 1),\n",
       " (('ABB', 'orgName'), 1),\n",
       " (('Mercator Medical', 'orgName'), 1),\n",
       " (('CCC', 'orgName'), 1),\n",
       " (('Santandera BP', 'orgName'), 1),\n",
       " (('BNP Paribas BP', 'orgName'), 1),\n",
       " (('Ukraińców', 'placeName'), 1),\n",
       " (('ZAP-X', 'orgName'), 1),\n",
       " (('Lotos', 'orgName'), 1),\n",
       " (('KIO', 'orgName'), 1),\n",
       " (('Mirbudem', 'orgName'), 1),\n",
       " (('stycznia', 'date'), 1),\n",
       " (('Pb95', 'orgName'), 1),\n",
       " (('Marcin Król', 'persName'), 1),\n",
       " (('RP', 'placeName'), 1),\n",
       " (('Berlinie', 'placeName'), 1),\n",
       " (('2050', 'date'), 1),\n",
       " (('Macron', 'persName'), 1),\n",
       " (('europejskiej', 'placeName'), 1),\n",
       " (('Krakowska', 'placeName'), 1),\n",
       " (('PSG', 'orgName'), 1),\n",
       " (('Ikea', 'orgName'), 1),\n",
       " (('Turcja', 'placeName'), 1),\n",
       " (('Apple', 'orgName'), 1),\n",
       " (('Turów', 'placeName'), 1),\n",
       " (('Zełenski', 'persName'), 1),\n",
       " (('Blinkenem', 'persName'), 1),\n",
       " (('PZU', 'orgName'), 1),\n",
       " (('Azji', 'geogName'), 1),\n",
       " (('Pegasusa', 'persName'), 1),\n",
       " (('Skarb Państwa 214,6-374 mln akcji serii E', 'orgName'), 1),\n",
       " (('NewConnect', 'orgName'), 1),\n",
       " (('Janczyk', 'persName'), 1),\n",
       " (('Koreański', 'placeName'), 1),\n",
       " (('Dolnym Śląsku', 'geogName'), 1),\n",
       " (('Joachim Brudziński', 'persName'), 1),\n",
       " (('PE', 'orgName'), 1),\n",
       " (('Ostrowska', 'persName'), 1),\n",
       " (('SN', 'orgName'), 1),\n",
       " (('Budką', 'persName'), 1),\n",
       " (('Portugalii', 'placeName'), 1),\n",
       " (('Agata Duda', 'persName'), 1),\n",
       " (('KO', 'persName'), 1),\n",
       " (('chińskiego', 'placeName'), 1),\n",
       " (('AliExpress', 'orgName'), 1),\n",
       " (('mPay', 'orgName'), 1),\n",
       " (('Unia Europejska', 'orgName'), 1),\n",
       " (('Talibowie', 'placeName'), 1),\n",
       " (('Mołdawia', 'placeName'), 1),\n",
       " (('Xi Jinping', 'persName'), 1),\n",
       " (('Modzelewski', 'persName'), 1),\n",
       " (('CPK', 'orgName'), 1),\n",
       " (('Pieskow', 'persName'), 1),\n",
       " (('Zachodu', 'orgName'), 1),\n",
       " (('Novavax', 'orgName'), 1),\n",
       " (('21 lutego', 'date'), 1),\n",
       " (('grudniu 2021', 'date'), 1),\n",
       " (('Ziobry', 'orgName'), 1),\n",
       " (('ETPC', 'orgName'), 1),\n",
       " (('2021', 'date'), 1),\n",
       " (('Węgry', 'placeName'), 1),\n",
       " (('Francja', 'placeName'), 1),\n",
       " (('Merkel', 'persName'), 1),\n",
       " (('LPP', 'orgName'), 1),\n",
       " (('Rzeszowem', 'placeName'), 1),\n",
       " (('Rosja', 'orgName'), 1),\n",
       " (('Elżbiety Witek', 'persName'), 1),\n",
       " (('NCBR', 'orgName'), 1),\n",
       " (('Erdogan', 'placeName'), 1),\n",
       " (('Rosją', 'orgName'), 1),\n",
       " (('Ukrainą', 'placeName'), 1),\n",
       " (('2021 roku', 'date'), 1),\n",
       " (('Niemiecka', 'placeName'), 1),\n",
       " (('Bundy', 'persName'), 1),\n",
       " (('Kazachstanu', 'placeName'), 1),\n",
       " (('Iraku', 'placeName'), 1),\n",
       " (('Turcji', 'placeName'), 1),\n",
       " (('Ukraina', 'placeName'), 1),\n",
       " (('unijne', 'orgName'), 1),\n",
       " (('radio ostrzegą', 'orgName'), 1),\n",
       " (('Giertycha', 'persName'), 1),\n",
       " (('19 stycznia 2022 r.', 'date'), 1),\n",
       " (('Fiński', 'placeName'), 1),\n",
       " (('grudnia', 'date'), 1),\n",
       " (('Johnsona', 'persName'), 1),\n",
       " (('brytyjski', 'placeName'), 1),\n",
       " (('Pegasusie', 'persName'), 1),\n",
       " (('Moskwa', 'placeName'), 1),\n",
       " (('Belgijski', 'placeName'), 1),\n",
       " (('Amazonii', 'geogName'), 1),\n",
       " (('Niemiec', 'placeName'), 1),\n",
       " (('Nord Stream', 'orgName'), 1),\n",
       " (('Świnoujściu', 'placeName'), 1),\n",
       " (('MRiT', 'orgName'), 1),\n",
       " (('Onet', 'orgName'), 1),\n",
       " (('MEiN', 'persName'), 1),\n",
       " (('Przemysław Czarnek', 'persName'), 1),\n",
       " (('Grupy', 'orgName'), 1),\n",
       " (('Microsoft', 'orgName'), 1),\n",
       " (('Konfederacja Lewiatan', 'orgName'), 1),\n",
       " (('Sugalski', 'persName'), 1),\n",
       " (('Brejzy', 'persName'), 1),\n",
       " (('Enea', 'orgName'), 1),\n",
       " (('EY', 'orgName'), 1),\n",
       " (('UKE', 'orgName'), 1),\n",
       " (('BM Pekao', 'orgName'), 1),\n",
       " (('Orlenem', 'orgName'), 1),\n",
       " (('STS Holding', 'orgName'), 1),\n",
       " (('Szydło', 'persName'), 1),\n",
       " (('BOR', 'orgName'), 1),\n",
       " (('BFG', 'orgName'), 1),\n",
       " (('Austrii', 'placeName'), 1),\n",
       " (('NATO', 'orgName'), 1),\n",
       " (('GIS', 'orgName'), 1),\n",
       " (('BCC', 'orgName'), 1),\n",
       " (('Kowalczyk', 'persName'), 1),\n",
       " (('RMF', 'orgName'), 1),\n",
       " (('ONR', 'orgName'), 1),\n",
       " (('Afganistanu', 'placeName'), 1),\n",
       " (('Banaś', 'persName'), 1),\n",
       " (('Jarosław Kaczyński', 'persName'), 1),\n",
       " (('PKP', 'orgName'), 1),\n",
       " (('Ukraińskie', 'placeName'), 1),\n",
       " (('Dworczyka', 'persName'), 1),\n",
       " (('ZNP', 'orgName'), 1),\n",
       " (('Manpower', 'orgName'), 1),\n",
       " (('holenderskich', 'placeName'), 1),\n",
       " (('Białorusi', 'placeName'), 1),\n",
       " (('Niemców', 'placeName'), 1),\n",
       " (('MAP', 'orgName'), 1),\n",
       " (('styczniu', 'date'), 1),\n",
       " (('Goldman Sachs', 'persName'), 1),\n",
       " (('HalfPrice', 'orgName'), 1),\n",
       " (('kwietniu', 'date'), 1),\n",
       " (('Słowenii', 'placeName'), 1),\n",
       " (('Związek', 'orgName'), 1),\n",
       " (('Mateusz Morawiecki', 'persName'), 1),\n",
       " (('Łebie', 'placeName'), 1),\n",
       " (('Baltic Power', 'orgName'), 1),\n",
       " (('Czechami', 'placeName'), 1),\n",
       " (('Turowa', 'placeName'), 1),\n",
       " (('Komisja ds.', 'orgName'), 1),\n",
       " (('CBA', 'orgName'), 1),\n",
       " (('Panasonic', 'orgName'), 1),\n",
       " (('Czarnek', 'persName'), 1),\n",
       " (('Agencja Scope Ratings', 'orgName'), 1),\n",
       " (('Grzegorza Brauna', 'persName'), 1),\n",
       " (('Roberta Metsola', 'persName'), 1),\n",
       " (('Parlamentu Europejskiego', 'orgName'), 1),\n",
       " (('Fitch', 'orgName'), 1),\n",
       " (('BNP Paribas Bank Polska', 'orgName'), 1),\n",
       " (('\"A+\"', 'orgName'), 1),\n",
       " (('Adam Niedzielski', 'persName'), 1),\n",
       " (('Izraela', 'placeName'), 1),\n",
       " (('Finansowy', 'orgName'), 1),\n",
       " (('gminie Zator', 'placeName'), 1),\n",
       " (('Energylandię', 'placeName'), 1),\n",
       " (('Hardt', 'persName'), 1),\n",
       " (('Gatnar', 'persName'), 1),\n",
       " (('EBC', 'orgName'), 1),\n",
       " (('Straż Marszałkowska', 'orgName'), 1),\n",
       " (('UPC', 'orgName'), 1),\n",
       " (('Pola', 'geogName'), 1),\n",
       " (('2023 roku', 'date'), 1),\n",
       " (('Pekao', 'orgName'), 1),\n",
       " (('Orange', 'orgName'), 1),\n",
       " (('Turów', 'orgName'), 1),\n",
       " (('2014 roku', 'date'), 1),\n",
       " (('LUG', 'orgName'), 1),\n",
       " (('Nowym Kisielinie', 'placeName'), 1),\n",
       " (('2019 r.', 'date'), 1),\n",
       " (('Jemenu', 'placeName'), 1),\n",
       " (('\"GW\"', 'orgName'), 1),\n",
       " (('18 stycznia 2022 r.', 'date'), 1),\n",
       " (('Zaczyński', 'persName'), 1),\n",
       " (('Ministerstwa Sprawiedliwości', 'orgName'), 1),\n",
       " (('Bankier.pl', 'orgName'), 1),\n",
       " (('25 stycznia', 'date'), 1),\n",
       " (('Korea Północna', 'geogName'), 1),\n",
       " (('Włoszech', 'placeName'), 1),\n",
       " (('Izbie Gmin', 'orgName'), 1),\n",
       " (('Biden', 'persName'), 1),\n",
       " (('Cieszyński', 'persName'), 1),\n",
       " (('Orlenu', 'orgName'), 1),\n",
       " (('Afganistanie', 'placeName'), 1),\n",
       " (('OEX', 'orgName'), 1),\n",
       " (('Divante', 'orgName'), 1),\n",
       " (('MON', 'orgName'), 1),\n",
       " (('2022 roku', 'date'), 1),\n",
       " (('Rada Medyczna', 'orgName'), 1),\n",
       " (('Czeska', 'placeName'), 1),\n",
       " (('ČSM', 'orgName'), 1),\n",
       " (('Donalda Tuska', 'persName'), 1),\n",
       " (('niemieckich', 'placeName'), 1),\n",
       " (('rzeszowskiej', 'placeName'), 1),\n",
       " (('RPO', 'orgName'), 1),\n",
       " (('Rosyjski', 'placeName'), 1),\n",
       " (('Google', 'orgName'), 1),\n",
       " (('ESA', 'orgName'), 1),\n",
       " (('Harry', 'persName'), 1),\n",
       " (('Brytanię', 'placeName'), 1),\n",
       " (('ArcelorMittal Poland', 'orgName'), 1),\n",
       " (('Krakowie', 'placeName'), 1),\n",
       " (('Credit Suisse', 'orgName'), 1),\n",
       " (('Gróbarczyk', 'persName'), 1),\n",
       " (('Przeładunki', 'placeName'), 1),\n",
       " (('Konfederacja', 'orgName'), 1),\n",
       " (('MPWiK', 'orgName'), 1),\n",
       " (('Wisłą', 'geogName'), 1),\n",
       " (('ZEA', 'placeName'), 1),\n",
       " (('Chiny', 'placeName'), 1),\n",
       " (('Korea Płn', 'orgName'), 1),\n",
       " (('XTB', 'orgName'), 1),\n",
       " (('Netflix', 'orgName'), 1),\n",
       " (('Grant Thornton', 'persName'), 1),\n",
       " (('XII', 'date'), 1),\n",
       " (('Orsted', 'orgName'), 1),\n",
       " (('MFW Baltica', 'orgName'), 1),\n",
       " (('La Manche', 'geogName'), 1),\n",
       " (('Kowalski', 'persName'), 1),\n",
       " (('polskiego', 'placeName'), 1),\n",
       " (('Instytutu', 'orgName'), 1),\n",
       " (('Kaufland', 'orgName'), 1),\n",
       " (('Santander Consumer Bank', 'orgName'), 1),\n",
       " (('Berlusconi', 'persName'), 1),\n",
       " (('Pfizera', 'persName'), 1),\n",
       " (('Koronawirus', 'persName'), 1),\n",
       " (('Dekpol', 'orgName'), 1),\n",
       " (('Wielkopolsce', 'geogName'), 1),\n",
       " (('Łukaszenka', 'persName'), 1),\n",
       " (('luty', 'date'), 1),\n",
       " (('rosyjsko', 'placeName'), 1),\n",
       " (('białoruskie', 'placeName'), 1),\n",
       " (('Credit Agricole', 'orgName'), 1),\n",
       " (('ETF', 'orgName'), 1),\n",
       " (('lutym', 'date'), 1)]"
      ]
     },
     "execution_count": 17,
     "metadata": {},
     "output_type": "execute_result"
    }
   ],
   "source": [
    "# named entities - how many times these name entities were used in titles?\n",
    "data = []\n",
    "\n",
    "for title in df.where(df.portal=='bankier').dropna().title.tolist():\n",
    "    doc = nlp(title)\n",
    "    for entity in doc.ents:\n",
    "        data.append((entity.text, entity.label_))\n",
    "\n",
    "counter=collections.Counter(data)\n",
    "\n",
    "counter.most_common()"
   ]
  },
  {
   "cell_type": "code",
   "execution_count": 31,
   "metadata": {
    "pycharm": {
     "name": "#%%\n"
    }
   },
   "outputs": [
    {
     "data": {
      "text/plain": [
       "2693"
      ]
     },
     "execution_count": 31,
     "metadata": {},
     "output_type": "execute_result"
    }
   ],
   "source": [
    "len(counter.keys())"
   ]
  },
  {
   "cell_type": "markdown",
   "metadata": {
    "pycharm": {
     "name": "#%% md\n"
    }
   },
   "source": [
    "Lista najpopularniejszych bytów nazwanych w tytułach na portalu bankier zawiera wiele elementów, które można uznać za duplikaty (np. Polsce, Polski, Polskiego, Polska, Polskim).\n",
    "Do kolejnych podsumowań użyjemy wyników lematyzacji"
   ]
  },
  {
   "cell_type": "code",
   "execution_count": 18,
   "metadata": {
    "pycharm": {
     "name": "#%%\n"
    }
   },
   "outputs": [
    {
     "data": {
      "text/plain": [
       "[(('polska', 'placeName'), 21),\n",
       " (('polski', 'placeName'), 18),\n",
       " (('ukraina', 'placeName'), 11),\n",
       " (('pgnig', 'orgName'), 7),\n",
       " (('chiny', 'placeName'), 6),\n",
       " (('nik', 'orgName'), 6),\n",
       " (('pge', 'orgName'), 5),\n",
       " (('wielki brytania', 'placeName'), 5),\n",
       " (('tusk', 'persName'), 5),\n",
       " (('czechy', 'placeName'), 4),\n",
       " (('zus', 'orgName'), 4),\n",
       " (('nbp', 'orgName'), 4),\n",
       " (('ke', 'orgName'), 4),\n",
       " (('ue', 'orgName'), 4),\n",
       " (('polak', 'placeName'), 4),\n",
       " (('polaki', 'placeName'), 4),\n",
       " (('usa', 'placeName'), 3),\n",
       " (('rosja', 'placeName'), 3),\n",
       " (('pis', 'orgName'), 3),\n",
       " (('kukiz', 'persName'), 3),\n",
       " (('kruk', 'persName'), 3),\n",
       " (('moskwa', 'placeName'), 3),\n",
       " (('rpp', 'orgName'), 3),\n",
       " (('niemiec', 'placeName'), 3),\n",
       " (('brejza', 'persName'), 3),\n",
       " (('uokik', 'orgName'), 3),\n",
       " (('johnson', 'persName'), 3),\n",
       " (('portugalia', 'placeName'), 2),\n",
       " (('müller', 'persName'), 2),\n",
       " (('po', 'orgName'), 2),\n",
       " (('tongo', 'placeName'), 2),\n",
       " (('bm mbanku', 'orgName'), 2),\n",
       " (('kas', 'orgName'), 2),\n",
       " (('norwegia', 'placeName'), 2),\n",
       " (('styczeń', 'date'), 2),\n",
       " (('pekin', 'placeName'), 2),\n",
       " (('turcja', 'placeName'), 2),\n",
       " (('2022 r.', 'date'), 2),\n",
       " (('fed', 'orgName'), 2),\n",
       " (('witki', 'persName'), 2),\n",
       " (('sejm', 'orgName'), 2),\n",
       " (('niedzielski', 'persName'), 2),\n",
       " (('andrusiewicz', 'persName'), 2),\n",
       " (('tk', 'orgName'), 2),\n",
       " (('pandemia', 'orgName'), 2),\n",
       " (('jsw', 'orgName'), 2),\n",
       " (('onz', 'orgName'), 2),\n",
       " (('rosja', 'orgName'), 2),\n",
       " (('pkn orlen', 'orgName'), 2),\n",
       " (('niemiecki', 'placeName'), 2),\n",
       " (('ziobro', 'persName'), 2),\n",
       " (('2021 r.', 'date'), 2),\n",
       " (('rada medyczny', 'orgName'), 2),\n",
       " (('activision blizzard', 'orgName'), 2),\n",
       " (('orlen', 'orgName'), 2),\n",
       " (('mf', 'orgName'), 2),\n",
       " (('afganistan', 'placeName'), 2),\n",
       " (('mz', 'orgName'), 2),\n",
       " (('obajtek', 'persName'), 2),\n",
       " (('gpw', 'orgName'), 2),\n",
       " (('rosyjski', 'placeName'), 2),\n",
       " (('holandia', 'placeName'), 2),\n",
       " (('walla street', 'geogName'), 1),\n",
       " (('mark brzezinski', 'persName'), 1),\n",
       " (('roman abramowicz', 'persName'), 1),\n",
       " (('msz', 'orgName'), 1),\n",
       " (('zbigniew rau', 'persName'), 1),\n",
       " (('novak djokovic', 'persName'), 1),\n",
       " (('paweł kukiz', 'persName'), 1),\n",
       " (('komisja śledczy', 'orgName'), 1),\n",
       " (('lentex', 'orgName'), 1),\n",
       " (('on solution', 'orgName'), 1),\n",
       " (('24 styczeń', 'date'), 1),\n",
       " (('żywiec', 'placeName'), 1),\n",
       " (('śucs', 'persName'), 1),\n",
       " (('abba', 'orgName'), 1),\n",
       " (('mercator medical', 'orgName'), 1),\n",
       " (('ccc', 'orgName'), 1),\n",
       " (('santandera bp', 'orgName'), 1),\n",
       " (('bnp paribas bp', 'orgName'), 1),\n",
       " (('ukrainiec', 'placeName'), 1),\n",
       " (('zap-x', 'orgName'), 1),\n",
       " (('lotos', 'orgName'), 1),\n",
       " (('kio', 'orgName'), 1),\n",
       " (('mirbudem', 'orgName'), 1),\n",
       " (('pb95', 'orgName'), 1),\n",
       " (('marcin król', 'persName'), 1),\n",
       " (('rp', 'placeName'), 1),\n",
       " (('berlin', 'placeName'), 1),\n",
       " (('2050', 'date'), 1),\n",
       " (('macron', 'persName'), 1),\n",
       " (('europejski', 'placeName'), 1),\n",
       " (('krakowski', 'placeName'), 1),\n",
       " (('psg', 'orgName'), 1),\n",
       " (('ikea', 'orgName'), 1),\n",
       " (('appel', 'orgName'), 1),\n",
       " (('tury', 'placeName'), 1),\n",
       " (('zełenski', 'persName'), 1),\n",
       " (('blinkenem', 'persName'), 1),\n",
       " (('pzu', 'orgName'), 1),\n",
       " (('azja', 'geogName'), 1),\n",
       " (('pegasusa', 'persName'), 1),\n",
       " (('skarba państwo 214,6-374 mln akcja seria e', 'orgName'), 1),\n",
       " (('newconnect', 'orgName'), 1),\n",
       " (('janczyk', 'persName'), 1),\n",
       " (('koreański', 'placeName'), 1),\n",
       " (('dolny śląsko', 'geogName'), 1),\n",
       " (('joachima brudziński', 'persName'), 1),\n",
       " (('pe', 'orgName'), 1),\n",
       " (('ostrowsko', 'persName'), 1),\n",
       " (('sn', 'orgName'), 1),\n",
       " (('budka', 'persName'), 1),\n",
       " (('agata duda', 'persName'), 1),\n",
       " (('ko', 'persName'), 1),\n",
       " (('chiński', 'placeName'), 1),\n",
       " (('aliexpress', 'orgName'), 1),\n",
       " (('mpay', 'orgName'), 1),\n",
       " (('unia europejski', 'orgName'), 1),\n",
       " (('talib', 'placeName'), 1),\n",
       " (('mołdawia', 'placeName'), 1),\n",
       " (('xi jinping', 'persName'), 1),\n",
       " (('modzelewski', 'persName'), 1),\n",
       " (('cpk', 'orgName'), 1),\n",
       " (('pieskow', 'persName'), 1),\n",
       " (('zachód', 'orgName'), 1),\n",
       " (('novavax', 'orgName'), 1),\n",
       " (('21 luty', 'date'), 1),\n",
       " (('grudzień 2021', 'date'), 1),\n",
       " (('ziobry', 'orgName'), 1),\n",
       " (('etpc', 'orgName'), 1),\n",
       " (('2021', 'date'), 1),\n",
       " (('węgra', 'placeName'), 1),\n",
       " (('francja', 'placeName'), 1),\n",
       " (('merkel', 'persName'), 1),\n",
       " (('lpp', 'orgName'), 1),\n",
       " (('rzeszów', 'placeName'), 1),\n",
       " (('elżbieta witki', 'persName'), 1),\n",
       " (('ncbr', 'orgName'), 1),\n",
       " (('erdogan', 'placeName'), 1),\n",
       " (('2021 rok', 'date'), 1),\n",
       " (('bunda', 'persName'), 1),\n",
       " (('kazachstan', 'placeName'), 1),\n",
       " (('irak', 'placeName'), 1),\n",
       " (('unijny', 'orgName'), 1),\n",
       " (('radio ostrzegą', 'orgName'), 1),\n",
       " (('giertych', 'persName'), 1),\n",
       " (('19 styczeń 2022 r.', 'date'), 1),\n",
       " (('fiński', 'placeName'), 1),\n",
       " (('grudzień', 'date'), 1),\n",
       " (('brytyjski', 'placeName'), 1),\n",
       " (('pegasusie', 'persName'), 1),\n",
       " (('belgijski', 'placeName'), 1),\n",
       " (('amazonia', 'geogName'), 1),\n",
       " (('niemcy', 'placeName'), 1),\n",
       " (('nord stream', 'orgName'), 1),\n",
       " (('świnoujście', 'placeName'), 1),\n",
       " (('mrit', 'orgName'), 1),\n",
       " (('onet', 'orgName'), 1),\n",
       " (('mein', 'persName'), 1),\n",
       " (('przemysława czarnek', 'persName'), 1),\n",
       " (('grupa', 'orgName'), 1),\n",
       " (('microsoft', 'orgName'), 1),\n",
       " (('konfederacja lewiatan', 'orgName'), 1),\n",
       " (('sugalski', 'persName'), 1),\n",
       " (('enea', 'orgName'), 1),\n",
       " (('ey', 'orgName'), 1),\n",
       " (('uke', 'orgName'), 1),\n",
       " (('bm pekao', 'orgName'), 1),\n",
       " (('sts holding', 'orgName'), 1),\n",
       " (('szydło', 'persName'), 1),\n",
       " (('bor', 'orgName'), 1),\n",
       " (('bfg', 'orgName'), 1),\n",
       " (('austria', 'placeName'), 1),\n",
       " (('nato', 'orgName'), 1),\n",
       " (('gis', 'orgName'), 1),\n",
       " (('bcc', 'orgName'), 1),\n",
       " (('kowalczyk', 'persName'), 1),\n",
       " (('rmf', 'orgName'), 1),\n",
       " (('onr', 'orgName'), 1),\n",
       " (('banaś', 'persName'), 1),\n",
       " (('jarosławy kaczyński', 'persName'), 1),\n",
       " (('pkp', 'orgName'), 1),\n",
       " (('ukraiński', 'placeName'), 1),\n",
       " (('dworczyk', 'persName'), 1),\n",
       " (('znp', 'orgName'), 1),\n",
       " (('manpower', 'orgName'), 1),\n",
       " (('holenderski', 'placeName'), 1),\n",
       " (('białoruś', 'placeName'), 1),\n",
       " (('map', 'orgName'), 1),\n",
       " (('goldman sachs', 'persName'), 1),\n",
       " (('halfprice', 'orgName'), 1),\n",
       " (('kwiecień', 'date'), 1),\n",
       " (('słowenia', 'placeName'), 1),\n",
       " (('związka', 'orgName'), 1),\n",
       " (('mateusz morawiecki', 'persName'), 1),\n",
       " (('łeba', 'placeName'), 1),\n",
       " (('baltic power', 'orgName'), 1),\n",
       " (('turowy', 'placeName'), 1),\n",
       " (('komisja ds.', 'orgName'), 1),\n",
       " (('cba', 'orgName'), 1),\n",
       " (('panasonic', 'orgName'), 1),\n",
       " (('czarnek', 'persName'), 1),\n",
       " (('agencja scope ratings', 'orgName'), 1),\n",
       " (('grzegorz braun', 'persName'), 1),\n",
       " (('roberto metsola', 'persName'), 1),\n",
       " (('parlament europejski', 'orgName'), 1),\n",
       " (('fitch', 'orgName'), 1),\n",
       " (('bnp paribas bank polska', 'orgName'), 1),\n",
       " (('\"a+\"', 'orgName'), 1),\n",
       " (('adamy niedzielski', 'persName'), 1),\n",
       " (('izrael', 'placeName'), 1),\n",
       " (('finansowy', 'orgName'), 1),\n",
       " (('gmina zatory', 'placeName'), 1),\n",
       " (('energylandię', 'placeName'), 1),\n",
       " (('hardt', 'persName'), 1),\n",
       " (('gatnar', 'persName'), 1),\n",
       " (('ebc', 'orgName'), 1),\n",
       " (('straż marszałkowska', 'orgName'), 1),\n",
       " (('upc', 'orgName'), 1),\n",
       " (('polo', 'geogName'), 1),\n",
       " (('2023 rok', 'date'), 1),\n",
       " (('pekao', 'orgName'), 1),\n",
       " (('orange', 'orgName'), 1),\n",
       " (('tury', 'orgName'), 1),\n",
       " (('2014 rok', 'date'), 1),\n",
       " (('lug', 'orgName'), 1),\n",
       " (('nowy kisielin', 'placeName'), 1),\n",
       " (('2019 r.', 'date'), 1),\n",
       " (('jemen', 'placeName'), 1),\n",
       " (('\"gw\"', 'orgName'), 1),\n",
       " (('18 styczeń 2022 r.', 'date'), 1),\n",
       " (('zaczyński', 'persName'), 1),\n",
       " (('ministerstwo sprawiedliwość', 'orgName'), 1),\n",
       " (('bankier.pl', 'orgName'), 1),\n",
       " (('25 styczeń', 'date'), 1),\n",
       " (('korea północny', 'geogName'), 1),\n",
       " (('włochy', 'placeName'), 1),\n",
       " (('izba gmin', 'orgName'), 1),\n",
       " (('biden', 'persName'), 1),\n",
       " (('cieszyński', 'persName'), 1),\n",
       " (('oex', 'orgName'), 1),\n",
       " (('divante', 'orgName'), 1),\n",
       " (('mon', 'orgName'), 1),\n",
       " (('2022 rok', 'date'), 1),\n",
       " (('rado medyczny', 'orgName'), 1),\n",
       " (('czeski', 'placeName'), 1),\n",
       " (('čsm', 'orgName'), 1),\n",
       " (('donald tusk', 'persName'), 1),\n",
       " (('rzeszowski', 'placeName'), 1),\n",
       " (('rpo', 'orgName'), 1),\n",
       " (('google', 'orgName'), 1),\n",
       " (('esa', 'orgName'), 1),\n",
       " (('harry', 'persName'), 1),\n",
       " (('brytania', 'placeName'), 1),\n",
       " (('arcelormittal poland', 'orgName'), 1),\n",
       " (('kraków', 'placeName'), 1),\n",
       " (('credit suisse', 'orgName'), 1),\n",
       " (('gróbarczyk', 'persName'), 1),\n",
       " (('przeładunki', 'placeName'), 1),\n",
       " (('konfederacja', 'orgName'), 1),\n",
       " (('mpwik', 'orgName'), 1),\n",
       " (('wisła', 'geogName'), 1),\n",
       " (('zea', 'placeName'), 1),\n",
       " (('china', 'placeName'), 1),\n",
       " (('korea płn', 'orgName'), 1),\n",
       " (('xtb', 'orgName'), 1),\n",
       " (('netflix', 'orgName'), 1),\n",
       " (('grant thornton', 'persName'), 1),\n",
       " (('xii', 'date'), 1),\n",
       " (('orsted', 'orgName'), 1),\n",
       " (('mfw baltica', 'orgName'), 1),\n",
       " (('la manche', 'geogName'), 1),\n",
       " (('kowalski', 'persName'), 1),\n",
       " (('instytut', 'orgName'), 1),\n",
       " (('kaufland', 'orgName'), 1),\n",
       " (('santander consumer bank', 'orgName'), 1),\n",
       " (('berlusconi', 'persName'), 1),\n",
       " (('pfizera', 'persName'), 1),\n",
       " (('koronawirus', 'persName'), 1),\n",
       " (('dekpol', 'orgName'), 1),\n",
       " (('wielkopolska', 'geogName'), 1),\n",
       " (('łukaszenka', 'persName'), 1),\n",
       " (('lut', 'date'), 1),\n",
       " (('białoruski', 'placeName'), 1),\n",
       " (('credit agricole', 'orgName'), 1),\n",
       " (('etf', 'orgName'), 1),\n",
       " (('luty', 'date'), 1)]"
      ]
     },
     "execution_count": 18,
     "metadata": {},
     "output_type": "execute_result"
    }
   ],
   "source": [
    "# named entities - how many times these lemma were used in titles?\n",
    "data = []\n",
    "\n",
    "for title in df.where(df.portal=='bankier').dropna().title.tolist():\n",
    "    doc = nlp(title)\n",
    "    for entity in doc.ents:\n",
    "        data.append((entity.lemma_.lower(), entity.label_))\n",
    "\n",
    "counter=collections.Counter(data)\n",
    "counter.most_common()"
   ]
  },
  {
   "cell_type": "markdown",
   "metadata": {
    "pycharm": {
     "name": "#%% md\n"
    }
   },
   "source": [
    "Podsumowanie dla tytułów dla wszystkich portali (długa operacja)"
   ]
  },
  {
   "cell_type": "code",
   "execution_count": 19,
   "metadata": {
    "pycharm": {
     "name": "#%%\n"
    }
   },
   "outputs": [
    {
     "name": "stderr",
     "output_type": "stream",
     "text": [
      "100%|██████████| 2400/2400 [00:17<00:00, 135.91it/s]\n",
      "100%|██████████| 300/300 [00:02<00:00, 147.29it/s]\n",
      "100%|██████████| 300/300 [00:01<00:00, 161.99it/s]\n",
      "100%|██████████| 300/300 [00:01<00:00, 153.03it/s]\n",
      "100%|██████████| 300/300 [00:02<00:00, 135.79it/s]\n",
      "100%|██████████| 300/300 [00:02<00:00, 137.79it/s]\n",
      "100%|██████████| 300/300 [00:02<00:00, 123.63it/s]\n",
      "100%|██████████| 300/300 [00:02<00:00, 134.40it/s]\n",
      "100%|██████████| 300/300 [00:02<00:00, 130.26it/s]"
     ]
    },
    {
     "name": "stdout",
     "output_type": "stream",
     "text": [
      "Wall time: 34.9 s\n"
     ]
    },
    {
     "name": "stderr",
     "output_type": "stream",
     "text": [
      "\n"
     ]
    }
   ],
   "source": [
    "%%time\n",
    "for portal_name in titles_ner_freq_dfs.keys():\n",
    "    data = []\n",
    "    if portal_name == 'full':\n",
    "        texts = df.dropna().title.tolist()\n",
    "    else:\n",
    "        texts = df.where(df.portal==portal_name).dropna().title.tolist()\n",
    "\n",
    "    pbar = tqdm(total=len(texts))\n",
    "    for title in texts:\n",
    "        doc = nlp(title)\n",
    "        for entity in doc.ents:\n",
    "            data.append((entity.lemma_.lower(), entity.label_))\n",
    "        pbar.update(1)\n",
    "\n",
    "    counter=collections.Counter(data)\n",
    "    titles_ner_freq_dfs[portal_name] = counter\n",
    "    pbar.close()"
   ]
  },
  {
   "cell_type": "markdown",
   "metadata": {
    "pycharm": {
     "name": "#%% md\n"
    }
   },
   "source": []
  },
  {
   "cell_type": "code",
   "execution_count": 20,
   "metadata": {
    "pycharm": {
     "name": "#%%\n"
    }
   },
   "outputs": [
    {
     "name": "stderr",
     "output_type": "stream",
     "text": [
      "100%|██████████| 2400/2400 [04:49<00:00,  8.30it/s]\n",
      "100%|██████████| 300/300 [00:22<00:00, 13.39it/s]\n",
      "100%|██████████| 300/300 [00:50<00:00,  5.94it/s]\n",
      "100%|██████████| 300/300 [00:44<00:00,  6.81it/s]\n",
      "100%|██████████| 300/300 [00:22<00:00, 13.30it/s]\n",
      "100%|██████████| 300/300 [01:35<00:00,  3.15it/s]\n",
      "100%|██████████| 300/300 [00:12<00:00, 23.17it/s]\n",
      "100%|██████████| 300/300 [00:18<00:00, 16.08it/s]\n",
      "100%|██████████| 300/300 [00:21<00:00, 13.98it/s]"
     ]
    },
    {
     "name": "stdout",
     "output_type": "stream",
     "text": [
      "Wall time: 9min 36s\n"
     ]
    },
    {
     "name": "stderr",
     "output_type": "stream",
     "text": [
      "\n"
     ]
    }
   ],
   "source": [
    "%%time\n",
    "for portal_name in lead_and_text_ner_freq_dfs.keys():\n",
    "    data = []\n",
    "    if portal_name == 'full':\n",
    "        texts = df.dropna().lead_and_text.tolist()\n",
    "    else:\n",
    "        texts = df.where(df.portal==portal_name).dropna().lead_and_text.tolist()\n",
    "\n",
    "    pbar = tqdm(total=len(texts))\n",
    "    for title in texts:\n",
    "        doc = nlp(title)\n",
    "        for entity in doc.ents:\n",
    "            data.append((entity.lemma_.lower(), entity.label_))\n",
    "        pbar.update(1)\n",
    "\n",
    "    counter=collections.Counter(data)\n",
    "    lead_and_text_ner_freq_dfs[portal_name] = counter\n",
    "    pbar.close()"
   ]
  },
  {
   "cell_type": "code",
   "execution_count": 37,
   "metadata": {
    "pycharm": {
     "name": "#%%\n"
    },
    "scrolled": true
   },
   "outputs": [
    {
     "name": "stdout",
     "output_type": "stream",
     "text": [
      "Najpopularniejsze byty nazwane występujące w tytułach artykułów\n",
      "portal: full, korpus: 1272\n",
      "[(('2022', 'date'), 121),\n",
      " (('polska', 'placeName'), 119),\n",
      " (('01.', 'date'), 114),\n",
      " (('polski', 'placeName'), 79),\n",
      " (('19.', 'date'), 44),\n",
      " (('pis', 'orgName'), 42),\n",
      " (('18.', 'date'), 34),\n",
      " (('„naszym dziennik”', 'geogName'), 33),\n",
      " (('rada medyczny', 'orgName'), 32),\n",
      " (('tusk', 'persName'), 22)]\n",
      "portal: bankier, korpus: 287\n",
      "[(('polska', 'placeName'), 21),\n",
      " (('polski', 'placeName'), 18),\n",
      " (('ukraina', 'placeName'), 11),\n",
      " (('pgnig', 'orgName'), 7),\n",
      " (('chiny', 'placeName'), 6),\n",
      " (('nik', 'orgName'), 6),\n",
      " (('pge', 'orgName'), 5),\n",
      " (('wielki brytania', 'placeName'), 5),\n",
      " (('tusk', 'persName'), 5),\n",
      " (('czechy', 'placeName'), 4)]\n",
      "portal: naszdziennik, korpus: 72\n",
      "[(('„naszym dziennik”', 'geogName'), 33),\n",
      " (('grudzień', 'date'), 10),\n",
      " (('polska', 'placeName'), 6),\n",
      " (('polski', 'placeName'), 4),\n",
      " (('imgw', 'orgName'), 4),\n",
      " (('styczeń', 'date'), 4),\n",
      " (('putin', 'persName'), 3),\n",
      " (('ipn', 'orgName'), 2),\n",
      " (('caritas', 'orgName'), 2),\n",
      " (('moskwa', 'placeName'), 2)]\n",
      "portal: niebezpiecznik, korpus: 146\n",
      "[(('polski', 'placeName'), 18),\n",
      " (('polaki', 'placeName'), 6),\n",
      " (('dworczyk', 'persName'), 6),\n",
      " (('google', 'orgName'), 5),\n",
      " (('rosyjski', 'placeName'), 4),\n",
      " (('ukraina', 'placeName'), 3),\n",
      " (('rosjanin', 'placeName'), 3),\n",
      " (('taurona', 'orgName'), 3),\n",
      " (('polska', 'placeName'), 3),\n",
      " (('uodo', 'orgName'), 3)]\n",
      "portal: onet, korpus: 189\n",
      "[(('polska', 'placeName'), 30),\n",
      " (('pis', 'orgName'), 21),\n",
      " (('polski', 'placeName'), 17),\n",
      " (('rada medyczny', 'orgName'), 17),\n",
      " (('sejm', 'orgName'), 15),\n",
      " (('pegasusa', 'orgName'), 12),\n",
      " (('2022', 'date'), 12),\n",
      " (('morawiecki', 'persName'), 8),\n",
      " (('ekstra pensja', 'orgName'), 8),\n",
      " (('ekstra premium', 'orgName'), 8)]\n",
      "portal: pcworld, korpus: 100\n",
      "[(('01.', 'date'), 106),\n",
      " (('2022', 'date'), 106),\n",
      " (('19.', 'date'), 44),\n",
      " (('18.', 'date'), 33),\n",
      " (('2022 rok', 'date'), 9),\n",
      " (('17.', 'date'), 8),\n",
      " (('xiaomi', 'orgName'), 7),\n",
      " (('polska', 'placeName'), 7),\n",
      " (('22', 'time'), 6),\n",
      " (('appel', 'orgName'), 6)]\n",
      "portal: plotek, korpus: 364\n",
      "[(('kate', 'persName'), 11),\n",
      " (('tvp', 'orgName'), 7),\n",
      " (('anna lewandowska', 'persName'), 7),\n",
      " (('polska', 'placeName'), 6),\n",
      " (('ania', 'persName'), 5),\n",
      " (('joanna opozda', 'persName'), 5),\n",
      " (('meghan markiel', 'persName'), 5),\n",
      " (('william', 'persName'), 5),\n",
      " (('żora korolyov', 'persName'), 5),\n",
      " (('maj hyży', 'persName'), 4)]\n",
      "portal: pr24, korpus: 309\n",
      "[(('polska', 'placeName'), 29),\n",
      " (('polski', 'placeName'), 13),\n",
      " (('pis', 'orgName'), 11),\n",
      " (('rada medyczny', 'orgName'), 9),\n",
      " (('tusk', 'persName'), 8),\n",
      " (('imgw', 'orgName'), 7),\n",
      " (('niedzielski', 'persName'), 6),\n",
      " (('koronawirus', 'persName'), 5),\n",
      " (('czechy', 'placeName'), 5),\n",
      " (('msz', 'orgName'), 5)]\n",
      "portal: tvn24, korpus: 129\n",
      "[(('polska', 'placeName'), 17),\n",
      " (('warszawa', 'placeName'), 9),\n",
      " (('polski', 'placeName'), 5),\n",
      " (('pis', 'orgName'), 5),\n",
      " (('pegasusa', 'orgName'), 4),\n",
      " (('mark brzezinski', 'persName'), 4),\n",
      " (('rada medyczny', 'orgName'), 4),\n",
      " (('warszawski', 'placeName'), 4),\n",
      " (('imgw', 'orgName'), 3),\n",
      " (('tvn24', 'orgName'), 3)]\n"
     ]
    }
   ],
   "source": [
    "print('Najpopularniejsze byty nazwane występujące w tytułach artykułów')\n",
    "for portal_name in titles_ner_freq_dfs.keys():\n",
    "    print(f'portal: {portal_name}, korpus: {len(titles_ner_freq_dfs[portal_name].most_common())}')\n",
    "    pprint(titles_ner_freq_dfs[portal_name].most_common(10))"
   ]
  },
  {
   "cell_type": "code",
   "execution_count": 38,
   "metadata": {
    "pycharm": {
     "name": "#%%\n"
    }
   },
   "outputs": [
    {
     "name": "stdout",
     "output_type": "stream",
     "text": [
      "Najpopularniejsze byty nazwane występujące w treści artykułów\n",
      "portal: full, korpus: 18016\n",
      "[(('polska', 'placeName'), 2142),\n",
      " (('polski', 'placeName'), 1563),\n",
      " (('2021', 'date'), 989),\n",
      " (('appel', 'orgName'), 785),\n",
      " (('01.', 'date'), 651),\n",
      " (('2022', 'date'), 628),\n",
      " (('pis', 'orgName'), 615),\n",
      " (('styczeń', 'date'), 603),\n",
      " (('google', 'orgName'), 599),\n",
      " (('lipiec', 'date'), 490)]\n",
      "portal: bankier, korpus: 2931\n",
      "[(('polska', 'placeName'), 318),\n",
      " (('polski', 'placeName'), 239),\n",
      " (('pap', 'orgName'), 150),\n",
      " (('ukraina', 'placeName'), 121),\n",
      " (('nik', 'orgName'), 92),\n",
      " (('sejm', 'orgName'), 82),\n",
      " (('grudzień', 'date'), 80),\n",
      " (('pis', 'orgName'), 70),\n",
      " (('pgnig', 'orgName'), 67),\n",
      " (('usa', 'placeName'), 66)]\n",
      "portal: naszdziennik, korpus: 2807\n",
      "[(('lipiec', 'date'), 446),\n",
      " (('polska', 'placeName'), 381),\n",
      " (('kwiecień', 'date'), 370),\n",
      " (('styczeń', 'date'), 357),\n",
      " (('sierpień', 'date'), 341),\n",
      " (('luty', 'date'), 338),\n",
      " (('czerwiec', 'date'), 337),\n",
      " (('maj', 'date'), 336),\n",
      " (('wrzesień', 'date'), 268),\n",
      " (('polski', 'placeName'), 244)]\n",
      "portal: niebezpiecznik, korpus: 2837\n",
      "[(('polski', 'placeName'), 160),\n",
      " (('polska', 'placeName'), 157),\n",
      " (('uodo', 'orgName'), 125),\n",
      " (('google', 'orgName'), 113),\n",
      " (('polaki', 'placeName'), 100),\n",
      " (('2021', 'date'), 66),\n",
      " (('2020', 'date'), 62),\n",
      " (('dworczyk', 'persName'), 49),\n",
      " (('18 styczeń', 'date'), 48),\n",
      " (('usa', 'placeName'), 46)]\n",
      "portal: onet, korpus: 2721\n",
      "[(('polska', 'placeName'), 331),\n",
      " (('pis', 'orgName'), 271),\n",
      " (('polski', 'placeName'), 267),\n",
      " (('onetu', 'orgName'), 199),\n",
      " (('sejm', 'orgName'), 165),\n",
      " (('rada medyczny', 'orgName'), 117),\n",
      " (('citizen laba', 'orgName'), 69),\n",
      " (('pegasus', 'orgName'), 64),\n",
      " (('pegasusa', 'orgName'), 61),\n",
      " (('po', 'orgName'), 60)]\n",
      "portal: pcworld, korpus: 4542\n",
      "[(('2021', 'date'), 856),\n",
      " (('appel', 'orgName'), 737),\n",
      " (('01.', 'date'), 548),\n",
      " (('2022', 'date'), 514),\n",
      " (('google', 'orgName'), 477),\n",
      " (('samsung', 'orgName'), 400),\n",
      " (('19.', 'date'), 306),\n",
      " (('2022 rok', 'date'), 306),\n",
      " (('12.', 'date'), 248),\n",
      " (('xiaomi', 'orgName'), 233)]\n",
      "portal: plotek, korpus: 2198\n",
      "[(('polski', 'placeName'), 84),\n",
      " (('polska', 'placeName'), 63),\n",
      " (('kate', 'persName'), 52),\n",
      " (('anna lewandowska', 'persName'), 43),\n",
      " (('aktorka', 'persName'), 39),\n",
      " (('william', 'persName'), 38),\n",
      " (('tvp', 'orgName'), 37),\n",
      " (('joanna opozda', 'persName'), 31),\n",
      " (('warszawa', 'placeName'), 29),\n",
      " (('boży', 'persName'), 24)]\n",
      "portal: pr24, korpus: 2939\n",
      "[(('polska', 'placeName'), 421),\n",
      " (('polski', 'placeName'), 303),\n",
      " (('pis', 'orgName'), 150),\n",
      " (('polski radio 24', 'orgName'), 116),\n",
      " (('czeski', 'placeName'), 96),\n",
      " (('01.', 'date'), 88),\n",
      " (('warszawa', 'placeName'), 87),\n",
      " (('2022', 'date'), 81),\n",
      " (('ue', 'orgName'), 70),\n",
      " (('polaki', 'placeName'), 66)]\n",
      "portal: tvn24, korpus: 2693\n",
      "[(('polska', 'placeName'), 323),\n",
      " (('tvn24', 'orgName'), 156),\n",
      " (('polski', 'placeName'), 135),\n",
      " (('warszawa', 'placeName'), 104),\n",
      " (('pis', 'orgName'), 100),\n",
      " (('rada medyczny', 'orgName'), 76),\n",
      " (('godz.', 'time'), 75),\n",
      " (('sejm', 'orgName'), 71),\n",
      " (('nik', 'orgName'), 61),\n",
      " (('pegasusa', 'orgName'), 58)]\n"
     ]
    }
   ],
   "source": [
    "print('Najpopularniejsze byty nazwane występujące w treści artykułów')\n",
    "for portal_name in lead_and_text_ner_freq_dfs.keys():\n",
    "    print(f'portal: {portal_name}, korpus: {len(lead_and_text_ner_freq_dfs[portal_name].most_common())}')\n",
    "    pprint(lead_and_text_ner_freq_dfs[portal_name].most_common(10))"
   ]
  },
  {
   "cell_type": "code",
   "execution_count": 22,
   "metadata": {
    "pycharm": {
     "name": "#%%\n"
    }
   },
   "outputs": [
    {
     "data": {
      "text/plain": [
       "[(('polska', 'placeName'), 2142)]"
      ]
     },
     "execution_count": 22,
     "metadata": {},
     "output_type": "execute_result"
    }
   ],
   "source": [
    "lead_and_text_ner_freq_dfs['full'].most_common(1)"
   ]
  },
  {
   "cell_type": "code",
   "execution_count": 22,
   "metadata": {
    "pycharm": {
     "name": "#%%\n"
    }
   },
   "outputs": [],
   "source": []
  },
  {
   "cell_type": "markdown",
   "metadata": {
    "pycharm": {
     "name": "#%% md\n"
    }
   },
   "source": [
    "### Czy jesteśmy w stanie zgadnąć z jakiego portalu pochodzi artykuł na podstawie nagłówka?\n"
   ]
  },
  {
   "cell_type": "markdown",
   "metadata": {
    "pycharm": {
     "name": "#%% md\n"
    }
   },
   "source": [
    "#### Próba ze Spacy - niestety nieudana na języku polskim (kod działa na angielskim)"
   ]
  },
  {
   "cell_type": "code",
   "execution_count": 20,
   "metadata": {
    "pycharm": {
     "name": "#%%\n"
    }
   },
   "outputs": [],
   "source": [
    "# dodajmy do naszego df kolumnę portal_id oznaczającą kategorię liczbową\n",
    "from sklearn.preprocessing import LabelEncoder\n",
    "\n",
    "LE = LabelEncoder()\n",
    "df['portal_id'] = LE.fit_transform(df['portal'])"
   ]
  },
  {
   "cell_type": "code",
   "execution_count": 21,
   "metadata": {
    "pycharm": {
     "name": "#%%\n"
    }
   },
   "outputs": [],
   "source": [
    "from sklearn.feature_extraction.text import CountVectorizer,TfidfVectorizer\n",
    "from sklearn.base import TransformerMixin\n",
    "from sklearn.pipeline import Pipeline"
   ]
  },
  {
   "cell_type": "code",
   "execution_count": 73,
   "metadata": {
    "pycharm": {
     "name": "#%%\n"
    }
   },
   "outputs": [],
   "source": [
    "import string\n",
    "from spacy.lang.pl.stop_words import STOP_WORDS\n",
    "from spacy.lang.pl import Polish\n",
    "\n",
    "# Create our list of punctuation marks\n",
    "punctuations = string.punctuation\n",
    "\n",
    "# Create our list of stopwords\n",
    "nlp = spacy.load(\"pl_core_news_lg\")\n",
    "stop_words = spacy.lang.pl.stop_words.STOP_WORDS\n",
    "\n",
    "# Load Polish tokenizer, tagger, parser, NER and word vectors\n",
    "parser = Polish()\n",
    "\n",
    "# Creating our tokenizer function\n",
    "def spacy_tokenizer(sentence):\n",
    "    # Creating our token object, which is used to create documents with linguistic annotations.\n",
    "    mytokens = parser(sentence)\n",
    "\n",
    "    # Lemmatizing each token and converting each token into lowercase\n",
    "    mytokens = [ word.lemma_.lower().strip() if word.lemma_ != \"-PRON-\" else word.lower_ for word in mytokens ]\n",
    "\n",
    "    # Removing stop words\n",
    "    mytokens = [ word for word in mytokens if word not in stop_words and word not in punctuations ]\n",
    "\n",
    "    # return preprocessed list of tokens\n",
    "    return mytokens"
   ]
  },
  {
   "cell_type": "code",
   "execution_count": 74,
   "metadata": {
    "pycharm": {
     "name": "#%%\n"
    }
   },
   "outputs": [],
   "source": [
    "# Custom transformer using spaCy\n",
    "class predictors(TransformerMixin):\n",
    "    def transform(self, X, **transform_params):\n",
    "        # Cleaning Text\n",
    "        return [clean_text(text) for text in X]\n",
    "\n",
    "    def fit(self, X, y=None, **fit_params):\n",
    "        return self\n",
    "\n",
    "    def get_params(self, deep=True):\n",
    "        return {}\n",
    "\n",
    "# Basic function to clean the text\n",
    "def clean_text(text):\n",
    "    # Removing spaces and converting text into lowercase\n",
    "    return text.strip().lower()"
   ]
  },
  {
   "cell_type": "code",
   "execution_count": 75,
   "metadata": {
    "pycharm": {
     "name": "#%%\n"
    }
   },
   "outputs": [],
   "source": [
    "tfidf_vector = TfidfVectorizer(tokenizer = spacy_tokenizer)"
   ]
  },
  {
   "cell_type": "code",
   "execution_count": 76,
   "metadata": {
    "pycharm": {
     "name": "#%%\n"
    }
   },
   "outputs": [],
   "source": [
    "bow_vector = CountVectorizer(tokenizer = spacy_tokenizer, ngram_range=(1,1))"
   ]
  },
  {
   "cell_type": "code",
   "execution_count": 77,
   "metadata": {
    "pycharm": {
     "name": "#%%\n"
    }
   },
   "outputs": [
    {
     "data": {
      "text/html": [
       "<div>\n",
       "<style scoped>\n",
       "    .dataframe tbody tr th:only-of-type {\n",
       "        vertical-align: middle;\n",
       "    }\n",
       "\n",
       "    .dataframe tbody tr th {\n",
       "        vertical-align: top;\n",
       "    }\n",
       "\n",
       "    .dataframe thead th {\n",
       "        text-align: right;\n",
       "    }\n",
       "</style>\n",
       "<table border=\"1\" class=\"dataframe\">\n",
       "  <thead>\n",
       "    <tr style=\"text-align: right;\">\n",
       "      <th></th>\n",
       "      <th>title</th>\n",
       "      <th>title_int</th>\n",
       "      <th>lead_text</th>\n",
       "      <th>lead_text_int</th>\n",
       "      <th>link</th>\n",
       "      <th>text</th>\n",
       "      <th>when_published</th>\n",
       "      <th>author</th>\n",
       "      <th>source</th>\n",
       "      <th>portal</th>\n",
       "      <th>lead_and_text</th>\n",
       "      <th>clean_lead_text</th>\n",
       "      <th>portal_id</th>\n",
       "    </tr>\n",
       "  </thead>\n",
       "  <tbody>\n",
       "    <tr>\n",
       "      <th>0</th>\n",
       "      <td>Spadki na Wall Street koniec sesji. Nasdaq znó...</td>\n",
       "      <td>Spadki na Wall Street koniec sesji. Nasdaq znó...</td>\n",
       "      <td>Środowa sesja na Wall Street zakończyła się sp...</td>\n",
       "      <td>Środowa sesja na Wall Street zakończyła się sp...</td>\n",
       "      <td>https://www.bankier.pl/wiadomosc/Wall-Street-w...</td>\n",
       "      <td>Dow Jones Industrial na zamknięciu spadł o 339...</td>\n",
       "      <td>2022-01-19 22:12:00</td>\n",
       "      <td>kkr/ pr/</td>\n",
       "      <td>PAP Biznes</td>\n",
       "      <td>bankier</td>\n",
       "      <td>Środowa sesja na Wall Street zakończyła się sp...</td>\n",
       "      <td>środowy sesja walla street zakończyć spadek wz...</td>\n",
       "      <td>0</td>\n",
       "    </tr>\n",
       "    <tr>\n",
       "      <th>1</th>\n",
       "      <td>Specjaliści od cyberbezpieczeństwa w administr...</td>\n",
       "      <td>Specjaliści od cyberbezpieczeństwa w administr...</td>\n",
       "      <td>Rada Ministrów przyjęła w środę rozporządzenie...</td>\n",
       "      <td>Rada Ministrów przyjęła w środę rozporządzenie...</td>\n",
       "      <td>https://www.bankier.pl/wiadomosc/Specjalisci-o...</td>\n",
       "      <td>Jak wyjaśniono, rozporządzenie określa zasady ...</td>\n",
       "      <td>2022-01-19 20:18:00</td>\n",
       "      <td>pif/ mk/</td>\n",
       "      <td>PAP</td>\n",
       "      <td>bankier</td>\n",
       "      <td>Rada Ministrów przyjęła w środę rozporządzenie...</td>\n",
       "      <td>rado minister przyjąć środa rozporządzenie spr...</td>\n",
       "      <td>0</td>\n",
       "    </tr>\n",
       "    <tr>\n",
       "      <th>2</th>\n",
       "      <td>Mark Brzezinski oficjalnie zaprzysiężony na am...</td>\n",
       "      <td>Mark Brzezinski oficjalnie zaprzysiężony na am...</td>\n",
       "      <td>Wiceprezydent USA Kamala Harris oficjalnie zap...</td>\n",
       "      <td>Wiceprezydent USA Kamala Harris oficjalnie zap...</td>\n",
       "      <td>https://www.bankier.pl/wiadomosc/Mark-Brzezins...</td>\n",
       "      <td>Podczas ceremonii w budynku Eisenhowera mieszc...</td>\n",
       "      <td>2022-01-19 20:17:00</td>\n",
       "      <td>osk/ tebe/</td>\n",
       "      <td>PAP</td>\n",
       "      <td>bankier</td>\n",
       "      <td>Wiceprezydent USA Kamala Harris oficjalnie zap...</td>\n",
       "      <td>wiceprezydent usa kamala harris oficjalnie zap...</td>\n",
       "      <td>0</td>\n",
       "    </tr>\n",
       "    <tr>\n",
       "      <th>3</th>\n",
       "      <td>Portugalia wszczyna śledztwo w sprawie przyzna...</td>\n",
       "      <td>Portugalia wszczyna śledztwo w sprawie przyzna...</td>\n",
       "      <td>Prokuratura generalna Portugalii wszczęła w śr...</td>\n",
       "      <td>Prokuratura generalna Portugalii wszczęła w śr...</td>\n",
       "      <td>https://www.bankier.pl/wiadomosc/Portugalia-ws...</td>\n",
       "      <td>Prokuratura generalna wyjaśniła, że przedmiote...</td>\n",
       "      <td>2022-01-19 20:11:00</td>\n",
       "      <td>zat/ mal/</td>\n",
       "      <td>PAP</td>\n",
       "      <td>bankier</td>\n",
       "      <td>Prokuratura generalna Portugalii wszczęła w śr...</td>\n",
       "      <td>prokuratura generalny portugalia wszcząć środa...</td>\n",
       "      <td>0</td>\n",
       "    </tr>\n",
       "    <tr>\n",
       "      <th>4</th>\n",
       "      <td>Szef MSZ Zbigniew Rau zakażony koronawirusem</td>\n",
       "      <td>Szef MSZ Zbigniew Rau zakażony koronawirusem</td>\n",
       "      <td>Minister spraw zagranicznych Zbigniew Rau uzys...</td>\n",
       "      <td>Minister spraw zagranicznych Zbigniew Rau uzys...</td>\n",
       "      <td>https://www.bankier.pl/wiadomosc/Szef-MSZ-Zbig...</td>\n",
       "      <td>\"Z uwagi na pozytywny wynik testu na SARS-CoV-...</td>\n",
       "      <td>2022-01-19 20:05:00</td>\n",
       "      <td>wni/ mok/</td>\n",
       "      <td>PAP</td>\n",
       "      <td>bankier</td>\n",
       "      <td>Minister spraw zagranicznych Zbigniew Rau uzys...</td>\n",
       "      <td>minister sprawa zagraniczny zbigniew rau uzysk...</td>\n",
       "      <td>0</td>\n",
       "    </tr>\n",
       "    <tr>\n",
       "      <th>...</th>\n",
       "      <td>...</td>\n",
       "      <td>...</td>\n",
       "      <td>...</td>\n",
       "      <td>...</td>\n",
       "      <td>...</td>\n",
       "      <td>...</td>\n",
       "      <td>...</td>\n",
       "      <td>...</td>\n",
       "      <td>...</td>\n",
       "      <td>...</td>\n",
       "      <td>...</td>\n",
       "      <td>...</td>\n",
       "      <td>...</td>\n",
       "    </tr>\n",
       "    <tr>\n",
       "      <th>2395</th>\n",
       "      <td>Możliwe osiągnięcie stanów ostrzegawczych. Ost...</td>\n",
       "      <td>Możliwe osiągnięcie stanów ostrzegawczych. Ost...</td>\n",
       "      <td>Instytut Meteorologii i Gospodarki Wodnej wyda...</td>\n",
       "      <td>Poziom wód w rejonie Żuław i Zalewu Wiślanego ...</td>\n",
       "      <td>https://tvn24.pl/tvnmeteo/prognoza/imgw-alerty...</td>\n",
       "      <td>\"W związku z prognozowanym silnym, sztormowym ...</td>\n",
       "      <td>2022-01-15 06:55:00</td>\n",
       "      <td>ps</td>\n",
       "      <td>PAP, IMGW</td>\n",
       "      <td>tvn24</td>\n",
       "      <td>Poziom wód w rejonie Żuław i Zalewu Wiślanego ...</td>\n",
       "      <td>instytut meteorologia gospodarka wodny wydać a...</td>\n",
       "      <td>7</td>\n",
       "    </tr>\n",
       "    <tr>\n",
       "      <th>2396</th>\n",
       "      <td>NFZ obcina stawki za testy na koronawirusa. Cz...</td>\n",
       "      <td>NFZ obcina stawki za testy na obecność koronaw...</td>\n",
       "      <td>Materiał magazynu \"Polska i Świat\".</td>\n",
       "      <td>Narodowy Fundusz Zdrowia obciął stawki na poje...</td>\n",
       "      <td>https://tvn24.pl/polska/koronawirus-w-polsce-n...</td>\n",
       "      <td>Najpierw wymaz, a później badanie w budynku tu...</td>\n",
       "      <td>2022-01-15 06:32:00</td>\n",
       "      <td>AleksandraKąkol</td>\n",
       "      <td>TVN24</td>\n",
       "      <td>tvn24</td>\n",
       "      <td>Narodowy Fundusz Zdrowia obciął stawki na poje...</td>\n",
       "      <td>materiał magazyn polska świat</td>\n",
       "      <td>7</td>\n",
       "    </tr>\n",
       "    <tr>\n",
       "      <th>2397</th>\n",
       "      <td>Pogoda na dziś. Termometry pokażą od 2 do 5 st...</td>\n",
       "      <td>Pogoda na dziś - sobota 15.01. Zachmurzenie bę...</td>\n",
       "      <td>W sobotę w całym kraju odczujemy chłód.</td>\n",
       "      <td>Pogoda na dziś. Sobota (15.01) upłynie pod zna...</td>\n",
       "      <td>https://tvn24.pl/tvnmeteo/prognoza/pogoda-na-d...</td>\n",
       "      <td>Na sobotę prognozowane jest zmienne zachmurzen...</td>\n",
       "      <td>2022-01-15 02:00:00</td>\n",
       "      <td>anw</td>\n",
       "      <td>tvnmeteo.pl</td>\n",
       "      <td>tvn24</td>\n",
       "      <td>Pogoda na dziś. Sobota (15.01) upłynie pod zna...</td>\n",
       "      <td>sobota cały kraj odczuć chłód</td>\n",
       "      <td>7</td>\n",
       "    </tr>\n",
       "    <tr>\n",
       "      <th>2398</th>\n",
       "      <td>\"Polskie prawo w sprawie inwigilacji nie odpow...</td>\n",
       "      <td>Rzecznik Praw Obywatelskich interweniuje u pre...</td>\n",
       "      <td>RPO interweniuje u premiera.</td>\n",
       "      <td>Rzecznik Praw Obywatelskich Marcin Wiącek wyst...</td>\n",
       "      <td>https://tvn24.pl/polska/pegasus-rzecznik-praw-...</td>\n",
       "      <td>OGLĄDAJ TVN24 W INTERNECIE W TVN24 GO Marcin W...</td>\n",
       "      <td>2022-01-14 22:49:00</td>\n",
       "      <td>mjz//rzw</td>\n",
       "      <td>PAP</td>\n",
       "      <td>tvn24</td>\n",
       "      <td>Rzecznik Praw Obywatelskich Marcin Wiącek wyst...</td>\n",
       "      <td>rpo interweniować premier</td>\n",
       "      <td>7</td>\n",
       "    </tr>\n",
       "    <tr>\n",
       "      <th>2399</th>\n",
       "      <td>Samochód zjechał do Narwi z mola w Serocku. \"W...</td>\n",
       "      <td>Samochód zjechał do Narwi z mola w Serocku. \"W...</td>\n",
       "      <td>Po około dwóch godzinach wyciągnęli auto na br...</td>\n",
       "      <td>W piątek wieczorem samochód zjechał z mola w S...</td>\n",
       "      <td>https://tvn24.pl/tvnwarszawa/najnowsze/serock-...</td>\n",
       "      <td>Do zdarzenia doszło w Serocku, w okolicach mol...</td>\n",
       "      <td>2022-01-14 20:04:00</td>\n",
       "      <td>mp/r</td>\n",
       "      <td>tvnwarszawa.pl</td>\n",
       "      <td>tvn24</td>\n",
       "      <td>W piątek wieczorem samochód zjechał z mola w S...</td>\n",
       "      <td>dwa godzina wyciągnąć auto brzeg</td>\n",
       "      <td>7</td>\n",
       "    </tr>\n",
       "  </tbody>\n",
       "</table>\n",
       "<p>2400 rows × 13 columns</p>\n",
       "</div>"
      ],
      "text/plain": [
       "                                                  title  \\\n",
       "0     Spadki na Wall Street koniec sesji. Nasdaq znó...   \n",
       "1     Specjaliści od cyberbezpieczeństwa w administr...   \n",
       "2     Mark Brzezinski oficjalnie zaprzysiężony na am...   \n",
       "3     Portugalia wszczyna śledztwo w sprawie przyzna...   \n",
       "4          Szef MSZ Zbigniew Rau zakażony koronawirusem   \n",
       "...                                                 ...   \n",
       "2395  Możliwe osiągnięcie stanów ostrzegawczych. Ost...   \n",
       "2396  NFZ obcina stawki za testy na koronawirusa. Cz...   \n",
       "2397  Pogoda na dziś. Termometry pokażą od 2 do 5 st...   \n",
       "2398  \"Polskie prawo w sprawie inwigilacji nie odpow...   \n",
       "2399  Samochód zjechał do Narwi z mola w Serocku. \"W...   \n",
       "\n",
       "                                              title_int  \\\n",
       "0     Spadki na Wall Street koniec sesji. Nasdaq znó...   \n",
       "1     Specjaliści od cyberbezpieczeństwa w administr...   \n",
       "2     Mark Brzezinski oficjalnie zaprzysiężony na am...   \n",
       "3     Portugalia wszczyna śledztwo w sprawie przyzna...   \n",
       "4          Szef MSZ Zbigniew Rau zakażony koronawirusem   \n",
       "...                                                 ...   \n",
       "2395  Możliwe osiągnięcie stanów ostrzegawczych. Ost...   \n",
       "2396  NFZ obcina stawki za testy na obecność koronaw...   \n",
       "2397  Pogoda na dziś - sobota 15.01. Zachmurzenie bę...   \n",
       "2398  Rzecznik Praw Obywatelskich interweniuje u pre...   \n",
       "2399  Samochód zjechał do Narwi z mola w Serocku. \"W...   \n",
       "\n",
       "                                              lead_text  \\\n",
       "0     Środowa sesja na Wall Street zakończyła się sp...   \n",
       "1     Rada Ministrów przyjęła w środę rozporządzenie...   \n",
       "2     Wiceprezydent USA Kamala Harris oficjalnie zap...   \n",
       "3     Prokuratura generalna Portugalii wszczęła w śr...   \n",
       "4     Minister spraw zagranicznych Zbigniew Rau uzys...   \n",
       "...                                                 ...   \n",
       "2395  Instytut Meteorologii i Gospodarki Wodnej wyda...   \n",
       "2396                Materiał magazynu \"Polska i Świat\".   \n",
       "2397            W sobotę w całym kraju odczujemy chłód.   \n",
       "2398                       RPO interweniuje u premiera.   \n",
       "2399  Po około dwóch godzinach wyciągnęli auto na br...   \n",
       "\n",
       "                                          lead_text_int  \\\n",
       "0     Środowa sesja na Wall Street zakończyła się sp...   \n",
       "1     Rada Ministrów przyjęła w środę rozporządzenie...   \n",
       "2     Wiceprezydent USA Kamala Harris oficjalnie zap...   \n",
       "3     Prokuratura generalna Portugalii wszczęła w śr...   \n",
       "4     Minister spraw zagranicznych Zbigniew Rau uzys...   \n",
       "...                                                 ...   \n",
       "2395  Poziom wód w rejonie Żuław i Zalewu Wiślanego ...   \n",
       "2396  Narodowy Fundusz Zdrowia obciął stawki na poje...   \n",
       "2397  Pogoda na dziś. Sobota (15.01) upłynie pod zna...   \n",
       "2398  Rzecznik Praw Obywatelskich Marcin Wiącek wyst...   \n",
       "2399  W piątek wieczorem samochód zjechał z mola w S...   \n",
       "\n",
       "                                                   link  \\\n",
       "0     https://www.bankier.pl/wiadomosc/Wall-Street-w...   \n",
       "1     https://www.bankier.pl/wiadomosc/Specjalisci-o...   \n",
       "2     https://www.bankier.pl/wiadomosc/Mark-Brzezins...   \n",
       "3     https://www.bankier.pl/wiadomosc/Portugalia-ws...   \n",
       "4     https://www.bankier.pl/wiadomosc/Szef-MSZ-Zbig...   \n",
       "...                                                 ...   \n",
       "2395  https://tvn24.pl/tvnmeteo/prognoza/imgw-alerty...   \n",
       "2396  https://tvn24.pl/polska/koronawirus-w-polsce-n...   \n",
       "2397  https://tvn24.pl/tvnmeteo/prognoza/pogoda-na-d...   \n",
       "2398  https://tvn24.pl/polska/pegasus-rzecznik-praw-...   \n",
       "2399  https://tvn24.pl/tvnwarszawa/najnowsze/serock-...   \n",
       "\n",
       "                                                   text      when_published  \\\n",
       "0     Dow Jones Industrial na zamknięciu spadł o 339... 2022-01-19 22:12:00   \n",
       "1     Jak wyjaśniono, rozporządzenie określa zasady ... 2022-01-19 20:18:00   \n",
       "2     Podczas ceremonii w budynku Eisenhowera mieszc... 2022-01-19 20:17:00   \n",
       "3     Prokuratura generalna wyjaśniła, że przedmiote... 2022-01-19 20:11:00   \n",
       "4     \"Z uwagi na pozytywny wynik testu na SARS-CoV-... 2022-01-19 20:05:00   \n",
       "...                                                 ...                 ...   \n",
       "2395  \"W związku z prognozowanym silnym, sztormowym ... 2022-01-15 06:55:00   \n",
       "2396  Najpierw wymaz, a później badanie w budynku tu... 2022-01-15 06:32:00   \n",
       "2397  Na sobotę prognozowane jest zmienne zachmurzen... 2022-01-15 02:00:00   \n",
       "2398  OGLĄDAJ TVN24 W INTERNECIE W TVN24 GO Marcin W... 2022-01-14 22:49:00   \n",
       "2399  Do zdarzenia doszło w Serocku, w okolicach mol... 2022-01-14 20:04:00   \n",
       "\n",
       "               author          source   portal  \\\n",
       "0            kkr/ pr/      PAP Biznes  bankier   \n",
       "1            pif/ mk/             PAP  bankier   \n",
       "2          osk/ tebe/             PAP  bankier   \n",
       "3           zat/ mal/             PAP  bankier   \n",
       "4           wni/ mok/             PAP  bankier   \n",
       "...               ...             ...      ...   \n",
       "2395               ps       PAP, IMGW    tvn24   \n",
       "2396  AleksandraKąkol           TVN24    tvn24   \n",
       "2397              anw     tvnmeteo.pl    tvn24   \n",
       "2398         mjz//rzw             PAP    tvn24   \n",
       "2399             mp/r  tvnwarszawa.pl    tvn24   \n",
       "\n",
       "                                          lead_and_text  \\\n",
       "0     Środowa sesja na Wall Street zakończyła się sp...   \n",
       "1     Rada Ministrów przyjęła w środę rozporządzenie...   \n",
       "2     Wiceprezydent USA Kamala Harris oficjalnie zap...   \n",
       "3     Prokuratura generalna Portugalii wszczęła w śr...   \n",
       "4     Minister spraw zagranicznych Zbigniew Rau uzys...   \n",
       "...                                                 ...   \n",
       "2395  Poziom wód w rejonie Żuław i Zalewu Wiślanego ...   \n",
       "2396  Narodowy Fundusz Zdrowia obciął stawki na poje...   \n",
       "2397  Pogoda na dziś. Sobota (15.01) upłynie pod zna...   \n",
       "2398  Rzecznik Praw Obywatelskich Marcin Wiącek wyst...   \n",
       "2399  W piątek wieczorem samochód zjechał z mola w S...   \n",
       "\n",
       "                                        clean_lead_text  portal_id  \n",
       "0     środowy sesja walla street zakończyć spadek wz...          0  \n",
       "1     rado minister przyjąć środa rozporządzenie spr...          0  \n",
       "2     wiceprezydent usa kamala harris oficjalnie zap...          0  \n",
       "3     prokuratura generalny portugalia wszcząć środa...          0  \n",
       "4     minister sprawa zagraniczny zbigniew rau uzysk...          0  \n",
       "...                                                 ...        ...  \n",
       "2395  instytut meteorologia gospodarka wodny wydać a...          7  \n",
       "2396                      materiał magazyn polska świat          7  \n",
       "2397                      sobota cały kraj odczuć chłód          7  \n",
       "2398                          rpo interweniować premier          7  \n",
       "2399                   dwa godzina wyciągnąć auto brzeg          7  \n",
       "\n",
       "[2400 rows x 13 columns]"
      ]
     },
     "execution_count": 77,
     "metadata": {},
     "output_type": "execute_result"
    }
   ],
   "source": [
    "df"
   ]
  },
  {
   "cell_type": "code",
   "execution_count": 12,
   "metadata": {
    "pycharm": {
     "name": "#%%\n"
    }
   },
   "outputs": [],
   "source": [
    "data = [['Kruk planuje wyemitować obligacje.', 0], ['Szef MSZ Zbigniew RAU został ojcem po raz trzeci.', 1], ['Słynny serbski tenisista NovaK Djoković wrócił już do domu.', 2]]\n",
    "test_df = pd.DataFrame(data, columns = ['lead_and_text', 'portal_id'])"
   ]
  },
  {
   "cell_type": "code",
   "execution_count": 13,
   "metadata": {
    "pycharm": {
     "name": "#%%\n"
    }
   },
   "outputs": [],
   "source": [
    "# podzielmy dane na zbiory uczący i testowy\n",
    "from sklearn.model_selection import train_test_split\n",
    "# x_train, x_test, y_train, y_test = train_test_split(df['lead_and_text'], df['portal_id'], test_size=0.3333, random_state=42)\n",
    "x_train, x_test, y_train, y_test = train_test_split(test_df['lead_and_text'], test_df['portal_id'], test_size=0.3333, random_state=42)"
   ]
  },
  {
   "cell_type": "code",
   "execution_count": 14,
   "metadata": {
    "pycharm": {
     "name": "#%%\n"
    }
   },
   "outputs": [
    {
     "name": "stdout",
     "output_type": "stream",
     "text": [
      "Wielkość zbioru x_train: 2\n",
      "Wielkość zbioru y_train: 2\n",
      "Wielkość zbioru x_test: 1\n",
      "Wielkość zbioru y_test: 1\n"
     ]
    }
   ],
   "source": [
    "print(f'Wielkość zbioru x_train: {len(x_train)}')\n",
    "print(f'Wielkość zbioru y_train: {len(y_train)}')\n",
    "print(f'Wielkość zbioru x_test: {len(x_test)}')\n",
    "print(f'Wielkość zbioru y_test: {len(y_test)}')"
   ]
  },
  {
   "cell_type": "code",
   "execution_count": 15,
   "metadata": {
    "pycharm": {
     "name": "#%%\n"
    }
   },
   "outputs": [
    {
     "data": {
      "text/plain": "0    Kruk planuje wyemitować obligacje.\nName: lead_and_text, dtype: object"
     },
     "execution_count": 15,
     "metadata": {},
     "output_type": "execute_result"
    }
   ],
   "source": [
    "x_test"
   ]
  },
  {
   "cell_type": "code",
   "execution_count": 17,
   "metadata": {
    "pycharm": {
     "name": "#%%\n"
    }
   },
   "outputs": [
    {
     "ename": "NameError",
     "evalue": "name 'Pipeline' is not defined",
     "output_type": "error",
     "traceback": [
      "\u001B[1;31m---------------------------------------------------------------------------\u001B[0m",
      "\u001B[1;31mNameError\u001B[0m                                 Traceback (most recent call last)",
      "\u001B[1;32m~\\AppData\\Local\\Temp/ipykernel_13400/1525600214.py\u001B[0m in \u001B[0;36m<module>\u001B[1;34m\u001B[0m\n\u001B[0;32m      4\u001B[0m \u001B[1;33m\u001B[0m\u001B[0m\n\u001B[0;32m      5\u001B[0m \u001B[1;31m# Create pipeline using Bag of Words\u001B[0m\u001B[1;33m\u001B[0m\u001B[1;33m\u001B[0m\u001B[0m\n\u001B[1;32m----> 6\u001B[1;33m pipe = Pipeline([(\"cleaner\", predictors()),\n\u001B[0m\u001B[0;32m      7\u001B[0m                  \u001B[1;33m(\u001B[0m\u001B[1;34m'vectorizer'\u001B[0m\u001B[1;33m,\u001B[0m \u001B[0mbow_vector\u001B[0m\u001B[1;33m)\u001B[0m\u001B[1;33m,\u001B[0m\u001B[1;33m\u001B[0m\u001B[1;33m\u001B[0m\u001B[0m\n\u001B[0;32m      8\u001B[0m                  ('classifier', classifier)])\n",
      "\u001B[1;31mNameError\u001B[0m: name 'Pipeline' is not defined"
     ]
    }
   ],
   "source": [
    "# Logistic Regression Classifier\n",
    "from sklearn.linear_model import LogisticRegression\n",
    "classifier = LogisticRegression()\n",
    "\n",
    "# Create pipeline using Bag of Words\n",
    "pipe = Pipeline([(\"cleaner\", predictors()),\n",
    "                 ('vectorizer', bow_vector),\n",
    "                 ('classifier', classifier)])\n",
    "\n",
    "# model generation\n",
    "pipe.fit(x_train,y_train)"
   ]
  },
  {
   "cell_type": "markdown",
   "metadata": {
    "pycharm": {
     "name": "#%% md\n"
    }
   },
   "source": [
    "#### Szybki model ze Sklearn - Adaptive Boost, treść artykułów, Adaptive Boost + Count Vectorizer\n",
    "wynik: bardzo mylący, zasadniczo słaby"
   ]
  },
  {
   "cell_type": "code",
   "execution_count": 23,
   "metadata": {
    "pycharm": {
     "name": "#%%\n"
    }
   },
   "outputs": [
    {
     "name": "stderr",
     "output_type": "stream",
     "text": [
      "C:\\Users\\piotr\\anaconda3\\envs\\tm_experiment\\lib\\site-packages\\sklearn\\metrics\\_classification.py:1318: UndefinedMetricWarning: Precision and F-score are ill-defined and being set to 0.0 in labels with no predicted samples. Use `zero_division` parameter to control this behavior.\n",
      "  _warn_prf(average, modifier, msg_start, len(result))\n",
      "C:\\Users\\piotr\\anaconda3\\envs\\tm_experiment\\lib\\site-packages\\sklearn\\metrics\\_classification.py:1318: UndefinedMetricWarning: Precision and F-score are ill-defined and being set to 0.0 in labels with no predicted samples. Use `zero_division` parameter to control this behavior.\n",
      "  _warn_prf(average, modifier, msg_start, len(result))\n",
      "C:\\Users\\piotr\\anaconda3\\envs\\tm_experiment\\lib\\site-packages\\sklearn\\metrics\\_classification.py:1318: UndefinedMetricWarning: Precision and F-score are ill-defined and being set to 0.0 in labels with no predicted samples. Use `zero_division` parameter to control this behavior.\n",
      "  _warn_prf(average, modifier, msg_start, len(result))\n"
     ]
    },
    {
     "name": "stdout",
     "output_type": "stream",
     "text": [
      "              precision    recall  f1-score   support\n",
      "\n",
      "           0      0.000     0.000     0.000       104\n",
      "           1      0.000     0.000     0.000       111\n",
      "           2      0.883     0.989     0.933        92\n",
      "           3      0.000     0.000     0.000        96\n",
      "           4      0.937     0.890     0.913       100\n",
      "           5      0.000     0.000     0.000        96\n",
      "           6      0.154     0.958     0.266        95\n",
      "           7      0.000     0.000     0.000       106\n",
      "\n",
      "    accuracy                          0.339       800\n",
      "   macro avg      0.247     0.355     0.264       800\n",
      "weighted avg      0.237     0.339     0.253       800\n",
      "\n"
     ]
    },
    {
     "data": {
      "text/plain": "<Figure size 576x432 with 2 Axes>",
      "image/png": "[encoded data removed]"
     },
     "metadata": {
      "needs_background": "light"
     },
     "output_type": "display_data"
    }
   ],
   "source": [
    "from sklearn.metrics import confusion_matrix\n",
    "from utils import plot_confusion_matrix\n",
    "from sklearn.svm import SVC\n",
    "from sklearn import metrics\n",
    "from sklearn.feature_extraction.text import TfidfTransformer\n",
    "from sklearn.ensemble import AdaBoostClassifier\n",
    "\n",
    "x_train, x_test, y_train, y_test = train_test_split(df['lead_and_text'], df['portal_id'], test_size=0.3333, random_state=42)\n",
    "\n",
    "\n",
    "text_clf = Pipeline([('vect', CountVectorizer()),\n",
    "                      ('tfidf', TfidfTransformer()),\n",
    "                      ('clf', AdaBoostClassifier()),\n",
    " ])\n",
    "\n",
    "text_clf.fit(x_train, y_train)\n",
    "y_pred = text_clf.predict(x_test)\n",
    "score = text_clf.score(x_test, y_test)\n",
    "\n",
    "print(metrics.classification_report(y_test, y_pred,digits=3))\n",
    "['bankier', 'naszdziennik', 'niebezpiecznik', 'onet', 'pcworld', 'plotek', 'pr24', 'tvn24']\n",
    "confusion_matrix(y_test, y_pred)\n",
    "plot_confusion_matrix.plot_confusion_matrix(confusion_matrix(y_test, y_pred),\n",
    "                                            target_names=['0: bankier', '1: naszdziennik', '2: niebezpiecznik', '3: bankier', '4: naszdziennik', '5: plotek', '6: pr24', '7: tvn24'])"
   ]
  },
  {
   "cell_type": "code",
   "execution_count": 26,
   "outputs": [
    {
     "name": "stdout",
     "output_type": "stream",
     "text": [
      "2515913\n"
     ]
    }
   ],
   "source": [
    "import pickle\n",
    "import sys\n",
    "\n",
    "p = pickle.dumps(text_clf)\n",
    "print(sys.getsizeof(p))"
   ],
   "metadata": {
    "collapsed": false,
    "pycharm": {
     "name": "#%%\n"
    }
   }
  },
  {
   "cell_type": "markdown",
   "metadata": {
    "pycharm": {
     "name": "#%% md\n"
    }
   },
   "source": [
    "#### Szybki model ze Sklearn - SVM + TfidfTransformer, pełna treść artykułu\n",
    "wynik: przyzwoity"
   ]
  },
  {
   "cell_type": "code",
   "execution_count": 22,
   "metadata": {
    "pycharm": {
     "name": "#%%\n"
    }
   },
   "outputs": [
    {
     "name": "stdout",
     "output_type": "stream",
     "text": [
      "              precision    recall  f1-score   support\n",
      "\n",
      "           0      0.765     0.625     0.688       104\n",
      "           1      0.906     0.523     0.663       111\n",
      "           2      0.919     0.989     0.953        92\n",
      "           3      0.663     0.719     0.690        96\n",
      "           4      1.000     0.870     0.930       100\n",
      "           5      0.913     0.990     0.950        96\n",
      "           6      0.350     0.579     0.437        95\n",
      "           7      0.770     0.726     0.748       106\n",
      "\n",
      "    accuracy                          0.746       800\n",
      "   macro avg      0.786     0.753     0.757       800\n",
      "weighted avg      0.789     0.746     0.755       800\n",
      "\n"
     ]
    },
    {
     "data": {
      "text/plain": "<Figure size 576x432 with 2 Axes>",
      "image/png": "[encoded data removed]"
     },
     "metadata": {
      "needs_background": "light"
     },
     "output_type": "display_data"
    }
   ],
   "source": [
    "from sklearn.metrics import confusion_matrix\n",
    "from utils import plot_confusion_matrix\n",
    "from sklearn.svm import SVC\n",
    "from sklearn import metrics\n",
    "from sklearn.feature_extraction.text import TfidfTransformer\n",
    "from sklearn.ensemble import AdaBoostClassifier\n",
    "\n",
    "x_train, x_test, y_train, y_test = train_test_split(df['lead_and_text'], df['portal_id'], test_size=0.3333, random_state=42)\n",
    "\n",
    "\n",
    "text_clf = Pipeline([('vect', TfidfVectorizer()),\n",
    "                      ('tfidf', TfidfTransformer()),\n",
    "                      ('clf', SVC(decision_function_shape='ovr')),\n",
    " ])\n",
    "\n",
    "text_clf.fit(x_train, y_train)\n",
    "y_pred = text_clf.predict(x_test)\n",
    "score = text_clf.score(x_test, y_test)\n",
    "\n",
    "print(metrics.classification_report(y_test, y_pred,digits=3))\n",
    "['bankier', 'naszdziennik', 'niebezpiecznik', 'onet', 'pcworld', 'plotek', 'pr24', 'tvn24']\n",
    "confusion_matrix(y_test, y_pred)\n",
    "plot_confusion_matrix.plot_confusion_matrix(confusion_matrix(y_test, y_pred),\n",
    "                                            target_names=['0: bankier', '1: naszdziennik', '2: niebezpiecznik', '3: bankier', '4: naszdziennik', '5: plotek', '6: pr24', '7: tvn24'])"
   ]
  },
  {
   "cell_type": "markdown",
   "metadata": {
    "pycharm": {
     "name": "#%% md\n"
    }
   },
   "source": []
  },
  {
   "cell_type": "markdown",
   "metadata": {
    "pycharm": {
     "name": "#%% md\n"
    }
   },
   "source": [
    "#### Szybki model ze Sklearn - SVM + TfidfTransformer, pełna treść artykułu po czyszczeniu ze spacy\n",
    "wynik: przyzwoity, nie widać różnicy względem wersji nieoczyszczonej"
   ]
  },
  {
   "cell_type": "code",
   "execution_count": 101,
   "metadata": {
    "pycharm": {
     "name": "#%%\n"
    }
   },
   "outputs": [
    {
     "name": "stdout",
     "output_type": "stream",
     "text": [
      "              precision    recall  f1-score   support\n",
      "\n",
      "           0      0.762     0.587     0.663       104\n",
      "           1      0.929     0.586     0.718       111\n",
      "           2      0.968     1.000     0.984        92\n",
      "           3      0.631     0.729     0.676        96\n",
      "           4      0.989     0.890     0.937       100\n",
      "           5      0.922     0.979     0.949        96\n",
      "           6      0.352     0.537     0.425        95\n",
      "           7      0.692     0.698     0.695       106\n",
      "\n",
      "    accuracy                          0.745       800\n",
      "   macro avg      0.780     0.751     0.756       800\n",
      "weighted avg      0.783     0.745     0.754       800\n",
      "\n"
     ]
    },
    {
     "data": {
      "image/png": "[encoded data removed]",
      "text/plain": [
       "<Figure size 576x432 with 2 Axes>"
      ]
     },
     "metadata": {
      "needs_background": "light"
     },
     "output_type": "display_data"
    }
   ],
   "source": [
    "from sklearn.metrics import confusion_matrix\n",
    "from utils import plot_confusion_matrix\n",
    "from sklearn.svm import SVC\n",
    "from sklearn import metrics\n",
    "from sklearn.feature_extraction.text import TfidfTransformer\n",
    "from sklearn.ensemble import AdaBoostClassifier\n",
    "\n",
    "x_train, x_test, y_train, y_test = train_test_split(df['clean_lead_and_text'], df['portal_id'], test_size=0.3333, random_state=42)\n",
    "\n",
    "\n",
    "text_clf = Pipeline([('vect', TfidfVectorizer()),\n",
    "                      ('tfidf', TfidfTransformer()),\n",
    "                      ('clf', SVC(decision_function_shape='ovr')),\n",
    " ])\n",
    "\n",
    "text_clf.fit(x_train, y_train)\n",
    "y_pred = text_clf.predict(x_test)\n",
    "score = text_clf.score(x_test, y_test)\n",
    "\n",
    "print(metrics.classification_report(y_test, y_pred,digits=3))\n",
    "['bankier', 'naszdziennik', 'niebezpiecznik', 'onet', 'pcworld', 'plotek', 'pr24', 'tvn24']\n",
    "confusion_matrix(y_test, y_pred)\n",
    "plot_confusion_matrix.plot_confusion_matrix(confusion_matrix(y_test, y_pred),\n",
    "                                            target_names=['0: bankier', '1: naszdziennik', '2: niebezpiecznik', '3: bankier', '4: naszdziennik', '5: plotek', '6: pr24', '7: tvn24'])"
   ]
  },
  {
   "cell_type": "markdown",
   "metadata": {
    "pycharm": {
     "name": "#%% md\n"
    }
   },
   "source": [
    "#### Szybki model ze Sklearn - SVM, same tytuły"
   ]
  },
  {
   "cell_type": "code",
   "execution_count": null,
   "metadata": {
    "pycharm": {
     "name": "#%%\n"
    }
   },
   "outputs": [],
   "source": [
    "x_train, x_test, y_train, y_test = train_test_split(df['title'], df['portal_id'], test_size=0.3333, random_state=42)\n",
    "\n",
    "\n",
    "text_clf = Pipeline([('vect', TfidfVectorizer()),\n",
    "                      ('tfidf', TfidfTransformer()),\n",
    "                      ('clf', SVC(decision_function_shape='ovr')),\n",
    " ])\n",
    "\n",
    "text_clf.fit(x_train, y_train)\n",
    "y_pred = text_clf.predict(x_test)\n",
    "score = text_clf.score(x_test, y_test)\n",
    "\n",
    "print(metrics.classification_report(y_test, y_pred,digits=3))"
   ]
  },
  {
   "cell_type": "markdown",
   "metadata": {
    "pycharm": {
     "name": "#%% md\n"
    }
   },
   "source": [
    "#### Szybki model ze Sklearn - SVM, same tytuły"
   ]
  },
  {
   "cell_type": "code",
   "execution_count": 102,
   "metadata": {
    "pycharm": {
     "name": "#%%\n"
    }
   },
   "outputs": [
    {
     "name": "stdout",
     "output_type": "stream",
     "text": [
      "              precision    recall  f1-score   support\n",
      "\n",
      "           0      0.526     0.385     0.444       104\n",
      "           1      0.891     0.369     0.522       111\n",
      "           2      0.651     0.772     0.706        92\n",
      "           3      0.516     0.500     0.508        96\n",
      "           4      0.986     0.690     0.812       100\n",
      "           5      0.654     0.906     0.760        96\n",
      "           6      0.276     0.589     0.376        95\n",
      "           7      0.600     0.396     0.477       106\n",
      "\n",
      "    accuracy                          0.568       800\n",
      "   macro avg      0.638     0.576     0.576       800\n",
      "weighted avg      0.643     0.568     0.573       800\n",
      "\n"
     ]
    },
    {
     "data": {
      "image/png": "[encoded data removed]",
      "text/plain": [
       "<Figure size 576x432 with 2 Axes>"
      ]
     },
     "metadata": {
      "needs_background": "light"
     },
     "output_type": "display_data"
    }
   ],
   "source": [
    "from sklearn.metrics import confusion_matrix\n",
    "from utils import plot_confusion_matrix\n",
    "from sklearn.svm import SVC\n",
    "from sklearn import metrics\n",
    "from sklearn.feature_extraction.text import TfidfTransformer\n",
    "from sklearn.ensemble import AdaBoostClassifier\n",
    "\n",
    "x_train, x_test, y_train, y_test = train_test_split(df['title'], df['portal_id'], test_size=0.3333, random_state=42)\n",
    "\n",
    "\n",
    "text_clf = Pipeline([('vect', TfidfVectorizer()),\n",
    "                      ('tfidf', TfidfTransformer()),\n",
    "                      ('clf', SVC(decision_function_shape='ovr')),\n",
    " ])\n",
    "\n",
    "text_clf.fit(x_train, y_train)\n",
    "y_pred = text_clf.predict(x_test)\n",
    "score = text_clf.score(x_test, y_test)\n",
    "\n",
    "print(metrics.classification_report(y_test, y_pred,digits=3))\n",
    "['bankier', 'naszdziennik', 'niebezpiecznik', 'onet', 'pcworld', 'plotek', 'pr24', 'tvn24']\n",
    "confusion_matrix(y_test, y_pred)\n",
    "plot_confusion_matrix.plot_confusion_matrix(confusion_matrix(y_test, y_pred),\n",
    "                                            target_names=['0: bankier', '1: naszdziennik', '2: niebezpiecznik', '3: bankier', '4: naszdziennik', '5: plotek', '6: pr24', '7: tvn24'])"
   ]
  },
  {
   "cell_type": "markdown",
   "metadata": {
    "pycharm": {
     "name": "#%% md\n"
    }
   },
   "source": [
    "#### Szybki model ze Sklearn - SVM, same nagłówki"
   ]
  },
  {
   "cell_type": "code",
   "execution_count": 103,
   "metadata": {
    "pycharm": {
     "name": "#%%\n"
    }
   },
   "outputs": [
    {
     "name": "stdout",
     "output_type": "stream",
     "text": [
      "              precision    recall  f1-score   support\n",
      "\n",
      "           0      0.526     0.385     0.444       104\n",
      "           1      0.891     0.369     0.522       111\n",
      "           2      0.651     0.772     0.706        92\n",
      "           3      0.516     0.500     0.508        96\n",
      "           4      0.986     0.690     0.812       100\n",
      "           5      0.654     0.906     0.760        96\n",
      "           6      0.276     0.589     0.376        95\n",
      "           7      0.600     0.396     0.477       106\n",
      "\n",
      "    accuracy                          0.568       800\n",
      "   macro avg      0.638     0.576     0.576       800\n",
      "weighted avg      0.643     0.568     0.573       800\n",
      "\n"
     ]
    },
    {
     "data": {
      "image/png": "[encoded data removed]",
      "text/plain": [
       "<Figure size 576x432 with 2 Axes>"
      ]
     },
     "metadata": {
      "needs_background": "light"
     },
     "output_type": "display_data"
    }
   ],
   "source": [
    "from sklearn.metrics import confusion_matrix\n",
    "from utils import plot_confusion_matrix\n",
    "from sklearn.svm import SVC\n",
    "from sklearn import metrics\n",
    "from sklearn.feature_extraction.text import TfidfTransformer\n",
    "from sklearn.ensemble import AdaBoostClassifier\n",
    "\n",
    "x_train, x_test, y_train, y_test = train_test_split(df['title'], df['portal_id'], test_size=0.3333, random_state=42)\n",
    "\n",
    "\n",
    "text_clf = Pipeline([('vect', TfidfVectorizer()),\n",
    "                      ('tfidf', TfidfTransformer()),\n",
    "                      ('clf', SVC(decision_function_shape='ovr')),\n",
    " ])\n",
    "\n",
    "text_clf.fit(x_train, y_train)\n",
    "y_pred = text_clf.predict(x_test)\n",
    "score = text_clf.score(x_test, y_test)\n",
    "\n",
    "print(metrics.classification_report(y_test, y_pred,digits=3))\n",
    "['bankier', 'naszdziennik', 'niebezpiecznik', 'onet', 'pcworld', 'plotek', 'pr24', 'tvn24']\n",
    "confusion_matrix(y_test, y_pred)\n",
    "plot_confusion_matrix.plot_confusion_matrix(confusion_matrix(y_test, y_pred),\n",
    "                                            target_names=['0: bankier', '1: naszdziennik', '2: niebezpiecznik', '3: bankier', '4: naszdziennik', '5: plotek', '6: pr24', '7: tvn24'])"
   ]
  },
  {
   "cell_type": "code",
   "execution_count": null,
   "metadata": {
    "pycharm": {
     "name": "#%%\n"
    }
   },
   "outputs": [],
   "source": []
  }
 ],
 "metadata": {
  "kernelspec": {
   "display_name": "Python 3 (ipykernel)",
   "language": "python",
   "name": "python3"
  },
  "language_info": {
   "codemirror_mode": {
    "name": "ipython",
    "version": 3
   },
   "file_extension": ".py",
   "mimetype": "text/x-python",
   "name": "python",
   "nbconvert_exporter": "python",
   "pygments_lexer": "ipython3",
   "version": "3.9.7"
  }
 },
 "nbformat": 4,
 "nbformat_minor": 1
}