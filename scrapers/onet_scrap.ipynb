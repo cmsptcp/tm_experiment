{
 "cells": [
  {
   "cell_type": "markdown",
   "metadata": {
    "collapsed": true,
    "pycharm": {
     "name": "#%% md\n"
    }
   },
   "source": [
    "Pobieranie wiadomości z Onetu\n",
    "Zapis do pliku ./data/onet_{timestamp}.txt"
   ]
  },
  {
   "cell_type": "markdown",
   "metadata": {
    "pycharm": {
     "name": "#%% md\n"
    }
   },
   "source": [
    "Na początek instalacja brakujących pakietów (opcjonalne):"
   ]
  },
  {
   "cell_type": "code",
   "execution_count": 1,
   "metadata": {
    "pycharm": {
     "name": "#%%\n"
    }
   },
   "outputs": [],
   "source": [
    "# ! pip install bs4\n",
    "# ! pip install requests\n",
    "# ! pip install tqdm\n",
    "# ! pip install pandas\n",
    "# ! pip install pyarrow\n",
    "# ! pip install qgrid\n",
    "# ! pip install blaze\n",
    "# ! pip install ipynbname"
   ]
  },
  {
   "cell_type": "code",
   "execution_count": 2,
   "metadata": {
    "pycharm": {
     "name": "#%%\n"
    }
   },
   "outputs": [],
   "source": [
    "import requests\n",
    "from bs4 import BeautifulSoup\n",
    "from tqdm import tqdm, trange\n",
    "from datetime import datetime, timezone\n",
    "from common.webarticle import WebArticle\n",
    "from common.pl_helper import PolishLocaleHelper\n",
    "import pandas as pd\n",
    "import logging\n",
    "import ipynbname"
   ]
  },
  {
   "cell_type": "code",
   "execution_count": 3,
   "metadata": {
    "pycharm": {
     "name": "#%%\n"
    }
   },
   "outputs": [],
   "source": [
    "# settings:\n",
    "portal_name = 'onet'\n",
    "website = 'https://wiadomosci.onet.pl/kraj'\n",
    "pagination_attributes = '?ajax=1&page='\n",
    "no_articles_to_scrap = 300\n",
    "data_dir = '../data'\n",
    "logging.basicConfig(\n",
    "    filename=f'../logs/{ipynbname.name()}.ipynb.log',\n",
    "    encoding='utf-8',\n",
    "    level=logging.DEBUG\n",
    ")\n",
    "ignored_paragraph_starts = ['Zobacz też:']"
   ]
  },
  {
   "cell_type": "markdown",
   "metadata": {
    "pycharm": {
     "name": "#%% md\n"
    }
   },
   "source": [
    "Sprawdźmy plik robots.txt, w czasie pisania tego kodu pozwalał na pobieranie plików z onetu bez specjalnych ograniczeń"
   ]
  },
  {
   "cell_type": "code",
   "execution_count": 4,
   "metadata": {
    "pycharm": {
     "name": "#%%\n"
    }
   },
   "outputs": [
    {
     "name": "stdout",
     "output_type": "stream",
     "text": [
      "User-Agent: *\r\n",
      "Disallow: \r\n",
      "Allow: /\n"
     ]
    }
   ],
   "source": [
    "resp = requests.get('https://www.onet.pl/robots.txt')\n",
    "print(resp.text)"
   ]
  },
  {
   "cell_type": "code",
   "execution_count": 5,
   "metadata": {
    "pycharm": {
     "name": "#%%\n"
    }
   },
   "outputs": [],
   "source": [
    "def check_if_ignored_paragraph(text, ignored_paragraphs, operation='startswith'):\n",
    "\n",
    "    for ignored_paragraph in ignored_paragraphs:\n",
    "        if operation == 'startswith':\n",
    "            if text.startswith(ignored_paragraph):\n",
    "                return True\n",
    "        else:\n",
    "            logging.debug(f'check_if_ignored: operation {operation} not implemented')\n",
    "    return False\n"
   ]
  },
  {
   "cell_type": "code",
   "execution_count": 6,
   "metadata": {
    "pycharm": {
     "name": "#%%\n"
    }
   },
   "outputs": [],
   "source": [
    "def scrap_article_text_onet(link):\n",
    "    logging.info('scrap_article_text_onet:')\n",
    "    logging.info(f'article link to scrap: {link}')\n",
    "\n",
    "    page = requests.get(link)\n",
    "    if page.status_code != 200:\n",
    "        logging.debug(f'received status code: {page.status_code}')\n",
    "        return '', ''\n",
    "\n",
    "    soup = BeautifulSoup(page.content, 'html.parser')\n",
    "    paragraphs = soup.find_all('p', class_='hyphenate')\n",
    "\n",
    "    logging.info(f'paragraphs found: {paragraphs}')\n",
    "\n",
    "    text = ''\n",
    "    for paragraph in paragraphs:\n",
    "        paragraph_text = paragraph.get_text().strip()\n",
    "        if check_if_ignored_paragraph(paragraph_text, ignored_paragraph_starts):\n",
    "            continue\n",
    "        text += paragraph_text + ' '\n",
    "\n",
    "    time_string = soup.find('span', class_='datePublishedContent').get_text().strip()\n",
    "    when_published = PolishLocaleHelper.parse_pl_date_onet(time_string)\n",
    "    title_int = soup.find('h1', class_='mainTitle').get_text().strip()\n",
    "    lead_text_int = soup.find('div', class_='hyphenate lead').get_text().strip()\n",
    "    author = None\n",
    "    author_candidate = soup.find('div', class_='authorSourceProfile authorProfile')\n",
    "    if author_candidate is not None:\n",
    "        author = author_candidate.find('span', class_='name').get_text(strip=True)\n",
    "\n",
    "    source = None\n",
    "    source_candidate = soup.find('span', itemprop='sourceOrganization')\n",
    "    if source_candidate is not None:\n",
    "        source = source_candidate.get_text().strip()\n",
    "\n",
    "    logging.info(f'text: {text}')\n",
    "    logging.info(f'when published: {when_published}')\n",
    "    logging.info(f'title_int: {title_int}')\n",
    "    logging.info(f'lead_text_int: {lead_text_int}')\n",
    "    logging.info(f'author: {author}')\n",
    "    logging.info(f'source: {source}')\n",
    "\n",
    "    return text, when_published, title_int, lead_text_int, author, source"
   ]
  },
  {
   "cell_type": "code",
   "execution_count": 7,
   "metadata": {
    "pycharm": {
     "name": "#%%\n"
    }
   },
   "outputs": [],
   "source": [
    "def scrap_articles_onet(website):\n",
    "    logging.info('scrap_articles_onet:')\n",
    "    logging.info(f'page with articles to scrap: {website}')\n",
    "\n",
    "    result = list()\n",
    "    page = requests.get(website)\n",
    "    if page.status_code != 200:\n",
    "        logging.debug(f'received status code: {page.status_code}')\n",
    "        return result\n",
    "\n",
    "    soup = BeautifulSoup(page.content, 'html.parser')\n",
    "    page_content = soup.find_all('div',class_='listItem listItemSolr itarticle')\n",
    "\n",
    "    for article in page_content:\n",
    "        title = article.find(class_='itemTitle').get_text().strip()\n",
    "        lead_text = article.find(class_='itemLead hyphenate').get_text().strip()\n",
    "        link = article.find_all('a', href=True)[2]['href']\n",
    "        webart = WebArticle(title, lead_text, link, *scrap_article_text_onet(link),portal_name)\n",
    "        logging.info(f'webarticle scrapped: {webart}')\n",
    "        result.append(webart)\n",
    "\n",
    "    return result"
   ]
  },
  {
   "cell_type": "code",
   "execution_count": 8,
   "metadata": {
    "pycharm": {
     "name": "#%%\n"
    }
   },
   "outputs": [
    {
     "name": "stderr",
     "output_type": "stream",
     "text": [
      "100%|██████████| 300/300 [03:19<00:00,  1.51it/s]\n"
     ]
    }
   ],
   "source": [
    "no_scrapped_articles = 0\n",
    "page_no=0\n",
    "scrapped_articles = list()\n",
    "\n",
    "logging.info(f'no_articles_to_scrap: {no_articles_to_scrap}')\n",
    "\n",
    "pbar = tqdm(total=no_articles_to_scrap)\n",
    "while no_scrapped_articles < no_articles_to_scrap:\n",
    "    logging.info('next page: '+website+pagination_attributes+str(page_no))\n",
    "    new_articles = scrap_articles_onet(website+pagination_attributes+str(page_no))\n",
    "    page_size = len(new_articles)\n",
    "    logging.info(f'new_articles: {page_size}')\n",
    "    if no_scrapped_articles + page_size > no_articles_to_scrap:\n",
    "        page_size = no_articles_to_scrap - no_scrapped_articles\n",
    "    scrapped_articles.extend(new_articles[:page_size])\n",
    "    logging.info(f'scrapped new articles: {page_size}')\n",
    "    no_scrapped_articles += page_size\n",
    "    pbar.update(page_size)\n",
    "    logging.info(f'no_scrapped_articles (total): {no_scrapped_articles}')\n",
    "    page_no += 1\n",
    "    if len(scrapped_articles) <= 0:\n",
    "        logging.debug(f'0 articles scrapped!')\n",
    "        break\n",
    "pbar.close()"
   ]
  },
  {
   "cell_type": "code",
   "execution_count": 9,
   "metadata": {
    "pycharm": {
     "name": "#%%\n"
    }
   },
   "outputs": [
    {
     "name": "stderr",
     "output_type": "stream",
     "text": [
      "100%|██████████| 300/300 [00:00<00:00, 13053.08it/s]"
     ]
    },
    {
     "name": "stdout",
     "output_type": "stream",
     "text": [
      "0: 2024\n",
      "1: 2200\n",
      "2: 2206\n",
      "3: 5173\n",
      "4: 2517\n",
      "5: 4333\n",
      "6: 2810\n",
      "7: 2533\n",
      "8: 2851\n",
      "9: 3287\n",
      "10: 3883\n",
      "11: 2975\n",
      "12: 2256\n",
      "13: 4983\n",
      "14: 3370\n",
      "15: 2464\n",
      "16: 2629\n",
      "17: 5203\n",
      "18: 7303\n",
      "19: 3379\n",
      "20: 1952\n",
      "21: 1158\n",
      "22: 0\n",
      "23: 1834\n",
      "24: 1737\n",
      "25: 3416\n",
      "26: 1706\n",
      "27: 2262\n",
      "28: 3665\n",
      "29: 0\n",
      "30: 0\n",
      "31: 0\n",
      "32: 0\n",
      "33: 3039\n",
      "34: 1954\n",
      "35: 2232\n",
      "36: 0\n",
      "37: 0\n",
      "38: 1915\n",
      "39: 4165\n",
      "40: 1421\n",
      "41: 3615\n",
      "42: 1514\n",
      "43: 2075\n",
      "44: 3194\n",
      "45: 2098\n",
      "46: 3616\n",
      "47: 658\n",
      "48: 3298\n",
      "49: 1945\n",
      "50: 2787\n",
      "51: 2131\n",
      "52: 2076\n",
      "53: 3072\n",
      "54: 1322\n",
      "55: 1635\n",
      "56: 4698\n",
      "57: 5042\n",
      "58: 2170\n",
      "59: 2691\n",
      "60: 7486\n",
      "61: 3003\n",
      "62: 4031\n",
      "63: 3442\n",
      "64: 2619\n",
      "65: 2806\n",
      "66: 2905\n",
      "67: 2178\n",
      "68: 5294\n",
      "69: 3053\n",
      "70: 0\n",
      "71: 2925\n",
      "72: 1876\n",
      "73: 0\n",
      "74: 5478\n",
      "75: 1504\n",
      "76: 3257\n",
      "77: 1616\n",
      "78: 1068\n",
      "79: 4772\n",
      "80: 537\n",
      "81: 3649\n",
      "82: 2829\n",
      "83: 2274\n",
      "84: 542\n",
      "85: 1130\n",
      "86: 2951\n",
      "87: 1801\n",
      "88: 3202\n",
      "89: 38\n",
      "90: 2847\n",
      "91: 3977\n",
      "92: 4004\n",
      "93: 2779\n",
      "94: 3597\n",
      "95: 1573\n",
      "96: 5367\n",
      "97: 1396\n",
      "98: 1572\n",
      "99: 967\n",
      "100: 0\n",
      "101: 1007\n",
      "102: 2562\n",
      "103: 1589\n",
      "104: 2496\n",
      "105: 868\n",
      "106: 1219\n",
      "107: 5546\n",
      "108: 2646\n",
      "109: 4632\n",
      "110: 2915\n",
      "111: 1916\n",
      "112: 730\n",
      "113: 1362\n",
      "114: 1379\n",
      "115: 3307\n",
      "116: 4667\n",
      "117: 9164\n",
      "118: 543\n",
      "119: 1049\n",
      "120: 1072\n",
      "121: 6952\n",
      "122: 3276\n",
      "123: 1817\n",
      "124: 3353\n",
      "125: 1548\n",
      "126: 7089\n",
      "127: 0\n",
      "128: 2340\n",
      "129: 1681\n",
      "130: 7840\n",
      "131: 0\n",
      "132: 8599\n",
      "133: 3059\n",
      "134: 873\n",
      "135: 661\n",
      "136: 2614\n",
      "137: 2399\n",
      "138: 1759\n",
      "139: 2030\n",
      "140: 1028\n",
      "141: 3165\n",
      "142: 2982\n",
      "143: 1635\n",
      "144: 1599\n",
      "145: 3100\n",
      "146: 14939\n",
      "147: 539\n",
      "148: 718\n",
      "149: 3378\n",
      "150: 509\n",
      "151: 1342\n",
      "152: 1589\n",
      "153: 3931\n",
      "154: 304\n",
      "155: 2506\n",
      "156: 1516\n",
      "157: 7820\n",
      "158: 3770\n",
      "159: 1755\n",
      "160: 1254\n",
      "161: 2195\n",
      "162: 4013\n",
      "163: 2463\n",
      "164: 4399\n",
      "165: 2796\n",
      "166: 851\n",
      "167: 4303\n",
      "168: 2533\n",
      "169: 1184\n",
      "170: 1581\n",
      "171: 4250\n",
      "172: 1182\n",
      "173: 2657\n",
      "174: 1072\n",
      "175: 4000\n",
      "176: 1156\n",
      "177: 0\n",
      "178: 2032\n",
      "179: 4891\n",
      "180: 6887\n",
      "181: 1090\n",
      "182: 1325\n",
      "183: 2904\n",
      "184: 5623\n",
      "185: 3504\n",
      "186: 1466\n",
      "187: 6130\n",
      "188: 3111\n",
      "189: 647\n",
      "190: 2118\n",
      "191: 1791\n",
      "192: 2454\n",
      "193: 702\n",
      "194: 2900\n",
      "195: 1585\n",
      "196: 6179\n",
      "197: 6302\n",
      "198: 681\n",
      "199: 2014\n",
      "200: 4887\n",
      "201: 3485\n",
      "202: 2663\n",
      "203: 4689\n",
      "204: 2432\n",
      "205: 3356\n",
      "206: 5487\n",
      "207: 3965\n",
      "208: 1384\n",
      "209: 4480\n",
      "210: 0\n",
      "211: 947\n",
      "212: 831\n",
      "213: 0\n",
      "214: 3569\n",
      "215: 2212\n",
      "216: 5848\n",
      "217: 2175\n",
      "218: 5716\n",
      "219: 1501\n",
      "220: 5116\n",
      "221: 5625\n",
      "222: 545\n",
      "223: 3025\n",
      "224: 14688\n",
      "225: 1801\n",
      "226: 3638\n",
      "227: 1012\n",
      "228: 2487\n",
      "229: 1771\n",
      "230: 0\n",
      "231: 2721\n",
      "232: 0\n",
      "233: 2106\n",
      "234: 2690\n",
      "235: 6588\n",
      "236: 0\n",
      "237: 785\n",
      "238: 3191\n",
      "239: 1035\n",
      "240: 2550\n",
      "241: 2061\n",
      "242: 1343\n",
      "243: 1700\n",
      "244: 1849\n",
      "245: 1211\n",
      "246: 0\n",
      "247: 1718\n",
      "248: 985\n",
      "249: 1867\n",
      "250: 2473\n",
      "251: 1692\n",
      "252: 4673\n",
      "253: 654\n",
      "254: 5963\n",
      "255: 2722\n",
      "256: 2729\n",
      "257: 0\n",
      "258: 2345\n",
      "259: 15960\n",
      "260: 0\n",
      "261: 8951\n",
      "262: 2135\n",
      "263: 1986\n",
      "264: 3389\n",
      "265: 905\n",
      "266: 2816\n",
      "267: 0\n",
      "268: 0\n",
      "269: 3741\n",
      "270: 3776\n",
      "271: 3673\n",
      "272: 2619\n",
      "273: 3573\n",
      "274: 1821\n",
      "275: 1678\n",
      "276: 2725\n",
      "277: 2602\n",
      "278: 0\n",
      "279: 2095\n",
      "280: 144\n",
      "281: 6707\n",
      "282: 3067\n",
      "283: 1391\n",
      "284: 11790\n",
      "285: 546\n",
      "286: 2119\n",
      "287: 1785\n",
      "288: 3379\n",
      "289: 2342\n",
      "290: 10065\n",
      "291: 2734\n",
      "292: 7096\n",
      "293: 2264\n",
      "294: 3497\n",
      "295: 6496\n",
      "296: 304\n",
      "297: 2746\n",
      "298: 2341\n",
      "299: 1465\n"
     ]
    },
    {
     "name": "stderr",
     "output_type": "stream",
     "text": [
      "\n"
     ]
    }
   ],
   "source": [
    "for i in trange(len(scrapped_articles)):\n",
    "    # print(f'{i}: {scrapped_articles[i].lead_text}')\n",
    "    print(f'{i}: {len(scrapped_articles[i].text)}')"
   ]
  },
  {
   "cell_type": "code",
   "execution_count": 10,
   "metadata": {
    "pycharm": {
     "name": "#%%\n"
    }
   },
   "outputs": [
    {
     "data": {
      "text/plain": "                                                 title  \\\n0            Adam Niedzielski: mamy eksplozję pandemii   \n1    Mark Brzeziński nowym ambasadorem USA w Polsce...   \n2    Minister spraw zagranicznych zakażony koronawi...   \n3    Komisja do spraw podsłuchów coraz bliżej. Kuki...   \n4          Prezydent złożył poprawki do Polskiego Ładu   \n..                                                 ...   \n295  Warszawska konferencja o przyszłości Europy. U...   \n296  Internauci bezlitośni dla Polskiego Ładu. Zoba...   \n297  Donald Tusk oddał telefon ekspertom. Nie stwie...   \n298  Kolejny polski dyplomata skrytykował rząd i st...   \n299  Polski Ład nie przeszkadza Prawu i Sprawiedliw...   \n\n                                             title_int  \\\n0            Adam Niedzielski: mamy eksplozję pandemii   \n1    Mark Brzeziński nowym ambasadorem USA w Polsce...   \n2    Minister spraw zagranicznych zakażony koronawi...   \n3    Komisja do spraw podsłuchów coraz bliżej. Kuki...   \n4          Prezydent złożył poprawki do Polskiego Ładu   \n..                                                 ...   \n295  Warszawska konferencja o przyszłości Europy. U...   \n296  Internauci bezlitośni dla Polskiego Ładu. Zoba...   \n297  Donald Tusk oddał telefon ekspertom. Nie stwie...   \n298  Kolejny polski dyplomata skrytykował rząd i st...   \n299  Polski Ład nie przeszkadza Prawu i Sprawiedliw...   \n\n                                             lead_text  \\\n0    Ostatnie dwa dni możemy nazwać eksplozją pande...   \n1    Mark Brzeziński został zaprzysiężony na nowego...   \n2    Informację o pozytywnym wyniku testu na SARS-C...   \n3    — Nie chcę dopuścić do takiej sytuacji, by alb...   \n4    Kancelaria Prezydenta przekazała przedstawicie...   \n..                                                 ...   \n295  Przez trzy dni 119 uczestników z całej Unii Eu...   \n296  Bałagan w przepisach i zamieszanie wśród podat...   \n297  Na telefonie przewodniczącego PO nie było używ...   \n298  W poniedziałek rzecznik Ministerstwa Spraw Zag...   \n299  Prawo i Sprawiedliwość utrzymuje przewagę nad ...   \n\n                                         lead_text_int  \\\n0    Ostatnie dwa dni możemy nazwać eksplozją pande...   \n1    Mark Brzeziński został zaprzysiężony na nowego...   \n2    Informację o pozytywnym wyniku testu na SARS-C...   \n3    — Nie chcę dopuścić do takiej sytuacji, by alb...   \n4    Kancelaria Prezydenta przekazała przedstawicie...   \n..                                                 ...   \n295  Przez trzy dni 119 uczestników z całej Unii Eu...   \n296  Bałagan w przepisach i zamieszanie wśród podat...   \n297  Na telefonie przewodniczącego PO nie było używ...   \n298  W poniedziałek rzecznik Ministerstwa Spraw Zag...   \n299  Prawo i Sprawiedliwość utrzymuje przewagę nad ...   \n\n                                                  link  \\\n0    https://wiadomosci.onet.pl/kraj/koronawirus-ad...   \n1    https://wiadomosci.onet.pl/kraj/mark-brzezinsk...   \n2    https://wiadomosci.onet.pl/kraj/minister-spraw...   \n3    https://wiadomosci.onet.pl/kraj/komisja-ds-pod...   \n4    https://wiadomosci.onet.pl/kraj/prezydent-zloz...   \n..                                                 ...   \n295  https://wiadomosci.onet.pl/kraj/konferencja-w-...   \n296  https://wiadomosci.onet.pl/kraj/polski-lad-zob...   \n297  https://wiadomosci.onet.pl/kraj/tusk-oddal-tel...   \n298  https://wiadomosci.onet.pl/kraj/kolejny-polski...   \n299  https://wiadomosci.onet.pl/kraj/partia-rzadzac...   \n\n                                                  text      when_published  \\\n0    Pytany o scenariusze rozwoju pandemii w Polsce... 2022-01-19 20:08:00   \n1    W styczniu z Polską pożegnała się Georgette Mo... 2022-01-19 20:05:00   \n2    \"Z uwagi na pozytywny wynik testu na SARS-CoV-... 2022-01-19 19:49:00   \n3    W ubiegłym tygodniu Paweł Kukiz poinformował, ... 2022-01-19 19:35:00   \n4    W środę odbyły się konsultacje kierownictwa Ka... 2022-01-19 18:59:00   \n..                                                 ...                 ...   \n295  Konferencja o przyszłości Europy to szeroko za... 2022-01-10 13:20:00   \n296  Żarty z Polskiego Ładu pojawiły się w sieci ju... 2022-01-10 12:51:00   \n297  Jak dodaje Grabiec, jeśli Tusk był inwigilowan... 2022-01-10 12:27:00   \n298  Jarosław Nowak objął stanowisko pełnomocnika r... 2022-01-10 12:10:00   \n299  Prawo i Sprawiedliwość wygrałoby wybory parlam... 2022-01-10 11:00:00   \n\n                     author source portal  \n0                      None  Media   onet  \n1                      None  Media   onet  \n2                      None  Media   onet  \n3                      None    PAP   onet  \n4                      None    PAP   onet  \n..                      ...    ...    ...  \n295  Piotr Maciej Kaczyński   Onet   onet  \n296                    None   None   onet  \n297                    None  Media   onet  \n298                    None  Media   onet  \n299                    None  Media   onet  \n\n[300 rows x 10 columns]",
      "text/html": "<div>\n<style scoped>\n    .dataframe tbody tr th:only-of-type {\n        vertical-align: middle;\n    }\n\n    .dataframe tbody tr th {\n        vertical-align: top;\n    }\n\n    .dataframe thead th {\n        text-align: right;\n    }\n</style>\n<table border=\"1\" class=\"dataframe\">\n  <thead>\n    <tr style=\"text-align: right;\">\n      <th></th>\n      <th>title</th>\n      <th>title_int</th>\n      <th>lead_text</th>\n      <th>lead_text_int</th>\n      <th>link</th>\n      <th>text</th>\n      <th>when_published</th>\n      <th>author</th>\n      <th>source</th>\n      <th>portal</th>\n    </tr>\n  </thead>\n  <tbody>\n    <tr>\n      <th>0</th>\n      <td>Adam Niedzielski: mamy eksplozję pandemii</td>\n      <td>Adam Niedzielski: mamy eksplozję pandemii</td>\n      <td>Ostatnie dwa dni możemy nazwać eksplozją pande...</td>\n      <td>Ostatnie dwa dni możemy nazwać eksplozją pande...</td>\n      <td>https://wiadomosci.onet.pl/kraj/koronawirus-ad...</td>\n      <td>Pytany o scenariusze rozwoju pandemii w Polsce...</td>\n      <td>2022-01-19 20:08:00</td>\n      <td>None</td>\n      <td>Media</td>\n      <td>onet</td>\n    </tr>\n    <tr>\n      <th>1</th>\n      <td>Mark Brzeziński nowym ambasadorem USA w Polsce...</td>\n      <td>Mark Brzeziński nowym ambasadorem USA w Polsce...</td>\n      <td>Mark Brzeziński został zaprzysiężony na nowego...</td>\n      <td>Mark Brzeziński został zaprzysiężony na nowego...</td>\n      <td>https://wiadomosci.onet.pl/kraj/mark-brzezinsk...</td>\n      <td>W styczniu z Polską pożegnała się Georgette Mo...</td>\n      <td>2022-01-19 20:05:00</td>\n      <td>None</td>\n      <td>Media</td>\n      <td>onet</td>\n    </tr>\n    <tr>\n      <th>2</th>\n      <td>Minister spraw zagranicznych zakażony koronawi...</td>\n      <td>Minister spraw zagranicznych zakażony koronawi...</td>\n      <td>Informację o pozytywnym wyniku testu na SARS-C...</td>\n      <td>Informację o pozytywnym wyniku testu na SARS-C...</td>\n      <td>https://wiadomosci.onet.pl/kraj/minister-spraw...</td>\n      <td>\"Z uwagi na pozytywny wynik testu na SARS-CoV-...</td>\n      <td>2022-01-19 19:49:00</td>\n      <td>None</td>\n      <td>Media</td>\n      <td>onet</td>\n    </tr>\n    <tr>\n      <th>3</th>\n      <td>Komisja do spraw podsłuchów coraz bliżej. Kuki...</td>\n      <td>Komisja do spraw podsłuchów coraz bliżej. Kuki...</td>\n      <td>— Nie chcę dopuścić do takiej sytuacji, by alb...</td>\n      <td>— Nie chcę dopuścić do takiej sytuacji, by alb...</td>\n      <td>https://wiadomosci.onet.pl/kraj/komisja-ds-pod...</td>\n      <td>W ubiegłym tygodniu Paweł Kukiz poinformował, ...</td>\n      <td>2022-01-19 19:35:00</td>\n      <td>None</td>\n      <td>PAP</td>\n      <td>onet</td>\n    </tr>\n    <tr>\n      <th>4</th>\n      <td>Prezydent złożył poprawki do Polskiego Ładu</td>\n      <td>Prezydent złożył poprawki do Polskiego Ładu</td>\n      <td>Kancelaria Prezydenta przekazała przedstawicie...</td>\n      <td>Kancelaria Prezydenta przekazała przedstawicie...</td>\n      <td>https://wiadomosci.onet.pl/kraj/prezydent-zloz...</td>\n      <td>W środę odbyły się konsultacje kierownictwa Ka...</td>\n      <td>2022-01-19 18:59:00</td>\n      <td>None</td>\n      <td>PAP</td>\n      <td>onet</td>\n    </tr>\n    <tr>\n      <th>...</th>\n      <td>...</td>\n      <td>...</td>\n      <td>...</td>\n      <td>...</td>\n      <td>...</td>\n      <td>...</td>\n      <td>...</td>\n      <td>...</td>\n      <td>...</td>\n      <td>...</td>\n    </tr>\n    <tr>\n      <th>295</th>\n      <td>Warszawska konferencja o przyszłości Europy. U...</td>\n      <td>Warszawska konferencja o przyszłości Europy. U...</td>\n      <td>Przez trzy dni 119 uczestników z całej Unii Eu...</td>\n      <td>Przez trzy dni 119 uczestników z całej Unii Eu...</td>\n      <td>https://wiadomosci.onet.pl/kraj/konferencja-w-...</td>\n      <td>Konferencja o przyszłości Europy to szeroko za...</td>\n      <td>2022-01-10 13:20:00</td>\n      <td>Piotr Maciej Kaczyński</td>\n      <td>Onet</td>\n      <td>onet</td>\n    </tr>\n    <tr>\n      <th>296</th>\n      <td>Internauci bezlitośni dla Polskiego Ładu. Zoba...</td>\n      <td>Internauci bezlitośni dla Polskiego Ładu. Zoba...</td>\n      <td>Bałagan w przepisach i zamieszanie wśród podat...</td>\n      <td>Bałagan w przepisach i zamieszanie wśród podat...</td>\n      <td>https://wiadomosci.onet.pl/kraj/polski-lad-zob...</td>\n      <td>Żarty z Polskiego Ładu pojawiły się w sieci ju...</td>\n      <td>2022-01-10 12:51:00</td>\n      <td>None</td>\n      <td>None</td>\n      <td>onet</td>\n    </tr>\n    <tr>\n      <th>297</th>\n      <td>Donald Tusk oddał telefon ekspertom. Nie stwie...</td>\n      <td>Donald Tusk oddał telefon ekspertom. Nie stwie...</td>\n      <td>Na telefonie przewodniczącego PO nie było używ...</td>\n      <td>Na telefonie przewodniczącego PO nie było używ...</td>\n      <td>https://wiadomosci.onet.pl/kraj/tusk-oddal-tel...</td>\n      <td>Jak dodaje Grabiec, jeśli Tusk był inwigilowan...</td>\n      <td>2022-01-10 12:27:00</td>\n      <td>None</td>\n      <td>Media</td>\n      <td>onet</td>\n    </tr>\n    <tr>\n      <th>298</th>\n      <td>Kolejny polski dyplomata skrytykował rząd i st...</td>\n      <td>Kolejny polski dyplomata skrytykował rząd i st...</td>\n      <td>W poniedziałek rzecznik Ministerstwa Spraw Zag...</td>\n      <td>W poniedziałek rzecznik Ministerstwa Spraw Zag...</td>\n      <td>https://wiadomosci.onet.pl/kraj/kolejny-polski...</td>\n      <td>Jarosław Nowak objął stanowisko pełnomocnika r...</td>\n      <td>2022-01-10 12:10:00</td>\n      <td>None</td>\n      <td>Media</td>\n      <td>onet</td>\n    </tr>\n    <tr>\n      <th>299</th>\n      <td>Polski Ład nie przeszkadza Prawu i Sprawiedliw...</td>\n      <td>Polski Ład nie przeszkadza Prawu i Sprawiedliw...</td>\n      <td>Prawo i Sprawiedliwość utrzymuje przewagę nad ...</td>\n      <td>Prawo i Sprawiedliwość utrzymuje przewagę nad ...</td>\n      <td>https://wiadomosci.onet.pl/kraj/partia-rzadzac...</td>\n      <td>Prawo i Sprawiedliwość wygrałoby wybory parlam...</td>\n      <td>2022-01-10 11:00:00</td>\n      <td>None</td>\n      <td>Media</td>\n      <td>onet</td>\n    </tr>\n  </tbody>\n</table>\n<p>300 rows × 10 columns</p>\n</div>"
     },
     "execution_count": 10,
     "metadata": {},
     "output_type": "execute_result"
    }
   ],
   "source": [
    "onet_dataframe = pd.DataFrame(article.__dict__ for article in scrapped_articles)\n",
    "onet_dataframe"
   ]
  },
  {
   "cell_type": "code",
   "execution_count": 11,
   "metadata": {
    "pycharm": {
     "name": "#%%\n"
    }
   },
   "outputs": [],
   "source": [
    "timestamp = int((datetime.now(timezone.utc)).timestamp())"
   ]
  },
  {
   "cell_type": "code",
   "execution_count": 12,
   "metadata": {
    "pycharm": {
     "name": "#%%\n"
    }
   },
   "outputs": [],
   "source": [
    "onet_dataframe.to_parquet(f'{data_dir}/{portal_name}_{timestamp}.parquet')\n",
    "onet_dataframe.to_json(f'{data_dir}/{portal_name}_{timestamp}.json')"
   ]
  },
  {
   "cell_type": "markdown",
   "metadata": {},
   "source": [
    "Krótki test - dane pierwszego artykułu"
   ]
  },
  {
   "cell_type": "code",
   "execution_count": 13,
   "metadata": {
    "pycharm": {
     "name": "#%%\n"
    }
   },
   "outputs": [
    {
     "name": "stdout",
     "output_type": "stream",
     "text": [
      "title:\n",
      "  Adam Niedzielski: mamy eksplozję pandemii\n",
      "lead_text:\n",
      "  Ostatnie dwa dni możemy nazwać eksplozją pandemii — powiedział Adam Niedzielski na antenie TVP Info. Przypomniał, że przez całą jesień nie było wyniku powyżej 30 tys., a teraz zaczynamy V falę z takiego pułapu.\n",
      "link:\n",
      "  https://wiadomosci.onet.pl/kraj/koronawirus-adam-niedzielski-mamy-eksplozje-pandemii/l8rhyqc\n",
      "text:\n",
      "  Pytany o scenariusze rozwoju pandemii w Polsce powiedział: \"Realizuje się scenariusz bardzo szybkiego przyspieszenia. Na początku lutego możemy przekroczyć 100 tys. Ale ten scenariusz zakłada, że liczba zakażonych może szybko spadać\". Niedzielski był pytany, czy może się w Polsce spełnić scenariusz, w którym będzie np. 500 tys. zakażeń. — Kluczowe, w jakim stopniu zakażenia będą przekładać się na hospitalizację. Jak obserwujemy w Europie widać, że wyraźnie jest mniej hospitalizacji. Ale zwracam uwagę, że wnioskujemy to, patrząc na przypadek Wielkiej Brytanii i Francji, ale tam jest wyższy współczynnik wyszczepienia — zauważył minister. Minister był także pytany o niski stopień wyszczepienia w Polsce oraz o osoby, które kwestionują istnienie pandemii. — Ja za każdym razem proponuje odwiedzić oddział covidowy, gdzie ludzie toczą walkę o życie. Ta choroba nie może być sprawdzona do kataru, czy grypki jak jest czasem nazywana. Czasem ma łagodny przebieg, ale ciężko ocenić u kogo będzie miała przebieg bardzo ciężki — powiedział Niedzielski. — W tej chwili mamy na papierze dosyć ważne restrykcje, gdzie limity są ograniczone do 30 proc. wypełnienia przestrzeni, ale one nie są przestrzegane — zwrócił uwagę minister zdrowia. Powiedział, że ustawa o weryfikacji covidowej ma na celu wprowadzenie \"kultury przestrzegania regulacji\". — Które z jednej strony pozwalają tworzyć bezpieczne środowisko epidemiczne, ale z drugiej strony szanują różne punkty widzenia. Tam nie trzeba być tylko zaszczepionym, ale równoznaczne jest wykonanie testu — tłumaczył minister. Adam Niedzielski poinformował, że w ciągu dwóch tygodni powinno być dostępne testowanie się w aptekach. Dodał również, że ministerstwo szykuje się do testów pracowniczych, które będą dostępne dla wszystkich pracowników. Niedzielski został zapytany również o naukę w szkołach. — Na razie mamy ustalenie, że jest okres feryjny, który oznacza, że nie ma nauki w szkołach. Myślę, że w ciągu tygodnia-dwóch będziemy się zastanawiali co dalej — odpowiedział. \n",
      "when_published:\n",
      "  2022-01-19 20:08:00\n"
     ]
    }
   ],
   "source": [
    "print(f'title:\\n  {onet_dataframe.iloc[0][\"title\"]}')\n",
    "print(f'lead_text:\\n  {onet_dataframe.iloc[0][\"lead_text\"]}')\n",
    "print(f'link:\\n  {onet_dataframe.iloc[0][\"link\"]}')\n",
    "print(f'text:\\n  {onet_dataframe.iloc[0][\"text\"]}')\n",
    "print(f'when_published:\\n  {onet_dataframe.iloc[0][\"when_published\"]}')"
   ]
  },
  {
   "cell_type": "code",
   "execution_count": 14,
   "metadata": {
    "pycharm": {
     "name": "#%%\n"
    }
   },
   "outputs": [
    {
     "name": "stdout",
     "output_type": "stream",
     "text": [
      "title:\n",
      "  DJ Antex nie żyje. Artysta przegrał walkę z koronawirusem\n",
      "lead_text:\n",
      "  Damian Antoniewski, szerzej znany jako DJ ANTEX nie żyje. Artysta w ostatnich tygodniach ciężko przechodził zakażenie koronawirusem. Zmarł w szpitalu w Oleśnie na Opolszczyźnie w wieku 42-lat.\n",
      "link:\n",
      "  https://wiadomosci.onet.pl/kraj/dj-antex-nie-zyje-artysta-w-czasie-swiat-zarazil-sie-koronawirusem/p17bgle\n",
      "text:\n",
      "  DJ Antex był znanym artystą związanym ze sceną klubową od ponad 20 lat. Występował w całej Polsce, Anglii oraz wielu innych krajach w Europie. Jak informuje TVN24, odszedł w szpitalu w Oleśnie na Opolszczyźnie. 42-letni artysta w Wigilię Bożego Narodzenia poinformował fanów, że jest zakażony koronawirusem. Kilkanaście dni wcześniej zagrał swoją ostatnią imprezę w Legnicy. \"Serdeczni przyjaciele. Z okazji nadchodzących Świąt Bożego Narodzenia chciałem Wam życzyć wszystkiego najlepszego. Moje święta w tym roku są nieco inne od tych z poprzednich lat, niestety będę musiał je spędzić w samotności bez mojej żony i córeczek. Jeśli Was mogę prosić, to proszę Was tylko o \"Zdrowie\" dla Mnie, bo to jest mi teraz najbardziej potrzebne. Pozdrawiam gorąco i mam nadzieję, że wkrótce uda nam się gdzieś wspólnie spotkać\" - napisał Antoniewski, dodając do swojego wpisu zdjęcie ze szpitala. W Sylwestra DJ Antex opublikował kolejne zdjęcie. Był to ostatni wpis artysty, w którym podkreślał, że nadal walczy o życie. Antoniewski zmarł w piątek 14 stycznia. Pożegnała go społeczność klubowa w tym Roobs oraz DJ Insane oraz DJ Hazel. źródła: tvn24.pl/Facebook (mbr) \n",
      "when_published:\n",
      "  2022-01-19 10:59:00\n"
     ]
    }
   ],
   "source": [
    "print(f'title:\\n  {onet_dataframe.iloc[21][\"title\"]}')\n",
    "print(f'lead_text:\\n  {onet_dataframe.iloc[21][\"lead_text\"]}')\n",
    "print(f'link:\\n  {onet_dataframe.iloc[21][\"link\"]}')\n",
    "print(f'text:\\n  {onet_dataframe.iloc[21][\"text\"]}')\n",
    "print(f'when_published:\\n  {onet_dataframe.iloc[21][\"when_published\"]}')"
   ]
  },
  {
   "cell_type": "code",
   "execution_count": 14,
   "metadata": {
    "pycharm": {
     "name": "#%%\n"
    }
   },
   "outputs": [],
   "source": []
  }
 ],
 "metadata": {
  "kernelspec": {
   "display_name": "Python 3 (ipykernel)",
   "language": "python",
   "name": "python3"
  },
  "language_info": {
   "codemirror_mode": {
    "name": "ipython",
    "version": 3
   },
   "file_extension": ".py",
   "mimetype": "text/x-python",
   "name": "python",
   "nbconvert_exporter": "python",
   "pygments_lexer": "ipython3",
   "version": "3.9.7"
  }
 },
 "nbformat": 4,
 "nbformat_minor": 1
}