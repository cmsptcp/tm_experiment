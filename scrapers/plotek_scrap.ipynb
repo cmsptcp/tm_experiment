{
 "cells": [
  {
   "cell_type": "markdown",
   "metadata": {
    "collapsed": true,
    "pycharm": {
     "name": "#%% md\n"
    }
   },
   "source": [
    "Pobieranie wiadomości z plotek.pl\n",
    "Zapis do pliku ./data/plotek_{timestamp}.txt"
   ]
  },
  {
   "cell_type": "code",
   "execution_count": 1,
   "outputs": [],
   "source": [
    "# ! pip install bs4\n",
    "# ! pip install requests\n",
    "# ! pip install tqdm\n",
    "# ! pip install pandas\n",
    "# ! pip install pyarrow\n",
    "# ! pip install qgrid\n",
    "# ! pip install blaze\n",
    "# ! pip install ipynbname"
   ],
   "metadata": {
    "collapsed": false,
    "pycharm": {
     "name": "#%%\n"
    }
   }
  },
  {
   "cell_type": "code",
   "execution_count": 2,
   "outputs": [],
   "source": [
    "import requests\n",
    "from bs4 import BeautifulSoup\n",
    "from tqdm import tqdm, trange\n",
    "from datetime import datetime, timezone\n",
    "from common.webarticle import WebArticle\n",
    "from common.pl_helper import PolishLocaleHelper\n",
    "import pandas as pd\n",
    "import logging\n",
    "import ipynbname"
   ],
   "metadata": {
    "collapsed": false,
    "pycharm": {
     "name": "#%%\n"
    }
   }
  },
  {
   "cell_type": "code",
   "execution_count": 3,
   "outputs": [],
   "source": [
    "# settings:\n",
    "portal_name = 'plotek'\n",
    "website = 'https://www.plotek.pl/plotek/0,78649.html'\n",
    "pagination_attributes = '?str='\n",
    "no_articles_to_scrap = 300\n",
    "data_dir = '../data'\n",
    "logging.basicConfig(\n",
    "    filename=f'../logs/{ipynbname.name()}.ipynb.log',\n",
    "    encoding='utf-8',\n",
    "    level=logging.DEBUG\n",
    ")\n",
    "ignored_paragraph_starts = ['Więcej o', 'Więcej informacji', 'Więcej ciekawych', 'Więcej ciekawostek', 'Więcej na temat', 'Więcej aktualności',\n",
    "                            'Więcej artykułów', 'Więcej podobnych', 'Więcej kryminalnych', 'Więcej bieżących', 'Więcej historii', 'Więcej tekstów']"
   ],
   "metadata": {
    "collapsed": false,
    "pycharm": {
     "name": "#%%\n"
    }
   }
  },
  {
   "cell_type": "markdown",
   "source": [
    "Sprawdźmy plik robots.txt, w czasie pisania tego kodu pozwalał na pobieranie plików z portalu plotek z kategorii news, ograniczenia dotyczyły innych kategorii"
   ],
   "metadata": {
    "collapsed": false
   }
  },
  {
   "cell_type": "code",
   "execution_count": 4,
   "outputs": [
    {
     "name": "stdout",
     "output_type": "stream",
     "text": [
      "User-agent: *\n",
      "Disallow: /ot-amp-consent\n",
      "Disallow: /plotek/0,89428.html?\n",
      "Disallow: /plotek/0,87207.html?\n",
      "Disallow: /plotek/0,89890.html?\n",
      "Disallow: /plotek/0,80228.html?\n",
      "Disallow: /plotek/0,81806.html?\n",
      "Disallow: /plotek/0,83251.html?\n",
      "Disallow: /plotek/0,82863.html?\n",
      "Disallow: /plotek/0,81708.html?\n",
      "Disallow: /75224259/\n",
      "\n",
      "User-agent: Googlebot-News\n",
      "Disallow: /nowy/\n",
      "Disallow: /mapa_strony\n",
      "Disallow: /szukaj/forum\n",
      "Disallow: /Blox/szukaj\n",
      "Disallow: /szukaj/poradnik\n",
      "Disallow: /temat/moto\n",
      "Disallow: /szukaj/ogrody\n",
      "Disallow: /temat/gazetapraca\n",
      "Disallow: /temat/ladnydom\n",
      "Disallow: /szukaj/plotek\n",
      "Disallow: /szukaj/polygamia\n",
      "Disallow: /temat/porady\n",
      "Disallow: /szukaj/sport\n",
      "Disallow: /szukaj/gospodarka\n",
      "Disallow: /temat/wyborcza\n",
      "Disallow: /szukaj/kuchnia\n",
      "Disallow: /temat/czterykaty\n",
      "Disallow: /temat/edukacja\n",
      "Disallow: /szukaj/edziecko\n",
      "Disallow: /szukaj/logo\n",
      "Disallow: /temat/podroze\n",
      "Disallow: /szukaj/technologie\n",
      "Disallow: /szukaj/wiadomosci\n",
      "Disallow: /temat/zdrowie\n",
      "Disallow: /*/51,\n",
      "Disallow: /*order=\n",
      "Disallow: /*obxx=\n",
      "Disallow: /*tag=\n",
      "Disallow: /*/55,\n",
      "Disallow: /*/2,\n",
      "Disallow: /reloadwww?\n",
      "Disallow: /ods?\n",
      "Disallow: /wyszukaj\n",
      "Disallow: /*/wyszukaj/\n",
      "Disallow: /*servlet\n",
      "\n",
      "\n"
     ]
    }
   ],
   "source": [
    "resp = requests.get('https://www.plotek.pl/robots.txt')\n",
    "print(resp.text)"
   ],
   "metadata": {
    "collapsed": false,
    "pycharm": {
     "name": "#%%\n"
    }
   }
  },
  {
   "cell_type": "code",
   "execution_count": 5,
   "outputs": [],
   "source": [
    "def check_if_ignored_paragraph(text, ignored_paragraphs, operation='startswith'):\n",
    "\n",
    "    for ignored_paragraph in ignored_paragraphs:\n",
    "        if operation == 'startswith':\n",
    "            if text.startswith(ignored_paragraph):\n",
    "                return True\n",
    "        else:\n",
    "            logging.debug(f'check_if_ignored: operation {operation} not implemented')\n",
    "    return False\n"
   ],
   "metadata": {
    "collapsed": false,
    "pycharm": {
     "name": "#%%\n"
    }
   }
  },
  {
   "cell_type": "code",
   "execution_count": 6,
   "outputs": [],
   "source": [
    "def scrap_article_text_plotek(link):\n",
    "    logging.info('scrap_article_text_plotek:')\n",
    "    logging.info(f'article link to scrap: {link}')\n",
    "\n",
    "    page = requests.get(link)\n",
    "    if page.status_code != 200:\n",
    "        logging.debug(f'received status code: {page.status_code}')\n",
    "        return '', ''\n",
    "\n",
    "    soup = BeautifulSoup(page.content, 'html.parser')\n",
    "    paragraphs = soup.find('div', id='gazeta_article_body').find_all('p', class_='art_paragraph')\n",
    "\n",
    "    text = ''\n",
    "\n",
    "    for paragraph in paragraphs:\n",
    "        paragraph_text = paragraph.get_text().strip()\n",
    "        if check_if_ignored_paragraph(paragraph_text, ignored_paragraph_starts):\n",
    "            continue\n",
    "        text += paragraph_text + ' '\n",
    "\n",
    "    time_string = soup.find('span', class_='article_date').get_text().strip()\n",
    "    when_published = datetime.strptime(time_string, \"%d.%m.%Y %H:%M\")\n",
    "\n",
    "    title_int = soup.find('h1', id='article_title').get_text().strip()\n",
    "    lead_text_int = soup.find('div', id='gazeta_article_lead').get_text().strip()\n",
    "\n",
    "    author = soup.find('span', class_='article_author').get_text().strip()\n",
    "    source = None\n",
    "\n",
    "    return text, when_published, title_int, lead_text_int, author, source"
   ],
   "metadata": {
    "collapsed": false,
    "pycharm": {
     "name": "#%%\n"
    }
   }
  },
  {
   "cell_type": "code",
   "execution_count": 7,
   "outputs": [],
   "source": [
    "def scrap_articles_plotek(website):\n",
    "    logging.info('scrap_articles_plotek:')\n",
    "    logging.info(f'page with articles to scrap: {website}')\n",
    "\n",
    "    result = list()\n",
    "    page = requests.get(website)\n",
    "    if page.status_code != 200:\n",
    "        logging.debug(f'received status code: {page.status_code}')\n",
    "        return result\n",
    "\n",
    "    soup = BeautifulSoup(page.content, 'html.parser')\n",
    "    page_content = soup.find('div',class_='index_body').find('div',class_='main_content').find_all('article',class_='article')\n",
    "\n",
    "    print(f'articles to scrap: {len(page_content)}')\n",
    "\n",
    "    for article in page_content:\n",
    "\n",
    "        logging.info(f\"article scrapping started: {article}\")\n",
    "        title = article.find('header').get_text().strip()\n",
    "        lead_text = article.find('p', class_='lead').get_text().strip()\n",
    "        link = article.find('header').find('a', href=True)['href']\n",
    "        webart = WebArticle(title, lead_text, link, *scrap_article_text_plotek(link),portal_name)\n",
    "        logging.info(f'webarticle scrapped: {webart}')\n",
    "        result.append(webart)\n",
    "\n",
    "    return result"
   ],
   "metadata": {
    "collapsed": false,
    "pycharm": {
     "name": "#%%\n"
    }
   }
  },
  {
   "cell_type": "code",
   "execution_count": 8,
   "outputs": [
    {
     "name": "stderr",
     "output_type": "stream",
     "text": [
      "  0%|          | 0/300 [00:00<?, ?it/s]"
     ]
    },
    {
     "name": "stdout",
     "output_type": "stream",
     "text": [
      "articles to scrap: 10\n"
     ]
    },
    {
     "name": "stderr",
     "output_type": "stream",
     "text": [
      "  3%|▎         | 10/300 [00:03<01:41,  2.86it/s]"
     ]
    },
    {
     "name": "stdout",
     "output_type": "stream",
     "text": [
      "articles to scrap: 10\n"
     ]
    },
    {
     "name": "stderr",
     "output_type": "stream",
     "text": [
      "  7%|▋         | 20/300 [00:07<01:47,  2.61it/s]"
     ]
    },
    {
     "name": "stdout",
     "output_type": "stream",
     "text": [
      "articles to scrap: 10\n"
     ]
    },
    {
     "name": "stderr",
     "output_type": "stream",
     "text": [
      " 10%|█         | 30/300 [00:11<01:43,  2.61it/s]"
     ]
    },
    {
     "name": "stdout",
     "output_type": "stream",
     "text": [
      "articles to scrap: 10\n"
     ]
    },
    {
     "name": "stderr",
     "output_type": "stream",
     "text": [
      " 13%|█▎        | 40/300 [00:15<01:41,  2.55it/s]"
     ]
    },
    {
     "name": "stdout",
     "output_type": "stream",
     "text": [
      "articles to scrap: 10\n"
     ]
    },
    {
     "name": "stderr",
     "output_type": "stream",
     "text": [
      " 17%|█▋        | 50/300 [00:19<01:37,  2.57it/s]"
     ]
    },
    {
     "name": "stdout",
     "output_type": "stream",
     "text": [
      "articles to scrap: 10\n"
     ]
    },
    {
     "name": "stderr",
     "output_type": "stream",
     "text": [
      " 20%|██        | 60/300 [00:23<01:39,  2.42it/s]"
     ]
    },
    {
     "name": "stdout",
     "output_type": "stream",
     "text": [
      "articles to scrap: 10\n"
     ]
    },
    {
     "name": "stderr",
     "output_type": "stream",
     "text": [
      " 23%|██▎       | 70/300 [00:27<01:32,  2.50it/s]"
     ]
    },
    {
     "name": "stdout",
     "output_type": "stream",
     "text": [
      "articles to scrap: 10\n"
     ]
    },
    {
     "name": "stderr",
     "output_type": "stream",
     "text": [
      " 27%|██▋       | 80/300 [00:31<01:29,  2.46it/s]"
     ]
    },
    {
     "name": "stdout",
     "output_type": "stream",
     "text": [
      "articles to scrap: 10\n"
     ]
    },
    {
     "name": "stderr",
     "output_type": "stream",
     "text": [
      " 30%|███       | 90/300 [00:36<01:31,  2.30it/s]"
     ]
    },
    {
     "name": "stdout",
     "output_type": "stream",
     "text": [
      "articles to scrap: 10\n"
     ]
    },
    {
     "name": "stderr",
     "output_type": "stream",
     "text": [
      " 33%|███▎      | 100/300 [00:40<01:25,  2.33it/s]"
     ]
    },
    {
     "name": "stdout",
     "output_type": "stream",
     "text": [
      "articles to scrap: 10\n"
     ]
    },
    {
     "name": "stderr",
     "output_type": "stream",
     "text": [
      " 37%|███▋      | 110/300 [00:44<01:19,  2.39it/s]"
     ]
    },
    {
     "name": "stdout",
     "output_type": "stream",
     "text": [
      "articles to scrap: 10\n"
     ]
    },
    {
     "name": "stderr",
     "output_type": "stream",
     "text": [
      " 40%|████      | 120/300 [00:48<01:13,  2.44it/s]"
     ]
    },
    {
     "name": "stdout",
     "output_type": "stream",
     "text": [
      "articles to scrap: 10\n"
     ]
    },
    {
     "name": "stderr",
     "output_type": "stream",
     "text": [
      " 43%|████▎     | 130/300 [00:53<01:10,  2.40it/s]"
     ]
    },
    {
     "name": "stdout",
     "output_type": "stream",
     "text": [
      "articles to scrap: 10\n"
     ]
    },
    {
     "name": "stderr",
     "output_type": "stream",
     "text": [
      " 47%|████▋     | 140/300 [00:57<01:07,  2.38it/s]"
     ]
    },
    {
     "name": "stdout",
     "output_type": "stream",
     "text": [
      "articles to scrap: 10\n"
     ]
    },
    {
     "name": "stderr",
     "output_type": "stream",
     "text": [
      " 50%|█████     | 150/300 [01:01<01:01,  2.44it/s]"
     ]
    },
    {
     "name": "stdout",
     "output_type": "stream",
     "text": [
      "articles to scrap: 10\n"
     ]
    },
    {
     "name": "stderr",
     "output_type": "stream",
     "text": [
      " 53%|█████▎    | 160/300 [01:05<00:57,  2.44it/s]"
     ]
    },
    {
     "name": "stdout",
     "output_type": "stream",
     "text": [
      "articles to scrap: 10\n"
     ]
    },
    {
     "name": "stderr",
     "output_type": "stream",
     "text": [
      " 57%|█████▋    | 170/300 [01:09<00:53,  2.42it/s]"
     ]
    },
    {
     "name": "stdout",
     "output_type": "stream",
     "text": [
      "articles to scrap: 10\n"
     ]
    },
    {
     "name": "stderr",
     "output_type": "stream",
     "text": [
      " 60%|██████    | 180/300 [01:13<00:48,  2.46it/s]"
     ]
    },
    {
     "name": "stdout",
     "output_type": "stream",
     "text": [
      "articles to scrap: 10\n"
     ]
    },
    {
     "name": "stderr",
     "output_type": "stream",
     "text": [
      " 63%|██████▎   | 190/300 [01:17<00:43,  2.52it/s]"
     ]
    },
    {
     "name": "stdout",
     "output_type": "stream",
     "text": [
      "articles to scrap: 10\n"
     ]
    },
    {
     "name": "stderr",
     "output_type": "stream",
     "text": [
      " 67%|██████▋   | 200/300 [01:21<00:41,  2.42it/s]"
     ]
    },
    {
     "name": "stdout",
     "output_type": "stream",
     "text": [
      "articles to scrap: 10\n"
     ]
    },
    {
     "name": "stderr",
     "output_type": "stream",
     "text": [
      " 70%|███████   | 210/300 [01:25<00:36,  2.45it/s]"
     ]
    },
    {
     "name": "stdout",
     "output_type": "stream",
     "text": [
      "articles to scrap: 10\n"
     ]
    },
    {
     "name": "stderr",
     "output_type": "stream",
     "text": [
      " 73%|███████▎  | 220/300 [01:29<00:32,  2.46it/s]"
     ]
    },
    {
     "name": "stdout",
     "output_type": "stream",
     "text": [
      "articles to scrap: 10\n"
     ]
    },
    {
     "name": "stderr",
     "output_type": "stream",
     "text": [
      " 77%|███████▋  | 230/300 [01:33<00:27,  2.52it/s]"
     ]
    },
    {
     "name": "stdout",
     "output_type": "stream",
     "text": [
      "articles to scrap: 10\n"
     ]
    },
    {
     "name": "stderr",
     "output_type": "stream",
     "text": [
      " 80%|████████  | 240/300 [01:37<00:23,  2.53it/s]"
     ]
    },
    {
     "name": "stdout",
     "output_type": "stream",
     "text": [
      "articles to scrap: 10\n"
     ]
    },
    {
     "name": "stderr",
     "output_type": "stream",
     "text": [
      " 83%|████████▎ | 250/300 [01:41<00:19,  2.56it/s]"
     ]
    },
    {
     "name": "stdout",
     "output_type": "stream",
     "text": [
      "articles to scrap: 10\n"
     ]
    },
    {
     "name": "stderr",
     "output_type": "stream",
     "text": [
      " 87%|████████▋ | 260/300 [01:44<00:15,  2.62it/s]"
     ]
    },
    {
     "name": "stdout",
     "output_type": "stream",
     "text": [
      "articles to scrap: 10\n"
     ]
    },
    {
     "name": "stderr",
     "output_type": "stream",
     "text": [
      " 90%|█████████ | 270/300 [01:48<00:11,  2.57it/s]"
     ]
    },
    {
     "name": "stdout",
     "output_type": "stream",
     "text": [
      "articles to scrap: 10\n"
     ]
    },
    {
     "name": "stderr",
     "output_type": "stream",
     "text": [
      " 93%|█████████▎| 280/300 [01:52<00:07,  2.57it/s]"
     ]
    },
    {
     "name": "stdout",
     "output_type": "stream",
     "text": [
      "articles to scrap: 10\n"
     ]
    },
    {
     "name": "stderr",
     "output_type": "stream",
     "text": [
      " 97%|█████████▋| 290/300 [01:56<00:03,  2.61it/s]"
     ]
    },
    {
     "name": "stdout",
     "output_type": "stream",
     "text": [
      "articles to scrap: 10\n"
     ]
    },
    {
     "name": "stderr",
     "output_type": "stream",
     "text": [
      "100%|██████████| 300/300 [02:00<00:00,  2.49it/s]\n"
     ]
    }
   ],
   "source": [
    "no_scrapped_articles = 0\n",
    "page_no=1\n",
    "scrapped_articles = list()\n",
    "\n",
    "logging.info(f'no_articles_to_scrap: {no_articles_to_scrap}')\n",
    "\n",
    "pbar = tqdm(total=no_articles_to_scrap)\n",
    "while no_scrapped_articles < no_articles_to_scrap:\n",
    "    logging.info('next page: '+website+pagination_attributes+str(page_no))\n",
    "    new_articles = scrap_articles_plotek(website+pagination_attributes+str(page_no))\n",
    "    page_size = len(new_articles)\n",
    "    logging.info(f'new_articles: {page_size}')\n",
    "    if no_scrapped_articles + page_size > no_articles_to_scrap:\n",
    "        page_size = no_articles_to_scrap - no_scrapped_articles\n",
    "    scrapped_articles.extend(new_articles[:page_size])\n",
    "    logging.info(f'scrapped new articles: {page_size}')\n",
    "    no_scrapped_articles += page_size\n",
    "    pbar.update(page_size)\n",
    "    logging.info(f'no_scrapped_articles (total): {no_scrapped_articles}')\n",
    "    page_no += 1\n",
    "    if len(scrapped_articles) <= 0:\n",
    "        logging.debug(f'0 articles scrapped!')\n",
    "        break\n",
    "pbar.close()"
   ],
   "metadata": {
    "collapsed": false,
    "pycharm": {
     "name": "#%%\n"
    }
   }
  },
  {
   "cell_type": "code",
   "execution_count": 9,
   "outputs": [
    {
     "name": "stderr",
     "output_type": "stream",
     "text": [
      "100%|██████████| 300/300 [00:00<00:00, 30008.61it/s]"
     ]
    },
    {
     "name": "stdout",
     "output_type": "stream",
     "text": [
      "0: 801\n",
      "1: 1390\n",
      "2: 3858\n",
      "3: 3353\n",
      "4: 3099\n",
      "5: 1359\n",
      "6: 1099\n",
      "7: 1246\n",
      "8: 2565\n",
      "9: 1370\n",
      "10: 1688\n",
      "11: 1648\n",
      "12: 2898\n",
      "13: 1496\n",
      "14: 1496\n",
      "15: 1075\n",
      "16: 1919\n",
      "17: 1230\n",
      "18: 1651\n",
      "19: 1139\n",
      "20: 995\n",
      "21: 1073\n",
      "22: 1335\n",
      "23: 1415\n",
      "24: 1539\n",
      "25: 1415\n",
      "26: 1356\n",
      "27: 1177\n",
      "28: 1693\n",
      "29: 1251\n",
      "30: 1657\n",
      "31: 841\n",
      "32: 1287\n",
      "33: 945\n",
      "34: 1507\n",
      "35: 1143\n",
      "36: 936\n",
      "37: 989\n",
      "38: 1275\n",
      "39: 1251\n",
      "40: 1464\n",
      "41: 930\n",
      "42: 1411\n",
      "43: 1786\n",
      "44: 1485\n",
      "45: 1354\n",
      "46: 1054\n",
      "47: 1017\n",
      "48: 935\n",
      "49: 1634\n",
      "50: 1599\n",
      "51: 1053\n",
      "52: 1243\n",
      "53: 1756\n",
      "54: 1807\n",
      "55: 1251\n",
      "56: 1106\n",
      "57: 1559\n",
      "58: 1343\n",
      "59: 1332\n",
      "60: 1148\n",
      "61: 1633\n",
      "62: 1009\n",
      "63: 1582\n",
      "64: 1562\n",
      "65: 2015\n",
      "66: 1944\n",
      "67: 1210\n",
      "68: 1227\n",
      "69: 1323\n",
      "70: 1003\n",
      "71: 1228\n",
      "72: 1342\n",
      "73: 1332\n",
      "74: 1231\n",
      "75: 1383\n",
      "76: 1513\n",
      "77: 1552\n",
      "78: 1374\n",
      "79: 1797\n",
      "80: 3721\n",
      "81: 1258\n",
      "82: 1153\n",
      "83: 1430\n",
      "84: 3219\n",
      "85: 1404\n",
      "86: 1249\n",
      "87: 1688\n",
      "88: 1219\n",
      "89: 1424\n",
      "90: 1491\n",
      "91: 1450\n",
      "92: 1105\n",
      "93: 1292\n",
      "94: 1185\n",
      "95: 1489\n",
      "96: 1383\n",
      "97: 1175\n",
      "98: 1337\n",
      "99: 2039\n",
      "100: 1496\n",
      "101: 1746\n",
      "102: 1540\n",
      "103: 1666\n",
      "104: 1536\n",
      "105: 1299\n",
      "106: 1266\n",
      "107: 1569\n",
      "108: 1838\n",
      "109: 1465\n",
      "110: 1093\n",
      "111: 1886\n",
      "112: 834\n",
      "113: 934\n",
      "114: 1764\n",
      "115: 1344\n",
      "116: 2393\n",
      "117: 1295\n",
      "118: 1242\n",
      "119: 1526\n",
      "120: 1188\n",
      "121: 4569\n",
      "122: 929\n",
      "123: 1385\n",
      "124: 833\n",
      "125: 1266\n",
      "126: 1238\n",
      "127: 1659\n",
      "128: 1585\n",
      "129: 1738\n",
      "130: 899\n",
      "131: 1504\n",
      "132: 1483\n",
      "133: 3268\n",
      "134: 1253\n",
      "135: 1729\n",
      "136: 1463\n",
      "137: 1456\n",
      "138: 1277\n",
      "139: 1379\n",
      "140: 1694\n",
      "141: 1857\n",
      "142: 1190\n",
      "143: 1490\n",
      "144: 1611\n",
      "145: 1533\n",
      "146: 1310\n",
      "147: 1412\n",
      "148: 1291\n",
      "149: 1671\n",
      "150: 1197\n",
      "151: 913\n",
      "152: 1198\n",
      "153: 1118\n",
      "154: 958\n",
      "155: 1216\n",
      "156: 1024\n",
      "157: 1044\n",
      "158: 1485\n",
      "159: 889\n",
      "160: 1383\n",
      "161: 1332\n",
      "162: 1266\n",
      "163: 2043\n",
      "164: 1121\n",
      "165: 1932\n",
      "166: 1448\n",
      "167: 2140\n",
      "168: 1084\n",
      "169: 1261\n",
      "170: 1869\n",
      "171: 1161\n",
      "172: 1166\n",
      "173: 1325\n",
      "174: 1418\n",
      "175: 1409\n",
      "176: 1242\n",
      "177: 3791\n",
      "178: 1474\n",
      "179: 2954\n",
      "180: 958\n",
      "181: 1272\n",
      "182: 2021\n",
      "183: 1439\n",
      "184: 1428\n",
      "185: 1689\n",
      "186: 1032\n",
      "187: 1654\n",
      "188: 2034\n",
      "189: 1404\n",
      "190: 1126\n",
      "191: 1043\n",
      "192: 1348\n",
      "193: 1272\n",
      "194: 1217\n",
      "195: 1171\n",
      "196: 1196\n",
      "197: 1058\n",
      "198: 3232\n",
      "199: 1532\n",
      "200: 970\n",
      "201: 1458\n",
      "202: 1460\n",
      "203: 1238\n",
      "204: 2171\n",
      "205: 1302\n",
      "206: 1232\n",
      "207: 2232\n",
      "208: 1323\n",
      "209: 1675\n",
      "210: 1015\n",
      "211: 1136\n",
      "212: 1397\n",
      "213: 1934\n",
      "214: 917\n",
      "215: 1411\n",
      "216: 1031\n",
      "217: 2273\n",
      "218: 3818\n",
      "219: 1377\n",
      "220: 1002\n",
      "221: 1641\n",
      "222: 1139\n",
      "223: 1627\n",
      "224: 1798\n",
      "225: 1506\n",
      "226: 1756\n",
      "227: 1210\n",
      "228: 1413\n",
      "229: 2267\n",
      "230: 1029\n",
      "231: 1220\n",
      "232: 1515\n",
      "233: 1448\n",
      "234: 1127\n",
      "235: 1245\n",
      "236: 4430\n",
      "237: 1485\n",
      "238: 1079\n",
      "239: 1329\n",
      "240: 1473\n",
      "241: 1213\n",
      "242: 1569\n",
      "243: 1185\n",
      "244: 1368\n",
      "245: 1165\n",
      "246: 1511\n",
      "247: 1456\n",
      "248: 786\n",
      "249: 1253\n",
      "250: 1659\n",
      "251: 1335\n",
      "252: 976\n",
      "253: 1325\n",
      "254: 911\n",
      "255: 1170\n",
      "256: 979\n",
      "257: 1293\n",
      "258: 900\n",
      "259: 1257\n",
      "260: 1490\n",
      "261: 1312\n",
      "262: 1670\n",
      "263: 862\n",
      "264: 1079\n",
      "265: 3259\n",
      "266: 1484\n",
      "267: 1049\n",
      "268: 1851\n",
      "269: 1000\n",
      "270: 2164\n",
      "271: 1439\n",
      "272: 1292\n",
      "273: 3284\n",
      "274: 1257\n",
      "275: 1278\n",
      "276: 1363\n",
      "277: 1913\n",
      "278: 4384\n",
      "279: 2919\n",
      "280: 5964\n",
      "281: 1293\n",
      "282: 1154\n",
      "283: 1053\n",
      "284: 1288\n",
      "285: 970\n",
      "286: 1252\n",
      "287: 1371\n",
      "288: 988\n",
      "289: 1142\n",
      "290: 1215\n",
      "291: 904\n",
      "292: 714\n",
      "293: 1342\n",
      "294: 915\n",
      "295: 1447\n",
      "296: 1598\n",
      "297: 1224\n",
      "298: 1363\n",
      "299: 1581\n"
     ]
    },
    {
     "name": "stderr",
     "output_type": "stream",
     "text": [
      "\n"
     ]
    }
   ],
   "source": [
    "for i in trange(len(scrapped_articles)):\n",
    "    # print(f'{i}: {scrapped_articles[i].lead_text}')\n",
    "    print(f'{i}: {len(scrapped_articles[i].text)}')"
   ],
   "metadata": {
    "collapsed": false,
    "pycharm": {
     "name": "#%%\n"
    }
   }
  },
  {
   "cell_type": "code",
   "execution_count": 10,
   "outputs": [
    {
     "data": {
      "text/plain": "                                                 title  \\\n0    WOŚP. Woźniak-Starak wystawiła na licytację to...   \n1    Gaspard Ulliel zmarł w wyniku tragicznego wypa...   \n2    Tilda Swinton jako... Bridget Jones? Nie tylko...   \n3    Kossakowski zbierał ziemniaki, a Zawadzka prow...   \n4    Była oczkiem w głowie wuja, odziedziczyła fort...   \n..                                                 ...   \n295  Gala Marki Roku. Blance Lipińskiej bardziej od...   \n296  Kurdej-Szatan z mężem i dziećmi w bliźniaczych...   \n297  Blanka Lipińska wprowadziła się do nowego apar...   \n298  Metamorfoza 77-letniej panny młodej. Powstało ...   \n299  Na gali Marki Roku królowała czerń, aż weszła ...   \n\n                                             title_int  \\\n0    WOŚP. Woźniak-Starak wystawiła na licytację to...   \n1    Gaspard Ulliel zmarł w wyniku tragicznego wypa...   \n2    Tilda Swinton jako... Bridget Jones? Nie tylko...   \n3    Kossakowski zbierał ziemniaki, a Zawadzka prow...   \n4    Była oczkiem w głowie wuja, odziedziczyła fort...   \n..                                                 ...   \n295  Gala Marki Roku. Blance Lipińskiej bardziej od...   \n296  Kurdej-Szatan z mężem i dziećmi w bliźniaczych...   \n297  Blanka Lipińska wprowadziła się do nowego apar...   \n298  Metamorfoza 77-letniej panny młodej. Powstało ...   \n299  Na gali Marki Roku królowała czerń, aż weszła ...   \n\n                                             lead_text  \\\n0    Nadchodzący finał Wielkiej Orkiestry Świąteczn...   \n1    Prokuratura wydała oświadczenie na temat tego,...   \n2    Choć największe kinowe hity zapamiętywane są d...   \n3    Osoby, które znamy ze szklanego ekranu, zazwyc...   \n4    Od najmłodszych lat była obecna w branży mody,...   \n..                                                 ...   \n295  Blanka Lipińska wzięła udział w gali Marki Rok...   \n296  15 grudnia gwiazdy pojawiły się na premierze m...   \n297  Blanka Lipińska wprowadziła się do nowego apar...   \n298  Odpowiedni sztab specjalistów może czynić cuda...   \n299  Anna Lewandowska była jedną z gwiazd, które w ...   \n\n                                         lead_text_int  \\\n0    Nadchodzący finał Wielkiej Orkiestry Świąteczn...   \n1    Prokuratura wydała oświadczenie na temat tego,...   \n2    Choć największe kinowe hity zapamiętywane są d...   \n3    Osoby, które znamy ze szklanego ekranu, zazwyc...   \n4    Od najmłodszych lat była obecna w branży mody,...   \n..                                                 ...   \n295  Blanka Lipińska wzięła udział w gali Marki Rok...   \n296  15 grudnia gwiazdy pojawiły się na premierze m...   \n297  Blanka Lipińska wprowadziła się do nowego apar...   \n298  Odpowiedni sztab specjalistów może czynić cuda...   \n299  Anna Lewandowska była jedną z gwiazd, które w ...   \n\n                                                  link  \\\n0    https://www.plotek.pl/plotek/7,154063,28020376...   \n1    https://www.plotek.pl/plotek/7,154063,28020408...   \n2    https://www.plotek.pl/plotek/7,154063,28016504...   \n3    https://www.plotek.pl/plotek/7,154063,28017851...   \n4    https://www.plotek.pl/plotek/7,154063,28017105...   \n..                                                 ...   \n295  https://www.plotek.pl/plotek/7,154063,27917772...   \n296  https://www.plotek.pl/plotek/7,154063,27917763...   \n297  https://www.plotek.pl/plotek/7,78649,27916282,...   \n298  https://www.plotek.pl/plotek/7,154063,27915709...   \n299  https://www.plotek.pl/plotek/7,154063,27917619...   \n\n                                                  text      when_published  \\\n0    Wielkimi krokami zbliża się 30. Finał Wielkiej... 2022-01-19 22:13:00   \n1    19 stycznia świat obiegła informacja o śmierci... 2022-01-19 21:46:00   \n2    Kultowe filmy niemal zawsze są połączone są z ... 2022-01-19 21:20:00   \n3    72-letnia Vera Wang również zaczęła projektowa... 2022-01-19 20:55:00   \n4    30 czerwca 1986 roku w Mediolanie przyszła na ... 2022-01-19 20:20:00   \n..                                                 ...                 ...   \n295  Poza Blanką Lipińską na gali pojawiło się wiel... 2021-12-15 22:40:00   \n296  Tłum gwiazd pojawił się 15 grudnia na premierz... 2021-12-15 22:20:00   \n297  Przez ostatnie miesiące Blanka Lipińska remont... 2021-12-15 21:35:00   \n298  Pod koniec listopada na TikToku pojawiło się n... 2021-12-15 21:15:00   \n299  15 grudnia w Warszawie odbyła się prestiżowa g... 2021-12-15 20:42:00   \n\n              author source  portal  \n0       Agata Polcyn   None  plotek  \n1      Joanna Labuda   None  plotek  \n2     Wojciech Zając   None  plotek  \n3     Karolina Gawot   None  plotek  \n4      Monika Tatara   None  plotek  \n..               ...    ...     ...  \n295    Joanna Labuda   None  plotek  \n296     Anna Goworek   None  plotek  \n297    Joanna Labuda   None  plotek  \n298  Kamil Zajkowski   None  plotek  \n299    Joanna Labuda   None  plotek  \n\n[300 rows x 10 columns]",
      "text/html": "<div>\n<style scoped>\n    .dataframe tbody tr th:only-of-type {\n        vertical-align: middle;\n    }\n\n    .dataframe tbody tr th {\n        vertical-align: top;\n    }\n\n    .dataframe thead th {\n        text-align: right;\n    }\n</style>\n<table border=\"1\" class=\"dataframe\">\n  <thead>\n    <tr style=\"text-align: right;\">\n      <th></th>\n      <th>title</th>\n      <th>title_int</th>\n      <th>lead_text</th>\n      <th>lead_text_int</th>\n      <th>link</th>\n      <th>text</th>\n      <th>when_published</th>\n      <th>author</th>\n      <th>source</th>\n      <th>portal</th>\n    </tr>\n  </thead>\n  <tbody>\n    <tr>\n      <th>0</th>\n      <td>WOŚP. Woźniak-Starak wystawiła na licytację to...</td>\n      <td>WOŚP. Woźniak-Starak wystawiła na licytację to...</td>\n      <td>Nadchodzący finał Wielkiej Orkiestry Świąteczn...</td>\n      <td>Nadchodzący finał Wielkiej Orkiestry Świąteczn...</td>\n      <td>https://www.plotek.pl/plotek/7,154063,28020376...</td>\n      <td>Wielkimi krokami zbliża się 30. Finał Wielkiej...</td>\n      <td>2022-01-19 22:13:00</td>\n      <td>Agata Polcyn</td>\n      <td>None</td>\n      <td>plotek</td>\n    </tr>\n    <tr>\n      <th>1</th>\n      <td>Gaspard Ulliel zmarł w wyniku tragicznego wypa...</td>\n      <td>Gaspard Ulliel zmarł w wyniku tragicznego wypa...</td>\n      <td>Prokuratura wydała oświadczenie na temat tego,...</td>\n      <td>Prokuratura wydała oświadczenie na temat tego,...</td>\n      <td>https://www.plotek.pl/plotek/7,154063,28020408...</td>\n      <td>19 stycznia świat obiegła informacja o śmierci...</td>\n      <td>2022-01-19 21:46:00</td>\n      <td>Joanna Labuda</td>\n      <td>None</td>\n      <td>plotek</td>\n    </tr>\n    <tr>\n      <th>2</th>\n      <td>Tilda Swinton jako... Bridget Jones? Nie tylko...</td>\n      <td>Tilda Swinton jako... Bridget Jones? Nie tylko...</td>\n      <td>Choć największe kinowe hity zapamiętywane są d...</td>\n      <td>Choć największe kinowe hity zapamiętywane są d...</td>\n      <td>https://www.plotek.pl/plotek/7,154063,28016504...</td>\n      <td>Kultowe filmy niemal zawsze są połączone są z ...</td>\n      <td>2022-01-19 21:20:00</td>\n      <td>Wojciech Zając</td>\n      <td>None</td>\n      <td>plotek</td>\n    </tr>\n    <tr>\n      <th>3</th>\n      <td>Kossakowski zbierał ziemniaki, a Zawadzka prow...</td>\n      <td>Kossakowski zbierał ziemniaki, a Zawadzka prow...</td>\n      <td>Osoby, które znamy ze szklanego ekranu, zazwyc...</td>\n      <td>Osoby, które znamy ze szklanego ekranu, zazwyc...</td>\n      <td>https://www.plotek.pl/plotek/7,154063,28017851...</td>\n      <td>72-letnia Vera Wang również zaczęła projektowa...</td>\n      <td>2022-01-19 20:55:00</td>\n      <td>Karolina Gawot</td>\n      <td>None</td>\n      <td>plotek</td>\n    </tr>\n    <tr>\n      <th>4</th>\n      <td>Była oczkiem w głowie wuja, odziedziczyła fort...</td>\n      <td>Była oczkiem w głowie wuja, odziedziczyła fort...</td>\n      <td>Od najmłodszych lat była obecna w branży mody,...</td>\n      <td>Od najmłodszych lat była obecna w branży mody,...</td>\n      <td>https://www.plotek.pl/plotek/7,154063,28017105...</td>\n      <td>30 czerwca 1986 roku w Mediolanie przyszła na ...</td>\n      <td>2022-01-19 20:20:00</td>\n      <td>Monika Tatara</td>\n      <td>None</td>\n      <td>plotek</td>\n    </tr>\n    <tr>\n      <th>...</th>\n      <td>...</td>\n      <td>...</td>\n      <td>...</td>\n      <td>...</td>\n      <td>...</td>\n      <td>...</td>\n      <td>...</td>\n      <td>...</td>\n      <td>...</td>\n      <td>...</td>\n    </tr>\n    <tr>\n      <th>295</th>\n      <td>Gala Marki Roku. Blance Lipińskiej bardziej od...</td>\n      <td>Gala Marki Roku. Blance Lipińskiej bardziej od...</td>\n      <td>Blanka Lipińska wzięła udział w gali Marki Rok...</td>\n      <td>Blanka Lipińska wzięła udział w gali Marki Rok...</td>\n      <td>https://www.plotek.pl/plotek/7,154063,27917772...</td>\n      <td>Poza Blanką Lipińską na gali pojawiło się wiel...</td>\n      <td>2021-12-15 22:40:00</td>\n      <td>Joanna Labuda</td>\n      <td>None</td>\n      <td>plotek</td>\n    </tr>\n    <tr>\n      <th>296</th>\n      <td>Kurdej-Szatan z mężem i dziećmi w bliźniaczych...</td>\n      <td>Kurdej-Szatan z mężem i dziećmi w bliźniaczych...</td>\n      <td>15 grudnia gwiazdy pojawiły się na premierze m...</td>\n      <td>15 grudnia gwiazdy pojawiły się na premierze m...</td>\n      <td>https://www.plotek.pl/plotek/7,154063,27917763...</td>\n      <td>Tłum gwiazd pojawił się 15 grudnia na premierz...</td>\n      <td>2021-12-15 22:20:00</td>\n      <td>Anna Goworek</td>\n      <td>None</td>\n      <td>plotek</td>\n    </tr>\n    <tr>\n      <th>297</th>\n      <td>Blanka Lipińska wprowadziła się do nowego apar...</td>\n      <td>Blanka Lipińska wprowadziła się do nowego apar...</td>\n      <td>Blanka Lipińska wprowadziła się do nowego apar...</td>\n      <td>Blanka Lipińska wprowadziła się do nowego apar...</td>\n      <td>https://www.plotek.pl/plotek/7,78649,27916282,...</td>\n      <td>Przez ostatnie miesiące Blanka Lipińska remont...</td>\n      <td>2021-12-15 21:35:00</td>\n      <td>Joanna Labuda</td>\n      <td>None</td>\n      <td>plotek</td>\n    </tr>\n    <tr>\n      <th>298</th>\n      <td>Metamorfoza 77-letniej panny młodej. Powstało ...</td>\n      <td>Metamorfoza 77-letniej panny młodej. Powstało ...</td>\n      <td>Odpowiedni sztab specjalistów może czynić cuda...</td>\n      <td>Odpowiedni sztab specjalistów może czynić cuda...</td>\n      <td>https://www.plotek.pl/plotek/7,154063,27915709...</td>\n      <td>Pod koniec listopada na TikToku pojawiło się n...</td>\n      <td>2021-12-15 21:15:00</td>\n      <td>Kamil Zajkowski</td>\n      <td>None</td>\n      <td>plotek</td>\n    </tr>\n    <tr>\n      <th>299</th>\n      <td>Na gali Marki Roku królowała czerń, aż weszła ...</td>\n      <td>Na gali Marki Roku królowała czerń, aż weszła ...</td>\n      <td>Anna Lewandowska była jedną z gwiazd, które w ...</td>\n      <td>Anna Lewandowska była jedną z gwiazd, które w ...</td>\n      <td>https://www.plotek.pl/plotek/7,154063,27917619...</td>\n      <td>15 grudnia w Warszawie odbyła się prestiżowa g...</td>\n      <td>2021-12-15 20:42:00</td>\n      <td>Joanna Labuda</td>\n      <td>None</td>\n      <td>plotek</td>\n    </tr>\n  </tbody>\n</table>\n<p>300 rows × 10 columns</p>\n</div>"
     },
     "execution_count": 10,
     "metadata": {},
     "output_type": "execute_result"
    }
   ],
   "source": [
    "plotek_dataframe = pd.DataFrame(article.__dict__ for article in scrapped_articles)\n",
    "plotek_dataframe"
   ],
   "metadata": {
    "collapsed": false,
    "pycharm": {
     "name": "#%%\n"
    }
   }
  },
  {
   "cell_type": "code",
   "execution_count": 11,
   "outputs": [],
   "source": [
    "timestamp = int((datetime.now(timezone.utc)).timestamp())"
   ],
   "metadata": {
    "collapsed": false,
    "pycharm": {
     "name": "#%%\n"
    }
   }
  },
  {
   "cell_type": "code",
   "execution_count": 12,
   "outputs": [],
   "source": [
    "plotek_dataframe.to_parquet(f'{data_dir}/{portal_name}_{timestamp}.parquet')\n",
    "plotek_dataframe.to_json(f'{data_dir}/{portal_name}_{timestamp}.json')"
   ],
   "metadata": {
    "collapsed": false,
    "pycharm": {
     "name": "#%%\n"
    }
   }
  },
  {
   "cell_type": "markdown",
   "source": [
    "Krótki test - dane pierwszego artykułu"
   ],
   "metadata": {
    "collapsed": false
   }
  },
  {
   "cell_type": "code",
   "execution_count": 13,
   "outputs": [
    {
     "name": "stdout",
     "output_type": "stream",
     "text": [
      "title:\n",
      "  WOŚP. Woźniak-Starak wystawiła na licytację torebki. Wszystkie warte po kilka tysięcy! Jedna to... PODUSZKA\n",
      "lead_text:\n",
      "  Nadchodzący finał Wielkiej Orkiestry Świątecznej Pomocy angażuje wiele znanych osób. Z orkiestrą Juka Owsiaka gra też Agnieszka Woźniak-Starak. Co przekazała na aukcję?\n",
      "lead_text_int:\n",
      "  Nadchodzący finał Wielkiej Orkiestry Świątecznej Pomocy angażuje wiele znanych osób. Z orkiestrą Juka Owsiaka gra też Agnieszka Woźniak-Starak. Co przekazała na aukcję?\n",
      "link:\n",
      "  https://www.plotek.pl/plotek/7,154063,28020376,agnieszka-wozniak-starak-wspiera-wosp-przekazalam-na-aukcje.html\n",
      "text:\n",
      "  Wielkimi krokami zbliża się 30. Finał Wielkiej Orkiestry Świątecznej Pomocy. Wiele gwiazd angażuje się we wsparcie akcji. Dołączyła do nich także Agnieszka Woźniak-Starak. Postanowiła oddać na licytacje to, co kocha - torebki. Zwycięzca zgarnie cały zestaw. Według celebrytki to same perełki. Zobaczcie! Informacją o przekazaniu przedmiotów dla WOŚP Woźniak-Starak podzieliła się na InstaStories. Ostatecznie jednak można wylicytować zestaw unikalnych torebek z jej garderoby. Agnieszka Woźniak-Starak InstaStories Torebka-poduszka to jednak nie wszystko. Dzięki torebkom od Woźniak-Starak, można się poczuć jak w \"Seksie w wielkim mieście\". Kolejnym elementem zestawu jest praktyczna i pojemna torebka od Gucci. Dopełnieniem zestawu jest niewielka torebka w stylu boho od Chloe. Będziecie licytować? \n",
      "when_published:\n",
      "  2022-01-19 22:13:00\n"
     ]
    }
   ],
   "source": [
    "print(f'title:\\n  {plotek_dataframe.iloc[0][\"title\"]}')\n",
    "print(f'lead_text:\\n  {plotek_dataframe.iloc[0][\"lead_text\"]}')\n",
    "print(f'lead_text_int:\\n  {plotek_dataframe.iloc[0][\"lead_text_int\"]}')\n",
    "print(f'link:\\n  {plotek_dataframe.iloc[0][\"link\"]}')\n",
    "print(f'text:\\n  {plotek_dataframe.iloc[0][\"text\"]}')\n",
    "print(f'when_published:\\n  {plotek_dataframe.iloc[0][\"when_published\"]}')"
   ],
   "metadata": {
    "collapsed": false,
    "pycharm": {
     "name": "#%%\n"
    }
   }
  },
  {
   "cell_type": "code",
   "execution_count": 14,
   "outputs": [
    {
     "name": "stdout",
     "output_type": "stream",
     "text": [
      "title:\n",
      "  Marta Manowska i brat Pawła Bodziannego na wspólnych wakacjach. Pojawiły się nowe dowody. Już się tak nie ukrywają\n",
      "lead_text:\n",
      "  Marta Manowska należy do grona gwiazd, które nie ujawniają szczegółów na temat życia prywatnego. Internauci uważają, że prowadząca show TVP i brat uczestnika \"Rolnik szuka żony\" są parą. Na ich profilach w mediach społecznościowych pojawiły się nowe dowody, dzięki którym fani mają pewność, że wspólnie wybrali się w podróż.\n",
      "link:\n",
      "  https://www.plotek.pl/plotek/7,154063,27985484,marta-manowska-i-brat-pawla-bodziannego-na-wspolnych-wakacjach.html\n",
      "text:\n",
      "  Marta Manowska na Instagramie relacjonuje podróż po Meksyku. Prowadząca \"Rolnik szuka żony\" i brat Pawła Bodziannego od kilkunastu dni dodają na Instagramie podobne relacje, zdjęcia i opisują te same wydarzenia, co nie umknęło uwadze spostrzegawczych internautów. Fani nie mają żadnych wątpliwości, że tych dwoje połączyło gorące uczucie i pasja do podróżowania. Teraz mają nowe dowody potwierdzające, że Marta i Robert Bodzianny urlop spędzają w swoim towarzystwie. ZOBACZ RÓWNIEŻ: \"Rolnik szuka żony\". Ci uczestnicy stanęli na ślubnym kobiercu. Tak wtedy wyglądali [ZDJĘCIA] Na temat życia miłosnego Marty Manowskiej pojawiło się już sporo spekulacji. Fani uważają, że dziennikarka jest w związku z bratem Pawła Bodziannego, który pojawił się w siódmej edycji show TVP. Manowska nie potwierdza, ani nie zaprzecza tym informacjom, ale komentarze sugerujące związek dziwnym trafem zniknęły z jej profilu. ZOBACZ: Marta Manowska wyjechała z bratem uczestnika \"Rolnik szuka żony\" na wakacje? Internauci są pewni i pokazują dowody Tym razem w sieci pojawiły się nowe dowody. Wygląda na to, że dziennikarka już tak pilnie nie strzeże tajemnicy, z kim wybrała się w podróż. Analizując udostępnione przez nią relacje, oraz to, co pojawiło się na Instagramie Roberta widać, że przebywają w tym samym miejscu i wspólnie korzystają z różnych atrakcji. Nowe dowody wskazujące, że Marta Manowska i Robert Bodzianny spędzają urlop we dwójkę Fot. Instagram/ martamanowska Robert również miał bliskie spotkanie z płaszczkami, być może to sama Marta wykonała mu pamiątkowe zdjęcie. Nowe dowody wskazujące, że Marta Manowska i Robert Bodzianny spędzają urlop we dwójkę Fot. Instagram/ jaba0909 Nie tylko te same miejsca przewijają się na InstaStory Manowskiej i Bodziannego, zgadza się również godzina ich publikacji. Na próżno szukać jednak ich wspólnej fotografii. Nowe dowody wskazujące, że Marta Manowska i Robert Bodzianny spędzają urlop we dwójkę Fot. Instagram/ martamanowska/ jaba0909 Fajna z nich para? Więcej zdjęć znajdziecie w naszej galerii. \n",
      "when_published:\n",
      "  2022-01-09 21:00:00\n"
     ]
    }
   ],
   "source": [
    "print(f'title:\\n  {plotek_dataframe.iloc[99][\"title\"]}')\n",
    "print(f'lead_text:\\n  {plotek_dataframe.iloc[99][\"lead_text\"]}')\n",
    "print(f'link:\\n  {plotek_dataframe.iloc[99][\"link\"]}')\n",
    "print(f'text:\\n  {plotek_dataframe.iloc[99][\"text\"]}')\n",
    "print(f'when_published:\\n  {plotek_dataframe.iloc[99][\"when_published\"]}')"
   ],
   "metadata": {
    "collapsed": false,
    "pycharm": {
     "name": "#%%\n"
    }
   }
  },
  {
   "cell_type": "code",
   "execution_count": 14,
   "outputs": [],
   "source": [],
   "metadata": {
    "collapsed": false,
    "pycharm": {
     "name": "#%%\n"
    }
   }
  }
 ],
 "metadata": {
  "kernelspec": {
   "display_name": "Python 3",
   "language": "python",
   "name": "python3"
  },
  "language_info": {
   "codemirror_mode": {
    "name": "ipython",
    "version": 2
   },
   "file_extension": ".py",
   "mimetype": "text/x-python",
   "name": "python",
   "nbconvert_exporter": "python",
   "pygments_lexer": "ipython2",
   "version": "2.7.6"
  }
 },
 "nbformat": 4,
 "nbformat_minor": 0
}