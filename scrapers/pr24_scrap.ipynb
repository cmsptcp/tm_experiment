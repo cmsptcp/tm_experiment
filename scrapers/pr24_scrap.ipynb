{
 "cells": [
  {
   "cell_type": "markdown",
   "metadata": {
    "collapsed": true,
    "pycharm": {
     "name": "#%% md\n"
    }
   },
   "source": [
    "Pobieranie wiadomości z polskieradio24.pl\n",
    "Zapis do pliku ./data/pr24_{timestamp}.txt"
   ]
  },
  {
   "cell_type": "code",
   "execution_count": 1,
   "outputs": [],
   "source": [
    "# ! pip install bs4\n",
    "# ! pip install requests\n",
    "# ! pip install tqdm\n",
    "# ! pip install pandas\n",
    "# ! pip install pyarrow\n",
    "# ! pip install qgrid\n",
    "# ! pip install blaze\n",
    "# ! pip install ipynbname"
   ],
   "metadata": {
    "collapsed": false,
    "pycharm": {
     "name": "#%%\n"
    }
   }
  },
  {
   "cell_type": "code",
   "execution_count": 2,
   "outputs": [],
   "source": [
    "import requests\n",
    "from bs4 import BeautifulSoup\n",
    "from tqdm import tqdm, trange\n",
    "from datetime import datetime, timezone\n",
    "from common.webarticle import WebArticle\n",
    "from common.pl_helper import PolishLocaleHelper\n",
    "import pandas as pd\n",
    "import logging\n",
    "import ipynbname"
   ],
   "metadata": {
    "collapsed": false,
    "pycharm": {
     "name": "#%%\n"
    }
   }
  },
  {
   "cell_type": "code",
   "execution_count": 3,
   "outputs": [],
   "source": [
    "# settings:\n",
    "portal_name = 'pr24'\n",
    "website = 'https://polskieradio24.pl/321/6713'\n",
    "pagination_attributes = '/Strona/'\n",
    "no_articles_to_scrap = 300\n",
    "data_dir = '../data'\n",
    "logging.basicConfig(\n",
    "    filename=f'../logs/{ipynbname.name()}.ipynb.log',\n",
    "    encoding='utf-8',\n",
    "    level=logging.DEBUG\n",
    ")\n",
    "ignored_paragraph_starts = ['POSŁUCHAJ', 'Zobacz także:']"
   ],
   "metadata": {
    "collapsed": false,
    "pycharm": {
     "name": "#%%\n"
    }
   }
  },
  {
   "cell_type": "markdown",
   "source": [
    "Sprawdźmy plik robots.txt, w czasie pisania tego kodu pozwalał na pobieranie plików z portalu pr24 z kategorii Polska"
   ],
   "metadata": {
    "collapsed": false
   }
  },
  {
   "cell_type": "code",
   "execution_count": 4,
   "outputs": [
    {
     "name": "stdout",
     "output_type": "stream",
     "text": [
      "User-agent: *\r\n",
      "Disallow: /cms/\r\n",
      "Disallow: /portal/player/PlayerGG.aspx\r\n",
      "Disallow: /loguj/\r\n",
      "Disallow: /8,Dwojka/41,Kontakt\r\n",
      "Disallow: /9/6500\r\n",
      "Disallow: /9,Trojka/6291,Ku-Niepodleglej\r\n",
      "Disallow: /Portal/AddUser.aspx\r\n",
      "Disallow: /82/1788/Artykul/872890%2CW-Polsce-nie-widac-uczciwych-ludzi\r\n",
      "Disallow: /7/6295\r\n",
      "Disallow: /Polskie-Radio-24/Tag99941\r\n",
      "Disallow: /43/581/ArtykulTime/2246911,VIII-etap-Rajdu-Dakar-2019-San-Juan-de-Marcona-Pisco\r\n",
      "Disallow: /images/\r\n",
      "Disallow: /*.file$\r\n",
      "Disallow: /*.mp3$\r\n",
      "Disallow: /*.jpg$\r\n",
      "Disallow: /43/581/ArtykulTime/2247561,IX-etap-Rajdu-Dakar-2019-Pisco\r\n",
      "Disallow: /43/581/Artykul/2234438,PS-w-skokach-narciarskich-w-Engelbergu\r\n",
      "Disallow: /5/1223/Artykul/2267647\r\n",
      "Disallow: /13/53/Artykul/2297139,Wielkie-spiewanie-i-granie-Moniuszki-w-200-rocznice-jego-urodzin\r\n",
      "Disallow: /53/Artykul/2297139,Wielkie-spiewanie-i-granie-Moniuszki-w-200-rocznice-jego-urodzin\r\n",
      "Disallow: /Artykul/2297139,Wielkie-spiewanie-i-granie-Moniuszki-w-200-rocznice-jego-urodzin\r\n",
      "Disallow: /10/\r\n",
      "Disallow: /10,Czworka/\r\n",
      "Disallow: /61/6326/\r\n",
      "Disallow: /Piotr-Zulnowski/Tag184333\r\n",
      "Disallow: /Ludzie/2656373,Piotr-Zulnowski\r\n",
      "Disallow: /473/\r\n",
      "Disallow: /473,Lato-z-Radiem-2021\r\n",
      "Disallow: /474\r\n",
      "Disallow: /474,Lato-z-Radiem-2021-Lokacje\r\n",
      "Disallow: /97/\r\n",
      "Disallow: /92/\r\n",
      "Disallow: /87/\r\n",
      "Disallow: /99/\r\n",
      "Disallow: /69/\r\n",
      "Disallow: /76/\r\n",
      "Disallow: /102/\n"
     ]
    }
   ],
   "source": [
    "resp = requests.get('https://polskieradio24.pl/robots.txt')\n",
    "print(resp.text)"
   ],
   "metadata": {
    "collapsed": false,
    "pycharm": {
     "name": "#%%\n"
    }
   }
  },
  {
   "cell_type": "code",
   "execution_count": 5,
   "outputs": [],
   "source": [
    "def check_if_ignored_paragraph(text, ignored_paragraphs, operation='startswith'):\n",
    "\n",
    "    for ignored_paragraph in ignored_paragraphs:\n",
    "        if operation == 'startswith':\n",
    "            if text.startswith(ignored_paragraph):\n",
    "                return True\n",
    "        else:\n",
    "            logging.debug(f'check_if_ignored: operation {operation} not implemented')\n",
    "    return False\n"
   ],
   "metadata": {
    "collapsed": false,
    "pycharm": {
     "name": "#%%\n"
    }
   }
  },
  {
   "cell_type": "code",
   "execution_count": 6,
   "outputs": [],
   "source": [
    "def scrap_article_text_pr24(link):\n",
    "    logging.info('scrap_article_text_pr24:')\n",
    "    logging.info(f'article link to scrap: {link}')\n",
    "\n",
    "    page = requests.get(link)\n",
    "    if page.status_code != 200:\n",
    "        logging.debug(f'received status code: {page.status_code}')\n",
    "        return '', ''\n",
    "\n",
    "    soup = BeautifulSoup(page.content, 'html.parser')\n",
    "    paragraphs = soup.find('div', class_='content').find_all('p')\n",
    "\n",
    "    text = ''\n",
    "    for paragraph in paragraphs[:-1]:\n",
    "        paragraph_text = paragraph.get_text(strip=True)\n",
    "        if check_if_ignored_paragraph(paragraph_text, ignored_paragraph_starts):\n",
    "            continue\n",
    "        text += paragraph_text + ' '\n",
    "\n",
    "    time_string = soup.find('div', class_='article-time').find('span', class_='time').get_text().strip()\n",
    "    when_published = datetime.strptime(time_string, \"%d.%m.%Y %H:%M\")\n",
    "\n",
    "    title_int = soup.find('h1', class_='title').get_text().strip()\n",
    "\n",
    "    lead_text_int = soup.find('div', class_='desc').get_text().strip()\n",
    "    author = ''\n",
    "    author_candidate = paragraphs[-1].get_text(strip=True)\n",
    "    if len(author_candidate) <= 50:\n",
    "        author = author_candidate\n",
    "    else:\n",
    "        text += author_candidate\n",
    "\n",
    "    source = soup.find('div', class_='article-source').find('span').get('class')[1]\n",
    "\n",
    "    return text, when_published, title_int, lead_text_int, author, source"
   ],
   "metadata": {
    "collapsed": false,
    "pycharm": {
     "name": "#%%\n"
    }
   }
  },
  {
   "cell_type": "code",
   "execution_count": 7,
   "outputs": [],
   "source": [
    "def scrap_articles_pr24(website):\n",
    "    logging.info('scrap_articles_pr24:')\n",
    "    logging.info(f'page with articles to scrap: {website}')\n",
    "\n",
    "    result = list()\n",
    "    page = requests.get(website)\n",
    "    if page.status_code != 200:\n",
    "        logging.debug(f'received status code: {page.status_code}')\n",
    "        return result\n",
    "\n",
    "    soup = BeautifulSoup(page.content, 'html.parser')\n",
    "    page_content = soup.select_one('div.articles-list-with-date').find_all('div',class_='articles-grid__col articles-grid__col_12-large')\n",
    "\n",
    "    print(f'articles to scrap: {len(page_content)}')\n",
    "\n",
    "    for article in page_content:\n",
    "\n",
    "        logging.info(f\"article scrapping started: {article}\")\n",
    "        title = article.find('h2',class_='article__title article__title_large').get_text().strip()\n",
    "        lead_text = article.find('span',class_='article__lead').get_text().strip()\n",
    "        link = article.find_all('a', href=True, class_='main-link')[0]['href']\n",
    "        webart = WebArticle(title, lead_text, link, *scrap_article_text_pr24(link),portal_name)\n",
    "        logging.info(f'webarticle scrapped: {webart}')\n",
    "        result.append(webart)\n",
    "\n",
    "    return result"
   ],
   "metadata": {
    "collapsed": false,
    "pycharm": {
     "name": "#%%\n"
    }
   }
  },
  {
   "cell_type": "code",
   "execution_count": 8,
   "outputs": [
    {
     "name": "stderr",
     "output_type": "stream",
     "text": [
      "  0%|          | 0/300 [00:00<?, ?it/s]"
     ]
    },
    {
     "name": "stdout",
     "output_type": "stream",
     "text": [
      "articles to scrap: 27\n"
     ]
    },
    {
     "name": "stderr",
     "output_type": "stream",
     "text": [
      "  9%|▉         | 27/300 [00:14<02:30,  1.81it/s]"
     ]
    },
    {
     "name": "stdout",
     "output_type": "stream",
     "text": [
      "articles to scrap: 27\n"
     ]
    },
    {
     "name": "stderr",
     "output_type": "stream",
     "text": [
      " 18%|█▊        | 54/300 [00:30<02:19,  1.76it/s]"
     ]
    },
    {
     "name": "stdout",
     "output_type": "stream",
     "text": [
      "articles to scrap: 27\n"
     ]
    },
    {
     "name": "stderr",
     "output_type": "stream",
     "text": [
      " 27%|██▋       | 81/300 [00:46<02:06,  1.74it/s]"
     ]
    },
    {
     "name": "stdout",
     "output_type": "stream",
     "text": [
      "articles to scrap: 27\n"
     ]
    },
    {
     "name": "stderr",
     "output_type": "stream",
     "text": [
      " 36%|███▌      | 108/300 [01:02<01:52,  1.71it/s]"
     ]
    },
    {
     "name": "stdout",
     "output_type": "stream",
     "text": [
      "articles to scrap: 27\n"
     ]
    },
    {
     "name": "stderr",
     "output_type": "stream",
     "text": [
      " 45%|████▌     | 135/300 [01:18<01:37,  1.69it/s]"
     ]
    },
    {
     "name": "stdout",
     "output_type": "stream",
     "text": [
      "articles to scrap: 27\n"
     ]
    },
    {
     "name": "stderr",
     "output_type": "stream",
     "text": [
      " 54%|█████▍    | 162/300 [01:32<01:18,  1.77it/s]"
     ]
    },
    {
     "name": "stdout",
     "output_type": "stream",
     "text": [
      "articles to scrap: 27\n"
     ]
    },
    {
     "name": "stderr",
     "output_type": "stream",
     "text": [
      " 63%|██████▎   | 189/300 [01:48<01:02,  1.76it/s]"
     ]
    },
    {
     "name": "stdout",
     "output_type": "stream",
     "text": [
      "articles to scrap: 27\n"
     ]
    },
    {
     "name": "stderr",
     "output_type": "stream",
     "text": [
      " 72%|███████▏  | 216/300 [02:02<00:47,  1.78it/s]"
     ]
    },
    {
     "name": "stdout",
     "output_type": "stream",
     "text": [
      "articles to scrap: 27\n"
     ]
    },
    {
     "name": "stderr",
     "output_type": "stream",
     "text": [
      " 81%|████████  | 243/300 [02:17<00:31,  1.80it/s]"
     ]
    },
    {
     "name": "stdout",
     "output_type": "stream",
     "text": [
      "articles to scrap: 27\n"
     ]
    },
    {
     "name": "stderr",
     "output_type": "stream",
     "text": [
      " 90%|█████████ | 270/300 [02:32<00:16,  1.82it/s]"
     ]
    },
    {
     "name": "stdout",
     "output_type": "stream",
     "text": [
      "articles to scrap: 27\n"
     ]
    },
    {
     "name": "stderr",
     "output_type": "stream",
     "text": [
      " 99%|█████████▉| 297/300 [02:46<00:01,  1.85it/s]"
     ]
    },
    {
     "name": "stdout",
     "output_type": "stream",
     "text": [
      "articles to scrap: 27\n"
     ]
    },
    {
     "name": "stderr",
     "output_type": "stream",
     "text": [
      "100%|██████████| 300/300 [03:01<00:00,  1.65it/s]\n"
     ]
    }
   ],
   "source": [
    "no_scrapped_articles = 0\n",
    "page_no=1\n",
    "scrapped_articles = list()\n",
    "\n",
    "logging.info(f'no_articles_to_scrap: {no_articles_to_scrap}')\n",
    "\n",
    "pbar = tqdm(total=no_articles_to_scrap)\n",
    "while no_scrapped_articles < no_articles_to_scrap:\n",
    "    logging.info('next page: '+website+pagination_attributes+str(page_no))\n",
    "    new_articles = scrap_articles_pr24(website+pagination_attributes+str(page_no))\n",
    "    page_size = len(new_articles)\n",
    "    logging.info(f'new_articles: {page_size}')\n",
    "    if no_scrapped_articles + page_size > no_articles_to_scrap:\n",
    "        page_size = no_articles_to_scrap - no_scrapped_articles\n",
    "    scrapped_articles.extend(new_articles[:page_size])\n",
    "    logging.info(f'scrapped new articles: {page_size}')\n",
    "    no_scrapped_articles += page_size\n",
    "    pbar.update(page_size)\n",
    "    logging.info(f'no_scrapped_articles (total): {no_scrapped_articles}')\n",
    "    page_no += 1\n",
    "    if len(scrapped_articles) <= 0:\n",
    "        logging.debug(f'0 articles scrapped!')\n",
    "        break\n",
    "pbar.close()"
   ],
   "metadata": {
    "collapsed": false,
    "pycharm": {
     "name": "#%%\n"
    }
   }
  },
  {
   "cell_type": "code",
   "execution_count": 9,
   "outputs": [
    {
     "name": "stderr",
     "output_type": "stream",
     "text": [
      "100%|██████████| 300/300 [00:00<00:00, 13610.36it/s]"
     ]
    },
    {
     "name": "stdout",
     "output_type": "stream",
     "text": [
      "0: 1493\n",
      "1: 2094\n",
      "2: 1549\n",
      "3: 722\n",
      "4: 1866\n",
      "5: 1277\n",
      "6: 2227\n",
      "7: 1347\n",
      "8: 1752\n",
      "9: 2083\n",
      "10: 1743\n",
      "11: 1569\n",
      "12: 658\n",
      "13: 2375\n",
      "14: 1820\n",
      "15: 201\n",
      "16: 1890\n",
      "17: 1294\n",
      "18: 2495\n",
      "19: 3790\n",
      "20: 2601\n",
      "21: 688\n",
      "22: 2630\n",
      "23: 1959\n",
      "24: 2767\n",
      "25: 3481\n",
      "26: 1467\n",
      "27: 2826\n",
      "28: 2648\n",
      "29: 1896\n",
      "30: 2850\n",
      "31: 2060\n",
      "32: 4205\n",
      "33: 1943\n",
      "34: 2246\n",
      "35: 2928\n",
      "36: 1679\n",
      "37: 1715\n",
      "38: 1744\n",
      "39: 2215\n",
      "40: 1858\n",
      "41: 1307\n",
      "42: 2122\n",
      "43: 4006\n",
      "44: 5512\n",
      "45: 3179\n",
      "46: 1630\n",
      "47: 2030\n",
      "48: 2131\n",
      "49: 2817\n",
      "50: 2631\n",
      "51: 1687\n",
      "52: 2319\n",
      "53: 2293\n",
      "54: 2003\n",
      "55: 490\n",
      "56: 2012\n",
      "57: 2730\n",
      "58: 1746\n",
      "59: 1775\n",
      "60: 1538\n",
      "61: 3992\n",
      "62: 1198\n",
      "63: 1516\n",
      "64: 2432\n",
      "65: 3573\n",
      "66: 1539\n",
      "67: 4218\n",
      "68: 1532\n",
      "69: 4686\n",
      "70: 4593\n",
      "71: 1567\n",
      "72: 2349\n",
      "73: 2035\n",
      "74: 1409\n",
      "75: 1862\n",
      "76: 2275\n",
      "77: 1178\n",
      "78: 2631\n",
      "79: 1297\n",
      "80: 5504\n",
      "81: 3417\n",
      "82: 535\n",
      "83: 1843\n",
      "84: 2955\n",
      "85: 1642\n",
      "86: 1414\n",
      "87: 1268\n",
      "88: 1485\n",
      "89: 2634\n",
      "90: 3715\n",
      "91: 1967\n",
      "92: 1801\n",
      "93: 2137\n",
      "94: 3065\n",
      "95: 1735\n",
      "96: 1897\n",
      "97: 1115\n",
      "98: 1949\n",
      "99: 2069\n",
      "100: 1872\n",
      "101: 5452\n",
      "102: 3281\n",
      "103: 2018\n",
      "104: 2396\n",
      "105: 3103\n",
      "106: 2578\n",
      "107: 2287\n",
      "108: 5998\n",
      "109: 1408\n",
      "110: 2979\n",
      "111: 4025\n",
      "112: 2005\n",
      "113: 2662\n",
      "114: 2363\n",
      "115: 1537\n",
      "116: 1699\n",
      "117: 3104\n",
      "118: 4088\n",
      "119: 2975\n",
      "120: 2299\n",
      "121: 1717\n",
      "122: 2407\n",
      "123: 2325\n",
      "124: 2254\n",
      "125: 1900\n",
      "126: 1660\n",
      "127: 1144\n",
      "128: 2176\n",
      "129: 4238\n",
      "130: 3859\n",
      "131: 3739\n",
      "132: 1564\n",
      "133: 4975\n",
      "134: 1479\n",
      "135: 4020\n",
      "136: 2353\n",
      "137: 1220\n",
      "138: 771\n",
      "139: 1926\n",
      "140: 549\n",
      "141: 2321\n",
      "142: 673\n",
      "143: 2227\n",
      "144: 1625\n",
      "145: 2915\n",
      "146: 2207\n",
      "147: 1627\n",
      "148: 1774\n",
      "149: 1794\n",
      "150: 4704\n",
      "151: 1702\n",
      "152: 1713\n",
      "153: 1562\n",
      "154: 1490\n",
      "155: 6114\n",
      "156: 2712\n",
      "157: 2232\n",
      "158: 2695\n",
      "159: 3066\n",
      "160: 2849\n",
      "161: 189\n",
      "162: 2346\n",
      "163: 5268\n",
      "164: 1318\n",
      "165: 1951\n",
      "166: 2714\n",
      "167: 2732\n",
      "168: 1759\n",
      "169: 1473\n",
      "170: 2090\n",
      "171: 3529\n",
      "172: 1749\n",
      "173: 2803\n",
      "174: 2181\n",
      "175: 2532\n",
      "176: 5162\n",
      "177: 1507\n",
      "178: 1816\n",
      "179: 2030\n",
      "180: 1610\n",
      "181: 3254\n",
      "182: 2240\n",
      "183: 798\n",
      "184: 3178\n",
      "185: 3042\n",
      "186: 926\n",
      "187: 1950\n",
      "188: 966\n",
      "189: 2945\n",
      "190: 2675\n",
      "191: 1476\n",
      "192: 1031\n",
      "193: 2112\n",
      "194: 2078\n",
      "195: 3657\n",
      "196: 2335\n",
      "197: 2319\n",
      "198: 1298\n",
      "199: 1509\n",
      "200: 2131\n",
      "201: 1496\n",
      "202: 3093\n",
      "203: 1595\n",
      "204: 2324\n",
      "205: 4565\n",
      "206: 1493\n",
      "207: 2404\n",
      "208: 542\n",
      "209: 2549\n",
      "210: 1889\n",
      "211: 1482\n",
      "212: 2328\n",
      "213: 1662\n",
      "214: 1203\n",
      "215: 2339\n",
      "216: 2030\n",
      "217: 1820\n",
      "218: 2591\n",
      "219: 1652\n",
      "220: 3149\n",
      "221: 2543\n",
      "222: 3026\n",
      "223: 2468\n",
      "224: 1808\n",
      "225: 2858\n",
      "226: 1592\n",
      "227: 3021\n",
      "228: 1805\n",
      "229: 2483\n",
      "230: 2554\n",
      "231: 2462\n",
      "232: 4976\n",
      "233: 3161\n",
      "234: 2932\n",
      "235: 1827\n",
      "236: 1727\n",
      "237: 3291\n",
      "238: 3991\n",
      "239: 2233\n",
      "240: 2036\n",
      "241: 2742\n",
      "242: 2970\n",
      "243: 1586\n",
      "244: 2346\n",
      "245: 1725\n",
      "246: 7365\n",
      "247: 2246\n",
      "248: 1772\n",
      "249: 2158\n",
      "250: 2427\n",
      "251: 1310\n",
      "252: 2853\n",
      "253: 1449\n",
      "254: 3539\n",
      "255: 2846\n",
      "256: 2025\n",
      "257: 1347\n",
      "258: 2431\n",
      "259: 1974\n",
      "260: 4045\n",
      "261: 3378\n",
      "262: 2611\n",
      "263: 2130\n",
      "264: 6227\n",
      "265: 1863\n",
      "266: 1739\n",
      "267: 2502\n",
      "268: 2587\n",
      "269: 3428\n",
      "270: 1704\n",
      "271: 859\n",
      "272: 1890\n",
      "273: 722\n",
      "274: 1641\n",
      "275: 707\n",
      "276: 1220\n",
      "277: 1959\n",
      "278: 4368\n",
      "279: 2014\n",
      "280: 3232\n",
      "281: 1721\n",
      "282: 2049\n",
      "283: 2172\n",
      "284: 2733\n",
      "285: 2018\n",
      "286: 1663\n",
      "287: 1977\n",
      "288: 2235\n",
      "289: 2217\n",
      "290: 2133\n",
      "291: 1717\n",
      "292: 1940\n",
      "293: 2712\n",
      "294: 2715\n",
      "295: 3340\n",
      "296: 1781\n",
      "297: 3508\n",
      "298: 10431\n",
      "299: 1892\n"
     ]
    },
    {
     "name": "stderr",
     "output_type": "stream",
     "text": [
      "\n"
     ]
    }
   ],
   "source": [
    "for i in trange(len(scrapped_articles)):\n",
    "    # print(f'{i}: {scrapped_articles[i].lead_text}')\n",
    "    print(f'{i}: {len(scrapped_articles[i].text)}')"
   ],
   "metadata": {
    "collapsed": false,
    "pycharm": {
     "name": "#%%\n"
    }
   }
  },
  {
   "cell_type": "code",
   "execution_count": 10,
   "outputs": [
    {
     "data": {
      "text/plain": "                                                 title  \\\n0    Zjednoczona Prawica liderem, PSL poza Sejmem. ...   \n1    Koronawirus w Polsce. Prof. Gut: spada liczba ...   \n2    Obowiązek pracy zdalnej w administracji public...   \n3    \"Potrzeba dalszych rozmów\". Premier Czech o sp...   \n4    Szef MZ mówi o \"eksplozji epidemii\" w Polsce. ...   \n..                                                 ...   \n295  Rząd przekazał Facebookowi sprzeciw wobec blok...   \n296  Tektura zamiast tylnej szyby. Tak kierowca wió...   \n297  Historia sprawców zbrodni w Auschwitz. Muzeum ...   \n298  \"Rzeźba w przestrzeni publicznej dla Niepodleg...   \n299  \"Czarnek jest absolutnie nieobiektywny\". Senys...   \n\n                                             title_int  \\\n0    Zjednoczona Prawica liderem, PSL poza Sejmem. ...   \n1    Koronawirus w Polsce. Prof. Gut: spada liczba ...   \n2    Obowiązek pracy zdalnej w administracji public...   \n3    \"Potrzeba dalszych rozmów\". Premier Czech o sp...   \n4    Szef MZ mówi o \"eksplozji epidemii\" w Polsce. ...   \n..                                                 ...   \n295  Rząd przekazał Facebookowi sprzeciw wobec blok...   \n296  Tektura zamiast tylnej szyby. Tak kierowca wió...   \n297  Historia sprawców zbrodni w Auschwitz. Muzeum ...   \n298  \"Rzeźba w przestrzeni publicznej dla Niepodleg...   \n299  \"Czarnek jest absolutnie nieobiektywny\". Senys...   \n\n                                             lead_text  \\\n0    Jak wynika z sondażu pracowni Social Changes p...   \n1    - Są ferie, imprezy, mamy karnawał, jest więce...   \n2    Minister zdrowia Adam Niedzielski poinformował...   \n3    Premier Czech Petr Fiala powiedział, że osiągn...   \n4    Wg danych pandemicznych, które zostaną przedst...   \n..                                                 ...   \n295  Janusz Cieszyński zapowiedział kontynuację pra...   \n296  Policyjny patrol ruchu drogowego w Wiśniewie n...   \n297  Muzeum Auschwitz udostępniło za pośrednictwem ...   \n298  Wicepremier, minister kultury i dziedzictwa na...   \n299  - Uważamy, że tego rodzaju ręczne sterowanie p...   \n\n                                         lead_text_int  \\\n0    Jak wynika z sondażu pracowni Social Changes p...   \n1    - Są ferie, imprezy, mamy karnawał, jest więce...   \n2    Minister zdrowia Adam Niedzielski poinformował...   \n3    Premier Czech Petr Fiala powiedział, że osiągn...   \n4    Wg danych pandemicznych, które zostaną przedst...   \n..                                                 ...   \n295  Janusz Cieszyński zapowiedział kontynuację pra...   \n296  Policyjny patrol ruchu drogowego w Wiśniewie n...   \n297  Muzeum Auschwitz udostępniło za pośrednictwem ...   \n298  Wicepremier, minister kultury i dziedzictwa na...   \n299  - Uważamy, że tego rodzaju ręczne sterowanie p...   \n\n                                                  link  \\\n0    https://www.polskieradio24.pl/5/1222/Artykul/2...   \n1    https://www.polskieradio24.pl/130/6257/Artykul...   \n2    https://www.polskieradio24.pl/5/1222/Artykul/2...   \n3    https://www.polskieradio24.pl/5/3/Artykul/2887...   \n4    https://www.polskieradio24.pl/5/1222/Artykul/2...   \n..                                                 ...   \n295  https://www.polskieradio24.pl/5/3/Artykul/2884...   \n296  https://www.polskieradio24.pl/5/1222/Artykul/2...   \n297  https://www.polskieradio24.pl/5/1222/Artykul/2...   \n298  https://www.polskieradio24.pl/5/1222/Artykul/2...   \n299  https://www.polskieradio24.pl/130/5925/Artykul...   \n\n                                                  text      when_published  \\\n0    \"Koalicja Obywatelska zmniejszyła dystans dzie... 2022-01-19 22:30:00   \n1    Środowe dane Ministerstwa Zdrowia mówią o 30 5... 2022-01-19 22:05:00   \n2    Adam Niedzielskibył w środę gościem TVP Info. ... 2022-01-19 21:43:00   \n3    Petr Fiala powiedział, że jestinformowany o po... 2022-01-19 20:55:00   \n4    Środowe dane Ministerstwa Zdrowia mówią o 30 5... 2022-01-19 20:41:00   \n..                                                 ...                 ...   \n295  - Będziemy kontynuowali pracę zarówno w kraju ... 2022-01-14 16:29:00   \n296  Jak poinformowała rzeczniczkaKomendy Powiatowe... 2022-01-14 16:16:00   \n297  Autorem lekcji o załodze SS jest kierownik cen... 2022-01-14 15:44:00   \n298  W piątek w Muzeum Rzeźby im. Xawerego Dunikows... 2022-01-14 15:41:00   \n299  Sejm uchwalił w czwartek nowelizację ustawy Pr... 2022-01-14 15:38:00   \n\n                    author            source portal  \n0                       ms               pap   pr24  \n1                   bartos    polskieradio24   pr24  \n2                       dn               iar   pr24  \n3                      kmp               iar   pr24  \n4        ms, PAP, TVP Info  polskieradio24pl   pr24  \n..                     ...               ...    ...  \n295  MF, PolskieRadio24.pl  polskieradio24pl   pr24  \n296                     dn            iarpap   pr24  \n297                     nj               pap   pr24  \n298                     nt               pap   pr24  \n299                     jb    polskieradio24   pr24  \n\n[300 rows x 10 columns]",
      "text/html": "<div>\n<style scoped>\n    .dataframe tbody tr th:only-of-type {\n        vertical-align: middle;\n    }\n\n    .dataframe tbody tr th {\n        vertical-align: top;\n    }\n\n    .dataframe thead th {\n        text-align: right;\n    }\n</style>\n<table border=\"1\" class=\"dataframe\">\n  <thead>\n    <tr style=\"text-align: right;\">\n      <th></th>\n      <th>title</th>\n      <th>title_int</th>\n      <th>lead_text</th>\n      <th>lead_text_int</th>\n      <th>link</th>\n      <th>text</th>\n      <th>when_published</th>\n      <th>author</th>\n      <th>source</th>\n      <th>portal</th>\n    </tr>\n  </thead>\n  <tbody>\n    <tr>\n      <th>0</th>\n      <td>Zjednoczona Prawica liderem, PSL poza Sejmem. ...</td>\n      <td>Zjednoczona Prawica liderem, PSL poza Sejmem. ...</td>\n      <td>Jak wynika z sondażu pracowni Social Changes p...</td>\n      <td>Jak wynika z sondażu pracowni Social Changes p...</td>\n      <td>https://www.polskieradio24.pl/5/1222/Artykul/2...</td>\n      <td>\"Koalicja Obywatelska zmniejszyła dystans dzie...</td>\n      <td>2022-01-19 22:30:00</td>\n      <td>ms</td>\n      <td>pap</td>\n      <td>pr24</td>\n    </tr>\n    <tr>\n      <th>1</th>\n      <td>Koronawirus w Polsce. Prof. Gut: spada liczba ...</td>\n      <td>Koronawirus w Polsce. Prof. Gut: spada liczba ...</td>\n      <td>- Są ferie, imprezy, mamy karnawał, jest więce...</td>\n      <td>- Są ferie, imprezy, mamy karnawał, jest więce...</td>\n      <td>https://www.polskieradio24.pl/130/6257/Artykul...</td>\n      <td>Środowe dane Ministerstwa Zdrowia mówią o 30 5...</td>\n      <td>2022-01-19 22:05:00</td>\n      <td>bartos</td>\n      <td>polskieradio24</td>\n      <td>pr24</td>\n    </tr>\n    <tr>\n      <th>2</th>\n      <td>Obowiązek pracy zdalnej w administracji public...</td>\n      <td>Obowiązek pracy zdalnej w administracji public...</td>\n      <td>Minister zdrowia Adam Niedzielski poinformował...</td>\n      <td>Minister zdrowia Adam Niedzielski poinformował...</td>\n      <td>https://www.polskieradio24.pl/5/1222/Artykul/2...</td>\n      <td>Adam Niedzielskibył w środę gościem TVP Info. ...</td>\n      <td>2022-01-19 21:43:00</td>\n      <td>dn</td>\n      <td>iar</td>\n      <td>pr24</td>\n    </tr>\n    <tr>\n      <th>3</th>\n      <td>\"Potrzeba dalszych rozmów\". Premier Czech o sp...</td>\n      <td>\"Potrzeba dalszych rozmów\". Premier Czech o sp...</td>\n      <td>Premier Czech Petr Fiala powiedział, że osiągn...</td>\n      <td>Premier Czech Petr Fiala powiedział, że osiągn...</td>\n      <td>https://www.polskieradio24.pl/5/3/Artykul/2887...</td>\n      <td>Petr Fiala powiedział, że jestinformowany o po...</td>\n      <td>2022-01-19 20:55:00</td>\n      <td>kmp</td>\n      <td>iar</td>\n      <td>pr24</td>\n    </tr>\n    <tr>\n      <th>4</th>\n      <td>Szef MZ mówi o \"eksplozji epidemii\" w Polsce. ...</td>\n      <td>Szef MZ mówi o \"eksplozji epidemii\" w Polsce. ...</td>\n      <td>Wg danych pandemicznych, które zostaną przedst...</td>\n      <td>Wg danych pandemicznych, które zostaną przedst...</td>\n      <td>https://www.polskieradio24.pl/5/1222/Artykul/2...</td>\n      <td>Środowe dane Ministerstwa Zdrowia mówią o 30 5...</td>\n      <td>2022-01-19 20:41:00</td>\n      <td>ms, PAP, TVP Info</td>\n      <td>polskieradio24pl</td>\n      <td>pr24</td>\n    </tr>\n    <tr>\n      <th>...</th>\n      <td>...</td>\n      <td>...</td>\n      <td>...</td>\n      <td>...</td>\n      <td>...</td>\n      <td>...</td>\n      <td>...</td>\n      <td>...</td>\n      <td>...</td>\n      <td>...</td>\n    </tr>\n    <tr>\n      <th>295</th>\n      <td>Rząd przekazał Facebookowi sprzeciw wobec blok...</td>\n      <td>Rząd przekazał Facebookowi sprzeciw wobec blok...</td>\n      <td>Janusz Cieszyński zapowiedział kontynuację pra...</td>\n      <td>Janusz Cieszyński zapowiedział kontynuację pra...</td>\n      <td>https://www.polskieradio24.pl/5/3/Artykul/2884...</td>\n      <td>- Będziemy kontynuowali pracę zarówno w kraju ...</td>\n      <td>2022-01-14 16:29:00</td>\n      <td>MF, PolskieRadio24.pl</td>\n      <td>polskieradio24pl</td>\n      <td>pr24</td>\n    </tr>\n    <tr>\n      <th>296</th>\n      <td>Tektura zamiast tylnej szyby. Tak kierowca wió...</td>\n      <td>Tektura zamiast tylnej szyby. Tak kierowca wió...</td>\n      <td>Policyjny patrol ruchu drogowego w Wiśniewie n...</td>\n      <td>Policyjny patrol ruchu drogowego w Wiśniewie n...</td>\n      <td>https://www.polskieradio24.pl/5/1222/Artykul/2...</td>\n      <td>Jak poinformowała rzeczniczkaKomendy Powiatowe...</td>\n      <td>2022-01-14 16:16:00</td>\n      <td>dn</td>\n      <td>iarpap</td>\n      <td>pr24</td>\n    </tr>\n    <tr>\n      <th>297</th>\n      <td>Historia sprawców zbrodni w Auschwitz. Muzeum ...</td>\n      <td>Historia sprawców zbrodni w Auschwitz. Muzeum ...</td>\n      <td>Muzeum Auschwitz udostępniło za pośrednictwem ...</td>\n      <td>Muzeum Auschwitz udostępniło za pośrednictwem ...</td>\n      <td>https://www.polskieradio24.pl/5/1222/Artykul/2...</td>\n      <td>Autorem lekcji o załodze SS jest kierownik cen...</td>\n      <td>2022-01-14 15:44:00</td>\n      <td>nj</td>\n      <td>pap</td>\n      <td>pr24</td>\n    </tr>\n    <tr>\n      <th>298</th>\n      <td>\"Rzeźba w przestrzeni publicznej dla Niepodleg...</td>\n      <td>\"Rzeźba w przestrzeni publicznej dla Niepodleg...</td>\n      <td>Wicepremier, minister kultury i dziedzictwa na...</td>\n      <td>Wicepremier, minister kultury i dziedzictwa na...</td>\n      <td>https://www.polskieradio24.pl/5/1222/Artykul/2...</td>\n      <td>W piątek w Muzeum Rzeźby im. Xawerego Dunikows...</td>\n      <td>2022-01-14 15:41:00</td>\n      <td>nt</td>\n      <td>pap</td>\n      <td>pr24</td>\n    </tr>\n    <tr>\n      <th>299</th>\n      <td>\"Czarnek jest absolutnie nieobiektywny\". Senys...</td>\n      <td>\"Czarnek jest absolutnie nieobiektywny\". Senys...</td>\n      <td>- Uważamy, że tego rodzaju ręczne sterowanie p...</td>\n      <td>- Uważamy, że tego rodzaju ręczne sterowanie p...</td>\n      <td>https://www.polskieradio24.pl/130/5925/Artykul...</td>\n      <td>Sejm uchwalił w czwartek nowelizację ustawy Pr...</td>\n      <td>2022-01-14 15:38:00</td>\n      <td>jb</td>\n      <td>polskieradio24</td>\n      <td>pr24</td>\n    </tr>\n  </tbody>\n</table>\n<p>300 rows × 10 columns</p>\n</div>"
     },
     "execution_count": 10,
     "metadata": {},
     "output_type": "execute_result"
    }
   ],
   "source": [
    "pr24_dataframe = pd.DataFrame(article.__dict__ for article in scrapped_articles)\n",
    "pr24_dataframe"
   ],
   "metadata": {
    "collapsed": false,
    "pycharm": {
     "name": "#%%\n"
    }
   }
  },
  {
   "cell_type": "code",
   "execution_count": 11,
   "outputs": [],
   "source": [
    "timestamp = int((datetime.now(timezone.utc)).timestamp())"
   ],
   "metadata": {
    "collapsed": false,
    "pycharm": {
     "name": "#%%\n"
    }
   }
  },
  {
   "cell_type": "code",
   "execution_count": 12,
   "outputs": [],
   "source": [
    "pr24_dataframe.to_parquet(f'{data_dir}/{portal_name}_{timestamp}.parquet')\n",
    "pr24_dataframe.to_json(f'{data_dir}/{portal_name}_{timestamp}.json')"
   ],
   "metadata": {
    "collapsed": false,
    "pycharm": {
     "name": "#%%\n"
    }
   }
  },
  {
   "cell_type": "markdown",
   "source": [
    "Krótki test - dane pierwszego artykułu"
   ],
   "metadata": {
    "collapsed": false
   }
  },
  {
   "cell_type": "code",
   "execution_count": 13,
   "outputs": [
    {
     "name": "stdout",
     "output_type": "stream",
     "text": [
      "title:\n",
      "  Zjednoczona Prawica liderem, PSL poza Sejmem. Sprawdź nowy sondaż\n",
      "lead_text:\n",
      "  Jak wynika z sondażu pracowni Social Changes przeprowadzonego na zlecenie portalu wPolityce.pl, największym poparciem cieszy się Zjednoczona Prawica (34 proc.).\r\n",
      "                        \r\n",
      "                          ...\n",
      "link:\n",
      "  https://www.polskieradio24.pl/5/1222/Artykul/2887628,Zjednoczona-Prawica-liderem-PSL-poza-Sejmem-Sprawdz-nowy-sondaz\n",
      "text:\n",
      "  \"Koalicja Obywatelska zmniejszyła dystans dzielący ją od Zjednoczonej Prawicy. KO zyskuje kosztem Polski 2050 Szymona Hołowni. Wciąż bardzo dobry wynik notuje Konfederacja. Zyskuje również Lewica, która może się cieszyć najlepszym wynikiem od wielu tygodni\" – podsumował portal, który w środę opublikował wyniki ankiety. Nowy sondaż. Na podium ZP, KO i Polska 2050 Według informacji opublikowanej przez portal, chęć głosowania naZjednoczoną Prawicęzadeklarowało 34 proc. badanych (spadek o 2 punkty procentowe w porównaniu z poprzednim sondażem). Zamiar głosowania naKoalicję Obywatelskązadeklarowało 27 proc. respondentów (wzrost o 3 punkty proc.). Polska 2050w porównaniu z poprzednim badaniem straciła 2 punkty proc. – wskazało na nią 12 proc. respondentów.Konfederacjęwskazało 11 proc. badanych (wzrost o 1 punkt proc.). Poparcie dlaLewicywyraziło 10 proc. badanych - o 1 punkt więcej niż w poprzednio. PSL i Kukiz'15 poza Sejmem Z 2 do 3 proc. wzrosło poparcie dlaPolskiego Stronnictwa Ludowego. Bez zmian – na poziomie 2 proc. - pozostało poparcie dlaKukiz'15. Porozumienieuzyskało 0 proc. Poprzednio zamiar oddania głosu na to ugrupowanie wyraził jeden na stu ankietowanych. Deklarowana frekwencja wyniosła 58 proc. - o 6 punktów procentowych więcej niż w poprzedniej edycji badania. *** Badanie na ogólnopolskiej, reprezentatywnej 1063-osobowje próbie zostało zrealizowane metodą CAWI (Computer Assisted Web Interview) na panelu internetowym. w dniach 14-17 stycznia br. Czytaj także: \n",
      "when_published:\n",
      "  2022-01-19 22:30:00\n"
     ]
    }
   ],
   "source": [
    "print(f'title:\\n  {pr24_dataframe.iloc[0][\"title\"]}')\n",
    "print(f'lead_text:\\n  {pr24_dataframe.iloc[0][\"lead_text\"]}')\n",
    "print(f'link:\\n  {pr24_dataframe.iloc[0][\"link\"]}')\n",
    "print(f'text:\\n  {pr24_dataframe.iloc[0][\"text\"]}')\n",
    "print(f'when_published:\\n  {pr24_dataframe.iloc[0][\"when_published\"]}')"
   ],
   "metadata": {
    "collapsed": false,
    "pycharm": {
     "name": "#%%\n"
    }
   }
  },
  {
   "cell_type": "code",
   "execution_count": 14,
   "outputs": [
    {
     "name": "stdout",
     "output_type": "stream",
     "text": [
      "title:\n",
      "  Pogodnie, możliwe słabe opady śniegu. Sprawdź prognozę pogody na wtorek\n",
      "lead_text:\n",
      "  Według prognozy we wtorek w ciągu dnia w całym kraju będzie dość pogodnie. Synoptyk Dorota Pacocha wskazała, że jedynie we wschodniej części Polski może popadać\r\n",
      "                        \r\n",
      "                          ...\n",
      "link:\n",
      "  https://www.polskieradio24.pl/5/1222/Artykul/2886834,Pogodnie-mozliwe-slabe-opady-sniegu-Sprawdz-prognoze-pogody-na-wtorek\n",
      "text:\n",
      "  Według prognozy przygotowanej przez Dorotę Pacochę z Instytutu Meteorologii i Gospodarki Wodnej - Państwowego Instytutu Badawczego, we wtorek w ciągu dnia będzie raczej pogodnie. Jak dodała, jedynie w Karpatach mogą wystąpićzawieje i zamiecie śnieżne.- We wtorek pogoda poprawia się. W ciągu dnia możemy spodziewać się słabych opadówśniegu, a lokalnie deszczu ze śniegiem - przekazała Dorota Pacocha. PonadtoInstytut Meteorologii i Gospodarki Wodnej wydał ostrzeżenia przed opadami marznącymi dla całej północnej części kraju. Jak powiedziała synoptyk, na drogach i chodnikach będzie ślisko. Ostrzeżenia przed opadami marznącymi będą obowiązywały do środowego poranka. IMGW wskazuje, że najniższa temperatura powietrza we wtorek wyniesie minus cztery stopnie Celsjusza na południu, około zera w centrum i cztery stopnie nad morzem.Wiatrbędzie umiarkowany. We wschodniej części kraju i na południu jeszcze czasami dość silny, w porywach do 60 km/h. Porywy wiatru w Karpatach osiągną do 70 km/h. Tam też miejscami wystąpią zawieje i zamiecie śnieżne. IMGW: w nocy będzie pochmurno Z kolei w nocy będzie pochmurno niemal w całym kraju. Miejscami wystąpiąopady śniegu i deszczu ze śniegiem. Lokalnie można spodziewać się opadów marznącej mżawki powodującej gołoledź. Temperatura minimalna wyniesie od minus pięciu stopni na wschodzie i południu kraju, minus jednego stopnia w centrum i na zachodzie, do dwóch stopni Celsjusza nad morzem. Najzimniej będzie w rejonach podgórskich wKarpatach. Tam temperatura spadnie do minus 10, a lokalnie nawet do minus 13 stopni. Zawieje słaby i umiarkowanywiatr. Na Wybrzeżu okresami dość silny i porywisty do 55 km/h a w Bieszczadach wynoszący do 60 km/h. » INFORMACJI O WARUNKACH DROGOWYCH SZUKAJ W POLSKIM RADIU KIEROWCÓW « W dzień zachmurzenie duże, ale po południu w Tatrach powyżej 1800 m n.p.m. zachmurzenie małeOkresami słabe opady śnieguTemperatura maksymalna na Podhalu od -4°C do -1°C, na szczytach Tatr około -10°C. Wiatr umiarkowany, okresami dość silny➡️https://t.co/jcwPCmHHDM#IMGWpic.twitter.com/JKQB0RsXkD Czytaj także: \n",
      "when_published:\n",
      "  2022-01-18 14:53:00\n"
     ]
    }
   ],
   "source": [
    "print(f'title:\\n  {pr24_dataframe.iloc[99][\"title\"]}')\n",
    "print(f'lead_text:\\n  {pr24_dataframe.iloc[99][\"lead_text\"]}')\n",
    "print(f'link:\\n  {pr24_dataframe.iloc[99][\"link\"]}')\n",
    "print(f'text:\\n  {pr24_dataframe.iloc[99][\"text\"]}')\n",
    "print(f'when_published:\\n  {pr24_dataframe.iloc[99][\"when_published\"]}')"
   ],
   "metadata": {
    "collapsed": false,
    "pycharm": {
     "name": "#%%\n"
    }
   }
  },
  {
   "cell_type": "code",
   "execution_count": 14,
   "outputs": [],
   "source": [],
   "metadata": {
    "collapsed": false,
    "pycharm": {
     "name": "#%%\n"
    }
   }
  }
 ],
 "metadata": {
  "kernelspec": {
   "display_name": "Python 3",
   "language": "python",
   "name": "python3"
  },
  "language_info": {
   "codemirror_mode": {
    "name": "ipython",
    "version": 2
   },
   "file_extension": ".py",
   "mimetype": "text/x-python",
   "name": "python",
   "nbconvert_exporter": "python",
   "pygments_lexer": "ipython2",
   "version": "2.7.6"
  }
 },
 "nbformat": 4,
 "nbformat_minor": 0
}