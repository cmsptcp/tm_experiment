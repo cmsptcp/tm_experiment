{
 "cells": [
  {
   "cell_type": "markdown",
   "source": [
    "Pobieranie wiadomości z naszdziennik.pl Zapis do pliku ./data/naszdziennik_{timestamp}.txt"
   ],
   "metadata": {
    "collapsed": false,
    "pycharm": {
     "name": "#%% md\n"
    }
   }
  },
  {
   "cell_type": "code",
   "execution_count": 1,
   "outputs": [],
   "source": [
    "# ! pip install bs4\n",
    "# ! pip install requests\n",
    "# ! pip install tqdm\n",
    "# ! pip install pandas\n",
    "# ! pip install pyarrow\n",
    "# ! pip install qgrid\n",
    "# ! pip install blaze\n",
    "# ! pip install ipynbname\n",
    "# ! pip install certifi"
   ],
   "metadata": {
    "collapsed": false,
    "pycharm": {
     "name": "#%%\n"
    }
   }
  },
  {
   "cell_type": "code",
   "execution_count": 2,
   "outputs": [],
   "source": [
    "import requests\n",
    "from bs4 import BeautifulSoup\n",
    "from tqdm import tqdm, trange\n",
    "from datetime import datetime, timezone\n",
    "from common.webarticle import WebArticle\n",
    "from common.pl_helper import PolishLocaleHelper\n",
    "import pandas as pd\n",
    "import logging\n",
    "import ipynbname\n",
    "from urllib3.exceptions import InsecureRequestWarning\n"
   ],
   "metadata": {
    "collapsed": false,
    "pycharm": {
     "name": "#%%\n"
    }
   }
  },
  {
   "cell_type": "code",
   "execution_count": 3,
   "outputs": [],
   "source": [
    "# settings:\n",
    "portal_name = 'naszdziennik'\n",
    "website = 'https://naszdziennik.pl/polska'\n",
    "website_short = 'https://naszdziennik.pl'\n",
    "pagination_attributes = '?s='\n",
    "no_articles_to_scrap = 300\n",
    "data_dir = '../data'\n",
    "logging.basicConfig(\n",
    "    filename=f'../logs/{ipynbname.name()}.ipynb.log',\n",
    "    encoding='utf-8',\n",
    "    level=logging.DEBUG\n",
    ")\n",
    "ignored_paragraph_starts = []"
   ],
   "metadata": {
    "collapsed": false,
    "pycharm": {
     "name": "#%%\n"
    }
   }
  },
  {
   "cell_type": "markdown",
   "source": [
    "Sprawdźmy plik robots.txt, niestety strona naszdziennik takiego nie posiada, trudno odnaleźć również regulamin strony"
   ],
   "metadata": {
    "collapsed": false
   }
  },
  {
   "cell_type": "code",
   "execution_count": 4,
   "outputs": [],
   "source": [
    "# resp = requests.get('https://www.naszdziennik.pl/robots.txt')\n",
    "# print(resp.text)"
   ],
   "metadata": {
    "collapsed": false,
    "pycharm": {
     "name": "#%%\n"
    }
   }
  },
  {
   "cell_type": "code",
   "execution_count": 5,
   "outputs": [],
   "source": [
    "def check_if_ignored_paragraph(text, ignored_paragraphs, operation='startswith'):\n",
    "\n",
    "    for ignored_paragraph in ignored_paragraphs:\n",
    "        if operation == 'startswith':\n",
    "            if text.startswith(ignored_paragraph):\n",
    "                return True\n",
    "        else:\n",
    "            logging.debug(f'check_if_ignored: operation {operation} not implemented')\n",
    "    return False\n"
   ],
   "metadata": {
    "collapsed": false,
    "pycharm": {
     "name": "#%%\n"
    }
   }
  },
  {
   "cell_type": "code",
   "execution_count": 6,
   "outputs": [],
   "source": [
    "def scrap_article_text_naszdziennik(link):\n",
    "    logging.info('scrap_article_text_naszdziennik:')\n",
    "    logging.info(f'article link to scrap: {link}')\n",
    "\n",
    "    requests.packages.urllib3.disable_warnings(category=InsecureRequestWarning)\n",
    "    page = requests.get(link, verify=False)\n",
    "    if page.status_code != 200:\n",
    "        logging.debug(f'received status code: {page.status_code}')\n",
    "        return '', ''\n",
    "\n",
    "    soup = BeautifulSoup(page.content, 'html.parser')\n",
    "    paragraphs = soup.find('div', id='article-content')\n",
    "\n",
    "    text = ''\n",
    "    if paragraphs is None:\n",
    "        # paywall - load just part of article\n",
    "        lead_text_part = soup.find('div', id='content').find('p').find('strong')\n",
    "        if lead_text_part is None:\n",
    "            lead_text_int = soup.find('div', id='article').find('h2').get_text().strip()\n",
    "        else:\n",
    "            lead_text_int = lead_text_part.get_text().strip()\n",
    "            lead_text_part.decompose()\n",
    "        text = soup.find('div', id='article').find('div', id='content', class_='content').get_text(strip=True)\n",
    "        time_string = soup.find('div', id='header', class_='hidden-xs').get_text(strip=True)\n",
    "        when_published = PolishLocaleHelper.parse_pl_date_naszdziennik(time_string[:time_string.rfind(',')], short=True)\n",
    "\n",
    "        author = soup.find('p', class_='author').get_text(strip=True)\n",
    "        source = 'NaszDziennik.pl'\n",
    "\n",
    "    else:\n",
    "        paragraphs = paragraphs.find_all('p')\n",
    "        for paragraph in paragraphs:\n",
    "            paragraph_text = paragraph.get_text().strip()\n",
    "            if check_if_ignored_paragraph(paragraph_text, ignored_paragraph_starts):\n",
    "                continue\n",
    "            text += paragraph_text + ' '\n",
    "        time_string = soup.find('div', id='article-date').get_text(strip=True)\n",
    "        when_published = PolishLocaleHelper.parse_pl_date_naszdziennik(time_string)\n",
    "        lead_text_int = soup.find('div', id='article-subtitle').get_text().strip()\n",
    "        author = ''\n",
    "        author_candidate = soup.find('p', id='article-author')\n",
    "        if author_candidate is not None:\n",
    "            author = author_candidate.get_text(strip=True)\n",
    "\n",
    "        source_candidate = soup.find('div', id='article').find('p', id='article-source')\n",
    "        if source_candidate.get_text(strip=True) == '':\n",
    "            source = source_candidate.find('img', alt=True)['alt']\n",
    "        else:\n",
    "            source = source_candidate.get_text(strip=True)\n",
    "\n",
    "    title_int = soup.find('div', id='article').find('h1').get_text().strip()\n",
    "\n",
    "    return text, when_published, title_int, lead_text_int, author, source"
   ],
   "metadata": {
    "collapsed": false,
    "pycharm": {
     "name": "#%%\n"
    }
   }
  },
  {
   "cell_type": "code",
   "execution_count": 7,
   "outputs": [],
   "source": [
    "def scrap_articles_naszdziennik(website):\n",
    "    logging.info('scrap_articles_naszdziennik:')\n",
    "    logging.info(f'page with articles to scrap: {website}')\n",
    "\n",
    "    result = list()\n",
    "    requests.packages.urllib3.disable_warnings(category=InsecureRequestWarning)\n",
    "    page = requests.get(website, verify=False)\n",
    "    if page.status_code != 200:\n",
    "        logging.debug(f'received status code: {page.status_code}')\n",
    "        return result\n",
    "\n",
    "    soup = BeautifulSoup(page.content, 'html.parser')\n",
    "    page_content = soup.find('div',id='article-list').find_all('div',class_='article')\n",
    "\n",
    "    print(f'articles to scrap: {len(page_content)}')\n",
    "\n",
    "    for article in page_content:\n",
    "\n",
    "        logging.info(f\"article scrapping started: {article}\")\n",
    "        title = article.find('h2').get_text().strip()\n",
    "        lead_text = article.find('div', class_='intro').get_text().strip()\n",
    "        link = website_short + article.find('a', href=True)['href']\n",
    "        webart = WebArticle(title, lead_text, link, *scrap_article_text_naszdziennik(link),portal_name)\n",
    "        logging.info(f'webarticle scrapped: {webart}')\n",
    "        result.append(webart)\n",
    "\n",
    "    return result"
   ],
   "metadata": {
    "collapsed": false,
    "pycharm": {
     "name": "#%%\n"
    }
   }
  },
  {
   "cell_type": "code",
   "execution_count": 8,
   "outputs": [
    {
     "name": "stderr",
     "output_type": "stream",
     "text": [
      "  0%|          | 0/300 [00:00<?, ?it/s]"
     ]
    },
    {
     "name": "stdout",
     "output_type": "stream",
     "text": [
      "articles to scrap: 8\n"
     ]
    },
    {
     "name": "stderr",
     "output_type": "stream",
     "text": [
      "  3%|▎         | 8/300 [00:08<04:53,  1.01s/it]"
     ]
    },
    {
     "name": "stdout",
     "output_type": "stream",
     "text": [
      "articles to scrap: 8\n"
     ]
    },
    {
     "name": "stderr",
     "output_type": "stream",
     "text": [
      "  5%|▌         | 16/300 [00:16<05:02,  1.07s/it]"
     ]
    },
    {
     "name": "stdout",
     "output_type": "stream",
     "text": [
      "articles to scrap: 8\n"
     ]
    },
    {
     "name": "stderr",
     "output_type": "stream",
     "text": [
      "  8%|▊         | 24/300 [00:25<05:02,  1.09s/it]"
     ]
    },
    {
     "name": "stdout",
     "output_type": "stream",
     "text": [
      "articles to scrap: 8\n"
     ]
    },
    {
     "name": "stderr",
     "output_type": "stream",
     "text": [
      " 11%|█         | 32/300 [00:35<05:01,  1.13s/it]"
     ]
    },
    {
     "name": "stdout",
     "output_type": "stream",
     "text": [
      "articles to scrap: 8\n"
     ]
    },
    {
     "name": "stderr",
     "output_type": "stream",
     "text": [
      " 13%|█▎        | 40/300 [00:44<04:53,  1.13s/it]"
     ]
    },
    {
     "name": "stdout",
     "output_type": "stream",
     "text": [
      "articles to scrap: 8\n"
     ]
    },
    {
     "name": "stderr",
     "output_type": "stream",
     "text": [
      " 16%|█▌        | 48/300 [00:54<04:50,  1.15s/it]"
     ]
    },
    {
     "name": "stdout",
     "output_type": "stream",
     "text": [
      "articles to scrap: 8\n"
     ]
    },
    {
     "name": "stderr",
     "output_type": "stream",
     "text": [
      " 19%|█▊        | 56/300 [01:02<04:38,  1.14s/it]"
     ]
    },
    {
     "name": "stdout",
     "output_type": "stream",
     "text": [
      "articles to scrap: 8\n"
     ]
    },
    {
     "name": "stderr",
     "output_type": "stream",
     "text": [
      " 21%|██▏       | 64/300 [01:11<04:25,  1.12s/it]"
     ]
    },
    {
     "name": "stdout",
     "output_type": "stream",
     "text": [
      "articles to scrap: 8\n"
     ]
    },
    {
     "name": "stderr",
     "output_type": "stream",
     "text": [
      " 24%|██▍       | 72/300 [01:20<04:14,  1.11s/it]"
     ]
    },
    {
     "name": "stdout",
     "output_type": "stream",
     "text": [
      "articles to scrap: 8\n"
     ]
    },
    {
     "name": "stderr",
     "output_type": "stream",
     "text": [
      " 27%|██▋       | 80/300 [01:29<04:04,  1.11s/it]"
     ]
    },
    {
     "name": "stdout",
     "output_type": "stream",
     "text": [
      "articles to scrap: 8\n"
     ]
    },
    {
     "name": "stderr",
     "output_type": "stream",
     "text": [
      " 29%|██▉       | 88/300 [01:38<03:58,  1.12s/it]"
     ]
    },
    {
     "name": "stdout",
     "output_type": "stream",
     "text": [
      "articles to scrap: 8\n"
     ]
    },
    {
     "name": "stderr",
     "output_type": "stream",
     "text": [
      " 32%|███▏      | 96/300 [01:47<03:47,  1.12s/it]"
     ]
    },
    {
     "name": "stdout",
     "output_type": "stream",
     "text": [
      "articles to scrap: 8\n"
     ]
    },
    {
     "name": "stderr",
     "output_type": "stream",
     "text": [
      " 35%|███▍      | 104/300 [01:56<03:41,  1.13s/it]"
     ]
    },
    {
     "name": "stdout",
     "output_type": "stream",
     "text": [
      "articles to scrap: 8\n"
     ]
    },
    {
     "name": "stderr",
     "output_type": "stream",
     "text": [
      " 37%|███▋      | 112/300 [02:05<03:29,  1.12s/it]"
     ]
    },
    {
     "name": "stdout",
     "output_type": "stream",
     "text": [
      "articles to scrap: 8\n"
     ]
    },
    {
     "name": "stderr",
     "output_type": "stream",
     "text": [
      " 40%|████      | 120/300 [02:14<03:20,  1.11s/it]"
     ]
    },
    {
     "name": "stdout",
     "output_type": "stream",
     "text": [
      "articles to scrap: 8\n"
     ]
    },
    {
     "name": "stderr",
     "output_type": "stream",
     "text": [
      " 43%|████▎     | 128/300 [02:23<03:12,  1.12s/it]"
     ]
    },
    {
     "name": "stdout",
     "output_type": "stream",
     "text": [
      "articles to scrap: 8\n"
     ]
    },
    {
     "name": "stderr",
     "output_type": "stream",
     "text": [
      " 45%|████▌     | 136/300 [02:31<03:02,  1.11s/it]"
     ]
    },
    {
     "name": "stdout",
     "output_type": "stream",
     "text": [
      "articles to scrap: 8\n"
     ]
    },
    {
     "name": "stderr",
     "output_type": "stream",
     "text": [
      " 48%|████▊     | 144/300 [02:41<03:00,  1.16s/it]"
     ]
    },
    {
     "name": "stdout",
     "output_type": "stream",
     "text": [
      "articles to scrap: 8\n"
     ]
    },
    {
     "name": "stderr",
     "output_type": "stream",
     "text": [
      " 51%|█████     | 152/300 [02:50<02:49,  1.14s/it]"
     ]
    },
    {
     "name": "stdout",
     "output_type": "stream",
     "text": [
      "articles to scrap: 8\n"
     ]
    },
    {
     "name": "stderr",
     "output_type": "stream",
     "text": [
      " 53%|█████▎    | 160/300 [02:59<02:38,  1.13s/it]"
     ]
    },
    {
     "name": "stdout",
     "output_type": "stream",
     "text": [
      "articles to scrap: 8\n"
     ]
    },
    {
     "name": "stderr",
     "output_type": "stream",
     "text": [
      " 56%|█████▌    | 168/300 [03:08<02:29,  1.13s/it]"
     ]
    },
    {
     "name": "stdout",
     "output_type": "stream",
     "text": [
      "articles to scrap: 8\n"
     ]
    },
    {
     "name": "stderr",
     "output_type": "stream",
     "text": [
      " 59%|█████▊    | 176/300 [03:17<02:18,  1.12s/it]"
     ]
    },
    {
     "name": "stdout",
     "output_type": "stream",
     "text": [
      "articles to scrap: 8\n"
     ]
    },
    {
     "name": "stderr",
     "output_type": "stream",
     "text": [
      " 61%|██████▏   | 184/300 [03:26<02:09,  1.12s/it]"
     ]
    },
    {
     "name": "stdout",
     "output_type": "stream",
     "text": [
      "articles to scrap: 8\n"
     ]
    },
    {
     "name": "stderr",
     "output_type": "stream",
     "text": [
      " 64%|██████▍   | 192/300 [03:35<02:00,  1.12s/it]"
     ]
    },
    {
     "name": "stdout",
     "output_type": "stream",
     "text": [
      "articles to scrap: 8\n"
     ]
    },
    {
     "name": "stderr",
     "output_type": "stream",
     "text": [
      " 67%|██████▋   | 200/300 [03:44<01:52,  1.12s/it]"
     ]
    },
    {
     "name": "stdout",
     "output_type": "stream",
     "text": [
      "articles to scrap: 8\n"
     ]
    },
    {
     "name": "stderr",
     "output_type": "stream",
     "text": [
      " 69%|██████▉   | 208/300 [03:53<01:42,  1.12s/it]"
     ]
    },
    {
     "name": "stdout",
     "output_type": "stream",
     "text": [
      "articles to scrap: 8\n"
     ]
    },
    {
     "name": "stderr",
     "output_type": "stream",
     "text": [
      " 72%|███████▏  | 216/300 [04:01<01:33,  1.11s/it]"
     ]
    },
    {
     "name": "stdout",
     "output_type": "stream",
     "text": [
      "articles to scrap: 8\n"
     ]
    },
    {
     "name": "stderr",
     "output_type": "stream",
     "text": [
      " 75%|███████▍  | 224/300 [04:11<01:25,  1.12s/it]"
     ]
    },
    {
     "name": "stdout",
     "output_type": "stream",
     "text": [
      "articles to scrap: 8\n"
     ]
    },
    {
     "name": "stderr",
     "output_type": "stream",
     "text": [
      " 77%|███████▋  | 232/300 [04:20<01:16,  1.13s/it]"
     ]
    },
    {
     "name": "stdout",
     "output_type": "stream",
     "text": [
      "articles to scrap: 8\n"
     ]
    },
    {
     "name": "stderr",
     "output_type": "stream",
     "text": [
      " 80%|████████  | 240/300 [04:29<01:08,  1.15s/it]"
     ]
    },
    {
     "name": "stdout",
     "output_type": "stream",
     "text": [
      "articles to scrap: 8\n"
     ]
    },
    {
     "name": "stderr",
     "output_type": "stream",
     "text": [
      " 83%|████████▎ | 248/300 [04:38<00:59,  1.14s/it]"
     ]
    },
    {
     "name": "stdout",
     "output_type": "stream",
     "text": [
      "articles to scrap: 8\n"
     ]
    },
    {
     "name": "stderr",
     "output_type": "stream",
     "text": [
      " 85%|████████▌ | 256/300 [04:47<00:49,  1.14s/it]"
     ]
    },
    {
     "name": "stdout",
     "output_type": "stream",
     "text": [
      "articles to scrap: 8\n"
     ]
    },
    {
     "name": "stderr",
     "output_type": "stream",
     "text": [
      " 88%|████████▊ | 264/300 [04:56<00:40,  1.12s/it]"
     ]
    },
    {
     "name": "stdout",
     "output_type": "stream",
     "text": [
      "articles to scrap: 8\n"
     ]
    },
    {
     "name": "stderr",
     "output_type": "stream",
     "text": [
      " 91%|█████████ | 272/300 [05:05<00:31,  1.12s/it]"
     ]
    },
    {
     "name": "stdout",
     "output_type": "stream",
     "text": [
      "articles to scrap: 8\n"
     ]
    },
    {
     "name": "stderr",
     "output_type": "stream",
     "text": [
      " 93%|█████████▎| 280/300 [05:14<00:22,  1.13s/it]"
     ]
    },
    {
     "name": "stdout",
     "output_type": "stream",
     "text": [
      "articles to scrap: 8\n"
     ]
    },
    {
     "name": "stderr",
     "output_type": "stream",
     "text": [
      " 96%|█████████▌| 288/300 [05:23<00:13,  1.12s/it]"
     ]
    },
    {
     "name": "stdout",
     "output_type": "stream",
     "text": [
      "articles to scrap: 8\n"
     ]
    },
    {
     "name": "stderr",
     "output_type": "stream",
     "text": [
      " 99%|█████████▊| 296/300 [05:32<00:04,  1.13s/it]"
     ]
    },
    {
     "name": "stdout",
     "output_type": "stream",
     "text": [
      "articles to scrap: 8\n"
     ]
    },
    {
     "name": "stderr",
     "output_type": "stream",
     "text": [
      "100%|██████████| 300/300 [05:42<00:00,  1.14s/it]\n"
     ]
    }
   ],
   "source": [
    "no_scrapped_articles = 0\n",
    "page_no=1\n",
    "scrapped_articles = list()\n",
    "\n",
    "logging.info(f'no_articles_to_scrap: {no_articles_to_scrap}')\n",
    "\n",
    "pbar = tqdm(total=no_articles_to_scrap)\n",
    "pbar.update(0)\n",
    "while no_scrapped_articles < no_articles_to_scrap:\n",
    "    logging.info('next page: '+website+pagination_attributes+str(page_no))\n",
    "    new_articles = scrap_articles_naszdziennik(website+pagination_attributes+str(page_no))\n",
    "    page_size = len(new_articles)\n",
    "    logging.info(f'new_articles: {page_size}')\n",
    "    if no_scrapped_articles + page_size > no_articles_to_scrap:\n",
    "        page_size = no_articles_to_scrap - no_scrapped_articles\n",
    "    scrapped_articles.extend(new_articles[:page_size])\n",
    "    logging.info(f'scrapped new articles: {page_size}')\n",
    "    no_scrapped_articles += page_size\n",
    "    pbar.update(page_size)\n",
    "    logging.info(f'no_scrapped_articles (total): {no_scrapped_articles}')\n",
    "    page_no += 1\n",
    "    if len(scrapped_articles) <= 0:\n",
    "        logging.debug(f'0 articles scrapped!')\n",
    "        break\n",
    "pbar.close()"
   ],
   "metadata": {
    "collapsed": false,
    "pycharm": {
     "name": "#%%\n"
    }
   }
  },
  {
   "cell_type": "code",
   "execution_count": 9,
   "outputs": [
    {
     "name": "stderr",
     "output_type": "stream",
     "text": [
      "100%|██████████| 300/300 [00:00<00:00, 11999.50it/s]"
     ]
    },
    {
     "name": "stdout",
     "output_type": "stream",
     "text": [
      "0: 1115\n",
      "1: 1422\n",
      "2: 4762\n",
      "3: 5356\n",
      "4: 8874\n",
      "5: 3455\n",
      "6: 25725\n",
      "7: 455\n",
      "8: 479\n",
      "9: 1473\n",
      "10: 8659\n",
      "11: 0\n",
      "12: 552\n",
      "13: 3331\n",
      "14: 25684\n",
      "15: 1099\n",
      "16: 392\n",
      "17: 852\n",
      "18: 215\n",
      "19: 2376\n",
      "20: 0\n",
      "21: 984\n",
      "22: 2796\n",
      "23: 1750\n",
      "24: 25642\n",
      "25: 934\n",
      "26: 243\n",
      "27: 215\n",
      "28: 1516\n",
      "29: 3257\n",
      "30: 0\n",
      "31: 25600\n",
      "32: 838\n",
      "33: 973\n",
      "34: 1180\n",
      "35: 1671\n",
      "36: 2023\n",
      "37: 9360\n",
      "38: 25558\n",
      "39: 3486\n",
      "40: 1764\n",
      "41: 0\n",
      "42: 1897\n",
      "43: 2083\n",
      "44: 25519\n",
      "45: 1005\n",
      "46: 162\n",
      "47: 1704\n",
      "48: 7488\n",
      "49: 2362\n",
      "50: 964\n",
      "51: 0\n",
      "52: 3499\n",
      "53: 1558\n",
      "54: 1317\n",
      "55: 25477\n",
      "56: 222\n",
      "57: 2820\n",
      "58: 0\n",
      "59: 4902\n",
      "60: 895\n",
      "61: 9532\n",
      "62: 25449\n",
      "63: 1041\n",
      "64: 805\n",
      "65: 0\n",
      "66: 9379\n",
      "67: 1265\n",
      "68: 891\n",
      "69: 25407\n",
      "70: 460\n",
      "71: 888\n",
      "72: 1373\n",
      "73: 200\n",
      "74: 132\n",
      "75: 0\n",
      "76: 7590\n",
      "77: 708\n",
      "78: 1481\n",
      "79: 5585\n",
      "80: 25363\n",
      "81: 2174\n",
      "82: 536\n",
      "83: 889\n",
      "84: 294\n",
      "85: 25309\n",
      "86: 0\n",
      "87: 1501\n",
      "88: 2222\n",
      "89: 25267\n",
      "90: 425\n",
      "91: 1473\n",
      "92: 141\n",
      "93: 0\n",
      "94: 4044\n",
      "95: 6165\n",
      "96: 3596\n",
      "97: 25226\n",
      "98: 1685\n",
      "99: 673\n",
      "100: 713\n",
      "101: 103\n",
      "102: 1240\n",
      "103: 25185\n",
      "104: 0\n",
      "105: 1451\n",
      "106: 1424\n",
      "107: 2288\n",
      "108: 5658\n",
      "109: 1429\n",
      "110: 25158\n",
      "111: 2060\n",
      "112: 457\n",
      "113: 591\n",
      "114: 0\n",
      "115: 3656\n",
      "116: 7487\n",
      "117: 25106\n",
      "118: 539\n",
      "119: 2248\n",
      "120: 208\n",
      "121: 199\n",
      "122: 2087\n",
      "123: 8622\n",
      "124: 0\n",
      "125: 1384\n",
      "126: 1662\n",
      "127: 3115\n",
      "128: 25063\n",
      "129: 574\n",
      "130: 1768\n",
      "131: 1220\n",
      "132: 0\n",
      "133: 1217\n",
      "134: 235\n",
      "135: 2519\n",
      "136: 690\n",
      "137: 3408\n",
      "138: 24930\n",
      "139: 863\n",
      "140: 1187\n",
      "141: 168\n",
      "142: 1553\n",
      "143: 1772\n",
      "144: 2752\n",
      "145: 0\n",
      "146: 9154\n",
      "147: 24888\n",
      "148: 625\n",
      "149: 2458\n",
      "150: 0\n",
      "151: 4921\n",
      "152: 1825\n",
      "153: 1781\n",
      "154: 1802\n",
      "155: 24848\n",
      "156: 5547\n",
      "157: 637\n",
      "158: 216\n",
      "159: 1154\n",
      "160: 287\n",
      "161: 863\n",
      "162: 1720\n",
      "163: 0\n",
      "164: 2857\n",
      "165: 998\n",
      "166: 24806\n",
      "167: 9633\n",
      "168: 3239\n",
      "169: 1851\n",
      "170: 2554\n",
      "171: 0\n",
      "172: 3328\n",
      "173: 801\n",
      "174: 24785\n",
      "175: 307\n",
      "176: 0\n",
      "177: 1373\n",
      "178: 0\n",
      "179: 24732\n",
      "180: 313\n",
      "181: 1923\n",
      "182: 1065\n",
      "183: 24722\n",
      "184: 877\n",
      "185: 24650\n",
      "186: 2378\n",
      "187: 1108\n",
      "188: 0\n",
      "189: 660\n",
      "190: 3632\n",
      "191: 7920\n",
      "192: 3865\n",
      "193: 24609\n",
      "194: 895\n",
      "195: 2092\n",
      "196: 293\n",
      "197: 5719\n",
      "198: 0\n",
      "199: 2235\n",
      "200: 1063\n",
      "201: 1484\n",
      "202: 24569\n",
      "203: 2965\n",
      "204: 1790\n",
      "205: 2252\n",
      "206: 186\n",
      "207: 6284\n",
      "208: 0\n",
      "209: 6008\n",
      "210: 166\n",
      "211: 4733\n",
      "212: 2653\n",
      "213: 24528\n",
      "214: 1537\n",
      "215: 376\n",
      "216: 1148\n",
      "217: 156\n",
      "218: 896\n",
      "219: 8093\n",
      "220: 0\n",
      "221: 3708\n",
      "222: 3151\n",
      "223: 3679\n",
      "224: 24486\n",
      "225: 668\n",
      "226: 1845\n",
      "227: 196\n",
      "228: 0\n",
      "229: 24447\n",
      "230: 2736\n",
      "231: 3145\n",
      "232: 24405\n",
      "233: 3810\n",
      "234: 1484\n",
      "235: 209\n",
      "236: 2098\n",
      "237: 0\n",
      "238: 1511\n",
      "239: 145\n",
      "240: 24366\n",
      "241: 3046\n",
      "242: 8328\n",
      "243: 2727\n",
      "244: 6000\n",
      "245: 0\n",
      "246: 7311\n",
      "247: 24324\n",
      "248: 1798\n",
      "249: 6390\n",
      "250: 1132\n",
      "251: 86\n",
      "252: 2820\n",
      "253: 0\n",
      "254: 788\n",
      "255: 24283\n",
      "256: 2475\n",
      "257: 2863\n",
      "258: 203\n",
      "259: 2898\n",
      "260: 0\n",
      "261: 4241\n",
      "262: 2451\n",
      "263: 124\n",
      "264: 745\n",
      "265: 2901\n",
      "266: 7515\n",
      "267: 280\n",
      "268: 1294\n",
      "269: 0\n",
      "270: 4329\n",
      "271: 9127\n",
      "272: 0\n",
      "273: 212\n",
      "274: 1780\n",
      "275: 0\n",
      "276: 1458\n",
      "277: 24119\n",
      "278: 5012\n",
      "279: 286\n",
      "280: 0\n",
      "281: 2650\n",
      "282: 150\n",
      "283: 6067\n",
      "284: 7103\n",
      "285: 173\n",
      "286: 1904\n",
      "287: 2704\n",
      "288: 280\n",
      "289: 1188\n",
      "290: 0\n",
      "291: 4190\n",
      "292: 24036\n",
      "293: 690\n",
      "294: 2477\n",
      "295: 0\n",
      "296: 9454\n",
      "297: 23996\n",
      "298: 1168\n",
      "299: 2423\n"
     ]
    },
    {
     "name": "stderr",
     "output_type": "stream",
     "text": [
      "\n"
     ]
    }
   ],
   "source": [
    "for i in trange(len(scrapped_articles)):\n",
    "    # print(f'{i}: {scrapped_articles[i].lead_text}')\n",
    "    print(f'{i}: {len(scrapped_articles[i].text)}')"
   ],
   "metadata": {
    "collapsed": false,
    "pycharm": {
     "name": "#%%\n"
    }
   }
  },
  {
   "cell_type": "code",
   "execution_count": 10,
   "outputs": [
    {
     "name": "stderr",
     "output_type": "stream",
     "text": [
      "C:\\Users\\piotr\\AppData\\Local\\Temp/ipykernel_24080/3830852082.py:1: FutureWarning: Inferring datetime64[ns] from data containing strings is deprecated and will be removed in a future version. To retain the old behavior explicitly pass Series(data, dtype={value.dtype})\n",
      "  naszdziennik_dataframe = pd.DataFrame(article.__dict__ for article in scrapped_articles)\n"
     ]
    },
    {
     "data": {
      "text/plain": "                                                 title  \\\n0                            Szybszy powrót do zdrowia   \n1                                        Komunikat IPN   \n2                         Spotkanie dyrektorów Caritas   \n3                    Zabytkowy nagrobek odrestaurowany   \n4                            Falstart „Polskiego ładu”   \n..                                                 ...   \n295                    W czwartek w „Naszym Dzienniku”   \n296  Agresora trzeba powstrzymać, zanim urośnie w siłę   \n297               Jak kształtuje się liczba zakażonych   \n298                    Dodatkowe wsparcie z kuratorium   \n299                   Prognoza pogody na 8 i 9 grudnia   \n\n                                             title_int  \\\n0                            Szybszy powrót do zdrowia   \n1                                        Komunikat IPN   \n2                         Spotkanie dyrektorów Caritas   \n3                    Zabytkowy nagrobek odrestaurowany   \n4                            Falstart „Polskiego ładu”   \n..                                                 ...   \n295                    W czwartek w „Naszym Dzienniku”   \n296  Agresora trzeba powstrzymać, zanim urośnie w siłę   \n297               Jak kształtuje się liczba zakażonych   \n298                    Dodatkowe wsparcie z kuratorium   \n299                   Prognoza pogody na 8 i 9 grudnia   \n\n                                             lead_text  \\\n0    Rehabilitacja pocovidowa zdecydowanie przyspie...   \n1    Akt oskarżenia przeciwko byłemu prokuratorowi ...   \n2    Pomoc dzieciom, seniorom, migrantom – Caritas ...   \n3    Uroczystość poświęcenia grobu weterana Powstan...   \n4    O błędach i niedociągnięciach rozwiązań „Polsk...   \n..                                                 ...   \n295  Chcesz wiedzieć, co znajdziesz w „Naszym Dzien...   \n296  O rozmowach Biden – Putin, zbyt miękkiej polit...   \n297  Dowiedz się, jak przyrasta codziennie liczba z...   \n298  ROZMOWA z Barbarą Nowak, małopolską kurator oś...   \n299  Ciśnienie w Warszawie w południe wyniesie 1003...   \n\n                                         lead_text_int  \\\n0    Rehabilitacja pocovidowa zdecydowanie przyspie...   \n1    19 stycznia 2022 r. Oddziałowa Komisja Ścigani...   \n2    O dalszej pomocy dzieciom, seniorom, wykluczon...   \n3    21 stycznia 2022 r. w Nowym  Mieście Lubawskim...   \n4    Z dr. Tomaszem Bojkowskim z Katedry Finansów P...   \n..                                                 ...   \n295  Chcesz wiedzieć, co znajdziesz w „Naszym Dzien...   \n296  Z gen. dyw. Romanem Polką, byłym dowódcą Jedno...   \n297  Dowiedz się, jak przyrasta codziennie liczba z...   \n298  ROZMOWA z Barbarą Nowak, małopolską kurator oś...   \n299  Jak informuje IMGW, niemal cały kontynent obej...   \n\n                                                  link  \\\n0    https://naszdziennik.pl/polska-kraj/249411,szy...   \n1    https://naszdziennik.pl/polska-kraj/249391,kom...   \n2    https://naszdziennik.pl/polska-kraj/249387,spo...   \n3    https://naszdziennik.pl/polska-kraj/249382,zab...   \n4    https://naszdziennik.pl/polska-kraj/249380,fal...   \n..                                                 ...   \n295  https://naszdziennik.pl/polska-kraj/247495,w-c...   \n296  https://naszdziennik.pl/polska-kraj/247492,agr...   \n297  https://naszdziennik.pl/polska-kraj/247482,jak...   \n298  https://naszdziennik.pl/polska-kraj/247472,dod...   \n299  https://naszdziennik.pl/polska-kraj/247469,pro...   \n\n                                                  text      when_published  \\\n0    Rehabilitacja osób po covidzie odbywa się w po... 2022-01-20 00:03:00   \n1    Podejrzanemu zarzucono popełnienie czynów pole... 2022-01-19 17:09:00   \n2    W obradach uczestniczył m.in. ks. bp Wiesław S... 2022-01-19 16:34:00   \n3    Program 21 stycznia 2022 (piątek) godz. 12.00 ... 2022-01-19 14:56:00   \n4    – Nie najlepiej. Moim zdaniem aktualne rozwiąz... 2022-01-19 14:32:00   \n..                                                 ...                 ...   \n295                                                    2021-12-08 18:43:00   \n296  Tak naprawdę skutki czy efekty tej rozmowy dop... 2021-12-08 18:27:00   \n297  Od początku epidemii z powodu zakażenia COVID-... 2021-12-08 14:04:00   \n298  – Rozumiem, że chodzi o troskę ministra zdrowi... 2021-12-08 09:05:00   \n299  Polska znajduje się w zasięgu klina wyżu znad ... 2021-12-08 08:33:00   \n\n                                            author           source  \\\n0                                    Marek Zygmunt    Nasz Dziennik   \n1    przesł. Janusz Ślęzak, Oddział IPN w Krakowie  NaszDziennik.pl   \n2                                         APW, KAI  NaszDziennik.pl   \n3                   APW, https://gdansk.ipn.gov.pl  NaszDziennik.pl   \n4                              Mariusz Kamieniecki  NaszDziennik.pl   \n..                                             ...              ...   \n295                                       APW, PAP  NaszDziennik.pl   \n296                            Mariusz Kamieniecki  NaszDziennik.pl   \n297                                            APW  NaszDziennik.pl   \n298                                 Urszula Wróbel    Nasz Dziennik   \n299                                       APW, PAP  NaszDziennik.pl   \n\n           portal  \n0    naszdziennik  \n1    naszdziennik  \n2    naszdziennik  \n3    naszdziennik  \n4    naszdziennik  \n..            ...  \n295  naszdziennik  \n296  naszdziennik  \n297  naszdziennik  \n298  naszdziennik  \n299  naszdziennik  \n\n[300 rows x 10 columns]",
      "text/html": "<div>\n<style scoped>\n    .dataframe tbody tr th:only-of-type {\n        vertical-align: middle;\n    }\n\n    .dataframe tbody tr th {\n        vertical-align: top;\n    }\n\n    .dataframe thead th {\n        text-align: right;\n    }\n</style>\n<table border=\"1\" class=\"dataframe\">\n  <thead>\n    <tr style=\"text-align: right;\">\n      <th></th>\n      <th>title</th>\n      <th>title_int</th>\n      <th>lead_text</th>\n      <th>lead_text_int</th>\n      <th>link</th>\n      <th>text</th>\n      <th>when_published</th>\n      <th>author</th>\n      <th>source</th>\n      <th>portal</th>\n    </tr>\n  </thead>\n  <tbody>\n    <tr>\n      <th>0</th>\n      <td>Szybszy powrót do zdrowia</td>\n      <td>Szybszy powrót do zdrowia</td>\n      <td>Rehabilitacja pocovidowa zdecydowanie przyspie...</td>\n      <td>Rehabilitacja pocovidowa zdecydowanie przyspie...</td>\n      <td>https://naszdziennik.pl/polska-kraj/249411,szy...</td>\n      <td>Rehabilitacja osób po covidzie odbywa się w po...</td>\n      <td>2022-01-20 00:03:00</td>\n      <td>Marek Zygmunt</td>\n      <td>Nasz Dziennik</td>\n      <td>naszdziennik</td>\n    </tr>\n    <tr>\n      <th>1</th>\n      <td>Komunikat IPN</td>\n      <td>Komunikat IPN</td>\n      <td>Akt oskarżenia przeciwko byłemu prokuratorowi ...</td>\n      <td>19 stycznia 2022 r. Oddziałowa Komisja Ścigani...</td>\n      <td>https://naszdziennik.pl/polska-kraj/249391,kom...</td>\n      <td>Podejrzanemu zarzucono popełnienie czynów pole...</td>\n      <td>2022-01-19 17:09:00</td>\n      <td>przesł. Janusz Ślęzak, Oddział IPN w Krakowie</td>\n      <td>NaszDziennik.pl</td>\n      <td>naszdziennik</td>\n    </tr>\n    <tr>\n      <th>2</th>\n      <td>Spotkanie dyrektorów Caritas</td>\n      <td>Spotkanie dyrektorów Caritas</td>\n      <td>Pomoc dzieciom, seniorom, migrantom – Caritas ...</td>\n      <td>O dalszej pomocy dzieciom, seniorom, wykluczon...</td>\n      <td>https://naszdziennik.pl/polska-kraj/249387,spo...</td>\n      <td>W obradach uczestniczył m.in. ks. bp Wiesław S...</td>\n      <td>2022-01-19 16:34:00</td>\n      <td>APW, KAI</td>\n      <td>NaszDziennik.pl</td>\n      <td>naszdziennik</td>\n    </tr>\n    <tr>\n      <th>3</th>\n      <td>Zabytkowy nagrobek odrestaurowany</td>\n      <td>Zabytkowy nagrobek odrestaurowany</td>\n      <td>Uroczystość poświęcenia grobu weterana Powstan...</td>\n      <td>21 stycznia 2022 r. w Nowym  Mieście Lubawskim...</td>\n      <td>https://naszdziennik.pl/polska-kraj/249382,zab...</td>\n      <td>Program 21 stycznia 2022 (piątek) godz. 12.00 ...</td>\n      <td>2022-01-19 14:56:00</td>\n      <td>APW, https://gdansk.ipn.gov.pl</td>\n      <td>NaszDziennik.pl</td>\n      <td>naszdziennik</td>\n    </tr>\n    <tr>\n      <th>4</th>\n      <td>Falstart „Polskiego ładu”</td>\n      <td>Falstart „Polskiego ładu”</td>\n      <td>O błędach i niedociągnięciach rozwiązań „Polsk...</td>\n      <td>Z dr. Tomaszem Bojkowskim z Katedry Finansów P...</td>\n      <td>https://naszdziennik.pl/polska-kraj/249380,fal...</td>\n      <td>– Nie najlepiej. Moim zdaniem aktualne rozwiąz...</td>\n      <td>2022-01-19 14:32:00</td>\n      <td>Mariusz Kamieniecki</td>\n      <td>NaszDziennik.pl</td>\n      <td>naszdziennik</td>\n    </tr>\n    <tr>\n      <th>...</th>\n      <td>...</td>\n      <td>...</td>\n      <td>...</td>\n      <td>...</td>\n      <td>...</td>\n      <td>...</td>\n      <td>...</td>\n      <td>...</td>\n      <td>...</td>\n      <td>...</td>\n    </tr>\n    <tr>\n      <th>295</th>\n      <td>W czwartek w „Naszym Dzienniku”</td>\n      <td>W czwartek w „Naszym Dzienniku”</td>\n      <td>Chcesz wiedzieć, co znajdziesz w „Naszym Dzien...</td>\n      <td>Chcesz wiedzieć, co znajdziesz w „Naszym Dzien...</td>\n      <td>https://naszdziennik.pl/polska-kraj/247495,w-c...</td>\n      <td></td>\n      <td>2021-12-08 18:43:00</td>\n      <td>APW, PAP</td>\n      <td>NaszDziennik.pl</td>\n      <td>naszdziennik</td>\n    </tr>\n    <tr>\n      <th>296</th>\n      <td>Agresora trzeba powstrzymać, zanim urośnie w siłę</td>\n      <td>Agresora trzeba powstrzymać, zanim urośnie w siłę</td>\n      <td>O rozmowach Biden – Putin, zbyt miękkiej polit...</td>\n      <td>Z gen. dyw. Romanem Polką, byłym dowódcą Jedno...</td>\n      <td>https://naszdziennik.pl/polska-kraj/247492,agr...</td>\n      <td>Tak naprawdę skutki czy efekty tej rozmowy dop...</td>\n      <td>2021-12-08 18:27:00</td>\n      <td>Mariusz Kamieniecki</td>\n      <td>NaszDziennik.pl</td>\n      <td>naszdziennik</td>\n    </tr>\n    <tr>\n      <th>297</th>\n      <td>Jak kształtuje się liczba zakażonych</td>\n      <td>Jak kształtuje się liczba zakażonych</td>\n      <td>Dowiedz się, jak przyrasta codziennie liczba z...</td>\n      <td>Dowiedz się, jak przyrasta codziennie liczba z...</td>\n      <td>https://naszdziennik.pl/polska-kraj/247482,jak...</td>\n      <td>Od początku epidemii z powodu zakażenia COVID-...</td>\n      <td>2021-12-08 14:04:00</td>\n      <td>APW</td>\n      <td>NaszDziennik.pl</td>\n      <td>naszdziennik</td>\n    </tr>\n    <tr>\n      <th>298</th>\n      <td>Dodatkowe wsparcie z kuratorium</td>\n      <td>Dodatkowe wsparcie z kuratorium</td>\n      <td>ROZMOWA z Barbarą Nowak, małopolską kurator oś...</td>\n      <td>ROZMOWA z Barbarą Nowak, małopolską kurator oś...</td>\n      <td>https://naszdziennik.pl/polska-kraj/247472,dod...</td>\n      <td>– Rozumiem, że chodzi o troskę ministra zdrowi...</td>\n      <td>2021-12-08 09:05:00</td>\n      <td>Urszula Wróbel</td>\n      <td>Nasz Dziennik</td>\n      <td>naszdziennik</td>\n    </tr>\n    <tr>\n      <th>299</th>\n      <td>Prognoza pogody na 8 i 9 grudnia</td>\n      <td>Prognoza pogody na 8 i 9 grudnia</td>\n      <td>Ciśnienie w Warszawie w południe wyniesie 1003...</td>\n      <td>Jak informuje IMGW, niemal cały kontynent obej...</td>\n      <td>https://naszdziennik.pl/polska-kraj/247469,pro...</td>\n      <td>Polska znajduje się w zasięgu klina wyżu znad ...</td>\n      <td>2021-12-08 08:33:00</td>\n      <td>APW, PAP</td>\n      <td>NaszDziennik.pl</td>\n      <td>naszdziennik</td>\n    </tr>\n  </tbody>\n</table>\n<p>300 rows × 10 columns</p>\n</div>"
     },
     "execution_count": 10,
     "metadata": {},
     "output_type": "execute_result"
    }
   ],
   "source": [
    "naszdziennik_dataframe = pd.DataFrame(article.__dict__ for article in scrapped_articles)\n",
    "naszdziennik_dataframe"
   ],
   "metadata": {
    "collapsed": false,
    "pycharm": {
     "name": "#%%\n"
    }
   }
  },
  {
   "cell_type": "code",
   "execution_count": 11,
   "outputs": [],
   "source": [
    "timestamp = int((datetime.now(timezone.utc)).timestamp())"
   ],
   "metadata": {
    "collapsed": false,
    "pycharm": {
     "name": "#%%\n"
    }
   }
  },
  {
   "cell_type": "code",
   "execution_count": 12,
   "outputs": [],
   "source": [
    "naszdziennik_dataframe.to_parquet(f'{data_dir}/{portal_name}_{timestamp}.parquet')\n",
    "naszdziennik_dataframe.to_json(f'{data_dir}/{portal_name}_{timestamp}.json')"
   ],
   "metadata": {
    "collapsed": false,
    "pycharm": {
     "name": "#%%\n"
    }
   }
  },
  {
   "cell_type": "markdown",
   "source": [
    "Krótki test - dane pierwszego artykułu"
   ],
   "metadata": {
    "collapsed": false
   }
  },
  {
   "cell_type": "code",
   "execution_count": 13,
   "outputs": [
    {
     "name": "stdout",
     "output_type": "stream",
     "text": [
      "title:\n",
      "  Szybszy powrót do zdrowia\n",
      "lead_text:\n",
      "  Rehabilitacja pocovidowa zdecydowanie przyspiesza powrót pacjenta do normalnego funkcjonowania\n",
      "lead_text_int:\n",
      "  Rehabilitacja pocovidowa zdecydowanie przyspiesza powrót pacjenta do normalnego codziennego funkcjonowania, a także do pracy zawodowej. Twierdzą tak zarówno lekarze, jak i osoby, które przeszły lub przechodzą leczenie pocovidowe.\n",
      "link:\n",
      "  https://naszdziennik.pl/polska-kraj/249411,szybszy-powrot-do-zdrowia.html\n",
      "text:\n",
      "  Rehabilitacja osób po covidzie odbywa się w podmiotach leczniczych, które są zakładami lecznictwa uzdrowiskowego, lub w ośrodkach realizujących taką rehabilitację w trybie stacjonarnym, z odpowiednią bazą zabiegową. Uzdrowisko Cieplice było jednym z pierwszych w naszym kraju, które wprowadziło do swojej oferty rehabilitację osób, które przeszły COVID-19. – Wykorzystując posiadany potencjał kadrowo-lokalowo-sprzętowy w zakresie leczenia uzdrowiskowego i rehabilitacji leczniczej, już w grudniu 2020 r. na podstawie autorskiego programu przyjęliśmy pierwszych pacjentów do naszego ośrodka – wskazuje Roman Jałako, dyrektor ds. medycznych Uzdrowiska Cieplice PGU. – Najpierw realizowane to było na zasadach komercyjnych, a od kwietnia 2021 r. świadczenie refundowane jest przez Narodowy Fundusz Zdrowia, dzięki czemu dotychczas przyjęliśmy ponad 700 pacjentów. Cieszymy się, że tak wiele osób mogło skorzystać z naszej pomocy w tym trudnym dla nich czasie – informuje rozmówca. Drogi Czytelniku, cały artykuł jest dostępny w wersji elektronicznej „Naszego Dziennika”. Zapraszamy do zakupu w sklepie elektronicznym \n",
      "when_published:\n",
      "  2022-01-20 00:03:00\n"
     ]
    }
   ],
   "source": [
    "print(f'title:\\n  {naszdziennik_dataframe.iloc[0][\"title\"]}')\n",
    "print(f'lead_text:\\n  {naszdziennik_dataframe.iloc[0][\"lead_text\"]}')\n",
    "print(f'lead_text_int:\\n  {naszdziennik_dataframe.iloc[0][\"lead_text_int\"]}')\n",
    "print(f'link:\\n  {naszdziennik_dataframe.iloc[0][\"link\"]}')\n",
    "print(f'text:\\n  {naszdziennik_dataframe.iloc[0][\"text\"]}')\n",
    "print(f'when_published:\\n  {naszdziennik_dataframe.iloc[0][\"when_published\"]}')"
   ],
   "metadata": {
    "collapsed": false,
    "pycharm": {
     "name": "#%%\n"
    }
   }
  },
  {
   "cell_type": "code",
   "execution_count": 14,
   "outputs": [
    {
     "name": "stdout",
     "output_type": "stream",
     "text": [
      "title:\n",
      "  Zbudźmy sumienia\n",
      "lead_text:\n",
      "  Aborcja była główną przyczyną śmierci na świecie w ubiegłym roku\n",
      "link:\n",
      "  https://naszdziennik.pl/polska-kraj/248771,zbudzmy-sumienia.html\n",
      "text:\n",
      "  Według strony „Worldometers”, pokazującej statystyki dotyczące różnych kwestii społecznych, oficjalnie do 31.12.2021 r. przeprowadzono 42 mln 640 tys. 209 aborcji. Dane mogą być wyższe ze względu na aborcje dokonywane poza warunkami szpitalnymi oraz na dostęp do środków wczesnoporonnych. Oficjalnie na świecie zmarło 58,7 mln ludzi. Równocześnie wiele krajów zmaga się z gwałtownym starzeniem i wymieraniem społeczeństw, wprowadza programy mające poprawić demografię. Drogi Czytelniku, o problemach demograficznej zapaści i śmierci poza statystykami możesz przeczytać w dzisiejszym papierowym wydaniu „Naszego Dziennika”, dostępnym w punktach sprzedaży prasy, oraz TUTAJ. \n",
      "when_published:\n",
      "  2022-01-07 09:03:00\n"
     ]
    }
   ],
   "source": [
    "print(f'title:\\n  {naszdziennik_dataframe.iloc[99][\"title\"]}')\n",
    "print(f'lead_text:\\n  {naszdziennik_dataframe.iloc[99][\"lead_text\"]}')\n",
    "print(f'link:\\n  {naszdziennik_dataframe.iloc[99][\"link\"]}')\n",
    "print(f'text:\\n  {naszdziennik_dataframe.iloc[99][\"text\"]}')\n",
    "print(f'when_published:\\n  {naszdziennik_dataframe.iloc[99][\"when_published\"]}')"
   ],
   "metadata": {
    "collapsed": false,
    "pycharm": {
     "name": "#%%\n"
    }
   }
  },
  {
   "cell_type": "code",
   "execution_count": 16,
   "outputs": [],
   "source": [
    "# Fix 3 timestamps issues (multi-day-dates) for 141 (2021-12-31), 235 (2021-12-18) and 279 (2021-12-11)\n",
    "naszdziennik_dataframe.at[141,'when_published'] = datetime.strptime('2021-12-31', \"%Y-%m-%d\")\n",
    "naszdziennik_dataframe.at[235,'when_published'] = datetime.strptime('2021-12-18', \"%Y-%m-%d\")\n",
    "naszdziennik_dataframe.at[279,'when_published'] = datetime.strptime('2021-12-11', \"%Y-%m-%d\")\n",
    "\n",
    "naszdziennik_dataframe.to_parquet(f'{data_dir}/{portal_name}_{timestamp}.parquet')\n",
    "naszdziennik_dataframe.to_json(f'{data_dir}/{portal_name}_{timestamp}.json')"
   ],
   "metadata": {
    "collapsed": false,
    "pycharm": {
     "name": "#%%\n"
    }
   }
  },
  {
   "cell_type": "code",
   "execution_count": null,
   "outputs": [],
   "source": [],
   "metadata": {
    "collapsed": false,
    "pycharm": {
     "name": "#%%\n"
    }
   }
  }
 ],
 "metadata": {
  "kernelspec": {
   "display_name": "Python 3",
   "language": "python",
   "name": "python3"
  },
  "language_info": {
   "codemirror_mode": {
    "name": "ipython",
    "version": 2
   },
   "file_extension": ".py",
   "mimetype": "text/x-python",
   "name": "python",
   "nbconvert_exporter": "python",
   "pygments_lexer": "ipython2",
   "version": "2.7.6"
  }
 },
 "nbformat": 4,
 "nbformat_minor": 0
}