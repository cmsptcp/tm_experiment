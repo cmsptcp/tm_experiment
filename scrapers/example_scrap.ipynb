{
 "cells": [
  {
   "cell_type": "code",
   "execution_count": 1,
   "metadata": {
    "collapsed": true
   },
   "outputs": [],
   "source": [
    "import requests\n",
    "from bs4 import BeautifulSoup\n",
    "from tqdm import tqdm, trange\n",
    "from datetime import datetime, timezone\n",
    "from common.webarticle import WebArticle\n",
    "from common.pl_helper import PolishLocaleHelper\n",
    "import pandas as pd\n",
    "import logging\n",
    "import ipynbname"
   ]
  },
  {
   "cell_type": "code",
   "execution_count": 2,
   "outputs": [],
   "source": [
    "page = requests.get('https://tvn24.pl/polska')\n",
    "\n",
    "soup = BeautifulSoup(page.content, 'html.parser')\n",
    "page_content = soup.find_all('article',class_='teaser-wrapper__content default-teaser default-teaser--standard')"
   ],
   "metadata": {
    "collapsed": false,
    "pycharm": {
     "name": "#%%\n"
    }
   }
  },
  {
   "cell_type": "code",
   "execution_count": 11,
   "outputs": [],
   "source": [
    "ignored_paragraph_starts = ['OGLĄDAJ TELEWIZJĘ NA ŻYWO', ]"
   ],
   "metadata": {
    "collapsed": false,
    "pycharm": {
     "name": "#%%\n"
    }
   }
  },
  {
   "cell_type": "code",
   "execution_count": 12,
   "outputs": [],
   "source": [
    "def check_if_ignored_paragraph(text, ignored_paragraphs, operation='startswith'):\n",
    "\n",
    "    for ignored_paragraph in ignored_paragraphs:\n",
    "        if operation == 'startswith':\n",
    "            if text.startswith(ignored_paragraph):\n",
    "                return True\n",
    "        else:\n",
    "            logging.debug(f'check_if_ignored: operation {operation} not implemented')\n",
    "    return False"
   ],
   "metadata": {
    "collapsed": false,
    "pycharm": {
     "name": "#%%\n"
    }
   }
  },
  {
   "cell_type": "code",
   "execution_count": 17,
   "outputs": [],
   "source": [
    "def scrap_article_text_tvn24(link):\n",
    "    page = requests.get(link)\n",
    "    if page.status_code != 200:\n",
    "        logging.debug(f'received status code: {page.status_code}')\n",
    "        return '', ''\n",
    "\n",
    "    soup = BeautifulSoup(page.content, 'html.parser')\n",
    "    paragraphs = soup.find_all('p', class_='paragraph')\n",
    "\n",
    "    text = ''\n",
    "    for paragraph in paragraphs:\n",
    "        paragraph_text = paragraph.get_text().strip()\n",
    "        if check_if_ignored_paragraph(paragraph_text, ignored_paragraph_starts):\n",
    "            continue\n",
    "        text += paragraph_text + ' '\n",
    "\n",
    "    time_string = soup.find('time', class_='article-top-bar__date').get_text().strip()\n",
    "    when_published = PolishLocaleHelper.parse_pl_date_tvn24(time_string)\n",
    "\n",
    "    title_int = soup.find('h1', class_='article-top-bar__title').get_text().strip()\n",
    "    lead_text_int = soup.find('p', class_='lead-text').get_text().strip()\n",
    "\n",
    "    author = soup.find_all('dd', class_='article-top-bar__meta-item')[0].get_text().strip()\n",
    "    source = soup.find_all('dd', class_='article-top-bar__meta-item')[1].get_text().strip()\n",
    "\n",
    "    return text, when_published, title_int, lead_text_int, author, source"
   ],
   "metadata": {
    "collapsed": false,
    "pycharm": {
     "name": "#%%\n"
    }
   }
  },
  {
   "cell_type": "code",
   "execution_count": 22,
   "outputs": [
    {
     "name": "stdout",
     "output_type": "stream",
     "text": [
      "webart.title: \"Uprowadzony Polak wrócił już do kraju i jest w dobrym stanie\"\n",
      "webart.lead_text: Polski marynarz został uprowadzony w grudniu zeszłego roku w Zatoce Gwinejskiej.\n",
      "webart.link: https://tvn24.pl/swiat/polski-marynarz-uwolniony-po-uprowadzeniu-w-zatoce-gwinejskiej-5562224\n",
      "webart.text: ('Jak przekazało MSZ w komunikacie, \"członkowie załogi statku porwanego w połowie grudnia 2021 r. u wybrzeży Nigerii, w tym obywatel RP, zostali uwolnieni\". \"Uprowadzony Polak wrócił już do kraju i jest w dobrym stanie\" - poinformowano. \"Marynarze zostali uwolnieni dzięki działaniom armatora oraz sprawnej, profesjonalnej współpracy służby konsularnej i innych polskich instytucji z władzami Danii i Nigerii oraz z firmą zatrudniającą załogę statku\" - napisano w komunikacie resortu. OGLĄDAJ TVN24 W INTERNECIE W TVN24 GO Po stronie polskiej sprawą zajmował się międzyresortowy zespół pod przewodnictwem wiceministra Piotra Wawrzyka. Wydarzenie z połowy grudnia zeszłego roku było szóstym porwaniem obywatela Polski w Zatoce Gwinejskiej od 2013 roku. \"Apelujemy do polskich marynarzy, by przed podjęciem pracy na statku w niebezpiecznym regionie świata zawsze sprawdzali, czy armator posiada odpowiednie ubezpieczenie na wypadek uprowadzenia załogi\" - podkreśliło MSZ. Według Międzynarodowego Biura Morskiego (IMB) w 2020 roku spośród 135 marynarzy porwanych na całym świecie 130 uprowadzono w Zatoce Gwinejskiej, co jest rekordem w tym rejonie. ', datetime.datetime(2022, 1, 17, 12, 13), 'Polski marynarz uwolniony po\\xa0uprowadzeniu w\\xa0Zatoce Gwinejskiej', 'Polski marynarz uprowadzony w grudniu zeszłego roku w Zatoce Gwinejskiej został uwolniony. Wrócił już do kraju i jest w dobrym stanie - poinformowało Ministerstwo Spraw Zagranicznych.', 'mart\\\\mtom', 'PAP')\n",
      "webart.when_published: None\n",
      "webart.title_int: None\n",
      "webart.lead_text_int: None\n",
      "webart.author: None\n",
      "webart.source: None\n",
      "webart.title: Wiatr przewrócił ciężarówkę na bariery energochłonne\n",
      "webart.lead_text: Utrudnienia na S8 w Wyszkowie, zator na jezdni w stronę Warszawy.\n",
      "webart.link: https://tvn24.pl/tvnwarszawa/ulice/wyszkow-utrudnienia-na-trasie-s8-wiatr-przewrocil-ciezarowke-na-bariery-energochlonne-5562197\n",
      "webart.text: ('Do kolizji z udziałem samochodu ciężarowego doszło przed godziną 10. Wyszkowska policja podaje, że pojazd przewrócił się na bariery energochłonne na moście nad Wisłą w ciągu trasy S8. Z opublikowanych w mediach społecznościowych zdjęć wynika, że doszło do tego na lewym pasie jezdni. Naczepa upadła na bariery oddzielające obie jezdnie ekspresówki. OGLĄDAJ TVN24 W INTERNECIE W TVN24 GO Jak przekazał w rozmowie z tvnwarszawa.pl Damian Wroczyński z Komendy Powiatowej Policji w Wyszkowie, nikt nie został poszkodowany. - Samochód ciężarowy przewrócił się na bariery energochłonne w związku z silnym bocznym podmuchem wiatru. Został już usunięty z drogi, ale ruch w kierunku Warszawy jest obecnie zablokowany. Służby pracują nad przywróceniem drogi do użytku. Pojazdy są kierowane przez policję na objazd przez Wyszków - zaznaczył. Wcześniej Generalna Dyrekcja Dróg Krajowych i Autostrad podawała, że zablokowany był lewy pas jezdni w kierunku Warszawy. CZYTAJ TEŻ: Załamanie pogody i zimowa burza w Warszawie Wiatr porwał przęsło przy budowie stacji metra na Bemowie. Jeden z pracowników został ranny Informowaliśmy również o wypadku przy budowie stacji metra na Bemowie: ', datetime.datetime(2022, 1, 17, 12, 6), 'Utrudnienia na\\xa0S8 w\\xa0Wyszkowie. Wiatr przewrócił ciężarówkę na\\xa0bariery energochłonne', 'Ciężarówka przewróciła się na bariery na trasie S8 w Wyszkowie. Są duże utrudnienia na jezdni w kierunku Warszawy. Policja podaje, że do kolizji doszło z powodu silnych podmuchów wiatru.', 'kk', 'tvnwarszawa.pl')\n",
      "webart.when_published: None\n",
      "webart.title_int: None\n",
      "webart.lead_text_int: None\n",
      "webart.author: None\n",
      "webart.source: None\n",
      "webart.title: Ambulans zjechał ze swojego pasa, uderzył w dwa pojazdy i barierki. Kierowca nie żyje\n",
      "webart.lead_text: Śmiertelny wypadek na drodze krajowej nr 8 na Dolnym Śląsku.\n",
      "webart.link: https://tvn24.pl/polska/bardo-kierowca-ambulansu-zginal-w-wypadku-5561994\n",
      "webart.text: ('Do zdarzenia doszło w piątkową noc, na odcinku drogi krajowej nr 8 pomiędzy miejscowościami Braszowice i Bardo (woj. dolnośląskie). W zdarzeniu brały udział trzy pojazdy - ciężarówka oraz dwa samochody osobowe, z czego jeden był prywatną karetką służącą do transportu środków medycznych. Z relacji świadków wynika, że ambulans nie miał włączonych sygnałów świetlnych i dźwiękowych, w związku z czym nie był pojazdem uprzywilejowanym. - Na miejscu funkcjonariusze wstępnie ustalili, iż jadący ambulansem 51-letni mężczyzna, na skrzyżowaniu drogi z nieustalonych przyczyn zjechał na przeciwległy pas ruchu i uderzył w bok stojącego na pasie do lewoskrętu samochodu osobowego chevrolet. Następnie zderzył się czołowo z pojazdem Man z naczepą, by zatrzymać się na przydrożnych barierkach - informuje Katarzyna Mazurek z policji w Ząbkowicach Śląskich. W wypadku na miejscu zginął kierowca karetki, a jego pasażer trafił do szpitala. Dwóch mężczyzn podróżujących chevroletem również przewieziono do szpitala, ale po zaopatrzeniu medycznym zostali zwolnieniu do domu. Kierowca ciężarówki nie odniósł poważniejszych obrażeń. Kierowcy chevroleta i mana byli trzeźwi. Policja pod nadzorem prokuratury wyjaśnia okoliczności i przyczyny wypadku. DLACZEGO TO NA POLSKICH DROGACH CODZIENNIE GINIE 7 OSÓB? OGLĄDAJ W TVN24 GO >>> ', datetime.datetime(2022, 1, 17, 11, 48), 'Ambulans zjechał ze\\xa0swojego pasa, uderzył w\\xa0dwa pojazdy i\\xa0barierki. Kierowca nie żyje', 'Śmiertelny wypadek na drodze krajowej nr 8. W zderzeniu trzech pojazdów uczestniczył ambulans do transportu środków medycznych. Zginął 51-letni kierowca. Okoliczności zdarzenia, pod nadzorem prokuratury, wyjaśnia policja.', 'ib/tam', 'Policja Ząbkowice Śląskie')\n",
      "webart.when_published: None\n",
      "webart.title_int: None\n",
      "webart.lead_text_int: None\n",
      "webart.author: None\n",
      "webart.source: None\n",
      "webart.title: Silny wiatr przewrócił naczepę na auto osobowe\n",
      "webart.lead_text: Na Puławskiej.\n",
      "webart.link: https://tvn24.pl/tvnwarszawa/ulice/warszawa-silny-wiatr-stracil-naczepe-na-auto-osobowe-5562181\n",
      "webart.text: ('Jak przekazała Katarzyna Walendzik z Komendy Stołecznej Policji, do zdarzenia doszło na Puławskiej, wysokości numeru 558. - Zgłoszenie otrzymaliśmy o godzinie 10.14. Pod wpływem silnego wiatru naczepa wywróciła się na samochód osobowy. Jedna osoba jest badana w karetce pogotowia ratunkowego - podała. Dodała też, że są utrudnienia. - Ruch odbywa się jednym pasem w kierunku Piaseczna - wskazała. OGLĄDAJ TVN24 W INTERNECIE W TVN24 GO Mateusz Szmelter z tvnwarszawa.pl pojechał na miejsce. Podał, że chodzi o wylot z Warszawy w kierunku Piaseczna. -  Mamy bardzo duży korek ciągnący się do Południowej Obwodnicy Warszawy. Zablokowane są dwa pasy - powiedział. I dodał: - Kilkadziesiąt metrów obok, na stacji benzynowej, mamy kolejnego przewróconego tira. Był zaparkowany na stacji. Szmelter poinformował też, że służby rozpoczynają akcję podnoszenia ciężarówki. Dojazd zajął im dłuższą chwilę, bo jednostki jechały z drugiego końca Warszawy. Na czas akcji na Puławskiej mogą być utrudnienia. Wiatr porwał przęsło przy budowie stacji metra na\\xa0Bemowie. Jeden z\\xa0pracowników został ranny. Załamanie pogody i\\xa0zimowa burza w\\xa0Warszawie. ', datetime.datetime(2022, 1, 17, 11, 42), 'Silny wiatr przewrócił naczepę na\\xa0auto osobowe', 'Na ulicy Puławskiej z powodu silnego wiatru na samochód osobowy wywróciła się naczepa ciężarówki. Policja podała, że jedna osoba jest badana w karetce. Informację o zdarzeniu otrzymaliśmy na Kontakt24.', 'katke', 'Kontakt 24, tvnwarszawa.pl')\n",
      "webart.when_published: None\n",
      "webart.title_int: None\n",
      "webart.lead_text_int: None\n",
      "webart.author: None\n",
      "webart.source: None\n",
      "webart.title: Tak pogoda zmieniła się w kilka minut. Zimowa burza nad Łodzią\n",
      "webart.lead_text: Strażacy usuwają między innymi przewrócone drzewa i połamane gałęzie.\n",
      "webart.link: https://tvn24.pl/lodz/lodz-gdzie-jest-burza-przewrocone-drzewa-przygniecione-samochody-uszkodzona-elewacja-szpitala-5562161\n",
      "webart.text: ('Chmura nad miastem pojawiła się przed godziną 11. Porywisty wiatr połączony z intensywnymi opadami śniegu i piorunami najpierw pojawił się nad północną częścią Łodzi. - To właśnie z terenu Bałut mamy obecnie najwięcej informacji o przewróconych drzewach, zerwanych gałęziach i uszkodzonych liniach energetycznych. Kolejne ciągle napływają\\xa0- przekazuje mł. kpt. Łukasz Górczyński z łódzkiej straży pożarnej. /Czytaj o załamaniu pogody w Warszawie/ Na ulicy Dennej drzewo zostało przewrócone na linie energetyczne. Porywisty wiatr uszkodził elewację szpitala \"Matki Polki\". Na szczęście, strażacy na razie nie mają informacji o poszkodowanych. Grzegorz Gawlik z łódzkiego magistratu przekazuje, że po godzinie 12 na ulice wyjedzie 97 pługosolarek, które będą odśnieżać i posypywać drogi. Mieszkańcy Łodzi opowiadają, że burza przeszła nad miastem w kilkanaście minut. - Zrobiło się siwo, latały papiery z przewróconego śmietnika - relacjonują. OGLĄDAJ TVN24 W INTERNECIE NA TVN24 GO >>> Ulice błyskawicznie zostały przykryte śniegiem.\\xa0Ekipa TVN24, która znajdowała się przed Komendą Wojewódzką Policji w Łodzi nagrała, jak w ciągu kilku minut zmieniła się aura. - Widoczność spadła niemal do zera. Dopiero po tym, jak sytuacja się uspokoiła zobaczyliśmy, że niedaleko nas wiatr połamał gałęzie. Z gmachu komendy policji oderwany został\\xa0jeden z parapetów i runął na ziemię. Na szczęście, nikt nie został ranny - mówi Katarzyna Pasikowska-Poczopko, reporterka TVN24. Aura wpłynęła też na samochody jadące autostradą A2 w pobliżu Łodzi. Jedna z naszych ekip nagrała, że widoczność w ciągu kilku minut spadła do kilkudziesięciu metrów. Instytut Meteorologii i Gospodarki Wodnej ostrzega - w poniedziałek pogoda może być bardzo niebezpieczna. Synoptycy wydali alarmy przed silnymi porywami wiatru, zawiejami lub zamieciami śnieżnymi, intensywnymi opadami śniegu i oblodzeniem. Obowiązuje drugi i pierwszy stopień ostrzeżeń O sytuacji pogodowej czytaj więcej w TVN Meteo. ', datetime.datetime(2022, 1, 17, 11, 41), 'Przewrócone drzewa, przygniecione samochody, uszkodzona elewacja szpitala. Zimowa burza nad\\xa0Łodzią', 'W poniedziałek przed południem nad Łodzią przeszła zimowa burza. - Zrobiło się\\xa0siwo, śnieg przykrył ulice w ciągu kilkudziesięciu sekund, było słychać grzmoty - opowiadają\\xa0mieszkańcy miasta. Strażacy przekazują, że mają pełne ręce roboty: usuwają między innymi przewrócone drzewa i połamane gałęzie.', 'bż/tam', 'TVN24 Łódź')\n",
      "webart.when_published: None\n",
      "webart.title_int: None\n",
      "webart.lead_text_int: None\n",
      "webart.author: None\n",
      "webart.source: None\n",
      "webart.title: Alert RCB nadal obowiązuje. \"Możliwe przerwy w dostawie prądu\"\n",
      "webart.lead_text: Silny wiatr w Polsce.\n",
      "webart.link: https://tvn24.pl/tvnmeteo/polska/alert-rcb-dla-calej-polski-mozliwe-przerwy-w-dostawie-pradu-5561231\n",
      "webart.text: ('RCB wysłało w niedzielę po południu alerty SMS o treści: \"Uwaga! Wieczorem, w nocy i jutro (16/17.01) silny wiatr. Możliwe przerwy w dostawie prądu. Zabezpiecz rzeczy, które porwane przez wiatr mogą stanowić zagrożenie\". Taką treść otrzymały osoby przebywające na terenie całej Polski, w 16 województwach. Alert RCB to SMS-owy system ostrzegania przed zagrożeniami. Na alert RCB nie trzeba się zapisywać. Osoby, które znajdą się na obszarze potencjalnego wystąpienia sytuacji kryzysowej zagrażającej życiu, otrzymają na swój telefon komórkowy krótką wiadomość tekstową (SMS) z informacjami dotyczącymi rodzaju zagrożenia wraz z lokalizacją, a także źródłem ostrzeżenia. Nie ma znaczenia, z którym operatorem zawarliśmy umowę. Nowelizacja Prawa telekomunikacyjnego oraz niektórych innych ustaw z 11 czerwca 2018 roku nakłada na wszystkich operatorów obowiązek niezwłocznego wysłania komunikatu do wszystkich użytkowników na określonym przez dyrektora RCB obszarze. Komunikaty są wydawane tylko w wyjątkowych sytuacjach, które realnie mogą zagrażać życiu i zdrowiu człowieka. ', datetime.datetime(2022, 1, 16, 14, 43), 'Alert RCB dla całej Polski. \"Możliwe przerwy w\\xa0dostawie prądu\"', 'Rządowe Centrum Bezpieczeństwa rozesłało w niedzielę SMS-owe alerty do mieszkańców całego kraju. Eksperci przestrzegają w nim przed silnymi porywami wiatru. Ostrzeżenia obowiązują także w poniedziałek.', 'kw,anw', 'RCB')\n",
      "webart.when_published: None\n",
      "webart.title_int: None\n",
      "webart.lead_text_int: None\n",
      "webart.author: None\n",
      "webart.source: None\n",
      "webart.title: Andrusiewicz: przykra decyzja, ale nie traktujemy tego jako porażkę\n",
      "webart.lead_text: Rzecznik resortu zdrowia o rezygnacji 13 ekspertów z członkostwa w Radzie Medycznej.\n",
      "webart.link: https://tvn24.pl/polska/rada-medyczna-13-czlonkow-zrezygnowalo-wojciech-andrusiewicz-przykra-decyzja-ale-nie-traktujemy-tego-jako-porazke-5562131\n",
      "webart.text: ('13 z 17 członków Rady Medycznej przy premierze w piątek złożyło rezygnacje z doradzania rządowi w sprawie epidemii COVID-19. Napisali w oświadczeniu, że ich decyzja jest spowodowana \"brakiem wpływu rekomendacji na realne działania\" oraz \"narastającą tolerancję\" rządu dla \"zachowań środowisk negujących zagrożenie COVID-19 i znaczenie szczepień w walce z pandemią\". W poniedziałek na godzinę\\xa015 zaplanowano konferencję\\xa0ministra zdrowia Adama Niedzielskiego, na której ma przedstawić informacje w tej sprawie. OGLĄDAJ TVN24 W INTERNECIE W TVN24 GO Rzecznik resortu zdrowia Wojciech Andrusiewicz w rozmowie z dziennikarzami w poniedziałek przed południem przypominał, że \"każda dziedzina medycyny ma swojego konsultanta krajowego, którego opinii zasięga minister\". - Część z tych konsultantów była również w Radzie Medycznej i oni nadal pozostają\\xa0konsultantami. Przypomnę, że mamy również do dyspozycji Główną Inspekcję\\xa0Sanitarną, Państwowy Zakład Higieny, Agencję Badań Medycznych. Autorytetów w dziedzinie medycyny jest bardzo wiele, na bieżąco z tych opinii korzystamy - zapewniał. - Co będzie dalej w zakresie ciała doradczego, jakim była Rada Medyczna? Co zostało przekierowane na Ministerstwo Zdrowia? Dzisiaj decyzja zapadnie i na pewno poinformujemy - przekazał rzecznik. Dodał, że minister Niedzielski \"zachęcał członków Rady Medycznej do pozostania w tym gremium i dalszego sprzeciwiania się narracjom antyszczepionkowym\". - Minister deklarował dalszą cześć współpracy, także premier. Członkowie deklarują dalszą część współpracy, ale już\\xa0nie w tym ciele nazywanym Radą Medyczną - mówił. - Nie odbieramy tego jako porażkę. To na pewno przykra decyzja członków Rady Medycznej. Na pewno odbiła się\\xa0niekorzystnie w społeczeństwie. Na pewno nie jest to porażka systemu szczepień i ludzi, którzy mają\\xa0otwarte i jasne umysły - podkreślił Andrusiewicz. Rzecznik powiedział też, że \"nie triumfowałby na miejscu środowisk antyszczepionkowych\" po odejściu części członków Rady Medycznej. - Czekamy na przyjęcie przepisów w parlamencie dotyczących możliwości oczekiwania przez pracodawcę okazywania negatywnego wyniku testu czy też certyfikatu zaszczepienia lub ozdrowienia - mówił. - Jeżeli ktokolwiek cieszy się z odejścia członków Rady Medycznej, to trochę tak, jakby się cieszył z powodu liczby zgonów, które mamy w Polsce - powiedział Andrusiewicz. Jego zdaniem to \"branie na siebie wielkiej odpowiedzialności, której chyba żadna osoba z tego środowiska antyszczepionkowego nie jest w stanie unieść\". - Zapraszamy wszystkich antyszczepionkowców na oddziały COVID-owe, żeby zobaczyli, jak umierają pacjenci, jak czerpią ostatni oddech, co w ostatniej chwili życia mówią i może to komuś uświadomi, że nie ma się z czego cieszyć - powiedział. Andrusiewicz był też pytany o to, kiedy można spodziewać się decyzji Europejskiej Agencji Leków w sprawie szczepienia trzecią dawką młodzieży w wieku 12-17 lat. - Decyzja Europejskiej Agencji Leków ma zapaść 24 stycznia. To będzie najprawdopodobniej, na 90 procent, decyzja pozytywna. W przeciągu tygodnia, półtora będziemy chcieli zatwierdzić możliwość szczepienia dzieci trzecią dawką. Liczymy, że na przełomie stycznia i lutego te szczepienia będą mogły ruszyć - przekazał. ', datetime.datetime(2022, 1, 17, 11, 23), 'Andrusiewicz: przykra decyzja, ale\\xa0nie\\xa0traktujemy tego jako porażkę', 'Odejście 13 ekspertów z Rady Medycznej na pewno odbiło się niekorzystnie w społeczeństwie. To przykra decyzja, ale nie traktujemy jej jako porażkę\\xa0- powiedział rzecznik resortu zdrowia Wojciech Andrusiewicz. Zapewniał, że ministerstwo \"na bieżąco korzysta z opinii\" wielu autorytetów w dziedzinie medycyny.', 'ads,pp/kab', 'TVN24')\n",
      "webart.when_published: None\n",
      "webart.title_int: None\n",
      "webart.lead_text_int: None\n",
      "webart.author: None\n",
      "webart.source: None\n",
      "webart.title: Wiatr porwał przęsło przy budowie stacji metra. Jeden z pracowników został ranny\n",
      "webart.lead_text: Wypadek przy budowie stacji metra Bemowo.\n",
      "webart.link: https://tvn24.pl/tvnwarszawa/najnowsze/warszawa-wypadek-na-budowie-stacji-metra-bemowo-wiatr-porwal-przeslo-jeden-z-pracownikow-zostal-ranny-5562113\n",
      "webart.text: ('Do zdarzenia doszło w rejonie skrzyżowania Górczewskiej z Powstańców Śląskich, czyli w miejscu, gdzie powstaje nowa stacja drugiej linii metra o roboczej nazwie Bemowo. - Około godziny ósmej pracownicy wykonywali prace związane z zabezpieczeniem wygrodzeń przy budowie. Jeden z pracowników niestety nieszczęśliwie upadł w okolicy torowiska tramwajowego - potwierdził Bartosz Sawicki, rzecznik prasowy firmy Gulermak. OGLĄDAJ TVN24 W INTERNECIE W TVN24 GO Pracownicy działali przy wejściu do nowo powstającej stacji, która znajduje się przy peronie tramwajowym. Z naszych ustaleń wynika, że mężczyzna został zepchnięty przez jedno z przęseł ogrodzenia na skład stojący na przystanku. Na miejsce wezwane zostało pogotowie ratunkowe, policja oraz straż pożarna. - Pracownikowi została udzielona pierwsza pomoc. Miejsce zdarzenia zostało wygrodzone i zabezpieczone na czas działania służb - relacjonował Sawicki. - Na tę chwilę mamy informację, że pracownik ma załamaną rękę. Nie stwierdzono u niego dodatkowych obrażeń - zaznaczył. Informację o porannym incydencie potwierdził też Maciej Dutkiewicz, rzecznik Tramwajów Warszawskich. Jak zaznaczył w rozmowie z tvnwarszawa.pl, motorniczy zgłosił tę sytuację nadzorowi ruchu i zjechał do zajezdni. - Tramwaj został zarysowany. Podmieniono go na inny skład. Nie wymagało to wstrzymywania ruchu - przekazał rzecznik. CZYTAJ TEŻ: Załamanie pogody i zimowa burza w Warszawie ', datetime.datetime(2022, 1, 17, 11, 22), 'Wiatr porwał przęsło przy budowie stacji metra na\\xa0Bemowie. Jeden z\\xa0pracowników został ranny', 'Wypadek przy budowie stacji metra Bemowo. Podmuch wiatru porwał przęsło wygradzające jedno z wejść na stację i zepchnął je na tramwaj, który zatrzymał się na ulicy Górczewskiej. W wyniku zdarzenia ranny został jeden z pracowników.', 'kk/gp', 'tvnwarszawa.pl')\n",
      "webart.when_published: None\n",
      "webart.title_int: None\n",
      "webart.lead_text_int: None\n",
      "webart.author: None\n",
      "webart.source: None\n",
      "webart.title: Rehabilitacja po COVID-19 nie tylko dla dorosłych, potrzebują jej też dzieci\n",
      "webart.lead_text: Korzystają z niej między innymi w Zakładzie Fizjoterapii Uniwersyteckiego Szpitala Dziecięcego w Krakowie-Prokocimiu.\n",
      "webart.link: https://tvn24.pl/krakow/koronawirus-w-polsce-rehabilitacja-po-covid-19-w-zakladzie-fizjoterapii-uniwersyteckiego-szpitala-dzieciecego-wkrakowie-prokocimiu-5562053\n",
      "webart.text: ('Lekarze tłumaczą, że najczęstszymi powikłaniami po COVID-19 wśród dzieci są zaburzenia koncentracji i koordynacji ruchowej, szybkie męczenie się i problemy z oddychaniem. To jednak nie wszystko. - Omikron u dzieci może przybrać dosyć niedobrą postać kliniczną, jak powikłanie w postaci zapalenia mięśnia sercowego i powodować, że mały obywatel naszego kraju może mieć poważne problemy zdrowotne, głównie ze strony układu krążenia. W grę wchodziłyby też zmiany zakrzepowo-zatorowe, które mogą występować u dzieci. Jeśli chodzi o wariant delta i wirus klasyczny, może on powodować zespół niewydolności wielonarządowej, czyli uszkodzenia różnych narządów - mówi Anna Boroń-Kaczmarska, specjalistka chorób zakaźnych i zdrowia publicznego. \"Najpierw był ból głowy i nieudająca się zbić temperatura, potem ruszyła lawina\". Czym jest PIMS? >>> OGLĄDAJ W TVN24 GO W zawiązku z tym Uniwersytecki Szpital Dziecięcy w Krakowie uruchomił program dla dzieci, które zmagały z się z koronawirusem. Program rehabilitacji jest uzależniony od indywidualnych potrzeb, jednak zajęcia odbywają się nie częściej niż trzy razy w tygodniu i nie dłużej niż przez sześć tygodni. Skierowania na rehabilitacje wystawiają lekarze rodzinni i pediatrzy. Zakład Fizjoterapii USDK każdego dnia rehabilituje ok. 120-130 dzieci w oddziałach szpitala i w poradni rehabilitacyjnej. W lecznicy pracuje 20 fizjoterapeutów. OGLĄDAJ TVN24 W INTERNECIE W TVN24 GO >>> ', datetime.datetime(2022, 1, 17, 11, 4), 'Rehabilitacja po\\xa0COVID-19 nie\\xa0tylko\\xa0dla dorosłych, potrzebują jej też dzieci', 'Przeszły chorobę, ale do pełni zdrowia dopiero wracają. Najmłodsi pacjenci, którzy przechorowali COVID-19, często wymagają rehabilitacji. Korzystają z niej między innymi w Zakładzie Fizjoterapii Uniwersyteckiego Szpitala Dziecięcego w\\xa0Krakowie-Prokocimiu.', 'wini/tam', 'TVN24 Kraków')\n",
      "webart.when_published: None\n",
      "webart.title_int: None\n",
      "webart.lead_text_int: None\n",
      "webart.author: None\n",
      "webart.source: None\n",
      "webart.title: Koronawirus w Polsce. Mapa zakażeń\n",
      "webart.lead_text: Dane w artykule są codziennie aktualizowane.\n",
      "webart.link: https://tvn24.pl/polska/koronawirus-w-polsce-mapa-zakazen-ile-szczepien-ile-nowych-przypadkow-wykryto-17-stycznia-2022-4344739\n",
      "webart.text: ('O 10 445\\xa0nowych infekcjach poinformował w poniedziałek resort zdrowia. MZ przekazało też, że zmarły cztery osoby zakażone koronawirusem. Wszystkie miały choroby współistniejące. OGLĄDAJ TVN24 NA ŻYWO W TVN24 GO Szczegółowe informacje dotyczące zakażeń i zgonów w poszczególnych województwach publikujemy niżej - w tabeli. Od początku pandemii w Polsce potwierdzono 4 323 482 infekcje. Zmarło 102 309 osób chorujących na COVID-19. Do poniedziałku podano 49\\xa0558\\xa0781 dawek różnych szczepionek przeciw COVID-19. Pierwszą dawką wykonano 22\\xa0034\\xa0108 szczepień. W pełni zaszczepionych jest 21\\xa0434\\xa0065 osób - to zaszczepieni jednodawkowym preparatem koncernu Johnson & Johnson lub dwiema dawkami szczepionek firm\\xa0AstraZeneca, Moderna lub Pfizer/BioNTech. Zgodnie z informacjami przekazywanymi na rządowej stronie do poniedziałku dawek przypominających szczepionki przeciw COVID-19 podano łącznie 8\\xa0519\\xa0890. To suma iniekcji u osób, które zakończyły podstawowy cykl szczepień minimum 180 dni wcześniej, licząc od dnia podania ostatniej dawki.\\xa0Jest to trzecia dawka dla osób, którym podano preparat od Pfizera/BioNTechu albo Moderny, lub druga dla osób, które przyjęły preparat od Johnson & Johnson. 15 stycznia resort zdrowia przekazał, że wykonano 200\\xa0194 szczepienia trzecią dawką uzupełniającą. Chodzi tu o osoby od 12. roku życia, które mają zaburzenia odporności i były już w pełni zaszczepione preparatem od Pfizera/BioNTechu, Moderny lub AstraZeneki. Szczepienia przeciwko COVID-19 - najważniejsze informacje Z poniedziałkowego raportu z danymi epidemicznymi wynika, że: - 30 556 łóżek jest przeznaczonych dla pacjentów z COVID-19 (-55 w stosunku do poprzedniego dnia), \\n- z tego 14 601 łóżek jest zajętych przez pacjentów z COVID-19 (+82),\\xa0\\n- 2740 respiratorów jest przeznaczonych dla pacjentów z COVID-19 (-7), \\n- z tego 1519 respiratorów jest obecnie wykorzystywanych (-39), \\n- 266 535 osób jest objętych kwarantanną (+3068), \\n- 3 800 051 osób wyzdrowiało (+9674). Koronawirusa SARS-CoV-2 w Polsce pierwszy raz potwierdzono 4 marca 2020 roku. Pułap miliona potwierdzonych infekcji został przekroczony 2 grudnia 2020 roku. Liczba dwóch milionów potwierdzonych zakażeń została przekroczona 19 marca 2021 roku. 29 października Ministerstwo Zdrowia poinformowało o ponad trzech milionach wykrytych infekcji. 22 grudnia 2021 roku liczba potwierdzonych zakażeń przekroczyła cztery miliony. 11 stycznia 2022 roku liczba potwierdzonych ofiar śmiertelnych, które chorowały na COVID-19, przekroczyła 100 tysięcy. W związku z pandemią od 15 grudnia 2021 roku obowiązywać zaczęły zaostrzone limity: Hotele i obiekty wypoczynkowe, obiekty sakralne, obiekty sportowe, restauracje, bary, kina, teatry: Limit 30 procent obłożenia przez osoby niezaszczepione.\\nEdukacja: Od 20 grudnia do 9 stycznia 2022 roku uczniowie szkół podstawowych i ponadpodstawowych uczyli się zdalnie. Żłobki i przedszkola funkcjonowały bez zmian.\\nKluby, dyskoteki: Odwołane od 15 grudnia. Wyjątkiem była noc sylwestrowa, kiedy imprezy będą mogły odbywać się w ścisłym reżimie sanitarnym, przy limicie maksymalnie 100 osób.\\nObowiązkowe testy na koronawirusa: Od 15 grudnia każda osoba przed przylotem do Polski spoza strefy Schengen musi wykonać test na COVID-19. Test powinien być wykonany nie wcześniej niż 24 godziny przed wylotem. Od 15 grudnia obowiązkowy test dotyczy także osób, które mieszkają z osobą zakażoną COVID-19. W tej sytuacji również zaszczepienie nie będzie zwalniać z obowiązku testowania. Do limitów nie są wliczane osoby zaszczepione. Od 1 grudnia 2021 r. w Polsce obowiązują częściowo zmienione wcześniejsze restrykcje, w tym: Zakaz lotów do siedmiu krajów: Botswana, Eswatini, Lesotho, Mozambik, Namibia, RPA, Zimbabwe,\\nWydłużenie kwarantanny do 14 dni dla osób, które podróżują do Polski z krajów spoza strefy Schengen. Możliwość zwolnienia ich z kwarantanny - od ósmego dnia po teście PCR,\\nLimit na zgromadzeniach i uroczystościach (wesela, komunie): Maksymalnie 100 osób,\\nLimit osób na wydarzeniach sportowych organizowanych poza obiektami sportowymi: 250 osób,\\nLimit osób między innymi w centrach handlowych i sklepach wielkopowierzchniowych, na siłowniach, w centrach fitness, muzeach: 1 osoba na 15 metrów kwadratowych. Na stronach rządowych można znaleźć wszystkie aktualne zasady i ograniczenia wprowadzone w związku z pandemią COVID-19. ', datetime.datetime(2022, 1, 17, 10, 51), 'Koronawirus w\\xa0Polsce. Mapa zakażeń', 'Mapa zakażeń koronawirusem w Polsce pokazuje, że najwięcej infekcji od początku epidemii potwierdzono na Mazowszu i Śląsku, a najmniej w województwach świętokrzyskim i lubuskim. W poniedziałek Ministerstwo Zdrowia poinformowało o 10 445\\xa0nowych zakażeniach SARS-CoV-2. Do tej pory w pełni zaszczepionych zostało ponad 21,4 miliona Polaków. Zobacz najnowsze dane Ministerstwa Zdrowia.', 'red.', 'tvn24.pl')\n",
      "webart.when_published: None\n",
      "webart.title_int: None\n",
      "webart.lead_text_int: None\n",
      "webart.author: None\n",
      "webart.source: None\n",
      "webart.title: Atakował maczetą na ulicy. Cztery osoby ranne\n",
      "webart.lead_text: 21-latek został zatrzymany w Toruniu.\n",
      "webart.link: https://tvn24.pl/polska/torun-mezczyzna-atakowal-maczeta-ludzi-na-ulicy-cztery-osoby-ranne-5561763\n",
      "webart.text: ('Pierwsze zgłoszenie dotyczące 21-latka policja otrzymała w poniedziałek przed godziną 5 rano. Jego rodzina zgłosiła policji, że wyszedł z domu pod działaniem narkotyków. Wcześniej miało dojść do awantury z matką. 21-latek oddalił się z mieszkania przy ulicy Drzewieckiego przed przybyciem patrolu. Później do funkcjonariuszy zaczęły napływać zgłoszenia o atakach - pierwsze policja otrzymała po godzinie 5 rano. - Mężczyzna atakował przechodniów ostrym narzędziem o długości około 50 cm, najprawdopodobniej maczetą. Pierwsze zgłoszenie było od kobiety, która szła wzdłuż Szosy Chełmińskiej. Ona zgłosiła uraz twarzy i wówczas zaczęliśmy szukać tego mężczyzny - poinformowała podinsp. Wioletta Dąbrowska z policji w Toruniu. OGLĄDAJ TVN24 W INTERNECIE W TVN24 GO >>> Napastnik ranił trzy osoby. Mężczyzna i kobieta doznali urazów twarzy, zaś jedna kobieta urazu dłoni. Później do szpitala zgłosiła się jeszcze czwarta osoba. - Policjanci przy rondzie Pokoju Toruńskiego, chwilę po tych zgłoszeniach, zatrzymali 21-letniego mężczyznę. To jest mieszkaniec Torunia. W tej chwili trwają czynności z jego udziałem - mówiła na antenie TVN24 Dąbrowska. I dodała: - Ten człowiek był pobudzony, był agresywny i musieliśmy użyć środków przymusu bezpośredniego. Jak przekazała Dąbrowska, mężczyzna atakował przypadkowych przechodniów \"zupełnie bez powodu\". - To irracjonalne zachowanie może świadczyć o wielu kwestiach, ale cały czas trwają czynności i trudno tutaj wyrokować, co stało się z tym człowiekiem - tłumaczyła policjantka. - Pogotowie przywiozło do nas trzy osoby poszkodowane w tym ataku. Później zgłosiła się do nas jeszcze czwarta osoba. Dwie osoby miały drobne urazy głowy. Są już wypisywane do domu. Jedna pozostaje na obserwacji z urazem twarzoczaszki po zaopatrzeniu rany. Czwarta ofiara - kobieta z urazem palca - będzie miała zabieg operacyjny. Walczymy o uratowanie palca - powiedział Janusz Mielcarek, rzecznik prasowy wojewódzkiego szpitala w Toruniu.\\n\\nJak dodał, żadna z osób nie jest w stanie zagrażającym życiu.\\n\\n- Wszystkie osoby zostały poinformowane o możliwości skorzystania z pomocy psychologicznej - wskazał Mielcarek. Obecnie trwają czynności z zatrzymanym 21-latkiem. Powołani zostali również biegli. - Może usłyszeć na ten moment zarzut uszczerbku na zdrowiu, czyli uszkodzenia ciała tych osób, ale kwestia będzie tego, czy te urazy będą przez biegłych określone jako poniżej dni siedmiu albo powyżej dni siedmiu - powiedziała policjantka. Funkcjonariusze apelują też do świadków zdarzenia o zgłaszanie się do komendy policji. - Z naszych informacji wynika, że mogło być więcej osób zaczepianych przez tego człowieka, dlatego prosimy wszystkie osoby, które były świadkami tych zdarzeń lub tez same zdołały uciec przed tym napastnikiem, aby zgłaszały się do Komendy Miejskiej Policji w Toruniu - podkreśliła Dąbrowska. ', datetime.datetime(2022, 1, 17, 8, 15), 'Atakował przechodniów maczetą, cztery osoby w\\xa0szpitalu. Policja zatrzymała 21-latka', 'Policja w Toruniu zatrzymała mężczyznę, który atakował ludzi maczetą. Cztery osoby trafiły do szpitala z urazami twarzy i dłoni. Jak informuje policja, zatrzymany to 21-letni mieszkaniec miasta, który bez powodu atakował przypadkowych przechodniów. Poszukiwani są świadkowie zdarzenia.', 'mart,MAK\\\\mtom,tam', 'tvn24.pl, PAP')\n",
      "webart.when_published: None\n",
      "webart.title_int: None\n",
      "webart.lead_text_int: None\n",
      "webart.author: None\n",
      "webart.source: None\n",
      "webart.title: Samolot musiał zawrócić do Gdańska. \"Z powodu warunków atmosferycznych\"\n",
      "webart.lead_text: Miał lecieć do Trondheim w Norwegii, ale musiał zawrócić do Polski.\n",
      "webart.link: https://tvn24.pl/pomorze/samolot-musial-zawrocic-do-gdanska-z-powodu-warunkow-atmosferycznych-5562033\n",
      "webart.text: ('- Samolot linii WizzAir wyleciał wczoraj z naszego lotniska do Trondheim planowo, około godziny 19 - powiedziała w poniedziałek Agnieszka Michajłow, rzeczniczka prasowa Portu Lotniczego w Gdańsku. - W trakcie lotu, z powodu trudnych warunków pogodowych, śnieżycy i silnego wiatru zamknięto norweskie lotnisko. Samolot nie miał gdzie wylądować i w związku z tym wrócił do naszego portu - przekazała Michajłow. Opóźniony lot ma się odbyć w poniedziałek o godz. 14:15. O sytuację zapytaliśmy również przedstawicieli linii lotniczych. Anna Robaczyńska z A PRiori Communications w wiadomości do redakcji Kontaktu 24 potwierdziła, że taka sytuacja miała miejsce. \"Pomimo, iż warunki pogodowe były poza naszą kontrolą, Wizz Air szczerze przeprasza pasażerów za wszelkie niedogodności, jednakże bezpieczeństwo pasażerów, załogi i samolotów jest dla nas priorytetem\" - podkreśliła Robaczyńska. Instytut Meteorologii i Gospodarki Wodnej (IMGW) od piątku ostrzega przed nagłymi porywami wiatru. W poniedziałek alerty obowiązują niemal w całym kraju. >>> Wichury przetaczają się przez Polskę >>> Eksperci z IMGW prognozują w całym Pomorskiem wystąpienie silnego i bardzo silnego wiatru o porywach do 100 kilometrów na godzinę. W pasie nadmorskim lokalnie porywy mogą osiągać do 110 kilometrów na godzinę. IMGW przewiduje, że wiatr będzie wiał z zachodu i północnego zachodu. IMGW podał też, że z uwagi na silny wiatr doszło do przekroczenia stanów alarmowych w Zatoce Gdańskiej już na 5 wodowskazach. Eksperci ostrzegają przed wahaniami poziomu wody na Wybrzeżu oraz sztormem. >>> Czytaj więcej o sytuacji na Bałtyku >>> IMGW wydał też ostrzeżenie pierwszego stopnia o oblodzeniu dróg w województwie pomorskim. \"Prognozuje się zamarzanie mokrej nawierzchni dróg i chodników po opadach deszczu ze śniegiem i mokrego śniegu powodujące ich oblodzenie\" - informuje IMGW Szczegółowych informacji na temat pogody szukaj na TVN Meteo >>>> ', datetime.datetime(2022, 1, 17, 10, 42), 'Samolot musiał zawrócić do\\xa0Gdańska. \"Z powodu warunków atmosferycznych\"', 'Samolot, który leciał z Gdańska do Trondheim w Norwegii musiał zawrócić do Polski. Powodem były fatalne warunki atmosferyczne. Nad docelowym lotniskiem panowała śnieżyca.', 'est,eŁKa/tam', 'TVN24 Pomorze, Kontakt24')\n",
      "webart.when_published: None\n",
      "webart.title_int: None\n",
      "webart.lead_text_int: None\n",
      "webart.author: None\n",
      "webart.source: None\n",
      "webart.title: Ponad 10 tysięcy nowych zakażeń, zmarły cztery osoby. Półtora tysiąca jest pod respiratorem\n",
      "webart.lead_text: Dane Ministerstwa Zdrowia.\n",
      "webart.link: https://tvn24.pl/polska/koronawirus-w-polsce-dzisiaj-nowe-przypadki-zakazenia-i-smierci-najnowsze-dane-ministerstwa-zdrowia-17-stycznia-5561632\n",
      "webart.text: ('Nowe dane epidemiczne przedstawił w poniedziałek rano wiceminister zdrowia Waldemar Kraska. Z komunikatu Ministerstwa Zdrowia o godzinie 10.30 wynika, że najwięcej nowych zakażeń potwierdzono w województwie mazowieckim - 2273. OGLĄDAJ NA ŻYWO W TVN24 GO Pozostałe przypadki dotyczą województw: śląskiego (1494), małopolskiego (1428), wielkopolskiego (699), pomorskiego (662), dolnośląskiego (658), podkarpackiego (613), łódzkiego (530), zachodniopomorskiego (358), lubelskiego (349), kujawsko-pomorskiego (293), warmińsko-mazurskiego (260), opolskiego (249), świętokrzyskiego (202), lubuskiego (171) i podlaskiego (121). 85 zakażeń to dane bez wskazania adresu, które mają zostać uzupełnione przez sanepid. Przed tygodniem, tuż po długim weekendzie związanym ze świętem Trzech Króli, Ministerstwo Zdrowia informowało o 7785 potwierdzonych infekcjach. Dzisiejsza liczba zakażeń jest wyższa o 2660. To wzrost o 34 procent. Średnia liczba potwierdzanych dziennie zakażeń, obliczana na podstawie danych z ostatnich siedmiu dni, wzrosła do 14 645 i jest najwyższa od Wigilii. Resort przekazał w poniedziałek, że zmarły cztery osoby chorujące na COVID-19, wszystkie miały choroby współistniejące. Średnia liczba raportowanych każdego dnia ofiar śmiertelnych, również obliczana na podstawie danych z ostatnich siedmiu dni, wynosi 364. Od początku pandemii w Polsce potwierdzono 4 323 482 infekcje. Zmarło 102 309 osób. Liczba aktywnych przypadków, czyli Polaków, którzy aktualnie przechodzą zakażenie, wynosi 421 122 i jest najwyższa od 23 grudnia 2021 r. Z poniedziałkowego raportu z danymi epidemicznymi wynika, że: - 30 556 łóżek jest przeznaczonych dla pacjentów z COVID-19 (-55 w stosunku do poprzedniego dnia), \\n- z tego 14 601 łóżek jest zajętych przez pacjentów z COVID-19 (+82),\\xa0\\n- 2740 respiratorów jest przeznaczonych dla pacjentów z COVID-19 (-7), \\n- z tego 1519 respiratorów jest obecnie wykorzystywanych (-39), \\n- 266 535 osób jest objętych kwarantanną (+3068), \\n- 3 800 051 osób wyzdrowiało (+9674). 13 z 17 członków Rady Medycznej przy premierze w piątek złożyło rezygnacje z doradzania rządowi w sprawie epidemii COVID-19. Napisali w oświadczeniu, że ich decyzja jest spowodowana \"brakiem wpływu rekomendacji na realne działania\" oraz \"narastającą tolerancją\" rządu dla \"zachowań środowisk negujących zagrożenie COVID-19 i znaczenie szczepień w walce z pandemią\". ', datetime.datetime(2022, 1, 17, 10, 38), 'Koronawirus w\\xa0Polsce. Nowe przypadki zakażenia i\\xa0śmierci', 'Ministerstwo Zdrowia poinformowało w poniedziałek o 10 445 nowych, potwierdzonych przypadkach zakażenia koronawirusem SARS-CoV-2. Resort przekazał też, że zmarły cztery osoby chorujące na COVID-19. Od początku pandemii w Polsce potwierdzono 4 323 482 infekcje. Zmarło 102 309 osób.', 'pp', 'tvn24.pl')\n",
      "webart.when_published: None\n",
      "webart.title_int: None\n",
      "webart.lead_text_int: None\n",
      "webart.author: None\n",
      "webart.source: None\n",
      "webart.title: Załamanie pogody i zimowa burza w Warszawie\n",
      "webart.lead_text: W ciągu kilkunastu minut w stolicy zrobiło się biało.\n",
      "webart.link: https://tvn24.pl/tvnwarszawa/najnowsze/warszawa-zamiec-sniezna-grzmoty-i-silny-wiatr-gdzie-jest-burza-w-poniedzialek-5561993\n",
      "webart.text: ('- Zaczęło padać coś pomiędzy krupą śnieżną a gradem. Przywędrowało z Legionowa w ciągu 10 czy 12 minut. To jest nieprawdopodobne. Bardzo mocno grzmi nad Warszawą, bo mamy linię szkwałową, czyli coś, co zapowiada nadejście frontu atmosferycznego - mówiła na antenie TVN24 Maja Popielarska. Opisywała też, że z powodu burzowych chmur w stolicy zrobiło się nagle ciemno. Jak dodała, Mazowsze znajdowało się w linii najgwałtowniejszych porywów wiatru. Przesuwała się ona w kierunku południa. Styczniowe burze nie są częstym zjawiskiem. - Styczeń powinien być według średnich stabilnym miesiącem ze śniegiem i mrozem. Ostatnie lata pokazują jednak, że nic stałego w pogodzie nie ma. Trzeba liczyć się z tym, że takie zjawiska będą się powtarzać -\\xa0zaznaczyła Popielarska. Na Kontakt24 otrzymaliśmy zdjęcia i nagrania wichury, która przeszła nad Warszawą, ale także w okolicach - m.in. w Kobyłce. Efekty można było zobaczyć m.in. na ulicy Puławskiej, gdzie wiatr strącił naczepę ciężarówki. Mocno wiało i padało również w Ursusie czy na Bemowie. Na Chomiczówce wiatr zerwał z kolei kawałek blachy z dachu supermarketu. Warszawę błyskawicznie pokrył śnieg, ale jak podała na antenie TVN24 Maja Popielarska, dodatnia temperatura może spowodować, że szybko zniknie. Po godzinie 11 w stolicy zaczęło się przejaśniać. Instytut Meteorologii i Gospodarki Wodnej wydał dla Mazowsza alert meteorologiczny drugiego stopnia. Będzie ważny do godziny 23 w poniedziałek. Synoptycy wydali alarmy przed silnymi porywami wiatru, zawiejami lub zamieciami śnieżnymi, intensywnymi opadami śniegu i oblodzeniem. Ma wiać ze średnią prędkością od 35 do 50-70 kilometrów na godzinę. W porywach do 100 km/h, a w pasie nadmorskim lokalnie do 110 km/h. Wiatr powieje z kierunku zachodniego i północno-zachodniego. ', datetime.datetime(2022, 1, 17, 10, 25), 'Załamanie pogody i\\xa0zimowa burza w\\xa0Warszawie', 'W ciągu kilkunastu minut około godziny 10 w stolicy zrobiło się biało. W poniedziałek rano przez miasto przeszła burza śnieżna. Towarzyszyły jej silne porywy wiatru i wyładowania atmosferyczne.', 'kk,katke/gp', 'tvnwarszawa.pl')\n",
      "webart.when_published: None\n",
      "webart.title_int: None\n",
      "webart.lead_text_int: None\n",
      "webart.author: None\n",
      "webart.source: None\n",
      "webart.title: Wirusolog o kolejnej fali zakażeń w Polsce. \"Ze wstrzymanym oddechem na to patrzymy\"\n",
      "webart.lead_text: Profesor Krystyna Bieńkowska-Szewczyk, wirusolog, gościem TVN24.\n",
      "webart.link: https://tvn24.pl/polska/wirusolog-profesor-krystyna-bienkowska-szewczyk-o-kolejnej-fali-zakazen-i-radzie-medycznej-5561806\n",
      "webart.text: ('13 z 17 członków Rady Medycznej przy premierze w piątek złożyło rezygnacje z doradzania rządowi w sprawie epidemii COVID-19. Napisali w oświadczeniu, że ich decyzja jest spowodowana \"brakiem wpływu rekomendacji na realne działania\" oraz \"narastającą tolerancją\" rządu dla \"zachowań środowisk negujących zagrożenie COVID-19 i znaczenie szczepień w walce z pandemią\". OGLĄDAJ TVN24 W INTERNECIE W TVN24 GO Wirusolog prof. Krystyna Bieńkowska-Szewczyk komentowała tę sytuację w TVN24 w poniedziałek. Przyznała, że była zaskoczona tym, że \"tak długo dzielnie trwali\" i dodała, że miała takie same opinie jak Rada. - Rada Medyczna jeżeli je wygłasza i próbuje przekazać je rządzącym i niestety nie ma odzewu, to myślę, że to było dla nich bardzo frustrujące - oceniła. - Z całą pewnością nikomu nie zależy w tej chwili na wprowadzeniu pełnego lockdownu - powiedziała. Oceniła, że jest jeszcze dużo dobrych lekarzy, ale nie sądzi, \"żeby znaleźli się ludzie, którzy chcieliby zastąpić tę Radę Medyczną i wygłaszać inne niż członkowie tej rady poglądy\". - Jestem zupełnie przekonana, że jeżeli będzie potrzebna pomoc ze strony tych osób, które do tej pory w tej radzie zasiadały, to tej pomocy nie odmówią - mówiła. Komentowała też rozprzestrzenianie się wariantu omikron. - Ten wirus był oczywiście dla nas wszystkich wielką niespodzianką. On jest już dość dokładnie badany - mówiła. - Z tych pierwszych doświadczeń w laboratoriach wynikało, że ten wirus jest inny, w sensie jakie powoduje choroby, w tym sensie, że bardziej zatrzymuje się w górnych drogach oddechowych, ale to były głównie doświadczenia robione na chomikach. Te wyniki potwierdzają się u ludzi, ale dopiero stopniowo - dodała. Mówiła też, że to, że wirus namnaża się szybciej w górnych drogach oddechowych niż w płucach jest uważane za dobrą wiadomość, dlatego że \"przebieg choroby może być nieco lżejszy\". Zaznaczyła, że są to dane z badań laboratoryjnych. - Z danych, które spływają z raportów klinicznych, widać, że w wielu krajach, pomimo ogromnej skali zakażeń, mówię w tej chwili głównie o krajach Europy Zachodniej, to jednak ta fala hospitalizacji nie towarzyszy tej fali zakażeń i to jest kierunek, na który możemy patrzeć z nadzieją. Niestety jest to związane z tym, że w tych krajach jest znacznie więcej osób zaszczepionych niż u nas - wyjaśniła. - Jeżeli ta fala się przetoczy tak, jak pokazują to wszystkie modele matematyczne, to właśnie to się zacznie gdzieś pod koniec stycznia. Troszeczkę ze wstrzymanym oddechem na to patrzymy, bo ta fala prawdopodobnie, jeżeli się zacznie tak, jak to przewidują te złe scenariusze, to to powinno być już niedługo. W tej chwili będziemy widzieć, za mniej więcej tydzień prawdopodobnie, efekty zakażeń, które nastąpiły w okresie świąteczno-noworocznym. To zawsze jest wzmocnienie kontaktów międzyludzkich i w związku z tym także ułatwienie przenoszenia się wirusa - mówiła profesor. Dodała, że do tego mamy okres wzmożonych infekcji, czyli koniec zimy. Zaapelowała, aby od strony zarządzeń w dalszym ciągu ograniczać dostęp do miejsc, w których ludzie się gromadzą bez szczepień oraz przestrzegać noszenia maseczek, zwłaszcza w pomieszczeniach zamkniętych. ', datetime.datetime(2022, 1, 17, 10, 20), 'Wirusolog profesor Krystyna Bieńkowska-Szewczyk o\\xa0kolejnej fali zakażeń: zacznie się gdzieś pod\\xa0koniec stycznia', 'W piątek złożyło rezygnację 13 z 17 członków Rady Medycznej przy premierze. Profesor Krystyna Bieńkowska-Szewczyk, wirusolog, powiedziała, że jeśli nie było odzewu na opinie Rady, \"to było dla nich bardzo frustrujące\". Mówiła również, że pod koniec stycznia możemy spodziewać się kolejnej fali zakażeń spowodowanej wariantem omikron.', 'mart/kab', 'TVN24')\n",
      "webart.when_published: None\n",
      "webart.title_int: None\n",
      "webart.lead_text_int: None\n",
      "webart.author: None\n",
      "webart.source: None\n",
      "webart.title: Sądzili, że to policjant. Stracili ponad 160 tysięcy złotych\n",
      "webart.lead_text: 25-letniego mieszkańca województwa podlaskiego zatrzymano w Zielonej Górze.\n",
      "webart.link: https://tvn24.pl/polska/lublin-zatrzymali-falszywego-policjanta-ktory-odbieral-pieniadze-od-oszukanych-osob-5561887\n",
      "webart.text: ('- Scenariusz był we wszystkich przypadkach identyczny. Na telefon starszych osób dzwonił mężczyzna podający się za funkcjonariusza i przekonywał, że ich pieniądze są zagrożone. Pod tą legendą zmuszał ich do wypłaty pieniędzy z placówek bankowych i przekazania bezpośrednio innemu rzekomemu mundurowemu. W ten sposób oszukani zostali mieszkańcy województw: lubelskiego, podkarpackiego oraz lubuskiego - mówi podinspektor Radosław Dawidek z zespołu prasowego lubelskiej policji. Kryminalni z Komendy Wojewódzkiej Policji w Lublinie oraz mundurowi z jednostki w Lubartowie wpadli na trop 25-letniego mieszkańca województwa podlaskiego, który - zgodnie z ich ustaleniami - odbierał od oszukanych osób pieniądze. Podając się przy tym za policjanta. Z ustaleń śledczych wynika, że w grudniu i styczniu 25-latek odebrał od czterech pokrzywdzonych łącznie ponad 160 tysięcy złotych. Zabrał też pieniądze w obcej walucie. Piątą ofiarą miał być mieszkaniec powiatu lubartowskiego, jednak ostatecznie nie udało się odebrać od niego 30 tysięcy złotych. - 25-latek został zatrzymany na terenie Zielonej Góry w wynajmowanym pokoju. Kryminalni znaleźli przy nim znaczną ilość gotówki, w tym w obcej walucie, która najprawdopodobniej pochodziła z dokonanych przestępstw. Ponadto w chwili zatrzymania mężczyzna posiadał przy sobie substancję psychoaktywną w postacie mefedronu - relacjonuje Dawidek. Zatrzymany został przewieziony na teren województwa lubelskiego i osadzony w policyjnym areszcie. Mężczyzna usłyszał łącznie sześć zarzutów, które dotyczyły usiłowania oszustwa, popełnienia czterech oszustw oraz posiadania substancji psychoaktywnych. Grozi mu kara do ośmiu lat pozbawienia wolności. Został tymczasowo aresztowany. ', datetime.datetime(2022, 1, 17, 10, 1), 'Sądzili, że\\xa0to\\xa0policjant. Stracili ponad 160 tysięcy złotych', 'Kryminalni z Komendy Wojewódzkiej Policji w Lublinie oraz z Lubartowa zatrzymali\\xa025-letniego mieszkańca województwa podlaskiego podejrzanego o udział w oszustwach metodą na policjanta. Znaleziono przy nim znaczną ilość gotówki, która najprawdopodobniej pochodziła z dokonanych przestępstw. Grozi mu do ośmiu lat pozbawienia wolności.', 'tm/tam', 'tvn24.pl')\n",
      "webart.when_published: None\n",
      "webart.title_int: None\n",
      "webart.lead_text_int: None\n",
      "webart.author: None\n",
      "webart.source: None\n"
     ]
    }
   ],
   "source": [
    "result_list = list()\n",
    "for article in page_content:\n",
    "    # print(article)\n",
    "    title = article.find('h2',class_='heading article-title').get_text().strip()\n",
    "    lead_text = article.find('p',class_='article-lead__text').get_text().strip()\n",
    "    link = article.find_all('a', href=True)[0]['href']\n",
    "    # print(f'link: {link}')\n",
    "    webart = WebArticle(title, lead_text, link, *scrap_article_text_tvn24(link))\n",
    "    # print(f'webarticle scrapped: {webart}')\n",
    "    result_list.append(webart)\n",
    "    print(f'webart.title: {webart.title}')\n",
    "    print(f'webart.lead_text: {webart.lead_text}')\n",
    "    print(f'webart.link: {webart.link}')\n",
    "    print(f'webart.text: {webart.text}')\n",
    "    print(f'webart.when_published: {webart.when_published}')\n",
    "    print(f'webart.title_int: {webart.title_int}')\n",
    "    print(f'webart.lead_text_int: {webart.lead_text_int}')\n",
    "    print(f'webart.author: {webart.author}')\n",
    "    print(f'webart.source: {webart.source}')"
   ],
   "metadata": {
    "collapsed": false,
    "pycharm": {
     "name": "#%%\n"
    }
   }
  },
  {
   "cell_type": "code",
   "execution_count": 20,
   "outputs": [
    {
     "data": {
      "text/plain": "('- Scenariusz był we wszystkich przypadkach identyczny. Na telefon starszych osób dzwonił mężczyzna podający się za funkcjonariusza i przekonywał, że ich pieniądze są zagrożone. Pod tą legendą zmuszał ich do wypłaty pieniędzy z placówek bankowych i przekazania bezpośrednio innemu rzekomemu mundurowemu. W ten sposób oszukani zostali mieszkańcy województw: lubelskiego, podkarpackiego oraz lubuskiego - mówi podinspektor Radosław Dawidek z zespołu prasowego lubelskiej policji. Kryminalni z Komendy Wojewódzkiej Policji w Lublinie oraz mundurowi z jednostki w Lubartowie wpadli na trop 25-letniego mieszkańca województwa podlaskiego, który - zgodnie z ich ustaleniami - odbierał od oszukanych osób pieniądze. Podając się przy tym za policjanta. Z ustaleń śledczych wynika, że w grudniu i styczniu 25-latek odebrał od czterech pokrzywdzonych łącznie ponad 160 tysięcy złotych. Zabrał też pieniądze w obcej walucie. Piątą ofiarą miał być mieszkaniec powiatu lubartowskiego, jednak ostatecznie nie udało się odebrać od niego 30 tysięcy złotych. - 25-latek został zatrzymany na terenie Zielonej Góry w wynajmowanym pokoju. Kryminalni znaleźli przy nim znaczną ilość gotówki, w tym w obcej walucie, która najprawdopodobniej pochodziła z dokonanych przestępstw. Ponadto w chwili zatrzymania mężczyzna posiadał przy sobie substancję psychoaktywną w postacie mefedronu - relacjonuje Dawidek. Zatrzymany został przewieziony na teren województwa lubelskiego i osadzony w policyjnym areszcie. Mężczyzna usłyszał łącznie sześć zarzutów, które dotyczyły usiłowania oszustwa, popełnienia czterech oszustw oraz posiadania substancji psychoaktywnych. Grozi mu kara do ośmiu lat pozbawienia wolności. Został tymczasowo aresztowany. ',\n datetime.datetime(2022, 1, 17, 10, 1),\n 'Sądzili, że\\xa0to\\xa0policjant. Stracili ponad 160 tysięcy złotych',\n 'Kryminalni z Komendy Wojewódzkiej Policji w Lublinie oraz z Lubartowa zatrzymali\\xa025-letniego mieszkańca województwa podlaskiego podejrzanego o udział w oszustwach metodą na policjanta. Znaleziono przy nim znaczną ilość gotówki, która najprawdopodobniej pochodziła z dokonanych przestępstw. Grozi mu do ośmiu lat pozbawienia wolności.',\n 'tm/tam',\n 'tvn24.pl')"
     },
     "execution_count": 20,
     "metadata": {},
     "output_type": "execute_result"
    }
   ],
   "source": [
    "link1 = 'https://tvn24.pl/polska/lublin-zatrzymali-falszywego-policjanta-ktory-odbieral-pieniadze-od-oszukanych-osob-5561887'\n",
    "scrap_article_text_tvn24(link1)"
   ],
   "metadata": {
    "collapsed": false,
    "pycharm": {
     "name": "#%%\n"
    }
   }
  },
  {
   "cell_type": "code",
   "execution_count": null,
   "outputs": [],
   "source": [],
   "metadata": {
    "collapsed": false,
    "pycharm": {
     "name": "#%%\n"
    }
   }
  }
 ],
 "metadata": {
  "kernelspec": {
   "display_name": "Python 3",
   "language": "python",
   "name": "python3"
  },
  "language_info": {
   "codemirror_mode": {
    "name": "ipython",
    "version": 2
   },
   "file_extension": ".py",
   "mimetype": "text/x-python",
   "name": "python",
   "nbconvert_exporter": "python",
   "pygments_lexer": "ipython2",
   "version": "2.7.6"
  }
 },
 "nbformat": 4,
 "nbformat_minor": 0
}