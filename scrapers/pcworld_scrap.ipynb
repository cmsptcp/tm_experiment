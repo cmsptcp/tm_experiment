{
 "cells": [
  {
   "cell_type": "markdown",
   "metadata": {
    "collapsed": true,
    "pycharm": {
     "name": "#%% md\n"
    }
   },
   "source": [
    "Pobieranie wiadomości z pcworld.pl Zapis do pliku ./data/pcworld_{timestamp}.txt"
   ]
  },
  {
   "cell_type": "code",
   "execution_count": 1,
   "outputs": [],
   "source": [
    "# ! pip install bs4\n",
    "# ! pip install requests\n",
    "# ! pip install tqdm\n",
    "# ! pip install pandas\n",
    "# ! pip install pyarrow\n",
    "# ! pip install qgrid\n",
    "# ! pip install blaze\n",
    "# ! pip install ipynbname"
   ],
   "metadata": {
    "collapsed": false,
    "pycharm": {
     "name": "#%%\n"
    }
   }
  },
  {
   "cell_type": "code",
   "execution_count": 2,
   "outputs": [],
   "source": [
    "import requests\n",
    "from bs4 import BeautifulSoup\n",
    "from tqdm import tqdm, trange\n",
    "from datetime import datetime, timezone\n",
    "from common.webarticle import WebArticle\n",
    "from common.pl_helper import PolishLocaleHelper\n",
    "import pandas as pd\n",
    "import logging\n",
    "import ipynbname"
   ],
   "metadata": {
    "collapsed": false,
    "pycharm": {
     "name": "#%%\n"
    }
   }
  },
  {
   "cell_type": "code",
   "execution_count": 3,
   "outputs": [],
   "source": [
    "# settings:\n",
    "portal_name = 'pcworld'\n",
    "website = 'https://www.pcworld.pl/news/'\n",
    "website_short = 'https://www.pcworld.pl'\n",
    "pagination_attributes = 'archiwum-'\n",
    "no_articles_to_scrap = 300\n",
    "data_dir = '../data'\n",
    "logging.basicConfig(\n",
    "    filename=f'../logs/{ipynbname.name()}.ipynb.log',\n",
    "    encoding='utf-8',\n",
    "    level=logging.DEBUG\n",
    ")\n",
    "ignored_paragraph_starts = []"
   ],
   "metadata": {
    "collapsed": false,
    "pycharm": {
     "name": "#%%\n"
    }
   }
  },
  {
   "cell_type": "markdown",
   "source": [
    "Sprawdźmy plik robots.txt, w czasie pisania tego kodu pozwalał na pobieranie plików z portalu pcworld z kategorii news z drobnymi wyjątkami (zakaz dotyczył m.in. pdf-ów i ajaxa)"
   ],
   "metadata": {
    "collapsed": false
   }
  },
  {
   "cell_type": "code",
   "execution_count": 4,
   "outputs": [
    {
     "name": "stdout",
     "output_type": "stream",
     "text": [
      "User-Agent: *\r\n",
      "Allow: / \r\n",
      "Disallow: /sonda/sonda_news.asp \r\n",
      "Disallow: /sonda/ajax/ \r\n",
      "Disallow: /stats/\r\n",
      "Disallow: /block/\r\n",
      "Disallow: /ajax/\r\n",
      "Disallow: /auth/\r\n",
      "Disallow: /auth/block/\r\n",
      "Disallow: /comment/block/\r\n",
      "Disallow: /download/block/\r\n",
      "Disallow: /duel/block/\r\n",
      "Disallow: /news/block/\r\n",
      "Disallow: /news/ajax/\r\n",
      "Disallow: /news/pdf/\r\n",
      "Disallow: /poll/block/\r\n",
      "Disallow: /quiz/block/\r\n",
      "Disallow: /gallery/block/\r\n",
      "Disallow: /default/block/\r\n",
      "\r\n",
      "\r\n",
      "Sitemap: https://www.pcworld.pl/sitemap/sitemap_news.xml\r\n",
      "Sitemap: https://www.pcworld.pl/sitemap/sitemap_galeria.xml\r\n",
      "Sitemap: https://www.pcworld.pl/sitemap/sitemap_testy.xml\r\n",
      "Sitemap: https://www.pcworld.pl/sitemap/sitemap_rankingi.xml\r\n",
      "Sitemap: https://www.pcworld.pl/sitemap/sitemap_ftp.xml\r\n",
      "Sitemap: https://www.pcworld.pl/sitemap/sitemap_testy_produkty.xml\r\n",
      "Sitemap: https://www.pcworld.pl/sitemap/sitemap.xml\r\n",
      "Sitemap: https://www.pcworld.pl/sitemap/googlenews.xml\r\n",
      "\n"
     ]
    }
   ],
   "source": [
    "resp = requests.get('https://www.pcworld.pl/robots.txt')\n",
    "print(resp.text)"
   ],
   "metadata": {
    "collapsed": false,
    "pycharm": {
     "name": "#%%\n"
    }
   }
  },
  {
   "cell_type": "code",
   "execution_count": 5,
   "outputs": [],
   "source": [
    "def check_if_ignored_paragraph(text, ignored_paragraphs, operation='startswith'):\n",
    "\n",
    "    for ignored_paragraph in ignored_paragraphs:\n",
    "        if operation == 'startswith':\n",
    "            if text.startswith(ignored_paragraph):\n",
    "                return True\n",
    "        else:\n",
    "            logging.debug(f'check_if_ignored: operation {operation} not implemented')\n",
    "    return False\n"
   ],
   "metadata": {
    "collapsed": false,
    "pycharm": {
     "name": "#%%\n"
    }
   }
  },
  {
   "cell_type": "code",
   "execution_count": 6,
   "outputs": [],
   "source": [
    "def scrap_article_text_pcworld(link):\n",
    "    logging.info('scrap_article_text_pcworld:')\n",
    "    logging.info(f'article link to scrap: {link}')\n",
    "\n",
    "    page = requests.get(link)\n",
    "    if page.status_code != 200:\n",
    "        logging.debug(f'received status code: {page.status_code}')\n",
    "        return '', ''\n",
    "\n",
    "    soup = BeautifulSoup(page.content, 'html.parser')\n",
    "    # paragraphs = soup.find('div', class_='storybody').find_all('p')\n",
    "\n",
    "    text = soup.find('div', class_='storybody').get_text(separator=' ', strip=True)\n",
    "    lead_text_int = soup.find('span', itemprop='articleBody description text').find('p').get_text(strip=True)\n",
    "\n",
    "    time_string = soup.find('div', id='container-article-meta').find('li', itemprop='datePublished').get_text(strip=True)\n",
    "    # 19.01.2022, godz. 14:53\n",
    "    when_published = datetime.strptime(time_string, \"%d.%m.%Y, godz. %H:%M\")\n",
    "\n",
    "    title_int = soup.find('h1', itemprop='headline name').get_text(strip=True)\n",
    "    author_candidate = soup.find('div', id='container-article-meta').find('li', class_='author-name')\n",
    "    if author_candidate is None:\n",
    "        author_candidate = soup.find('div', id='container-article-meta').find('a', class_='newsautor').get_text(strip=True)\n",
    "    else:\n",
    "        author_candidate = author_candidate.get_text(strip=True)\n",
    "    author = author_candidate\n",
    "    source = None\n",
    "\n",
    "    return text, when_published, title_int, lead_text_int, author, source"
   ],
   "metadata": {
    "collapsed": false,
    "pycharm": {
     "name": "#%%\n"
    }
   }
  },
  {
   "cell_type": "code",
   "execution_count": 7,
   "outputs": [],
   "source": [
    "def scrap_articles_pcworld(website):\n",
    "    logging.info('scrap_articles_pcworld:')\n",
    "    logging.info(f'page with articles to scrap: {website}')\n",
    "\n",
    "    result = list()\n",
    "    page = requests.get(website)\n",
    "    if page.status_code != 200:\n",
    "        logging.debug(f'received status code: {page.status_code}')\n",
    "        return result\n",
    "\n",
    "    soup = BeautifulSoup(page.content, 'html.parser')\n",
    "    page_content = soup.select('div[class*=\"row row-list-item separator news-\"]')\n",
    "\n",
    "    print(f'articles to scrap: {len(page_content)}')\n",
    "\n",
    "    for article in page_content:\n",
    "\n",
    "        logging.info(f\"article scrapping started: {article}\")\n",
    "        title = article.find('span', class_='title').get_text().strip()\n",
    "        lead_text = article.find('span', class_='description d-none d-md-inline').get_text().strip()\n",
    "        link = website_short + article.find('a', href=True)['href']\n",
    "        webart = WebArticle(title, lead_text, link, *scrap_article_text_pcworld(link),portal_name)\n",
    "        logging.info(f'webarticle scrapped: {webart}')\n",
    "        result.append(webart)\n",
    "\n",
    "    return result"
   ],
   "metadata": {
    "collapsed": false,
    "pycharm": {
     "name": "#%%\n"
    }
   }
  },
  {
   "cell_type": "code",
   "execution_count": 8,
   "outputs": [
    {
     "name": "stderr",
     "output_type": "stream",
     "text": [
      "  0%|          | 0/300 [00:00<?, ?it/s]"
     ]
    },
    {
     "name": "stdout",
     "output_type": "stream",
     "text": [
      "articles to scrap: 18\n"
     ]
    },
    {
     "name": "stderr",
     "output_type": "stream",
     "text": [
      "  6%|▌         | 18/300 [00:05<01:22,  3.40it/s]"
     ]
    },
    {
     "name": "stdout",
     "output_type": "stream",
     "text": [
      "articles to scrap: 20\n"
     ]
    },
    {
     "name": "stderr",
     "output_type": "stream",
     "text": [
      " 13%|█▎        | 38/300 [00:09<01:06,  3.96it/s]"
     ]
    },
    {
     "name": "stdout",
     "output_type": "stream",
     "text": [
      "articles to scrap: 20\n"
     ]
    },
    {
     "name": "stderr",
     "output_type": "stream",
     "text": [
      " 19%|█▉        | 58/300 [00:14<00:57,  4.18it/s]"
     ]
    },
    {
     "name": "stdout",
     "output_type": "stream",
     "text": [
      "articles to scrap: 20\n"
     ]
    },
    {
     "name": "stderr",
     "output_type": "stream",
     "text": [
      " 26%|██▌       | 78/300 [00:20<00:57,  3.86it/s]"
     ]
    },
    {
     "name": "stdout",
     "output_type": "stream",
     "text": [
      "articles to scrap: 20\n"
     ]
    },
    {
     "name": "stderr",
     "output_type": "stream",
     "text": [
      " 33%|███▎      | 98/300 [00:24<00:48,  4.17it/s]"
     ]
    },
    {
     "name": "stdout",
     "output_type": "stream",
     "text": [
      "articles to scrap: 20\n"
     ]
    },
    {
     "name": "stderr",
     "output_type": "stream",
     "text": [
      " 39%|███▉      | 118/300 [00:28<00:41,  4.39it/s]"
     ]
    },
    {
     "name": "stdout",
     "output_type": "stream",
     "text": [
      "articles to scrap: 20\n"
     ]
    },
    {
     "name": "stderr",
     "output_type": "stream",
     "text": [
      " 46%|████▌     | 138/300 [00:32<00:36,  4.39it/s]"
     ]
    },
    {
     "name": "stdout",
     "output_type": "stream",
     "text": [
      "articles to scrap: 20\n"
     ]
    },
    {
     "name": "stderr",
     "output_type": "stream",
     "text": [
      " 53%|█████▎    | 158/300 [00:37<00:33,  4.24it/s]"
     ]
    },
    {
     "name": "stdout",
     "output_type": "stream",
     "text": [
      "articles to scrap: 20\n"
     ]
    },
    {
     "name": "stderr",
     "output_type": "stream",
     "text": [
      " 59%|█████▉    | 178/300 [00:41<00:27,  4.48it/s]"
     ]
    },
    {
     "name": "stdout",
     "output_type": "stream",
     "text": [
      "articles to scrap: 20\n"
     ]
    },
    {
     "name": "stderr",
     "output_type": "stream",
     "text": [
      " 66%|██████▌   | 198/300 [00:44<00:20,  5.00it/s]"
     ]
    },
    {
     "name": "stdout",
     "output_type": "stream",
     "text": [
      "articles to scrap: 20\n"
     ]
    },
    {
     "name": "stderr",
     "output_type": "stream",
     "text": [
      " 73%|███████▎  | 218/300 [00:48<00:15,  5.30it/s]"
     ]
    },
    {
     "name": "stdout",
     "output_type": "stream",
     "text": [
      "articles to scrap: 20\n"
     ]
    },
    {
     "name": "stderr",
     "output_type": "stream",
     "text": [
      " 79%|███████▉  | 238/300 [00:53<00:13,  4.73it/s]"
     ]
    },
    {
     "name": "stdout",
     "output_type": "stream",
     "text": [
      "articles to scrap: 20\n"
     ]
    },
    {
     "name": "stderr",
     "output_type": "stream",
     "text": [
      " 86%|████████▌ | 258/300 [00:56<00:08,  5.15it/s]"
     ]
    },
    {
     "name": "stdout",
     "output_type": "stream",
     "text": [
      "articles to scrap: 20\n"
     ]
    },
    {
     "name": "stderr",
     "output_type": "stream",
     "text": [
      " 93%|█████████▎| 278/300 [00:59<00:04,  5.44it/s]"
     ]
    },
    {
     "name": "stdout",
     "output_type": "stream",
     "text": [
      "articles to scrap: 20\n"
     ]
    },
    {
     "name": "stderr",
     "output_type": "stream",
     "text": [
      " 99%|█████████▉| 298/300 [01:02<00:00,  5.76it/s]"
     ]
    },
    {
     "name": "stdout",
     "output_type": "stream",
     "text": [
      "articles to scrap: 20\n"
     ]
    },
    {
     "name": "stderr",
     "output_type": "stream",
     "text": [
      "100%|██████████| 300/300 [01:07<00:00,  4.48it/s]\n"
     ]
    }
   ],
   "source": [
    "no_scrapped_articles = 0\n",
    "page_no=1\n",
    "scrapped_articles = list()\n",
    "\n",
    "logging.info(f'no_articles_to_scrap: {no_articles_to_scrap}')\n",
    "\n",
    "pbar = tqdm(total=no_articles_to_scrap)\n",
    "while no_scrapped_articles < no_articles_to_scrap:\n",
    "    logging.info('next page: '+website+pagination_attributes+str(page_no)+'.html')\n",
    "    new_articles = scrap_articles_pcworld(website+pagination_attributes+str(page_no)+'.html')\n",
    "    page_size = len(new_articles)\n",
    "    logging.info(f'new_articles: {page_size}')\n",
    "    if no_scrapped_articles + page_size > no_articles_to_scrap:\n",
    "        page_size = no_articles_to_scrap - no_scrapped_articles\n",
    "    scrapped_articles.extend(new_articles[:page_size])\n",
    "    logging.info(f'scrapped new articles: {page_size}')\n",
    "    no_scrapped_articles += page_size\n",
    "    pbar.update(page_size)\n",
    "    logging.info(f'no_scrapped_articles (total): {no_scrapped_articles}')\n",
    "    page_no += 1\n",
    "    if len(scrapped_articles) <= 0:\n",
    "        logging.debug(f'0 articles scrapped!')\n",
    "        break\n",
    "pbar.close()"
   ],
   "metadata": {
    "collapsed": false,
    "pycharm": {
     "name": "#%%\n"
    }
   }
  },
  {
   "cell_type": "code",
   "execution_count": 9,
   "outputs": [
    {
     "name": "stderr",
     "output_type": "stream",
     "text": [
      "100%|██████████| 300/300 [00:00<00:00, 11470.40it/s]"
     ]
    },
    {
     "name": "stdout",
     "output_type": "stream",
     "text": [
      "0: 8162\n",
      "1: 1334\n",
      "2: 4766\n",
      "3: 33208\n",
      "4: 4326\n",
      "5: 16997\n",
      "6: 2320\n",
      "7: 1773\n",
      "8: 3367\n",
      "9: 1848\n",
      "10: 14483\n",
      "11: 86108\n",
      "12: 1627\n",
      "13: 6519\n",
      "14: 6515\n",
      "15: 27433\n",
      "16: 2911\n",
      "17: 3281\n",
      "18: 14320\n",
      "19: 2029\n",
      "20: 1891\n",
      "21: 32133\n",
      "22: 8484\n",
      "23: 2399\n",
      "24: 7133\n",
      "25: 1255\n",
      "26: 12416\n",
      "27: 19002\n",
      "28: 27961\n",
      "29: 28458\n",
      "30: 22981\n",
      "31: 3023\n",
      "32: 13264\n",
      "33: 11119\n",
      "34: 1586\n",
      "35: 10784\n",
      "36: 4510\n",
      "37: 183039\n",
      "38: 2276\n",
      "39: 21942\n",
      "40: 1669\n",
      "41: 4820\n",
      "42: 2969\n",
      "43: 6508\n",
      "44: 2159\n",
      "45: 8893\n",
      "46: 3185\n",
      "47: 2476\n",
      "48: 5250\n",
      "49: 31991\n",
      "50: 2790\n",
      "51: 3557\n",
      "52: 1895\n",
      "53: 6083\n",
      "54: 140396\n",
      "55: 4881\n",
      "56: 55197\n",
      "57: 1445\n",
      "58: 3394\n",
      "59: 10928\n",
      "60: 2425\n",
      "61: 121625\n",
      "62: 82655\n",
      "63: 1721\n",
      "64: 3937\n",
      "65: 141030\n",
      "66: 12971\n",
      "67: 5277\n",
      "68: 2078\n",
      "69: 38449\n",
      "70: 2385\n",
      "71: 26154\n",
      "72: 2509\n",
      "73: 34268\n",
      "74: 3228\n",
      "75: 2002\n",
      "76: 2904\n",
      "77: 2334\n",
      "78: 110696\n",
      "79: 9450\n",
      "80: 1984\n",
      "81: 12828\n",
      "82: 2133\n",
      "83: 1918\n",
      "84: 3907\n",
      "85: 6765\n",
      "86: 4158\n",
      "87: 1910\n",
      "88: 33313\n",
      "89: 2326\n",
      "90: 3249\n",
      "91: 5486\n",
      "92: 3793\n",
      "93: 2393\n",
      "94: 41502\n",
      "95: 3707\n",
      "96: 2093\n",
      "97: 3955\n",
      "98: 2500\n",
      "99: 1590\n",
      "100: 6987\n",
      "101: 4287\n",
      "102: 3735\n",
      "103: 3319\n",
      "104: 5447\n",
      "105: 3162\n",
      "106: 2803\n",
      "107: 2172\n",
      "108: 3710\n",
      "109: 3155\n",
      "110: 4397\n",
      "111: 3429\n",
      "112: 2718\n",
      "113: 2762\n",
      "114: 29392\n",
      "115: 87803\n",
      "116: 14902\n",
      "117: 3068\n",
      "118: 47255\n",
      "119: 3917\n",
      "120: 4086\n",
      "121: 8379\n",
      "122: 4066\n",
      "123: 6488\n",
      "124: 41217\n",
      "125: 18409\n",
      "126: 7922\n",
      "127: 2796\n",
      "128: 8256\n",
      "129: 8451\n",
      "130: 50011\n",
      "131: 34517\n",
      "132: 4539\n",
      "133: 2389\n",
      "134: 12609\n",
      "135: 1986\n",
      "136: 4102\n",
      "137: 2788\n",
      "138: 1833\n",
      "139: 48459\n",
      "140: 2905\n",
      "141: 3802\n",
      "142: 8233\n",
      "143: 1527\n",
      "144: 8132\n",
      "145: 3244\n",
      "146: 6074\n",
      "147: 2637\n",
      "148: 3476\n",
      "149: 3062\n",
      "150: 12005\n",
      "151: 1413\n",
      "152: 2562\n",
      "153: 3428\n",
      "154: 1205\n",
      "155: 9364\n",
      "156: 1679\n",
      "157: 1946\n",
      "158: 2600\n",
      "159: 3643\n",
      "160: 3965\n",
      "161: 2248\n",
      "162: 1473\n",
      "163: 3615\n",
      "164: 3366\n",
      "165: 4088\n",
      "166: 1686\n",
      "167: 1889\n",
      "168: 2200\n",
      "169: 4080\n",
      "170: 2517\n",
      "171: 4257\n",
      "172: 23042\n",
      "173: 55823\n",
      "174: 6061\n",
      "175: 2894\n",
      "176: 1862\n",
      "177: 2325\n",
      "178: 3103\n",
      "179: 7751\n",
      "180: 9338\n",
      "181: 4091\n",
      "182: 1581\n",
      "183: 5590\n",
      "184: 5360\n",
      "185: 2136\n",
      "186: 3364\n",
      "187: 4312\n",
      "188: 4284\n",
      "189: 1762\n",
      "190: 1779\n",
      "191: 1861\n",
      "192: 4598\n",
      "193: 2369\n",
      "194: 4442\n",
      "195: 2956\n",
      "196: 2277\n",
      "197: 7507\n",
      "198: 8198\n",
      "199: 1669\n",
      "200: 78169\n",
      "201: 2040\n",
      "202: 1825\n",
      "203: 1922\n",
      "204: 12821\n",
      "205: 20126\n",
      "206: 1703\n",
      "207: 101917\n",
      "208: 2253\n",
      "209: 1974\n",
      "210: 5640\n",
      "211: 1765\n",
      "212: 2759\n",
      "213: 3904\n",
      "214: 1948\n",
      "215: 2030\n",
      "216: 1742\n",
      "217: 2268\n",
      "218: 2328\n",
      "219: 3176\n",
      "220: 8852\n",
      "221: 58058\n",
      "222: 2718\n",
      "223: 2419\n",
      "224: 7926\n",
      "225: 12749\n",
      "226: 2154\n",
      "227: 2086\n",
      "228: 3039\n",
      "229: 2089\n",
      "230: 1968\n",
      "231: 1901\n",
      "232: 1842\n",
      "233: 2633\n",
      "234: 2020\n",
      "235: 2439\n",
      "236: 1936\n",
      "237: 2449\n",
      "238: 1755\n",
      "239: 1827\n",
      "240: 2013\n",
      "241: 2134\n",
      "242: 2800\n",
      "243: 2091\n",
      "244: 6083\n",
      "245: 1789\n",
      "246: 2699\n",
      "247: 5803\n",
      "248: 6042\n",
      "249: 1708\n",
      "250: 2878\n",
      "251: 4271\n",
      "252: 7325\n",
      "253: 2048\n",
      "254: 1151\n",
      "255: 4662\n",
      "256: 3623\n",
      "257: 23776\n",
      "258: 4149\n",
      "259: 1767\n",
      "260: 20415\n",
      "261: 1572\n",
      "262: 2368\n",
      "263: 1864\n",
      "264: 13325\n",
      "265: 1144\n",
      "266: 2207\n",
      "267: 1888\n",
      "268: 1948\n",
      "269: 2238\n",
      "270: 2142\n",
      "271: 11482\n",
      "272: 2775\n",
      "273: 1948\n",
      "274: 6650\n",
      "275: 3915\n",
      "276: 2124\n",
      "277: 9373\n",
      "278: 13683\n",
      "279: 2234\n",
      "280: 2671\n",
      "281: 1794\n",
      "282: 6321\n",
      "283: 4951\n",
      "284: 3277\n",
      "285: 10944\n",
      "286: 2765\n",
      "287: 4252\n",
      "288: 4072\n",
      "289: 3931\n",
      "290: 14295\n",
      "291: 2869\n",
      "292: 2996\n",
      "293: 2970\n",
      "294: 1710\n",
      "295: 1790\n",
      "296: 1088\n",
      "297: 2021\n",
      "298: 2091\n",
      "299: 2094\n"
     ]
    },
    {
     "name": "stderr",
     "output_type": "stream",
     "text": [
      "\n"
     ]
    }
   ],
   "source": [
    "for i in trange(len(scrapped_articles)):\n",
    "    # print(f'{i}: {scrapped_articles[i].lead_text}')\n",
    "    print(f'{i}: {len(scrapped_articles[i].text)}')"
   ],
   "metadata": {
    "collapsed": false,
    "pycharm": {
     "name": "#%%\n"
    }
   }
  },
  {
   "cell_type": "code",
   "execution_count": 10,
   "outputs": [
    {
     "data": {
      "text/plain": "                                                 title  \\\n0    Najlepsze gry do wspólnej zabawy na Nintendo S...   \n1    Wyciekły rendery nowego średniaka TCL 30. Wygl...   \n2    Battlefield 2042 - czy aktualizacja 3.2 napraw...   \n3    Historia aktualizacji systemu Windows 10, wers...   \n4    Historia aktualizacji systemu Windows 10, wers...   \n..                                                 ...   \n295  Dodatek do Humankind jeszcze w styczniu. Co no...   \n296  Adrenalin - opublikowano nowy sterownik dla ka...   \n297  Monster Hunter Rise - dziś premiera na PC - gd...   \n298  Radeon Super Resolution zwiększy wydajność gie...   \n299  x-kom: akcesoria dla graczy do 50% taniej! Nie...   \n\n                                             title_int  \\\n0    Najlepsze gry do wspólnej zabawy na Nintendo S...   \n1    Wyciekły rendery nowego średniaka TCL 30. Wygl...   \n2    Battlefield 2042 - czy aktualizacja 3.2 napraw...   \n3    Historia aktualizacji systemu Windows 10, wers...   \n4    Historia aktualizacji systemu Windows 10, wers...   \n..                                                 ...   \n295  Dodatek do Humankind jeszcze w styczniu. Co no...   \n296  Adrenalin - opublikowano nowy sterownik dla ka...   \n297  Monster Hunter Rise - dziś premiera na PC - gd...   \n298  Radeon Super Resolution zwiększy wydajność gie...   \n299  x-kom: akcesoria dla graczy do 50% taniej! Nie...   \n\n                                             lead_text  \\\n0    Sprawdź, naszym zdaniem, najlepsze gry koopera...   \n1    Firma TCL weszła na rynek smartfonów w 2020 ro...   \n2    Battlefield 2042 ma szansę na zyskanie drugieg...   \n3    Aktualizacja systemu Windows 10 o nazwie 20H2 ...   \n4    Aktualizacja systemu Windows 10 o nazwie 21H2 ...   \n..                                                 ...   \n295  Jeszcze w tym miesiącu oficjalnie na rynku zad...   \n296  Jakie zmiany wprowadza dla posiadaczy kart mar...   \n297  Premiera Monster Hunter Rise na PC już dziś. S...   \n298  AMD chwali się, że dzięki nowemu, autorskiemu ...   \n299  W sklepie x-kom trwa super promocja na urządze...   \n\n                                         lead_text_int  \\\n0    Sprawdź, naszym zdaniem, najlepsze gry koopera...   \n1    Firma TCL weszła na rynek smartfonów w 2020 ro...   \n2    Battlefield 2042 ma szansę na zyskanie drugieg...   \n3    Aktualizacja systemu Windows 10 o nazwie 20H2 ...   \n4    Aktualizacja systemu Windows 10 o nazwie 21H2 ...   \n..                                                 ...   \n295  Jeszcze w tym miesiącu oficjalnie na rynku zad...   \n296  Jakie zmiany wprowadza dla posiadaczy kart mar...   \n297  Premiera Monster Hunter Rise na PC już dziś. S...   \n298  AMD chwali się, że dzięki nowemu, autorskiemu ...   \n299  W sklepie x-kom trwa super promocja na urządze...   \n\n                                                  link  \\\n0    https://www.pcworld.pl/news/Najlepsze-gry-do-w...   \n1    https://www.pcworld.pl/news/Wyciekly-rendery-n...   \n2    https://www.pcworld.pl/news/Battlefield-2042-c...   \n3    https://www.pcworld.pl/news/Historia-aktualiza...   \n4    https://www.pcworld.pl/news/Historia-aktualiza...   \n..                                                 ...   \n295  https://www.pcworld.pl/news/Dodatek-do-Humanki...   \n296  https://www.pcworld.pl/news/Adrenalin-opubliko...   \n297  https://www.pcworld.pl/news/Monster-Hunter-Ris...   \n298  https://www.pcworld.pl/news/Radeon-Super-Resol...   \n299  https://www.pcworld.pl/news/x-kom-akcesoria-dl...   \n\n                                                  text      when_published  \\\n0    Konsola Nintendo Switch idealnie nadaje się do... 2022-01-19 18:36:00   \n1    Od czasu premiery serii TCL 10 minęły dwa lata... 2022-01-19 18:02:00   \n2    Battlefield 2042 zadebiutował na rynku ze spor... 2022-01-19 17:59:00   \n3    Dwie wersje Windows 10 o nazwie 20H2 i 2004 dz... 2022-01-19 17:10:00   \n4    Oprogramowanie Windows 10 w wersji 21H2 oficja... 2022-01-19 17:09:00   \n..                                                 ...                 ...   \n295  Jeszcze w tym miesiącu Humankind otrzyma pierw... 2022-01-12 10:28:00   \n296  Nowy sterownik Radeon Adrenalin można pobrać b... 2022-01-12 10:17:00   \n297  fot. Capcom Monster Hunter Rise PC - data prem... 2022-01-12 10:02:00   \n298  AMD nie pokazało za dużo na CES 2022 , ale dzi... 2022-01-12 09:53:00   \n299  Ekstra okazja w sklepie x-kom, aby taniej kupi... 2022-01-12 09:24:00   \n\n                author source   portal  \n0        Damian Kubik,         pcworld  \n1     Magda Pilarczyk,         pcworld  \n2        Damian Kubik,         pcworld  \n3     Magda Pilarczyk,         pcworld  \n4     Magda Pilarczyk,         pcworld  \n..                 ...    ...      ...  \n295      Damian Kubik,         pcworld  \n296        Henryk Tur,         pcworld  \n297    Maciej Persona,         pcworld  \n298        Henryk Tur,         pcworld  \n299  Izabella Bandych,         pcworld  \n\n[300 rows x 10 columns]",
      "text/html": "<div>\n<style scoped>\n    .dataframe tbody tr th:only-of-type {\n        vertical-align: middle;\n    }\n\n    .dataframe tbody tr th {\n        vertical-align: top;\n    }\n\n    .dataframe thead th {\n        text-align: right;\n    }\n</style>\n<table border=\"1\" class=\"dataframe\">\n  <thead>\n    <tr style=\"text-align: right;\">\n      <th></th>\n      <th>title</th>\n      <th>title_int</th>\n      <th>lead_text</th>\n      <th>lead_text_int</th>\n      <th>link</th>\n      <th>text</th>\n      <th>when_published</th>\n      <th>author</th>\n      <th>source</th>\n      <th>portal</th>\n    </tr>\n  </thead>\n  <tbody>\n    <tr>\n      <th>0</th>\n      <td>Najlepsze gry do wspólnej zabawy na Nintendo S...</td>\n      <td>Najlepsze gry do wspólnej zabawy na Nintendo S...</td>\n      <td>Sprawdź, naszym zdaniem, najlepsze gry koopera...</td>\n      <td>Sprawdź, naszym zdaniem, najlepsze gry koopera...</td>\n      <td>https://www.pcworld.pl/news/Najlepsze-gry-do-w...</td>\n      <td>Konsola Nintendo Switch idealnie nadaje się do...</td>\n      <td>2022-01-19 18:36:00</td>\n      <td>Damian Kubik,</td>\n      <td></td>\n      <td>pcworld</td>\n    </tr>\n    <tr>\n      <th>1</th>\n      <td>Wyciekły rendery nowego średniaka TCL 30. Wygl...</td>\n      <td>Wyciekły rendery nowego średniaka TCL 30. Wygl...</td>\n      <td>Firma TCL weszła na rynek smartfonów w 2020 ro...</td>\n      <td>Firma TCL weszła na rynek smartfonów w 2020 ro...</td>\n      <td>https://www.pcworld.pl/news/Wyciekly-rendery-n...</td>\n      <td>Od czasu premiery serii TCL 10 minęły dwa lata...</td>\n      <td>2022-01-19 18:02:00</td>\n      <td>Magda Pilarczyk,</td>\n      <td></td>\n      <td>pcworld</td>\n    </tr>\n    <tr>\n      <th>2</th>\n      <td>Battlefield 2042 - czy aktualizacja 3.2 napraw...</td>\n      <td>Battlefield 2042 - czy aktualizacja 3.2 napraw...</td>\n      <td>Battlefield 2042 ma szansę na zyskanie drugieg...</td>\n      <td>Battlefield 2042 ma szansę na zyskanie drugieg...</td>\n      <td>https://www.pcworld.pl/news/Battlefield-2042-c...</td>\n      <td>Battlefield 2042 zadebiutował na rynku ze spor...</td>\n      <td>2022-01-19 17:59:00</td>\n      <td>Damian Kubik,</td>\n      <td></td>\n      <td>pcworld</td>\n    </tr>\n    <tr>\n      <th>3</th>\n      <td>Historia aktualizacji systemu Windows 10, wers...</td>\n      <td>Historia aktualizacji systemu Windows 10, wers...</td>\n      <td>Aktualizacja systemu Windows 10 o nazwie 20H2 ...</td>\n      <td>Aktualizacja systemu Windows 10 o nazwie 20H2 ...</td>\n      <td>https://www.pcworld.pl/news/Historia-aktualiza...</td>\n      <td>Dwie wersje Windows 10 o nazwie 20H2 i 2004 dz...</td>\n      <td>2022-01-19 17:10:00</td>\n      <td>Magda Pilarczyk,</td>\n      <td></td>\n      <td>pcworld</td>\n    </tr>\n    <tr>\n      <th>4</th>\n      <td>Historia aktualizacji systemu Windows 10, wers...</td>\n      <td>Historia aktualizacji systemu Windows 10, wers...</td>\n      <td>Aktualizacja systemu Windows 10 o nazwie 21H2 ...</td>\n      <td>Aktualizacja systemu Windows 10 o nazwie 21H2 ...</td>\n      <td>https://www.pcworld.pl/news/Historia-aktualiza...</td>\n      <td>Oprogramowanie Windows 10 w wersji 21H2 oficja...</td>\n      <td>2022-01-19 17:09:00</td>\n      <td>Magda Pilarczyk,</td>\n      <td></td>\n      <td>pcworld</td>\n    </tr>\n    <tr>\n      <th>...</th>\n      <td>...</td>\n      <td>...</td>\n      <td>...</td>\n      <td>...</td>\n      <td>...</td>\n      <td>...</td>\n      <td>...</td>\n      <td>...</td>\n      <td>...</td>\n      <td>...</td>\n    </tr>\n    <tr>\n      <th>295</th>\n      <td>Dodatek do Humankind jeszcze w styczniu. Co no...</td>\n      <td>Dodatek do Humankind jeszcze w styczniu. Co no...</td>\n      <td>Jeszcze w tym miesiącu oficjalnie na rynku zad...</td>\n      <td>Jeszcze w tym miesiącu oficjalnie na rynku zad...</td>\n      <td>https://www.pcworld.pl/news/Dodatek-do-Humanki...</td>\n      <td>Jeszcze w tym miesiącu Humankind otrzyma pierw...</td>\n      <td>2022-01-12 10:28:00</td>\n      <td>Damian Kubik,</td>\n      <td></td>\n      <td>pcworld</td>\n    </tr>\n    <tr>\n      <th>296</th>\n      <td>Adrenalin - opublikowano nowy sterownik dla ka...</td>\n      <td>Adrenalin - opublikowano nowy sterownik dla ka...</td>\n      <td>Jakie zmiany wprowadza dla posiadaczy kart mar...</td>\n      <td>Jakie zmiany wprowadza dla posiadaczy kart mar...</td>\n      <td>https://www.pcworld.pl/news/Adrenalin-opubliko...</td>\n      <td>Nowy sterownik Radeon Adrenalin można pobrać b...</td>\n      <td>2022-01-12 10:17:00</td>\n      <td>Henryk Tur,</td>\n      <td></td>\n      <td>pcworld</td>\n    </tr>\n    <tr>\n      <th>297</th>\n      <td>Monster Hunter Rise - dziś premiera na PC - gd...</td>\n      <td>Monster Hunter Rise - dziś premiera na PC - gd...</td>\n      <td>Premiera Monster Hunter Rise na PC już dziś. S...</td>\n      <td>Premiera Monster Hunter Rise na PC już dziś. S...</td>\n      <td>https://www.pcworld.pl/news/Monster-Hunter-Ris...</td>\n      <td>fot. Capcom Monster Hunter Rise PC - data prem...</td>\n      <td>2022-01-12 10:02:00</td>\n      <td>Maciej Persona,</td>\n      <td></td>\n      <td>pcworld</td>\n    </tr>\n    <tr>\n      <th>298</th>\n      <td>Radeon Super Resolution zwiększy wydajność gie...</td>\n      <td>Radeon Super Resolution zwiększy wydajność gie...</td>\n      <td>AMD chwali się, że dzięki nowemu, autorskiemu ...</td>\n      <td>AMD chwali się, że dzięki nowemu, autorskiemu ...</td>\n      <td>https://www.pcworld.pl/news/Radeon-Super-Resol...</td>\n      <td>AMD nie pokazało za dużo na CES 2022 , ale dzi...</td>\n      <td>2022-01-12 09:53:00</td>\n      <td>Henryk Tur,</td>\n      <td></td>\n      <td>pcworld</td>\n    </tr>\n    <tr>\n      <th>299</th>\n      <td>x-kom: akcesoria dla graczy do 50% taniej! Nie...</td>\n      <td>x-kom: akcesoria dla graczy do 50% taniej! Nie...</td>\n      <td>W sklepie x-kom trwa super promocja na urządze...</td>\n      <td>W sklepie x-kom trwa super promocja na urządze...</td>\n      <td>https://www.pcworld.pl/news/x-kom-akcesoria-dl...</td>\n      <td>Ekstra okazja w sklepie x-kom, aby taniej kupi...</td>\n      <td>2022-01-12 09:24:00</td>\n      <td>Izabella Bandych,</td>\n      <td></td>\n      <td>pcworld</td>\n    </tr>\n  </tbody>\n</table>\n<p>300 rows × 10 columns</p>\n</div>"
     },
     "execution_count": 10,
     "metadata": {},
     "output_type": "execute_result"
    }
   ],
   "source": [
    "pcworld_dataframe = pd.DataFrame(article.__dict__ for article in scrapped_articles)\n",
    "pcworld_dataframe"
   ],
   "metadata": {
    "collapsed": false,
    "pycharm": {
     "name": "#%%\n"
    }
   }
  },
  {
   "cell_type": "code",
   "execution_count": 11,
   "outputs": [],
   "source": [
    "timestamp = int((datetime.now(timezone.utc)).timestamp())"
   ],
   "metadata": {
    "collapsed": false,
    "pycharm": {
     "name": "#%%\n"
    }
   }
  },
  {
   "cell_type": "code",
   "execution_count": 12,
   "outputs": [],
   "source": [
    "pcworld_dataframe.to_parquet(f'{data_dir}/{portal_name}_{timestamp}.parquet')\n",
    "pcworld_dataframe.to_json(f'{data_dir}/{portal_name}_{timestamp}.json')"
   ],
   "metadata": {
    "collapsed": false,
    "pycharm": {
     "name": "#%%\n"
    }
   }
  },
  {
   "cell_type": "markdown",
   "source": [
    "Krótki test - dane pierwszego artykułu"
   ],
   "metadata": {
    "collapsed": false
   }
  },
  {
   "cell_type": "code",
   "execution_count": 13,
   "outputs": [
    {
     "name": "stdout",
     "output_type": "stream",
     "text": [
      "title:\n",
      "  Najlepsze gry do wspólnej zabawy na Nintendo Switch\n",
      "lead_text:\n",
      "  Sprawdź, naszym zdaniem, najlepsze gry kooperacyjne dostępne na Nintendo Switch.\n",
      "lead_text_int:\n",
      "  Sprawdź, naszym zdaniem, najlepsze gry kooperacyjne dostępne na Nintendo Switch.\n",
      "link:\n",
      "  https://www.pcworld.pl/news/Najlepsze-gry-do-wspolnej-zabawy-na-Nintendo-Switch,430143.html\n",
      "text:\n",
      "  Konsola Nintendo Switch idealnie nadaje się do wspólnej zabawy przy jednym ekranie. Bogata biblioteka gier, która jest stale rozszerzana gwarantuje, że każdy znajdzie tutaj coś dla siebie. Przedstawiliśmy kilka, naszym zdaniem, najlepszych gier na Nintendo Switch, w które można zagrać w trybie lokalnej kooperacji . Enter the Gungeon W Enter the Gungeon wcielamy się w postać bohatera, który wyrusza w podróż, aby odnaleźć broń, która może zmienić przeszłość. Fabuła jest jednak tylko pretekstem do rozpoczęcia rozgrywki. Jest to szalony, wypełniony akcją roguelike , w którym czekają na nas hordy przeciwników. Na drodze spotkamy też przyjaźnie nastawione do nas osoby. W trakcie rozgrywki do dyspozycji dostajemy duży wybór broni i gadżetów, które pomogą siać zniszczenie w tajemniczej świątyni Gungeon . Zobacz również: Najciekawsze zestawy LEGO dla graczy i fanów popkultury Rayman Legends Definitive Edition Rayman Legends to jedna z najlepszych gier platformowych 2D , jakie pojawiły się kiedykolwiek na rynku. Chyba każdy, kto ma styczność z grami wideo, od razu pozna postać sympatycznego stworzenia. Rayman jest w stanie zapewnić długie godziny świetnej zabawy z rodziną lub przyjaciółmi. Twórcy gry są mistrzami w tworzeniu poziomów , a swoje inspiracje czerpią z takich produkcji jak Sonic , Mario a nawet Guitar Hero . Aktualne ceny w sklepach Rayman Legends Definitive Edition Gra NINTENDO SWITCH 80 zł Rayman Legends Definitive Edition Gra NINTENDO SWITCH 80 zł Rayman Legends Definitive Edition Gra Nintendo Switch UBISOFT 90 zł Super Mario Odyssey Super Mario Odyssey jest grą niemal idealną. Nasz sympatyczny bohater musi uratować swoją ukochaną, księżniczkę Peach . Grozi jej wymuszone małżeństwo z Bowserem , głównym antagonistą całej serii. Trafiamy tutaj nie tylko do Grzybowego Królestwa, ale także do alternatywnej wersji świata. Jest ona mocno oparta na współczesnych realiach. Grając w kooperacji z inną osobą, jeden gracz steruje postacią Mario , natomiast drugi jego kapeluszem, Cappy . Jest on żywą postacią, która posiada swoje własne, unikalne zdolności. Aktualne ceny w sklepach Super Mario Odyssey (Collage) - plakat 23 zł Plakat PYRAMID INTERNATIONAL, Super Mario Odyssey Collage, 61x91 cm 25 zł HORI zestaw akcesoriów Super Mario Odyssey Starter Kit na Nintendo Switch... 79 zł Bioworld - Difuzed Unisex Casquette De Super Mario Odyssey Cappy czapka z... ~97 zł Super Mario Odyssey Switch 226 zł Super Mario Odyssey Gra Nintendo Switch NINTENDO 238 zł Super Mario Odyssey (SWITCH) 254 zł Diablo 3: Eternal Collection Diablo 3 to kolejna już odsłona kultowej gry hack'n'slash . Ponownie wrócimy do miasteczka Tristram . Po okolicy rozchodzą się plotki o gwieździe, której pojawienie ma sygnalizować odrodzenie się zła i rychły koniec świata. Jako członek Sanktuarium podejmiemy walkę z hordami piekielnych bestii, aby zapobiec katastrofie i uratować ludzkość przed zagładą. W tym wydaniu gry otrzymujemy dostęp do podstawowej wersji Diablo 3 oraz dodatków Reaper of Souls i Rise of Necromancer . Marvel Ultimate Alliance 3 - The Black Order W Marvel Ultimate Alliance 3 wcielamy się w rolę superbohaterów znanych z komiksów Marvela . Fabuła tej części opowiada o starciu z Thanosem oraz jego Czarnym Zakonem . Wraz z postępem w grze możemy odblokować dodatkowe umiejętności naszych bohaterów. Do dyspozycji dostajemy kilkadziesiąt grywalnych postaci. Kluczem do zwycięstwa są nie tylko indywidualne umiejętności graczy, ale także odpowiednie dobranie składu zespołu . Świetna pozycja dla osób, które są fanami tego uniwersum. Aktualne ceny w sklepach Marvel Ultimate Alliance 3: The Black Order Switch 226 zł Marvel Ultimate Alliance 3: The Black Order Gra Nintendo Switch NINTENDO 229 zł Clubhouse Games: 51 Worldwide Classics Czas na trochę klasyki. Na Nintendo Switch swoje miejsce znalazły także gry, które były niezwykle popularne jeszcze przed nastaniem ery komputerów. W  bogatym zestawie Clubhouse Games: 51 Worldwide Classics znajdziemy mnóstwo świetnych pozycji, które umilą nam czas z rodziną bądź przyjaciółmi. Wśród 51 pozycji są m.in. szachy , mahjong , warcaby , kręgle , domino , bilard , kości czy dart . Jest z czego wybierać. Overcooked 2 W Overcooked 2 ponownie wcielimy się w rolę kucharzy. Wracamy do Cebulowego Królestwa , aby stawić czoła armii nieumarłego chleba, który znany jest jako Unbread . Podczas rozgrywki będziemy przygotowywać potrawy dla oczekujących klientów . W menu znajdują się bardzo zróżnicowane dania, które musimy gotować w różnych, czasami bardzo trudnych warunkach . Super Mario 3D World Ponownie wracamy do świata sympatycznego hydraulika o imieniu Mario. Super Mario 3D World jest portem gry z Nintendo Wii U . Jest to trójwymiarowa platformówka, która rozwija elementy znane z poprzednich części cyklu. Mamy dostęp do łącznie czterech bohaterów: Mario , Luigi , księżniczka Peach oraz Toad . Wspólnie przemierzamy Grzybowe Królestwo , aby zmierzyć się z odwiecznym wrogiem, Bowserem. W trybie współpracy możemy grać w maksymalnie czteroosobowej drużynie . Aktualne ceny w sklepach Super Mario 3D World + Bowser Fury Nintendo Switch Gaming 203 zł Super Mario 3D World + Bowser's Fury 220 zł Super Mario 3D World + Browser's Fury Gra NINTENDO SWITCH 230 zł Super Mario 3D World + Bowser’s Fury 233 zł Super Mario 3D World + Bowser's Fury Nintendo Switch 249 zł Hyrule Warriors: Age of Calamity Hyrule Warriors: Age of Calamity to świetna pozycja dla wszystkich fanów kultowej serii Legend of Zelda . Gra przedstawia historię rozgrywająca się około 100 lat przed wydarzeniami znanymi z The Legend of Zelda: Breath of the Wild . Poznamy m.in. przyczynę upadku królestwa Hyrule . Do dyspozycji otrzymamy kilka postaci znanych z całej serii, m.in. Zelda oraz Link . Gra jest połączeniem slashera, w którym pokonujemy hordy wrogów z grą z elementami RPG. W Hyrule Warriors: Age of Calamity możemy grać z drugą osobą na podzielonym ekranie. Aktualne ceny w sklepach Hyrule Warriors: Age of Calamity 219 zł Hyrule Warriors: Age of Calamity Switch 226 zł Hyrule Warriors: Age of Calamity Gra Nintendo Switch NINTENDO 249 zł Hyrule Warriors: Age of Calamity Nintendo Switch 249 zł Hyrule Warriors: Age of Calamity Nintendo Switch 249 zł Cuphead Cuphead został określony jako jedna z najtrudniejszych gier na świecie . Produkcja jest stylizowana na popularne amerykańskie kreskówki z lat 30. XX wieku . Głównym bohaterem jest postać o imieniu Cuphead . Jest to hazardzista, który przegrywa duszę z diabłem. Jeśli wykona serię trudnych zadań, jego dusza będzie wolna a pakt zostanie unieważniony. Możemy grać samotnie lub z drugą osobą. Tryb współpracy jeszcze bardziej podnosi poziom trudności. Trine W grze Trine trafiamy do tajemniczego, zapomnianego królestwa. Do dyspozycji dostajemy trzech bohaterów: złodziejkę , rycerza oraz czarodzieja . Podczas rozgrywki musimy znaleźć artefakty, które pozwolą nam wydostać się z tego miejsca. Każda z postaci charakteryzuje się odmiennymi zdolnościami . Trine to świetne połączenie produkcji przygodowych i zręcznościowych. Grając w kooperacji musimy współpracować, aby osiągnąć cel. Mario Kart 8 Deluxe Mario Kart 8 Deluxe to kolejna w tym zestawieniu gra z Mario w roli głównej. Mamy tutaj do czynienia z klasyczną grą wyścigową w świecie sympatycznego hydraulika. Poza gokartami dostajemy do dyspozycji motocykle, szybowce oraz wyścigi antygrawitacyjne. Podczas rywalizacji możemy korzystać ze specjalnych umiejętności, doładowań, ale także podrzucać tzw. \"kłopoty\" naszym przeciwnikom. Tryb lokalnej kooperacji pozwala na zabawę nawet w 8 osób. Aktualne ceny w sklepach 20pcs Amiibo Mario Kart 8 Deluxe locks ntag215 Coin Tag Tagmo amiiboen Cards NFC... 67 zł HEYSTOP Grip Kompatibel mit Nintendo Switch Joy-Con und Racing Switch Lenkrad,... ~80 zł Mario Kart 8 Deluxe Gra Nintendo Switch NINTENDO 229 zł Mario Kart 8 Deluxe 233 zł Mario Kart 8 Deluxe Nintendo Switch 279 zł Konsola NINTENDO Switch + Mario Kart 8 Deluxe (kod do pobrania) + NS Online 90... 1 399 zł NINTENDO Switch Neon Joy-Con v2 + Mario Kart 8 Deluxe + 3 miesiacie Nintendo... 1 399 zł NINTENDO Switch Neon Joy-Con v2 + Mario Kart 8 Deluxe + 3 miesiacie Nintendo... 1 399 zł\n",
      "when_published:\n",
      "  2022-01-19 18:36:00\n"
     ]
    }
   ],
   "source": [
    "print(f'title:\\n  {pcworld_dataframe.iloc[0][\"title\"]}')\n",
    "print(f'lead_text:\\n  {pcworld_dataframe.iloc[0][\"lead_text\"]}')\n",
    "print(f'lead_text_int:\\n  {pcworld_dataframe.iloc[0][\"lead_text_int\"]}')\n",
    "print(f'link:\\n  {pcworld_dataframe.iloc[0][\"link\"]}')\n",
    "print(f'text:\\n  {pcworld_dataframe.iloc[0][\"text\"]}')\n",
    "print(f'when_published:\\n  {pcworld_dataframe.iloc[0][\"when_published\"]}')"
   ],
   "metadata": {
    "collapsed": false,
    "pycharm": {
     "name": "#%%\n"
    }
   }
  },
  {
   "cell_type": "code",
   "execution_count": 14,
   "outputs": [
    {
     "name": "stdout",
     "output_type": "stream",
     "text": [
      "title:\n",
      "  Moon Knight na mrocznym zwiastunie. Zobacz trailer nowego serialu Marvela\n",
      "lead_text:\n",
      "  Marvel opublikował nowy zwiastun nadchodzącego serialu Moon Knight.\n",
      "link:\n",
      "  https://www.pcworld.pl/news/Moon-Knight-na-mrocznym-zwiastunie-Zobacz-trailer-nowego-serialu-Marvela,435424.html\n",
      "text:\n",
      "  Moon Knight to serial Marvela, który opowie historię Marca Spectora , byłego żołnierza i agenta CIA, który cierpi na dysocjacyjne zaburzenia tożsamości. Każda z nich objawia się jako odrębna jednostka. Co więcej, staje się on kanałem przejścia dla egipskiego bóstwa, które nazywane jest Khonshu . Nowe moce tylko pogłębiają stan, w jakim znalazł się bohater grany przez Oscara Isaaca. Marvel opublikował nowy, mroczny zwiastun serialu Moon Knight . Możecie go zobaczyć poniżej. Moon Knight zadebiutuje już 30 marca. Serial będzie można obejrzeć na platformie Disney +. Jeśli zastanawiasz się, jakie filmy i seriale ze świata Marvela będziemy mogli zobaczyć w 2022 roku, zapraszamy do lektury zestawienia wszystkich zaplanowanych premier . Zobacz również: Najlepsze gry do wspólnej zabawy na Nintendo Switch Zobacz także: Dom z papieru, sezon 6 - co wiemy o kontynuacji Aktualne ceny w sklepach ARK: Ultimate Survivor Edition Gra XBOX ONE (Kompatybilna z Xbox Series X) 209 zł ARK: Ultimate Survivor Edition Gra XBOX ONE (Kompatybilna z Xbox Series X) 214 zł 2K GAMES NBA 2K22 Xbox Series X 283 zł 2K GAMES NBA 2K22 Xbox Series X 299 zł Assassin’s Creed Valhalla [kod aktywacyjny] Xbox One / Xbox Series X/S 309 zł Assassin’s Creed Valhalla [kod aktywacyjny] Xbox One / Xbox Series X/S 309 zł Dying Light 2 Edycja Deluxe Xbox Series X 377 zł Asus Projektor H1 LED LED/FHD/3000L/120Hz/sRGB/10W speaker/HDMI/RS-232/RJ45/Full... 5 499 zł Asus Projektor H1 LED LED/FHD/3000L/120Hz/sRGB/10W speaker/HDMI/RS-232/RJ45/Full... 5 599 zł Asus, Projektor H1 LED LED/FHD/3000L/120Hz/sRGB/10W... 7 686 zł\n",
      "when_published:\n",
      "  2022-01-18 14:09:00\n"
     ]
    }
   ],
   "source": [
    "print(f'title:\\n  {pcworld_dataframe.iloc[99][\"title\"]}')\n",
    "print(f'lead_text:\\n  {pcworld_dataframe.iloc[99][\"lead_text\"]}')\n",
    "print(f'link:\\n  {pcworld_dataframe.iloc[99][\"link\"]}')\n",
    "print(f'text:\\n  {pcworld_dataframe.iloc[99][\"text\"]}')\n",
    "print(f'when_published:\\n  {pcworld_dataframe.iloc[99][\"when_published\"]}')"
   ],
   "metadata": {
    "collapsed": false,
    "pycharm": {
     "name": "#%%\n"
    }
   }
  },
  {
   "cell_type": "code",
   "execution_count": 15,
   "outputs": [
    {
     "name": "stdout",
     "output_type": "stream",
     "text": [
      "title:\n",
      "  Historia aktualizacji systemu Windows 10, wersja 21H1 [19.01.2022]\n",
      "lead_text:\n",
      "  Firma Microsoft udostępniła system Windows 10 w wersji 21H1. Od czasu premiery oprogramowanie wzbogaciło się już o kilka aktualizacji. Co zmieniła każda z nich?\n",
      "link:\n",
      "  https://www.pcworld.pl/news/Historia-aktualizacji-systemu-Windows-10-wersja-21H1-19-01-2022,428520.html\n",
      "text:\n",
      "  Na dzień dzisiejszy są trzy stale aktualizowane wersje systemu Windows 10: 21H1 , 20H2 oraz 2004 . Wszystkie trzy dzielą wspólny podstawowy system operacyjny oraz identyczny zestaw plików systemowych. Najnowszy za nich, 21H1, dostępny jest od maja tego roku i już został rozszerzony o kilka aktualizacji. W poniższej analizie omówimy wszystkie poprawki udostępnione dla systemu Windows 10 w wersji 21H1 . Co ważne, identyczne zmiany wypisane w poniższym artykule dostępne są także dla oprogramowań w wersji 20H2 oraz 2004, jednakże uwaga jest taka, że kompilacja kierowana dla 2004 nie zawiera poprawek dla wyższych rangą wersji. 11 maja 2021 r. — KB5003173 Pierwsza majowa aktualizacja wypuszczona została w ramach wydarzenia znanego pod nazwą Patch Tuesday . Wprowadza ona głównie poprawki błędów systemu oraz ulepszenia bezpieczeństwa Windows 10. Ponadto w jej ramach użytkownicy dostali możliwość korzystania z nowej funkcji \" Wiadomości i zainteresowania \", która początkowo miała być częścią dużej aktualizacji Sun Valley . Więcej o nowej aktualizacji oraz jak ją zainstalować pisaliśmy tutaj . Zobacz również: Historia aktualizacji systemu Windows 10, wersja 20H2 [19.01.2022] Historia aktualizacji systemu Windows 10, wersja 21H2 [19.01.2022] Jak zainstalować dysk twardy w komputerze? [PORADNIK] Wprowadzone zmiany wyróżnione przez firmę Microsoft: Aktualizacja zwiększająca bezpieczeństwo, gdy system Windows wykonuje podstawowe operacje. Aktualizacja w celu ulepszenia Windows zabezpieczeń ole (dokumentów złożonych). Aktualizacja zabezpieczenia dla sterowników Bluetooth. 25 maja 2021 r. — KB5003214 Druga majowa aktualizacja wprowadzała nową funkcję \"Wiadomości i zainteresowania\" dla szerszego grona użytkowników. Poza tym dodano funkcję wycinania fragmentu ekranu. Co ważne, by z niego skorzystać należy użyć skrótu klawiszowego: Shift+Windows+S . Dodatkowo naprawiono liczne błędy związane z aplikacją \" Twój telefon \" oraz ulepszono szereg zabezpieczeń. Wprowadzone zmiany wyróżnione przez firmę Microsoft: Wiadomości i zainteresowania na pasku zadań są teraz dostępne dla każdego, kto zainstaluje tę aktualizację! Ulepszenie środowiska aktywowania wiadomości i zainteresowań, aby zapobiec przypadkowym otwarciom. Dodaje opcję Otwórz po aktywowaniu (zaznaczoną domyślnie) do menu Wiadomości i zainteresowania. Aby uzyskać do niego dostęp, kliknij prawym przyciskiem myszy puste miejsce na pasku Windows i otwórz menu Wiadomości i zainteresowania. Usunięcie problemu, który może uniemożliwiać użytkownikom otwieranie aplikacji na telefonie przypiętych do paska zadań. Błąd występuje po zaktualizowaniu do wersji Windows 10 2004, a następnie użyciu aplikacji Telefon komputera. Zapobieganie pracy urządzenia dotykowego jako myszy szeregowej w wielu monitorach. Usunięcie problemu, który może wyświetlać elementy na pulpicie po usunięciu ich z pulpitu. Usunięcie błędu, który może powodować niepowodzenie odtwarzania wideo po przełączeniu z zewnętrznego wyświetlacza o wysokim zakresie dynamiki (HDR) na wbudowany ekran bez hdr. Aktualizuje problem z szumem, gdy włączasz dźwięk strumieniowy i używasz Bluetooth USB. Aktualizacja problemu uniemożliwiającego użytkownikom odbieranie informacji o lokalizacji geograficznej. 8 czerwca 2021 r. — KB5003637 Pierwsza, czerwcowa aktualizacja związana jest z Patch Tuesday . W jej ramach oczywiście zaktualizowano szereg zabezpieczeń oraz usunięto nieliczne błędy. Wraz z pobraniem tej aktualizacji wszyscy użytkownicy, którzy do tej pory nie mogli skorzystać z nowej funkcji Wiadomości i zainteresowania mają już tę możliwość. Wprowadzone zmiany wyróżnione przez firmę Microsoft: Poprawiono bezpieczeństwo podczas korzystania z urządzeń wejściowych, takich jak mysz, klawiatura lub pióro. Ulepszono Windows zabezpieczeń ole (dokumentów złożonych). Aktualizacja dotycząca weryfikowania nazw użytkowników i haseł. Aktualizacja zwiększająca bezpieczeństwo, gdy system Windows wykonuje podstawowe operacje. Aktualizacja dotycząca przechowywania plików i zarządzania nimi. 11 czerwca 2021 r. — KB5004476 Druga z czerwcowych aktualizacji okazała się łatką reperującą liczne problemu z usługą Xbox Game Pass na urządzeniach z systemem Windows 10. Poza tym nie wprowadzono nic więcej. Wprowadzone zmiany wyróżnione przez firmę Microsoft: Aktualizacja problemu, który powodował przekierowanie  do strony Usługi gier w Sklepie Microsoft przy próbie zainstalowania lub uruchomienia gry Xbox Game Pass na urządzeniu z systemem Windows 10. 21 czerwca 2021 r. — KB5003690 Trzecia czerwcowa aktualizacja w przeciwieństwie do poprzednich jest opcjonalna do pobrania. Zawiera w sobie miedzy innymi poprawki, które usuwają liczne problemy z wydajnością, zacinaniem i spadkami FPS podczas grania w gry . Więcej o aktualizacji można przeczytać tutaj . Usunięte problemy wyróżnione przez firmę Microsoft: Problemy z wydajnością gier, które występują po zainstalowaniu KB5000842 . Możesz przeczytać więcej na ten temat tutaj. Problemy z japońskim edytorem metod wprowadzania (IME) Problemy z wprowadzaniem kodów PIN Problemy z aplikacją Virtual Reality (VR) Problemy, które powodują, że niektóre rozdzielczości ekranu rozmywają tekst w przycisku Wiadomości i zainteresowania na pasku zadań. Możesz przeczytać więcej na ten temat tutaj. Problemy z grafiką pola wprowadzania wyszukiwania na pasku zadań. Problemy z logowaniem odcisków palców Problemy z wyjściem dźwięku Dolby Digital 5.1. 29 czerwca 2021 r. — KB5004760 Ostatnia czerwcowa aktualizacja wprowadziła niewiele zmian. Jej rolą było usunięcie palącego błędu związanego z otwieraniem plików PDF podczas korzystania z wtyczki Adobe Acrobat i nie tylko. Więcej pisaliśmy o tym tutaj . Usunięte problemy wyróżnione przez firmę Microsoft: Usunięcie problemu, który może uniemożliwiać otwieranie plików PDF przy użyciu programu Internet Explorer 11 lub aplikacji korzystających z 64-bitowej wersji kontrolki WebBrowser. Ponadto podczas korzystania z wtyczki Adobe Acrobat plik PDF może być renderowany jako tylko szare tło. Wprowadzono ulepszenia jakości do stosu obsługi, który jest składnikiem, który instaluje aktualizacje systemu Windows. Obsługa aktualizacji stosu (SSU) zapewnia niezawodność i niezawodność obsługi, dzięki czemu urządzenia mogą odbierać i instalować aktualizacje firmy Microsoft. 7 lipca 2021 5. — KB5004945 Pierwsza lipcowa aktualizacja jest tą, która usuwa lukę typu zero-day o nazwie PrintNightmare . Według raportów, jest ona aktywnie wykorzystywana przez hakerów. Jak sama nazwa wskazuje PrintNightmare związana jest z drukowaniem. Luka została odnaleziona w usłudze odpowiedzialnej za zarządzanie wszystkimi zadaniami drukowania. Funkcja ta jest domyślnie włączona na wszystkich urządzeniami z systemem Windows, w tym w wersji Home oraz Pro, więc hakerzy mogą uzyskać dostęp do znacznej większości urządzeń. W związku z tym firma Microsoft zaleca jak najszybsze zainstalowanie awaryjnej poprawki . Aktualizacja została wydana poza pasmem w celu rozwiązania problemu wykorzystania zdalnego wykonywania kodu w usłudze buforu wydruku systemu Windows. Zalecamy jak najszybszą aktualizację urządzenia - podała firma w oświadczeniu. 13 lipca 2021 r. — KB5004237 Druga lipcowa aktualizacja wprowadza kilka znaczących zmian. Przede wszystkim aktualizuje zabezpieczenia, usuwa lukę zero-day o nazwie PrintNightmare oraz niweluje problemy związane z piszczącym dźwiękiem audio, uszkodzeniem paska zadań oraz spadkiem wydajności podczas grania w gry wideo. Usunięte problemy wyróżnione przez firmę Microsoft: Aktualizacje dotyczące weryfikowania nazw użytkowników i haseł . Aktualizacje zwiększające bezpieczeństwo, gdy system Windows wykonuje podstawowe operacje. Usunięto problem, który może utrudniać drukowanie na niektórych drukarkach. Ten problem dotyczy różnych marek i modeli, ale przede wszystkim z drukarkami pokwitowania lub etykiet, które można połączyć za pomocą portu USB. Usunięcie luki zero-day PrintNightmare Usunięcie problemu z piszczącym dźwiękiem audio Usunięcie problemu z uszkodzonymi ikonami na pasku zadań po instalacji aktualizacji wprowadzającej funkcję \"Wiadomości i zainteresowania\". Rozwiązanie problemu ze spadkiem wydajności podczas grania w gry wideo. 29 lipca 2021 r. — KB5004296 Ostatnia lipcowa aktualizacja wprowadziła wiele zmian, które miały w zamyśle głównie usunięcie licznych problemów. Mowa tutaj między innymi o tych związanych z dźwiękiem i działaniem planów zasilania komputerów. Usunięte problemy wyróżnione przez firmę Microsoft: Błąd uniemożliwiający usługom gier otwieranie określonych gier dla użytkowników komputerowych. Problem, który uniemożliwia wprowadzanie tekstu za pomocą edytora IME (Input Method Editor). Może się to zdarzyć na przykład po uruchomieniu, jeśli ustawiono opcje zasilania w celu wyłączenia komputera przenośnego przez zamknięcie jego gniazdka. Błąd, który powoduje odtworzenie dźwięku podczas zaznaczania czegoś w grze głośno po naciśnięciu przycisku wyzwalacza na kontrolerze gry. Błąd, który uniemożliwia działanie planów zasilania i trybu gry zgodnie z oczekiwaniami. Powoduje to obniżenie klatek na klatkę i obniżenie wydajności podczas gry. Aktualizuje problem, który nie wykrywa, że masz połączenie z Internetem po nawiązania połączenia z wirtualną siecią prywatną (VPN). 10 sierpnia 2021 r. — KB5005033 Pierwsza sierpniowa aktualizacja jest częścią regularnej, comiesięcznej serii o nazwie Patch Tuesday . Jest ona jedną z ważniejszych do pobrania, głównie dlatego, że naprawia lukę zero-day związaną z PrintNightmare . Poza tym poprawka znacząco poprawia wydajność i usuwa inne mniej znaczące błędy. Usunięte problemy wyróżnione przez firmę Microsoft: Instalacja sterownika druku wymaga teraz uprawnień administratora. Naprawiono problemy z grami. Naprawiono problemy z planem zasilania. Naprawiono problemy z Eksploratorem plików i wydajnością. Naprawiono błąd bufora wydruku. 3 września 2021 r. — KB5005101 Pierwsza wrześniowa aktualizacja rozwiązuje błędy związane z połączeniem Bluetooth A2DP oraz resetem jasności monitorów HDR podczas przesyłania strumieniowego treści o standardowym zakresie dynamicznym (SDR). Poza tym firma Microsoft usunęła błędy dotyczące usługi Office 365 . Usunięte problemy wyróżnione przez firmę Microsoft: Rozwiązuje problemy z łącznością Bluetooth. Naprawia uszkodzoną stronę Windows Update. Rozwiązuje problem, który resetuje synchronizację dla OneDrive. Rozwiązuje problem dotyczący polecenia kopiowania i wklejania w pakiecie Office 365. Rozwiązuje problem, który wpływa na stabilność urządzenia. Microsoft naprawił błąd związany z brakiem pamięci spowodowany przez VBScript. Firma Microsoft rozwiązała problemy z procesem out-of-box experience (OOBE) systemu Windows. Microsoft naprawił problem powodujący awarię aplikacji, gdy urządzenie nie ma zainstalowanego plikuedgegdi.dll. Firma Microsoft rozwiązała problem, który mógł powodować, że urządzenie przestaje odpowiadać, gdy używasz wprowadzania dotykowego, takiego jak touchpad lub ekran dotykowy. 14 września 2021 r. — KB5005565 Usunięte problemy wyróżnione przez firmę Microsoft: Rozwiązuje problem powodujący tworzenie przez program PowerShell nieograniczonej liczby katalogów dzieci. Ten problem występuje, gdy używasz polecenia Przenieś element programu PowerShell w celu przeniesienia katalogu do jednego z jego dzieci. W wyniku tego głośność zapełnia się, a system przestaje odpowiadać. 30 września 2021 r. — KB5005611 Usunięte problemy wyróżnione przez firmę Microsoft: Ten problem powoduje, że zegar systemowy jest nieuzyskany o godzinę po zmianie czasu letniego. Ten problem powoduje, że aplikacje, takie jak Microsoft Outlook, nagle przestają działać podczas normalnego użytkowania. Aktualizuje problem z dodatku Microsoft Outlook, który uniemożliwia wpisywanie odpowiedzi. Aktualizacja problemu, który powoduje rozmyte ikony Wiadomości i zainteresowania w przypadku używania określonych rozdzielczości ekranu. Aktualizacja problemu, który powoduje, że wiadomości i zainteresowania pojawiają się po kliknięciu prawym przyciskiem myszy paska zadań, nawet jeśli ta funkcja została wyłączona na urządzeniu. Aktualizacja problemu, który może powodować zniekształcenia w dźwiękach nagrywanych Cortana innych asystentów głosowych. Aktualizacja problemu, który powoduje, że urządzenie przestanie działać po ponownym uruchomieniu. Aktualizacja problemu uniemożliwiającego przekazywanie danych wejściowych do aplikacji, gdy pasek zadań nie znajduje się u dołu ekranu. 12 października 2021 r. — KB5006670 Usunięte problemy wyróżnione przez firmę Microsoft: Jest znany problem uniemożliwiający poprawne spakowaniu przez internetowy serwer wydruku zmodyfikowanych właściwości drukarki przed wysłaniem pakietu do klienta. Rozwiązuje problem uniemożliwiający otwieranie niektórych aplikacji, takich jak Microsoft Office i Adobe Reader, albo jego przyczyny przestają odpowiadać. Dzieje się tak na urządzeniach podlegających programowi Microsoft Exploit Protectionfor Export Address Filtering (EAF). Jest to znany problem, który może wymagać poświadczeń administracyjnych przy każdej próbie wydrukowania. Dzieje się tak w środowiskach, w których serwer wydruku i klient wydruku znajdują się w różnych strefach czasowych. 26 października 2021 r. — KB5006738 Usunięte problemy wyróżnione przez firmę Microsoft: Aktualizacja problemu, który może uniemożliwiać wyświetlanie napisów dla niektórych aplikacji wideo i witryn strumieniowych wideo. Ten problem uniemożliwia użytkownikom w trybie wprowadzania Kana wstawianie znaku zapytania (?) przy użyciu kombinacji klawiszy Shift-0. Ten problem czasami powoduje, że tło ekranu blokady jest czarne, jeśli jako tło ekranu blokady ustawiono pokaz slajdów obrazów. 9 listopada 2021 r. — KB5007186 Usunięte problemy wyróżnione przez firmę Microsoft: Aktualizuje zabezpieczenia Twojego Windows operacyjnego. 22 listopada 2021 r. — KB5007253 Usunięte problemy wyróżnione przez firmę Microsoft: Ten problem powoduje niepoprawne wyświetlanie niektórych czcionek zmiennych. Ten problem może powodować, że 32-bitowa wersja pakietu Microsoft Excel przestanie działać na niektórych urządzeniach podczas eksportowania do pliku PDF. Ten problem powoduje wyświetlanie liter lub znaków pod niewłaściwym kątem podczas używania czcionki interfejsu użytkownika Meiryo i innych czcionek pionowych. Te czcionki są często używane w Japonii, Chinach i innych krajach Azji. Ten problem powoduje, że program Internet Explorer przestaje działać podczas wstawiania elementów za pomocą edytora IME (Input Method Editor). Ten problem powoduje nieoczekiwane zamknięcie Ustawienia po odinstalowaniu czcionki. Aktualizacja problemu, który wpływa na możliwość zmiany nazwy pliku przy użyciu widoku folderu w Eksploratorze plików podczas korzystania z nowego japońskiego narzędzia IME. Ten problem powoduje wyłączenie funkcji przechwytywania i rejestrowania zawartości ekranu na pasku Windows gry po awarii usługi. Aktualizuje problem uniemożliwiający często używane aplikacje pojawiające się na menu Start tak, jak powinny. Ten problem powoduje, że program Internet Explorer przestaje działać. Aktualizacja problemu uniemożliwiającego użytkownikom łączenie się z następującymi kontrolerami konsoli Xbox za pomocą Bluetooth: Xbox One kontrolerów z obsługą Bluetooth administratora Kontroler bezprzewodowy Xbox Elite 2 Kontrolery adaptacyjne konsoli Xbox 14 grudnia 2021 r. — KB5008212 Usunięte problemy wyróżnione przez firmę Microsoft: Ta aktualizacja zabezpieczeń zawiera ulepszenia dotyczące jakości. 11 stycznia 2022 r. — KB5009543 Wprowadzone zmiany wyróżnione przez firmę Microsoft: Rozwiązano problem uniemożliwiający poprawne zapisywane atrybuty usługi Active Directory (AD) podczas operacji modyfikowania LDAP (Lightweight Directory Access Protocol) podczas modyfikowania wielu zmian atrybutów. Jest znany problem, który wpływa na japońskie edytory IME (Input Method Editor). Podczas wprowadzania tekstu za pomocą edytora IME w języku japońskim tekst może być wyświetlany w porządek lub kursor tekstu może zostać nieoczekiwanie poruszany w aplikacjach, które używają zestawu znaków wielobajtowych (MBCS). Ten problem dotyczy japońskich wiadomości błyskawicznych firmy Microsoft i japońskich wiadomości błyskawicznych innych firm. 17 stycznia 2022 r. — KB5010793 Wprowadzone zmiany wyróżnione przez firmę Microsoft: Aktualizuje znany problem, który wpływa na połączenia VPN . Usunięto problem, który powoduje nieoczekiwane ponowne uruchomienie w kontrolerach domeny Windows Server. Aktualne ceny w sklepach Laptop HP HP Spectre 14 x360 3:2 i7-1165G7 16GB 1TB SSD W10 5 999 zł Laptop HP Spectre x360 14-ea0037nw 13.5\" IPS i7-1165G7 16GB SSD 1TB Windows 10... 7 299 zł Spectre x360 Convertible 14-ea0061nw Laptop/Tablet 2w1 HP 7 999 zł HP Spectre x360 14-ea0005nw OLED 13,5'' Intel Core i7-1165G7 - 16GB RAM - 1TB... 8 199 zł HP Spectre x360 14-ea0005nw OLED 13,5'' Intel Core i7-1165G7 - 16GB RAM - 1TB... 8 199 zł HP Spectre x360 14-ea0001ng (13,5 cala/3 K2 K OLED Touch) laptop 2 w 1 (Intel... ~8 890 zł\n",
      "when_published:\n",
      "  2022-01-19 17:08:00\n"
     ]
    }
   ],
   "source": [
    "print(f'title:\\n  {pcworld_dataframe.iloc[5][\"title\"]}')\n",
    "print(f'lead_text:\\n  {pcworld_dataframe.iloc[5][\"lead_text\"]}')\n",
    "print(f'link:\\n  {pcworld_dataframe.iloc[5][\"link\"]}')\n",
    "print(f'text:\\n  {pcworld_dataframe.iloc[5][\"text\"]}')\n",
    "print(f'when_published:\\n  {pcworld_dataframe.iloc[5][\"when_published\"]}')"
   ],
   "metadata": {
    "collapsed": false,
    "pycharm": {
     "name": "#%%\n"
    }
   }
  },
  {
   "cell_type": "code",
   "execution_count": 15,
   "outputs": [],
   "source": [],
   "metadata": {
    "collapsed": false,
    "pycharm": {
     "name": "#%%\n"
    }
   }
  }
 ],
 "metadata": {
  "kernelspec": {
   "display_name": "Python 3",
   "language": "python",
   "name": "python3"
  },
  "language_info": {
   "codemirror_mode": {
    "name": "ipython",
    "version": 2
   },
   "file_extension": ".py",
   "mimetype": "text/x-python",
   "name": "python",
   "nbconvert_exporter": "python",
   "pygments_lexer": "ipython2",
   "version": "2.7.6"
  }
 },
 "nbformat": 4,
 "nbformat_minor": 0
}