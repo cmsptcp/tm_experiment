{
 "cells": [
  {
   "cell_type": "markdown",
   "metadata": {
    "collapsed": true,
    "pycharm": {
     "name": "#%% md\n"
    }
   },
   "source": [
    "Pobieranie wiadomości z niebezpiecznik.pl Zapis do pliku ./data/niebezpiecznik_{timestamp}.txt"
   ]
  },
  {
   "cell_type": "code",
   "execution_count": null,
   "outputs": [],
   "source": [],
   "metadata": {
    "collapsed": false,
    "pycharm": {
     "name": "#%%\n"
    }
   }
  },
  {
   "cell_type": "code",
   "execution_count": 1,
   "outputs": [],
   "source": [
    "# ! pip install bs4\n",
    "# ! pip install requests\n",
    "# ! pip install tqdm\n",
    "# ! pip install pandas\n",
    "# ! pip install pyarrow\n",
    "# ! pip install qgrid\n",
    "# ! pip install blaze\n",
    "# ! pip install ipynbname"
   ],
   "metadata": {
    "collapsed": false,
    "pycharm": {
     "name": "#%%\n"
    }
   }
  },
  {
   "cell_type": "code",
   "execution_count": 2,
   "outputs": [],
   "source": [
    "import requests\n",
    "from bs4 import BeautifulSoup\n",
    "from tqdm import tqdm, trange\n",
    "from datetime import datetime, timezone\n",
    "from common.webarticle import WebArticle\n",
    "from common.pl_helper import PolishLocaleHelper\n",
    "import pandas as pd\n",
    "import logging\n",
    "import ipynbname"
   ],
   "metadata": {
    "collapsed": false,
    "pycharm": {
     "name": "#%%\n"
    }
   }
  },
  {
   "cell_type": "code",
   "execution_count": 3,
   "outputs": [],
   "source": [
    "# settings:\n",
    "portal_name = 'niebezpiecznik'\n",
    "website = 'https://niebezpiecznik.pl'\n",
    "pagination_attributes = '/page/'\n",
    "no_articles_to_scrap = 300\n",
    "data_dir = '../data'\n",
    "logging.basicConfig(\n",
    "    filename=f'../logs/{ipynbname.name()}.ipynb.log',\n",
    "    encoding='utf-8',\n",
    "    level=logging.DEBUG\n",
    ")\n",
    "ignored_paragraph_starts = []"
   ],
   "metadata": {
    "collapsed": false,
    "pycharm": {
     "name": "#%%\n"
    }
   }
  },
  {
   "cell_type": "markdown",
   "source": [
    "Sprawdźmy plik robots.txt, w czasie pisania tego kodu pozwalał na pobieranie plików z portalu niebezpiecznik"
   ],
   "metadata": {
    "collapsed": false
   }
  },
  {
   "cell_type": "code",
   "execution_count": 4,
   "outputs": [
    {
     "name": "stdout",
     "output_type": "stream",
     "text": [
      "Sitemap: https://niebezpiecznik.pl/sitemap.xml\n",
      "\n",
      "\n"
     ]
    }
   ],
   "source": [
    "resp = requests.get('https://www.niebezpiecznik.pl/robots.txt')\n",
    "print(resp.text)"
   ],
   "metadata": {
    "collapsed": false,
    "pycharm": {
     "name": "#%%\n"
    }
   }
  },
  {
   "cell_type": "code",
   "execution_count": 5,
   "outputs": [],
   "source": [
    "def check_if_ignored_paragraph(text, ignored_paragraphs, operation='startswith'):\n",
    "\n",
    "    for ignored_paragraph in ignored_paragraphs:\n",
    "        if operation == 'startswith':\n",
    "            if text.startswith(ignored_paragraph):\n",
    "                return True\n",
    "        else:\n",
    "            logging.debug(f'check_if_ignored: operation {operation} not implemented')\n",
    "    return False\n"
   ],
   "metadata": {
    "collapsed": false,
    "pycharm": {
     "name": "#%%\n"
    }
   }
  },
  {
   "cell_type": "code",
   "execution_count": 6,
   "outputs": [],
   "source": [
    "def scrap_article_text_niebezpiecznik(link):\n",
    "    logging.info('scrap_article_text_niebezpiecznik:')\n",
    "    logging.info(f'article link to scrap: {link}')\n",
    "\n",
    "    page = requests.get(link)\n",
    "    if page.status_code != 200:\n",
    "        logging.debug(f'received status code: {page.status_code}')\n",
    "        return '', ''\n",
    "\n",
    "    soup = BeautifulSoup(page.content, 'html.parser')\n",
    "    paragraphs = soup.find('div', class_='entry').find_all('p')\n",
    "\n",
    "    text = ''\n",
    "    lead_text_int = '' # there is no internal lead text in Niebezpiecznik posts\n",
    "\n",
    "    for paragraph in paragraphs:\n",
    "        paragraph_text = paragraph.get_text().strip()\n",
    "        if check_if_ignored_paragraph(paragraph_text, ignored_paragraph_starts):\n",
    "            continue\n",
    "        text += paragraph_text + ' '\n",
    "\n",
    "    #13:27\\n27/6/2019\n",
    "    time_string = soup.find('div', class_='post').find('div', class_='date').get_text().strip()\n",
    "    when_published = datetime.strptime(time_string, \"%H:%M\\n%d/%m/%Y\")\n",
    "\n",
    "    title_int = soup.find('div', class_='title').find('h2').get_text().strip()\n",
    "\n",
    "    author_string = soup.find('div', class_='title').find('div', class_='postmeta').get_text(strip=True)\n",
    "    author = author_string.split('|')[0].replace('Autor: ','')\n",
    "    source = ''\n",
    "\n",
    "    return text, when_published, title_int, lead_text_int, author, source"
   ],
   "metadata": {
    "collapsed": false,
    "pycharm": {
     "name": "#%%\n"
    }
   }
  },
  {
   "cell_type": "code",
   "execution_count": 7,
   "outputs": [],
   "source": [
    "def scrap_articles_niebezpiecznik(website):\n",
    "    logging.info('scrap_articles_niebezpiecznik:')\n",
    "    logging.info(f'page with articles to scrap: {website}')\n",
    "\n",
    "    result = list()\n",
    "    page = requests.get(website)\n",
    "    if page.status_code != 200:\n",
    "        logging.debug(f'received status code: {page.status_code}')\n",
    "        return result\n",
    "\n",
    "    soup = BeautifulSoup(page.content, 'html.parser')\n",
    "    page_content = soup.find('div',id='main').find_all('div',class_='post')\n",
    "\n",
    "    print(f'articles to scrap: {len(page_content)}')\n",
    "\n",
    "    for article in page_content:\n",
    "\n",
    "        logging.info(f\"article scrapping started: {article}\")\n",
    "        title = article.find('div',class_='title').find('h2').get_text().strip()\n",
    "        lead_text = article.find('div', class_='entry').get_text().strip()\n",
    "        link = article.find('div', class_='title').find('a', href=True, rel='bookmark')['href']\n",
    "        webart = WebArticle(title, lead_text, link, *scrap_article_text_niebezpiecznik(link),portal_name)\n",
    "        logging.info(f'webarticle scrapped: {webart}')\n",
    "        result.append(webart)\n",
    "\n",
    "    return result"
   ],
   "metadata": {
    "collapsed": false,
    "pycharm": {
     "name": "#%%\n"
    }
   }
  },
  {
   "cell_type": "code",
   "execution_count": 8,
   "outputs": [
    {
     "name": "stderr",
     "output_type": "stream",
     "text": [
      "  0%|          | 0/300 [00:00<?, ?it/s]"
     ]
    },
    {
     "name": "stdout",
     "output_type": "stream",
     "text": [
      "articles to scrap: 20\n"
     ]
    },
    {
     "name": "stderr",
     "output_type": "stream",
     "text": [
      "  7%|▋         | 20/300 [00:11<02:45,  1.69it/s]"
     ]
    },
    {
     "name": "stdout",
     "output_type": "stream",
     "text": [
      "articles to scrap: 20\n"
     ]
    },
    {
     "name": "stderr",
     "output_type": "stream",
     "text": [
      " 13%|█▎        | 40/300 [00:21<02:19,  1.87it/s]"
     ]
    },
    {
     "name": "stdout",
     "output_type": "stream",
     "text": [
      "articles to scrap: 20\n"
     ]
    },
    {
     "name": "stderr",
     "output_type": "stream",
     "text": [
      " 20%|██        | 60/300 [00:31<02:02,  1.96it/s]"
     ]
    },
    {
     "name": "stdout",
     "output_type": "stream",
     "text": [
      "articles to scrap: 20\n"
     ]
    },
    {
     "name": "stderr",
     "output_type": "stream",
     "text": [
      " 27%|██▋       | 80/300 [00:41<01:50,  2.00it/s]"
     ]
    },
    {
     "name": "stdout",
     "output_type": "stream",
     "text": [
      "articles to scrap: 20\n"
     ]
    },
    {
     "name": "stderr",
     "output_type": "stream",
     "text": [
      " 33%|███▎      | 100/300 [00:51<01:40,  1.99it/s]"
     ]
    },
    {
     "name": "stdout",
     "output_type": "stream",
     "text": [
      "articles to scrap: 20\n"
     ]
    },
    {
     "name": "stderr",
     "output_type": "stream",
     "text": [
      " 40%|████      | 120/300 [01:01<01:31,  1.97it/s]"
     ]
    },
    {
     "name": "stdout",
     "output_type": "stream",
     "text": [
      "articles to scrap: 20\n"
     ]
    },
    {
     "name": "stderr",
     "output_type": "stream",
     "text": [
      " 47%|████▋     | 140/300 [01:12<01:22,  1.93it/s]"
     ]
    },
    {
     "name": "stdout",
     "output_type": "stream",
     "text": [
      "articles to scrap: 20\n"
     ]
    },
    {
     "name": "stderr",
     "output_type": "stream",
     "text": [
      " 53%|█████▎    | 160/300 [01:21<01:09,  2.01it/s]"
     ]
    },
    {
     "name": "stdout",
     "output_type": "stream",
     "text": [
      "articles to scrap: 20\n"
     ]
    },
    {
     "name": "stderr",
     "output_type": "stream",
     "text": [
      " 60%|██████    | 180/300 [01:31<00:59,  2.03it/s]"
     ]
    },
    {
     "name": "stdout",
     "output_type": "stream",
     "text": [
      "articles to scrap: 20\n"
     ]
    },
    {
     "name": "stderr",
     "output_type": "stream",
     "text": [
      " 67%|██████▋   | 200/300 [01:40<00:48,  2.05it/s]"
     ]
    },
    {
     "name": "stdout",
     "output_type": "stream",
     "text": [
      "articles to scrap: 20\n"
     ]
    },
    {
     "name": "stderr",
     "output_type": "stream",
     "text": [
      " 73%|███████▎  | 220/300 [01:49<00:38,  2.08it/s]"
     ]
    },
    {
     "name": "stdout",
     "output_type": "stream",
     "text": [
      "articles to scrap: 20\n"
     ]
    },
    {
     "name": "stderr",
     "output_type": "stream",
     "text": [
      " 80%|████████  | 240/300 [02:00<00:30,  2.00it/s]"
     ]
    },
    {
     "name": "stdout",
     "output_type": "stream",
     "text": [
      "articles to scrap: 20\n"
     ]
    },
    {
     "name": "stderr",
     "output_type": "stream",
     "text": [
      " 87%|████████▋ | 260/300 [02:12<00:20,  1.93it/s]"
     ]
    },
    {
     "name": "stdout",
     "output_type": "stream",
     "text": [
      "articles to scrap: 20\n"
     ]
    },
    {
     "name": "stderr",
     "output_type": "stream",
     "text": [
      " 93%|█████████▎| 280/300 [02:20<00:09,  2.02it/s]"
     ]
    },
    {
     "name": "stdout",
     "output_type": "stream",
     "text": [
      "articles to scrap: 20\n"
     ]
    },
    {
     "name": "stderr",
     "output_type": "stream",
     "text": [
      "100%|██████████| 300/300 [02:29<00:00,  2.01it/s]\n"
     ]
    }
   ],
   "source": [
    "no_scrapped_articles = 0\n",
    "page_no=1\n",
    "scrapped_articles = list()\n",
    "\n",
    "logging.info(f'no_articles_to_scrap: {no_articles_to_scrap}')\n",
    "\n",
    "pbar = tqdm(total=no_articles_to_scrap)\n",
    "while no_scrapped_articles < no_articles_to_scrap:\n",
    "    logging.info('next page: '+website+pagination_attributes+str(page_no))\n",
    "    new_articles = scrap_articles_niebezpiecznik(website+pagination_attributes+str(page_no))\n",
    "    page_size = len(new_articles)\n",
    "    logging.info(f'new_articles: {page_size}')\n",
    "    if no_scrapped_articles + page_size > no_articles_to_scrap:\n",
    "        page_size = no_articles_to_scrap - no_scrapped_articles\n",
    "    scrapped_articles.extend(new_articles[:page_size])\n",
    "    logging.info(f'scrapped new articles: {page_size}')\n",
    "    no_scrapped_articles += page_size\n",
    "    pbar.update(page_size)\n",
    "    logging.info(f'no_scrapped_articles (total): {no_scrapped_articles}')\n",
    "    page_no += 1\n",
    "    if len(scrapped_articles) <= 0:\n",
    "        logging.debug(f'0 articles scrapped!')\n",
    "        break\n",
    "pbar.close()"
   ],
   "metadata": {
    "collapsed": false,
    "pycharm": {
     "name": "#%%\n"
    }
   }
  },
  {
   "cell_type": "code",
   "execution_count": 9,
   "outputs": [
    {
     "name": "stderr",
     "output_type": "stream",
     "text": [
      "100%|██████████| 300/300 [00:00<00:00, 33228.35it/s]"
     ]
    },
    {
     "name": "stdout",
     "output_type": "stream",
     "text": [
      "0: 5395\n",
      "1: 1883\n",
      "2: 8410\n",
      "3: 1935\n",
      "4: 5832\n",
      "5: 4992\n",
      "6: 1541\n",
      "7: 1269\n",
      "8: 4943\n",
      "9: 4050\n",
      "10: 5118\n",
      "11: 11249\n",
      "12: 10131\n",
      "13: 2363\n",
      "14: 740\n",
      "15: 2452\n",
      "16: 16551\n",
      "17: 6441\n",
      "18: 2494\n",
      "19: 500\n",
      "20: 4343\n",
      "21: 2866\n",
      "22: 4337\n",
      "23: 986\n",
      "24: 2641\n",
      "25: 19112\n",
      "26: 2847\n",
      "27: 1388\n",
      "28: 1281\n",
      "29: 10125\n",
      "30: 4922\n",
      "31: 5996\n",
      "32: 3556\n",
      "33: 7674\n",
      "34: 2076\n",
      "35: 18395\n",
      "36: 2019\n",
      "37: 6570\n",
      "38: 4542\n",
      "39: 2314\n",
      "40: 1346\n",
      "41: 2594\n",
      "42: 3899\n",
      "43: 2327\n",
      "44: 2305\n",
      "45: 3168\n",
      "46: 3504\n",
      "47: 8791\n",
      "48: 5006\n",
      "49: 4270\n",
      "50: 1893\n",
      "51: 1866\n",
      "52: 4841\n",
      "53: 5517\n",
      "54: 5552\n",
      "55: 8414\n",
      "56: 4425\n",
      "57: 1970\n",
      "58: 6883\n",
      "59: 3122\n",
      "60: 15717\n",
      "61: 3178\n",
      "62: 1403\n",
      "63: 9015\n",
      "64: 3278\n",
      "65: 984\n",
      "66: 921\n",
      "67: 12812\n",
      "68: 1960\n",
      "69: 5589\n",
      "70: 6194\n",
      "71: 3846\n",
      "72: 1463\n",
      "73: 4101\n",
      "74: 2264\n",
      "75: 1383\n",
      "76: 7661\n",
      "77: 1223\n",
      "78: 9460\n",
      "79: 1054\n",
      "80: 11167\n",
      "81: 8384\n",
      "82: 18599\n",
      "83: 5439\n",
      "84: 2178\n",
      "85: 2407\n",
      "86: 14236\n",
      "87: 8756\n",
      "88: 2633\n",
      "89: 2629\n",
      "90: 3412\n",
      "91: 6609\n",
      "92: 3893\n",
      "93: 1849\n",
      "94: 5682\n",
      "95: 2100\n",
      "96: 8605\n",
      "97: 7118\n",
      "98: 2078\n",
      "99: 2482\n",
      "100: 17881\n",
      "101: 1449\n",
      "102: 3925\n",
      "103: 5916\n",
      "104: 7035\n",
      "105: 4331\n",
      "106: 3345\n",
      "107: 1885\n",
      "108: 3876\n",
      "109: 2461\n",
      "110: 15938\n",
      "111: 4287\n",
      "112: 2054\n",
      "113: 1594\n",
      "114: 2164\n",
      "115: 8095\n",
      "116: 2002\n",
      "117: 2629\n",
      "118: 7122\n",
      "119: 6048\n",
      "120: 12826\n",
      "121: 1653\n",
      "122: 2015\n",
      "123: 8280\n",
      "124: 1027\n",
      "125: 3492\n",
      "126: 13418\n",
      "127: 1264\n",
      "128: 3060\n",
      "129: 6200\n",
      "130: 6013\n",
      "131: 2461\n",
      "132: 3530\n",
      "133: 11479\n",
      "134: 2123\n",
      "135: 4065\n",
      "136: 2230\n",
      "137: 8834\n",
      "138: 6457\n",
      "139: 3327\n",
      "140: 2061\n",
      "141: 2562\n",
      "142: 1425\n",
      "143: 6065\n",
      "144: 2163\n",
      "145: 8889\n",
      "146: 1144\n",
      "147: 623\n",
      "148: 1958\n",
      "149: 4692\n",
      "150: 8364\n",
      "151: 3931\n",
      "152: 5515\n",
      "153: 3436\n",
      "154: 3263\n",
      "155: 2905\n",
      "156: 8881\n",
      "157: 6581\n",
      "158: 2319\n",
      "159: 10272\n",
      "160: 6513\n",
      "161: 6130\n",
      "162: 13894\n",
      "163: 1242\n",
      "164: 2610\n",
      "165: 4198\n",
      "166: 3579\n",
      "167: 6099\n",
      "168: 1913\n",
      "169: 9870\n",
      "170: 16828\n",
      "171: 4540\n",
      "172: 2502\n",
      "173: 6336\n",
      "174: 15096\n",
      "175: 2964\n",
      "176: 6324\n",
      "177: 1645\n",
      "178: 10687\n",
      "179: 1887\n",
      "180: 2692\n",
      "181: 5049\n",
      "182: 16485\n",
      "183: 1586\n",
      "184: 4071\n",
      "185: 2707\n",
      "186: 12073\n",
      "187: 3790\n",
      "188: 3932\n",
      "189: 2128\n",
      "190: 1699\n",
      "191: 6056\n",
      "192: 1591\n",
      "193: 5594\n",
      "194: 5438\n",
      "195: 5971\n",
      "196: 6302\n",
      "197: 10515\n",
      "198: 5759\n",
      "199: 4355\n",
      "200: 5961\n",
      "201: 7394\n",
      "202: 2584\n",
      "203: 4006\n",
      "204: 4634\n",
      "205: 3337\n",
      "206: 3053\n",
      "207: 10112\n",
      "208: 3173\n",
      "209: 6823\n",
      "210: 383\n",
      "211: 7477\n",
      "212: 1385\n",
      "213: 12193\n",
      "214: 6310\n",
      "215: 14343\n",
      "216: 2305\n",
      "217: 4800\n",
      "218: 1310\n",
      "219: 2689\n",
      "220: 4903\n",
      "221: 2789\n",
      "222: 1242\n",
      "223: 3566\n",
      "224: 5276\n",
      "225: 7178\n",
      "226: 4529\n",
      "227: 6238\n",
      "228: 8247\n",
      "229: 4565\n",
      "230: 4901\n",
      "231: 1720\n",
      "232: 4316\n",
      "233: 909\n",
      "234: 4164\n",
      "235: 1713\n",
      "236: 3997\n",
      "237: 4494\n",
      "238: 4809\n",
      "239: 7815\n",
      "240: 3051\n",
      "241: 1545\n",
      "242: 5988\n",
      "243: 4138\n",
      "244: 6355\n",
      "245: 7689\n",
      "246: 8048\n",
      "247: 5790\n",
      "248: 15645\n",
      "249: 2926\n",
      "250: 2027\n",
      "251: 1135\n",
      "252: 4929\n",
      "253: 4239\n",
      "254: 3902\n",
      "255: 6313\n",
      "256: 1128\n",
      "257: 8755\n",
      "258: 30556\n",
      "259: 1633\n",
      "260: 2792\n",
      "261: 3198\n",
      "262: 4624\n",
      "263: 5732\n",
      "264: 10726\n",
      "265: 18781\n",
      "266: 7893\n",
      "267: 1761\n",
      "268: 1267\n",
      "269: 2146\n",
      "270: 5634\n",
      "271: 4281\n",
      "272: 2952\n",
      "273: 1845\n",
      "274: 8540\n",
      "275: 4051\n",
      "276: 5388\n",
      "277: 3534\n",
      "278: 2286\n",
      "279: 3625\n",
      "280: 10942\n",
      "281: 2826\n",
      "282: 4218\n",
      "283: 3749\n",
      "284: 10980\n",
      "285: 1429\n",
      "286: 1376\n",
      "287: 6116\n",
      "288: 7563\n",
      "289: 4547\n",
      "290: 580\n",
      "291: 1377\n",
      "292: 5343\n",
      "293: 2159\n",
      "294: 2470\n",
      "295: 6122\n",
      "296: 7335\n",
      "297: 3574\n",
      "298: 755\n",
      "299: 1782\n"
     ]
    },
    {
     "name": "stderr",
     "output_type": "stream",
     "text": [
      "\n"
     ]
    }
   ],
   "source": [
    "for i in trange(len(scrapped_articles)):\n",
    "    # print(f'{i}: {scrapped_articles[i].lead_text}')\n",
    "    print(f'{i}: {len(scrapped_articles[i].text)}')"
   ],
   "metadata": {
    "collapsed": false,
    "pycharm": {
     "name": "#%%\n"
    }
   }
  },
  {
   "cell_type": "code",
   "execution_count": 10,
   "outputs": [
    {
     "data": {
      "text/plain": "                                                 title  \\\n0    📌 OSINT (Biały Wywiad) czyli techniki pozyskiw...   \n1    Prokuratura szuka poszkodowanych w scamie na KGHM   \n2      Jak poważny jest “gigantyczny wyciek z wojska”?   \n3    Ostrzeżenie dla polskich firm utrzymujących ko...   \n4    [AKTUALIZACJA] Ktoś chciał nas wplątać w cyber...   \n..                                                 ...   \n295  Uwaga na \"pożyczki przez internet\". 2 przykład...   \n296  Czy polskie firmy są gotowe na bezpieczną prac...   \n297  Phishing i steganografia w interesującym ataku...   \n298                       Sklep Niebezpiecznika ruszył   \n299  [AKTUALIZACJA #2] Internetowe Forum Policji zh...   \n\n                                             title_int  \\\n0    📌 OSINT (Biały Wywiad) czyli techniki pozyskiw...   \n1    Prokuratura szuka poszkodowanych w scamie na KGHM   \n2      Jak poważny jest “gigantyczny wyciek z wojska”?   \n3    Ostrzeżenie dla polskich firm utrzymujących ko...   \n4    [AKTUALIZACJA] Ktoś chciał nas wplątać w cyber...   \n..                                                 ...   \n295  Uwaga na \"pożyczki przez internet\". 2 przykład...   \n296  Czy polskie firmy są gotowe na bezpieczną prac...   \n297  Phishing i steganografia w interesującym ataku...   \n298                       Sklep Niebezpiecznika ruszył   \n299  [AKTUALIZACJA #2] Internetowe Forum Policji zh...   \n\n                                             lead_text lead_text_int  \\\n0    Na konferencji CONFidence, w trakcie swojego w...                 \n1    Pół roku temu opisaliśmy przekręt \"na Orlen\". ...                 \n2    W piątek Onet poinformował o \"gigantycznym wyc...                 \n3    Na komputerach wielu organizacji non-profitowy...                 \n4    Wczorajszy dzień obfitował w informacje dotycz...                 \n..                                                 ...           ...   \n295  W czasach zarazy ludzie potrzebują pieniędzy. ...                 \n296  Aktualna sytuacja na świecie wymusiła na wielu...                 \n297  Przestępcy bywają kreatywni czego dowodem są a...                 \n298  Co to dużo pisać. Sporo osób przez lata męczył...                 \n299  Halo, policja, proszę przyjechać na Internetow...                 \n\n                                                  link  \\\n0    https://niebezpiecznik.pl/post/osint-bialy-wyw...   \n1    https://niebezpiecznik.pl/post/prokuratura-szu...   \n2    https://niebezpiecznik.pl/post/jak-powazny-jes...   \n3    https://niebezpiecznik.pl/post/ostrzezenie-pol...   \n4    https://niebezpiecznik.pl/post/ktos-chcial-nas...   \n..                                                 ...   \n295  https://niebezpiecznik.pl/post/uwaga-na-pozycz...   \n296  https://niebezpiecznik.pl/post/czy-polskie-fir...   \n297  https://niebezpiecznik.pl/post/phishing-i-steg...   \n298  https://niebezpiecznik.pl/post/sklep-niebezpie...   \n299  https://niebezpiecznik.pl/post/internetowe-for...   \n\n                                                  text      when_published  \\\n0    Na konferencji CONFidence, w trakcie swojego w... 2019-06-27 13:27:00   \n1     Pół roku temu opisaliśmy przekręt “na Orlen”.... 2022-01-17 13:26:00   \n2     W piątek Onet poinformował o “gigantycznym wy... 2022-01-16 19:10:00   \n3     Na komputerach wielu organizacji non-profitow... 2022-01-16 09:58:00   \n4     Wczorajszy dzień obfitował w informacje dotyc... 2022-01-15 11:49:00   \n..                                                 ...                 ...   \n295   W czasach zarazy ludzie potrzebują pieniędzy.... 2020-06-01 19:55:00   \n296   Aktualna sytuacja na świecie wymusiła na wiel... 2020-06-01 08:46:00   \n297   Przestępcy bywają kreatywni czego dowodem są ... 2020-05-29 12:03:00   \n298   Co to dużo pisać. Sporo osób przez lata męczy... 2020-05-27 23:11:00   \n299   Halo, policja, proszę przyjechać na Interneto... 2020-05-26 11:15:00   \n\n                    author source          portal  \n0                redakcja          niebezpiecznik  \n1                redakcja          niebezpiecznik  \n2                redakcja          niebezpiecznik  \n3    Autor:Piotr Konieczny         niebezpiecznik  \n4    Autor:Piotr Konieczny         niebezpiecznik  \n..                     ...    ...             ...  \n295            Marcin Maj          niebezpiecznik  \n296              redakcja          niebezpiecznik  \n297            Marcin Maj          niebezpiecznik  \n298              redakcja          niebezpiecznik  \n299              redakcja          niebezpiecznik  \n\n[300 rows x 10 columns]",
      "text/html": "<div>\n<style scoped>\n    .dataframe tbody tr th:only-of-type {\n        vertical-align: middle;\n    }\n\n    .dataframe tbody tr th {\n        vertical-align: top;\n    }\n\n    .dataframe thead th {\n        text-align: right;\n    }\n</style>\n<table border=\"1\" class=\"dataframe\">\n  <thead>\n    <tr style=\"text-align: right;\">\n      <th></th>\n      <th>title</th>\n      <th>title_int</th>\n      <th>lead_text</th>\n      <th>lead_text_int</th>\n      <th>link</th>\n      <th>text</th>\n      <th>when_published</th>\n      <th>author</th>\n      <th>source</th>\n      <th>portal</th>\n    </tr>\n  </thead>\n  <tbody>\n    <tr>\n      <th>0</th>\n      <td>📌 OSINT (Biały Wywiad) czyli techniki pozyskiw...</td>\n      <td>📌 OSINT (Biały Wywiad) czyli techniki pozyskiw...</td>\n      <td>Na konferencji CONFidence, w trakcie swojego w...</td>\n      <td></td>\n      <td>https://niebezpiecznik.pl/post/osint-bialy-wyw...</td>\n      <td>Na konferencji CONFidence, w trakcie swojego w...</td>\n      <td>2019-06-27 13:27:00</td>\n      <td>redakcja</td>\n      <td></td>\n      <td>niebezpiecznik</td>\n    </tr>\n    <tr>\n      <th>1</th>\n      <td>Prokuratura szuka poszkodowanych w scamie na KGHM</td>\n      <td>Prokuratura szuka poszkodowanych w scamie na KGHM</td>\n      <td>Pół roku temu opisaliśmy przekręt \"na Orlen\". ...</td>\n      <td></td>\n      <td>https://niebezpiecznik.pl/post/prokuratura-szu...</td>\n      <td>Pół roku temu opisaliśmy przekręt “na Orlen”....</td>\n      <td>2022-01-17 13:26:00</td>\n      <td>redakcja</td>\n      <td></td>\n      <td>niebezpiecznik</td>\n    </tr>\n    <tr>\n      <th>2</th>\n      <td>Jak poważny jest “gigantyczny wyciek z wojska”?</td>\n      <td>Jak poważny jest “gigantyczny wyciek z wojska”?</td>\n      <td>W piątek Onet poinformował o \"gigantycznym wyc...</td>\n      <td></td>\n      <td>https://niebezpiecznik.pl/post/jak-powazny-jes...</td>\n      <td>W piątek Onet poinformował o “gigantycznym wy...</td>\n      <td>2022-01-16 19:10:00</td>\n      <td>redakcja</td>\n      <td></td>\n      <td>niebezpiecznik</td>\n    </tr>\n    <tr>\n      <th>3</th>\n      <td>Ostrzeżenie dla polskich firm utrzymujących ko...</td>\n      <td>Ostrzeżenie dla polskich firm utrzymujących ko...</td>\n      <td>Na komputerach wielu organizacji non-profitowy...</td>\n      <td></td>\n      <td>https://niebezpiecznik.pl/post/ostrzezenie-pol...</td>\n      <td>Na komputerach wielu organizacji non-profitow...</td>\n      <td>2022-01-16 09:58:00</td>\n      <td>Autor:Piotr Konieczny</td>\n      <td></td>\n      <td>niebezpiecznik</td>\n    </tr>\n    <tr>\n      <th>4</th>\n      <td>[AKTUALIZACJA] Ktoś chciał nas wplątać w cyber...</td>\n      <td>[AKTUALIZACJA] Ktoś chciał nas wplątać w cyber...</td>\n      <td>Wczorajszy dzień obfitował w informacje dotycz...</td>\n      <td></td>\n      <td>https://niebezpiecznik.pl/post/ktos-chcial-nas...</td>\n      <td>Wczorajszy dzień obfitował w informacje dotyc...</td>\n      <td>2022-01-15 11:49:00</td>\n      <td>Autor:Piotr Konieczny</td>\n      <td></td>\n      <td>niebezpiecznik</td>\n    </tr>\n    <tr>\n      <th>...</th>\n      <td>...</td>\n      <td>...</td>\n      <td>...</td>\n      <td>...</td>\n      <td>...</td>\n      <td>...</td>\n      <td>...</td>\n      <td>...</td>\n      <td>...</td>\n      <td>...</td>\n    </tr>\n    <tr>\n      <th>295</th>\n      <td>Uwaga na \"pożyczki przez internet\". 2 przykład...</td>\n      <td>Uwaga na \"pożyczki przez internet\". 2 przykład...</td>\n      <td>W czasach zarazy ludzie potrzebują pieniędzy. ...</td>\n      <td></td>\n      <td>https://niebezpiecznik.pl/post/uwaga-na-pozycz...</td>\n      <td>W czasach zarazy ludzie potrzebują pieniędzy....</td>\n      <td>2020-06-01 19:55:00</td>\n      <td>Marcin Maj</td>\n      <td></td>\n      <td>niebezpiecznik</td>\n    </tr>\n    <tr>\n      <th>296</th>\n      <td>Czy polskie firmy są gotowe na bezpieczną prac...</td>\n      <td>Czy polskie firmy są gotowe na bezpieczną prac...</td>\n      <td>Aktualna sytuacja na świecie wymusiła na wielu...</td>\n      <td></td>\n      <td>https://niebezpiecznik.pl/post/czy-polskie-fir...</td>\n      <td>Aktualna sytuacja na świecie wymusiła na wiel...</td>\n      <td>2020-06-01 08:46:00</td>\n      <td>redakcja</td>\n      <td></td>\n      <td>niebezpiecznik</td>\n    </tr>\n    <tr>\n      <th>297</th>\n      <td>Phishing i steganografia w interesującym ataku...</td>\n      <td>Phishing i steganografia w interesującym ataku...</td>\n      <td>Przestępcy bywają kreatywni czego dowodem są a...</td>\n      <td></td>\n      <td>https://niebezpiecznik.pl/post/phishing-i-steg...</td>\n      <td>Przestępcy bywają kreatywni czego dowodem są ...</td>\n      <td>2020-05-29 12:03:00</td>\n      <td>Marcin Maj</td>\n      <td></td>\n      <td>niebezpiecznik</td>\n    </tr>\n    <tr>\n      <th>298</th>\n      <td>Sklep Niebezpiecznika ruszył</td>\n      <td>Sklep Niebezpiecznika ruszył</td>\n      <td>Co to dużo pisać. Sporo osób przez lata męczył...</td>\n      <td></td>\n      <td>https://niebezpiecznik.pl/post/sklep-niebezpie...</td>\n      <td>Co to dużo pisać. Sporo osób przez lata męczy...</td>\n      <td>2020-05-27 23:11:00</td>\n      <td>redakcja</td>\n      <td></td>\n      <td>niebezpiecznik</td>\n    </tr>\n    <tr>\n      <th>299</th>\n      <td>[AKTUALIZACJA #2] Internetowe Forum Policji zh...</td>\n      <td>[AKTUALIZACJA #2] Internetowe Forum Policji zh...</td>\n      <td>Halo, policja, proszę przyjechać na Internetow...</td>\n      <td></td>\n      <td>https://niebezpiecznik.pl/post/internetowe-for...</td>\n      <td>Halo, policja, proszę przyjechać na Interneto...</td>\n      <td>2020-05-26 11:15:00</td>\n      <td>redakcja</td>\n      <td></td>\n      <td>niebezpiecznik</td>\n    </tr>\n  </tbody>\n</table>\n<p>300 rows × 10 columns</p>\n</div>"
     },
     "execution_count": 10,
     "metadata": {},
     "output_type": "execute_result"
    }
   ],
   "source": [
    "niebezpiecznik_dataframe = pd.DataFrame(article.__dict__ for article in scrapped_articles)\n",
    "niebezpiecznik_dataframe"
   ],
   "metadata": {
    "collapsed": false,
    "pycharm": {
     "name": "#%%\n"
    }
   }
  },
  {
   "cell_type": "code",
   "execution_count": 11,
   "outputs": [],
   "source": [
    "timestamp = int((datetime.now(timezone.utc)).timestamp())"
   ],
   "metadata": {
    "collapsed": false,
    "pycharm": {
     "name": "#%%\n"
    }
   }
  },
  {
   "cell_type": "code",
   "execution_count": 12,
   "outputs": [],
   "source": [
    "niebezpiecznik_dataframe.to_parquet(f'{data_dir}/{portal_name}_{timestamp}.parquet')\n",
    "niebezpiecznik_dataframe.to_json(f'{data_dir}/{portal_name}_{timestamp}.json')"
   ],
   "metadata": {
    "collapsed": false,
    "pycharm": {
     "name": "#%%\n"
    }
   }
  },
  {
   "cell_type": "markdown",
   "source": [
    "Krótki test - dane pierwszego artykułu"
   ],
   "metadata": {
    "collapsed": false
   }
  },
  {
   "cell_type": "code",
   "execution_count": 13,
   "outputs": [
    {
     "name": "stdout",
     "output_type": "stream",
     "text": [
      "title:\n",
      "  📌 OSINT (Biały Wywiad) czyli techniki pozyskiwania informacji o ludziach i firmach\n",
      "lead_text:\n",
      "  Na konferencji CONFidence, w trakcie swojego wykładu, Piotrek zapowiedział start nowego niebezpiecznikowego szkolenia poświęconego tematyce OSINT-u (ang. Open Source Intelligence), czyli technikom pozyskiwania informacji na temat ludzi i firm na podstawie ogólniedostępnych (co nie znaczy, że zawsze publicznie dostępnych w internecie) źródeł. Miło nam zakomunikować, że właśnie ruszył nabór na pierwsze z terminów tego szkolenia! Czytaj dalej »\n",
      "124 komentarzy\n",
      "lead_text_int:\n",
      "  \n",
      "link:\n",
      "  https://niebezpiecznik.pl/post/osint-bialy-wywiad-czyli-techniki-pozyskiwania-informacji-o-ludziach-i-firmach/\n",
      "text:\n",
      "  Na konferencji CONFidence, w trakcie swojego wykładu, Piotrek zapowiedział start nowego niebezpiecznikowego szkolenia poświęconego tematyce OSINT-u (ang. Open Source Intelligence), czyli technikom pozyskiwania informacji na temat ludzi i firm na podstawie ogólniedostępnych (co nie znaczy, że zawsze publicznie dostępnych w internecie) źródeł. Miło nam zakomunikować, że właśnie ruszył nabór na pierwsze z terminów tego szkolenia!  Nasze szkolenie z OSINT jest idealne nie tylko dla prywatnych detektywów czy analityków pracujących w organach ścigania, służbach specjalnych lub prokuraturze. Ta wiedza przyda się każdemu kogo praca polega na wyszukiwaniu informacji, czyli headhunterom/rekruterom, ubezpieczycielom, prawnikom i dziennikarzom lub komornikom a także miłośnikom prywatności, aby wiedzieli jakich błędów nie popełniać korzystając z internetu, czy kupując dom. Tak, tak — nawet taka offline’owa transakcja jak zakup nieruchomości może nas mocno wystawić na sprofilowanie. W końcu dane na temat osób pozyskiwać można nie tylko z baz w internecie czy rejestrów państwowych. Istnieje wiele off-line’owych zbiorów danych, do których — jeśli wie się jak — można dotrzeć i pozyskać cenne informacje na temat osób i firm. Nasze szkolenie, którego pełny tytuł brzmi “OSINT: zaawansowane pozyskiwanie szczegółowych informacji na temat ludzi i firm (nie tylko z internetu)” to tylko 1 dzień, ale zapakowany na maksa praktycznymi poradami dotyczącymi tego gdzie i jak szukać informacji. Nie tracimy czasu na mało istotne kwestie teoretyczne typu “czym jest OSINT?”. Od razu przechodzimy do praktyki ucząc konkretnych technik służących do zdobywania informacji na temat “celu” (osoby lub firmy) z setek publicznych i niepublicznych źródeł. Pokazujemy też dziesiątki narzędzi, z których można skorzystać aby sobie te poszukiwania (i późniejszą analizę danych) ułatwić.  Oto niektóre z zagadnień, jakie będziemy poruszać w trakcie szkolenia: Z pełną agendą szkolenia możecie się zapoznać na dedykowanej mu stronie. Dane o firmach i osobach ekipa Niebezpiecznik pozyskuje od ponad 12 lat, zarówno na potrzeby pracy redaktorskiej jak i w ramach wykonywanych przez testów penetracyjnych. To gwarancja tego, że szkolenie nasycone jest wieloma niedostępnymi nigdzie indziej autorskimi trickami i technikami, które często pozwolą ujawnić więcej, sprytniej i szybciej. Szkolenie “OSINT: zaawansowane techniki pozyskiwania informacji na temat ludzi i firm (nie tylko z internetu)” jest idealne dla:  Aktualizacja 27.06.2019, 16:30\n",
      "No tego się nie spodziewaliśmy. Pierwszy termin szkolenia wyprzedał się w 2 godziny od publikacji tego artykułu. Dlatego dorzuciliśmy kolejne terminy, ale i te się wyprzedały błyskawicznie. Oto nadchodzące, na bieżąco aktualizowane terminy tego szkolenia, na które wciąż jeszcze są miejsca: ZDALNIE: 22 stycznia 2022r. — UWAGA: zostały  tylko 3 wolne miejsca\n",
      "Ostatnio ktoś zarejestrował się 18 stycznia 2022r. → zarejestruj się na to szkolenie ZDALNIE: 27 stycznia 2022r. — UWAGA: zostały  tylko 4 wolne miejsca\n",
      "Ostatnio ktoś zarejestrował się 18 stycznia 2022r. → zarejestruj się na to szkolenie Warszawa: 15 lutego 2022r. — UWAGA: zostały  tylko 4 wolne miejsca\n",
      "Ostatnio ktoś zarejestrował się 18 stycznia 2022r. → zarejestruj się na to szkolenie Kraków: 17 lutego 2022r. — zostało 6 wolnych miejsc\n",
      "Ostatnio ktoś zarejestrował się 17 stycznia 2022r. → zarejestruj się na to szkolenie Poznań: 22 lutego 2022r. — zostało 9 wolnych miejsc\n",
      "Ostatnio ktoś zarejestrował się 19 stycznia 2022r. → zarejestruj się na to szkolenie Wrocław: 04 marca 2022r. — zostało 7 wolnych miejsc\n",
      "Ostatnio ktoś zarejestrował się 16 stycznia 2022r. → zarejestruj się na to szkolenie ZDALNIE: 08 marca 2022r. — zostało 9 wolnych miejsc\n",
      "Ostatnio ktoś zarejestrował się 19 stycznia 2022r. → zarejestruj się na to szkolenie ZDALNIE: 19 marca 2022r. — zostało 8 wolnych miejsc\n",
      "Ostatnio ktoś zarejestrował się 14 stycznia 2022r. → zarejestruj się na to szkolenie Liczba miejsc w każdej grupie jest ograniczona, więc kto pierwszy, ten lepszy! \n",
      " \n",
      "Do udziału w szkoleniu nie jest wymagana żadna wiedza wstępna (jeśli potrafisz korzystać z przeglądarki internetowej, dasz radę). Szkolenie ma formę interaktywnego wykładu przeplatanego demonstracjami technik wyszukiwania informacji i pokazami narzędzi. Możesz zabrać ze sobą laptopa (aby część z ćwiczeń wykonywać “ścigając się” z trenerem), ale nie jest on wymagany do udziału w szkoleniu.\n",
      "Nie pasuje Ci ten termin?\n",
      "Żaden problem — wpisz swojego e-maila poniżej, a otrzymasz o nas informację, kiedy otworzymy rejestrację na kolejne terminy tego szkolenia:\n",
      "\n",
      "\n",
      "\n",
      "Powiadom mnie o nowych terminach: Liczba miejsc w każdej grupie jest ograniczona, więc kto pierwszy, ten lepszy!  Żaden problem — wpisz swojego e-maila poniżej, a otrzymasz o nas informację, kiedy otworzymy rejestrację na kolejne terminy tego szkolenia:  Po szkoleniu każdy wychodzi nie tylko z potężną dawką wiedzy, ale również z zestawem ćwiczeń do wykonania w domu i dostępem do zamkniętej grupy absolwentów, w ramach której można wspólnie poruszać tematy związane z OSINT-em i pomagać sobie wzajemnie z analizą/ustalaniem informacji. Techniki i narzędzia wykorzystywane do OSINT-u często znikają tak szybko jak się rodzą, dlatego warto mieć grupę “wsparcia”, w której stale można aktualizować swoją wiedzę. Zainteresowany? Zapisz się już dziś na tej stronie — liczba miejsc jest ograniczona!  \n",
      "when_published:\n",
      "  2019-06-27 13:27:00\n"
     ]
    }
   ],
   "source": [
    "print(f'title:\\n  {niebezpiecznik_dataframe.iloc[0][\"title\"]}')\n",
    "print(f'lead_text:\\n  {niebezpiecznik_dataframe.iloc[0][\"lead_text\"]}')\n",
    "print(f'lead_text_int:\\n  {niebezpiecznik_dataframe.iloc[0][\"lead_text_int\"]}')\n",
    "print(f'link:\\n  {niebezpiecznik_dataframe.iloc[0][\"link\"]}')\n",
    "print(f'text:\\n  {niebezpiecznik_dataframe.iloc[0][\"text\"]}')\n",
    "print(f'when_published:\\n  {niebezpiecznik_dataframe.iloc[0][\"when_published\"]}')"
   ],
   "metadata": {
    "collapsed": false,
    "pycharm": {
     "name": "#%%\n"
    }
   }
  },
  {
   "cell_type": "code",
   "execution_count": 14,
   "outputs": [
    {
     "name": "stdout",
     "output_type": "stream",
     "text": [
      "title:\n",
      "  Webinar: Kontrola Urzędu Ochrony Danych Osobowych. Jak się przygotować? Co Ci grozi?\n",
      "lead_text:\n",
      "  Jeśli Twoja firma jeszcze nie zgłosiła żadnego naruszenia do UODO, to albo coś ukrywasz albo takie naruszenie przyjdzie Ci zgłosić do końca roku. Wycieki danych są obecnie na porządku dziennym i niestety, prędzej czy później dotkną każdej firmy... Oczywiście nie każde zgłoszenie wycieku do UODO zakończy się kontrolą, ale niektóre z nich mogą... \n",
      "Kontrola UODO to ... Czytaj dalej »\n",
      "6 komentarzy\n",
      "link:\n",
      "  https://niebezpiecznik.pl/post/webinar-kontrola-urzedu-ochrony-danych-osobowych-uodo/\n",
      "text:\n",
      "   Jeśli Twoja firma jeszcze nie zgłosiła żadnego naruszenia do UODO, to albo coś ukrywasz albo takie naruszenie przyjdzie Ci zgłosić do końca roku. Wycieki danych są obecnie na porządku dziennym i niestety, prędzej czy później dotkną każdej firmy… Oczywiście nie każde zgłoszenie wycieku do UODO zakończy się kontrolą, ale niektóre z nich mogą…  Kontrola UODO to dla wielu stresująca sytuacja, dlatego — wbrew pozorom — do takiej kontroli lepiej jest się przygotować wcześniej niż później… Odpowiedzi na te i inne pytania, a także szereg praktycznych, sprawdzonych w boju rad, które pozwolą Twojej firmie przejść kontrolę UODO bezboleśnie przekaże doskonale już Wam znany adwokat Michał Kluska z kancelarii DZP. ⏰ Webinar odbędzie się 27 maja o godz. 20:00 i potrwa godzinę (plus sesja Q&A). Wykup dostęp nawet jeśli ten termin Ci nie pasuje, bo spotkanie jest nagrywanie i z materiałem będzie można się zapoznać do końca miesiąca. Nie zwlekaj, bo cena promocyjnego biletu wzrasta o północy!  Oto skrócona agenda spotkania: Webinar poprowadzi adwokat Michał Kluska, który na co dzień pracuje w Kancelarii Domański Zakrzewski Palinka i od ponad 12 lat skupia się na tematyce ochrony danych osobowych. Obsługiwał kilkadziesiąt naruszeń i wymienił z Urzędem Ochrony Danych Osobowych niezliczoną liczbę pism w imieniu swoich klientów. Michał jest praktykiem z krwii i kości — wiedzę przekazuje przystępnie, jako wykładowca i prelegent branżowych konferencji. Oto kilka opinii z naszych poprzednich webinarów: Świetny wykładowca, zna temat i umie sprzedać swoją wiedzę. Przyjemnie się tego słuchało. Zanotowałem całą stronę A4 [a piszę drobnym drukiem] notatek Świetny WEBINAR! Najlepiej wydane pieniądze w ostatnim czasie z uwagi na czas, biorę udział w różnych webinarach. Ten był cały ciekawy, od początku do końca. Przejrzyście podane info, bez zadęcia z humorem i co najważniejsze z przykładami Aby zapisać się na wykład, kliknij na poniższy przycisk. Promocyjna cena, którą widzisz poniżej, obowiązuje tylko do północy, a potem rośnie.  Ten wykład zawiera wiedzę, której nie znajdziesz w książkach. To wieloletnie doświadczenie praktyka, dla którego sprawy związane z ochroną danych i kontrolami z nimi związanymi to chleb powszedni. Indywidualne konsultacje u Michała kosztują kilka razy więcej niż koszt udziału w tym wykładzie online. Więc nie przegap tej szansy i możliwości zadania mu swojego pytania podczas sesji pytań i odpowiedzi pod koniec wykładu — kup bilet już teraz!  \n",
      "when_published:\n",
      "  2021-05-21 11:25:00\n"
     ]
    }
   ],
   "source": [
    "print(f'title:\\n  {niebezpiecznik_dataframe.iloc[99][\"title\"]}')\n",
    "print(f'lead_text:\\n  {niebezpiecznik_dataframe.iloc[99][\"lead_text\"]}')\n",
    "print(f'link:\\n  {niebezpiecznik_dataframe.iloc[99][\"link\"]}')\n",
    "print(f'text:\\n  {niebezpiecznik_dataframe.iloc[99][\"text\"]}')\n",
    "print(f'when_published:\\n  {niebezpiecznik_dataframe.iloc[99][\"when_published\"]}')"
   ],
   "metadata": {
    "collapsed": false,
    "pycharm": {
     "name": "#%%\n"
    }
   }
  },
  {
   "cell_type": "code",
   "execution_count": 15,
   "outputs": [
    {
     "name": "stdout",
     "output_type": "stream",
     "text": [
      "title:\n",
      "  Nie wykorzystałeś budżetu szkoleniowego? Kup vouchery Niebezpiecznika na 2022\n",
      "title_int:\n",
      "  Nie wykorzystałeś budżetu szkoleniowego? Kup vouchery Niebezpiecznika na 2022\n",
      "lead_text:\n",
      "  Za chwilę koniec roku, a od stycznia nowy ład i nowe, wyższe ceny. Jeśli chciałbyś wziąć udział w naszych szkoleniach po starych cenach, ale grudniowe terminy Ci nie pasują, zachęcamy do zakupu vouchera, który będziesz mógł wykorzystać w 2022 roku (faktura zostanie wystawiona z datą zakupu). Vouchery nie są imienne, więc nie musisz z niego ... Czytaj dalej »\n",
      "1 komentarz\n",
      "lead_text_int:\n",
      "  \n",
      "link:\n",
      "  https://niebezpiecznik.pl/post/nie-wykorzystales-budzetu-szkoleniowego-kup-vouchery-niebezpiecznika-na-2022/\n",
      "text:\n",
      "   Za chwilę koniec roku, a od stycznia nowy ład i nowe, wyższe ceny. Jeśli chciałbyś wziąć udział w naszych szkoleniach po starych cenach, ale grudniowe terminy Ci nie pasują, zachęcamy do zakupu vouchera, który będziesz mógł wykorzystać w 2022 roku (faktura zostanie wystawiona z datą zakupu). Vouchery nie są imienne, więc nie musisz z niego skorzystać osobiście. Voucher możesz już zamówić jako prezent dla kogoś pod choinkę.  Vouchery można też kupić na nasze bestsellerowe szkolenia i cyberwykłady dla pracowników “nietechnicznych” podnoszące ich świadomość (nie)bezpieczeństwa w internecie. I to w każdej formie: Podsumowując, jeśli wciąż możesz wydać swój budżet szkoleniowy, ale musisz zrobić to w tym roku, kup nasz voucher. Opłacisz go w tym miesiącu i z bieżącą datą otrzymasz fakturę VAT. Voucher jest ważny przez cały 2022 rok i nie jest imienny, więc możesz go odstąpić innej osobie (to także dobry pomysł na prezent pod choinkę).  Vouchery są dostępne na każde szkolenie, które mamy w ofercie. Szkolenia w 2022 będziemy realizować zarówno w wariancie zdalnym (przez internet) jak i w wariancie stacjonarnym (w tych miastach: Warszawa, Kraków, Wrocław, Gdańsk, Poznań, Łódź) jeśli pozwolą na to przepisy epidemiczne. Pełną listę szkoleń znajdziesz na końcu naszego artykułu. Nie potrzebujesz vouchera i już teraz chcesz zapisać się na nasze szkolenie? Oto dostępne terminy: 2 dniowe szkolenie pokazujące jak poprawnie i kompleksowo przetestować serwis internetowy pod kątem bezpieczeństwa. Uczestnicy wykonują ataki własnoręcznie, włamując się na nasz testowy serwis internetowy, a potem uczą się jak poprawnie tworzyć webaplikacje i jakie zabezpieczenia mogą zaimplementować w kodzie oraz na serwerze, aby utrudnić życie atakującemu. Aż 80% szkolenia to praktyczne laboratoria. Prezentowane są zarówno techniki programistyczne jak i konkretne narzędzia ułatwiające ataki i ochronę przed nimi. To szkolenie to nasz bestseller. Uczestnicy (ostatnich kilku terminów) ocenili szkolenie na: 9,63/10. Nic dziwnego, szkolenie prowadzone jest przez osoby, które mają doświadczenie pentesterskie i w trakcie szkolenia ujawniają tajniki swojego warsztatu. ZDALNIE: 25-26 stycznia 2022r. — UWAGA: zostały  tylko 3 wolne miejsca\n",
      "Ostatnio ktoś zarejestrował się 13 stycznia 2022r. → zarejestruj się na to szkolenie Warszawa: 17-18 lutego 2022r. — zostało 6 wolnych miejsc\n",
      "Ostatnio ktoś zarejestrował się 19 stycznia 2022r. → zarejestruj się na to szkolenie Kraków: 22-23 lutego 2022r. — zostało 6 wolnych miejsc\n",
      "Ostatnio ktoś zarejestrował się 18 stycznia 2022r. → zarejestruj się na to szkolenie ZDALNIE: 15-16 marca 2022r. — zostało 6 wolnych miejsc\n",
      "Ostatnio ktoś zarejestrował się 14 stycznia 2022r. → zarejestruj się na to szkolenie Wrocław: 24-25 marca 2022r. — zostało 8 wolnych miejsc\n",
      "Ostatnio ktoś zarejestrował się 31 grudnia 2021r. → zarejestruj się na to szkolenie Gdańsk: 28-29 kwietnia 2022r. — zostało 9 wolnych miejsc\n",
      "Ostatnio ktoś zarejestrował się 31 grudnia 2021r. → zarejestruj się na to szkolenie    3 dniowe mocno praktyczne szkolenie. Dajemy na nim samo mięso. Otrzymasz wszystko, co jest potrzebne, aby samemu przeprowadzać testy penetracyjne i analizy pod kątem bezpieczeństwa swojej sieci i maszyn w niej się znajdujących — zgodnie z naszą zasadą: “minimum teorii, maksimum praktyki”.\n",
      "Wprowadzenie w świat pentestów, exploitów i narzędzi oraz moduł formalno-prawny, który może się przydać przy realizacji takich usług (lub ich zamawianiu) załatwiamy pierwszego dnia do lunchu. A potem zaczyna się prawdziwa jazda bez trzymanki! Do końca trzeciego dnia uczestnicy pracują w naszym labie, symulującym prawdziwą sieć firmową.\n",
      "Zadaniem uczestnika jest wykonanie testu penetracyjnego krok po kroku i zakończenie szkolenia ze zrootowanymi wszystkimi hostami (poprzez różne techniki i metody ataku), czyli posiadanie uprawnień administracyjnych i totalnej kontroli nad całym środowiskiem :) Ale to nie koniec — trzeba jeszcze (jak w życiu!) omijać pułapki zastawione przez administratora atakowanej sieci, a czasem zmodyfikować exploita, aby zadziałał (bez obaw, pokażemy jakie to czasem proste). Mocno stawiamy na realizm, a szkolenie prowadzą wspólnie Krzysztof Nowak i Piotr Konieczny, którzy od lat na zlecenie największych polskich i zagranicznych spółek wykonują testym penetracyjne i w trakcie szkolenia dzielą się historiami i problemami, które zdarzyły się naprawdę, a o których podręczniki do “hackingu” milczą.\n",
      "To szkolenie nauczy Cię technik penetracji, z których korzystają prawdziwi włamywacze, dzięki czemu będziesz wiedział jak i gdzie szukać śladów włamania oraz co zrobić, aby poprawnie zabezpieczyć swoją infrastrukturę przed atakami. Realizujemy je regularnie od ponad 8 lat i do tej pory przeszkoliliśmy ponad 3000 adminów, devopsów, ptesterów  a nawet programistów, którzy chcieli “wiedzieć więcej”.\n",
      "I moglibyśmy tak opisywać to szkolenie jeszcze długo, bo jesteśmy bardzo wkręceni w ten temat, ale oddajmy na chwilę głos uczestnikom ostatnich terminów — oto, co napisali w ankietach poszkoleniowych: Bardzo dobre szkolenie i mnóstwo dodatkowych materiałów, które spokojnie można czytać przez kolejne trzy miesiące ;) Dużo praktyki, która została wcześniej świetnie wytłumaczona. Przykłady z życia. Zdecydowanie polecam szkolenie/warsztaty Niebezpiecznika. Przyjemna i przystępna forma prowadzenia całości sprawia, że przez całe 3 dni człowiek się nie nudzi a ilość wiedzy jest jednocześnie obszerna i przyswajalna. Zdecydowanie podnosi świadomość w temacie bezpieczeństwa sieci. Podobała mi się forma prowadzenia, sposób przekazania wiedzy, krótkie ale treściwe wprowadzenie teoretyczne i później przystępnie poprowadzone warsztaty. Mocne nastawienie na praktykę. Dobrze się słucha ludzi, którzy znają się na tym o czym mówią. Przedstawiono dużo źródeł do dalszego samodzielnego kształcenia. Szkolenie bardzo profesjonalnie prowadzone. Trenerzy świetnie przygotowani, będący jednocześnie praktykami w przekazywanej wiedzy. Informacie przekazane w sposób zrozumiały dla każdego i dający wiele satysfakcji (zdobywanie kolejnych maszyn) Moja wiedza uległa dużemu zwiększeniu, dowiedziałem się jak naprawdę zabrać się do testów penetracyjnych. Dużo praktyki. Polecam. ZDALNIE: 26-28 stycznia 2022r. — UWAGA: zostały  tylko 3 wolne miejsca\n",
      "Ostatnio ktoś zarejestrował się 19 stycznia 2022r. → zarejestruj się na to szkolenie Warszawa: 23-25 lutego 2022r. — zostało 7 wolnych miejsc\n",
      "Ostatnio ktoś zarejestrował się 22 grudnia 2021r. → zarejestruj się na to szkolenie Kraków: 16-18 marca 2022r. — zostało 9 wolnych miejsc\n",
      "Ostatnio ktoś zarejestrował się 17 stycznia 2022r. → zarejestruj się na to szkolenie Wrocław: 11-13 maja 2022r. — zostało 8 wolnych miejsc\n",
      "Ostatnio ktoś zarejestrował się 03 stycznia 2022r. → zarejestruj się na to szkolenie   To szkolenie trwa tylko 1 dzień, ale jest on zapakowany na maksa praktycznymi poradami dotyczącymi tego gdzie i jak szukać informacji. Nie tracimy czasu na mało istotne kwestie teoretyczne typu “czym jest OSINT?”. Od razu przechodzimy do praktyki ucząc konkretnych technik służących do zdobywania informacji na temat “celu” (osoby lub firmy) z setek publicznych i niepublicznych źródeł. Pokazujemy też dziesiątki narzędzi, z których można skorzystać aby sobie te poszukiwania (i późniejszą analizę danych) ułatwić.\n",
      "Szkolenie jest idealne nie tylko dla prywatnych detektywów czy analityków pracujących w organach ścigania, służbach specjalnych lub prokuraturze. Ta wiedza przyda się każdemu kogo praca polega na wyszukiwaniu informacji, czyli headhunterom/rekruterom, ubezpieczycielom, prawnikom i dziennikarzom lub komornikom a także miłośnikom prywatności, aby wiedzieli jakich błędów nie popełniać korzystając z internetu, czy kupując dom.\n",
      "Techniki i narzędzia wykorzystywane do OSINT-u często znikają tak szybko jak się rodzą, dlatego warto mieć grupę “wsparcia”, w której stale można aktualizować swoją wiedzę. Stąd też, po tym szkoleniu wychodzisz od nas nie tylko z potężną dawką wiedzy, ale również z dostępem do zamkniętej grupy absolwentów, w ramach której można wspólnie poruszać tematy związane z OSINT-em i pomagać sobie wzajemnie z analizą/ustalaniem informacji.\n",
      "ZDALNIE: 22 stycznia 2022r. — UWAGA: zostały  tylko 3 wolne miejsca\n",
      "Ostatnio ktoś zarejestrował się 18 stycznia 2022r. → zarejestruj się na to szkolenie\n",
      "\n",
      "1199 PLN netto (do 18 stycznia)\n",
      "1399 PLN netto (od 19 stycznia)\n",
      "ZDALNIE: 27 stycznia 2022r. — UWAGA: zostały  tylko 4 wolne miejsca\n",
      "Ostatnio ktoś zarejestrował się 18 stycznia 2022r. → zarejestruj się na to szkolenie\n",
      "\n",
      "1199 PLN netto (do 21 stycznia)\n",
      "1399 PLN netto (od 22 stycznia)\n",
      " Warszawa: 15 lutego 2022r. — UWAGA: zostały  tylko 4 wolne miejsca\n",
      "Ostatnio ktoś zarejestrował się 18 stycznia 2022r. → zarejestruj się na to szkolenie\n",
      "\n",
      "1299 PLN netto (do 21 stycznia)\n",
      "1499 PLN netto (od 22 stycznia)\n",
      "Kraków: 17 lutego 2022r. — zostało 6 wolnych miejsc\n",
      "Ostatnio ktoś zarejestrował się 17 stycznia 2022r. → zarejestruj się na to szkolenie\n",
      "\n",
      "1299 PLN netto (do 21 stycznia)\n",
      "1499 PLN netto (od 22 stycznia)\n",
      "Poznań: 22 lutego 2022r. — zostało 9 wolnych miejsc\n",
      "Ostatnio ktoś zarejestrował się 19 stycznia 2022r. → zarejestruj się na to szkolenie\n",
      "\n",
      "1299 PLN netto (do 28 stycznia)\n",
      "1499 PLN netto (od 29 stycznia)\n",
      "Wrocław: 04 marca 2022r. — zostało 7 wolnych miejsc\n",
      "Ostatnio ktoś zarejestrował się 16 stycznia 2022r. → zarejestruj się na to szkolenie\n",
      "\n",
      "1299 PLN netto (do 28 stycznia)\n",
      "1499 PLN netto (od 29 stycznia)\n",
      "ZDALNIE: 08 marca 2022r. — zostało 9 wolnych miejsc\n",
      "Ostatnio ktoś zarejestrował się 19 stycznia 2022r. → zarejestruj się na to szkolenie\n",
      "\n",
      "1199 PLN netto (do 4 lutego)\n",
      "1399 PLN netto (od 5 lutego)\n",
      "ZDALNIE: 19 marca 2022r. — zostało 8 wolnych miejsc\n",
      "Ostatnio ktoś zarejestrował się 14 stycznia 2022r. → zarejestruj się na to szkolenie\n",
      "\n",
      "1199 PLN netto (do 28 stycznia)\n",
      "1399 PLN netto (od 29 stycznia) ZDALNIE: 22 stycznia 2022r. — UWAGA: zostały  tylko 3 wolne miejsca\n",
      "Ostatnio ktoś zarejestrował się 18 stycznia 2022r. → zarejestruj się na to szkolenie ZDALNIE: 27 stycznia 2022r. — UWAGA: zostały  tylko 4 wolne miejsca\n",
      "Ostatnio ktoś zarejestrował się 18 stycznia 2022r. → zarejestruj się na to szkolenie Warszawa: 15 lutego 2022r. — UWAGA: zostały  tylko 4 wolne miejsca\n",
      "Ostatnio ktoś zarejestrował się 18 stycznia 2022r. → zarejestruj się na to szkolenie Kraków: 17 lutego 2022r. — zostało 6 wolnych miejsc\n",
      "Ostatnio ktoś zarejestrował się 17 stycznia 2022r. → zarejestruj się na to szkolenie Poznań: 22 lutego 2022r. — zostało 9 wolnych miejsc\n",
      "Ostatnio ktoś zarejestrował się 19 stycznia 2022r. → zarejestruj się na to szkolenie Wrocław: 04 marca 2022r. — zostało 7 wolnych miejsc\n",
      "Ostatnio ktoś zarejestrował się 16 stycznia 2022r. → zarejestruj się na to szkolenie ZDALNIE: 08 marca 2022r. — zostało 9 wolnych miejsc\n",
      "Ostatnio ktoś zarejestrował się 19 stycznia 2022r. → zarejestruj się na to szkolenie ZDALNIE: 19 marca 2022r. — zostało 8 wolnych miejsc\n",
      "Ostatnio ktoś zarejestrował się 14 stycznia 2022r. → zarejestruj się na to szkolenie   2 dniowe warsztaty, pokazujące błędy w aplikacjach mobilnych na Androida jak i iOS (wspominamy także o Windows Phone). Poza praktycznymi wskazówkami dla programistów jak unikać błędów i zapewniać bezpieczeństwo przetwarzanym przez aplikacje danym, na szkoleniu prezentowane są narzędzia i techniki służące do analizy aplikacji mobilnych pod kątem bezpieczeństwa. Każdy programista aplikacji mobilnych powinien móc samodzielnie sprawdzić czy tworzony przez niego kod i sposób komunikacji aplikacji z backendem w chmurze nie stwarza ryzyka dla danych użytkownika. Po tym szkoleniu będzie w stanie to zrobić, a nawet — jesteśmy pewni — będzie mu to sprawiać przyjemność :) Bonusem jest poznanie wielu narzędzi ułatwiających debugging aplikacji i diagnostykę w środowiskach mobilnych. Kraków: 04-05 kwietnia 2022r. — zostało 5 wolnych miejsc\n",
      "Ostatnio ktoś zarejestrował się 10 stycznia 2022r. → zarejestruj się na to szkolenie Warszawa: 19-20 maja 2022r. — zostało 8 wolnych miejsc\n",
      "Ostatnio ktoś zarejestrował się 22 grudnia 2021r. → zarejestruj się na to szkolenie ZDALNIE: 09-10 czerwca 2022r. — zostało 8 wolnych miejsc\n",
      "Ostatnio ktoś zarejestrował się 20 stycznia 2022r. → zarejestruj się na to szkolenie   2 dniowe warsztaty, pokazujące jak można za darmo (a mimo to rzetelnie) zabezpieczyć system Windows przy użyciu w budowanych w to środowisko mechanizmów i dodatkowego (także darmowego) oprogramowania Microsoftu. Zabezpieczyć przed popularnymi atakami zarówno ze strony “włamywaczy” zewnętrznych jak i złośliwych (lub nieroztropnych) pracowników.\n",
      "Uczestnicy na szkoleniu mają do dyspozycji kontroler domeny i “końcowkę” (Windows 10). W trakcie szkolenia za pomocą wbudowanych w Windows (choć nie zawsze popularnych) mechanizmów oraz dodatkowego zewnętrznego oprogramowania stworzą bezpieczną do pracy w środowisku biurowym konfigurację. Jeśli zastanawiałeś się kiedyś jak “zamknąć” użytkownikowi możliwość popełnienia błędu na stacji z Windowsem — to szkolenie jest dla Ciebie. Przy czym Maciek, który od kilkunastu lat opiekuje się bezpieczeństwem bankowych sieci pracowniczych pokaże Ci, że poprawnie zrobiony hardening stacji roboczej wcale nie oznacza paraliżu pracy pracownika i ciągłych telefonów do supportu, że czegoś nie da się zrobić.\n",
      "ZDALNIE: 14-15 lutego 2022r. — UWAGA: zostało tylko 1 wolne miejsce\n",
      "Ostatnio ktoś zarejestrował się 12 stycznia 2022r. → zarejestruj się na to szkolenie\n",
      "\n",
      "2499 PLN netto (do 6 grudnia)\n",
      "2799 PLN netto (od 7 grudnia)\n",
      "Warszawa: 28-29 marca 2022r. — zostało 5 wolnych miejsc\n",
      "Ostatnio ktoś zarejestrował się 20 grudnia 2021r. → zarejestruj się na to szkolenie\n",
      "\n",
      "2499 PLN netto (do 21 stycznia)\n",
      "2799 PLN netto (od 22 stycznia)\n",
      "Kraków: 09-10 maja 2022r. — zostało 8 wolnych miejsc\n",
      "Ostatnio ktoś zarejestrował się 18 stycznia 2022r. → zarejestruj się na to szkolenie\n",
      "\n",
      "2499 PLN netto (do 28 stycznia)\n",
      "2799 PLN netto (od 29 stycznia) ZDALNIE: 14-15 lutego 2022r. — UWAGA: zostało tylko 1 wolne miejsce\n",
      "Ostatnio ktoś zarejestrował się 12 stycznia 2022r. → zarejestruj się na to szkolenie Warszawa: 28-29 marca 2022r. — zostało 5 wolnych miejsc\n",
      "Ostatnio ktoś zarejestrował się 20 grudnia 2021r. → zarejestruj się na to szkolenie Kraków: 09-10 maja 2022r. — zostało 8 wolnych miejsc\n",
      "Ostatnio ktoś zarejestrował się 18 stycznia 2022r. → zarejestruj się na to szkolenie   2 dniowe warsztaty, których celem jest nauczyć jak poprawnie zbierać informacje na temat incydentów teleinformatycznych poprzez analizę sprzętu komputerowego “podejrzanego” (np. pracownika lub klienta). Trener Witek, to biegły sądowy, który kładzie nacisk na pracę zgodnie ze sztuką tak, aby zebrane dane można było wykorzystać jako dowód w trakcie ew. sprawy w sądzie. W zakres szkolenia wchodzą także kwestie odzyskiwania danych i ustalania tego, co “podejrzany” robił na komputerze poprzez analizę tzw. artefaktów w systemie operacyjnym i aplikacjach takich jak przeglądarki i komunikatory. Z racji bogatego doświadczenia Witka w pracy z polskim wymiarem sprawiedliwości, uczestnicy tego szkolenia otrzymają wiedzę, która uprości im każde “dochodzenie”. Wiedzy tej na próżno szukać w ustawach lub podręcznikach do informatyki śledczej.\n",
      "ZDALNIE: 03-04 marca 2022r. — zostało 7 wolnych miejsc\n",
      "Ostatnio ktoś zarejestrował się 12 stycznia 2022r. → zarejestruj się na to szkolenie\n",
      "\n",
      "2599 PLN netto (do 21 stycznia)\n",
      "2899 PLN netto (od 22 stycznia)\n",
      "Warszawa: 21-22 kwietnia 2022r. — zostało 8 wolnych miejsc\n",
      "Ostatnio ktoś zarejestrował się 03 stycznia 2022r. → zarejestruj się na to szkolenie\n",
      "\n",
      "2599 PLN netto (do 28 stycznia)\n",
      "2899 PLN netto (od 29 stycznia)\n",
      "Kraków: 26-27 maja 2022r. — zostało 9 wolnych miejsc\n",
      "Ostatnio ktoś zarejestrował się 20 stycznia 2022r. → zarejestruj się na to szkolenie\n",
      "\n",
      "2599 PLN netto (do 11 lutego)\n",
      "2899 PLN netto (od 12 lutego) ZDALNIE: 03-04 marca 2022r. — zostało 7 wolnych miejsc\n",
      "Ostatnio ktoś zarejestrował się 12 stycznia 2022r. → zarejestruj się na to szkolenie Warszawa: 21-22 kwietnia 2022r. — zostało 8 wolnych miejsc\n",
      "Ostatnio ktoś zarejestrował się 03 stycznia 2022r. → zarejestruj się na to szkolenie Kraków: 26-27 maja 2022r. — zostało 9 wolnych miejsc\n",
      "Ostatnio ktoś zarejestrował się 20 stycznia 2022r. → zarejestruj się na to szkolenie    Wszystkie szkolenia z naszej oferty możemy też zrealizować w wariancie dedykowanym dla zamkniętej grupy pracowników Twojej firmy. Jeśli masz więcej niż 6 osób zainteresowanych danym tematem, to szkolenie zamknięte będzie dla Waszej firmy korzystniejszym wyborem. Aby uzyskać ofertę na szkolenie zamknięte/dedykowane, napisz do nas na adres projekty@niebezpiecznik.pl lub zadzwoń pod numerem: 12 44 202 44.  \n",
      "when_published:\n",
      "  2021-11-25 13:37:00\n",
      "author:\n",
      "  redakcja \n"
     ]
    }
   ],
   "source": [
    "print(f'title:\\n  {niebezpiecznik_dataframe.iloc[16][\"title\"]}')\n",
    "print(f'title_int:\\n  {niebezpiecznik_dataframe.iloc[16][\"title_int\"]}')\n",
    "print(f'lead_text:\\n  {niebezpiecznik_dataframe.iloc[16][\"lead_text\"]}')\n",
    "print(f'lead_text_int:\\n  {niebezpiecznik_dataframe.iloc[16][\"lead_text_int\"]}')\n",
    "print(f'link:\\n  {niebezpiecznik_dataframe.iloc[16][\"link\"]}')\n",
    "print(f'text:\\n  {niebezpiecznik_dataframe.iloc[16][\"text\"]}')\n",
    "print(f'when_published:\\n  {niebezpiecznik_dataframe.iloc[16][\"when_published\"]}')\n",
    "print(f'author:\\n  {niebezpiecznik_dataframe.iloc[16][\"author\"]}')"
   ],
   "metadata": {
    "collapsed": false,
    "pycharm": {
     "name": "#%%\n"
    }
   }
  },
  {
   "cell_type": "code",
   "execution_count": 15,
   "outputs": [],
   "source": [],
   "metadata": {
    "collapsed": false,
    "pycharm": {
     "name": "#%%\n"
    }
   }
  }
 ],
 "metadata": {
  "kernelspec": {
   "display_name": "Python 3",
   "language": "python",
   "name": "python3"
  },
  "language_info": {
   "codemirror_mode": {
    "name": "ipython",
    "version": 2
   },
   "file_extension": ".py",
   "mimetype": "text/x-python",
   "name": "python",
   "nbconvert_exporter": "python",
   "pygments_lexer": "ipython2",
   "version": "2.7.6"
  }
 },
 "nbformat": 4,
 "nbformat_minor": 0
}