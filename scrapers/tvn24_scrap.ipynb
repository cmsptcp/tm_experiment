{
 "cells": [
  {
   "cell_type": "markdown",
   "metadata": {},
   "source": [
    "Pobieranie wiadomości z tvn24.pl\n",
    "Zapis do pliku ./data/tvn24_{timestamp}.txt"
   ]
  },
  {
   "cell_type": "code",
   "execution_count": 1,
   "metadata": {
    "pycharm": {
     "name": "#%%\n"
    }
   },
   "outputs": [],
   "source": [
    "# ! pip install bs4\n",
    "# ! pip install requests\n",
    "# ! pip install tqdm\n",
    "# ! pip install pandas\n",
    "# ! pip install pyarrow\n",
    "# ! pip install qgrid\n",
    "# ! pip install blaze\n",
    "# ! pip install ipynbname"
   ]
  },
  {
   "cell_type": "code",
   "execution_count": 2,
   "metadata": {
    "pycharm": {
     "name": "#%%\n"
    }
   },
   "outputs": [],
   "source": [
    "import requests\n",
    "from bs4 import BeautifulSoup\n",
    "from tqdm import tqdm, trange\n",
    "from datetime import datetime, timezone\n",
    "from common.webarticle import WebArticle\n",
    "from common.pl_helper import PolishLocaleHelper\n",
    "import pandas as pd\n",
    "import logging\n",
    "import ipynbname"
   ]
  },
  {
   "cell_type": "code",
   "execution_count": 3,
   "metadata": {
    "pycharm": {
     "name": "#%%\n"
    }
   },
   "outputs": [],
   "source": [
    "# settings:\n",
    "portal_name = 'tvn24'\n",
    "website = 'https://tvn24.pl/polska'\n",
    "pagination_attributes = '/'\n",
    "no_articles_to_scrap = 300\n",
    "data_dir = '../data'\n",
    "logging.basicConfig(\n",
    "    filename=f'../logs/{ipynbname.name()}.ipynb.log',\n",
    "    encoding='utf-8',\n",
    "    level=logging.DEBUG\n",
    ")\n",
    "ignored_paragraph_starts = ['OGLĄDAJ TELEWIZJĘ NA ŻYWO W TVN24 GO >>>']"
   ]
  },
  {
   "cell_type": "markdown",
   "metadata": {},
   "source": [
    "Sprawdźmy plik robots.txt, w czasie pisania tego kodu pozwalał na pobieranie plików z portalu tvn24 bez specjalnych ograniczeń"
   ]
  },
  {
   "cell_type": "code",
   "execution_count": 4,
   "metadata": {
    "pycharm": {
     "name": "#%%\n"
    }
   },
   "outputs": [
    {
     "name": "stdout",
     "output_type": "stream",
     "text": [
      "User-agent: *\n",
      "Disallow:\n",
      "\n"
     ]
    }
   ],
   "source": [
    "resp = requests.get('https://www.tvn24.pl/robots.txt')\n",
    "print(resp.text)"
   ]
  },
  {
   "cell_type": "code",
   "execution_count": 5,
   "metadata": {
    "pycharm": {
     "name": "#%%\n"
    }
   },
   "outputs": [],
   "source": [
    "def check_if_ignored_paragraph(text, ignored_paragraphs, operation='startswith'):\n",
    "\n",
    "    for ignored_paragraph in ignored_paragraphs:\n",
    "        if operation == 'startswith':\n",
    "            if text.startswith(ignored_paragraph):\n",
    "                return True\n",
    "        else:\n",
    "            logging.debug(f'check_if_ignored: operation {operation} not implemented')\n",
    "    return False\n"
   ]
  },
  {
   "cell_type": "code",
   "execution_count": 6,
   "metadata": {
    "pycharm": {
     "name": "#%%\n"
    }
   },
   "outputs": [],
   "source": [
    "def scrap_article_text_tvn24(link):\n",
    "    logging.info('scrap_article_text_tvn24:')\n",
    "    logging.info(f'article link to scrap: {link}')\n",
    "\n",
    "    page = requests.get(link)\n",
    "    if page.status_code != 200:\n",
    "        logging.debug(f'received status code: {page.status_code}')\n",
    "        return '', ''\n",
    "\n",
    "    soup = BeautifulSoup(page.content, 'html.parser')\n",
    "    paragraphs = soup.find_all('p', class_='paragraph')\n",
    "\n",
    "    text = ''\n",
    "    for paragraph in paragraphs:\n",
    "        paragraph_text = paragraph.get_text().strip()\n",
    "        if check_if_ignored_paragraph(paragraph_text, ignored_paragraph_starts):\n",
    "            continue\n",
    "        text += paragraph_text + ' '\n",
    "\n",
    "    time_string = soup.find('time', class_='article-top-bar__date').get_text().strip()\n",
    "    when_published = PolishLocaleHelper.parse_pl_date_tvn24(time_string)\n",
    "\n",
    "    title_int = soup.find('h1', class_='article-top-bar__title').get_text().strip()\n",
    "\n",
    "    lead_text_int_candidate = soup.find('p', class_='lead-text')\n",
    "    if lead_text_int_candidate is not None:\n",
    "        lead_text_int = lead_text_int_candidate.get_text().strip()\n",
    "    else:\n",
    "        lead_text_int = soup.find_all('div', class_='article-element article-element--subhead')[0].get_text().strip()\n",
    "\n",
    "    author = soup.find_all('dd', class_='article-top-bar__meta-item')[0].get_text().strip()\n",
    "    source = soup.find_all('dd', class_='article-top-bar__meta-item')[1].get_text().strip()\n",
    "\n",
    "    return text, when_published, title_int, lead_text_int, author, source"
   ]
  },
  {
   "cell_type": "code",
   "execution_count": 7,
   "metadata": {
    "pycharm": {
     "name": "#%%\n"
    }
   },
   "outputs": [],
   "source": [
    "def scrap_articles_tvn24(website):\n",
    "    logging.info('scrap_articles_tvn24:')\n",
    "    logging.info(f'page with articles to scrap: {website}')\n",
    "\n",
    "    result = list()\n",
    "    page = requests.get(website)\n",
    "    if page.status_code != 200:\n",
    "        logging.debug(f'received status code: {page.status_code}')\n",
    "        return result\n",
    "\n",
    "    soup = BeautifulSoup(page.content, 'html.parser')\n",
    "    page_content = soup.find_all('article',class_='teaser-wrapper__content default-teaser default-teaser--standard')\n",
    "\n",
    "    print(f'articles to scrap: {len(page_content)}')\n",
    "\n",
    "    for article in page_content:\n",
    "\n",
    "        title = article.find('h2',class_='heading article-title').get_text().strip()\n",
    "        lead_text = article.find('p',class_='article-lead__text').get_text().strip()\n",
    "        link = article.find_all('a', href=True)[0]['href']\n",
    "        webart = WebArticle(title, lead_text, link, *scrap_article_text_tvn24(link),portal_name)\n",
    "        logging.info(f'webarticle scrapped: {webart}')\n",
    "        result.append(webart)\n",
    "\n",
    "    return result"
   ]
  },
  {
   "cell_type": "code",
   "execution_count": 8,
   "metadata": {
    "pycharm": {
     "name": "#%%\n"
    }
   },
   "outputs": [
    {
     "name": "stderr",
     "output_type": "stream",
     "text": [
      "  0%|          | 0/300 [00:00<?, ?it/s]"
     ]
    },
    {
     "name": "stdout",
     "output_type": "stream",
     "text": [
      "articles to scrap: 19\n"
     ]
    },
    {
     "name": "stderr",
     "output_type": "stream",
     "text": [
      "  6%|▋         | 19/300 [00:16<04:08,  1.13it/s]"
     ]
    },
    {
     "name": "stdout",
     "output_type": "stream",
     "text": [
      "articles to scrap: 19\n"
     ]
    },
    {
     "name": "stderr",
     "output_type": "stream",
     "text": [
      " 13%|█▎        | 38/300 [00:30<03:24,  1.28it/s]"
     ]
    },
    {
     "name": "stdout",
     "output_type": "stream",
     "text": [
      "articles to scrap: 20\n"
     ]
    },
    {
     "name": "stderr",
     "output_type": "stream",
     "text": [
      " 19%|█▉        | 58/300 [00:41<02:44,  1.47it/s]"
     ]
    },
    {
     "name": "stdout",
     "output_type": "stream",
     "text": [
      "articles to scrap: 19\n"
     ]
    },
    {
     "name": "stderr",
     "output_type": "stream",
     "text": [
      " 26%|██▌       | 77/300 [00:58<02:50,  1.31it/s]"
     ]
    },
    {
     "name": "stdout",
     "output_type": "stream",
     "text": [
      "articles to scrap: 20\n"
     ]
    },
    {
     "name": "stderr",
     "output_type": "stream",
     "text": [
      " 32%|███▏      | 97/300 [01:15<02:40,  1.27it/s]"
     ]
    },
    {
     "name": "stdout",
     "output_type": "stream",
     "text": [
      "articles to scrap: 19\n"
     ]
    },
    {
     "name": "stderr",
     "output_type": "stream",
     "text": [
      " 39%|███▊      | 116/300 [01:31<02:28,  1.24it/s]"
     ]
    },
    {
     "name": "stdout",
     "output_type": "stream",
     "text": [
      "articles to scrap: 19\n"
     ]
    },
    {
     "name": "stderr",
     "output_type": "stream",
     "text": [
      " 45%|████▌     | 135/300 [01:55<02:37,  1.05it/s]"
     ]
    },
    {
     "name": "stdout",
     "output_type": "stream",
     "text": [
      "articles to scrap: 17\n"
     ]
    },
    {
     "name": "stderr",
     "output_type": "stream",
     "text": [
      " 51%|█████     | 152/300 [02:10<02:19,  1.06it/s]"
     ]
    },
    {
     "name": "stdout",
     "output_type": "stream",
     "text": [
      "articles to scrap: 16\n"
     ]
    },
    {
     "name": "stderr",
     "output_type": "stream",
     "text": [
      " 56%|█████▌    | 168/300 [02:33<02:22,  1.08s/it]"
     ]
    },
    {
     "name": "stdout",
     "output_type": "stream",
     "text": [
      "articles to scrap: 17\n"
     ]
    },
    {
     "name": "stderr",
     "output_type": "stream",
     "text": [
      " 62%|██████▏   | 185/300 [02:55<02:10,  1.13s/it]"
     ]
    },
    {
     "name": "stdout",
     "output_type": "stream",
     "text": [
      "articles to scrap: 12\n"
     ]
    },
    {
     "name": "stderr",
     "output_type": "stream",
     "text": [
      " 66%|██████▌   | 197/300 [03:10<01:59,  1.16s/it]"
     ]
    },
    {
     "name": "stdout",
     "output_type": "stream",
     "text": [
      "articles to scrap: 20\n"
     ]
    },
    {
     "name": "stderr",
     "output_type": "stream",
     "text": [
      " 72%|███████▏  | 217/300 [03:29<01:31,  1.10s/it]"
     ]
    },
    {
     "name": "stdout",
     "output_type": "stream",
     "text": [
      "articles to scrap: 15\n"
     ]
    },
    {
     "name": "stderr",
     "output_type": "stream",
     "text": [
      " 77%|███████▋  | 232/300 [04:03<01:36,  1.42s/it]"
     ]
    },
    {
     "name": "stdout",
     "output_type": "stream",
     "text": [
      "articles to scrap: 16\n"
     ]
    },
    {
     "name": "stderr",
     "output_type": "stream",
     "text": [
      " 83%|████████▎ | 248/300 [04:20<01:07,  1.30s/it]"
     ]
    },
    {
     "name": "stdout",
     "output_type": "stream",
     "text": [
      "articles to scrap: 16\n"
     ]
    },
    {
     "name": "stderr",
     "output_type": "stream",
     "text": [
      " 88%|████████▊ | 264/300 [04:41<00:47,  1.31s/it]"
     ]
    },
    {
     "name": "stdout",
     "output_type": "stream",
     "text": [
      "articles to scrap: 17\n"
     ]
    },
    {
     "name": "stderr",
     "output_type": "stream",
     "text": [
      " 94%|█████████▎| 281/300 [05:12<00:27,  1.47s/it]"
     ]
    },
    {
     "name": "stdout",
     "output_type": "stream",
     "text": [
      "articles to scrap: 17\n"
     ]
    },
    {
     "name": "stderr",
     "output_type": "stream",
     "text": [
      " 99%|█████████▉| 298/300 [05:41<00:03,  1.54s/it]"
     ]
    },
    {
     "name": "stdout",
     "output_type": "stream",
     "text": [
      "articles to scrap: 17\n"
     ]
    },
    {
     "name": "stderr",
     "output_type": "stream",
     "text": [
      "100%|██████████| 300/300 [06:08<00:00,  1.23s/it]\n"
     ]
    }
   ],
   "source": [
    "no_scrapped_articles = 0\n",
    "page_no=0\n",
    "scrapped_articles = list()\n",
    "\n",
    "logging.info(f'no_articles_to_scrap: {no_articles_to_scrap}')\n",
    "\n",
    "pbar = tqdm(total=no_articles_to_scrap)\n",
    "while no_scrapped_articles < no_articles_to_scrap:\n",
    "    logging.info('next page: '+website+pagination_attributes+str(page_no))\n",
    "    new_articles = scrap_articles_tvn24(website+pagination_attributes+str(page_no))\n",
    "    page_size = len(new_articles)\n",
    "    logging.info(f'new_articles: {page_size}')\n",
    "    if no_scrapped_articles + page_size > no_articles_to_scrap:\n",
    "        page_size = no_articles_to_scrap - no_scrapped_articles\n",
    "    scrapped_articles.extend(new_articles[:page_size])\n",
    "    logging.info(f'scrapped new articles: {page_size}')\n",
    "    no_scrapped_articles += page_size\n",
    "    pbar.update(page_size)\n",
    "    logging.info(f'no_scrapped_articles (total): {no_scrapped_articles}')\n",
    "    page_no += 1\n",
    "    if len(scrapped_articles) <= 0:\n",
    "        logging.debug(f'0 articles scrapped!')\n",
    "        break\n",
    "pbar.close()"
   ]
  },
  {
   "cell_type": "code",
   "execution_count": 9,
   "metadata": {
    "pycharm": {
     "name": "#%%\n"
    }
   },
   "outputs": [
    {
     "name": "stderr",
     "output_type": "stream",
     "text": [
      "100%|██████████| 300/300 [00:00<00:00, 13044.29it/s]"
     ]
    },
    {
     "name": "stdout",
     "output_type": "stream",
     "text": [
      "0: 2075\n",
      "1: 4006\n",
      "2: 3326\n",
      "3: 1835\n",
      "4: 3787\n",
      "5: 1266\n",
      "6: 5770\n",
      "7: 6903\n",
      "8: 3041\n",
      "9: 2020\n",
      "10: 554\n",
      "11: 973\n",
      "12: 3456\n",
      "13: 3524\n",
      "14: 4408\n",
      "15: 2824\n",
      "16: 990\n",
      "17: 2707\n",
      "18: 2481\n",
      "19: 2075\n",
      "20: 4006\n",
      "21: 3326\n",
      "22: 1835\n",
      "23: 3787\n",
      "24: 1266\n",
      "25: 5770\n",
      "26: 6903\n",
      "27: 3041\n",
      "28: 2020\n",
      "29: 554\n",
      "30: 973\n",
      "31: 3456\n",
      "32: 3524\n",
      "33: 4408\n",
      "34: 2824\n",
      "35: 990\n",
      "36: 2707\n",
      "37: 2481\n",
      "38: 2267\n",
      "39: 1672\n",
      "40: 901\n",
      "41: 5142\n",
      "42: 4765\n",
      "43: 2795\n",
      "44: 630\n",
      "45: 2496\n",
      "46: 1502\n",
      "47: 4755\n",
      "48: 927\n",
      "49: 1808\n",
      "50: 2653\n",
      "51: 8101\n",
      "52: 3259\n",
      "53: 2737\n",
      "54: 8483\n",
      "55: 729\n",
      "56: 3567\n",
      "57: 379\n",
      "58: 4939\n",
      "59: 1946\n",
      "60: 1196\n",
      "61: 2684\n",
      "62: 1597\n",
      "63: 3000\n",
      "64: 1248\n",
      "65: 1133\n",
      "66: 6478\n",
      "67: 707\n",
      "68: 10557\n",
      "69: 2753\n",
      "70: 2370\n",
      "71: 3602\n",
      "72: 1401\n",
      "73: 1245\n",
      "74: 1736\n",
      "75: 2134\n",
      "76: 822\n",
      "77: 1100\n",
      "78: 4305\n",
      "79: 8578\n",
      "80: 3196\n",
      "81: 1612\n",
      "82: 3770\n",
      "83: 342\n",
      "84: 2307\n",
      "85: 783\n",
      "86: 2195\n",
      "87: 709\n",
      "88: 1273\n",
      "89: 1035\n",
      "90: 7135\n",
      "91: 2736\n",
      "92: 3346\n",
      "93: 1243\n",
      "94: 1618\n",
      "95: 3286\n",
      "96: 1626\n",
      "97: 977\n",
      "98: 3935\n",
      "99: 2717\n",
      "100: 960\n",
      "101: 1643\n",
      "102: 442\n",
      "103: 3829\n",
      "104: 4275\n",
      "105: 657\n",
      "106: 4656\n",
      "107: 9116\n",
      "108: 1221\n",
      "109: 605\n",
      "110: 967\n",
      "111: 5686\n",
      "112: 2812\n",
      "113: 926\n",
      "114: 2351\n",
      "115: 2899\n",
      "116: 6265\n",
      "117: 1334\n",
      "118: 1501\n",
      "119: 3848\n",
      "120: 3429\n",
      "121: 2497\n",
      "122: 906\n",
      "123: 2682\n",
      "124: 1006\n",
      "125: 902\n",
      "126: 1669\n",
      "127: 7039\n",
      "128: 812\n",
      "129: 1522\n",
      "130: 2382\n",
      "131: 2295\n",
      "132: 886\n",
      "133: 986\n",
      "134: 2740\n",
      "135: 2740\n",
      "136: 2071\n",
      "137: 1086\n",
      "138: 5143\n",
      "139: 3453\n",
      "140: 6838\n",
      "141: 1531\n",
      "142: 1501\n",
      "143: 3569\n",
      "144: 1717\n",
      "145: 5848\n",
      "146: 2111\n",
      "147: 385\n",
      "148: 1262\n",
      "149: 4726\n",
      "150: 4066\n",
      "151: 3266\n",
      "152: 3067\n",
      "153: 3462\n",
      "154: 1663\n",
      "155: 2318\n",
      "156: 3501\n",
      "157: 2036\n",
      "158: 1288\n",
      "159: 2227\n",
      "160: 3227\n",
      "161: 1382\n",
      "162: 3069\n",
      "163: 2972\n",
      "164: 0\n",
      "165: 2321\n",
      "166: 1194\n",
      "167: 3017\n",
      "168: 0\n",
      "169: 1226\n",
      "170: 1024\n",
      "171: 3134\n",
      "172: 0\n",
      "173: 15314\n",
      "174: 3827\n",
      "175: 3373\n",
      "176: 4991\n",
      "177: 794\n",
      "178: 3814\n",
      "179: 1249\n",
      "180: 2797\n",
      "181: 2588\n",
      "182: 8090\n",
      "183: 1299\n",
      "184: 4474\n",
      "185: 1674\n",
      "186: 3172\n",
      "187: 796\n",
      "188: 2163\n",
      "189: 1291\n",
      "190: 8407\n",
      "191: 730\n",
      "192: 4890\n",
      "193: 2017\n",
      "194: 555\n",
      "195: 1121\n",
      "196: 3135\n",
      "197: 859\n",
      "198: 2947\n",
      "199: 741\n",
      "200: 1608\n",
      "201: 781\n",
      "202: 1360\n",
      "203: 1166\n",
      "204: 1408\n",
      "205: 1922\n",
      "206: 535\n",
      "207: 2384\n",
      "208: 1263\n",
      "209: 4712\n",
      "210: 1772\n",
      "211: 1145\n",
      "212: 1172\n",
      "213: 1315\n",
      "214: 1170\n",
      "215: 1074\n",
      "216: 3219\n",
      "217: 1415\n",
      "218: 1425\n",
      "219: 1920\n",
      "220: 3600\n",
      "221: 3170\n",
      "222: 1714\n",
      "223: 1673\n",
      "224: 1468\n",
      "225: 1894\n",
      "226: 3277\n",
      "227: 3609\n",
      "228: 1136\n",
      "229: 2969\n",
      "230: 1414\n",
      "231: 2228\n",
      "232: 4589\n",
      "233: 3283\n",
      "234: 4635\n",
      "235: 7930\n",
      "236: 3611\n",
      "237: 1462\n",
      "238: 2129\n",
      "239: 853\n",
      "240: 1848\n",
      "241: 917\n",
      "242: 2957\n",
      "243: 928\n",
      "244: 1504\n",
      "245: 746\n",
      "246: 1030\n",
      "247: 5599\n",
      "248: 2429\n",
      "249: 1692\n",
      "250: 951\n",
      "251: 1624\n",
      "252: 995\n",
      "253: 835\n",
      "254: 784\n",
      "255: 1227\n",
      "256: 2442\n",
      "257: 472\n",
      "258: 730\n",
      "259: 4110\n",
      "260: 1078\n",
      "261: 1742\n",
      "262: 2009\n",
      "263: 1233\n",
      "264: 3855\n",
      "265: 1410\n",
      "266: 5944\n",
      "267: 3739\n",
      "268: 1599\n",
      "269: 3315\n",
      "270: 3115\n",
      "271: 2255\n",
      "272: 3258\n",
      "273: 2776\n",
      "274: 1671\n",
      "275: 1266\n",
      "276: 761\n",
      "277: 1052\n",
      "278: 2072\n",
      "279: 791\n",
      "280: 646\n",
      "281: 784\n",
      "282: 734\n",
      "283: 1020\n",
      "284: 3292\n",
      "285: 2239\n",
      "286: 1029\n",
      "287: 6496\n",
      "288: 1767\n",
      "289: 2541\n",
      "290: 2405\n",
      "291: 2488\n",
      "292: 2888\n",
      "293: 1697\n",
      "294: 3646\n",
      "295: 670\n",
      "296: 3091\n",
      "297: 1304\n",
      "298: 3299\n",
      "299: 1762\n"
     ]
    },
    {
     "name": "stderr",
     "output_type": "stream",
     "text": [
      "\n"
     ]
    }
   ],
   "source": [
    "for i in trange(len(scrapped_articles)):\n",
    "    # print(f'{i}: {scrapped_articles[i].lead_text}')\n",
    "    print(f'{i}: {len(scrapped_articles[i].text)}')"
   ]
  },
  {
   "cell_type": "code",
   "execution_count": 10,
   "metadata": {
    "pycharm": {
     "name": "#%%\n"
    }
   },
   "outputs": [
    {
     "name": "stderr",
     "output_type": "stream",
     "text": [
      "C:\\Users\\piotr\\AppData\\Local\\Temp/ipykernel_16860/2017229850.py:1: FutureWarning: Inferring datetime64[ns] from data containing strings is deprecated and will be removed in a future version. To retain the old behavior explicitly pass Series(data, dtype={value.dtype})\n",
      "  tvn24_dataframe = pd.DataFrame(article.__dict__ for article in scrapped_articles)\n"
     ]
    },
    {
     "data": {
      "text/plain": "                                                 title  \\\n0    Czwartek pod znakiem silnego wiatru i opadów ś...   \n1    Silny wiatr, oblodzenie, zawieje lub zamiecie ...   \n2    \"Wartości zakażeń, które są w tej chwili podaw...   \n3    WOŚP 2022. Na placu Defilad stanął wielki nami...   \n4    Sikorski o sejmowej komisji: nie mając nic do ...   \n..                                                 ...   \n295  Możliwe osiągnięcie stanów ostrzegawczych. Ost...   \n296  NFZ obcina stawki za testy na koronawirusa. Cz...   \n297  Pogoda na dziś. Termometry pokażą od 2 do 5 st...   \n298  \"Polskie prawo w sprawie inwigilacji nie odpow...   \n299  Samochód zjechał do Narwi z mola w Serocku. \"W...   \n\n                                             title_int  \\\n0    Pogoda na dziś - czwartek 20.01. Dzień pod zna...   \n1    Alerty IMGW - silny wiatr, oblodzenie, zawieje...   \n2    Ekspertka od modeli matematycznych: podawane w...   \n3    WOŚP 2022. Na placu Defilad stanął wielki nami...   \n4    Sejmowa komisja w sprawie Pegasusa. Radosław S...   \n..                                                 ...   \n295  Możliwe osiągnięcie stanów ostrzegawczych. Ost...   \n296  NFZ obcina stawki za testy na obecność koronaw...   \n297  Pogoda na dziś - sobota 15.01. Zachmurzenie bę...   \n298  Rzecznik Praw Obywatelskich interweniuje u pre...   \n299  Samochód zjechał do Narwi z mola w Serocku. \"W...   \n\n                                             lead_text  \\\n0                                      Pogoda na dziś.   \n1                        Sprawdź, gdzie wydano alarmy.   \n2    Doktor Aneta Afelt i doktor nauk medycznych Ma...   \n3                        Będą to znani polscy artyści.   \n4                Europoseł był gościem \"Kropki nad i\".   \n..                                                 ...   \n295  Instytut Meteorologii i Gospodarki Wodnej wyda...   \n296                Materiał magazynu \"Polska i Świat\".   \n297            W sobotę w całym kraju odczujemy chłód.   \n298                       RPO interweniuje u premiera.   \n299  Po około dwóch godzinach wyciągnęli auto na br...   \n\n                                         lead_text_int  \\\n0    Pogoda na dziś zapowiada się pochmurno. Należy...   \n1    IMGW ostrzega - w wielu regionach kraju pogoda...   \n2    O epidemii COVID-19, liczbie zakażeń koronawir...   \n3    Jubileuszowy 30. Finał Wielkiej Orkiestry Świą...   \n4    Radosław Sikorski, europoseł Platformy Obywate...   \n..                                                 ...   \n295  Poziom wód w rejonie Żuław i Zalewu Wiślanego ...   \n296  Narodowy Fundusz Zdrowia obciął stawki na poje...   \n297  Pogoda na dziś. Sobota (15.01) upłynie pod zna...   \n298  Rzecznik Praw Obywatelskich Marcin Wiącek wyst...   \n299  W piątek wieczorem samochód zjechał z mola w S...   \n\n                                                  link  \\\n0    https://tvn24.pl/tvnmeteo/prognoza/pogoda-na-d...   \n1    https://tvn24.pl/tvnmeteo/prognoza/alerty-imgw...   \n2    https://tvn24.pl/polska/koronawirus-w-polsce-d...   \n3    https://tvn24.pl/tvnwarszawa/najnowsze/wosp-20...   \n4    https://tvn24.pl/polska/pegasus-sejmowa-komisj...   \n..                                                 ...   \n295  https://tvn24.pl/tvnmeteo/prognoza/imgw-alerty...   \n296  https://tvn24.pl/polska/koronawirus-w-polsce-n...   \n297  https://tvn24.pl/tvnmeteo/prognoza/pogoda-na-d...   \n298  https://tvn24.pl/polska/pegasus-rzecznik-praw-...   \n299  https://tvn24.pl/tvnwarszawa/najnowsze/serock-...   \n\n                                                  text      when_published  \\\n0    Pogoda na dziś przyniesie nam duże zachmurzeni... 2022-01-20 02:00:00   \n1    Synoptycy Instytutu Meteorologii i Gospodarki ... 2022-01-19 06:23:00   \n2    Do środy w Polsce potwierdzono 4 373 718 zakaż... 2022-01-19 21:35:00   \n3    30. Finał Wielkiej Orkiestry Świątecznej Pomoc... 2022-01-19 21:04:00   \n4    \"KROPKA NAD I\" - OGLĄDAJ W TVN24 GO >>> Grupa ... 2022-01-19 20:50:00   \n..                                                 ...                 ...   \n295  \"W związku z prognozowanym silnym, sztormowym ... 2022-01-15 06:55:00   \n296  Najpierw wymaz, a później badanie w budynku tu... 2022-01-15 06:32:00   \n297  Na sobotę prognozowane jest zmienne zachmurzen... 2022-01-15 02:00:00   \n298  OGLĄDAJ TVN24 W INTERNECIE W TVN24 GO Marcin W... 2022-01-14 22:49:00   \n299  Do zdarzenia doszło w Serocku, w okolicach mol... 2022-01-14 20:04:00   \n\n              author          source portal  \n0                 kw     tvnmeteo.pl  tvn24  \n1           kw,ps/dd            IMGW  tvn24  \n2                akr           TVN24  tvn24  \n3              dg/gp  tvnwarszawa.pl  tvn24  \n4                mjz           TVN24  tvn24  \n..               ...             ...    ...  \n295               ps       PAP, IMGW  tvn24  \n296  AleksandraKąkol           TVN24  tvn24  \n297              anw     tvnmeteo.pl  tvn24  \n298         mjz//rzw             PAP  tvn24  \n299             mp/r  tvnwarszawa.pl  tvn24  \n\n[300 rows x 10 columns]",
      "text/html": "<div>\n<style scoped>\n    .dataframe tbody tr th:only-of-type {\n        vertical-align: middle;\n    }\n\n    .dataframe tbody tr th {\n        vertical-align: top;\n    }\n\n    .dataframe thead th {\n        text-align: right;\n    }\n</style>\n<table border=\"1\" class=\"dataframe\">\n  <thead>\n    <tr style=\"text-align: right;\">\n      <th></th>\n      <th>title</th>\n      <th>title_int</th>\n      <th>lead_text</th>\n      <th>lead_text_int</th>\n      <th>link</th>\n      <th>text</th>\n      <th>when_published</th>\n      <th>author</th>\n      <th>source</th>\n      <th>portal</th>\n    </tr>\n  </thead>\n  <tbody>\n    <tr>\n      <th>0</th>\n      <td>Czwartek pod znakiem silnego wiatru i opadów ś...</td>\n      <td>Pogoda na dziś - czwartek 20.01. Dzień pod zna...</td>\n      <td>Pogoda na dziś.</td>\n      <td>Pogoda na dziś zapowiada się pochmurno. Należy...</td>\n      <td>https://tvn24.pl/tvnmeteo/prognoza/pogoda-na-d...</td>\n      <td>Pogoda na dziś przyniesie nam duże zachmurzeni...</td>\n      <td>2022-01-20 02:00:00</td>\n      <td>kw</td>\n      <td>tvnmeteo.pl</td>\n      <td>tvn24</td>\n    </tr>\n    <tr>\n      <th>1</th>\n      <td>Silny wiatr, oblodzenie, zawieje lub zamiecie ...</td>\n      <td>Alerty IMGW - silny wiatr, oblodzenie, zawieje...</td>\n      <td>Sprawdź, gdzie wydano alarmy.</td>\n      <td>IMGW ostrzega - w wielu regionach kraju pogoda...</td>\n      <td>https://tvn24.pl/tvnmeteo/prognoza/alerty-imgw...</td>\n      <td>Synoptycy Instytutu Meteorologii i Gospodarki ...</td>\n      <td>2022-01-19 06:23:00</td>\n      <td>kw,ps/dd</td>\n      <td>IMGW</td>\n      <td>tvn24</td>\n    </tr>\n    <tr>\n      <th>2</th>\n      <td>\"Wartości zakażeń, które są w tej chwili podaw...</td>\n      <td>Ekspertka od modeli matematycznych: podawane w...</td>\n      <td>Doktor Aneta Afelt i doktor nauk medycznych Ma...</td>\n      <td>O epidemii COVID-19, liczbie zakażeń koronawir...</td>\n      <td>https://tvn24.pl/polska/koronawirus-w-polsce-d...</td>\n      <td>Do środy w Polsce potwierdzono 4 373 718 zakaż...</td>\n      <td>2022-01-19 21:35:00</td>\n      <td>akr</td>\n      <td>TVN24</td>\n      <td>tvn24</td>\n    </tr>\n    <tr>\n      <th>3</th>\n      <td>WOŚP 2022. Na placu Defilad stanął wielki nami...</td>\n      <td>WOŚP 2022. Na placu Defilad stanął wielki nami...</td>\n      <td>Będą to znani polscy artyści.</td>\n      <td>Jubileuszowy 30. Finał Wielkiej Orkiestry Świą...</td>\n      <td>https://tvn24.pl/tvnwarszawa/najnowsze/wosp-20...</td>\n      <td>30. Finał Wielkiej Orkiestry Świątecznej Pomoc...</td>\n      <td>2022-01-19 21:04:00</td>\n      <td>dg/gp</td>\n      <td>tvnwarszawa.pl</td>\n      <td>tvn24</td>\n    </tr>\n    <tr>\n      <th>4</th>\n      <td>Sikorski o sejmowej komisji: nie mając nic do ...</td>\n      <td>Sejmowa komisja w sprawie Pegasusa. Radosław S...</td>\n      <td>Europoseł był gościem \"Kropki nad i\".</td>\n      <td>Radosław Sikorski, europoseł Platformy Obywate...</td>\n      <td>https://tvn24.pl/polska/pegasus-sejmowa-komisj...</td>\n      <td>\"KROPKA NAD I\" - OGLĄDAJ W TVN24 GO &gt;&gt;&gt; Grupa ...</td>\n      <td>2022-01-19 20:50:00</td>\n      <td>mjz</td>\n      <td>TVN24</td>\n      <td>tvn24</td>\n    </tr>\n    <tr>\n      <th>...</th>\n      <td>...</td>\n      <td>...</td>\n      <td>...</td>\n      <td>...</td>\n      <td>...</td>\n      <td>...</td>\n      <td>...</td>\n      <td>...</td>\n      <td>...</td>\n      <td>...</td>\n    </tr>\n    <tr>\n      <th>295</th>\n      <td>Możliwe osiągnięcie stanów ostrzegawczych. Ost...</td>\n      <td>Możliwe osiągnięcie stanów ostrzegawczych. Ost...</td>\n      <td>Instytut Meteorologii i Gospodarki Wodnej wyda...</td>\n      <td>Poziom wód w rejonie Żuław i Zalewu Wiślanego ...</td>\n      <td>https://tvn24.pl/tvnmeteo/prognoza/imgw-alerty...</td>\n      <td>\"W związku z prognozowanym silnym, sztormowym ...</td>\n      <td>2022-01-15 06:55:00</td>\n      <td>ps</td>\n      <td>PAP, IMGW</td>\n      <td>tvn24</td>\n    </tr>\n    <tr>\n      <th>296</th>\n      <td>NFZ obcina stawki za testy na koronawirusa. Cz...</td>\n      <td>NFZ obcina stawki za testy na obecność koronaw...</td>\n      <td>Materiał magazynu \"Polska i Świat\".</td>\n      <td>Narodowy Fundusz Zdrowia obciął stawki na poje...</td>\n      <td>https://tvn24.pl/polska/koronawirus-w-polsce-n...</td>\n      <td>Najpierw wymaz, a później badanie w budynku tu...</td>\n      <td>2022-01-15 06:32:00</td>\n      <td>AleksandraKąkol</td>\n      <td>TVN24</td>\n      <td>tvn24</td>\n    </tr>\n    <tr>\n      <th>297</th>\n      <td>Pogoda na dziś. Termometry pokażą od 2 do 5 st...</td>\n      <td>Pogoda na dziś - sobota 15.01. Zachmurzenie bę...</td>\n      <td>W sobotę w całym kraju odczujemy chłód.</td>\n      <td>Pogoda na dziś. Sobota (15.01) upłynie pod zna...</td>\n      <td>https://tvn24.pl/tvnmeteo/prognoza/pogoda-na-d...</td>\n      <td>Na sobotę prognozowane jest zmienne zachmurzen...</td>\n      <td>2022-01-15 02:00:00</td>\n      <td>anw</td>\n      <td>tvnmeteo.pl</td>\n      <td>tvn24</td>\n    </tr>\n    <tr>\n      <th>298</th>\n      <td>\"Polskie prawo w sprawie inwigilacji nie odpow...</td>\n      <td>Rzecznik Praw Obywatelskich interweniuje u pre...</td>\n      <td>RPO interweniuje u premiera.</td>\n      <td>Rzecznik Praw Obywatelskich Marcin Wiącek wyst...</td>\n      <td>https://tvn24.pl/polska/pegasus-rzecznik-praw-...</td>\n      <td>OGLĄDAJ TVN24 W INTERNECIE W TVN24 GO Marcin W...</td>\n      <td>2022-01-14 22:49:00</td>\n      <td>mjz//rzw</td>\n      <td>PAP</td>\n      <td>tvn24</td>\n    </tr>\n    <tr>\n      <th>299</th>\n      <td>Samochód zjechał do Narwi z mola w Serocku. \"W...</td>\n      <td>Samochód zjechał do Narwi z mola w Serocku. \"W...</td>\n      <td>Po około dwóch godzinach wyciągnęli auto na br...</td>\n      <td>W piątek wieczorem samochód zjechał z mola w S...</td>\n      <td>https://tvn24.pl/tvnwarszawa/najnowsze/serock-...</td>\n      <td>Do zdarzenia doszło w Serocku, w okolicach mol...</td>\n      <td>2022-01-14 20:04:00</td>\n      <td>mp/r</td>\n      <td>tvnwarszawa.pl</td>\n      <td>tvn24</td>\n    </tr>\n  </tbody>\n</table>\n<p>300 rows × 10 columns</p>\n</div>"
     },
     "execution_count": 10,
     "metadata": {},
     "output_type": "execute_result"
    }
   ],
   "source": [
    "tvn24_dataframe = pd.DataFrame(article.__dict__ for article in scrapped_articles)\n",
    "tvn24_dataframe"
   ]
  },
  {
   "cell_type": "code",
   "execution_count": 11,
   "metadata": {
    "pycharm": {
     "name": "#%%\n"
    }
   },
   "outputs": [],
   "source": [
    "timestamp = int((datetime.now(timezone.utc)).timestamp())"
   ]
  },
  {
   "cell_type": "code",
   "execution_count": 37,
   "metadata": {
    "pycharm": {
     "name": "#%%\n"
    }
   },
   "outputs": [
    {
     "ename": "ArrowTypeError",
     "evalue": "(\"Expected bytes, got a 'WebArticle' object\", 'Conversion failed for column title with type object')",
     "output_type": "error",
     "traceback": [
      "\u001B[1;31m---------------------------------------------------------------------------\u001B[0m",
      "\u001B[1;31mArrowTypeError\u001B[0m                            Traceback (most recent call last)",
      "\u001B[1;32m~\\AppData\\Local\\Temp/ipykernel_16860/2656656873.py\u001B[0m in \u001B[0;36m<module>\u001B[1;34m\u001B[0m\n\u001B[1;32m----> 1\u001B[1;33m \u001B[0mtvn24_dataframe\u001B[0m\u001B[1;33m.\u001B[0m\u001B[0mto_parquet\u001B[0m\u001B[1;33m(\u001B[0m\u001B[1;34mf'{data_dir}/{portal_name}_{timestamp}.parquet'\u001B[0m\u001B[1;33m)\u001B[0m\u001B[1;33m\u001B[0m\u001B[1;33m\u001B[0m\u001B[0m\n\u001B[0m\u001B[0;32m      2\u001B[0m \u001B[0mtvn24_dataframe\u001B[0m\u001B[1;33m.\u001B[0m\u001B[0mto_json\u001B[0m\u001B[1;33m(\u001B[0m\u001B[1;34mf'{data_dir}/{portal_name}_{timestamp}.json'\u001B[0m\u001B[1;33m)\u001B[0m\u001B[1;33m\u001B[0m\u001B[1;33m\u001B[0m\u001B[0m\n",
      "\u001B[1;32m~\\anaconda3\\envs\\tm_experiment\\lib\\site-packages\\pandas\\util\\_decorators.py\u001B[0m in \u001B[0;36mwrapper\u001B[1;34m(*args, **kwargs)\u001B[0m\n\u001B[0;32m    205\u001B[0m                 \u001B[1;32melse\u001B[0m\u001B[1;33m:\u001B[0m\u001B[1;33m\u001B[0m\u001B[1;33m\u001B[0m\u001B[0m\n\u001B[0;32m    206\u001B[0m                     \u001B[0mkwargs\u001B[0m\u001B[1;33m[\u001B[0m\u001B[0mnew_arg_name\u001B[0m\u001B[1;33m]\u001B[0m \u001B[1;33m=\u001B[0m \u001B[0mnew_arg_value\u001B[0m\u001B[1;33m\u001B[0m\u001B[1;33m\u001B[0m\u001B[0m\n\u001B[1;32m--> 207\u001B[1;33m             \u001B[1;32mreturn\u001B[0m \u001B[0mfunc\u001B[0m\u001B[1;33m(\u001B[0m\u001B[1;33m*\u001B[0m\u001B[0margs\u001B[0m\u001B[1;33m,\u001B[0m \u001B[1;33m**\u001B[0m\u001B[0mkwargs\u001B[0m\u001B[1;33m)\u001B[0m\u001B[1;33m\u001B[0m\u001B[1;33m\u001B[0m\u001B[0m\n\u001B[0m\u001B[0;32m    208\u001B[0m \u001B[1;33m\u001B[0m\u001B[0m\n\u001B[0;32m    209\u001B[0m         \u001B[1;32mreturn\u001B[0m \u001B[0mcast\u001B[0m\u001B[1;33m(\u001B[0m\u001B[0mF\u001B[0m\u001B[1;33m,\u001B[0m \u001B[0mwrapper\u001B[0m\u001B[1;33m)\u001B[0m\u001B[1;33m\u001B[0m\u001B[1;33m\u001B[0m\u001B[0m\n",
      "\u001B[1;32m~\\anaconda3\\envs\\tm_experiment\\lib\\site-packages\\pandas\\core\\frame.py\u001B[0m in \u001B[0;36mto_parquet\u001B[1;34m(self, path, engine, compression, index, partition_cols, storage_options, **kwargs)\u001B[0m\n\u001B[0;32m   2675\u001B[0m         \u001B[1;32mfrom\u001B[0m \u001B[0mpandas\u001B[0m\u001B[1;33m.\u001B[0m\u001B[0mio\u001B[0m\u001B[1;33m.\u001B[0m\u001B[0mparquet\u001B[0m \u001B[1;32mimport\u001B[0m \u001B[0mto_parquet\u001B[0m\u001B[1;33m\u001B[0m\u001B[1;33m\u001B[0m\u001B[0m\n\u001B[0;32m   2676\u001B[0m \u001B[1;33m\u001B[0m\u001B[0m\n\u001B[1;32m-> 2677\u001B[1;33m         return to_parquet(\n\u001B[0m\u001B[0;32m   2678\u001B[0m             \u001B[0mself\u001B[0m\u001B[1;33m,\u001B[0m\u001B[1;33m\u001B[0m\u001B[1;33m\u001B[0m\u001B[0m\n\u001B[0;32m   2679\u001B[0m             \u001B[0mpath\u001B[0m\u001B[1;33m,\u001B[0m\u001B[1;33m\u001B[0m\u001B[1;33m\u001B[0m\u001B[0m\n",
      "\u001B[1;32m~\\anaconda3\\envs\\tm_experiment\\lib\\site-packages\\pandas\\io\\parquet.py\u001B[0m in \u001B[0;36mto_parquet\u001B[1;34m(df, path, engine, compression, index, storage_options, partition_cols, **kwargs)\u001B[0m\n\u001B[0;32m    414\u001B[0m     \u001B[0mpath_or_buf\u001B[0m\u001B[1;33m:\u001B[0m \u001B[0mFilePathOrBuffer\u001B[0m \u001B[1;33m=\u001B[0m \u001B[0mio\u001B[0m\u001B[1;33m.\u001B[0m\u001B[0mBytesIO\u001B[0m\u001B[1;33m(\u001B[0m\u001B[1;33m)\u001B[0m \u001B[1;32mif\u001B[0m \u001B[0mpath\u001B[0m \u001B[1;32mis\u001B[0m \u001B[1;32mNone\u001B[0m \u001B[1;32melse\u001B[0m \u001B[0mpath\u001B[0m\u001B[1;33m\u001B[0m\u001B[1;33m\u001B[0m\u001B[0m\n\u001B[0;32m    415\u001B[0m \u001B[1;33m\u001B[0m\u001B[0m\n\u001B[1;32m--> 416\u001B[1;33m     impl.write(\n\u001B[0m\u001B[0;32m    417\u001B[0m         \u001B[0mdf\u001B[0m\u001B[1;33m,\u001B[0m\u001B[1;33m\u001B[0m\u001B[1;33m\u001B[0m\u001B[0m\n\u001B[0;32m    418\u001B[0m         \u001B[0mpath_or_buf\u001B[0m\u001B[1;33m,\u001B[0m\u001B[1;33m\u001B[0m\u001B[1;33m\u001B[0m\u001B[0m\n",
      "\u001B[1;32m~\\anaconda3\\envs\\tm_experiment\\lib\\site-packages\\pandas\\io\\parquet.py\u001B[0m in \u001B[0;36mwrite\u001B[1;34m(self, df, path, compression, index, storage_options, partition_cols, **kwargs)\u001B[0m\n\u001B[0;32m    171\u001B[0m             \u001B[0mfrom_pandas_kwargs\u001B[0m\u001B[1;33m[\u001B[0m\u001B[1;34m\"preserve_index\"\u001B[0m\u001B[1;33m]\u001B[0m \u001B[1;33m=\u001B[0m \u001B[0mindex\u001B[0m\u001B[1;33m\u001B[0m\u001B[1;33m\u001B[0m\u001B[0m\n\u001B[0;32m    172\u001B[0m \u001B[1;33m\u001B[0m\u001B[0m\n\u001B[1;32m--> 173\u001B[1;33m         \u001B[0mtable\u001B[0m \u001B[1;33m=\u001B[0m \u001B[0mself\u001B[0m\u001B[1;33m.\u001B[0m\u001B[0mapi\u001B[0m\u001B[1;33m.\u001B[0m\u001B[0mTable\u001B[0m\u001B[1;33m.\u001B[0m\u001B[0mfrom_pandas\u001B[0m\u001B[1;33m(\u001B[0m\u001B[0mdf\u001B[0m\u001B[1;33m,\u001B[0m \u001B[1;33m**\u001B[0m\u001B[0mfrom_pandas_kwargs\u001B[0m\u001B[1;33m)\u001B[0m\u001B[1;33m\u001B[0m\u001B[1;33m\u001B[0m\u001B[0m\n\u001B[0m\u001B[0;32m    174\u001B[0m \u001B[1;33m\u001B[0m\u001B[0m\n\u001B[0;32m    175\u001B[0m         path_or_handle, handles, kwargs[\"filesystem\"] = _get_path_or_handle(\n",
      "\u001B[1;32m~\\anaconda3\\envs\\tm_experiment\\lib\\site-packages\\pyarrow\\table.pxi\u001B[0m in \u001B[0;36mpyarrow.lib.Table.from_pandas\u001B[1;34m()\u001B[0m\n",
      "\u001B[1;32m~\\anaconda3\\envs\\tm_experiment\\lib\\site-packages\\pyarrow\\pandas_compat.py\u001B[0m in \u001B[0;36mdataframe_to_arrays\u001B[1;34m(df, schema, preserve_index, nthreads, columns, safe)\u001B[0m\n\u001B[0;32m    592\u001B[0m \u001B[1;33m\u001B[0m\u001B[0m\n\u001B[0;32m    593\u001B[0m     \u001B[1;32mif\u001B[0m \u001B[0mnthreads\u001B[0m \u001B[1;33m==\u001B[0m \u001B[1;36m1\u001B[0m\u001B[1;33m:\u001B[0m\u001B[1;33m\u001B[0m\u001B[1;33m\u001B[0m\u001B[0m\n\u001B[1;32m--> 594\u001B[1;33m         arrays = [convert_column(c, f)\n\u001B[0m\u001B[0;32m    595\u001B[0m                   for c, f in zip(columns_to_convert, convert_fields)]\n\u001B[0;32m    596\u001B[0m     \u001B[1;32melse\u001B[0m\u001B[1;33m:\u001B[0m\u001B[1;33m\u001B[0m\u001B[1;33m\u001B[0m\u001B[0m\n",
      "\u001B[1;32m~\\anaconda3\\envs\\tm_experiment\\lib\\site-packages\\pyarrow\\pandas_compat.py\u001B[0m in \u001B[0;36m<listcomp>\u001B[1;34m(.0)\u001B[0m\n\u001B[0;32m    592\u001B[0m \u001B[1;33m\u001B[0m\u001B[0m\n\u001B[0;32m    593\u001B[0m     \u001B[1;32mif\u001B[0m \u001B[0mnthreads\u001B[0m \u001B[1;33m==\u001B[0m \u001B[1;36m1\u001B[0m\u001B[1;33m:\u001B[0m\u001B[1;33m\u001B[0m\u001B[1;33m\u001B[0m\u001B[0m\n\u001B[1;32m--> 594\u001B[1;33m         arrays = [convert_column(c, f)\n\u001B[0m\u001B[0;32m    595\u001B[0m                   for c, f in zip(columns_to_convert, convert_fields)]\n\u001B[0;32m    596\u001B[0m     \u001B[1;32melse\u001B[0m\u001B[1;33m:\u001B[0m\u001B[1;33m\u001B[0m\u001B[1;33m\u001B[0m\u001B[0m\n",
      "\u001B[1;32m~\\anaconda3\\envs\\tm_experiment\\lib\\site-packages\\pyarrow\\pandas_compat.py\u001B[0m in \u001B[0;36mconvert_column\u001B[1;34m(col, field)\u001B[0m\n\u001B[0;32m    579\u001B[0m             e.args += (\"Conversion failed for column {!s} with type {!s}\"\n\u001B[0;32m    580\u001B[0m                        .format(col.name, col.dtype),)\n\u001B[1;32m--> 581\u001B[1;33m             \u001B[1;32mraise\u001B[0m \u001B[0me\u001B[0m\u001B[1;33m\u001B[0m\u001B[1;33m\u001B[0m\u001B[0m\n\u001B[0m\u001B[0;32m    582\u001B[0m         \u001B[1;32mif\u001B[0m \u001B[1;32mnot\u001B[0m \u001B[0mfield_nullable\u001B[0m \u001B[1;32mand\u001B[0m \u001B[0mresult\u001B[0m\u001B[1;33m.\u001B[0m\u001B[0mnull_count\u001B[0m \u001B[1;33m>\u001B[0m \u001B[1;36m0\u001B[0m\u001B[1;33m:\u001B[0m\u001B[1;33m\u001B[0m\u001B[1;33m\u001B[0m\u001B[0m\n\u001B[0;32m    583\u001B[0m             raise ValueError(\"Field {} was non-nullable but pandas column \"\n",
      "\u001B[1;32m~\\anaconda3\\envs\\tm_experiment\\lib\\site-packages\\pyarrow\\pandas_compat.py\u001B[0m in \u001B[0;36mconvert_column\u001B[1;34m(col, field)\u001B[0m\n\u001B[0;32m    573\u001B[0m \u001B[1;33m\u001B[0m\u001B[0m\n\u001B[0;32m    574\u001B[0m         \u001B[1;32mtry\u001B[0m\u001B[1;33m:\u001B[0m\u001B[1;33m\u001B[0m\u001B[1;33m\u001B[0m\u001B[0m\n\u001B[1;32m--> 575\u001B[1;33m             \u001B[0mresult\u001B[0m \u001B[1;33m=\u001B[0m \u001B[0mpa\u001B[0m\u001B[1;33m.\u001B[0m\u001B[0marray\u001B[0m\u001B[1;33m(\u001B[0m\u001B[0mcol\u001B[0m\u001B[1;33m,\u001B[0m \u001B[0mtype\u001B[0m\u001B[1;33m=\u001B[0m\u001B[0mtype_\u001B[0m\u001B[1;33m,\u001B[0m \u001B[0mfrom_pandas\u001B[0m\u001B[1;33m=\u001B[0m\u001B[1;32mTrue\u001B[0m\u001B[1;33m,\u001B[0m \u001B[0msafe\u001B[0m\u001B[1;33m=\u001B[0m\u001B[0msafe\u001B[0m\u001B[1;33m)\u001B[0m\u001B[1;33m\u001B[0m\u001B[1;33m\u001B[0m\u001B[0m\n\u001B[0m\u001B[0;32m    576\u001B[0m         except (pa.ArrowInvalid,\n\u001B[0;32m    577\u001B[0m                 \u001B[0mpa\u001B[0m\u001B[1;33m.\u001B[0m\u001B[0mArrowNotImplementedError\u001B[0m\u001B[1;33m,\u001B[0m\u001B[1;33m\u001B[0m\u001B[1;33m\u001B[0m\u001B[0m\n",
      "\u001B[1;32m~\\anaconda3\\envs\\tm_experiment\\lib\\site-packages\\pyarrow\\array.pxi\u001B[0m in \u001B[0;36mpyarrow.lib.array\u001B[1;34m()\u001B[0m\n",
      "\u001B[1;32m~\\anaconda3\\envs\\tm_experiment\\lib\\site-packages\\pyarrow\\array.pxi\u001B[0m in \u001B[0;36mpyarrow.lib._ndarray_to_array\u001B[1;34m()\u001B[0m\n",
      "\u001B[1;32m~\\anaconda3\\envs\\tm_experiment\\lib\\site-packages\\pyarrow\\error.pxi\u001B[0m in \u001B[0;36mpyarrow.lib.check_status\u001B[1;34m()\u001B[0m\n",
      "\u001B[1;31mArrowTypeError\u001B[0m: (\"Expected bytes, got a 'WebArticle' object\", 'Conversion failed for column title with type object')"
     ]
    }
   ],
   "source": [
    "tvn24_dataframe.to_parquet(f'{data_dir}/{portal_name}_{timestamp}.parquet')\n",
    "tvn24_dataframe.to_json(f'{data_dir}/{portal_name}_{timestamp}.json')"
   ]
  },
  {
   "cell_type": "markdown",
   "metadata": {},
   "source": [
    "Krótki test - dane pierwszego artykułu"
   ]
  },
  {
   "cell_type": "code",
   "execution_count": 13,
   "metadata": {
    "pycharm": {
     "name": "#%%\n"
    }
   },
   "outputs": [
    {
     "name": "stdout",
     "output_type": "stream",
     "text": [
      "title:\n",
      "  Czwartek pod znakiem silnego wiatru i opadów śniegu\n",
      "lead_text:\n",
      "  Pogoda na dziś.\n",
      "link:\n",
      "  https://tvn24.pl/tvnmeteo/prognoza/pogoda-na-dzis-czwartek-2001-dzien-pod-znakiem-silnego-wiatru-i-opadow-sniegu-5565971\n",
      "text:\n",
      "  Pogoda na dziś przyniesie nam duże zachmurzenie z większymi przejaśnieniami. Wystąpią przelotne opady śniegu do 1-5 centymetrów, w górach - do 10 cm. Początkowo, szczególnie na południu, pojawią się również opady deszczu ze śniegiem. Na termometrach zobaczymy maksymalnie od -1 stopnia Celsjusza na północnym wschodzie kraju do 2 st. C na Podkarpaciu. Zachodni i północno-zachodni wiatr będzie silny - w porywach może rozpędzać się do 50-70 kilometrów na godzinę. W niektórych miejscach na południu porywy mogą sięgać jednak do 90 km/h, a na Wybrzeżu - do 100 km/h. Wilgotność powietrza w ciągu dnia znajdzie się na poziomie 60-80 procent, przy czym najwyższa będzie na południu, w centrum kraju oraz na wschodzie. Mieszkańcy całej Polski odczują zimno, a uczucie chłodu będzie potęgowane przez silny wiatr. Warunki biometeorologiczne okażą się niekorzystne. Pochmurno z przejaśnieniami, okresami przelotne opady śniegu do 1-3 cm. Termometry pokażą maksymalnie 1 st. C. Zachodni wiatr będzie dość silny, w porywach osiągnie do 50-70 km/h. W południe barometry wskażą 989 hPa. Pochmurno z przejaśnieniami, przelotne opady śniegu do 1-3 cm. Na termometrach zobaczymy maksymalnie 1 st. C. Powieje z północnego zachodu, dość silnie, w porywach do 50-70 km/h. Ciśnienie w południe wyniesie 1000 hPa. Pochmurno z większymi przejaśnieniami, okresami przelotne opady śniegu do 1-3 cm. Temperatura maksymalna sięgnie 0 st. C. Wiatr z zachodu będzie silny - do 70-90 km/h. W południe na barometrach zobaczymy do 998 hPa. Pochmurno z większymi przejaśnieniami i okresowo rozpogodzeniami. Rano przelotne opady deszczu ze śniegiem do 1-2 l/mkw., a po południu i wieczorem przelotne opady śniegu do 1-3 cm. Temperatura maksymalna wyniesie 1 st. C. Zachodni wiatr będzie silny, a rozpędzi się do 70-90 km/h. Ciśnienie w południe sięgnie 998 hPa. Pochmurno z przelotnymi opadami deszczu ze śniegiem i mokrego śniegu do 2-5 cm. Termometry pokażą maksymalnie do 2 st. C. Z zachodu powieje dość silny wiatr, który w porywach będzie osiągał do 50-70 km/h. Ciśnienie w południe wyniesie 981 hPa. \n",
      "when_published:\n",
      "  2022-01-20 02:00:00\n"
     ]
    }
   ],
   "source": [
    "print(f'title:\\n  {tvn24_dataframe.iloc[0][\"title\"]}')\n",
    "print(f'lead_text:\\n  {tvn24_dataframe.iloc[0][\"lead_text\"]}')\n",
    "print(f'link:\\n  {tvn24_dataframe.iloc[0][\"link\"]}')\n",
    "print(f'text:\\n  {tvn24_dataframe.iloc[0][\"text\"]}')\n",
    "print(f'when_published:\\n  {tvn24_dataframe.iloc[0][\"when_published\"]}')"
   ]
  },
  {
   "cell_type": "code",
   "execution_count": 34,
   "metadata": {
    "pycharm": {
     "name": "#%%\n"
    }
   },
   "outputs": [
    {
     "name": "stdout",
     "output_type": "stream",
     "text": [
      "title:\n",
      "  Śmiertelny wypadek na S1. Zderzenie ciągnika, osobówki i busa\n",
      "lead_text:\n",
      "  Cztery osoby w szpitalu, jedna nie żyje.\n",
      "link:\n",
      "  https://tvn24.pl/katowice/slaskie-zywiec-trasa-s1-smiertelny-wypadek-z-udzialem-ciagnika-osobowki-i-busa-5563116\n",
      "text:\n",
      "  Do tragicznego wypadku na trasie S1 doszło około godz. 20. Według informacji dyżurnego Wojewódzkiego Stanowiska Koordynacji Ratownictwa, kierujący ciągnikiem z naczepą na rozwidleniu drogi nie zastosował się do oznakowania. Wjechał na trasę pod prąd i tam zderzył się czołowo z samochodem osobowym, a następnie uderzył w busa. OGLĄDAJ NA ŻYWO W TVN24 GO Cztery osoby - pasażerka samochodu osobowego, kierowca samochodu ciężarowego i dwie osoby podróżujące busem - zostały zabrane do szpitala. Niestety zderzenia nie przeżył kierujący samochodem osobowym. Dyżurny WSKR poinformował, że na miejscu wypadku przybył prokurator i cztery zastępy straży pożarnej. Strażacy, poza zabezpieczeniem miejsca wypadku, musieli między innymi wypompowywać olej napędowy z ciężarówki. Późnym wieczorem droga wciąż była zablokowana. \n",
      "when_published:\n",
      "  2022-01-17 23:17:00\n",
      "portal:\n",
      "  tvn24\n"
     ]
    }
   ],
   "source": [
    "print(f'title:\\n  {tvn24_dataframe.iloc[172][\"title\"]}')\n",
    "print(f'lead_text:\\n  {tvn24_dataframe.iloc[172][\"lead_text\"]}')\n",
    "print(f'link:\\n  {tvn24_dataframe.iloc[172][\"link\"]}')\n",
    "print(f'text:\\n  {tvn24_dataframe.iloc[172][\"text\"]}')\n",
    "print(f'when_published:\\n  {tvn24_dataframe.iloc[172][\"when_published\"]}')\n",
    "print(f'portal:\\n  {tvn24_dataframe.iloc[172][\"portal\"]}')"
   ]
  },
  {
   "cell_type": "code",
   "execution_count": 40,
   "outputs": [],
   "source": [
    "# fix article 172 - did not load properly\n",
    "link172 = 'https://tvn24.pl/katowice/slaskie-zywiec-trasa-s1-smiertelny-wypadek-z-udzialem-ciagnika-osobowki-i-busa-5563116'\n",
    "title = 'Śmiertelny wypadek na S1. Zderzenie ciągnika, osobówki i busa'\n",
    "result = scrap_article_text_tvn24(link172)\n",
    "tvn24_dataframe.at[172,'title'] = title\n",
    "tvn24_dataframe.at[172,'lead_text'] = 'Cztery osoby w szpitalu, jedna nie żyje.'\n",
    "tvn24_dataframe.at[172,'link'] = link172\n",
    "tvn24_dataframe.at[172,'text'] = result[0]\n",
    "tvn24_dataframe.at[172,'when_published'] = result[1]\n",
    "tvn24_dataframe.at[172,'title_int'] = result[2]\n",
    "tvn24_dataframe.at[172,'lead_text_int'] = result[3]\n",
    "tvn24_dataframe.at[172,'author'] = result[4]\n",
    "tvn24_dataframe.at[172,'source'] = result[5]\n",
    "tvn24_dataframe.at[172,'portal'] = portal_name\n",
    "\n",
    "tvn24_dataframe.to_parquet(f'{data_dir}/{portal_name}_{timestamp}.parquet')\n",
    "tvn24_dataframe.to_json(f'{data_dir}/{portal_name}_{timestamp}.json')"
   ],
   "metadata": {
    "collapsed": false,
    "pycharm": {
     "name": "#%%\n"
    }
   }
  },
  {
   "cell_type": "code",
   "execution_count": 39,
   "outputs": [
    {
     "name": "stdout",
     "output_type": "stream",
     "text": [
      "text: Do tragicznego wypadku na trasie S1 doszło około godz. 20. Według informacji dyżurnego Wojewódzkiego Stanowiska Koordynacji Ratownictwa, kierujący ciągnikiem z naczepą na rozwidleniu drogi nie zastosował się do oznakowania. Wjechał na trasę pod prąd i tam zderzył się czołowo z samochodem osobowym, a następnie uderzył w busa. OGLĄDAJ NA ŻYWO W TVN24 GO Cztery osoby - pasażerka samochodu osobowego, kierowca samochodu ciężarowego i dwie osoby podróżujące busem - zostały zabrane do szpitala. Niestety zderzenia nie przeżył kierujący samochodem osobowym. Dyżurny WSKR poinformował, że na miejscu wypadku przybył prokurator i cztery zastępy straży pożarnej. Strażacy, poza zabezpieczeniem miejsca wypadku, musieli między innymi wypompowywać olej napędowy z ciężarówki. Późnym wieczorem droga wciąż była zablokowana. \n",
      "when_published: 2022-01-17 23:17:00\n",
      "title_int: Śmiertelny wypadek na trasie S1. Zderzenie ciągnika, osobówki i busa\n",
      "lead_text_int: Na trasie S1 w Żywcu, w kierunku Węgierskiej Górki, doszło do tragicznego wypadku. Dyżurny Wojewódzkiego Stanowiska Koordynacji Ratownictwa przekazał, że kierujący ciągnikiem z naczepą wjechał pod prąd na trasę, zderzył się z samochodem osobowym, a następnie uderzył w busa. Cztery osoby zabrano do szpitala. Jedna nie żyje.\n",
      "author: asty/adso\n",
      "source: TVN24, zywiecinfo.pl\n",
      "<class 'datetime.datetime'>\n",
      "<class 'datetime.datetime'>\n"
     ]
    }
   ],
   "source": [
    "result = scrap_article_text_tvn24(link172)\n",
    "print(f'text: {result[0]}')\n",
    "print(f'when_published: {result[1]}')\n",
    "print(f'title_int: {result[2]}')\n",
    "print(f'lead_text_int: {result[3]}')\n",
    "print(f'author: {result[4]}')\n",
    "print(f'source: {result[5]}')\n",
    "print(type(result[1]))\n",
    "print(type(tvn24_dataframe.iloc[172][\"when_published\"]))"
   ],
   "metadata": {
    "collapsed": false,
    "pycharm": {
     "name": "#%%\n"
    }
   }
  },
  {
   "cell_type": "code",
   "execution_count": 35,
   "outputs": [
    {
     "data": {
      "text/plain": "                                                 title  \\\n0    Czwartek pod znakiem silnego wiatru i opadów ś...   \n1    Silny wiatr, oblodzenie, zawieje lub zamiecie ...   \n2    \"Wartości zakażeń, które są w tej chwili podaw...   \n3    WOŚP 2022. Na placu Defilad stanął wielki nami...   \n4    Sikorski o sejmowej komisji: nie mając nic do ...   \n..                                                 ...   \n295  Możliwe osiągnięcie stanów ostrzegawczych. Ost...   \n296  NFZ obcina stawki za testy na koronawirusa. Cz...   \n297  Pogoda na dziś. Termometry pokażą od 2 do 5 st...   \n298  \"Polskie prawo w sprawie inwigilacji nie odpow...   \n299  Samochód zjechał do Narwi z mola w Serocku. \"W...   \n\n                                             title_int  \\\n0    Pogoda na dziś - czwartek 20.01. Dzień pod zna...   \n1    Alerty IMGW - silny wiatr, oblodzenie, zawieje...   \n2    Ekspertka od modeli matematycznych: podawane w...   \n3    WOŚP 2022. Na placu Defilad stanął wielki nami...   \n4    Sejmowa komisja w sprawie Pegasusa. Radosław S...   \n..                                                 ...   \n295  Możliwe osiągnięcie stanów ostrzegawczych. Ost...   \n296  NFZ obcina stawki za testy na obecność koronaw...   \n297  Pogoda na dziś - sobota 15.01. Zachmurzenie bę...   \n298  Rzecznik Praw Obywatelskich interweniuje u pre...   \n299  Samochód zjechał do Narwi z mola w Serocku. \"W...   \n\n                                             lead_text  \\\n0                                      Pogoda na dziś.   \n1                        Sprawdź, gdzie wydano alarmy.   \n2    Doktor Aneta Afelt i doktor nauk medycznych Ma...   \n3                        Będą to znani polscy artyści.   \n4                Europoseł był gościem \"Kropki nad i\".   \n..                                                 ...   \n295  Instytut Meteorologii i Gospodarki Wodnej wyda...   \n296                Materiał magazynu \"Polska i Świat\".   \n297            W sobotę w całym kraju odczujemy chłód.   \n298                       RPO interweniuje u premiera.   \n299  Po około dwóch godzinach wyciągnęli auto na br...   \n\n                                         lead_text_int  \\\n0    Pogoda na dziś zapowiada się pochmurno. Należy...   \n1    IMGW ostrzega - w wielu regionach kraju pogoda...   \n2    O epidemii COVID-19, liczbie zakażeń koronawir...   \n3    Jubileuszowy 30. Finał Wielkiej Orkiestry Świą...   \n4    Radosław Sikorski, europoseł Platformy Obywate...   \n..                                                 ...   \n295  Poziom wód w rejonie Żuław i Zalewu Wiślanego ...   \n296  Narodowy Fundusz Zdrowia obciął stawki na poje...   \n297  Pogoda na dziś. Sobota (15.01) upłynie pod zna...   \n298  Rzecznik Praw Obywatelskich Marcin Wiącek wyst...   \n299  W piątek wieczorem samochód zjechał z mola w S...   \n\n                                                  link  \\\n0    https://tvn24.pl/tvnmeteo/prognoza/pogoda-na-d...   \n1    https://tvn24.pl/tvnmeteo/prognoza/alerty-imgw...   \n2    https://tvn24.pl/polska/koronawirus-w-polsce-d...   \n3    https://tvn24.pl/tvnwarszawa/najnowsze/wosp-20...   \n4    https://tvn24.pl/polska/pegasus-sejmowa-komisj...   \n..                                                 ...   \n295  https://tvn24.pl/tvnmeteo/prognoza/imgw-alerty...   \n296  https://tvn24.pl/polska/koronawirus-w-polsce-n...   \n297  https://tvn24.pl/tvnmeteo/prognoza/pogoda-na-d...   \n298  https://tvn24.pl/polska/pegasus-rzecznik-praw-...   \n299  https://tvn24.pl/tvnwarszawa/najnowsze/serock-...   \n\n                                                  text       when_published  \\\n0    Pogoda na dziś przyniesie nam duże zachmurzeni...  2022-01-20 02:00:00   \n1    Synoptycy Instytutu Meteorologii i Gospodarki ...  2022-01-19 06:23:00   \n2    Do środy w Polsce potwierdzono 4 373 718 zakaż...  2022-01-19 21:35:00   \n3    30. Finał Wielkiej Orkiestry Świątecznej Pomoc...  2022-01-19 21:04:00   \n4    \"KROPKA NAD I\" - OGLĄDAJ W TVN24 GO >>> Grupa ...  2022-01-19 20:50:00   \n..                                                 ...                  ...   \n295  \"W związku z prognozowanym silnym, sztormowym ...  2022-01-15 06:55:00   \n296  Najpierw wymaz, a później badanie w budynku tu...  2022-01-15 06:32:00   \n297  Na sobotę prognozowane jest zmienne zachmurzen...  2022-01-15 02:00:00   \n298  OGLĄDAJ TVN24 W INTERNECIE W TVN24 GO Marcin W...  2022-01-14 22:49:00   \n299  Do zdarzenia doszło w Serocku, w okolicach mol...  2022-01-14 20:04:00   \n\n              author          source portal  \n0                 kw     tvnmeteo.pl  tvn24  \n1           kw,ps/dd            IMGW  tvn24  \n2                akr           TVN24  tvn24  \n3              dg/gp  tvnwarszawa.pl  tvn24  \n4                mjz           TVN24  tvn24  \n..               ...             ...    ...  \n295               ps       PAP, IMGW  tvn24  \n296  AleksandraKąkol           TVN24  tvn24  \n297              anw     tvnmeteo.pl  tvn24  \n298         mjz//rzw             PAP  tvn24  \n299             mp/r  tvnwarszawa.pl  tvn24  \n\n[300 rows x 10 columns]",
      "text/html": "<div>\n<style scoped>\n    .dataframe tbody tr th:only-of-type {\n        vertical-align: middle;\n    }\n\n    .dataframe tbody tr th {\n        vertical-align: top;\n    }\n\n    .dataframe thead th {\n        text-align: right;\n    }\n</style>\n<table border=\"1\" class=\"dataframe\">\n  <thead>\n    <tr style=\"text-align: right;\">\n      <th></th>\n      <th>title</th>\n      <th>title_int</th>\n      <th>lead_text</th>\n      <th>lead_text_int</th>\n      <th>link</th>\n      <th>text</th>\n      <th>when_published</th>\n      <th>author</th>\n      <th>source</th>\n      <th>portal</th>\n    </tr>\n  </thead>\n  <tbody>\n    <tr>\n      <th>0</th>\n      <td>Czwartek pod znakiem silnego wiatru i opadów ś...</td>\n      <td>Pogoda na dziś - czwartek 20.01. Dzień pod zna...</td>\n      <td>Pogoda na dziś.</td>\n      <td>Pogoda na dziś zapowiada się pochmurno. Należy...</td>\n      <td>https://tvn24.pl/tvnmeteo/prognoza/pogoda-na-d...</td>\n      <td>Pogoda na dziś przyniesie nam duże zachmurzeni...</td>\n      <td>2022-01-20 02:00:00</td>\n      <td>kw</td>\n      <td>tvnmeteo.pl</td>\n      <td>tvn24</td>\n    </tr>\n    <tr>\n      <th>1</th>\n      <td>Silny wiatr, oblodzenie, zawieje lub zamiecie ...</td>\n      <td>Alerty IMGW - silny wiatr, oblodzenie, zawieje...</td>\n      <td>Sprawdź, gdzie wydano alarmy.</td>\n      <td>IMGW ostrzega - w wielu regionach kraju pogoda...</td>\n      <td>https://tvn24.pl/tvnmeteo/prognoza/alerty-imgw...</td>\n      <td>Synoptycy Instytutu Meteorologii i Gospodarki ...</td>\n      <td>2022-01-19 06:23:00</td>\n      <td>kw,ps/dd</td>\n      <td>IMGW</td>\n      <td>tvn24</td>\n    </tr>\n    <tr>\n      <th>2</th>\n      <td>\"Wartości zakażeń, które są w tej chwili podaw...</td>\n      <td>Ekspertka od modeli matematycznych: podawane w...</td>\n      <td>Doktor Aneta Afelt i doktor nauk medycznych Ma...</td>\n      <td>O epidemii COVID-19, liczbie zakażeń koronawir...</td>\n      <td>https://tvn24.pl/polska/koronawirus-w-polsce-d...</td>\n      <td>Do środy w Polsce potwierdzono 4 373 718 zakaż...</td>\n      <td>2022-01-19 21:35:00</td>\n      <td>akr</td>\n      <td>TVN24</td>\n      <td>tvn24</td>\n    </tr>\n    <tr>\n      <th>3</th>\n      <td>WOŚP 2022. Na placu Defilad stanął wielki nami...</td>\n      <td>WOŚP 2022. Na placu Defilad stanął wielki nami...</td>\n      <td>Będą to znani polscy artyści.</td>\n      <td>Jubileuszowy 30. Finał Wielkiej Orkiestry Świą...</td>\n      <td>https://tvn24.pl/tvnwarszawa/najnowsze/wosp-20...</td>\n      <td>30. Finał Wielkiej Orkiestry Świątecznej Pomoc...</td>\n      <td>2022-01-19 21:04:00</td>\n      <td>dg/gp</td>\n      <td>tvnwarszawa.pl</td>\n      <td>tvn24</td>\n    </tr>\n    <tr>\n      <th>4</th>\n      <td>Sikorski o sejmowej komisji: nie mając nic do ...</td>\n      <td>Sejmowa komisja w sprawie Pegasusa. Radosław S...</td>\n      <td>Europoseł był gościem \"Kropki nad i\".</td>\n      <td>Radosław Sikorski, europoseł Platformy Obywate...</td>\n      <td>https://tvn24.pl/polska/pegasus-sejmowa-komisj...</td>\n      <td>\"KROPKA NAD I\" - OGLĄDAJ W TVN24 GO &gt;&gt;&gt; Grupa ...</td>\n      <td>2022-01-19 20:50:00</td>\n      <td>mjz</td>\n      <td>TVN24</td>\n      <td>tvn24</td>\n    </tr>\n    <tr>\n      <th>...</th>\n      <td>...</td>\n      <td>...</td>\n      <td>...</td>\n      <td>...</td>\n      <td>...</td>\n      <td>...</td>\n      <td>...</td>\n      <td>...</td>\n      <td>...</td>\n      <td>...</td>\n    </tr>\n    <tr>\n      <th>295</th>\n      <td>Możliwe osiągnięcie stanów ostrzegawczych. Ost...</td>\n      <td>Możliwe osiągnięcie stanów ostrzegawczych. Ost...</td>\n      <td>Instytut Meteorologii i Gospodarki Wodnej wyda...</td>\n      <td>Poziom wód w rejonie Żuław i Zalewu Wiślanego ...</td>\n      <td>https://tvn24.pl/tvnmeteo/prognoza/imgw-alerty...</td>\n      <td>\"W związku z prognozowanym silnym, sztormowym ...</td>\n      <td>2022-01-15 06:55:00</td>\n      <td>ps</td>\n      <td>PAP, IMGW</td>\n      <td>tvn24</td>\n    </tr>\n    <tr>\n      <th>296</th>\n      <td>NFZ obcina stawki za testy na koronawirusa. Cz...</td>\n      <td>NFZ obcina stawki za testy na obecność koronaw...</td>\n      <td>Materiał magazynu \"Polska i Świat\".</td>\n      <td>Narodowy Fundusz Zdrowia obciął stawki na poje...</td>\n      <td>https://tvn24.pl/polska/koronawirus-w-polsce-n...</td>\n      <td>Najpierw wymaz, a później badanie w budynku tu...</td>\n      <td>2022-01-15 06:32:00</td>\n      <td>AleksandraKąkol</td>\n      <td>TVN24</td>\n      <td>tvn24</td>\n    </tr>\n    <tr>\n      <th>297</th>\n      <td>Pogoda na dziś. Termometry pokażą od 2 do 5 st...</td>\n      <td>Pogoda na dziś - sobota 15.01. Zachmurzenie bę...</td>\n      <td>W sobotę w całym kraju odczujemy chłód.</td>\n      <td>Pogoda na dziś. Sobota (15.01) upłynie pod zna...</td>\n      <td>https://tvn24.pl/tvnmeteo/prognoza/pogoda-na-d...</td>\n      <td>Na sobotę prognozowane jest zmienne zachmurzen...</td>\n      <td>2022-01-15 02:00:00</td>\n      <td>anw</td>\n      <td>tvnmeteo.pl</td>\n      <td>tvn24</td>\n    </tr>\n    <tr>\n      <th>298</th>\n      <td>\"Polskie prawo w sprawie inwigilacji nie odpow...</td>\n      <td>Rzecznik Praw Obywatelskich interweniuje u pre...</td>\n      <td>RPO interweniuje u premiera.</td>\n      <td>Rzecznik Praw Obywatelskich Marcin Wiącek wyst...</td>\n      <td>https://tvn24.pl/polska/pegasus-rzecznik-praw-...</td>\n      <td>OGLĄDAJ TVN24 W INTERNECIE W TVN24 GO Marcin W...</td>\n      <td>2022-01-14 22:49:00</td>\n      <td>mjz//rzw</td>\n      <td>PAP</td>\n      <td>tvn24</td>\n    </tr>\n    <tr>\n      <th>299</th>\n      <td>Samochód zjechał do Narwi z mola w Serocku. \"W...</td>\n      <td>Samochód zjechał do Narwi z mola w Serocku. \"W...</td>\n      <td>Po około dwóch godzinach wyciągnęli auto na br...</td>\n      <td>W piątek wieczorem samochód zjechał z mola w S...</td>\n      <td>https://tvn24.pl/tvnwarszawa/najnowsze/serock-...</td>\n      <td>Do zdarzenia doszło w Serocku, w okolicach mol...</td>\n      <td>2022-01-14 20:04:00</td>\n      <td>mp/r</td>\n      <td>tvnwarszawa.pl</td>\n      <td>tvn24</td>\n    </tr>\n  </tbody>\n</table>\n<p>300 rows × 10 columns</p>\n</div>"
     },
     "execution_count": 35,
     "metadata": {},
     "output_type": "execute_result"
    }
   ],
   "source": [
    "tvn24_dataframe"
   ],
   "metadata": {
    "collapsed": false,
    "pycharm": {
     "name": "#%%\n"
    }
   }
  },
  {
   "cell_type": "code",
   "execution_count": null,
   "outputs": [],
   "source": [],
   "metadata": {
    "collapsed": false,
    "pycharm": {
     "name": "#%%\n"
    }
   }
  }
 ],
 "metadata": {
  "kernelspec": {
   "display_name": "Python 3 (ipykernel)",
   "language": "python",
   "name": "python3"
  },
  "language_info": {
   "codemirror_mode": {
    "name": "ipython",
    "version": 3
   },
   "file_extension": ".py",
   "mimetype": "text/x-python",
   "name": "python",
   "nbconvert_exporter": "python",
   "pygments_lexer": "ipython3",
   "version": "3.9.7"
  }
 },
 "nbformat": 4,
 "nbformat_minor": 1
}