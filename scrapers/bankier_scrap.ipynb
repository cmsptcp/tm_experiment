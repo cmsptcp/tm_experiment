{
 "cells": [
  {
   "cell_type": "markdown",
   "metadata": {
    "collapsed": true,
    "pycharm": {
     "name": "#%% md\n"
    }
   },
   "source": [
    "Pobieranie wiadomości z bankier.pl\n",
    "Zapis do pliku ./data/bankier_{timestamp}.txt"
   ]
  },
  {
   "cell_type": "code",
   "execution_count": 1,
   "outputs": [],
   "source": [
    "# ! pip install bs4\n",
    "# ! pip install requests\n",
    "# ! pip install tqdm\n",
    "# ! pip install pandas\n",
    "# ! pip install pyarrow\n",
    "# ! pip install qgrid\n",
    "# ! pip install blaze\n",
    "# ! pip install ipynbname"
   ],
   "metadata": {
    "collapsed": false,
    "pycharm": {
     "name": "#%%\n"
    }
   }
  },
  {
   "cell_type": "code",
   "execution_count": 2,
   "outputs": [],
   "source": [
    "import requests\n",
    "from bs4 import BeautifulSoup\n",
    "from tqdm import tqdm, trange\n",
    "from datetime import datetime, timezone\n",
    "from common.webarticle import WebArticle\n",
    "from common.pl_helper import PolishLocaleHelper\n",
    "import pandas as pd\n",
    "import logging\n",
    "import ipynbname"
   ],
   "metadata": {
    "collapsed": false,
    "pycharm": {
     "name": "#%%\n"
    }
   }
  },
  {
   "cell_type": "code",
   "execution_count": 3,
   "outputs": [],
   "source": [
    "# settings:\n",
    "portal_name = 'bankier'\n",
    "website = 'https://www.bankier.pl/wiadomosc'\n",
    "website_short = 'https://www.bankier.pl'\n",
    "pagination_attributes = '/'\n",
    "no_articles_to_scrap = 300\n",
    "data_dir = '../data'\n",
    "logging.basicConfig(\n",
    "    filename=f'../logs/{ipynbname.name()}.ipynb.log',\n",
    "    encoding='utf-8',\n",
    "    level=logging.DEBUG\n",
    ")\n",
    "ignored_paragraph_starts = []"
   ],
   "metadata": {
    "collapsed": false,
    "pycharm": {
     "name": "#%%\n"
    }
   }
  },
  {
   "cell_type": "markdown",
   "source": [
    "Sprawdźmy plik robots.txt, w czasie pisania tego kodu pozwalał na pobieranie plików z portalu bankier z kategorii wiadomosc z drobnymi wyjątkami (zakaz dotyczył kilku starych artykułów)"
   ],
   "metadata": {
    "collapsed": false
   }
  },
  {
   "cell_type": "code",
   "execution_count": 4,
   "outputs": [
    {
     "name": "stdout",
     "output_type": "stream",
     "text": [
      "User-agent: *\n",
      "Disallow: /content\n",
      "Disallow: /e/\n",
      "Disallow: /forum/zgloszenie\n",
      "Disallow: /forum/wyslij-znajomemu\n",
      "Disallow: /forum/twoje-posty\n",
      "Disallow: /forum/obserwowane\n",
      "Disallow: /forum/obserwuj\n",
      "Disallow: /cf/viasms.html\n",
      "Disallow: /gielda/notowania/akcje/last_intraday?symbol=\n",
      "Disallow: /partnerzy\n",
      "Disallow: /forum/nowa-wiadomosc\n",
      "Disallow: /kredyty-hipoteczne/cenatorium\n",
      "Disallow: /gielda/notowania/akcje/charts\n",
      "Disallow: /wiadomosc/Australia-zdecyduje-o-przyszlosci-JSW-7539353.html\n",
      "Disallow: /forum/temat_wojciech-sobieraj-nowym-prezesem-idea-bank,24967583.html\n",
      "Disallow: /forum/temat_re-wojciech-sobieraj-nowym-prezesem-idea-bank,27082265.html\n",
      "Disallow: /forum/temat_uwaga-ewelina-sokolowska-oszustka-mieszkaniowa,26040125.html\n",
      "Disallow: /wiadomosc/Feerum-ocenia-pozew-Krot-Plon-o-zaplate-44-84-mln-zl-za-bezzasadny-7646880.html\n",
      "Disallow: /forum/temat_powiedzmy-wprost-arkadiusz-kuich-to-oszust,11918677.html\n",
      "Disallow: /forum/temat_ziemowit-stempin-strzezcie-sie-go,6797506.html\n",
      "Disallow: /static/js/forum-link.js\n",
      "\n"
     ]
    }
   ],
   "source": [
    "resp = requests.get('https://www.bankier.pl/robots.txt')\n",
    "print(resp.text)"
   ],
   "metadata": {
    "collapsed": false,
    "pycharm": {
     "name": "#%%\n"
    }
   }
  },
  {
   "cell_type": "code",
   "execution_count": 5,
   "outputs": [],
   "source": [
    "def check_if_ignored_paragraph(text, ignored_paragraphs, operation='startswith'):\n",
    "\n",
    "    for ignored_paragraph in ignored_paragraphs:\n",
    "        if operation == 'startswith':\n",
    "            if text.startswith(ignored_paragraph):\n",
    "                return True\n",
    "        else:\n",
    "            logging.debug(f'check_if_ignored: operation {operation} not implemented')\n",
    "    return False\n"
   ],
   "metadata": {
    "collapsed": false,
    "pycharm": {
     "name": "#%%\n"
    }
   }
  },
  {
   "cell_type": "code",
   "execution_count": 6,
   "outputs": [],
   "source": [
    "def scrap_article_text_bankier(link):\n",
    "    logging.info('scrap_article_text_bankier:')\n",
    "    logging.info(f'article link to scrap: {link}')\n",
    "\n",
    "    page = requests.get(link)\n",
    "    if page.status_code != 200:\n",
    "        logging.debug(f'received status code: {page.status_code}')\n",
    "        return '', ''\n",
    "\n",
    "    soup = BeautifulSoup(page.content, 'html.parser')\n",
    "    paragraphs = soup.find('section', class_='o-article-content').find_all('p')\n",
    "\n",
    "    text = ''\n",
    "    lead_text_int = ''\n",
    "\n",
    "    for paragraph in paragraphs[:-1]:\n",
    "        paragraph_text = paragraph.get_text().strip()\n",
    "        if paragraph == '' or paragraph is None:\n",
    "            continue\n",
    "        if paragraph.find('span', class_='lead'):\n",
    "            lead_text_int = paragraph_text\n",
    "            continue\n",
    "        if check_if_ignored_paragraph(paragraph_text, ignored_paragraph_starts):\n",
    "            continue\n",
    "        text += paragraph_text + ' '\n",
    "\n",
    "    time_string = soup.find('div', class_='m-article-attributes').find('span', class_='a-span').get_text().strip()\n",
    "    when_published = datetime.strptime(time_string, \"%Y-%m-%d %H:%M\")\n",
    "\n",
    "    title_int = soup.find('h1', class_='a-heading -blue').get_text().strip()\n",
    "\n",
    "    author = ''\n",
    "    author_candidate = paragraphs[-1].get_text(strip=True)\n",
    "    if len(author_candidate) <= 12:\n",
    "        author = author_candidate\n",
    "    else:\n",
    "        text += author_candidate\n",
    "\n",
    "    source_candidate = soup.find('span', class_='o-article-source__name')\n",
    "    if source_candidate is None:\n",
    "        source = 'Bankier.pl'\n",
    "    else:\n",
    "        source = source_candidate.get_text().strip()\n",
    "\n",
    "    return text, when_published, title_int, lead_text_int, author, source"
   ],
   "metadata": {
    "collapsed": false,
    "pycharm": {
     "name": "#%%\n"
    }
   }
  },
  {
   "cell_type": "code",
   "execution_count": 7,
   "outputs": [],
   "source": [
    "def scrap_articles_bankier(website):\n",
    "    logging.info('scrap_articles_bankier:')\n",
    "    logging.info(f'page with articles to scrap: {website}')\n",
    "\n",
    "    result = list()\n",
    "    page = requests.get(website)\n",
    "    if page.status_code != 200:\n",
    "        logging.debug(f'received status code: {page.status_code}')\n",
    "        return result\n",
    "\n",
    "    soup = BeautifulSoup(page.content, 'html.parser')\n",
    "    page_content = soup.find('section',id='articleList').find_all('div',class_='article')\n",
    "\n",
    "    print(f'articles to scrap: {len(page_content)}')\n",
    "\n",
    "    for article in page_content:\n",
    "\n",
    "        logging.info(f\"article scrapping started: {article}\")\n",
    "        title = article.find('span',class_='entry-title').get_text().strip()\n",
    "        lead_text = article.find('p').get_text().strip()\n",
    "        link = website_short + article.find('span',class_='entry-title').find('a', href=True, rel='bookmark')['href']\n",
    "        webart = WebArticle(title, lead_text, link, *scrap_article_text_bankier(link), portal_name)\n",
    "        logging.info(f'webarticle scrapped: {webart}')\n",
    "        result.append(webart)\n",
    "\n",
    "    return result"
   ],
   "metadata": {
    "collapsed": false,
    "pycharm": {
     "name": "#%%\n"
    }
   }
  },
  {
   "cell_type": "code",
   "execution_count": 8,
   "outputs": [
    {
     "name": "stderr",
     "output_type": "stream",
     "text": [
      "  0%|          | 0/300 [00:00<?, ?it/s]"
     ]
    },
    {
     "name": "stdout",
     "output_type": "stream",
     "text": [
      "articles to scrap: 10\n"
     ]
    },
    {
     "name": "stderr",
     "output_type": "stream",
     "text": [
      "  3%|▎         | 10/300 [00:01<00:56,  5.17it/s]"
     ]
    },
    {
     "name": "stdout",
     "output_type": "stream",
     "text": [
      "articles to scrap: 10\n"
     ]
    },
    {
     "name": "stderr",
     "output_type": "stream",
     "text": [
      "  7%|▋         | 20/300 [00:03<00:52,  5.35it/s]"
     ]
    },
    {
     "name": "stdout",
     "output_type": "stream",
     "text": [
      "articles to scrap: 10\n"
     ]
    },
    {
     "name": "stderr",
     "output_type": "stream",
     "text": [
      " 10%|█         | 30/300 [00:05<00:51,  5.26it/s]"
     ]
    },
    {
     "name": "stdout",
     "output_type": "stream",
     "text": [
      "articles to scrap: 10\n"
     ]
    },
    {
     "name": "stderr",
     "output_type": "stream",
     "text": [
      " 13%|█▎        | 40/300 [00:07<00:48,  5.36it/s]"
     ]
    },
    {
     "name": "stdout",
     "output_type": "stream",
     "text": [
      "articles to scrap: 10\n"
     ]
    },
    {
     "name": "stderr",
     "output_type": "stream",
     "text": [
      " 17%|█▋        | 50/300 [00:10<00:52,  4.73it/s]"
     ]
    },
    {
     "name": "stdout",
     "output_type": "stream",
     "text": [
      "articles to scrap: 10\n"
     ]
    },
    {
     "name": "stderr",
     "output_type": "stream",
     "text": [
      " 20%|██        | 60/300 [00:12<00:53,  4.52it/s]"
     ]
    },
    {
     "name": "stdout",
     "output_type": "stream",
     "text": [
      "articles to scrap: 10\n"
     ]
    },
    {
     "name": "stderr",
     "output_type": "stream",
     "text": [
      " 23%|██▎       | 70/300 [00:14<00:50,  4.59it/s]"
     ]
    },
    {
     "name": "stdout",
     "output_type": "stream",
     "text": [
      "articles to scrap: 10\n"
     ]
    },
    {
     "name": "stderr",
     "output_type": "stream",
     "text": [
      " 27%|██▋       | 80/300 [00:16<00:45,  4.86it/s]"
     ]
    },
    {
     "name": "stdout",
     "output_type": "stream",
     "text": [
      "articles to scrap: 10\n"
     ]
    },
    {
     "name": "stderr",
     "output_type": "stream",
     "text": [
      " 30%|███       | 90/300 [00:18<00:41,  5.05it/s]"
     ]
    },
    {
     "name": "stdout",
     "output_type": "stream",
     "text": [
      "articles to scrap: 10\n"
     ]
    },
    {
     "name": "stderr",
     "output_type": "stream",
     "text": [
      " 33%|███▎      | 100/300 [00:20<00:39,  5.09it/s]"
     ]
    },
    {
     "name": "stdout",
     "output_type": "stream",
     "text": [
      "articles to scrap: 10\n"
     ]
    },
    {
     "name": "stderr",
     "output_type": "stream",
     "text": [
      " 37%|███▋      | 110/300 [00:22<00:37,  5.12it/s]"
     ]
    },
    {
     "name": "stdout",
     "output_type": "stream",
     "text": [
      "articles to scrap: 10\n"
     ]
    },
    {
     "name": "stderr",
     "output_type": "stream",
     "text": [
      " 40%|████      | 120/300 [00:24<00:37,  4.74it/s]"
     ]
    },
    {
     "name": "stdout",
     "output_type": "stream",
     "text": [
      "articles to scrap: 10\n"
     ]
    },
    {
     "name": "stderr",
     "output_type": "stream",
     "text": [
      " 43%|████▎     | 130/300 [00:26<00:35,  4.81it/s]"
     ]
    },
    {
     "name": "stdout",
     "output_type": "stream",
     "text": [
      "articles to scrap: 10\n"
     ]
    },
    {
     "name": "stderr",
     "output_type": "stream",
     "text": [
      " 47%|████▋     | 140/300 [00:29<00:35,  4.50it/s]"
     ]
    },
    {
     "name": "stdout",
     "output_type": "stream",
     "text": [
      "articles to scrap: 10\n"
     ]
    },
    {
     "name": "stderr",
     "output_type": "stream",
     "text": [
      " 50%|█████     | 150/300 [00:31<00:32,  4.57it/s]"
     ]
    },
    {
     "name": "stdout",
     "output_type": "stream",
     "text": [
      "articles to scrap: 10\n"
     ]
    },
    {
     "name": "stderr",
     "output_type": "stream",
     "text": [
      " 53%|█████▎    | 160/300 [00:32<00:29,  4.82it/s]"
     ]
    },
    {
     "name": "stdout",
     "output_type": "stream",
     "text": [
      "articles to scrap: 10\n"
     ]
    },
    {
     "name": "stderr",
     "output_type": "stream",
     "text": [
      " 57%|█████▋    | 170/300 [00:35<00:26,  4.83it/s]"
     ]
    },
    {
     "name": "stdout",
     "output_type": "stream",
     "text": [
      "articles to scrap: 10\n"
     ]
    },
    {
     "name": "stderr",
     "output_type": "stream",
     "text": [
      " 60%|██████    | 180/300 [00:36<00:24,  4.95it/s]"
     ]
    },
    {
     "name": "stdout",
     "output_type": "stream",
     "text": [
      "articles to scrap: 10\n"
     ]
    },
    {
     "name": "stderr",
     "output_type": "stream",
     "text": [
      " 63%|██████▎   | 190/300 [00:38<00:21,  5.04it/s]"
     ]
    },
    {
     "name": "stdout",
     "output_type": "stream",
     "text": [
      "articles to scrap: 10\n"
     ]
    },
    {
     "name": "stderr",
     "output_type": "stream",
     "text": [
      " 67%|██████▋   | 200/300 [00:41<00:20,  4.78it/s]"
     ]
    },
    {
     "name": "stdout",
     "output_type": "stream",
     "text": [
      "articles to scrap: 10\n"
     ]
    },
    {
     "name": "stderr",
     "output_type": "stream",
     "text": [
      " 70%|███████   | 210/300 [00:44<00:20,  4.29it/s]"
     ]
    },
    {
     "name": "stdout",
     "output_type": "stream",
     "text": [
      "articles to scrap: 10\n"
     ]
    },
    {
     "name": "stderr",
     "output_type": "stream",
     "text": [
      " 73%|███████▎  | 220/300 [00:46<00:18,  4.44it/s]"
     ]
    },
    {
     "name": "stdout",
     "output_type": "stream",
     "text": [
      "articles to scrap: 10\n"
     ]
    },
    {
     "name": "stderr",
     "output_type": "stream",
     "text": [
      " 77%|███████▋  | 230/300 [00:47<00:14,  4.72it/s]"
     ]
    },
    {
     "name": "stdout",
     "output_type": "stream",
     "text": [
      "articles to scrap: 10\n"
     ]
    },
    {
     "name": "stderr",
     "output_type": "stream",
     "text": [
      " 80%|████████  | 240/300 [00:49<00:12,  4.97it/s]"
     ]
    },
    {
     "name": "stdout",
     "output_type": "stream",
     "text": [
      "articles to scrap: 10\n"
     ]
    },
    {
     "name": "stderr",
     "output_type": "stream",
     "text": [
      " 83%|████████▎ | 250/300 [00:51<00:09,  5.08it/s]"
     ]
    },
    {
     "name": "stdout",
     "output_type": "stream",
     "text": [
      "articles to scrap: 10\n"
     ]
    },
    {
     "name": "stderr",
     "output_type": "stream",
     "text": [
      " 87%|████████▋ | 260/300 [00:53<00:08,  4.99it/s]"
     ]
    },
    {
     "name": "stdout",
     "output_type": "stream",
     "text": [
      "articles to scrap: 10\n"
     ]
    },
    {
     "name": "stderr",
     "output_type": "stream",
     "text": [
      " 90%|█████████ | 270/300 [00:55<00:05,  5.12it/s]"
     ]
    },
    {
     "name": "stdout",
     "output_type": "stream",
     "text": [
      "articles to scrap: 10\n"
     ]
    },
    {
     "name": "stderr",
     "output_type": "stream",
     "text": [
      " 93%|█████████▎| 280/300 [00:57<00:03,  5.13it/s]"
     ]
    },
    {
     "name": "stdout",
     "output_type": "stream",
     "text": [
      "articles to scrap: 10\n"
     ]
    },
    {
     "name": "stderr",
     "output_type": "stream",
     "text": [
      " 97%|█████████▋| 290/300 [00:59<00:01,  5.22it/s]"
     ]
    },
    {
     "name": "stdout",
     "output_type": "stream",
     "text": [
      "articles to scrap: 10\n"
     ]
    },
    {
     "name": "stderr",
     "output_type": "stream",
     "text": [
      "100%|██████████| 300/300 [01:01<00:00,  4.90it/s]\n"
     ]
    }
   ],
   "source": [
    "no_scrapped_articles = 0\n",
    "page_no=1\n",
    "scrapped_articles = list()\n",
    "\n",
    "logging.info(f'no_articles_to_scrap: {no_articles_to_scrap}')\n",
    "\n",
    "pbar = tqdm(total=no_articles_to_scrap)\n",
    "while no_scrapped_articles < no_articles_to_scrap:\n",
    "    logging.info('next page: '+website+pagination_attributes+str(page_no))\n",
    "    new_articles = scrap_articles_bankier(website+pagination_attributes+str(page_no))\n",
    "    page_size = len(new_articles)\n",
    "    logging.info(f'new_articles: {page_size}')\n",
    "    if no_scrapped_articles + page_size > no_articles_to_scrap:\n",
    "        page_size = no_articles_to_scrap - no_scrapped_articles\n",
    "    scrapped_articles.extend(new_articles[:page_size])\n",
    "    logging.info(f'scrapped new articles: {page_size}')\n",
    "    no_scrapped_articles += page_size\n",
    "    pbar.update(page_size)\n",
    "    logging.info(f'no_scrapped_articles (total): {no_scrapped_articles}')\n",
    "    page_no += 1\n",
    "    if len(scrapped_articles) <= 0:\n",
    "        logging.debug(f'0 articles scrapped!')\n",
    "        break\n",
    "pbar.close()"
   ],
   "metadata": {
    "collapsed": false,
    "pycharm": {
     "name": "#%%\n"
    }
   }
  },
  {
   "cell_type": "code",
   "execution_count": 9,
   "outputs": [
    {
     "name": "stderr",
     "output_type": "stream",
     "text": [
      "100%|██████████| 300/300 [00:00<00:00, 18039.50it/s]"
     ]
    },
    {
     "name": "stdout",
     "output_type": "stream",
     "text": [
      "0: 1863\n",
      "1: 2312\n",
      "2: 1431\n",
      "3: 1668\n",
      "4: 665\n",
      "5: 1082\n",
      "6: 4605\n",
      "7: 134\n",
      "8: 4550\n",
      "9: 1169\n",
      "10: 305\n",
      "11: 311\n",
      "12: 1081\n",
      "13: 1747\n",
      "14: 2399\n",
      "15: 1237\n",
      "16: 1938\n",
      "17: 3271\n",
      "18: 1465\n",
      "19: 2512\n",
      "20: 3468\n",
      "21: 682\n",
      "22: 1578\n",
      "23: 1368\n",
      "24: 426\n",
      "25: 1138\n",
      "26: 1204\n",
      "27: 624\n",
      "28: 3187\n",
      "29: 597\n",
      "30: 3262\n",
      "31: 1741\n",
      "32: 3443\n",
      "33: 1221\n",
      "34: 1516\n",
      "35: 2790\n",
      "36: 1540\n",
      "37: 3255\n",
      "38: 4638\n",
      "39: 2512\n",
      "40: 3081\n",
      "41: 2825\n",
      "42: 1779\n",
      "43: 1181\n",
      "44: 2128\n",
      "45: 3885\n",
      "46: 1486\n",
      "47: 3064\n",
      "48: 867\n",
      "49: 3735\n",
      "50: 4200\n",
      "51: 2570\n",
      "52: 3450\n",
      "53: 2047\n",
      "54: 894\n",
      "55: 4799\n",
      "56: 1341\n",
      "57: 1911\n",
      "58: 2045\n",
      "59: 895\n",
      "60: 2443\n",
      "61: 1104\n",
      "62: 2644\n",
      "63: 5751\n",
      "64: 2349\n",
      "65: 2108\n",
      "66: 5225\n",
      "67: 1292\n",
      "68: 5823\n",
      "69: 873\n",
      "70: 4521\n",
      "71: 3402\n",
      "72: 2968\n",
      "73: 5328\n",
      "74: 2318\n",
      "75: 2521\n",
      "76: 1584\n",
      "77: 1943\n",
      "78: 5812\n",
      "79: 1649\n",
      "80: 916\n",
      "81: 2253\n",
      "82: 1661\n",
      "83: 1474\n",
      "84: 5111\n",
      "85: 1564\n",
      "86: 2481\n",
      "87: 3219\n",
      "88: 3299\n",
      "89: 1892\n",
      "90: 2094\n",
      "91: 3287\n",
      "92: 2945\n",
      "93: 1062\n",
      "94: 1098\n",
      "95: 495\n",
      "96: 2818\n",
      "97: 2393\n",
      "98: 5337\n",
      "99: 2071\n",
      "100: 1487\n",
      "101: 4396\n",
      "102: 6102\n",
      "103: 4972\n",
      "104: 5440\n",
      "105: 2053\n",
      "106: 3095\n",
      "107: 2162\n",
      "108: 4545\n",
      "109: 7542\n",
      "110: 2393\n",
      "111: 2361\n",
      "112: 2434\n",
      "113: 3878\n",
      "114: 2593\n",
      "115: 3893\n",
      "116: 921\n",
      "117: 929\n",
      "118: 3815\n",
      "119: 3144\n",
      "120: 1636\n",
      "121: 1969\n",
      "122: 2469\n",
      "123: 1998\n",
      "124: 4660\n",
      "125: 877\n",
      "126: 1579\n",
      "127: 3198\n",
      "128: 4583\n",
      "129: 1032\n",
      "130: 4993\n",
      "131: 3643\n",
      "132: 5042\n",
      "133: 3497\n",
      "134: 1976\n",
      "135: 3386\n",
      "136: 6589\n",
      "137: 7905\n",
      "138: 1529\n",
      "139: 1743\n",
      "140: 4115\n",
      "141: 1064\n",
      "142: 2800\n",
      "143: 3577\n",
      "144: 3312\n",
      "145: 948\n",
      "146: 3665\n",
      "147: 2252\n",
      "148: 3625\n",
      "149: 3749\n",
      "150: 944\n",
      "151: 1365\n",
      "152: 5153\n",
      "153: 1708\n",
      "154: 11647\n",
      "155: 5193\n",
      "156: 4338\n",
      "157: 1571\n",
      "158: 304\n",
      "159: 1092\n",
      "160: 236\n",
      "161: 3317\n",
      "162: 2107\n",
      "163: 680\n",
      "164: 1712\n",
      "165: 752\n",
      "166: 1239\n",
      "167: 2644\n",
      "168: 2654\n",
      "169: 4597\n",
      "170: 1357\n",
      "171: 5761\n",
      "172: 2499\n",
      "173: 9353\n",
      "174: 2010\n",
      "175: 2513\n",
      "176: 1366\n",
      "177: 1912\n",
      "178: 1159\n",
      "179: 4326\n",
      "180: 969\n",
      "181: 1993\n",
      "182: 1047\n",
      "183: 4029\n",
      "184: 1792\n",
      "185: 1786\n",
      "186: 2957\n",
      "187: 1398\n",
      "188: 2653\n",
      "189: 846\n",
      "190: 711\n",
      "191: 1901\n",
      "192: 4821\n",
      "193: 2431\n",
      "194: 2389\n",
      "195: 2606\n",
      "196: 1256\n",
      "197: 2653\n",
      "198: 425\n",
      "199: 4663\n",
      "200: 2444\n",
      "201: 3156\n",
      "202: 737\n",
      "203: 1397\n",
      "204: 4740\n",
      "205: 1109\n",
      "206: 6888\n",
      "207: 3420\n",
      "208: 1157\n",
      "209: 6040\n",
      "210: 465\n",
      "211: 449\n",
      "212: 4528\n",
      "213: 6717\n",
      "214: 2313\n",
      "215: 4494\n",
      "216: 1858\n",
      "217: 6007\n",
      "218: 8103\n",
      "219: 2779\n",
      "220: 1961\n",
      "221: 4482\n",
      "222: 162\n",
      "223: 2416\n",
      "224: 1729\n",
      "225: 2301\n",
      "226: 1605\n",
      "227: 990\n",
      "228: 1751\n",
      "229: 1735\n",
      "230: 513\n",
      "231: 1274\n",
      "232: 1617\n",
      "233: 1560\n",
      "234: 2031\n",
      "235: 272\n",
      "236: 2153\n",
      "237: 4007\n",
      "238: 1744\n",
      "239: 3775\n",
      "240: 1527\n",
      "241: 3772\n",
      "242: 988\n",
      "243: 4945\n",
      "244: 2515\n",
      "245: 2710\n",
      "246: 3300\n",
      "247: 3552\n",
      "248: 729\n",
      "249: 1513\n",
      "250: 2670\n",
      "251: 1987\n",
      "252: 9996\n",
      "253: 3506\n",
      "254: 1157\n",
      "255: 3078\n",
      "256: 987\n",
      "257: 1133\n",
      "258: 2257\n",
      "259: 1841\n",
      "260: 1841\n",
      "261: 2488\n",
      "262: 789\n",
      "263: 1773\n",
      "264: 294\n",
      "265: 3081\n",
      "266: 1312\n",
      "267: 587\n",
      "268: 1936\n",
      "269: 13394\n",
      "270: 3240\n",
      "271: 1367\n",
      "272: 968\n",
      "273: 1423\n",
      "274: 2060\n",
      "275: 1134\n",
      "276: 1328\n",
      "277: 2590\n",
      "278: 1442\n",
      "279: 565\n",
      "280: 2616\n",
      "281: 7521\n",
      "282: 2442\n",
      "283: 3044\n",
      "284: 3084\n",
      "285: 766\n",
      "286: 2810\n",
      "287: 13550\n",
      "288: 1247\n",
      "289: 2659\n",
      "290: 3076\n",
      "291: 3196\n",
      "292: 498\n",
      "293: 731\n",
      "294: 1622\n",
      "295: 2933\n",
      "296: 1239\n",
      "297: 2411\n",
      "298: 2165\n",
      "299: 1618\n"
     ]
    },
    {
     "name": "stderr",
     "output_type": "stream",
     "text": [
      "\n"
     ]
    }
   ],
   "source": [
    "for i in trange(len(scrapped_articles)):\n",
    "    # print(f'{i}: {scrapped_articles[i].lead_text}')\n",
    "    print(f'{i}: {len(scrapped_articles[i].text)}')"
   ],
   "metadata": {
    "collapsed": false,
    "pycharm": {
     "name": "#%%\n"
    }
   }
  },
  {
   "cell_type": "code",
   "execution_count": 10,
   "outputs": [
    {
     "data": {
      "text/plain": "                                                 title  \\\n0    Spadki na Wall Street koniec sesji. Nasdaq znó...   \n1    Specjaliści od cyberbezpieczeństwa w administr...   \n2    Mark Brzezinski oficjalnie zaprzysiężony na am...   \n3    Portugalia wszczyna śledztwo w sprawie przyzna...   \n4         Szef MSZ Zbigniew Rau zakażony koronawirusem   \n..                                                 ...   \n295  Wyniki najnowszej ankiety NBP wskazują na znac...   \n296  Słabszy dolar sprzyja złotemu. Kurs euro bliże...   \n297  Credit Agricole zrewidował w górę prognozę inf...   \n298  Pierwszy obligacyjny ETF zadebiutował w ponied...   \n299  Łon: Podczas posiedzenia RPP w lutym być może ...   \n\n                                             title_int  \\\n0    Spadki na Wall Street koniec sesji. Nasdaq znó...   \n1    Specjaliści od cyberbezpieczeństwa w administr...   \n2    Mark Brzezinski oficjalnie zaprzysiężony na am...   \n3    Portugalia wszczyna śledztwo w sprawie przyzna...   \n4         Szef MSZ Zbigniew Rau zakażony koronawirusem   \n..                                                 ...   \n295  Wyniki najnowszej ankiety NBP wskazują na znac...   \n296  Słabszy dolar sprzyja złotemu. Kurs euro bliże...   \n297  Credit Agricole zrewidował w górę prognozę inf...   \n298  Pierwszy obligacyjny ETF zadebiutował w ponied...   \n299  Łon: Podczas posiedzenia RPP w lutym być może ...   \n\n                                             lead_text  \\\n0    Środowa sesja na Wall Street zakończyła się sp...   \n1    Rada Ministrów przyjęła w środę rozporządzenie...   \n2    Wiceprezydent USA Kamala Harris oficjalnie zap...   \n3    Prokuratura generalna Portugalii wszczęła w śr...   \n4    Minister spraw zagranicznych Zbigniew Rau uzys...   \n..                                                 ...   \n295  Ankietowane przez NBP ośrodki analityczne spod...   \n296  Kurs euro rozpoczął nowy tydzień od spadku, ce...   \n297  Ekonomiści Credit Agricole BP zrewidowali swoj...   \n298  Na głównym rynku GPW zadebiutował w poniedział...   \n299  Podczas posiedzenia Rady Polityki Pieniężnej w...   \n\n                                         lead_text_int  \\\n0    Środowa sesja na Wall Street zakończyła się sp...   \n1    Rada Ministrów przyjęła w środę rozporządzenie...   \n2    Wiceprezydent USA Kamala Harris oficjalnie zap...   \n3    Prokuratura generalna Portugalii wszczęła w śr...   \n4    Minister spraw zagranicznych Zbigniew Rau uzys...   \n..                                                 ...   \n295  Ankietowane przez NBP ośrodki analityczne spod...   \n296  Obserwowane od początku stycznia osłabienie do...   \n297  Ekonomiści Credit Agricole BP zrewidowali swoj...   \n298  Na głównym rynku GPW zadebiutował w poniedział...   \n299  Podczas posiedzenia Rady Polityki Pieniężnej w...   \n\n                                                  link  \\\n0    https://www.bankier.pl/wiadomosc/Wall-Street-w...   \n1    https://www.bankier.pl/wiadomosc/Specjalisci-o...   \n2    https://www.bankier.pl/wiadomosc/Mark-Brzezins...   \n3    https://www.bankier.pl/wiadomosc/Portugalia-ws...   \n4    https://www.bankier.pl/wiadomosc/Szef-MSZ-Zbig...   \n..                                                 ...   \n295  https://www.bankier.pl/wiadomosc/Ankieta-NBP-w...   \n296  https://www.bankier.pl/wiadomosc/Slabszy-dolar...   \n297  https://www.bankier.pl/wiadomosc/Credit-Agrico...   \n298  https://www.bankier.pl/wiadomosc/Pierwszy-obli...   \n299  https://www.bankier.pl/wiadomosc/Lon-Podczas-p...   \n\n                                                  text      when_published  \\\n0    Dow Jones Industrial na zamknięciu spadł o 339... 2022-01-19 22:12:00   \n1    Jak wyjaśniono, rozporządzenie określa zasady ... 2022-01-19 20:18:00   \n2    Podczas ceremonii w budynku Eisenhowera mieszc... 2022-01-19 20:17:00   \n3    Prokuratura generalna wyjaśniła, że przedmiote... 2022-01-19 20:11:00   \n4    \"Z uwagi na pozytywny wynik testu na SARS-CoV-... 2022-01-19 20:05:00   \n..                                                 ...                 ...   \n295  \"W najnowszej rundzie ankiety eksperci AM NBP ... 2022-01-17 10:10:00   \n296  W ubiegłym tygodniu doszło do ważnych rozstrzy... 2022-01-17 10:01:00   \n297  \"Zgodnie z finalnymi danymi GUS inflacja CPI w... 2022-01-17 09:20:00   \n298  \"To już dziewiąty fundusz z rodziny Beta, a je... 2022-01-17 09:56:00   \n299  \"Być może warto podczas posiedzenia RPP w luty... 2022-01-17 09:48:00   \n\n         author      source   portal  \n0      kkr/ pr/  PAP Biznes  bankier  \n1      pif/ mk/         PAP  bankier  \n2    osk/ tebe/         PAP  bankier  \n3     zat/ mal/         PAP  bankier  \n4     wni/ mok/         PAP  bankier  \n..          ...         ...      ...  \n295   pat/ asa/  PAP Biznes  bankier  \n296          KK  Bankier.pl  bankier  \n297   pat/ asa/  PAP Biznes  bankier  \n298    pr/ ana/  PAP Biznes  bankier  \n299   pat/ asa/  PAP Biznes  bankier  \n\n[300 rows x 10 columns]",
      "text/html": "<div>\n<style scoped>\n    .dataframe tbody tr th:only-of-type {\n        vertical-align: middle;\n    }\n\n    .dataframe tbody tr th {\n        vertical-align: top;\n    }\n\n    .dataframe thead th {\n        text-align: right;\n    }\n</style>\n<table border=\"1\" class=\"dataframe\">\n  <thead>\n    <tr style=\"text-align: right;\">\n      <th></th>\n      <th>title</th>\n      <th>title_int</th>\n      <th>lead_text</th>\n      <th>lead_text_int</th>\n      <th>link</th>\n      <th>text</th>\n      <th>when_published</th>\n      <th>author</th>\n      <th>source</th>\n      <th>portal</th>\n    </tr>\n  </thead>\n  <tbody>\n    <tr>\n      <th>0</th>\n      <td>Spadki na Wall Street koniec sesji. Nasdaq znó...</td>\n      <td>Spadki na Wall Street koniec sesji. Nasdaq znó...</td>\n      <td>Środowa sesja na Wall Street zakończyła się sp...</td>\n      <td>Środowa sesja na Wall Street zakończyła się sp...</td>\n      <td>https://www.bankier.pl/wiadomosc/Wall-Street-w...</td>\n      <td>Dow Jones Industrial na zamknięciu spadł o 339...</td>\n      <td>2022-01-19 22:12:00</td>\n      <td>kkr/ pr/</td>\n      <td>PAP Biznes</td>\n      <td>bankier</td>\n    </tr>\n    <tr>\n      <th>1</th>\n      <td>Specjaliści od cyberbezpieczeństwa w administr...</td>\n      <td>Specjaliści od cyberbezpieczeństwa w administr...</td>\n      <td>Rada Ministrów przyjęła w środę rozporządzenie...</td>\n      <td>Rada Ministrów przyjęła w środę rozporządzenie...</td>\n      <td>https://www.bankier.pl/wiadomosc/Specjalisci-o...</td>\n      <td>Jak wyjaśniono, rozporządzenie określa zasady ...</td>\n      <td>2022-01-19 20:18:00</td>\n      <td>pif/ mk/</td>\n      <td>PAP</td>\n      <td>bankier</td>\n    </tr>\n    <tr>\n      <th>2</th>\n      <td>Mark Brzezinski oficjalnie zaprzysiężony na am...</td>\n      <td>Mark Brzezinski oficjalnie zaprzysiężony na am...</td>\n      <td>Wiceprezydent USA Kamala Harris oficjalnie zap...</td>\n      <td>Wiceprezydent USA Kamala Harris oficjalnie zap...</td>\n      <td>https://www.bankier.pl/wiadomosc/Mark-Brzezins...</td>\n      <td>Podczas ceremonii w budynku Eisenhowera mieszc...</td>\n      <td>2022-01-19 20:17:00</td>\n      <td>osk/ tebe/</td>\n      <td>PAP</td>\n      <td>bankier</td>\n    </tr>\n    <tr>\n      <th>3</th>\n      <td>Portugalia wszczyna śledztwo w sprawie przyzna...</td>\n      <td>Portugalia wszczyna śledztwo w sprawie przyzna...</td>\n      <td>Prokuratura generalna Portugalii wszczęła w śr...</td>\n      <td>Prokuratura generalna Portugalii wszczęła w śr...</td>\n      <td>https://www.bankier.pl/wiadomosc/Portugalia-ws...</td>\n      <td>Prokuratura generalna wyjaśniła, że przedmiote...</td>\n      <td>2022-01-19 20:11:00</td>\n      <td>zat/ mal/</td>\n      <td>PAP</td>\n      <td>bankier</td>\n    </tr>\n    <tr>\n      <th>4</th>\n      <td>Szef MSZ Zbigniew Rau zakażony koronawirusem</td>\n      <td>Szef MSZ Zbigniew Rau zakażony koronawirusem</td>\n      <td>Minister spraw zagranicznych Zbigniew Rau uzys...</td>\n      <td>Minister spraw zagranicznych Zbigniew Rau uzys...</td>\n      <td>https://www.bankier.pl/wiadomosc/Szef-MSZ-Zbig...</td>\n      <td>\"Z uwagi na pozytywny wynik testu na SARS-CoV-...</td>\n      <td>2022-01-19 20:05:00</td>\n      <td>wni/ mok/</td>\n      <td>PAP</td>\n      <td>bankier</td>\n    </tr>\n    <tr>\n      <th>...</th>\n      <td>...</td>\n      <td>...</td>\n      <td>...</td>\n      <td>...</td>\n      <td>...</td>\n      <td>...</td>\n      <td>...</td>\n      <td>...</td>\n      <td>...</td>\n      <td>...</td>\n    </tr>\n    <tr>\n      <th>295</th>\n      <td>Wyniki najnowszej ankiety NBP wskazują na znac...</td>\n      <td>Wyniki najnowszej ankiety NBP wskazują na znac...</td>\n      <td>Ankietowane przez NBP ośrodki analityczne spod...</td>\n      <td>Ankietowane przez NBP ośrodki analityczne spod...</td>\n      <td>https://www.bankier.pl/wiadomosc/Ankieta-NBP-w...</td>\n      <td>\"W najnowszej rundzie ankiety eksperci AM NBP ...</td>\n      <td>2022-01-17 10:10:00</td>\n      <td>pat/ asa/</td>\n      <td>PAP Biznes</td>\n      <td>bankier</td>\n    </tr>\n    <tr>\n      <th>296</th>\n      <td>Słabszy dolar sprzyja złotemu. Kurs euro bliże...</td>\n      <td>Słabszy dolar sprzyja złotemu. Kurs euro bliże...</td>\n      <td>Kurs euro rozpoczął nowy tydzień od spadku, ce...</td>\n      <td>Obserwowane od początku stycznia osłabienie do...</td>\n      <td>https://www.bankier.pl/wiadomosc/Slabszy-dolar...</td>\n      <td>W ubiegłym tygodniu doszło do ważnych rozstrzy...</td>\n      <td>2022-01-17 10:01:00</td>\n      <td>KK</td>\n      <td>Bankier.pl</td>\n      <td>bankier</td>\n    </tr>\n    <tr>\n      <th>297</th>\n      <td>Credit Agricole zrewidował w górę prognozę inf...</td>\n      <td>Credit Agricole zrewidował w górę prognozę inf...</td>\n      <td>Ekonomiści Credit Agricole BP zrewidowali swoj...</td>\n      <td>Ekonomiści Credit Agricole BP zrewidowali swoj...</td>\n      <td>https://www.bankier.pl/wiadomosc/Credit-Agrico...</td>\n      <td>\"Zgodnie z finalnymi danymi GUS inflacja CPI w...</td>\n      <td>2022-01-17 09:20:00</td>\n      <td>pat/ asa/</td>\n      <td>PAP Biznes</td>\n      <td>bankier</td>\n    </tr>\n    <tr>\n      <th>298</th>\n      <td>Pierwszy obligacyjny ETF zadebiutował w ponied...</td>\n      <td>Pierwszy obligacyjny ETF zadebiutował w ponied...</td>\n      <td>Na głównym rynku GPW zadebiutował w poniedział...</td>\n      <td>Na głównym rynku GPW zadebiutował w poniedział...</td>\n      <td>https://www.bankier.pl/wiadomosc/Pierwszy-obli...</td>\n      <td>\"To już dziewiąty fundusz z rodziny Beta, a je...</td>\n      <td>2022-01-17 09:56:00</td>\n      <td>pr/ ana/</td>\n      <td>PAP Biznes</td>\n      <td>bankier</td>\n    </tr>\n    <tr>\n      <th>299</th>\n      <td>Łon: Podczas posiedzenia RPP w lutym być może ...</td>\n      <td>Łon: Podczas posiedzenia RPP w lutym być może ...</td>\n      <td>Podczas posiedzenia Rady Polityki Pieniężnej w...</td>\n      <td>Podczas posiedzenia Rady Polityki Pieniężnej w...</td>\n      <td>https://www.bankier.pl/wiadomosc/Lon-Podczas-p...</td>\n      <td>\"Być może warto podczas posiedzenia RPP w luty...</td>\n      <td>2022-01-17 09:48:00</td>\n      <td>pat/ asa/</td>\n      <td>PAP Biznes</td>\n      <td>bankier</td>\n    </tr>\n  </tbody>\n</table>\n<p>300 rows × 10 columns</p>\n</div>"
     },
     "execution_count": 10,
     "metadata": {},
     "output_type": "execute_result"
    }
   ],
   "source": [
    "bankier_dataframe = pd.DataFrame(article.__dict__ for article in scrapped_articles)\n",
    "bankier_dataframe"
   ],
   "metadata": {
    "collapsed": false,
    "pycharm": {
     "name": "#%%\n"
    }
   }
  },
  {
   "cell_type": "code",
   "execution_count": 11,
   "outputs": [],
   "source": [
    "timestamp = int((datetime.now(timezone.utc)).timestamp())"
   ],
   "metadata": {
    "collapsed": false,
    "pycharm": {
     "name": "#%%\n"
    }
   }
  },
  {
   "cell_type": "code",
   "execution_count": 12,
   "outputs": [],
   "source": [
    "bankier_dataframe.to_parquet(f'{data_dir}/{portal_name}_{timestamp}.parquet')\n",
    "bankier_dataframe.to_json(f'{data_dir}/{portal_name}_{timestamp}.json')"
   ],
   "metadata": {
    "collapsed": false,
    "pycharm": {
     "name": "#%%\n"
    }
   }
  },
  {
   "cell_type": "markdown",
   "source": [
    "Krótki test - dane pierwszego artykułu"
   ],
   "metadata": {
    "collapsed": false
   }
  },
  {
   "cell_type": "code",
   "execution_count": 13,
   "outputs": [
    {
     "name": "stdout",
     "output_type": "stream",
     "text": [
      "title:\n",
      "  Spadki na Wall Street koniec sesji. Nasdaq znów mocno w dół\n",
      "lead_text:\n",
      "  Środowa sesja na Wall Street zakończyła się spadkami pomimo wzrostów w ciągu dnia. Rynki śledzą napływające raporty finansowe spółek za czwarty kwartał, ale nadal główne obawy związane są z perspektywą zbliżających się podwyżek stóp... Czytaj dalej\n",
      "lead_text_int:\n",
      "  Środowa sesja na Wall Street zakończyła się spadkami pomimo wzrostów w ciągu dnia. Rynki śledzą napływające raporty finansowe spółek za czwarty kwartał, ale nadal główne obawy związane są z perspektywą zbliżających się podwyżek stóp procentowych w USA.\n",
      "link:\n",
      "  https://www.bankier.pl/wiadomosc/Wall-Street-w-dol-pod-koniec-sesji-Nasdaq-znow-mocno-w-dol-8262642.html\n",
      "text:\n",
      "  Dow Jones Industrial na zamknięciu spadł o 339 punktów, czyli 0,96 proc., do 35.028,65 pkt. S&P 500 na koniec dnia stracił 0,97 proc. i wyniósł 4.532,76 pkt. Nasdaq Composite zniżkował 1,15 proc. i zamknął sesję na poziomie 14.340,25 pkt. Indeks spadł już 10 proc. z historycznego szczytu notowań z listopada zeszłego roku.   \"Jesteśmy w późnej fazie cyklu, w którym spółki mogą prezentować niższe zyski ze względu na słabszy wzrost PKB i wyższe stopy proc., jednak spodziewamy się, że trwające spadki na rynkach będą krótkie\" - powiedział Luca Paolini, główny strateg w Pictet Asset Management. \"Inwestorzy martwią się, że wyższe stopy proc. i trudniejsze warunki finansowe będą prowadzić do obniżenia wartości spółek\" - dodał Jack Ablin, partner Cresset Capital. Analitycy szacują stopę wzrostu zysków na poziomie 22,4 proc. dla indeksu S&P 500 w IV kwartale, co według FactSet byłoby czwartym z rzędu kwartałem ze wzrostem zysków powyżej 20 proc. Akcje Bank of America poszły w górę o 1 proc. Zysk na akcję banku w czwartym kwartale wyniósł 82 centy, a oczekiwano 77 centów. Notowania Morgan Stanley rosły o 2,5 proc. - zysk na akcję w czwartym kwartale wyniósł 2,08 USD wobec oczekiwań na poziomie 1,94 USD. Notowania Procter & Gamble rosły o 3,5 proc. Przychody wyniosły w raportowanym okresie 20,95 mld USD wobec prognozowanych 20,34 mld USD. \"Wyższa inflacja zwiększyła obawy o koszty dla wielu spółek. Odkąd okazało się, że marże Procter & Gamble są dobre, część z tych obaw zniknęło\" - powiedział Matt Maley, główny strateg rynkowy Miller Tabak + Co. UnitedHealth szedł w górę o 1,5 proc. – przychody spółki wyniosły w raportowanym okresie 73,74 mld USD vs konsensus rynkowy na poziomie 72,78 mld USD. Rentowności 10-letnich amerykańskich obligacji skarbowych wzrosły w środę do 1,91 proc., co jest najwyższym poziomem od grudnia 2019 roku. (PAP Biznes) \n",
      "when_published:\n",
      "  2022-01-19 22:12:00\n"
     ]
    }
   ],
   "source": [
    "print(f'title:\\n  {bankier_dataframe.iloc[0][\"title\"]}')\n",
    "print(f'lead_text:\\n  {bankier_dataframe.iloc[0][\"lead_text\"]}')\n",
    "print(f'lead_text_int:\\n  {bankier_dataframe.iloc[0][\"lead_text_int\"]}')\n",
    "print(f'link:\\n  {bankier_dataframe.iloc[0][\"link\"]}')\n",
    "print(f'text:\\n  {bankier_dataframe.iloc[0][\"text\"]}')\n",
    "print(f'when_published:\\n  {bankier_dataframe.iloc[0][\"when_published\"]}')"
   ],
   "metadata": {
    "collapsed": false,
    "pycharm": {
     "name": "#%%\n"
    }
   }
  },
  {
   "cell_type": "code",
   "execution_count": 14,
   "outputs": [
    {
     "name": "stdout",
     "output_type": "stream",
     "text": [
      "title:\n",
      "  Słona kara za straty. Kolejna pułapka \"Polskiego ładu\"\n",
      "lead_text:\n",
      "  Nierentowna spółka zapłaci wyższy podatek niż osiągająca dochody. Trudno jej będzie go uniknąć – pisze w środę \"Rzeczpospolita\". Czytaj dalej\n",
      "link:\n",
      "  https://www.bankier.pl/wiadomosc/Slona-kara-za-straty-Kolejna-pulapka-Polskiego-ladu-8261913.html\n",
      "text:\n",
      "  \"Polski ład\" zmienia warunki prowadzenia biznesu w wielu obszarach. Trudny rok czeka nie tylko podatników PIT, ale też CIT. Spółki, które nie osiągną określonej rentowności, zapłacą po zakończeniu 2022 r. nowy podatek minimalny. To rozwiązanie, które miało być batem na podatkowych oszustów, uderzy w firmy prowadzące zwykłą działalność – czytamy w dzienniku. \"Rzeczpospolita\" wskazuje, że spółki zapłacą nowy podatek w dwóch przypadkach. \"Po pierwsze, jeśli poniosą straty. A po drugie, gdy ich dochody będą niższe niż 1 proc. przychodów\" – zaznaczy gazeta. \"To szkodliwa regulacja. W praktyce może objąć nawet małych podatników CIT i będzie dodatkowym obciążeniem w czasie trwającej wciąż pandemii\" – mówi w \"Rz\" Przemysław Pruszyński z Konfederacji Lewiatan. Według dziennika nowy podatek może dotknąć spółki z branży handlowej, które mają niską rentowność. \"Przykładowo w handlu dobrami szybkozbywalnymi jak np. żywność i kosmetyki, wynosi ona średnio 0,7 proc.\" – czytamy. \"Nową daninę zapłaci np. spółka, która ma roczne przychody 100 mln zł i dochód 900 tys. zł, czyli rentowność poniżej 1 proc. CIT od dochodu 900 tys. zł wyniesie 171 tys. zł. Tymczasem podatek minimalny – w dużym uproszczeniu – ok. 400 tys. zł. By tego uniknąć, wiele firm będzie się starało podwyższyć marże, co przyczyni się do wzrostu inflacji. Przepisy przewidują też mechanizm zapobiegający podwójnemu opodatkowaniu tych samych dochodów. Od CIT minimalnego będzie można odliczyć kwotę klasycznego podatku, obliczonego według zasad ogólnych\" – podaje dziennik. \"Podatku minimalnego unikną m.in. nowe spółki w roku rozpoczęcia działalności i dwóch kolejnych. Przewidziano też wyłączenie dla spółek, które jako pojedyncza firma mają słabe wyniki, ale należą do grupy zachowującej określony poziom rentowności. Jednak w praktyce może być trudno z niego skorzystać. Grzegorz Kujawski, doradca podatkowy i partner w KNDP, zwraca uwagę, że chodzi o grupy, w których spółka dominująca ma dokładnie 75 proc. udziałów w spółkach zależnych. Tymczasem powinno to być +co najmniej 75 proc.+\" – dodaje. \n",
      "when_published:\n",
      "  2022-01-19 07:00:00\n"
     ]
    }
   ],
   "source": [
    "print(f'title:\\n  {bankier_dataframe.iloc[99][\"title\"]}')\n",
    "print(f'lead_text:\\n  {bankier_dataframe.iloc[99][\"lead_text\"]}')\n",
    "print(f'link:\\n  {bankier_dataframe.iloc[99][\"link\"]}')\n",
    "print(f'text:\\n  {bankier_dataframe.iloc[99][\"text\"]}')\n",
    "print(f'when_published:\\n  {bankier_dataframe.iloc[99][\"when_published\"]}')"
   ],
   "metadata": {
    "collapsed": false,
    "pycharm": {
     "name": "#%%\n"
    }
   }
  },
  {
   "cell_type": "code",
   "execution_count": 15,
   "outputs": [
    {
     "name": "stdout",
     "output_type": "stream",
     "text": [
      "title:\n",
      "  Novak Djokovic właścicielem 80 procent akcji firmy pracującej nad lekiem na COVID-19\n",
      "lead_text:\n",
      "  Słynny serbski tenisista Novak Djokovic jest właścicielem 80 procent akcji w duńskiej firmie biotechnologicznej QuantBioRes, która zajmuje się m.in. opracowaniem leku na COVID-19 - poinformował jej dyrektor generalny Ivan Loncarevic. Czytaj dalej\n",
      "link:\n",
      "  https://www.bankier.pl/wiadomosc/Novak-Djokovic-wlascicielem-80-procent-akcji-firmy-pracujacej-nad-lekiem-na-COVID-19-8262585.html\n",
      "text:\n",
      "  Jak przekazał, lider światowego rankingu tenisistów głównym udziałowcem został w czerwcu 2020 roku. Nie zdradził jednak kwoty, jaką Serb zainwestował w firmę. Według Loncarevica, QuantBioRes zatrudnia nieco ponad 10 naukowców pracujących w Danii, Australii i Słowenii, którzy obecnie zajmują się opracowaniem skutecznego leku na COVID-19, który jednak nie będzie szczepionką. Lek ma bazować na peptydach, naturalnych związkach chemicznych, które powstrzymywać będą koronawirusa przed infekowaniem komórek ludzkich. Firma planuje, że latem w Wielkiej Brytanii rozpocznie badania kliniczne. Reuters zwrócił się do rzecznika Djokovica z prośbą o komentarz, ale ten nie odpowiedział. Jeden z najlepszych i najbardziej utytułowanych tenisistów w historii był przez kilkanaście dni bohaterem zamieszania w związku z anulowaniem jego wizy do Australii jako osoby niezaszczepionej przeciw COVID-19. Ostatecznie po decyzji australijskiego sądu najwyższego w niedzielę został deportowany, co uniemożliwiło mu występ w trwającym w Melbourne pierwszym w tym roku turnieju Wielkiego Szlema.(PAP)\n",
      "when_published:\n",
      "  2022-01-19 19:48:00\n"
     ]
    }
   ],
   "source": [
    "print(f'title:\\n  {bankier_dataframe.iloc[5][\"title\"]}')\n",
    "print(f'lead_text:\\n  {bankier_dataframe.iloc[5][\"lead_text\"]}')\n",
    "print(f'link:\\n  {bankier_dataframe.iloc[5][\"link\"]}')\n",
    "print(f'text:\\n  {bankier_dataframe.iloc[5][\"text\"]}')\n",
    "print(f'when_published:\\n  {bankier_dataframe.iloc[5][\"when_published\"]}')"
   ],
   "metadata": {
    "collapsed": false,
    "pycharm": {
     "name": "#%%\n"
    }
   }
  },
  {
   "cell_type": "code",
   "execution_count": 15,
   "outputs": [],
   "source": [],
   "metadata": {
    "collapsed": false,
    "pycharm": {
     "name": "#%%\n"
    }
   }
  }
 ],
 "metadata": {
  "kernelspec": {
   "display_name": "Python 3",
   "language": "python",
   "name": "python3"
  },
  "language_info": {
   "codemirror_mode": {
    "name": "ipython",
    "version": 2
   },
   "file_extension": ".py",
   "mimetype": "text/x-python",
   "name": "python",
   "nbconvert_exporter": "python",
   "pygments_lexer": "ipython2",
   "version": "2.7.6"
  }
 },
 "nbformat": 4,
 "nbformat_minor": 0
}