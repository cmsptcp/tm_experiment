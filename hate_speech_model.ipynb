{
 "cells": [
  {
   "cell_type": "markdown",
   "source": [
    "### Hate & cyberbullying analysis - model preparation\n",
    "źródła: http://2019.poleval.pl/index.php/tasks/task6 & materiały wykładowe (Text Mining @ PW, 2021)\n",
    "\n",
    "Co zrobiłem:\n",
    "- przygotowałem 2 alternatywne modele ale i tak są one marne (nie użyto w dalszych analizach)\n",
    "\n",
    "Etykiety:\n",
    "* 0 - neutralna wypowiedź\n",
    "* 1 - cyberbullying -> skierowany do osoby prywatnej\n",
    "* 2 - hate-speech -> skierowany do osoby publicznje/insytutcji/dużej grupy"
   ],
   "metadata": {
    "collapsed": false,
    "pycharm": {
     "name": "#%% md\n"
    }
   }
  },
  {
   "cell_type": "code",
   "execution_count": 2,
   "outputs": [],
   "source": [
    "# ! pip install sklearn"
   ],
   "metadata": {
    "collapsed": false,
    "pycharm": {
     "name": "#%%\n"
    }
   }
  },
  {
   "cell_type": "code",
   "execution_count": 3,
   "outputs": [],
   "source": [
    "import pandas as pd\n",
    "import spacy\n",
    "# For displaying spacy features\n",
    "from spacy import displacy\n",
    "from tqdm import tqdm\n",
    "import numpy as np\n",
    "from spacy.lang.pl.stop_words import STOP_WORDS\n",
    "from spacy.lang.pl.examples import sentences\n",
    "\n",
    "import shutil\n",
    "import requests"
   ],
   "metadata": {
    "collapsed": false,
    "pycharm": {
     "name": "#%%\n"
    }
   }
  },
  {
   "cell_type": "code",
   "execution_count": 4,
   "outputs": [],
   "source": [
    "x_train_df = pd.read_csv('./hate_speech/training_set_clean_only_text.txt', sep=\"\\n\", header=None, names=['text'], encoding ='utf-8')\n",
    "y_train = pd.read_csv('./hate_speech/training_set_clean_only_tags.txt', header=None, names=['hate_speech'])\n",
    "x_test_df = pd.read_csv('./hate_speech/test_set_only_text.txt', sep=\"\\n\", header=None, names=['text'], encoding ='utf-8')\n",
    "y_test = pd.read_csv('./hate_speech/test_set_only_tags.txt', header=None, names=['hate_speech'])"
   ],
   "metadata": {
    "collapsed": false,
    "pycharm": {
     "name": "#%%\n"
    }
   }
  },
  {
   "cell_type": "code",
   "execution_count": 5,
   "outputs": [
    {
     "name": "stdout",
     "output_type": "stream",
     "text": [
      "Liczba obserwacji w zbiorze treningowym: 10041\n"
     ]
    },
    {
     "data": {
      "text/plain": "                                                                                                                                                          text\n0                                                                               Dla mnie faworytem do tytułu będzie Cracovia. Zobaczymy, czy typ się sprawdzi.\n1                                                                           @anonymized_account @anonymized_account Brawo ty Daria kibic ma być na dobre i złe\n2                                @anonymized_account @anonymized_account Super, polski premier składa kwiaty na grobach kolaborantów. Ale doczekaliśmy czasów.\n3                                                                                          @anonymized_account @anonymized_account Musi. Innej drogi nie mamy.\n4                                                                                                              Odrzut natychmiastowy, kwaśna mina, mam problem\n5                          Jaki on był fajny xdd pamiętam, że spóźniłam się na jego pierwsze zajęcia i to sporo i za karę kazał mi usiąść w pierwszej ławce XD\n6                                                                                                              @anonymized_account No nie ma u nas szczęścia 😉\n7                                                                                                @anonymized_account Dawno kogoś tak wrednego nie widziałam xd\n8                             @anonymized_account @anonymized_account Zaległości były, ale ważne czy były wezwania do zapłaty z których się klub nie wywiązał.\n9   @anonymized_account @anonymized_account @anonymized_account Gdzie jest @anonymized_account . Brudziński jesteś kłamcą i marnym kutasem @anonymized_account\n10                                                                                               @anonymized_account @anonymized_account  no mam nadzieje !!:)\n11                                                                               @anonymized_account @anonymized_account Może gustował w starszych paniach ;-)\n12                                                                 @anonymized_account Zostawiłam tam 3 lata temu \\\"Notatki na mankietach\\\". Muszę się wrócić.\n13                                           @anonymized_account Oprawa do Krzysia M. Ps Pinokio -\\n\\\" mogłeś być gangsterem a zostałeś 3 ligowym frajerem \\\"😀\n14                                                    @anonymized_account @anonymized_account Znowu będzie komunikat o polskich piratach drogowych w Słowacji.\n15                                             @anonymized_account Mówi człowiek, który chciał nałożyć sankcje na Polskę. Gratulacje. #Niepodlegla #11lisopada\n16                      RT @anonymized_account @anonymized_account Mówi człowiek, który chciał nałożyć sankcje na Polskę. Gratulacje. #Niepodlegla #11lisopada\n17          @anonymized_account @anonymized_account o jakim zachowaniu \\\"fer\\\" mówisz skoro ukrywał się z tym że podpisał kontrakt z Legią ? Możesz rozwinąć ?\n18                                                                   @anonymized_account @anonymized_account Joanno! Po raz pierwszy się z panią zgadzam.😁😁😁😁😁\n19                                                                                                            Monster block, monster block, monster block... 😁\n20                                                                                                 @anonymized_account Czyżby Madryt brał przykład z Warszawy?\n21                                                               @anonymized_account @anonymized_account No to Skończmy kurwa z tym wersalem w j...ej szczujni\n22                                                                               @anonymized_account Nie wiem, najczęściej grają na zmianę na prawym skrzydle.\n23                                                                @anonymized_account No to Pan i koledzy macie z głowy. Przesrane tak reszta życia pod górkę.\n24                                          @anonymized_account A ja obstawiam, że pójdą bardziej w stronę tego, że może się powtórzyć sytuacja z Meresińskim.\n25                                                                                                                            Aaaaa Kuba mi odpisał hehehehehe\n26                                                                      Asysta Kacpra Falona i 3:1 dla Widzewa. Witamy Widzew w II lidze. No i w sumie fajnie.\n27                                                                                           @anonymized_account gwizdali na niego ? Bo nie oglądałem meczu :)\n28          @anonymized_account @anonymized_account ale może w końcu dojdzie do wniosku że skoro go klub już nie jara to lepiej go sprzedać i mieć po kłopocie\n29                                             @anonymized_account @anonymized_account Hej halo, o czym to jest bo mam na swojej liście i nie wiem czy warto??\n30                                                                                                                             dorosłe życie nie jest dla mnie\n31                                                                                                      RT @anonymized_account dorosłe życie nie jest dla mnie\n32                                                                                              @anonymized_account Cześć Paderewski, część opalające się nogi\n33                                                  @anonymized_account @anonymized_account @anonymized_account Uprowadź gumową kaczuszkę. Zacznie negocjować.\n34                                                                                                         @anonymized_account Już wiem ze się nie dogadamy XD\n35                                                                                       @anonymized_account Ale to w nowym przekładzie, jeszcze nie czytałam.\n36                                                 @anonymized_account Lahoza mi nigdy nie szkoda. Wolę, jak na pierwszym planie są piłkarze, a nie sędzia :-)\n37                                  @anonymized_account @anonymized_account Sprawdź chłopie w słowniku co oznacza słowo , którego używasz a potem się odzywaj.\n38                                                                 @anonymized_account zmieńcie se nazwe na profilu na insta bo się nazywacie Grzegorz Ożóg...\n39                                                                    #Woronicza 17 poseł Halicki oburzony za Bolka.Naprawdè taki tępy czy tylko udaje idiotę?\n40                                                           „Ta aktorka ma 20 lat?!?! Jaka stara!!” \\n\\nChyba musimy się już do grobu pakować roczniku 98 😂👌🏻\n41                                    RT @anonymized_account „Ta aktorka ma 20 lat?!?! Jaka stara!!” \\n\\nChyba musimy się już do grobu pakować roczniku 98 😂👌🏻\n42                                                                                          Ahnherr der Schtwätzer wykonawcy Von Spar\\nhttps://t.co/SOtenSqIr0\n43                                                    @anonymized_account @anonymized_account @anonymized_account Bierze cie cie pod chuj a ty sie produkujesz\n44               @anonymized_account @anonymized_account @anonymized_account Jak narazie to masz przywidzenia co nie zmienia faktu że cały czas jesteś idiotą.\n45                                                                                            @anonymized_account Kiedy do licznika dojdą bilety z fan clubow?\n46                                                                              @anonymized_account A kto prowadzi zespół ? Będzie podany skład z tego meczu ?\n47                                                     @anonymized_account Główny powód to brak kasy, trzeba dać bogatym 500+,300+ i być bez godności i honoru\n48                                                                                                                              Zrobiłam takie Cv że ohohohoho\n49                                           Świętować uchwalenie Konstytucji 3 maja i łamać Konstytucję RP obecnie obowiązującą?!\\n#3Maja - dzień hipokryzji.\n50                    RT @anonymized_account Świętować uchwalenie Konstytucji 3 maja i łamać Konstytucję RP obecnie obowiązującą?!\\n#3Maja - dzień hipokryzji.\n51                                                                               @anonymized_account @anonymized_account nie gra bo jest Jovanović i Guilherme\n52                                                                                                         @anonymized_account O tej godz. sporty szanuj ciało\n53                                                                                             Nikt nigdy nie rozsiewał takiego smrodu jak @anonymized_account\n54                                                                                                Nikt cię tak dobrze nie ubierze jak matka chrzestna dziecino\n55                                                   @anonymized_account @anonymized_account Nikt tutaj nie chce plagiaciarzy kopiujących brytyjskich pisarzy.\n56                                                                                        @anonymized_account A ksiądz co bierze 12 tyś za spowiedź przez tel?\n57                                                @anonymized_account Koń też ma dużą głowę. Tylko wydaje mi się, że jest bardziej inteligentny niż Karczewski\n58                                                                                                  @anonymized_account Pod i górę  pod wiatr to więcej niż k2\n59                                                                                                  @anonymized_account Sędziowie VAR nie decydują o karnych 😉\n60                                     Jakiś program na TVN, nauka jazdy za kierownicą babcia śpiewa \\\"jadą jadą jadą świry jadą\\\" jadą jadą jadą świry jadą\\\"\n61                                                                      @anonymized_account ta obecna Zary Larsson czy Pitbulla z ostatnich MŚ nie były złe :)\n62                                                                                                                              (280 znaków w jednym zdaniu 🙈)\n63                                                                             @anonymized_account po wahaniach wagi Kwacha wznoszę że to może być kapuścianka\n64                    @anonymized_account @anonymized_account w tym sezonie razem z pucharem 12 meczy i 1 gol.Mójta więcej strzelił.Sorry patrze w statystyki.\n65                                               @anonymized_account @anonymized_account @anonymized_account finały tblk były przyzwoicie sędziowane ?! Aha...\n66                                                                                            @anonymized_account Taki miałam właśnie, teraz kupiłam z catrice\n67                                                                                                          @anonymized_account to ich wymień.W czym problem ?\n68                                           @anonymized_account @anonymized_account @anonymized_account a ja mam ciepełko jak się przytule do swoich kotów :)\n69                                        @anonymized_account Właśnie. Ilu! Najpierw odpowiedzmy sobie ma to pytanie,a potem dziwmy się zwycięstwu Zdanowskiej\n70             @anonymized_account W jego przypadku statystyka przebiegniętych kilometrów nie ma znaczenia. Czy gra zajebiście, czy fatalnie, biega tyle samo.\n71                                                                                     @anonymized_account @anonymized_account 100%, Mann też miał pełne prawo\n72                                                                                                              @anonymized_account Kończyłeś już kilka razy 😂\n73                                                                      @anonymized_account Dzisiaj zajmujemy się WARiatem Krystyną ciekawe czy będzie płakał?\n74                                        @anonymized_account @anonymized_account @anonymized_account @anonymized_account A co będzie jak Kuba nigdy niewroci?\n75                                                                                          @anonymized_account Tym w sejmie też? Banda hipokrytów i złodziei.\n76                                          W każdej z czterech grup będzie walka o zwycięstwo premiowane awansem do CLJ. Bardzo potrzebne rozwiązanie, brawo.\n77                                                                                      @anonymized_account Tak się poznałam z moim chłopakiem 😂 czasami warto\n78                                                                                             @anonymized_account nelly furtado a tytuł forco czy cos takiego\n79                                                                                                          @anonymized_account Mów prawdę, kto was skrzywdził\n80                                                                                                                    @anonymized_account jestem tu od 2013 xd\n81                                                                                                                @anonymized_account Ta kadra to rocznik 2002\n82                                                                                                   Posiada sensor CGM , ciągły monitoring glikemii, w końcu.\n83         Jeszcze żaden Polak nie wystąpił w meczu gwiazd NBA, nie licząc Mietka Paciaciaka ;) Pomóżmy Marcinowi Gortatowi być 1 @anonymized_account #NBAVOTE\n84              RT @anonymized_account Jeszcze żaden Polak nie wystąpił w meczu gwiazd NBA, nie licząc Mietka Paciaciaka ;) Pomóżmy Marcinowi Gortatowi być 1…\n85                                                                                                        @anonymized_account No kurwa myślałem że na Podlasiu\n86                                                                                   @anonymized_account @anonymized_account Tak, to nawet lepsze rozwiązanie.\n87                          @anonymized_account @anonymized_account Koń by się uśmiał, TVN24 i TVN wolne media? Bardziej perfidnego łgarstwa nie słyszałem.. 🤔\n88   RT @anonymized_account @anonymized_account @anonymized_account Koń by się uśmiał, TVN24 i TVN wolne media? Bardziej perfidnego łgarstwa nie słyszałem.. 🤔\n89                                                                                                               @anonymized_account Gdzie ja wtedy byłam? ;-)\n90                                  @anonymized_account @anonymized_account @anonymized_account Midze sie nudziło i se coś na kolanie napisał i macie sensacje\n91                                                                                            @anonymized_account Dzisiaj wrócił do treningów, czyli zdążyli 😉\n92                                                @anonymized_account @anonymized_account @anonymized_account @anonymized_account Nie wiem, zerknij na 90minut\n93                            @anonymized_account @anonymized_account Z motłochem nie dyskutuję tylko daje bany. A Pani @anonymized_account gratuluję obrońcy.\n94                                     @anonymized_account możesz też zawsze po prostu zapytać kiedy się urodziłam. Albo wpisać hasztag #100latKasiaPawlak ;-)\n95                                                       @anonymized_account ale z kategoriami moim zdaniem przesadzają.Sponsor roku, serce, impreza ? Bez jaj\n96                                         @anonymized_account Prezes się cieszy ze Wisla odpadła bo w razie finału Legia-Wisla znów by musiał finał odwoływać\n97                                            Bratowa wysłała mi zdjęcie bratanicy z rozpoczęcia roku, idzie do pierwszej klasy, biedactwo nie wie co ją czeka\n98                                                           @anonymized_account szybkie pytanie do @anonymized_account Ręka Sadloka była zagraniem umyślnym ?\n99                                                                                       @anonymized_account Dzień w którym Abidal sprzedał i kupił A.Vidala 😉",
      "text/html": "<div>\n<style scoped>\n    .dataframe tbody tr th:only-of-type {\n        vertical-align: middle;\n    }\n\n    .dataframe tbody tr th {\n        vertical-align: top;\n    }\n\n    .dataframe thead th {\n        text-align: right;\n    }\n</style>\n<table border=\"1\" class=\"dataframe\">\n  <thead>\n    <tr style=\"text-align: right;\">\n      <th></th>\n      <th>text</th>\n    </tr>\n  </thead>\n  <tbody>\n    <tr>\n      <th>0</th>\n      <td>Dla mnie faworytem do tytułu będzie Cracovia. Zobaczymy, czy typ się sprawdzi.</td>\n    </tr>\n    <tr>\n      <th>1</th>\n      <td>@anonymized_account @anonymized_account Brawo ty Daria kibic ma być na dobre i złe</td>\n    </tr>\n    <tr>\n      <th>2</th>\n      <td>@anonymized_account @anonymized_account Super, polski premier składa kwiaty na grobach kolaborantów. Ale doczekaliśmy czasów.</td>\n    </tr>\n    <tr>\n      <th>3</th>\n      <td>@anonymized_account @anonymized_account Musi. Innej drogi nie mamy.</td>\n    </tr>\n    <tr>\n      <th>4</th>\n      <td>Odrzut natychmiastowy, kwaśna mina, mam problem</td>\n    </tr>\n    <tr>\n      <th>5</th>\n      <td>Jaki on był fajny xdd pamiętam, że spóźniłam się na jego pierwsze zajęcia i to sporo i za karę kazał mi usiąść w pierwszej ławce XD</td>\n    </tr>\n    <tr>\n      <th>6</th>\n      <td>@anonymized_account No nie ma u nas szczęścia 😉</td>\n    </tr>\n    <tr>\n      <th>7</th>\n      <td>@anonymized_account Dawno kogoś tak wrednego nie widziałam xd</td>\n    </tr>\n    <tr>\n      <th>8</th>\n      <td>@anonymized_account @anonymized_account Zaległości były, ale ważne czy były wezwania do zapłaty z których się klub nie wywiązał.</td>\n    </tr>\n    <tr>\n      <th>9</th>\n      <td>@anonymized_account @anonymized_account @anonymized_account Gdzie jest @anonymized_account . Brudziński jesteś kłamcą i marnym kutasem @anonymized_account</td>\n    </tr>\n    <tr>\n      <th>10</th>\n      <td>@anonymized_account @anonymized_account  no mam nadzieje !!:)</td>\n    </tr>\n    <tr>\n      <th>11</th>\n      <td>@anonymized_account @anonymized_account Może gustował w starszych paniach ;-)</td>\n    </tr>\n    <tr>\n      <th>12</th>\n      <td>@anonymized_account Zostawiłam tam 3 lata temu \\\"Notatki na mankietach\\\". Muszę się wrócić.</td>\n    </tr>\n    <tr>\n      <th>13</th>\n      <td>@anonymized_account Oprawa do Krzysia M. Ps Pinokio -\\n\\\" mogłeś być gangsterem a zostałeś 3 ligowym frajerem \\\"😀</td>\n    </tr>\n    <tr>\n      <th>14</th>\n      <td>@anonymized_account @anonymized_account Znowu będzie komunikat o polskich piratach drogowych w Słowacji.</td>\n    </tr>\n    <tr>\n      <th>15</th>\n      <td>@anonymized_account Mówi człowiek, który chciał nałożyć sankcje na Polskę. Gratulacje. #Niepodlegla #11lisopada</td>\n    </tr>\n    <tr>\n      <th>16</th>\n      <td>RT @anonymized_account @anonymized_account Mówi człowiek, który chciał nałożyć sankcje na Polskę. Gratulacje. #Niepodlegla #11lisopada</td>\n    </tr>\n    <tr>\n      <th>17</th>\n      <td>@anonymized_account @anonymized_account o jakim zachowaniu \\\"fer\\\" mówisz skoro ukrywał się z tym że podpisał kontrakt z Legią ? Możesz rozwinąć ?</td>\n    </tr>\n    <tr>\n      <th>18</th>\n      <td>@anonymized_account @anonymized_account Joanno! Po raz pierwszy się z panią zgadzam.😁😁😁😁😁</td>\n    </tr>\n    <tr>\n      <th>19</th>\n      <td>Monster block, monster block, monster block... 😁</td>\n    </tr>\n    <tr>\n      <th>20</th>\n      <td>@anonymized_account Czyżby Madryt brał przykład z Warszawy?</td>\n    </tr>\n    <tr>\n      <th>21</th>\n      <td>@anonymized_account @anonymized_account No to Skończmy kurwa z tym wersalem w j...ej szczujni</td>\n    </tr>\n    <tr>\n      <th>22</th>\n      <td>@anonymized_account Nie wiem, najczęściej grają na zmianę na prawym skrzydle.</td>\n    </tr>\n    <tr>\n      <th>23</th>\n      <td>@anonymized_account No to Pan i koledzy macie z głowy. Przesrane tak reszta życia pod górkę.</td>\n    </tr>\n    <tr>\n      <th>24</th>\n      <td>@anonymized_account A ja obstawiam, że pójdą bardziej w stronę tego, że może się powtórzyć sytuacja z Meresińskim.</td>\n    </tr>\n    <tr>\n      <th>25</th>\n      <td>Aaaaa Kuba mi odpisał hehehehehe</td>\n    </tr>\n    <tr>\n      <th>26</th>\n      <td>Asysta Kacpra Falona i 3:1 dla Widzewa. Witamy Widzew w II lidze. No i w sumie fajnie.</td>\n    </tr>\n    <tr>\n      <th>27</th>\n      <td>@anonymized_account gwizdali na niego ? Bo nie oglądałem meczu :)</td>\n    </tr>\n    <tr>\n      <th>28</th>\n      <td>@anonymized_account @anonymized_account ale może w końcu dojdzie do wniosku że skoro go klub już nie jara to lepiej go sprzedać i mieć po kłopocie</td>\n    </tr>\n    <tr>\n      <th>29</th>\n      <td>@anonymized_account @anonymized_account Hej halo, o czym to jest bo mam na swojej liście i nie wiem czy warto??</td>\n    </tr>\n    <tr>\n      <th>30</th>\n      <td>dorosłe życie nie jest dla mnie</td>\n    </tr>\n    <tr>\n      <th>31</th>\n      <td>RT @anonymized_account dorosłe życie nie jest dla mnie</td>\n    </tr>\n    <tr>\n      <th>32</th>\n      <td>@anonymized_account Cześć Paderewski, część opalające się nogi</td>\n    </tr>\n    <tr>\n      <th>33</th>\n      <td>@anonymized_account @anonymized_account @anonymized_account Uprowadź gumową kaczuszkę. Zacznie negocjować.</td>\n    </tr>\n    <tr>\n      <th>34</th>\n      <td>@anonymized_account Już wiem ze się nie dogadamy XD</td>\n    </tr>\n    <tr>\n      <th>35</th>\n      <td>@anonymized_account Ale to w nowym przekładzie, jeszcze nie czytałam.</td>\n    </tr>\n    <tr>\n      <th>36</th>\n      <td>@anonymized_account Lahoza mi nigdy nie szkoda. Wolę, jak na pierwszym planie są piłkarze, a nie sędzia :-)</td>\n    </tr>\n    <tr>\n      <th>37</th>\n      <td>@anonymized_account @anonymized_account Sprawdź chłopie w słowniku co oznacza słowo , którego używasz a potem się odzywaj.</td>\n    </tr>\n    <tr>\n      <th>38</th>\n      <td>@anonymized_account zmieńcie se nazwe na profilu na insta bo się nazywacie Grzegorz Ożóg...</td>\n    </tr>\n    <tr>\n      <th>39</th>\n      <td>#Woronicza 17 poseł Halicki oburzony za Bolka.Naprawdè taki tępy czy tylko udaje idiotę?</td>\n    </tr>\n    <tr>\n      <th>40</th>\n      <td>„Ta aktorka ma 20 lat?!?! Jaka stara!!” \\n\\nChyba musimy się już do grobu pakować roczniku 98 😂👌🏻</td>\n    </tr>\n    <tr>\n      <th>41</th>\n      <td>RT @anonymized_account „Ta aktorka ma 20 lat?!?! Jaka stara!!” \\n\\nChyba musimy się już do grobu pakować roczniku 98 😂👌🏻</td>\n    </tr>\n    <tr>\n      <th>42</th>\n      <td>Ahnherr der Schtwätzer wykonawcy Von Spar\\nhttps://t.co/SOtenSqIr0</td>\n    </tr>\n    <tr>\n      <th>43</th>\n      <td>@anonymized_account @anonymized_account @anonymized_account Bierze cie cie pod chuj a ty sie produkujesz</td>\n    </tr>\n    <tr>\n      <th>44</th>\n      <td>@anonymized_account @anonymized_account @anonymized_account Jak narazie to masz przywidzenia co nie zmienia faktu że cały czas jesteś idiotą.</td>\n    </tr>\n    <tr>\n      <th>45</th>\n      <td>@anonymized_account Kiedy do licznika dojdą bilety z fan clubow?</td>\n    </tr>\n    <tr>\n      <th>46</th>\n      <td>@anonymized_account A kto prowadzi zespół ? Będzie podany skład z tego meczu ?</td>\n    </tr>\n    <tr>\n      <th>47</th>\n      <td>@anonymized_account Główny powód to brak kasy, trzeba dać bogatym 500+,300+ i być bez godności i honoru</td>\n    </tr>\n    <tr>\n      <th>48</th>\n      <td>Zrobiłam takie Cv że ohohohoho</td>\n    </tr>\n    <tr>\n      <th>49</th>\n      <td>Świętować uchwalenie Konstytucji 3 maja i łamać Konstytucję RP obecnie obowiązującą?!\\n#3Maja - dzień hipokryzji.</td>\n    </tr>\n    <tr>\n      <th>50</th>\n      <td>RT @anonymized_account Świętować uchwalenie Konstytucji 3 maja i łamać Konstytucję RP obecnie obowiązującą?!\\n#3Maja - dzień hipokryzji.</td>\n    </tr>\n    <tr>\n      <th>51</th>\n      <td>@anonymized_account @anonymized_account nie gra bo jest Jovanović i Guilherme</td>\n    </tr>\n    <tr>\n      <th>52</th>\n      <td>@anonymized_account O tej godz. sporty szanuj ciało</td>\n    </tr>\n    <tr>\n      <th>53</th>\n      <td>Nikt nigdy nie rozsiewał takiego smrodu jak @anonymized_account</td>\n    </tr>\n    <tr>\n      <th>54</th>\n      <td>Nikt cię tak dobrze nie ubierze jak matka chrzestna dziecino</td>\n    </tr>\n    <tr>\n      <th>55</th>\n      <td>@anonymized_account @anonymized_account Nikt tutaj nie chce plagiaciarzy kopiujących brytyjskich pisarzy.</td>\n    </tr>\n    <tr>\n      <th>56</th>\n      <td>@anonymized_account A ksiądz co bierze 12 tyś za spowiedź przez tel?</td>\n    </tr>\n    <tr>\n      <th>57</th>\n      <td>@anonymized_account Koń też ma dużą głowę. Tylko wydaje mi się, że jest bardziej inteligentny niż Karczewski</td>\n    </tr>\n    <tr>\n      <th>58</th>\n      <td>@anonymized_account Pod i górę  pod wiatr to więcej niż k2</td>\n    </tr>\n    <tr>\n      <th>59</th>\n      <td>@anonymized_account Sędziowie VAR nie decydują o karnych 😉</td>\n    </tr>\n    <tr>\n      <th>60</th>\n      <td>Jakiś program na TVN, nauka jazdy za kierownicą babcia śpiewa \\\"jadą jadą jadą świry jadą\\\" jadą jadą jadą świry jadą\\\"</td>\n    </tr>\n    <tr>\n      <th>61</th>\n      <td>@anonymized_account ta obecna Zary Larsson czy Pitbulla z ostatnich MŚ nie były złe :)</td>\n    </tr>\n    <tr>\n      <th>62</th>\n      <td>(280 znaków w jednym zdaniu 🙈)</td>\n    </tr>\n    <tr>\n      <th>63</th>\n      <td>@anonymized_account po wahaniach wagi Kwacha wznoszę że to może być kapuścianka</td>\n    </tr>\n    <tr>\n      <th>64</th>\n      <td>@anonymized_account @anonymized_account w tym sezonie razem z pucharem 12 meczy i 1 gol.Mójta więcej strzelił.Sorry patrze w statystyki.</td>\n    </tr>\n    <tr>\n      <th>65</th>\n      <td>@anonymized_account @anonymized_account @anonymized_account finały tblk były przyzwoicie sędziowane ?! Aha...</td>\n    </tr>\n    <tr>\n      <th>66</th>\n      <td>@anonymized_account Taki miałam właśnie, teraz kupiłam z catrice</td>\n    </tr>\n    <tr>\n      <th>67</th>\n      <td>@anonymized_account to ich wymień.W czym problem ?</td>\n    </tr>\n    <tr>\n      <th>68</th>\n      <td>@anonymized_account @anonymized_account @anonymized_account a ja mam ciepełko jak się przytule do swoich kotów :)</td>\n    </tr>\n    <tr>\n      <th>69</th>\n      <td>@anonymized_account Właśnie. Ilu! Najpierw odpowiedzmy sobie ma to pytanie,a potem dziwmy się zwycięstwu Zdanowskiej</td>\n    </tr>\n    <tr>\n      <th>70</th>\n      <td>@anonymized_account W jego przypadku statystyka przebiegniętych kilometrów nie ma znaczenia. Czy gra zajebiście, czy fatalnie, biega tyle samo.</td>\n    </tr>\n    <tr>\n      <th>71</th>\n      <td>@anonymized_account @anonymized_account 100%, Mann też miał pełne prawo</td>\n    </tr>\n    <tr>\n      <th>72</th>\n      <td>@anonymized_account Kończyłeś już kilka razy 😂</td>\n    </tr>\n    <tr>\n      <th>73</th>\n      <td>@anonymized_account Dzisiaj zajmujemy się WARiatem Krystyną ciekawe czy będzie płakał?</td>\n    </tr>\n    <tr>\n      <th>74</th>\n      <td>@anonymized_account @anonymized_account @anonymized_account @anonymized_account A co będzie jak Kuba nigdy niewroci?</td>\n    </tr>\n    <tr>\n      <th>75</th>\n      <td>@anonymized_account Tym w sejmie też? Banda hipokrytów i złodziei.</td>\n    </tr>\n    <tr>\n      <th>76</th>\n      <td>W każdej z czterech grup będzie walka o zwycięstwo premiowane awansem do CLJ. Bardzo potrzebne rozwiązanie, brawo.</td>\n    </tr>\n    <tr>\n      <th>77</th>\n      <td>@anonymized_account Tak się poznałam z moim chłopakiem 😂 czasami warto</td>\n    </tr>\n    <tr>\n      <th>78</th>\n      <td>@anonymized_account nelly furtado a tytuł forco czy cos takiego</td>\n    </tr>\n    <tr>\n      <th>79</th>\n      <td>@anonymized_account Mów prawdę, kto was skrzywdził</td>\n    </tr>\n    <tr>\n      <th>80</th>\n      <td>@anonymized_account jestem tu od 2013 xd</td>\n    </tr>\n    <tr>\n      <th>81</th>\n      <td>@anonymized_account Ta kadra to rocznik 2002</td>\n    </tr>\n    <tr>\n      <th>82</th>\n      <td>Posiada sensor CGM , ciągły monitoring glikemii, w końcu.</td>\n    </tr>\n    <tr>\n      <th>83</th>\n      <td>Jeszcze żaden Polak nie wystąpił w meczu gwiazd NBA, nie licząc Mietka Paciaciaka ;) Pomóżmy Marcinowi Gortatowi być 1 @anonymized_account #NBAVOTE</td>\n    </tr>\n    <tr>\n      <th>84</th>\n      <td>RT @anonymized_account Jeszcze żaden Polak nie wystąpił w meczu gwiazd NBA, nie licząc Mietka Paciaciaka ;) Pomóżmy Marcinowi Gortatowi być 1…</td>\n    </tr>\n    <tr>\n      <th>85</th>\n      <td>@anonymized_account No kurwa myślałem że na Podlasiu</td>\n    </tr>\n    <tr>\n      <th>86</th>\n      <td>@anonymized_account @anonymized_account Tak, to nawet lepsze rozwiązanie.</td>\n    </tr>\n    <tr>\n      <th>87</th>\n      <td>@anonymized_account @anonymized_account Koń by się uśmiał, TVN24 i TVN wolne media? Bardziej perfidnego łgarstwa nie słyszałem.. 🤔</td>\n    </tr>\n    <tr>\n      <th>88</th>\n      <td>RT @anonymized_account @anonymized_account @anonymized_account Koń by się uśmiał, TVN24 i TVN wolne media? Bardziej perfidnego łgarstwa nie słyszałem.. 🤔</td>\n    </tr>\n    <tr>\n      <th>89</th>\n      <td>@anonymized_account Gdzie ja wtedy byłam? ;-)</td>\n    </tr>\n    <tr>\n      <th>90</th>\n      <td>@anonymized_account @anonymized_account @anonymized_account Midze sie nudziło i se coś na kolanie napisał i macie sensacje</td>\n    </tr>\n    <tr>\n      <th>91</th>\n      <td>@anonymized_account Dzisiaj wrócił do treningów, czyli zdążyli 😉</td>\n    </tr>\n    <tr>\n      <th>92</th>\n      <td>@anonymized_account @anonymized_account @anonymized_account @anonymized_account Nie wiem, zerknij na 90minut</td>\n    </tr>\n    <tr>\n      <th>93</th>\n      <td>@anonymized_account @anonymized_account Z motłochem nie dyskutuję tylko daje bany. A Pani @anonymized_account gratuluję obrońcy.</td>\n    </tr>\n    <tr>\n      <th>94</th>\n      <td>@anonymized_account możesz też zawsze po prostu zapytać kiedy się urodziłam. Albo wpisać hasztag #100latKasiaPawlak ;-)</td>\n    </tr>\n    <tr>\n      <th>95</th>\n      <td>@anonymized_account ale z kategoriami moim zdaniem przesadzają.Sponsor roku, serce, impreza ? Bez jaj</td>\n    </tr>\n    <tr>\n      <th>96</th>\n      <td>@anonymized_account Prezes się cieszy ze Wisla odpadła bo w razie finału Legia-Wisla znów by musiał finał odwoływać</td>\n    </tr>\n    <tr>\n      <th>97</th>\n      <td>Bratowa wysłała mi zdjęcie bratanicy z rozpoczęcia roku, idzie do pierwszej klasy, biedactwo nie wie co ją czeka</td>\n    </tr>\n    <tr>\n      <th>98</th>\n      <td>@anonymized_account szybkie pytanie do @anonymized_account Ręka Sadloka była zagraniem umyślnym ?</td>\n    </tr>\n    <tr>\n      <th>99</th>\n      <td>@anonymized_account Dzień w którym Abidal sprzedał i kupił A.Vidala 😉</td>\n    </tr>\n  </tbody>\n</table>\n</div>"
     },
     "execution_count": 5,
     "metadata": {},
     "output_type": "execute_result"
    }
   ],
   "source": [
    "pd.set_option('display.max_colwidth', 500)\n",
    "pd.set_option('display.max_rows', 100)\n",
    "print(f\"Liczba obserwacji w zbiorze treningowym: {x_train_df.count()[0]}\")\n",
    "x_train_df.head(100)"
   ],
   "metadata": {
    "collapsed": false,
    "pycharm": {
     "name": "#%%\n"
    }
   }
  },
  {
   "cell_type": "code",
   "execution_count": 6,
   "outputs": [
    {
     "name": "stdout",
     "output_type": "stream",
     "text": [
      "Liczba obserwacji w zbiorze treningowym: 1000\n"
     ]
    },
    {
     "data": {
      "text/plain": "                                                                                                                                  text\n0                                      @anonymized_account Spoko, jak im Duda z Morawieckim zamówią po pięć piw to wszystko będzie ok.\n1                    @anonymized_account @anonymized_account Ale on tu nie miał szans jej zagrania, a ta 'proba' to czysta prowizorka.\n2                       @anonymized_account No czy Prezes nie miał racji, mówiąc,ze to są zdradzieckie mordy? No czy nie miał racji?😁😁\n3                                                      @anonymized_account @anonymized_account Przecież to nawet nie jest przewrotka 😂\n4  @anonymized_account @anonymized_account Owszem podatki tak. Ale nie w takich okolicznościach. Czemu Małysza odpalili z teamu Orlen?",
      "text/html": "<div>\n<style scoped>\n    .dataframe tbody tr th:only-of-type {\n        vertical-align: middle;\n    }\n\n    .dataframe tbody tr th {\n        vertical-align: top;\n    }\n\n    .dataframe thead th {\n        text-align: right;\n    }\n</style>\n<table border=\"1\" class=\"dataframe\">\n  <thead>\n    <tr style=\"text-align: right;\">\n      <th></th>\n      <th>text</th>\n    </tr>\n  </thead>\n  <tbody>\n    <tr>\n      <th>0</th>\n      <td>@anonymized_account Spoko, jak im Duda z Morawieckim zamówią po pięć piw to wszystko będzie ok.</td>\n    </tr>\n    <tr>\n      <th>1</th>\n      <td>@anonymized_account @anonymized_account Ale on tu nie miał szans jej zagrania, a ta 'proba' to czysta prowizorka.</td>\n    </tr>\n    <tr>\n      <th>2</th>\n      <td>@anonymized_account No czy Prezes nie miał racji, mówiąc,ze to są zdradzieckie mordy? No czy nie miał racji?😁😁</td>\n    </tr>\n    <tr>\n      <th>3</th>\n      <td>@anonymized_account @anonymized_account Przecież to nawet nie jest przewrotka 😂</td>\n    </tr>\n    <tr>\n      <th>4</th>\n      <td>@anonymized_account @anonymized_account Owszem podatki tak. Ale nie w takich okolicznościach. Czemu Małysza odpalili z teamu Orlen?</td>\n    </tr>\n  </tbody>\n</table>\n</div>"
     },
     "execution_count": 6,
     "metadata": {},
     "output_type": "execute_result"
    }
   ],
   "source": [
    "print(f\"Liczba obserwacji w zbiorze treningowym: {x_test_df.count()[0]}\")\n",
    "x_test_df.head()"
   ],
   "metadata": {
    "collapsed": false,
    "pycharm": {
     "name": "#%%\n"
    }
   }
  },
  {
   "cell_type": "code",
   "execution_count": 7,
   "outputs": [
    {
     "data": {
      "text/plain": "0    0.915247\n2    0.059556\n1    0.025197\nName: hate_speech, dtype: float64"
     },
     "execution_count": 7,
     "metadata": {},
     "output_type": "execute_result"
    }
   ],
   "source": [
    "### '0 - (non-harmful)', '1 - (cyberbullying)', '2 - (hate-speech)'\n",
    "### Rozkład zmiennej celu\n",
    "y_train['hate_speech'].value_counts(normalize=True)"
   ],
   "metadata": {
    "collapsed": false,
    "pycharm": {
     "name": "#%%\n"
    }
   }
  },
  {
   "cell_type": "code",
   "execution_count": 8,
   "outputs": [],
   "source": [
    "nlp = spacy.load(\"pl_core_news_lg\")"
   ],
   "metadata": {
    "collapsed": false,
    "pycharm": {
     "name": "#%%\n"
    }
   }
  },
  {
   "cell_type": "markdown",
   "source": [
    "#### Czyszczenie danych z użyciem Spacy"
   ],
   "metadata": {
    "collapsed": false,
    "pycharm": {
     "name": "#%% md\n"
    }
   }
  },
  {
   "cell_type": "code",
   "execution_count": 9,
   "outputs": [],
   "source": [
    "retweet_token = 'RT'\n",
    "def clean_with_spacy(spacy_doc):\n",
    "    tokens_cl = [str(token.lemma_.lower()).replace(retweet_token.lower(), \"\") for token in spacy_doc\n",
    "                 if not any([token.is_punct, token.is_stop, token.like_num, token.is_currency, token.like_email, not(token.is_alpha)])]\n",
    "    return \" \".join(tokens_cl).strip()"
   ],
   "metadata": {
    "collapsed": false,
    "pycharm": {
     "name": "#%%\n"
    }
   }
  },
  {
   "cell_type": "code",
   "execution_count": 10,
   "outputs": [
    {
     "name": "stderr",
     "output_type": "stream",
     "text": [
      "10041it [00:23, 434.05it/s]\n"
     ]
    }
   ],
   "source": [
    "def spacy_pipeline(dataframe, text_col):\n",
    "    text_cleaned = []\n",
    "    for doc in tqdm(nlp.pipe(dataframe[text_col])):\n",
    "        text_cleaned.append(clean_with_spacy(doc))\n",
    "    return text_cleaned\n",
    "x_train_df[\"cleaned_text\"] = spacy_pipeline(x_train_df, \"text\")"
   ],
   "metadata": {
    "collapsed": false,
    "pycharm": {
     "name": "#%%\n"
    }
   }
  },
  {
   "cell_type": "code",
   "execution_count": 11,
   "outputs": [
    {
     "data": {
      "text/plain": "                                                                                                                            text  \\\n0                                                 Dla mnie faworytem do tytułu będzie Cracovia. Zobaczymy, czy typ się sprawdzi.   \n1                                             @anonymized_account @anonymized_account Brawo ty Daria kibic ma być na dobre i złe   \n2  @anonymized_account @anonymized_account Super, polski premier składa kwiaty na grobach kolaborantów. Ale doczekaliśmy czasów.   \n3                                                            @anonymized_account @anonymized_account Musi. Innej drogi nie mamy.   \n4                                                                                Odrzut natychmiastowy, kwaśna mina, mam problem   \n\n                                                         cleaned_text  \n0                       faworyt tytuł cracovia zobaczyć typ sprawdzić  \n1                                         brawo daria kibic dobry zły  \n2  supera polski premiera składać kwiat grób kolaborant doczekać czas  \n3                                                          inny droga  \n4                           odrzut natychmiastowy kwaśny mina problem  ",
      "text/html": "<div>\n<style scoped>\n    .dataframe tbody tr th:only-of-type {\n        vertical-align: middle;\n    }\n\n    .dataframe tbody tr th {\n        vertical-align: top;\n    }\n\n    .dataframe thead th {\n        text-align: right;\n    }\n</style>\n<table border=\"1\" class=\"dataframe\">\n  <thead>\n    <tr style=\"text-align: right;\">\n      <th></th>\n      <th>text</th>\n      <th>cleaned_text</th>\n    </tr>\n  </thead>\n  <tbody>\n    <tr>\n      <th>0</th>\n      <td>Dla mnie faworytem do tytułu będzie Cracovia. Zobaczymy, czy typ się sprawdzi.</td>\n      <td>faworyt tytuł cracovia zobaczyć typ sprawdzić</td>\n    </tr>\n    <tr>\n      <th>1</th>\n      <td>@anonymized_account @anonymized_account Brawo ty Daria kibic ma być na dobre i złe</td>\n      <td>brawo daria kibic dobry zły</td>\n    </tr>\n    <tr>\n      <th>2</th>\n      <td>@anonymized_account @anonymized_account Super, polski premier składa kwiaty na grobach kolaborantów. Ale doczekaliśmy czasów.</td>\n      <td>supera polski premiera składać kwiat grób kolaborant doczekać czas</td>\n    </tr>\n    <tr>\n      <th>3</th>\n      <td>@anonymized_account @anonymized_account Musi. Innej drogi nie mamy.</td>\n      <td>inny droga</td>\n    </tr>\n    <tr>\n      <th>4</th>\n      <td>Odrzut natychmiastowy, kwaśna mina, mam problem</td>\n      <td>odrzut natychmiastowy kwaśny mina problem</td>\n    </tr>\n  </tbody>\n</table>\n</div>"
     },
     "execution_count": 11,
     "metadata": {},
     "output_type": "execute_result"
    }
   ],
   "source": [
    "x_train_df.head()"
   ],
   "metadata": {
    "collapsed": false,
    "pycharm": {
     "name": "#%%\n"
    }
   }
  },
  {
   "cell_type": "markdown",
   "source": [
    "#### Modelowanie"
   ],
   "metadata": {
    "collapsed": false,
    "pycharm": {
     "name": "#%% md\n"
    }
   }
  },
  {
   "cell_type": "code",
   "execution_count": 12,
   "outputs": [],
   "source": [
    "from sklearn.linear_model import SGDClassifier\n",
    "from sklearn.feature_extraction.text import CountVectorizer, TfidfVectorizer\n",
    "from sklearn.model_selection import cross_val_score\n",
    "from sklearn import metrics\n",
    "from sklearn.pipeline import Pipeline\n",
    "from sklearn.metrics import classification_report, confusion_matrix\n",
    "from utils import plot_confusion_matrix"
   ],
   "metadata": {
    "collapsed": false,
    "pycharm": {
     "name": "#%%\n"
    }
   }
  },
  {
   "cell_type": "code",
   "execution_count": 13,
   "outputs": [],
   "source": [
    "def getScores(estimator, x, y):\n",
    "    yPred = estimator.predict(x)\n",
    "    return (metrics.accuracy_score(y, yPred),\n",
    "            metrics.f1_score(y, yPred, average='micro'),\n",
    "            metrics.f1_score(y, yPred, average='macro'))\n",
    "\n",
    "def my_scorer(estimator, x, y):\n",
    "    a, p, r = getScores(estimator, x, y)\n",
    "    print(\"Accuracy: {} | F1 micro: {} | F1 macro: {}\".format(a, p, r))\n",
    "    return a+p+r"
   ],
   "metadata": {
    "collapsed": false,
    "pycharm": {
     "name": "#%%\n"
    }
   }
  },
  {
   "cell_type": "code",
   "execution_count": 14,
   "outputs": [],
   "source": [
    "clf = SGDClassifier(loss='hinge', penalty='l2', learning_rate='optimal', alpha=1e-4, random_state=42)\n",
    "pipe = Pipeline([('tfidf', TfidfVectorizer()),\n",
    "                ('clf', clf),\n",
    "               ])"
   ],
   "metadata": {
    "collapsed": false,
    "pycharm": {
     "name": "#%%\n"
    }
   }
  },
  {
   "cell_type": "code",
   "execution_count": 15,
   "outputs": [
    {
     "name": "stdout",
     "output_type": "stream",
     "text": [
      "Accuracy: 0.909452736318408 | F1 micro: 0.909452736318408 | F1 macro: 0.3539899978256143\n",
      "Accuracy: 0.9183266932270916 | F1 micro: 0.9183266932270916 | F1 macro: 0.3850994272792075\n",
      "Accuracy: 0.9193227091633466 | F1 micro: 0.9193227091633466 | F1 macro: 0.38381518928603037\n",
      "Accuracy: 0.9123505976095617 | F1 micro: 0.9123505976095617 | F1 macro: 0.37125902992776055\n",
      "Accuracy: 0.9163346613545816 | F1 micro: 0.9163346613545816 | F1 macro: 0.36632008455620285\n",
      "Accuracy: 0.9123505976095617 | F1 micro: 0.9123505976095617 | F1 macro: 0.3852631578947368\n",
      "Accuracy: 0.9153386454183267 | F1 micro: 0.9153386454183267 | F1 macro: 0.38241829737054234\n",
      "Accuracy: 0.9123505976095617 | F1 micro: 0.9123505976095617 | F1 macro: 0.387597825979132\n",
      "Accuracy: 0.9183266932270916 | F1 micro: 0.9183266932270916 | F1 macro: 0.37527632344386275\n",
      "Accuracy: 0.9223107569721115 | F1 micro: 0.9223107569721115 | F1 macro: 0.3998572546852696\n"
     ]
    }
   ],
   "source": [
    "x_train = x_train_df[\"cleaned_text\"]\n",
    "scores = cross_val_score(pipe, x_train, np.ravel(y_train), scoring=my_scorer, cv=10)"
   ],
   "metadata": {
    "collapsed": false,
    "pycharm": {
     "name": "#%%\n"
    }
   }
  },
  {
   "cell_type": "code",
   "execution_count": 16,
   "outputs": [
    {
     "data": {
      "text/plain": "Pipeline(steps=[('tfidf', TfidfVectorizer()),\n                ('clf', SGDClassifier(random_state=42))])"
     },
     "execution_count": 16,
     "metadata": {},
     "output_type": "execute_result"
    }
   ],
   "source": [
    "pipe.fit(x_train, y_train.values.ravel())"
   ],
   "metadata": {
    "collapsed": false,
    "pycharm": {
     "name": "#%%\n"
    }
   }
  },
  {
   "cell_type": "markdown",
   "source": [
    "#### Walidacja na zbiorze testowym"
   ],
   "metadata": {
    "collapsed": false,
    "pycharm": {
     "name": "#%% md\n"
    }
   }
  },
  {
   "cell_type": "code",
   "execution_count": 17,
   "outputs": [
    {
     "name": "stderr",
     "output_type": "stream",
     "text": [
      "1000it [00:02, 454.12it/s]\n"
     ]
    }
   ],
   "source": [
    "x_test = spacy_pipeline(x_test_df, \"text\")"
   ],
   "metadata": {
    "collapsed": false,
    "pycharm": {
     "name": "#%%\n"
    }
   }
  },
  {
   "cell_type": "code",
   "execution_count": 18,
   "outputs": [],
   "source": [
    "y_pred = pipe.predict(x_test)"
   ],
   "metadata": {
    "collapsed": false,
    "pycharm": {
     "name": "#%%\n"
    }
   }
  },
  {
   "cell_type": "code",
   "execution_count": 19,
   "outputs": [
    {
     "name": "stdout",
     "output_type": "stream",
     "text": [
      "SGD Accuracy: 0.873\n",
      "SGD F1 micro: 0.8729999999999999\n",
      "SGD F1 macro: 0.3557344480648881\n"
     ]
    }
   ],
   "source": [
    "print(\"SGD Accuracy:\",metrics.accuracy_score(y_test, y_pred))\n",
    "print(\"SGD F1 micro:\",metrics.f1_score(y_test, y_pred, average='micro'))\n",
    "print(\"SGD F1 macro:\",metrics.f1_score(y_test, y_pred, average='macro'))"
   ],
   "metadata": {
    "collapsed": false,
    "pycharm": {
     "name": "#%%\n"
    }
   }
  },
  {
   "cell_type": "code",
   "execution_count": 20,
   "outputs": [
    {
     "name": "stdout",
     "output_type": "stream",
     "text": [
      "Dummy classifier Accuracy: 0.866\n",
      "Dummy classifier F1 micro: 0.866\n",
      "Dummy classifier F1 macro: 0.3093962129331904\n"
     ]
    }
   ],
   "source": [
    "from sklearn.dummy import DummyClassifier\n",
    "dummy_clf = DummyClassifier(strategy=\"most_frequent\")\n",
    "dummy_clf.fit(x_train, y_train)\n",
    "y_pred = dummy_clf.predict(x_test)\n",
    "print(\"Dummy classifier Accuracy:\",metrics.accuracy_score(y_test, y_pred))\n",
    "print(\"Dummy classifier F1 micro:\",metrics.f1_score(y_test, y_pred, average='micro'))\n",
    "print(\"Dummy classifier F1 macro:\",metrics.f1_score(y_test, y_pred, average='macro'))"
   ],
   "metadata": {
    "collapsed": false,
    "pycharm": {
     "name": "#%%\n"
    }
   }
  },
  {
   "cell_type": "code",
   "execution_count": 21,
   "outputs": [
    {
     "name": "stdout",
     "output_type": "stream",
     "text": [
      "                  precision    recall  f1-score   support\n",
      "\n",
      " 0 - non harmful       0.87      1.00      0.93       866\n",
      "1 - cyberbulying       0.00      0.00      0.00        25\n",
      " 2 - hate speech       0.00      0.00      0.00       109\n",
      "\n",
      "        accuracy                           0.87      1000\n",
      "       macro avg       0.29      0.33      0.31      1000\n",
      "    weighted avg       0.75      0.87      0.80      1000\n",
      "\n"
     ]
    },
    {
     "name": "stderr",
     "output_type": "stream",
     "text": [
      "C:\\Users\\piotr\\anaconda3\\envs\\tm_experiment\\lib\\site-packages\\sklearn\\metrics\\_classification.py:1318: UndefinedMetricWarning: Precision and F-score are ill-defined and being set to 0.0 in labels with no predicted samples. Use `zero_division` parameter to control this behavior.\n",
      "  _warn_prf(average, modifier, msg_start, len(result))\n",
      "C:\\Users\\piotr\\anaconda3\\envs\\tm_experiment\\lib\\site-packages\\sklearn\\metrics\\_classification.py:1318: UndefinedMetricWarning: Precision and F-score are ill-defined and being set to 0.0 in labels with no predicted samples. Use `zero_division` parameter to control this behavior.\n",
      "  _warn_prf(average, modifier, msg_start, len(result))\n",
      "C:\\Users\\piotr\\anaconda3\\envs\\tm_experiment\\lib\\site-packages\\sklearn\\metrics\\_classification.py:1318: UndefinedMetricWarning: Precision and F-score are ill-defined and being set to 0.0 in labels with no predicted samples. Use `zero_division` parameter to control this behavior.\n",
      "  _warn_prf(average, modifier, msg_start, len(result))\n"
     ]
    }
   ],
   "source": [
    "print(classification_report(y_test, y_pred, target_names=['0 - non harmful', '1 - cyberbulying', '2 - hate speech']))"
   ],
   "metadata": {
    "collapsed": false,
    "pycharm": {
     "name": "#%%\n"
    }
   }
  },
  {
   "cell_type": "code",
   "execution_count": 22,
   "outputs": [
    {
     "name": "stdout",
     "output_type": "stream",
     "text": [
      "                  precision    recall  f1-score   support\n",
      "\n",
      " 0 - non harmful      0.866     1.000     0.928       866\n",
      "1 - cyberbulying      0.000     0.000     0.000        25\n",
      " 2 - hate speech      0.000     0.000     0.000       109\n",
      "\n",
      "        accuracy                          0.866      1000\n",
      "       macro avg      0.289     0.333     0.309      1000\n",
      "    weighted avg      0.750     0.866     0.804      1000\n",
      "\n"
     ]
    },
    {
     "name": "stderr",
     "output_type": "stream",
     "text": [
      "C:\\Users\\piotr\\anaconda3\\envs\\tm_experiment\\lib\\site-packages\\sklearn\\metrics\\_classification.py:1318: UndefinedMetricWarning: Precision and F-score are ill-defined and being set to 0.0 in labels with no predicted samples. Use `zero_division` parameter to control this behavior.\n",
      "  _warn_prf(average, modifier, msg_start, len(result))\n",
      "C:\\Users\\piotr\\anaconda3\\envs\\tm_experiment\\lib\\site-packages\\sklearn\\metrics\\_classification.py:1318: UndefinedMetricWarning: Precision and F-score are ill-defined and being set to 0.0 in labels with no predicted samples. Use `zero_division` parameter to control this behavior.\n",
      "  _warn_prf(average, modifier, msg_start, len(result))\n",
      "C:\\Users\\piotr\\anaconda3\\envs\\tm_experiment\\lib\\site-packages\\sklearn\\metrics\\_classification.py:1318: UndefinedMetricWarning: Precision and F-score are ill-defined and being set to 0.0 in labels with no predicted samples. Use `zero_division` parameter to control this behavior.\n",
      "  _warn_prf(average, modifier, msg_start, len(result))\n"
     ]
    }
   ],
   "source": [
    "print(metrics.classification_report(y_test, y_pred,digits=3, target_names=['0 - non harmful', '1 - cyberbulying', '2 - hate speech']))"
   ],
   "metadata": {
    "collapsed": false,
    "pycharm": {
     "name": "#%%\n"
    }
   }
  },
  {
   "cell_type": "code",
   "execution_count": 23,
   "outputs": [
    {
     "data": {
      "text/plain": "array([[866,   0,   0],\n       [ 25,   0,   0],\n       [109,   0,   0]], dtype=int64)"
     },
     "execution_count": 23,
     "metadata": {},
     "output_type": "execute_result"
    }
   ],
   "source": [
    "confusion_matrix(y_test, y_pred)"
   ],
   "metadata": {
    "collapsed": false,
    "pycharm": {
     "name": "#%%\n"
    }
   }
  },
  {
   "cell_type": "code",
   "execution_count": 24,
   "outputs": [
    {
     "data": {
      "text/plain": "<Figure size 576x432 with 2 Axes>",
      "image/png": "[encoded data removed]"
     },
     "metadata": {
      "needs_background": "light"
     },
     "output_type": "display_data"
    }
   ],
   "source": [
    "plot_confusion_matrix.plot_confusion_matrix(confusion_matrix(y_test, y_pred), target_names=['0 - non harmful', '1 - cyberbulying', '2 - hate speech'])"
   ],
   "metadata": {
    "collapsed": false,
    "pycharm": {
     "name": "#%%\n"
    }
   }
  },
  {
   "cell_type": "markdown",
   "source": [
    "#### Model alternatywny: SVM + TfidfVectorizer\n",
    "porównywalny z modelem z zajęć"
   ],
   "metadata": {
    "collapsed": false,
    "pycharm": {
     "name": "#%% md\n"
    }
   }
  },
  {
   "cell_type": "code",
   "execution_count": 25,
   "outputs": [],
   "source": [
    "from sklearn.pipeline import Pipeline\n",
    "from sklearn.feature_extraction.text import TfidfTransformer\n",
    "from sklearn.svm import SVC"
   ],
   "metadata": {
    "collapsed": false,
    "pycharm": {
     "name": "#%%\n"
    }
   }
  },
  {
   "cell_type": "code",
   "execution_count": 26,
   "outputs": [
    {
     "name": "stderr",
     "output_type": "stream",
     "text": [
      "C:\\Users\\piotr\\anaconda3\\envs\\tm_experiment\\lib\\site-packages\\sklearn\\utils\\validation.py:993: DataConversionWarning: A column-vector y was passed when a 1d array was expected. Please change the shape of y to (n_samples, ), for example using ravel().\n",
      "  y = column_or_1d(y, warn=True)\n"
     ]
    },
    {
     "name": "stdout",
     "output_type": "stream",
     "text": [
      "              precision    recall  f1-score   support\n",
      "\n",
      "           0      0.869     1.000     0.930       866\n",
      "           1      0.000     0.000     0.000        25\n",
      "           2      1.000     0.028     0.054       109\n",
      "\n",
      "    accuracy                          0.869      1000\n",
      "   macro avg      0.623     0.343     0.328      1000\n",
      "weighted avg      0.861     0.869     0.811      1000\n",
      "\n"
     ]
    },
    {
     "name": "stderr",
     "output_type": "stream",
     "text": [
      "C:\\Users\\piotr\\anaconda3\\envs\\tm_experiment\\lib\\site-packages\\sklearn\\metrics\\_classification.py:1318: UndefinedMetricWarning: Precision and F-score are ill-defined and being set to 0.0 in labels with no predicted samples. Use `zero_division` parameter to control this behavior.\n",
      "  _warn_prf(average, modifier, msg_start, len(result))\n",
      "C:\\Users\\piotr\\anaconda3\\envs\\tm_experiment\\lib\\site-packages\\sklearn\\metrics\\_classification.py:1318: UndefinedMetricWarning: Precision and F-score are ill-defined and being set to 0.0 in labels with no predicted samples. Use `zero_division` parameter to control this behavior.\n",
      "  _warn_prf(average, modifier, msg_start, len(result))\n",
      "C:\\Users\\piotr\\anaconda3\\envs\\tm_experiment\\lib\\site-packages\\sklearn\\metrics\\_classification.py:1318: UndefinedMetricWarning: Precision and F-score are ill-defined and being set to 0.0 in labels with no predicted samples. Use `zero_division` parameter to control this behavior.\n",
      "  _warn_prf(average, modifier, msg_start, len(result))\n"
     ]
    }
   ],
   "source": [
    "text_clf = Pipeline([ ('vect', TfidfVectorizer()),\n",
    "                      ('tfidf', TfidfTransformer()),\n",
    "                      ('clf', SVC(decision_function_shape='ovr')),\n",
    " ])\n",
    "\n",
    "text_clf.fit(x_train, y_train)\n",
    "y_pred = text_clf.predict(x_test)\n",
    "score = text_clf.score(x_test, y_test)\n",
    "\n",
    "print(metrics.classification_report(y_test, y_pred,digits=3))"
   ],
   "metadata": {
    "collapsed": false,
    "pycharm": {
     "name": "#%%\n"
    }
   }
  },
  {
   "cell_type": "code",
   "execution_count": 27,
   "outputs": [
    {
     "data": {
      "text/plain": "array([[866,   0,   0],\n       [ 25,   0,   0],\n       [106,   0,   3]], dtype=int64)"
     },
     "execution_count": 27,
     "metadata": {},
     "output_type": "execute_result"
    }
   ],
   "source": [
    "confusion_matrix(y_test, y_pred)"
   ],
   "metadata": {
    "collapsed": false,
    "pycharm": {
     "name": "#%%\n"
    }
   }
  },
  {
   "cell_type": "code",
   "execution_count": 27,
   "outputs": [],
   "source": [],
   "metadata": {
    "collapsed": false,
    "pycharm": {
     "name": "#%%\n"
    }
   }
  },
  {
   "cell_type": "markdown",
   "source": [
    "#### Model alternatywny: Adaptive Boost + TFIDF\n",
    "source: https://scikit-learn.org/stable/auto_examples/classification/plot_classifier_comparison.html\n",
    "nieco lepszy od modelu z zajęć"
   ],
   "metadata": {
    "collapsed": false,
    "pycharm": {
     "name": "#%% md\n"
    }
   }
  },
  {
   "cell_type": "code",
   "execution_count": 28,
   "outputs": [
    {
     "name": "stderr",
     "output_type": "stream",
     "text": [
      "C:\\Users\\piotr\\anaconda3\\envs\\tm_experiment\\lib\\site-packages\\sklearn\\utils\\validation.py:993: DataConversionWarning: A column-vector y was passed when a 1d array was expected. Please change the shape of y to (n_samples, ), for example using ravel().\n",
      "  y = column_or_1d(y, warn=True)\n"
     ]
    },
    {
     "name": "stdout",
     "output_type": "stream",
     "text": [
      "              precision    recall  f1-score   support\n",
      "\n",
      "           0      0.876     0.993     0.931       866\n",
      "           1      0.000     0.000     0.000        25\n",
      "           2      0.786     0.101     0.179       109\n",
      "\n",
      "    accuracy                          0.871      1000\n",
      "   macro avg      0.554     0.365     0.370      1000\n",
      "weighted avg      0.844     0.871     0.826      1000\n",
      "\n"
     ]
    }
   ],
   "source": [
    "from sklearn.ensemble import AdaBoostClassifier\n",
    "\n",
    "text_clf = Pipeline([('vect', CountVectorizer()),\n",
    "                      ('tfidf', TfidfTransformer()),\n",
    "                      ('clf', AdaBoostClassifier()),\n",
    " ])\n",
    "\n",
    "text_clf.fit(x_train, y_train)\n",
    "y_pred = text_clf.predict(x_test)\n",
    "score = text_clf.score(x_test, y_test)\n",
    "\n",
    "print(metrics.classification_report(y_test, y_pred,digits=3))"
   ],
   "metadata": {
    "collapsed": false,
    "pycharm": {
     "name": "#%%\n"
    }
   }
  },
  {
   "cell_type": "code",
   "execution_count": 29,
   "outputs": [
    {
     "data": {
      "text/plain": "array([[860,   3,   3],\n       [ 25,   0,   0],\n       [ 97,   1,  11]], dtype=int64)"
     },
     "execution_count": 29,
     "metadata": {},
     "output_type": "execute_result"
    }
   ],
   "source": [
    "confusion_matrix(y_test, y_pred)"
   ],
   "metadata": {
    "collapsed": false,
    "pycharm": {
     "name": "#%%\n"
    }
   }
  },
  {
   "cell_type": "code",
   "execution_count": 30,
   "outputs": [
    {
     "data": {
      "text/plain": "<Figure size 576x432 with 2 Axes>",
      "image/png": "[encoded data removed]"
     },
     "metadata": {
      "needs_background": "light"
     },
     "output_type": "display_data"
    }
   ],
   "source": [
    "plot_confusion_matrix.plot_confusion_matrix(confusion_matrix(y_test, y_pred), target_names=['0 - non harmful', '1 - cyberbulying', '2 - hate speech'])"
   ],
   "metadata": {
    "collapsed": false,
    "pycharm": {
     "name": "#%%\n"
    }
   }
  },
  {
   "cell_type": "markdown",
   "source": [
    "Uwagi:\n",
    "Niestety model jest za słaby by go dalej użyć..."
   ],
   "metadata": {
    "collapsed": false,
    "pycharm": {
     "name": "#%% md\n"
    }
   }
  }
 ],
 "metadata": {
  "kernelspec": {
   "display_name": "Python 3",
   "language": "python",
   "name": "python3"
  },
  "language_info": {
   "codemirror_mode": {
    "name": "ipython",
    "version": 2
   },
   "file_extension": ".py",
   "mimetype": "text/x-python",
   "name": "python",
   "nbconvert_exporter": "python",
   "pygments_lexer": "ipython2",
   "version": "2.7.6"
  }
 },
 "nbformat": 4,
 "nbformat_minor": 0
}