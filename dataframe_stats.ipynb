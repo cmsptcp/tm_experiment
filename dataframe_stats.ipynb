{
 "cells": [
  {
   "cell_type": "markdown",
   "metadata": {
    "collapsed": true,
    "pycharm": {
     "name": "#%% md\n"
    }
   },
   "source": [
    "## Statystyki zbiorcze danych\n",
    "source: course materials (Text Mining @ PW, 2021)"
   ]
  },
  {
   "cell_type": "markdown",
   "metadata": {},
   "source": [
    "Instalacja brakujących pakietów (opcjonalnie)"
   ]
  },
  {
   "cell_type": "code",
   "execution_count": 1,
   "metadata": {
    "pycharm": {
     "name": "#%%\n"
    }
   },
   "outputs": [
    {
     "name": "stdout",
     "output_type": "stream",
     "text": [
      "Collecting wordcloud\n",
      "  Using cached wordcloud-1.8.1.tar.gz (220 kB)\n",
      "Requirement already satisfied: numpy>=1.6.1 in c:\\users\\piotr\\anaconda3\\envs\\tm_experiment\\lib\\site-packages (from wordcloud) (1.22.1)\n",
      "Requirement already satisfied: pillow in c:\\users\\piotr\\anaconda3\\envs\\tm_experiment\\lib\\site-packages (from wordcloud) (9.0.0)\n",
      "Requirement already satisfied: matplotlib in c:\\users\\piotr\\anaconda3\\envs\\tm_experiment\\lib\\site-packages (from wordcloud) (3.5.1)\n",
      "Requirement already satisfied: cycler>=0.10 in c:\\users\\piotr\\anaconda3\\envs\\tm_experiment\\lib\\site-packages (from matplotlib->wordcloud) (0.11.0)\n",
      "Requirement already satisfied: pyparsing>=2.2.1 in c:\\users\\piotr\\anaconda3\\envs\\tm_experiment\\lib\\site-packages (from matplotlib->wordcloud) (3.0.4)\n",
      "Requirement already satisfied: kiwisolver>=1.0.1 in c:\\users\\piotr\\anaconda3\\envs\\tm_experiment\\lib\\site-packages (from matplotlib->wordcloud) (1.3.2)\n",
      "Requirement already satisfied: packaging>=20.0 in c:\\users\\piotr\\anaconda3\\envs\\tm_experiment\\lib\\site-packages (from matplotlib->wordcloud) (21.3)\n",
      "Requirement already satisfied: python-dateutil>=2.7 in c:\\users\\piotr\\anaconda3\\envs\\tm_experiment\\lib\\site-packages (from matplotlib->wordcloud) (2.8.2)\n",
      "Requirement already satisfied: fonttools>=4.22.0 in c:\\users\\piotr\\anaconda3\\envs\\tm_experiment\\lib\\site-packages (from matplotlib->wordcloud) (4.28.5)\n",
      "Requirement already satisfied: six>=1.5 in c:\\users\\piotr\\anaconda3\\envs\\tm_experiment\\lib\\site-packages (from python-dateutil>=2.7->matplotlib->wordcloud) (1.16.0)\n",
      "Building wheels for collected packages: wordcloud\n",
      "  Building wheel for wordcloud (setup.py): started\n",
      "  Building wheel for wordcloud (setup.py): finished with status 'error'\n",
      "  Running setup.py clean for wordcloud\n",
      "Failed to build wordcloud\n",
      "Installing collected packages: wordcloud\n",
      "    Running setup.py install for wordcloud: started\n",
      "    Running setup.py install for wordcloud: finished with status 'error'\n"
     ]
    },
    {
     "name": "stderr",
     "output_type": "stream",
     "text": [
      "  ERROR: Command errored out with exit status 1:\n",
      "   command: 'C:\\Users\\piotr\\anaconda3\\envs\\tm_experiment\\python.exe' -u -c 'import io, os, sys, setuptools, tokenize; sys.argv[0] = '\"'\"'C:\\\\Users\\\\piotr\\\\AppData\\\\Local\\\\Temp\\\\pip-install-vdhkwsse\\\\wordcloud_646b8c3107ad4092966293c8e37eee6a\\\\setup.py'\"'\"'; __file__='\"'\"'C:\\\\Users\\\\piotr\\\\AppData\\\\Local\\\\Temp\\\\pip-install-vdhkwsse\\\\wordcloud_646b8c3107ad4092966293c8e37eee6a\\\\setup.py'\"'\"';f = getattr(tokenize, '\"'\"'open'\"'\"', open)(__file__) if os.path.exists(__file__) else io.StringIO('\"'\"'from setuptools import setup; setup()'\"'\"');code = f.read().replace('\"'\"'\\r\\n'\"'\"', '\"'\"'\\n'\"'\"');f.close();exec(compile(code, __file__, '\"'\"'exec'\"'\"'))' bdist_wheel -d 'C:\\Users\\piotr\\AppData\\Local\\Temp\\pip-wheel-qtsqjc_4'\n",
      "       cwd: C:\\Users\\piotr\\AppData\\Local\\Temp\\pip-install-vdhkwsse\\wordcloud_646b8c3107ad4092966293c8e37eee6a\\\n",
      "  Complete output (20 lines):\n",
      "  running bdist_wheel\n",
      "  running build\n",
      "  running build_py\n",
      "  creating build\n",
      "  creating build\\lib.win-amd64-3.9\n",
      "  creating build\\lib.win-amd64-3.9\\wordcloud\n",
      "  copying wordcloud\\color_from_image.py -> build\\lib.win-amd64-3.9\\wordcloud\n",
      "  copying wordcloud\\tokenization.py -> build\\lib.win-amd64-3.9\\wordcloud\n",
      "  copying wordcloud\\wordcloud.py -> build\\lib.win-amd64-3.9\\wordcloud\n",
      "  copying wordcloud\\wordcloud_cli.py -> build\\lib.win-amd64-3.9\\wordcloud\n",
      "  copying wordcloud\\_version.py -> build\\lib.win-amd64-3.9\\wordcloud\n",
      "  copying wordcloud\\__init__.py -> build\\lib.win-amd64-3.9\\wordcloud\n",
      "  copying wordcloud\\__main__.py -> build\\lib.win-amd64-3.9\\wordcloud\n",
      "  copying wordcloud\\stopwords -> build\\lib.win-amd64-3.9\\wordcloud\n",
      "  copying wordcloud\\DroidSansMono.ttf -> build\\lib.win-amd64-3.9\\wordcloud\n",
      "  UPDATING build\\lib.win-amd64-3.9\\wordcloud/_version.py\n",
      "  set build\\lib.win-amd64-3.9\\wordcloud/_version.py to '1.8.1'\n",
      "  running build_ext\n",
      "  building 'wordcloud.query_integral_image' extension\n",
      "  error: Microsoft Visual C++ 14.0 or greater is required. Get it with \"Microsoft C++ Build Tools\": https://visualstudio.microsoft.com/visual-cpp-build-tools/\n",
      "  ----------------------------------------\n",
      "  ERROR: Failed building wheel for wordcloud\n",
      "    ERROR: Command errored out with exit status 1:\n",
      "     command: 'C:\\Users\\piotr\\anaconda3\\envs\\tm_experiment\\python.exe' -u -c 'import io, os, sys, setuptools, tokenize; sys.argv[0] = '\"'\"'C:\\\\Users\\\\piotr\\\\AppData\\\\Local\\\\Temp\\\\pip-install-vdhkwsse\\\\wordcloud_646b8c3107ad4092966293c8e37eee6a\\\\setup.py'\"'\"'; __file__='\"'\"'C:\\\\Users\\\\piotr\\\\AppData\\\\Local\\\\Temp\\\\pip-install-vdhkwsse\\\\wordcloud_646b8c3107ad4092966293c8e37eee6a\\\\setup.py'\"'\"';f = getattr(tokenize, '\"'\"'open'\"'\"', open)(__file__) if os.path.exists(__file__) else io.StringIO('\"'\"'from setuptools import setup; setup()'\"'\"');code = f.read().replace('\"'\"'\\r\\n'\"'\"', '\"'\"'\\n'\"'\"');f.close();exec(compile(code, __file__, '\"'\"'exec'\"'\"'))' install --record 'C:\\Users\\piotr\\AppData\\Local\\Temp\\pip-record-vlv7aum9\\install-record.txt' --single-version-externally-managed --compile --install-headers 'C:\\Users\\piotr\\anaconda3\\envs\\tm_experiment\\Include\\wordcloud'\n",
      "         cwd: C:\\Users\\piotr\\AppData\\Local\\Temp\\pip-install-vdhkwsse\\wordcloud_646b8c3107ad4092966293c8e37eee6a\\\n",
      "    Complete output (20 lines):\n",
      "    running install\n",
      "    running build\n",
      "    running build_py\n",
      "    creating build\n",
      "    creating build\\lib.win-amd64-3.9\n",
      "    creating build\\lib.win-amd64-3.9\\wordcloud\n",
      "    copying wordcloud\\color_from_image.py -> build\\lib.win-amd64-3.9\\wordcloud\n",
      "    copying wordcloud\\tokenization.py -> build\\lib.win-amd64-3.9\\wordcloud\n",
      "    copying wordcloud\\wordcloud.py -> build\\lib.win-amd64-3.9\\wordcloud\n",
      "    copying wordcloud\\wordcloud_cli.py -> build\\lib.win-amd64-3.9\\wordcloud\n",
      "    copying wordcloud\\_version.py -> build\\lib.win-amd64-3.9\\wordcloud\n",
      "    copying wordcloud\\__init__.py -> build\\lib.win-amd64-3.9\\wordcloud\n",
      "    copying wordcloud\\__main__.py -> build\\lib.win-amd64-3.9\\wordcloud\n",
      "    copying wordcloud\\stopwords -> build\\lib.win-amd64-3.9\\wordcloud\n",
      "    copying wordcloud\\DroidSansMono.ttf -> build\\lib.win-amd64-3.9\\wordcloud\n",
      "    UPDATING build\\lib.win-amd64-3.9\\wordcloud/_version.py\n",
      "    set build\\lib.win-amd64-3.9\\wordcloud/_version.py to '1.8.1'\n",
      "    running build_ext\n",
      "    building 'wordcloud.query_integral_image' extension\n",
      "    error: Microsoft Visual C++ 14.0 or greater is required. Get it with \"Microsoft C++ Build Tools\": https://visualstudio.microsoft.com/visual-cpp-build-tools/\n",
      "    ----------------------------------------\n",
      "ERROR: Command errored out with exit status 1: 'C:\\Users\\piotr\\anaconda3\\envs\\tm_experiment\\python.exe' -u -c 'import io, os, sys, setuptools, tokenize; sys.argv[0] = '\"'\"'C:\\\\Users\\\\piotr\\\\AppData\\\\Local\\\\Temp\\\\pip-install-vdhkwsse\\\\wordcloud_646b8c3107ad4092966293c8e37eee6a\\\\setup.py'\"'\"'; __file__='\"'\"'C:\\\\Users\\\\piotr\\\\AppData\\\\Local\\\\Temp\\\\pip-install-vdhkwsse\\\\wordcloud_646b8c3107ad4092966293c8e37eee6a\\\\setup.py'\"'\"';f = getattr(tokenize, '\"'\"'open'\"'\"', open)(__file__) if os.path.exists(__file__) else io.StringIO('\"'\"'from setuptools import setup; setup()'\"'\"');code = f.read().replace('\"'\"'\\r\\n'\"'\"', '\"'\"'\\n'\"'\"');f.close();exec(compile(code, __file__, '\"'\"'exec'\"'\"'))' install --record 'C:\\Users\\piotr\\AppData\\Local\\Temp\\pip-record-vlv7aum9\\install-record.txt' --single-version-externally-managed --compile --install-headers 'C:\\Users\\piotr\\anaconda3\\envs\\tm_experiment\\Include\\wordcloud' Check the logs for full command output.\n"
     ]
    }
   ],
   "source": [
    "# ! python -m pip install -U pip\n",
    "# ! python -m pip install -U matplotlib\n",
    "# ! pip install pandas\n",
    "# ! pip install seaborn\n",
    "# ! pip install stop-words\n",
    "# ! pip install wordcloud"
   ]
  },
  {
   "cell_type": "code",
   "execution_count": 3,
   "metadata": {
    "pycharm": {
     "name": "#%%\n"
    }
   },
   "outputs": [
    {
     "ename": "ModuleNotFoundError",
     "evalue": "No module named 'wordcloud'",
     "output_type": "error",
     "traceback": [
      "\u001B[1;31m---------------------------------------------------------------------------\u001B[0m",
      "\u001B[1;31mModuleNotFoundError\u001B[0m                       Traceback (most recent call last)",
      "\u001B[1;32m~\\AppData\\Local\\Temp/ipykernel_24068/394134446.py\u001B[0m in \u001B[0;36m<module>\u001B[1;34m\u001B[0m\n\u001B[0;32m     14\u001B[0m \u001B[1;32mfrom\u001B[0m \u001B[0mtqdm\u001B[0m \u001B[1;32mimport\u001B[0m \u001B[0mtqdm\u001B[0m\u001B[1;33m\u001B[0m\u001B[1;33m\u001B[0m\u001B[0m\n\u001B[0;32m     15\u001B[0m \u001B[1;32mfrom\u001B[0m \u001B[0mpprint\u001B[0m \u001B[1;32mimport\u001B[0m \u001B[0mpprint\u001B[0m\u001B[1;33m\u001B[0m\u001B[1;33m\u001B[0m\u001B[0m\n\u001B[1;32m---> 16\u001B[1;33m \u001B[1;32mfrom\u001B[0m \u001B[0mwordcloud\u001B[0m \u001B[1;32mimport\u001B[0m \u001B[0mWordCloud\u001B[0m\u001B[1;33m\u001B[0m\u001B[1;33m\u001B[0m\u001B[0m\n\u001B[0m\u001B[0;32m     17\u001B[0m \u001B[0mget_ipython\u001B[0m\u001B[1;33m(\u001B[0m\u001B[1;33m)\u001B[0m\u001B[1;33m.\u001B[0m\u001B[0mrun_line_magic\u001B[0m\u001B[1;33m(\u001B[0m\u001B[1;34m'matplotlib'\u001B[0m\u001B[1;33m,\u001B[0m \u001B[1;34m'inline'\u001B[0m\u001B[1;33m)\u001B[0m\u001B[1;33m\u001B[0m\u001B[1;33m\u001B[0m\u001B[0m\n",
      "\u001B[1;31mModuleNotFoundError\u001B[0m: No module named 'wordcloud'"
     ]
    }
   ],
   "source": [
    "import pandas as pd\n",
    "from tqdm import tqdm\n",
    "import numpy as np\n",
    "from pathlib import Path\n",
    "from datetime import datetime, timezone\n",
    "from common.pl_helper import PolishLocaleHelper\n",
    "\n",
    "import nltk\n",
    "from nltk.corpus import stopwords\n",
    "import re #regular expressions\n",
    "import seaborn as sns\n",
    "import matplotlib.pyplot as plt\n",
    "from collections import  Counter\n",
    "from tqdm import tqdm\n",
    "from pprint import pprint\n",
    "# from wordcloud import WordCloud\n",
    "%matplotlib inline"
   ]
  },
  {
   "cell_type": "markdown",
   "metadata": {
    "pycharm": {
     "name": "#%% md\n"
    }
   },
   "source": [
    "Ustawienia:"
   ]
  },
  {
   "cell_type": "code",
   "execution_count": 4,
   "metadata": {
    "pycharm": {
     "name": "#%%\n"
    }
   },
   "outputs": [],
   "source": [
    "data_dir = Path('./data')\n",
    "result_file_path = Path('./data/big')\n",
    "result_file_name = 'dfnlp2400'\n",
    "portals = ['bankier', 'naszdziennik', 'niebezpiecznik', 'onet', 'pcworld', 'plotek', 'pr24', 'tvn24']"
   ]
  },
  {
   "cell_type": "markdown",
   "metadata": {},
   "source": [
    "Ładowanie plików z dysku"
   ]
  },
  {
   "cell_type": "code",
   "execution_count": 5,
   "metadata": {
    "pycharm": {
     "name": "#%%\n"
    }
   },
   "outputs": [
    {
     "name": "stdout",
     "output_type": "stream",
     "text": [
      "List of files available in data directory:\n",
      "  bankier_1642648022.parquet\n",
      "  naszdziennik_1642648304.parquet\n",
      "  niebezpiecznik_1642648113.parquet\n",
      "  onet_1642648165.parquet\n",
      "  pcworld_1642648035.parquet\n",
      "  plotek_1642648090.parquet\n",
      "  pr24_1642648154.parquet\n",
      "  tvn24_1642648344.parquet\n"
     ]
    }
   ],
   "source": [
    "print(f'List of files available in {data_dir} directory:')\n",
    "for parquet_file in data_dir.glob('*.parquet'):\n",
    "    print(f'  {parquet_file.name}')"
   ]
  },
  {
   "cell_type": "code",
   "execution_count": 6,
   "metadata": {
    "pycharm": {
     "name": "#%%\n"
    }
   },
   "outputs": [
    {
     "data": {
      "text/html": [
       "<div>\n",
       "<style scoped>\n",
       "    .dataframe tbody tr th:only-of-type {\n",
       "        vertical-align: middle;\n",
       "    }\n",
       "\n",
       "    .dataframe tbody tr th {\n",
       "        vertical-align: top;\n",
       "    }\n",
       "\n",
       "    .dataframe thead th {\n",
       "        text-align: right;\n",
       "    }\n",
       "</style>\n",
       "<table border=\"1\" class=\"dataframe\">\n",
       "  <thead>\n",
       "    <tr style=\"text-align: right;\">\n",
       "      <th></th>\n",
       "      <th>title</th>\n",
       "      <th>title_int</th>\n",
       "      <th>lead_text</th>\n",
       "      <th>lead_text_int</th>\n",
       "      <th>link</th>\n",
       "      <th>text</th>\n",
       "      <th>when_published</th>\n",
       "      <th>author</th>\n",
       "      <th>source</th>\n",
       "      <th>portal</th>\n",
       "    </tr>\n",
       "  </thead>\n",
       "  <tbody>\n",
       "    <tr>\n",
       "      <th>0</th>\n",
       "      <td>Spadki na Wall Street koniec sesji. Nasdaq znó...</td>\n",
       "      <td>Spadki na Wall Street koniec sesji. Nasdaq znó...</td>\n",
       "      <td>Środowa sesja na Wall Street zakończyła się sp...</td>\n",
       "      <td>Środowa sesja na Wall Street zakończyła się sp...</td>\n",
       "      <td>https://www.bankier.pl/wiadomosc/Wall-Street-w...</td>\n",
       "      <td>Dow Jones Industrial na zamknięciu spadł o 339...</td>\n",
       "      <td>2022-01-19 22:12:00</td>\n",
       "      <td>kkr/ pr/</td>\n",
       "      <td>PAP Biznes</td>\n",
       "      <td>bankier</td>\n",
       "    </tr>\n",
       "    <tr>\n",
       "      <th>1</th>\n",
       "      <td>Specjaliści od cyberbezpieczeństwa w administr...</td>\n",
       "      <td>Specjaliści od cyberbezpieczeństwa w administr...</td>\n",
       "      <td>Rada Ministrów przyjęła w środę rozporządzenie...</td>\n",
       "      <td>Rada Ministrów przyjęła w środę rozporządzenie...</td>\n",
       "      <td>https://www.bankier.pl/wiadomosc/Specjalisci-o...</td>\n",
       "      <td>Jak wyjaśniono, rozporządzenie określa zasady ...</td>\n",
       "      <td>2022-01-19 20:18:00</td>\n",
       "      <td>pif/ mk/</td>\n",
       "      <td>PAP</td>\n",
       "      <td>bankier</td>\n",
       "    </tr>\n",
       "    <tr>\n",
       "      <th>2</th>\n",
       "      <td>Mark Brzezinski oficjalnie zaprzysiężony na am...</td>\n",
       "      <td>Mark Brzezinski oficjalnie zaprzysiężony na am...</td>\n",
       "      <td>Wiceprezydent USA Kamala Harris oficjalnie zap...</td>\n",
       "      <td>Wiceprezydent USA Kamala Harris oficjalnie zap...</td>\n",
       "      <td>https://www.bankier.pl/wiadomosc/Mark-Brzezins...</td>\n",
       "      <td>Podczas ceremonii w budynku Eisenhowera mieszc...</td>\n",
       "      <td>2022-01-19 20:17:00</td>\n",
       "      <td>osk/ tebe/</td>\n",
       "      <td>PAP</td>\n",
       "      <td>bankier</td>\n",
       "    </tr>\n",
       "    <tr>\n",
       "      <th>3</th>\n",
       "      <td>Portugalia wszczyna śledztwo w sprawie przyzna...</td>\n",
       "      <td>Portugalia wszczyna śledztwo w sprawie przyzna...</td>\n",
       "      <td>Prokuratura generalna Portugalii wszczęła w śr...</td>\n",
       "      <td>Prokuratura generalna Portugalii wszczęła w śr...</td>\n",
       "      <td>https://www.bankier.pl/wiadomosc/Portugalia-ws...</td>\n",
       "      <td>Prokuratura generalna wyjaśniła, że przedmiote...</td>\n",
       "      <td>2022-01-19 20:11:00</td>\n",
       "      <td>zat/ mal/</td>\n",
       "      <td>PAP</td>\n",
       "      <td>bankier</td>\n",
       "    </tr>\n",
       "    <tr>\n",
       "      <th>4</th>\n",
       "      <td>Szef MSZ Zbigniew Rau zakażony koronawirusem</td>\n",
       "      <td>Szef MSZ Zbigniew Rau zakażony koronawirusem</td>\n",
       "      <td>Minister spraw zagranicznych Zbigniew Rau uzys...</td>\n",
       "      <td>Minister spraw zagranicznych Zbigniew Rau uzys...</td>\n",
       "      <td>https://www.bankier.pl/wiadomosc/Szef-MSZ-Zbig...</td>\n",
       "      <td>\"Z uwagi na pozytywny wynik testu na SARS-CoV-...</td>\n",
       "      <td>2022-01-19 20:05:00</td>\n",
       "      <td>wni/ mok/</td>\n",
       "      <td>PAP</td>\n",
       "      <td>bankier</td>\n",
       "    </tr>\n",
       "    <tr>\n",
       "      <th>...</th>\n",
       "      <td>...</td>\n",
       "      <td>...</td>\n",
       "      <td>...</td>\n",
       "      <td>...</td>\n",
       "      <td>...</td>\n",
       "      <td>...</td>\n",
       "      <td>...</td>\n",
       "      <td>...</td>\n",
       "      <td>...</td>\n",
       "      <td>...</td>\n",
       "    </tr>\n",
       "    <tr>\n",
       "      <th>2395</th>\n",
       "      <td>Możliwe osiągnięcie stanów ostrzegawczych. Ost...</td>\n",
       "      <td>Możliwe osiągnięcie stanów ostrzegawczych. Ost...</td>\n",
       "      <td>Instytut Meteorologii i Gospodarki Wodnej wyda...</td>\n",
       "      <td>Poziom wód w rejonie Żuław i Zalewu Wiślanego ...</td>\n",
       "      <td>https://tvn24.pl/tvnmeteo/prognoza/imgw-alerty...</td>\n",
       "      <td>\"W związku z prognozowanym silnym, sztormowym ...</td>\n",
       "      <td>2022-01-15 06:55:00</td>\n",
       "      <td>ps</td>\n",
       "      <td>PAP, IMGW</td>\n",
       "      <td>tvn24</td>\n",
       "    </tr>\n",
       "    <tr>\n",
       "      <th>2396</th>\n",
       "      <td>NFZ obcina stawki za testy na koronawirusa. Cz...</td>\n",
       "      <td>NFZ obcina stawki za testy na obecność koronaw...</td>\n",
       "      <td>Materiał magazynu \"Polska i Świat\".</td>\n",
       "      <td>Narodowy Fundusz Zdrowia obciął stawki na poje...</td>\n",
       "      <td>https://tvn24.pl/polska/koronawirus-w-polsce-n...</td>\n",
       "      <td>Najpierw wymaz, a później badanie w budynku tu...</td>\n",
       "      <td>2022-01-15 06:32:00</td>\n",
       "      <td>AleksandraKąkol</td>\n",
       "      <td>TVN24</td>\n",
       "      <td>tvn24</td>\n",
       "    </tr>\n",
       "    <tr>\n",
       "      <th>2397</th>\n",
       "      <td>Pogoda na dziś. Termometry pokażą od 2 do 5 st...</td>\n",
       "      <td>Pogoda na dziś - sobota 15.01. Zachmurzenie bę...</td>\n",
       "      <td>W sobotę w całym kraju odczujemy chłód.</td>\n",
       "      <td>Pogoda na dziś. Sobota (15.01) upłynie pod zna...</td>\n",
       "      <td>https://tvn24.pl/tvnmeteo/prognoza/pogoda-na-d...</td>\n",
       "      <td>Na sobotę prognozowane jest zmienne zachmurzen...</td>\n",
       "      <td>2022-01-15 02:00:00</td>\n",
       "      <td>anw</td>\n",
       "      <td>tvnmeteo.pl</td>\n",
       "      <td>tvn24</td>\n",
       "    </tr>\n",
       "    <tr>\n",
       "      <th>2398</th>\n",
       "      <td>\"Polskie prawo w sprawie inwigilacji nie odpow...</td>\n",
       "      <td>Rzecznik Praw Obywatelskich interweniuje u pre...</td>\n",
       "      <td>RPO interweniuje u premiera.</td>\n",
       "      <td>Rzecznik Praw Obywatelskich Marcin Wiącek wyst...</td>\n",
       "      <td>https://tvn24.pl/polska/pegasus-rzecznik-praw-...</td>\n",
       "      <td>OGLĄDAJ TVN24 W INTERNECIE W TVN24 GO Marcin W...</td>\n",
       "      <td>2022-01-14 22:49:00</td>\n",
       "      <td>mjz//rzw</td>\n",
       "      <td>PAP</td>\n",
       "      <td>tvn24</td>\n",
       "    </tr>\n",
       "    <tr>\n",
       "      <th>2399</th>\n",
       "      <td>Samochód zjechał do Narwi z mola w Serocku. \"W...</td>\n",
       "      <td>Samochód zjechał do Narwi z mola w Serocku. \"W...</td>\n",
       "      <td>Po około dwóch godzinach wyciągnęli auto na br...</td>\n",
       "      <td>W piątek wieczorem samochód zjechał z mola w S...</td>\n",
       "      <td>https://tvn24.pl/tvnwarszawa/najnowsze/serock-...</td>\n",
       "      <td>Do zdarzenia doszło w Serocku, w okolicach mol...</td>\n",
       "      <td>2022-01-14 20:04:00</td>\n",
       "      <td>mp/r</td>\n",
       "      <td>tvnwarszawa.pl</td>\n",
       "      <td>tvn24</td>\n",
       "    </tr>\n",
       "  </tbody>\n",
       "</table>\n",
       "<p>2400 rows × 10 columns</p>\n",
       "</div>"
      ],
      "text/plain": [
       "                                                  title  \\\n",
       "0     Spadki na Wall Street koniec sesji. Nasdaq znó...   \n",
       "1     Specjaliści od cyberbezpieczeństwa w administr...   \n",
       "2     Mark Brzezinski oficjalnie zaprzysiężony na am...   \n",
       "3     Portugalia wszczyna śledztwo w sprawie przyzna...   \n",
       "4          Szef MSZ Zbigniew Rau zakażony koronawirusem   \n",
       "...                                                 ...   \n",
       "2395  Możliwe osiągnięcie stanów ostrzegawczych. Ost...   \n",
       "2396  NFZ obcina stawki za testy na koronawirusa. Cz...   \n",
       "2397  Pogoda na dziś. Termometry pokażą od 2 do 5 st...   \n",
       "2398  \"Polskie prawo w sprawie inwigilacji nie odpow...   \n",
       "2399  Samochód zjechał do Narwi z mola w Serocku. \"W...   \n",
       "\n",
       "                                              title_int  \\\n",
       "0     Spadki na Wall Street koniec sesji. Nasdaq znó...   \n",
       "1     Specjaliści od cyberbezpieczeństwa w administr...   \n",
       "2     Mark Brzezinski oficjalnie zaprzysiężony na am...   \n",
       "3     Portugalia wszczyna śledztwo w sprawie przyzna...   \n",
       "4          Szef MSZ Zbigniew Rau zakażony koronawirusem   \n",
       "...                                                 ...   \n",
       "2395  Możliwe osiągnięcie stanów ostrzegawczych. Ost...   \n",
       "2396  NFZ obcina stawki za testy na obecność koronaw...   \n",
       "2397  Pogoda na dziś - sobota 15.01. Zachmurzenie bę...   \n",
       "2398  Rzecznik Praw Obywatelskich interweniuje u pre...   \n",
       "2399  Samochód zjechał do Narwi z mola w Serocku. \"W...   \n",
       "\n",
       "                                              lead_text  \\\n",
       "0     Środowa sesja na Wall Street zakończyła się sp...   \n",
       "1     Rada Ministrów przyjęła w środę rozporządzenie...   \n",
       "2     Wiceprezydent USA Kamala Harris oficjalnie zap...   \n",
       "3     Prokuratura generalna Portugalii wszczęła w śr...   \n",
       "4     Minister spraw zagranicznych Zbigniew Rau uzys...   \n",
       "...                                                 ...   \n",
       "2395  Instytut Meteorologii i Gospodarki Wodnej wyda...   \n",
       "2396                Materiał magazynu \"Polska i Świat\".   \n",
       "2397            W sobotę w całym kraju odczujemy chłód.   \n",
       "2398                       RPO interweniuje u premiera.   \n",
       "2399  Po około dwóch godzinach wyciągnęli auto na br...   \n",
       "\n",
       "                                          lead_text_int  \\\n",
       "0     Środowa sesja na Wall Street zakończyła się sp...   \n",
       "1     Rada Ministrów przyjęła w środę rozporządzenie...   \n",
       "2     Wiceprezydent USA Kamala Harris oficjalnie zap...   \n",
       "3     Prokuratura generalna Portugalii wszczęła w śr...   \n",
       "4     Minister spraw zagranicznych Zbigniew Rau uzys...   \n",
       "...                                                 ...   \n",
       "2395  Poziom wód w rejonie Żuław i Zalewu Wiślanego ...   \n",
       "2396  Narodowy Fundusz Zdrowia obciął stawki na poje...   \n",
       "2397  Pogoda na dziś. Sobota (15.01) upłynie pod zna...   \n",
       "2398  Rzecznik Praw Obywatelskich Marcin Wiącek wyst...   \n",
       "2399  W piątek wieczorem samochód zjechał z mola w S...   \n",
       "\n",
       "                                                   link  \\\n",
       "0     https://www.bankier.pl/wiadomosc/Wall-Street-w...   \n",
       "1     https://www.bankier.pl/wiadomosc/Specjalisci-o...   \n",
       "2     https://www.bankier.pl/wiadomosc/Mark-Brzezins...   \n",
       "3     https://www.bankier.pl/wiadomosc/Portugalia-ws...   \n",
       "4     https://www.bankier.pl/wiadomosc/Szef-MSZ-Zbig...   \n",
       "...                                                 ...   \n",
       "2395  https://tvn24.pl/tvnmeteo/prognoza/imgw-alerty...   \n",
       "2396  https://tvn24.pl/polska/koronawirus-w-polsce-n...   \n",
       "2397  https://tvn24.pl/tvnmeteo/prognoza/pogoda-na-d...   \n",
       "2398  https://tvn24.pl/polska/pegasus-rzecznik-praw-...   \n",
       "2399  https://tvn24.pl/tvnwarszawa/najnowsze/serock-...   \n",
       "\n",
       "                                                   text      when_published  \\\n",
       "0     Dow Jones Industrial na zamknięciu spadł o 339... 2022-01-19 22:12:00   \n",
       "1     Jak wyjaśniono, rozporządzenie określa zasady ... 2022-01-19 20:18:00   \n",
       "2     Podczas ceremonii w budynku Eisenhowera mieszc... 2022-01-19 20:17:00   \n",
       "3     Prokuratura generalna wyjaśniła, że przedmiote... 2022-01-19 20:11:00   \n",
       "4     \"Z uwagi na pozytywny wynik testu na SARS-CoV-... 2022-01-19 20:05:00   \n",
       "...                                                 ...                 ...   \n",
       "2395  \"W związku z prognozowanym silnym, sztormowym ... 2022-01-15 06:55:00   \n",
       "2396  Najpierw wymaz, a później badanie w budynku tu... 2022-01-15 06:32:00   \n",
       "2397  Na sobotę prognozowane jest zmienne zachmurzen... 2022-01-15 02:00:00   \n",
       "2398  OGLĄDAJ TVN24 W INTERNECIE W TVN24 GO Marcin W... 2022-01-14 22:49:00   \n",
       "2399  Do zdarzenia doszło w Serocku, w okolicach mol... 2022-01-14 20:04:00   \n",
       "\n",
       "               author          source   portal  \n",
       "0            kkr/ pr/      PAP Biznes  bankier  \n",
       "1            pif/ mk/             PAP  bankier  \n",
       "2          osk/ tebe/             PAP  bankier  \n",
       "3           zat/ mal/             PAP  bankier  \n",
       "4           wni/ mok/             PAP  bankier  \n",
       "...               ...             ...      ...  \n",
       "2395               ps       PAP, IMGW    tvn24  \n",
       "2396  AleksandraKąkol           TVN24    tvn24  \n",
       "2397              anw     tvnmeteo.pl    tvn24  \n",
       "2398         mjz//rzw             PAP    tvn24  \n",
       "2399             mp/r  tvnwarszawa.pl    tvn24  \n",
       "\n",
       "[2400 rows x 10 columns]"
      ]
     },
     "execution_count": 6,
     "metadata": {},
     "output_type": "execute_result"
    }
   ],
   "source": [
    "full_df = pd.concat(pd.read_parquet(parquet_file) for parquet_file in data_dir.glob('*.parquet')).reset_index(drop=True)\n",
    "full_df"
   ]
  },
  {
   "cell_type": "code",
   "execution_count": 39,
   "metadata": {
    "pycharm": {
     "name": "#%%\n"
    }
   },
   "outputs": [
    {
     "data": {
      "text/plain": [
       "(2400, 11)"
      ]
     },
     "execution_count": 39,
     "metadata": {},
     "output_type": "execute_result"
    }
   ],
   "source": [
    "full_df.shape"
   ]
  },
  {
   "cell_type": "code",
   "execution_count": 7,
   "metadata": {
    "pycharm": {
     "name": "#%%\n"
    }
   },
   "outputs": [
    {
     "name": "stdout",
     "output_type": "stream",
     "text": [
      "<class 'pandas.core.frame.DataFrame'>\n",
      "RangeIndex: 2400 entries, 0 to 2399\n",
      "Data columns (total 10 columns):\n",
      " #   Column          Non-Null Count  Dtype         \n",
      "---  ------          --------------  -----         \n",
      " 0   title           2400 non-null   object        \n",
      " 1   title_int       2400 non-null   object        \n",
      " 2   lead_text       2400 non-null   object        \n",
      " 3   lead_text_int   2091 non-null   object        \n",
      " 4   link            2400 non-null   object        \n",
      " 5   text            2339 non-null   object        \n",
      " 6   when_published  2400 non-null   datetime64[ns]\n",
      " 7   author          2008 non-null   object        \n",
      " 8   source          1432 non-null   object        \n",
      " 9   portal          2400 non-null   object        \n",
      "dtypes: datetime64[ns](1), object(9)\n",
      "memory usage: 187.6+ KB\n"
     ]
    }
   ],
   "source": [
    "# w celach statystycznych zamieńmy wszystkie puste wartości na np.NaN \n",
    "#(pozwoli nam to określić ilość pustych wartości w każdej kolumnie)\n",
    "full_df.replace('', np.NaN, inplace=True)\n",
    "full_df.replace('None', np.NaN, inplace=True)\n",
    "full_df.fillna(value=np.NaN)\n",
    "full_df.info()"
   ]
  },
  {
   "cell_type": "code",
   "execution_count": 8,
   "metadata": {
    "pycharm": {
     "name": "#%%\n"
    }
   },
   "outputs": [
    {
     "data": {
      "text/plain": [
       "title               0\n",
       "title_int           0\n",
       "lead_text           0\n",
       "lead_text_int     309\n",
       "link                0\n",
       "text               61\n",
       "when_published      0\n",
       "author            392\n",
       "source            968\n",
       "portal              0\n",
       "dtype: int64"
      ]
     },
     "execution_count": 8,
     "metadata": {},
     "output_type": "execute_result"
    }
   ],
   "source": [
    "full_df.isnull().sum()"
   ]
  },
  {
   "cell_type": "markdown",
   "metadata": {
    "pycharm": {
     "name": "#%% md\n"
    }
   },
   "source": [
    "Oznacza to, że mamy puste wartości w kolumnach:\n",
    "* lead_text_int,\n",
    "* text, (na szczęście bardzo niewiele, były to artykuły, które sprowadzały się np. do nagłówka i filmu)\n",
    "* author,\n",
    "* source (tych szczególnie dużo)\n",
    "\n",
    "Wszystkie pobrane artykuły mają natomiast wypełnione kolumny:\n",
    "* title,\n",
    "* title_int,\n",
    "* lead_text,\n",
    "* link,\n",
    "* when_published,\n",
    "* portal"
   ]
  },
  {
   "cell_type": "code",
   "execution_count": 9,
   "metadata": {
    "pycharm": {
     "name": "#%%\n"
    }
   },
   "outputs": [
    {
     "name": "stdout",
     "output_type": "stream",
     "text": [
      "<class 'pandas.core.frame.DataFrame'>\n",
      "RangeIndex: 2400 entries, 0 to 2399\n",
      "Data columns (total 10 columns):\n",
      " #   Column          Non-Null Count  Dtype         \n",
      "---  ------          --------------  -----         \n",
      " 0   title           2400 non-null   object        \n",
      " 1   title_int       2400 non-null   object        \n",
      " 2   lead_text       2400 non-null   object        \n",
      " 3   lead_text_int   2400 non-null   object        \n",
      " 4   link            2400 non-null   object        \n",
      " 5   text            2400 non-null   object        \n",
      " 6   when_published  2400 non-null   datetime64[ns]\n",
      " 7   author          2400 non-null   object        \n",
      " 8   source          2400 non-null   object        \n",
      " 9   portal          2400 non-null   object        \n",
      "dtypes: datetime64[ns](1), object(9)\n",
      "memory usage: 187.6+ KB\n"
     ]
    }
   ],
   "source": [
    "# na czas oczyszczania data frame zastąpimy wszystkie wartości null pustym ciągiem znaków ''\n",
    "full_df.replace(np.NaN, '', inplace=True)\n",
    "full_df.info()"
   ]
  },
  {
   "cell_type": "markdown",
   "metadata": {
    "pycharm": {
     "name": "#%% md\n"
    }
   },
   "source": [
    "Statystyki Dataframe"
   ]
  },
  {
   "cell_type": "code",
   "execution_count": 10,
   "metadata": {
    "pycharm": {
     "name": "#%%\n"
    }
   },
   "outputs": [
    {
     "name": "stderr",
     "output_type": "stream",
     "text": [
      "C:\\Users\\piotr\\AppData\\Local\\Temp/ipykernel_11500/1693165124.py:1: FutureWarning: Treating datetime data as categorical rather than numeric in `.describe` is deprecated and will be removed in a future version of pandas. Specify `datetime_is_numeric=True` to silence this warning and adopt the future behavior now.\n",
      "  full_df.describe()\n"
     ]
    },
    {
     "data": {
      "text/html": [
       "<div>\n",
       "<style scoped>\n",
       "    .dataframe tbody tr th:only-of-type {\n",
       "        vertical-align: middle;\n",
       "    }\n",
       "\n",
       "    .dataframe tbody tr th {\n",
       "        vertical-align: top;\n",
       "    }\n",
       "\n",
       "    .dataframe thead th {\n",
       "        text-align: right;\n",
       "    }\n",
       "</style>\n",
       "<table border=\"1\" class=\"dataframe\">\n",
       "  <thead>\n",
       "    <tr style=\"text-align: right;\">\n",
       "      <th></th>\n",
       "      <th>title</th>\n",
       "      <th>title_int</th>\n",
       "      <th>lead_text</th>\n",
       "      <th>lead_text_int</th>\n",
       "      <th>link</th>\n",
       "      <th>text</th>\n",
       "      <th>when_published</th>\n",
       "      <th>author</th>\n",
       "      <th>source</th>\n",
       "      <th>portal</th>\n",
       "    </tr>\n",
       "  </thead>\n",
       "  <tbody>\n",
       "    <tr>\n",
       "      <th>count</th>\n",
       "      <td>2400</td>\n",
       "      <td>2400</td>\n",
       "      <td>2400</td>\n",
       "      <td>2400</td>\n",
       "      <td>2400</td>\n",
       "      <td>2400</td>\n",
       "      <td>2400</td>\n",
       "      <td>2400</td>\n",
       "      <td>2400</td>\n",
       "      <td>2400</td>\n",
       "    </tr>\n",
       "    <tr>\n",
       "      <th>unique</th>\n",
       "      <td>2297</td>\n",
       "      <td>2292</td>\n",
       "      <td>2300</td>\n",
       "      <td>1996</td>\n",
       "      <td>2379</td>\n",
       "      <td>2319</td>\n",
       "      <td>2172</td>\n",
       "      <td>447</td>\n",
       "      <td>93</td>\n",
       "      <td>8</td>\n",
       "    </tr>\n",
       "    <tr>\n",
       "      <th>top</th>\n",
       "      <td>Jak kształtuje się liczba zakażonych</td>\n",
       "      <td>Jak kształtuje się liczba zakażonych</td>\n",
       "      <td>Dowiedz się, jak przyrasta codziennie liczba z...</td>\n",
       "      <td></td>\n",
       "      <td>https://tvn24.pl/polska/polski-lad-rozmowy-prz...</td>\n",
       "      <td></td>\n",
       "      <td>2022-01-19 19:58:00</td>\n",
       "      <td></td>\n",
       "      <td></td>\n",
       "      <td>bankier</td>\n",
       "    </tr>\n",
       "    <tr>\n",
       "      <th>freq</th>\n",
       "      <td>37</td>\n",
       "      <td>37</td>\n",
       "      <td>37</td>\n",
       "      <td>309</td>\n",
       "      <td>2</td>\n",
       "      <td>61</td>\n",
       "      <td>4</td>\n",
       "      <td>392</td>\n",
       "      <td>968</td>\n",
       "      <td>300</td>\n",
       "    </tr>\n",
       "    <tr>\n",
       "      <th>first</th>\n",
       "      <td>NaN</td>\n",
       "      <td>NaN</td>\n",
       "      <td>NaN</td>\n",
       "      <td>NaN</td>\n",
       "      <td>NaN</td>\n",
       "      <td>NaN</td>\n",
       "      <td>2019-06-27 13:27:00</td>\n",
       "      <td>NaN</td>\n",
       "      <td>NaN</td>\n",
       "      <td>NaN</td>\n",
       "    </tr>\n",
       "    <tr>\n",
       "      <th>last</th>\n",
       "      <td>NaN</td>\n",
       "      <td>NaN</td>\n",
       "      <td>NaN</td>\n",
       "      <td>NaN</td>\n",
       "      <td>NaN</td>\n",
       "      <td>NaN</td>\n",
       "      <td>2022-01-20 02:00:00</td>\n",
       "      <td>NaN</td>\n",
       "      <td>NaN</td>\n",
       "      <td>NaN</td>\n",
       "    </tr>\n",
       "  </tbody>\n",
       "</table>\n",
       "</div>"
      ],
      "text/plain": [
       "                                       title  \\\n",
       "count                                   2400   \n",
       "unique                                  2297   \n",
       "top     Jak kształtuje się liczba zakażonych   \n",
       "freq                                      37   \n",
       "first                                    NaN   \n",
       "last                                     NaN   \n",
       "\n",
       "                                   title_int  \\\n",
       "count                                   2400   \n",
       "unique                                  2292   \n",
       "top     Jak kształtuje się liczba zakażonych   \n",
       "freq                                      37   \n",
       "first                                    NaN   \n",
       "last                                     NaN   \n",
       "\n",
       "                                                lead_text lead_text_int  \\\n",
       "count                                                2400          2400   \n",
       "unique                                               2300          1996   \n",
       "top     Dowiedz się, jak przyrasta codziennie liczba z...                 \n",
       "freq                                                   37           309   \n",
       "first                                                 NaN           NaN   \n",
       "last                                                  NaN           NaN   \n",
       "\n",
       "                                                     link  text  \\\n",
       "count                                                2400  2400   \n",
       "unique                                               2379  2319   \n",
       "top     https://tvn24.pl/polska/polski-lad-rozmowy-prz...         \n",
       "freq                                                    2    61   \n",
       "first                                                 NaN   NaN   \n",
       "last                                                  NaN   NaN   \n",
       "\n",
       "             when_published author source   portal  \n",
       "count                  2400   2400   2400     2400  \n",
       "unique                 2172    447     93        8  \n",
       "top     2022-01-19 19:58:00                bankier  \n",
       "freq                      4    392    968      300  \n",
       "first   2019-06-27 13:27:00    NaN    NaN      NaN  \n",
       "last    2022-01-20 02:00:00    NaN    NaN      NaN  "
      ]
     },
     "execution_count": 10,
     "metadata": {},
     "output_type": "execute_result"
    }
   ],
   "source": [
    "full_df.describe()"
   ]
  },
  {
   "cell_type": "code",
   "execution_count": 11,
   "metadata": {
    "pycharm": {
     "name": "#%%\n"
    }
   },
   "outputs": [
    {
     "data": {
      "text/plain": [
       "bankier           300\n",
       "naszdziennik      300\n",
       "niebezpiecznik    300\n",
       "onet              300\n",
       "pcworld           300\n",
       "plotek            300\n",
       "pr24              300\n",
       "tvn24             300\n",
       "Name: portal, dtype: int64"
      ]
     },
     "execution_count": 11,
     "metadata": {},
     "output_type": "execute_result"
    }
   ],
   "source": [
    "full_df.portal.value_counts()"
   ]
  },
  {
   "cell_type": "code",
   "execution_count": 12,
   "metadata": {
    "pycharm": {
     "name": "#%%\n"
    }
   },
   "outputs": [
    {
     "data": {
      "text/plain": [
       "naszdziennik    35\n",
       "onet            24\n",
       "tvn24            2\n",
       "Name: portal, dtype: int64"
      ]
     },
     "execution_count": 12,
     "metadata": {},
     "output_type": "execute_result"
    }
   ],
   "source": [
    "full_df.where(full_df.text == '').portal.value_counts()"
   ]
  },
  {
   "cell_type": "code",
   "execution_count": 13,
   "metadata": {
    "pycharm": {
     "name": "#%%\n"
    }
   },
   "outputs": [
    {
     "data": {
      "text/plain": [
       "onet            286\n",
       "bankier          90\n",
       "pr24             12\n",
       "naszdziennik      4\n",
       "Name: portal, dtype: int64"
      ]
     },
     "execution_count": 13,
     "metadata": {},
     "output_type": "execute_result"
    }
   ],
   "source": [
    "full_df.where(full_df.author == '').portal.value_counts()"
   ]
  },
  {
   "cell_type": "code",
   "execution_count": 14,
   "metadata": {
    "pycharm": {
     "name": "#%%\n"
    }
   },
   "outputs": [
    {
     "data": {
      "text/plain": [
       "niebezpiecznik    300\n",
       "pcworld           300\n",
       "plotek            300\n",
       "onet               68\n",
       "Name: portal, dtype: int64"
      ]
     },
     "execution_count": 14,
     "metadata": {},
     "output_type": "execute_result"
    }
   ],
   "source": [
    "full_df.where(full_df.source == '').portal.value_counts()"
   ]
  },
  {
   "cell_type": "code",
   "execution_count": 15,
   "metadata": {
    "pycharm": {
     "name": "#%%\n"
    }
   },
   "outputs": [
    {
     "data": {
      "text/plain": [
       "niebezpiecznik    300\n",
       "naszdziennik        6\n",
       "bankier             3\n",
       "Name: portal, dtype: int64"
      ]
     },
     "execution_count": 15,
     "metadata": {},
     "output_type": "execute_result"
    }
   ],
   "source": [
    "full_df.where(full_df.lead_text_int == '').portal.value_counts()"
   ]
  },
  {
   "cell_type": "code",
   "execution_count": 16,
   "metadata": {
    "pycharm": {
     "name": "#%%\n"
    }
   },
   "outputs": [
    {
     "data": {
      "text/plain": [
       "Jak kształtuje się liczba zakażonych                                                                 37\n",
       "Prognoza pogody                                                                                       9\n",
       "We wtorek w „Naszym Dzienniku”                                                                        6\n",
       "W środę w „Naszym Dzienniku”                                                                          6\n",
       "W piątek w „Naszym Dzienniku”                                                                         6\n",
       "                                                                                                     ..\n",
       "Numery ksiąg wieczystych w Geoportalu: Kara 100 tys. zł dla GGK, ale to nie koniec                    1\n",
       "Sztuczna inteligencja prawie przeszła Test Turinga                                                    1\n",
       "BadPower — atak, który zainfekuje Twoją ładowarkę i spali Ci elektronikę                              1\n",
       "Kim naprawdę jest Jan Marsalek, COO popularnego pośrednika w płątnościach? I co łączy go z Rosją?     1\n",
       "Samochód zjechał do Narwi z mola w Serocku. \"W środku jedna osoba\"                                    1\n",
       "Name: title, Length: 2297, dtype: int64"
      ]
     },
     "execution_count": 16,
     "metadata": {},
     "output_type": "execute_result"
    }
   ],
   "source": [
    "full_df.title.value_counts()"
   ]
  },
  {
   "cell_type": "code",
   "execution_count": 17,
   "metadata": {
    "pycharm": {
     "name": "#%%\n"
    }
   },
   "outputs": [
    {
     "data": {
      "text/plain": [
       "                            392\n",
       "redakcja                    229\n",
       "AB, PAP                      61\n",
       "Marcin Maj                   54\n",
       "APW, PAP                     46\n",
       "                           ... \n",
       "AB, PAP, IPN.gov.pl           1\n",
       "RS                            1\n",
       "Dr Rafał Leśkiewicz, IPN      1\n",
       "Małgorzata Bochenek           1\n",
       "mjz//rzw                      1\n",
       "Name: author, Length: 447, dtype: int64"
      ]
     },
     "execution_count": 17,
     "metadata": {},
     "output_type": "execute_result"
    }
   ],
   "source": [
    "full_df.author.value_counts()"
   ]
  },
  {
   "cell_type": "code",
   "execution_count": 18,
   "metadata": {
    "pycharm": {
     "name": "#%%\n"
    }
   },
   "outputs": [
    {
     "data": {
      "text/plain": [
       "                                                  968\n",
       "PAP                                               307\n",
       "NaszDziennik.pl                                   271\n",
       "Media                                             135\n",
       "pap                                                89\n",
       "                                                 ... \n",
       "Policja Lubin                                       1\n",
       "tvnwarszawa.pl / PAP                                1\n",
       "Gazeta Wyborcza, tvn24.pl                           1\n",
       "TVN24.pl                                            1\n",
       "Kontakt 24, tvnmeteo.pl, \"Z głową w gwiazdach\"      1\n",
       "Name: source, Length: 93, dtype: int64"
      ]
     },
     "execution_count": 18,
     "metadata": {},
     "output_type": "execute_result"
    }
   ],
   "source": [
    "full_df.source.value_counts()"
   ]
  },
  {
   "cell_type": "code",
   "execution_count": 19,
   "metadata": {
    "pycharm": {
     "name": "#%%\n"
    }
   },
   "outputs": [
    {
     "data": {
      "text/plain": [
       "2022-01-19 19:58:00    4\n",
       "2022-01-18 14:28:00    4\n",
       "2022-01-19 12:03:00    4\n",
       "2022-01-19 10:00:00    4\n",
       "2022-01-18 11:35:00    4\n",
       "                      ..\n",
       "2020-09-25 11:33:00    1\n",
       "2020-09-28 12:19:00    1\n",
       "2020-10-02 11:20:00    1\n",
       "2020-10-04 20:42:00    1\n",
       "2022-01-14 20:04:00    1\n",
       "Name: when_published, Length: 2172, dtype: int64"
      ]
     },
     "execution_count": 19,
     "metadata": {},
     "output_type": "execute_result"
    }
   ],
   "source": [
    "full_df.when_published.value_counts()"
   ]
  },
  {
   "cell_type": "markdown",
   "metadata": {
    "pycharm": {
     "name": "#%% md\n"
    }
   },
   "source": [
    "Zapis dataframe do plików (bez dodatkowej kolumny lead_and_text która 2-razy zwiększa wielkość pliku z zapisem)"
   ]
  },
  {
   "cell_type": "code",
   "execution_count": 20,
   "metadata": {
    "pycharm": {
     "name": "#%%\n"
    }
   },
   "outputs": [],
   "source": [
    "timestamp = int((datetime.now(timezone.utc)).timestamp())\n",
    "full_df.to_parquet(f'{result_file_path}/{result_file_name}_{timestamp}.parquet')\n",
    "full_df.to_json(f'{result_file_path}/{result_file_name}_{timestamp}.json')"
   ]
  },
  {
   "cell_type": "code",
   "execution_count": 21,
   "metadata": {
    "pycharm": {
     "name": "#%%\n"
    }
   },
   "outputs": [],
   "source": [
    "# opcja: dodanie kolumny lead_and_text zawierającej połaczenie kolumn lead_text oraz text - do statystyk (nie wszystkie dane mają zawartość w polu text)\n",
    "full_df['lead_and_text'] = full_df.apply(lambda x: x.lead_text if len(x.lead_text) >= len(x.lead_text_int) else x.lead_text_int, axis=1) + ' ' + full_df.text"
   ]
  },
  {
   "cell_type": "code",
   "execution_count": 22,
   "metadata": {
    "pycharm": {
     "name": "#%%\n"
    }
   },
   "outputs": [
    {
     "name": "stdout",
     "output_type": "stream",
     "text": [
      "Długość artykułów na wszystkich portalach - histogram\n"
     ]
    },
    {
     "data": {
      "image/png": "[encoded data removed]",
      "text/plain": [
       "<Figure size 432x288 with 1 Axes>"
      ]
     },
     "metadata": {
      "needs_background": "light"
     },
     "output_type": "display_data"
    }
   ],
   "source": [
    "full_df['lead_and_text'].str.len().hist(bins=100, alpha=1, range=(0,15000))\n",
    "print('Długość artykułów na wszystkich portalach - histogram')"
   ]
  },
  {
   "cell_type": "code",
   "execution_count": 23,
   "metadata": {
    "pycharm": {
     "name": "#%%\n"
    }
   },
   "outputs": [
    {
     "data": {
      "image/png": "[encoded data removed]",
      "text/plain": [
       "<Figure size 432x288 with 1 Axes>"
      ]
     },
     "metadata": {
      "needs_background": "light"
     },
     "output_type": "display_data"
    }
   ],
   "source": [
    "for portal in portals:\n",
    "    ax = full_df['lead_and_text'].where(full_df.portal==portal).dropna().str.len().hist(bins=100, alpha=1, range=(0,15000), stacked=False, legend=True, orientation='vertical')\n",
    "    ax.legend(portals)"
   ]
  },
  {
   "cell_type": "code",
   "execution_count": 24,
   "metadata": {
    "pycharm": {
     "name": "#%%\n"
    }
   },
   "outputs": [
    {
     "name": "stdout",
     "output_type": "stream",
     "text": [
      "histogram popularności słów\n"
     ]
    },
    {
     "data": {
      "text/plain": [
       "count     2400.000000\n",
       "mean       646.964583\n",
       "std       1394.993872\n",
       "min          9.000000\n",
       "25%        226.750000\n",
       "50%        348.000000\n",
       "75%        567.000000\n",
       "max      26725.000000\n",
       "Name: lead_and_text, dtype: float64"
      ]
     },
     "execution_count": 24,
     "metadata": {},
     "output_type": "execute_result"
    },
    {
     "data": {
      "image/png": "[encoded data removed]",
      "text/plain": [
       "<Figure size 432x288 with 1 Axes>"
      ]
     },
     "metadata": {
      "needs_background": "light"
     },
     "output_type": "display_data"
    }
   ],
   "source": [
    "print('histogram popularności słów')\n",
    "word_count = full_df['lead_and_text'].str.split().map(lambda x: len(x))\n",
    "word_count.hist(bins=100, alpha=1, range=(0,5000))\n",
    "word_count.describe()"
   ]
  },
  {
   "cell_type": "code",
   "execution_count": 25,
   "metadata": {
    "pycharm": {
     "name": "#%%\n"
    }
   },
   "outputs": [],
   "source": [
    "corpus = []\n",
    "for x in full_df['lead_and_text'].str.split():\n",
    "    corpus.extend([each_string.lower() for each_string in x])"
   ]
  },
  {
   "cell_type": "code",
   "execution_count": 26,
   "metadata": {
    "pycharm": {
     "name": "#%%\n"
    }
   },
   "outputs": [
    {
     "data": {
      "text/plain": [
       "['środowa',\n",
       " 'sesja',\n",
       " 'na',\n",
       " 'wall',\n",
       " 'street',\n",
       " 'zakończyła',\n",
       " 'się',\n",
       " 'spadkami',\n",
       " 'pomimo',\n",
       " 'wzrostów',\n",
       " 'w',\n",
       " 'ciągu',\n",
       " 'dnia.',\n",
       " 'rynki',\n",
       " 'śledzą',\n",
       " 'napływające',\n",
       " 'raporty',\n",
       " 'finansowe',\n",
       " 'spółek',\n",
       " 'za',\n",
       " 'czwarty',\n",
       " 'kwartał,',\n",
       " 'ale',\n",
       " 'nadal',\n",
       " 'główne',\n",
       " 'obawy',\n",
       " 'związane',\n",
       " 'są',\n",
       " 'z',\n",
       " 'perspektywą',\n",
       " 'zbliżających',\n",
       " 'się',\n",
       " 'podwyżek',\n",
       " 'stóp',\n",
       " 'procentowych',\n",
       " 'w',\n",
       " 'usa.',\n",
       " 'dow',\n",
       " 'jones',\n",
       " 'industrial',\n",
       " 'na',\n",
       " 'zamknięciu',\n",
       " 'spadł',\n",
       " 'o',\n",
       " '339',\n",
       " 'punktów,',\n",
       " 'czyli',\n",
       " '0,96',\n",
       " 'proc.,',\n",
       " 'do',\n",
       " '35.028,65',\n",
       " 'pkt.',\n",
       " 's&p',\n",
       " '500',\n",
       " 'na',\n",
       " 'koniec',\n",
       " 'dnia',\n",
       " 'stracił',\n",
       " '0,97',\n",
       " 'proc.',\n",
       " 'i',\n",
       " 'wyniósł',\n",
       " '4.532,76',\n",
       " 'pkt.',\n",
       " 'nasdaq',\n",
       " 'composite',\n",
       " 'zniżkował',\n",
       " '1,15',\n",
       " 'proc.',\n",
       " 'i',\n",
       " 'zamknął',\n",
       " 'sesję',\n",
       " 'na',\n",
       " 'poziomie',\n",
       " '14.340,25',\n",
       " 'pkt.',\n",
       " 'indeks',\n",
       " 'spadł',\n",
       " 'już',\n",
       " '10',\n",
       " 'proc.',\n",
       " 'z',\n",
       " 'historycznego',\n",
       " 'szczytu',\n",
       " 'notowań',\n",
       " 'z',\n",
       " 'listopada',\n",
       " 'zeszłego',\n",
       " 'roku.',\n",
       " '\"jesteśmy',\n",
       " 'w',\n",
       " 'późnej',\n",
       " 'fazie',\n",
       " 'cyklu,',\n",
       " 'w',\n",
       " 'którym',\n",
       " 'spółki',\n",
       " 'mogą',\n",
       " 'prezentować',\n",
       " 'niższe',\n",
       " 'zyski',\n",
       " 'ze',\n",
       " 'względu',\n",
       " 'na',\n",
       " 'słabszy',\n",
       " 'wzrost',\n",
       " 'pkb',\n",
       " 'i',\n",
       " 'wyższe',\n",
       " 'stopy',\n",
       " 'proc.,',\n",
       " 'jednak',\n",
       " 'spodziewamy',\n",
       " 'się,',\n",
       " 'że',\n",
       " 'trwające',\n",
       " 'spadki',\n",
       " 'na',\n",
       " 'rynkach',\n",
       " 'będą',\n",
       " 'krótkie\"',\n",
       " '-',\n",
       " 'powiedział',\n",
       " 'luca',\n",
       " 'paolini,',\n",
       " 'główny',\n",
       " 'strateg',\n",
       " 'w',\n",
       " 'pictet',\n",
       " 'asset',\n",
       " 'management.',\n",
       " '\"inwestorzy',\n",
       " 'martwią',\n",
       " 'się,',\n",
       " 'że',\n",
       " 'wyższe',\n",
       " 'stopy',\n",
       " 'proc.',\n",
       " 'i',\n",
       " 'trudniejsze',\n",
       " 'warunki',\n",
       " 'finansowe',\n",
       " 'będą',\n",
       " 'prowadzić',\n",
       " 'do',\n",
       " 'obniżenia',\n",
       " 'wartości',\n",
       " 'spółek\"',\n",
       " '-',\n",
       " 'dodał',\n",
       " 'jack',\n",
       " 'ablin,',\n",
       " 'partner',\n",
       " 'cresset',\n",
       " 'capital.',\n",
       " 'analitycy',\n",
       " 'szacują',\n",
       " 'stopę',\n",
       " 'wzrostu',\n",
       " 'zysków',\n",
       " 'na',\n",
       " 'poziomie',\n",
       " '22,4',\n",
       " 'proc.',\n",
       " 'dla',\n",
       " 'indeksu',\n",
       " 's&p',\n",
       " '500',\n",
       " 'w',\n",
       " 'iv',\n",
       " 'kwartale,',\n",
       " 'co',\n",
       " 'według',\n",
       " 'factset',\n",
       " 'byłoby',\n",
       " 'czwartym',\n",
       " 'z',\n",
       " 'rzędu',\n",
       " 'kwartałem',\n",
       " 'ze',\n",
       " 'wzrostem',\n",
       " 'zysków',\n",
       " 'powyżej',\n",
       " '20',\n",
       " 'proc.',\n",
       " 'akcje',\n",
       " 'bank',\n",
       " 'of',\n",
       " 'america',\n",
       " 'poszły',\n",
       " 'w',\n",
       " 'górę',\n",
       " 'o',\n",
       " '1',\n",
       " 'proc.',\n",
       " 'zysk',\n",
       " 'na',\n",
       " 'akcję',\n",
       " 'banku',\n",
       " 'w',\n",
       " 'czwartym',\n",
       " 'kwartale',\n",
       " 'wyniósł',\n",
       " '82',\n",
       " 'centy,',\n",
       " 'a',\n",
       " 'oczekiwano',\n",
       " '77',\n",
       " 'centów.',\n",
       " 'notowania',\n",
       " 'morgan',\n",
       " 'stanley',\n",
       " 'rosły',\n",
       " 'o',\n",
       " '2,5',\n",
       " 'proc.',\n",
       " '-',\n",
       " 'zysk',\n",
       " 'na',\n",
       " 'akcję',\n",
       " 'w',\n",
       " 'czwartym',\n",
       " 'kwartale',\n",
       " 'wyniósł',\n",
       " '2,08',\n",
       " 'usd',\n",
       " 'wobec',\n",
       " 'oczekiwań',\n",
       " 'na',\n",
       " 'poziomie',\n",
       " '1,94',\n",
       " 'usd.',\n",
       " 'notowania',\n",
       " 'procter',\n",
       " '&',\n",
       " 'gamble',\n",
       " 'rosły',\n",
       " 'o',\n",
       " '3,5',\n",
       " 'proc.',\n",
       " 'przychody',\n",
       " 'wyniosły',\n",
       " 'w',\n",
       " 'raportowanym',\n",
       " 'okresie',\n",
       " '20,95',\n",
       " 'mld',\n",
       " 'usd',\n",
       " 'wobec',\n",
       " 'prognozowanych',\n",
       " '20,34',\n",
       " 'mld',\n",
       " 'usd.',\n",
       " '\"wyższa',\n",
       " 'inflacja',\n",
       " 'zwiększyła',\n",
       " 'obawy',\n",
       " 'o',\n",
       " 'koszty',\n",
       " 'dla',\n",
       " 'wielu',\n",
       " 'spółek.',\n",
       " 'odkąd',\n",
       " 'okazało',\n",
       " 'się,',\n",
       " 'że',\n",
       " 'marże',\n",
       " 'procter',\n",
       " '&',\n",
       " 'gamble',\n",
       " 'są',\n",
       " 'dobre,',\n",
       " 'część',\n",
       " 'z',\n",
       " 'tych',\n",
       " 'obaw',\n",
       " 'zniknęło\"',\n",
       " '-',\n",
       " 'powiedział',\n",
       " 'matt',\n",
       " 'maley,',\n",
       " 'główny',\n",
       " 'strateg',\n",
       " 'rynkowy',\n",
       " 'miller',\n",
       " 'tabak',\n",
       " '+',\n",
       " 'co.',\n",
       " 'unitedhealth',\n",
       " 'szedł',\n",
       " 'w',\n",
       " 'górę',\n",
       " 'o',\n",
       " '1,5',\n",
       " 'proc.',\n",
       " '–',\n",
       " 'przychody',\n",
       " 'spółki',\n",
       " 'wyniosły',\n",
       " 'w',\n",
       " 'raportowanym',\n",
       " 'okresie',\n",
       " '73,74',\n",
       " 'mld',\n",
       " 'usd',\n",
       " 'vs',\n",
       " 'konsensus',\n",
       " 'rynkowy',\n",
       " 'na',\n",
       " 'poziomie',\n",
       " '72,78',\n",
       " 'mld',\n",
       " 'usd.',\n",
       " 'rentowności',\n",
       " '10-letnich',\n",
       " 'amerykańskich',\n",
       " 'obligacji',\n",
       " 'skarbowych',\n",
       " 'wzrosły',\n",
       " 'w',\n",
       " 'środę',\n",
       " 'do',\n",
       " '1,91',\n",
       " 'proc.,',\n",
       " 'co',\n",
       " 'jest',\n",
       " 'najwyższym',\n",
       " 'poziomem',\n",
       " 'od',\n",
       " 'grudnia',\n",
       " '2019',\n",
       " 'roku.',\n",
       " '(pap',\n",
       " 'biznes)',\n",
       " 'rada',\n",
       " 'ministrów',\n",
       " 'przyjęła',\n",
       " 'w',\n",
       " 'środę',\n",
       " 'rozporządzenie',\n",
       " 'w',\n",
       " 'sprawie',\n",
       " 'wysokości',\n",
       " 'świadczenia',\n",
       " 'teleinformatycznego',\n",
       " 'osób',\n",
       " 'realizujących',\n",
       " 'zadania',\n",
       " 'z',\n",
       " 'zakresu',\n",
       " 'cyberbezpieczeństwa',\n",
       " '-',\n",
       " 'poinformowała',\n",
       " 'kancelaria',\n",
       " 'premiera',\n",
       " 'w',\n",
       " 'środowym',\n",
       " 'komunikacie.',\n",
       " 'czytaj',\n",
       " 'dalej',\n",
       " 'jak',\n",
       " 'wyjaśniono,',\n",
       " 'rozporządzenie',\n",
       " 'określa',\n",
       " 'zasady',\n",
       " 'ustalania',\n",
       " 'wysokości',\n",
       " 'świadczenia',\n",
       " 'teleinformatycznego,',\n",
       " 'czyli',\n",
       " 'specjalnego',\n",
       " 'dodatku',\n",
       " 'dla',\n",
       " 'osób',\n",
       " 'pracujących',\n",
       " 'na',\n",
       " 'stanowiskach',\n",
       " 'związanych',\n",
       " 'z',\n",
       " 'cyberbezpieczeństwem',\n",
       " 'w',\n",
       " 'instytucjach',\n",
       " 'publicznych.',\n",
       " 'świadczenie',\n",
       " 'pozwoli',\n",
       " 'wyrównać',\n",
       " 'wynagrodzenia',\n",
       " 'dla',\n",
       " 'wykwalifikowanych',\n",
       " 'specjalistów',\n",
       " 'zajmujących',\n",
       " 'się',\n",
       " 'cyberbezpieczeństwem',\n",
       " 'w',\n",
       " 'administracji',\n",
       " 'publicznej',\n",
       " 'oraz',\n",
       " 'w',\n",
       " 'służbach',\n",
       " 'do',\n",
       " 'poziomów',\n",
       " 'rynkowych.',\n",
       " '\"eksperci',\n",
       " 'pracujący',\n",
       " 'w',\n",
       " 'zespołach',\n",
       " 'ds.',\n",
       " 'cyberbezpieczeństwa',\n",
       " 'stanowią',\n",
       " 'kręgosłup',\n",
       " 'całego',\n",
       " 'systemu',\n",
       " 'bezpieczeństwa',\n",
       " 'w',\n",
       " 'cyberprzestrzeni\"',\n",
       " '–',\n",
       " 'powiedział',\n",
       " 'cytowany',\n",
       " 'w',\n",
       " 'komunikacie',\n",
       " 'minister',\n",
       " 'janusz',\n",
       " 'cieszyński,',\n",
       " 'pełnomocnik',\n",
       " 'rządu',\n",
       " 'ds.',\n",
       " 'cyberbezpieczeństwa.',\n",
       " 'rozporządzenie',\n",
       " 'określa',\n",
       " 'również',\n",
       " 'konkretne',\n",
       " 'zadania,',\n",
       " 'za',\n",
       " 'których',\n",
       " 'wykonywanie',\n",
       " 'będzie',\n",
       " 'przysługiwało',\n",
       " 'świadczenie',\n",
       " 'teleinformatyczne.',\n",
       " 'chodzi',\n",
       " 'm.in.',\n",
       " 'o',\n",
       " 'analizę',\n",
       " 'złośliwego',\n",
       " 'oprogramowania,',\n",
       " 'analizę',\n",
       " 'powłamaniową',\n",
       " '(forensic),',\n",
       " 'wykrywanie',\n",
       " 'zagrożeń',\n",
       " 'lub',\n",
       " 'incydentów',\n",
       " '(cyber',\n",
       " 'threat',\n",
       " 'intelligence),',\n",
       " 'tworzenie',\n",
       " 'rekomendacji',\n",
       " 'technicznych',\n",
       " 'oraz',\n",
       " 'ogólnych',\n",
       " 'dotyczących',\n",
       " 'cyberbezpieczeństwa',\n",
       " 'czy',\n",
       " 'prowadzenie',\n",
       " 'nadzoru',\n",
       " 'nad',\n",
       " 'podmiotami',\n",
       " 'krajowego',\n",
       " 'systemu',\n",
       " 'cyberbezpieczeństwa.',\n",
       " 'w',\n",
       " 'komunikacie',\n",
       " 'podano,',\n",
       " 'że',\n",
       " 'wysokość',\n",
       " 'świadczenia,',\n",
       " 'jakie',\n",
       " 'będzie',\n",
       " 'mogło',\n",
       " 'zostać',\n",
       " 'przyznane,',\n",
       " 'będzie',\n",
       " 'zależeć',\n",
       " 'od',\n",
       " 'doświadczenia',\n",
       " 'osoby',\n",
       " 'w',\n",
       " 'wykonywaniu',\n",
       " 'określonego',\n",
       " 'zadania,',\n",
       " 'co',\n",
       " 'ma',\n",
       " 'być',\n",
       " 'zachętą',\n",
       " 'dla',\n",
       " 'nowych',\n",
       " 'pracowników',\n",
       " 'do',\n",
       " 'specjalizowania',\n",
       " 'się',\n",
       " 'w',\n",
       " 'określonej',\n",
       " 'dziedzinie.',\n",
       " '\"przyjęte',\n",
       " 'rozwiązania',\n",
       " 'wzmocnią',\n",
       " 'instytucje',\n",
       " 'odpowiedzialne',\n",
       " 'za',\n",
       " 'cyberbezpieczeństwo',\n",
       " 'państwa,',\n",
       " 'pozwolą',\n",
       " 'im',\n",
       " 'utrzymać',\n",
       " 'obecnych',\n",
       " 'pracowników,',\n",
       " 'oraz',\n",
       " 'ułatwią',\n",
       " 'zatrudnianie',\n",
       " 'nowych',\n",
       " 'fachowców',\n",
       " 'na',\n",
       " 'atrakcyjnych,',\n",
       " 'rynkowych',\n",
       " 'zasadach\"',\n",
       " '-',\n",
       " 'napisano',\n",
       " 'w',\n",
       " 'komunikacie.',\n",
       " 'przypomniano,',\n",
       " 'że',\n",
       " 'świadczenie',\n",
       " 'teleinformatyczne',\n",
       " 'będzie',\n",
       " 'finansowane',\n",
       " 'z',\n",
       " 'funduszu',\n",
       " 'cyberbezpieczeństwa',\n",
       " '-',\n",
       " 'funduszu',\n",
       " 'celowego',\n",
       " 'powołanego',\n",
       " 'w',\n",
       " 'celu',\n",
       " 'zwiększenia',\n",
       " 'cyberbezpieczeństwa',\n",
       " 'państwa.',\n",
       " 'szacuje',\n",
       " 'się,',\n",
       " 'że',\n",
       " 'świadczenie',\n",
       " 'teleinformatyczne',\n",
       " 'będzie',\n",
       " 'mogło',\n",
       " 'otrzymać',\n",
       " 'ok.',\n",
       " '1000',\n",
       " 'pracowników',\n",
       " '-',\n",
       " 'przede',\n",
       " 'wszystkim',\n",
       " 'z',\n",
       " 'zespołów',\n",
       " 'reagowania',\n",
       " 'na',\n",
       " 'incydenty',\n",
       " 'bezpieczeństwa',\n",
       " 'komputerowego',\n",
       " 'poziomu',\n",
       " 'krajowego',\n",
       " '(tzw.',\n",
       " 'csirt),',\n",
       " 'służb',\n",
       " 'specjalnych,',\n",
       " 'ministerstw,',\n",
       " 'kancelarii',\n",
       " 'prezydenta,',\n",
       " 'sejmu',\n",
       " 'czy',\n",
       " 'senatu.',\n",
       " 'wprowadzone',\n",
       " 'zmiany',\n",
       " 'nie',\n",
       " 'dotyczą',\n",
       " 'osób',\n",
       " 'zajmujących',\n",
       " 'stanowiska',\n",
       " 'kierownicze',\n",
       " 'w',\n",
       " 'administracji',\n",
       " 'publicznej',\n",
       " '(ministrów',\n",
       " 'i',\n",
       " 'szefów',\n",
       " 'urzędów',\n",
       " 'centralnych).',\n",
       " 'minister',\n",
       " 'właściwy',\n",
       " 'ds.',\n",
       " 'informatyzacji',\n",
       " 'będzie',\n",
       " 'przedstawiał',\n",
       " 'sprawozdanie',\n",
       " 'z',\n",
       " 'realizacji',\n",
       " 'zadań',\n",
       " 'funduszu',\n",
       " 'sejmowej',\n",
       " 'komisji',\n",
       " 'ds.',\n",
       " 'służb',\n",
       " 'specjalnych.(pap)',\n",
       " 'autor:',\n",
       " 'łukasz',\n",
       " 'pawłowski',\n",
       " 'wiceprezydent',\n",
       " 'usa',\n",
       " 'kamala',\n",
       " 'harris',\n",
       " 'oficjalnie',\n",
       " 'zaprzysiężyła',\n",
       " 'w',\n",
       " 'środę',\n",
       " 'marka',\n",
       " 'brzezinskiego',\n",
       " 'na',\n",
       " 'ambasadora',\n",
       " 'usa',\n",
       " 'w',\n",
       " 'polsce.',\n",
       " 'kończy',\n",
       " 'to',\n",
       " 'roczny',\n",
       " 'okres',\n",
       " 'bez',\n",
       " 'ambasadora',\n",
       " 'stanów',\n",
       " 'zjednoczonych',\n",
       " 'w',\n",
       " 'warszawie.',\n",
       " 'czytaj',\n",
       " 'dalej',\n",
       " 'podczas',\n",
       " 'ceremonii',\n",
       " 'w',\n",
       " 'budynku',\n",
       " 'eisenhowera',\n",
       " 'mieszczącego',\n",
       " 'się',\n",
       " 'w',\n",
       " 'kompleksie',\n",
       " 'białego',\n",
       " 'domu',\n",
       " 'brzezinskiemu',\n",
       " 'towarzyszyły',\n",
       " 'córka',\n",
       " 'aurora',\n",
       " 'oraz',\n",
       " 'siostra',\n",
       " 'mika,',\n",
       " 'które',\n",
       " 'trzymały',\n",
       " 'biblię,',\n",
       " 'na',\n",
       " 'którą',\n",
       " 'przysięgę',\n",
       " 'złożył',\n",
       " 'mianowany',\n",
       " 'dyplomata.',\n",
       " 'obecny',\n",
       " 'był',\n",
       " 'też',\n",
       " 'jego',\n",
       " 'brat',\n",
       " 'ian,',\n",
       " 'który',\n",
       " 'pracował',\n",
       " 'między',\n",
       " 'innymi',\n",
       " 'w',\n",
       " 'pentagonie',\n",
       " 'w',\n",
       " 'administracji',\n",
       " \"george'a\",\n",
       " 'w.',\n",
       " 'busha.',\n",
       " 'mika',\n",
       " 'brzezinski,',\n",
       " 'znana',\n",
       " 'prezenterka',\n",
       " 'telewizji',\n",
       " 'msnbc,',\n",
       " 'podała',\n",
       " 'w',\n",
       " 'styczniu,',\n",
       " 'że',\n",
       " 'nowy',\n",
       " 'ambasador',\n",
       " 'został',\n",
       " '\"administracyjnie\"',\n",
       " 'zaprzysiężony',\n",
       " 'już',\n",
       " '22',\n",
       " 'grudnia.',\n",
       " 'biały',\n",
       " 'dom',\n",
       " 'informował',\n",
       " 'wcześniej,',\n",
       " 'że',\n",
       " 'amerykańskie',\n",
       " 'przepisy',\n",
       " 'nie',\n",
       " 'wymagają,',\n",
       " 'by',\n",
       " 'zaprzysiężenia',\n",
       " 'dokonywał',\n",
       " 'prezydent',\n",
       " 'lub',\n",
       " 'wiceprezydent.',\n",
       " 'w',\n",
       " 'grudniu',\n",
       " 'kandydatura',\n",
       " 'brzezinskiego',\n",
       " 'została',\n",
       " 'zatwierdzona',\n",
       " 'przez',\n",
       " 'senat',\n",
       " 'usa',\n",
       " 'przez',\n",
       " 'aklamację.',\n",
       " 'będzie',\n",
       " 'to',\n",
       " 'druga',\n",
       " 'dyplomatyczna',\n",
       " 'misja',\n",
       " 'brzezinskiego',\n",
       " 'jako',\n",
       " 'ambasadora.',\n",
       " 'za',\n",
       " 'kadencji',\n",
       " 'prezydenta',\n",
       " 'baracka',\n",
       " 'obamy',\n",
       " 'był',\n",
       " 'ambasadorem',\n",
       " 'usa',\n",
       " 'w',\n",
       " 'szwecji.',\n",
       " 'wcześniej',\n",
       " 'był',\n",
       " 'm.in.',\n",
       " 'dyrektorem',\n",
       " 'ds.',\n",
       " 'rosji',\n",
       " 'w',\n",
       " 'radzie',\n",
       " 'bezpieczeństwa',\n",
       " 'narodowego',\n",
       " 'w',\n",
       " 'administracji',\n",
       " 'billa',\n",
       " 'clintona.',\n",
       " 'był',\n",
       " 'też',\n",
       " 'jednym',\n",
       " 'z',\n",
       " 'doradców',\n",
       " \"joe'go\",\n",
       " 'bidena',\n",
       " 'podczas',\n",
       " 'jego',\n",
       " 'zwycięskiej',\n",
       " 'kampanii',\n",
       " 'prezydenckiej',\n",
       " 'w',\n",
       " '2020',\n",
       " 'r.',\n",
       " 'mark',\n",
       " 'brzezinski',\n",
       " 'to',\n",
       " 'syn',\n",
       " 'zbigniewa',\n",
       " 'brzezińskiego,',\n",
       " 'byłego',\n",
       " 'doradcy',\n",
       " 'ds.',\n",
       " 'bezpieczeństwa',\n",
       " 'narodowego',\n",
       " 'prezydenta',\n",
       " \"jimmy'ego\",\n",
       " 'cartera.',\n",
       " 'z',\n",
       " 'wykształcenia',\n",
       " 'jest',\n",
       " 'prawnikiem',\n",
       " 'i',\n",
       " 'dyplomatą.',\n",
       " 'w',\n",
       " 'ramach',\n",
       " 'stypendium',\n",
       " 'fullbrighta',\n",
       " 'napisał',\n",
       " 'pracę',\n",
       " '\"walka',\n",
       " 'o',\n",
       " 'konstytucjonalizm',\n",
       " 'w',\n",
       " 'polsce\".',\n",
       " 'za',\n",
       " 'działalność',\n",
       " 'na',\n",
       " 'rzecz',\n",
       " 'polski',\n",
       " 'został',\n",
       " 'w',\n",
       " '2009',\n",
       " 'r.',\n",
       " 'odznaczony',\n",
       " 'krzyżem',\n",
       " 'oficerskim',\n",
       " 'orderu',\n",
       " 'zasługi',\n",
       " 'rzeczypospolitej',\n",
       " 'polskiej.',\n",
       " 'z',\n",
       " 'waszyngtonu',\n",
       " 'oskar',\n",
       " 'górzyński',\n",
       " '(pap)',\n",
       " 'prokuratura',\n",
       " 'generalna',\n",
       " 'portugalii',\n",
       " 'wszczęła',\n",
       " 'w',\n",
       " 'środę',\n",
       " 'śledztwo',\n",
       " 'w',\n",
       " 'sprawie',\n",
       " 'przyznania',\n",
       " 'obywatelstwa',\n",
       " 'tego',\n",
       " 'kraju',\n",
       " 'oligarsze',\n",
       " 'z',\n",
       " 'rosji',\n",
       " 'romanowi',\n",
       " 'abramowiczowi,',\n",
       " 'jednemu',\n",
       " 'z',\n",
       " 'najbogatszych',\n",
       " 'ludzi',\n",
       " 'świata.',\n",
       " 'portugalski',\n",
       " 'paszport',\n",
       " 'biznesmen',\n",
       " 'związany',\n",
       " 'z',\n",
       " 'kremlem',\n",
       " 'otrzymał',\n",
       " 'w',\n",
       " 'kwietniu',\n",
       " '2021',\n",
       " 'r.',\n",
       " 'prokuratura',\n",
       " 'generalna',\n",
       " 'wyjaśniła,',\n",
       " 'że',\n",
       " 'przedmiotem',\n",
       " 'dochodzenia',\n",
       " 'będą',\n",
       " 'procedury',\n",
       " 'podjęte',\n",
       " 'przez',\n",
       " 'gminę',\n",
       " 'żydowską',\n",
       " 'z',\n",
       " 'porto.',\n",
       " 'miała',\n",
       " 'ona',\n",
       " 'wydać',\n",
       " 'dokument',\n",
       " 'potwierdzający,',\n",
       " 'że',\n",
       " 'jako',\n",
       " 'członek',\n",
       " 'wspólnoty',\n",
       " 'żydów',\n",
       " 'sefardyjskich',\n",
       " 'abramowicz',\n",
       " 'może',\n",
       " 'ubiegać',\n",
       " 'się',\n",
       " 'o',\n",
       " 'portugalski',\n",
       " 'paszport.',\n",
       " 'były',\n",
       " 'gubernator',\n",
       " 'czukotki,',\n",
       " 'który',\n",
       " 'od',\n",
       " '2003',\n",
       " 'r.',\n",
       " 'jest',\n",
       " 'właścicielem',\n",
       " 'piłkarskiego',\n",
       " 'klubu',\n",
       " 'chelsea',\n",
       " 'londyn,',\n",
       " 'otrzymał',\n",
       " 'obywatelstwo',\n",
       " 'portugalii',\n",
       " 'w',\n",
       " 'kwietniu',\n",
       " '2021',\n",
       " 'r.,',\n",
       " 'ale',\n",
       " 'informacja',\n",
       " 'ta',\n",
       " 'ujrzała',\n",
       " 'światło',\n",
       " 'dzienne',\n",
       " 'dopiero',\n",
       " 'w',\n",
       " 'grudniu',\n",
       " 'po',\n",
       " 'dziennikarskim',\n",
       " 'dochodzeniu',\n",
       " 'lizbońskiego',\n",
       " 'dziennika',\n",
       " '“publico”.',\n",
       " 'informacja',\n",
       " 'o',\n",
       " 'przyznaniu',\n",
       " 'abramowiczowi',\n",
       " 'obywatelstwa',\n",
       " 'portugalii',\n",
       " 'wywołała',\n",
       " 'w',\n",
       " 'ostatnich',\n",
       " 'dniach',\n",
       " 'szereg',\n",
       " 'krytycznych',\n",
       " 'opinii',\n",
       " 'ze',\n",
       " 'strony',\n",
       " 'części',\n",
       " 'komentatorów.',\n",
       " 'wskazują',\n",
       " 'oni',\n",
       " 'm.in.,',\n",
       " 'że',\n",
       " 'rosyjski',\n",
       " 'oligarcha',\n",
       " 'nie',\n",
       " 'wywodzi',\n",
       " 'się',\n",
       " 'z',\n",
       " 'linii',\n",
       " 'żydów',\n",
       " 'sefardyjskich,',\n",
       " 'przez',\n",
       " 'co',\n",
       " 'nie',\n",
       " 'miał',\n",
       " 'prawa',\n",
       " 'otrzymać',\n",
       " 'paszportu',\n",
       " 'portugalii.',\n",
       " 'telewizja',\n",
       " 'publiczna',\n",
       " 'rtp',\n",
       " 'zauważyła,',\n",
       " 'że',\n",
       " 'wśród',\n",
       " 'krytyków',\n",
       " 'decyzji',\n",
       " 'w',\n",
       " 'sprawie',\n",
       " 'powiązanego',\n",
       " 'z',\n",
       " 'kremlem',\n",
       " 'oligarchy',\n",
       " 'jest',\n",
       " 'wtrącony',\n",
       " 'do',\n",
       " 'łagru',\n",
       " 'przez',\n",
       " 'reżim',\n",
       " 'prezydenta',\n",
       " 'władimira',\n",
       " 'putina',\n",
       " 'opozycjonista',\n",
       " 'aleksiej',\n",
       " 'nawalny.',\n",
       " 'stwierdził',\n",
       " 'on,',\n",
       " 'że',\n",
       " 'portugalia',\n",
       " '“poszła',\n",
       " 'na',\n",
       " ...]"
      ]
     },
     "execution_count": 26,
     "metadata": {},
     "output_type": "execute_result"
    }
   ],
   "source": [
    "corpus"
   ]
  },
  {
   "cell_type": "code",
   "execution_count": 47,
   "metadata": {
    "pycharm": {
     "name": "#%%\n"
    }
   },
   "outputs": [
    {
     "name": "stdout",
     "output_type": "stream",
     "text": [
      "[('–', 52443),\n",
      " ('w', 41469),\n",
      " ('na', 26058),\n",
      " ('z', 25467),\n",
      " ('przyrost', 24071),\n",
      " ('i', 22434),\n",
      " ('do', 18291),\n",
      " ('się', 16632),\n",
      " ('że', 14087),\n",
      " ('nie', 12469)]\n"
     ]
    }
   ],
   "source": [
    "counter=Counter(corpus)\n",
    "most=counter.most_common()\n",
    "pprint(most[0:10])"
   ]
  },
  {
   "cell_type": "code",
   "execution_count": 28,
   "metadata": {
    "pycharm": {
     "name": "#%%\n"
    }
   },
   "outputs": [
    {
     "data": {
      "text/plain": [
       "149992"
      ]
     },
     "execution_count": 28,
     "metadata": {},
     "output_type": "execute_result"
    }
   ],
   "source": [
    "len(counter.keys())"
   ]
  },
  {
   "cell_type": "code",
   "execution_count": 29,
   "metadata": {
    "pycharm": {
     "name": "#%%\n"
    }
   },
   "outputs": [],
   "source": [
    "first_n = 40\n",
    "x, y= [], []\n",
    "for word,count in most[:first_n]:\n",
    "        x.append(word)\n",
    "        y.append(count)"
   ]
  },
  {
   "cell_type": "code",
   "execution_count": 30,
   "metadata": {
    "pycharm": {
     "name": "#%%\n"
    }
   },
   "outputs": [
    {
     "name": "stdout",
     "output_type": "stream",
     "text": [
      "40 najczęściej występujących słów w korpusie\n"
     ]
    },
    {
     "data": {
      "image/png": "[encoded data removed]",
      "text/plain": [
       "<Figure size 720x720 with 1 Axes>"
      ]
     },
     "metadata": {
      "needs_background": "light"
     },
     "output_type": "display_data"
    }
   ],
   "source": [
    "plt.figure(figsize=(10, 10))\n",
    "sns.barplot(x=y,y=x)\n",
    "print(f\"{first_n} najczęściej występujących słów w korpusie\")"
   ]
  },
  {
   "cell_type": "code",
   "execution_count": 31,
   "metadata": {
    "pycharm": {
     "name": "#%%\n"
    }
   },
   "outputs": [
    {
     "name": "stdout",
     "output_type": "stream",
     "text": [
      "lista języków z dostępnymi stopwordami w nltk:\n",
      "['arabic', 'azerbaijani', 'bengali', 'danish', 'dutch', 'english', 'finnish', 'french', 'german', 'greek', 'hungarian', 'indonesian', 'italian', 'kazakh', 'nepali', 'norwegian', 'portuguese', 'romanian', 'russian', 'slovene', 'spanish', 'swedish', 'tajik', 'turkish']\n"
     ]
    }
   ],
   "source": [
    "print('lista języków z dostępnymi stopwordami w nltk:')\n",
    "print(stopwords.fileids())\n",
    "# brakuje polskich stopwords w nltk więc musimy kombinować\n",
    "# nltk.download('stopwords')\n",
    "# stop=set(stopwords.words('polish'))\n",
    "# polskie stopwords możemy znaleźć np. na https://github.com/bieli/stopwords/blob/master/polish.stopwords.txt"
   ]
  },
  {
   "cell_type": "code",
   "execution_count": 32,
   "metadata": {
    "pycharm": {
     "name": "#%%\n"
    }
   },
   "outputs": [],
   "source": [
    "stop = set(PolishLocaleHelper.stopwords)"
   ]
  },
  {
   "cell_type": "code",
   "execution_count": 33,
   "metadata": {
    "pycharm": {
     "name": "#%%\n"
    }
   },
   "outputs": [
    {
     "name": "stdout",
     "output_type": "stream",
     "text": [
      "przyrost\n",
      "galaxy\n"
     ]
    }
   ],
   "source": [
    "first_n = 40\n",
    "x, y= [], []\n",
    "for word,count in most[:first_n]:\n",
    "    if word not in stop:\n",
    "        x.append(word)\n",
    "        y.append(count)\n",
    "        print(word)"
   ]
  },
  {
   "cell_type": "code",
   "execution_count": 34,
   "metadata": {
    "pycharm": {
     "name": "#%%\n"
    }
   },
   "outputs": [
    {
     "name": "stdout",
     "output_type": "stream",
     "text": [
      "40 najczęściej występujących słów w korpusie po usunięciu stopwords\n"
     ]
    },
    {
     "data": {
      "image/png": "[encoded data removed]",
      "text/plain": [
       "<Figure size 432x288 with 1 Axes>"
      ]
     },
     "metadata": {
      "needs_background": "light"
     },
     "output_type": "display_data"
    }
   ],
   "source": [
    "sns.barplot(x=y,y=x)\n",
    "print(f\"{first_n} najczęściej występujących słów w korpusie po usunięciu stopwords\")"
   ]
  },
  {
   "cell_type": "code",
   "execution_count": 43,
   "metadata": {
    "pycharm": {
     "name": "#%%\n"
    }
   },
   "outputs": [
    {
     "name": "stdout",
     "output_type": "stream",
     "text": [
      "Liczba stopwordów dla języka polskiego: 364\n",
      "Stopword'y z NLTK mają typ <class 'set'> \n",
      "\n",
      "[',',\n",
      " '-',\n",
      " '.',\n",
      " '1',\n",
      " '11',\n",
      " '12',\n",
      " '13',\n",
      " '2',\n",
      " '2021',\n",
      " '3',\n",
      " '4',\n",
      " 'a',\n",
      " 'aby',\n",
      " 'ach',\n",
      " 'acz',\n",
      " 'aczkolwiek',\n",
      " 'aj',\n",
      " 'albo',\n",
      " 'ale',\n",
      " 'alez',\n",
      " 'ależ',\n",
      " 'ani',\n",
      " 'az',\n",
      " 'aż',\n",
      " 'bardziej',\n",
      " 'bardzo',\n",
      " 'beda',\n",
      " 'bede',\n",
      " 'bedzie',\n",
      " 'bez',\n",
      " 'bo',\n",
      " 'bowiem',\n",
      " 'by',\n",
      " 'byc',\n",
      " 'byl',\n",
      " 'byla',\n",
      " 'byli',\n",
      " 'bylo',\n",
      " 'byly',\n",
      " 'bynajmniej',\n",
      " 'być',\n",
      " 'był',\n",
      " 'była',\n",
      " 'było',\n",
      " 'były',\n",
      " 'będzie',\n",
      " 'będą',\n",
      " 'będę',\n",
      " 'cala',\n",
      " 'cali',\n",
      " 'caly',\n",
      " 'cała',\n",
      " 'cały',\n",
      " 'ci',\n",
      " 'cie',\n",
      " 'ciebie',\n",
      " 'cię',\n",
      " 'co',\n",
      " 'cokolwiek',\n",
      " 'cos',\n",
      " 'coś',\n",
      " 'czasami',\n",
      " 'czasem',\n",
      " 'czemu',\n",
      " 'czy',\n",
      " 'czyli',\n",
      " 'daleko',\n",
      " 'deda',\n",
      " 'dla',\n",
      " 'dlaczego',\n",
      " 'dlatego',\n",
      " 'do',\n",
      " 'dobrze',\n",
      " 'dokad',\n",
      " 'dokąd',\n",
      " 'dosc',\n",
      " 'dość',\n",
      " 'duzo',\n",
      " 'dużo',\n",
      " 'dwa',\n",
      " 'dwaj',\n",
      " 'dwie',\n",
      " 'dwoje',\n",
      " 'dzis',\n",
      " 'dzisiaj',\n",
      " 'dziś',\n",
      " 'gdy',\n",
      " 'gdyby',\n",
      " 'gdyz',\n",
      " 'gdyż',\n",
      " 'gdzie',\n",
      " 'gdziekolwiek',\n",
      " 'gdzies',\n",
      " 'gdzieś',\n",
      " 'go',\n",
      " 'i',\n",
      " 'ich',\n",
      " 'ile',\n",
      " 'im',\n",
      " 'inna',\n",
      " 'inne',\n",
      " 'inny',\n",
      " 'innych',\n",
      " 'iz',\n",
      " 'iż',\n",
      " 'ja',\n",
      " 'jak',\n",
      " 'jakas',\n",
      " 'jakaś',\n",
      " 'jakby',\n",
      " 'jaki',\n",
      " 'jakichs',\n",
      " 'jakichś',\n",
      " 'jakie',\n",
      " 'jakis',\n",
      " 'jakiz',\n",
      " 'jakiś',\n",
      " 'jakiż',\n",
      " 'jakkolwiek',\n",
      " 'jako',\n",
      " 'jakos',\n",
      " 'jakoś',\n",
      " 'je',\n",
      " 'jeden',\n",
      " 'jedna',\n",
      " 'jednak',\n",
      " 'jednakze',\n",
      " 'jednakże',\n",
      " 'jedno',\n",
      " 'jego',\n",
      " 'jej',\n",
      " 'jemu',\n",
      " 'jesli',\n",
      " 'jest',\n",
      " 'jestem',\n",
      " 'jeszcze',\n",
      " 'jezeli',\n",
      " 'jeśli',\n",
      " 'jeżeli',\n",
      " 'juz',\n",
      " 'już',\n",
      " 'ją',\n",
      " 'kazdy',\n",
      " 'każdy',\n",
      " 'kiedy',\n",
      " 'kilka',\n",
      " 'kims',\n",
      " 'kimś',\n",
      " 'kto',\n",
      " 'ktokolwiek',\n",
      " 'ktora',\n",
      " 'ktore',\n",
      " 'ktorego',\n",
      " 'ktorej',\n",
      " 'ktory',\n",
      " 'ktorych',\n",
      " 'ktorym',\n",
      " 'ktorzy',\n",
      " 'ktos',\n",
      " 'ktoś',\n",
      " 'która',\n",
      " 'które',\n",
      " 'którego',\n",
      " 'której',\n",
      " 'który',\n",
      " 'których',\n",
      " 'którym',\n",
      " 'którzy',\n",
      " 'ku',\n",
      " 'lat',\n",
      " 'lecz',\n",
      " 'lub',\n",
      " 'ma',\n",
      " 'mają',\n",
      " 'mam',\n",
      " 'mało',\n",
      " 'mi',\n",
      " 'miedzy',\n",
      " 'mimo',\n",
      " 'między',\n",
      " 'mna',\n",
      " 'mnie',\n",
      " 'mną',\n",
      " 'moga',\n",
      " 'mogą',\n",
      " 'moi',\n",
      " 'moim',\n",
      " 'moj',\n",
      " 'moja',\n",
      " 'moje',\n",
      " 'moze',\n",
      " 'mozliwe',\n",
      " 'mozna',\n",
      " 'może',\n",
      " 'możliwe',\n",
      " 'można',\n",
      " 'mu',\n",
      " 'musi',\n",
      " 'my',\n",
      " 'mój',\n",
      " 'na',\n",
      " 'nad',\n",
      " 'nam',\n",
      " 'nami',\n",
      " 'nas',\n",
      " 'nasi',\n",
      " 'nasz',\n",
      " 'nasza',\n",
      " 'nasze',\n",
      " 'naszego',\n",
      " 'naszych',\n",
      " 'natomiast',\n",
      " 'natychmiast',\n",
      " 'nawet',\n",
      " 'nia',\n",
      " 'nic',\n",
      " 'nich',\n",
      " 'nie',\n",
      " 'niech',\n",
      " 'niego',\n",
      " 'niej',\n",
      " 'niemu',\n",
      " 'nigdy',\n",
      " 'nim',\n",
      " 'nimi',\n",
      " 'niz',\n",
      " 'nią',\n",
      " 'niż',\n",
      " 'no',\n",
      " 'o',\n",
      " 'obok',\n",
      " 'od',\n",
      " 'około',\n",
      " 'on',\n",
      " 'ona',\n",
      " 'one',\n",
      " 'oni',\n",
      " 'ono',\n",
      " 'oraz',\n",
      " 'oto',\n",
      " 'owszem',\n",
      " 'pan',\n",
      " 'pana',\n",
      " 'pani',\n",
      " 'po',\n",
      " 'pod',\n",
      " 'podczas',\n",
      " 'pomimo',\n",
      " 'ponad',\n",
      " 'poniewaz',\n",
      " 'ponieważ',\n",
      " 'powinien',\n",
      " 'powinna',\n",
      " 'powinni',\n",
      " 'powinno',\n",
      " 'poza',\n",
      " 'prawie',\n",
      " 'przeciez',\n",
      " 'przecież',\n",
      " 'przed',\n",
      " 'przede',\n",
      " 'przedtem',\n",
      " 'przez',\n",
      " 'przy',\n",
      " 'r.',\n",
      " 'roku',\n",
      " 'rowniez',\n",
      " 'również',\n",
      " 'sam',\n",
      " 'sama',\n",
      " 'sie',\n",
      " 'się',\n",
      " 'skad',\n",
      " 'skąd',\n",
      " 'soba',\n",
      " 'sobie',\n",
      " 'sobą',\n",
      " 'sposob',\n",
      " 'sposób',\n",
      " 'swoje',\n",
      " 'są',\n",
      " 'ta',\n",
      " 'tak',\n",
      " 'taka',\n",
      " 'taki',\n",
      " 'takie',\n",
      " 'takze',\n",
      " 'także',\n",
      " 'tam',\n",
      " 'te',\n",
      " 'tego',\n",
      " 'tej',\n",
      " 'ten',\n",
      " 'teraz',\n",
      " 'też',\n",
      " 'to',\n",
      " 'toba',\n",
      " 'tobie',\n",
      " 'tobą',\n",
      " 'totez',\n",
      " 'toteż',\n",
      " 'totobą',\n",
      " 'trzeba',\n",
      " 'tu',\n",
      " 'tutaj',\n",
      " 'twoi',\n",
      " 'twoim',\n",
      " 'twoj',\n",
      " 'twoja',\n",
      " 'twoje',\n",
      " 'twym',\n",
      " 'twój',\n",
      " 'ty',\n",
      " 'tych',\n",
      " 'tylko',\n",
      " 'tym',\n",
      " 'u',\n",
      " 'w',\n",
      " 'wam',\n",
      " 'wami',\n",
      " 'was',\n",
      " 'wasz',\n",
      " 'wasza',\n",
      " 'wasze',\n",
      " 'we',\n",
      " 'według',\n",
      " 'wiele',\n",
      " 'wielu',\n",
      " 'więc',\n",
      " 'więcej',\n",
      " 'wlasnie',\n",
      " 'wszyscy',\n",
      " 'wszystkich',\n",
      " 'wszystkie',\n",
      " 'wszystkim',\n",
      " 'wszystko',\n",
      " 'wtedy',\n",
      " 'wy',\n",
      " 'właśnie',\n",
      " 'z',\n",
      " 'za',\n",
      " 'zaden',\n",
      " 'zadna',\n",
      " 'zadne',\n",
      " 'zadnych',\n",
      " 'zapewne',\n",
      " 'zawsze',\n",
      " 'ze',\n",
      " 'zeby',\n",
      " 'zeznowu',\n",
      " 'znow',\n",
      " 'znowu',\n",
      " 'znów',\n",
      " 'zostal',\n",
      " 'został',\n",
      " 'zł',\n",
      " 'żaden',\n",
      " 'żadna',\n",
      " 'żadne',\n",
      " 'żadnych',\n",
      " 'że',\n",
      " 'żeby',\n",
      " '–',\n",
      " '—']\n"
     ]
    }
   ],
   "source": [
    "print(f\"Liczba stopwordów dla języka polskiego: {len(stop)}\")\n",
    "print(f\"Stopword'y z NLTK mają typ {type(stop)} \\n\")\n",
    "pprint(sorted(stop))"
   ]
  },
  {
   "cell_type": "code",
   "execution_count": 36,
   "metadata": {
    "pycharm": {
     "name": "#%%\n"
    }
   },
   "outputs": [],
   "source": [
    "most_nostop = []\n",
    "for word, count in most:\n",
    "    if word.lower() not in stop:\n",
    "        most_nostop.append((word, count))"
   ]
  },
  {
   "cell_type": "code",
   "execution_count": 48,
   "metadata": {
    "pycharm": {
     "name": "#%%\n"
    }
   },
   "outputs": [
    {
     "name": "stdout",
     "output_type": "stream",
     "text": [
      "20 najczęściej występujących słów w korpusie bez stopwords\n"
     ]
    },
    {
     "data": {
      "image/png": "[encoded data removed]",
      "text/plain": [
       "<Figure size 720x720 with 1 Axes>"
      ]
     },
     "metadata": {
      "needs_background": "light"
     },
     "output_type": "display_data"
    }
   ],
   "source": [
    "# aby uzyskać 40 najczęściej występujących słów najpierw odfiltrujmy stopwordy\n",
    "# niestety pozostały szumy (np. /><br czy />The)\n",
    "first_n = 20\n",
    "x, y= [], []\n",
    "for word,count in most_nostop[:first_n]:\n",
    "        x.append(word)\n",
    "        y.append(count)\n",
    "\n",
    "plt.figure(figsize=(10, 10))\n",
    "sns.barplot(x=y,y=x)\n",
    "print(f\"{first_n} najczęściej występujących słów w korpusie bez stopwords\")"
   ]
  },
  {
   "cell_type": "code",
   "execution_count": 2,
   "metadata": {
    "pycharm": {
     "name": "#%%\n"
    }
   },
   "outputs": [
    {
     "ename": "NameError",
     "evalue": "name 'WordCloud' is not defined",
     "output_type": "error",
     "traceback": [
      "\u001B[1;31m---------------------------------------------------------------------------\u001B[0m",
      "\u001B[1;31mNameError\u001B[0m                                 Traceback (most recent call last)",
      "\u001B[1;32m~\\AppData\\Local\\Temp/ipykernel_24068/4285357295.py\u001B[0m in \u001B[0;36m<module>\u001B[1;34m\u001B[0m\n\u001B[1;32m----> 1\u001B[1;33m wordcloud = WordCloud(width = 800, height = 800,\n\u001B[0m\u001B[0;32m      2\u001B[0m                 \u001B[0mbackground_color\u001B[0m \u001B[1;33m=\u001B[0m\u001B[1;34m'white'\u001B[0m\u001B[1;33m,\u001B[0m\u001B[1;33m\u001B[0m\u001B[1;33m\u001B[0m\u001B[0m\n\u001B[0;32m      3\u001B[0m                 \u001B[0mstopwords\u001B[0m \u001B[1;33m=\u001B[0m \u001B[0mstopwords\u001B[0m\u001B[1;33m,\u001B[0m\u001B[1;33m\u001B[0m\u001B[1;33m\u001B[0m\u001B[0m\n\u001B[0;32m      4\u001B[0m                 min_font_size = 10).generate(most_nostop)\n\u001B[0;32m      5\u001B[0m \u001B[1;33m\u001B[0m\u001B[0m\n",
      "\u001B[1;31mNameError\u001B[0m: name 'WordCloud' is not defined"
     ]
    }
   ],
   "source": [
    "# wordcloud = WordCloud(width = 800, height = 800,\n",
    "#                 background_color ='white',\n",
    "#                 stopwords = stopwords,\n",
    "#                 min_font_size = 10).generate(most_nostop)\n",
    "#\n",
    "# # plot the WordCloud image\n",
    "# plt.figure(figsize = (8, 8), facecolor = None)\n",
    "# plt.imshow(wordcloud)\n",
    "# plt.axis(\"off\")\n",
    "# plt.tight_layout(pad = 0)\n",
    "#\n",
    "# plt.show()"
   ]
  }
 ],
 "metadata": {
  "kernelspec": {
   "display_name": "Python 3 (ipykernel)",
   "language": "python",
   "name": "python3"
  },
  "language_info": {
   "codemirror_mode": {
    "name": "ipython",
    "version": 3
   },
   "file_extension": ".py",
   "mimetype": "text/x-python",
   "name": "python",
   "nbconvert_exporter": "python",
   "pygments_lexer": "ipython3",
   "version": "3.9.7"
  }
 },
 "nbformat": 4,
 "nbformat_minor": 1
}